{
 "cells": [
  {
   "cell_type": "markdown",
   "metadata": {},
   "source": [
    "# Setup"
   ]
  },
  {
   "cell_type": "code",
   "execution_count": 1,
   "metadata": {},
   "outputs": [],
   "source": [
    "# LOAD PACKAGES\n",
    "using Pkg"
   ]
  },
  {
   "cell_type": "code",
   "execution_count": 2,
   "metadata": {},
   "outputs": [
    {
     "name": "stderr",
     "output_type": "stream",
     "text": [
      "\u001b[32m\u001b[1m   Updating\u001b[22m\u001b[39m registry at `/srv/julia/pkg/registries/General`\n",
      "######################################################################### 100.0%\n",
      "\u001b[32m\u001b[1m  Resolving\u001b[22m\u001b[39m package versions...\n",
      "\u001b[32m\u001b[1m  Installed\u001b[22m\u001b[39m DataValueInterfaces ───────── v1.0.0\n",
      "\u001b[32m\u001b[1m  Installed\u001b[22m\u001b[39m PooledArrays ──────────────── v0.5.3\n",
      "\u001b[32m\u001b[1m  Installed\u001b[22m\u001b[39m IteratorInterfaceExtensions ─ v1.0.0\n",
      "\u001b[32m\u001b[1m  Installed\u001b[22m\u001b[39m DataAPI ───────────────────── v1.4.0\n",
      "\u001b[32m\u001b[1m  Installed\u001b[22m\u001b[39m SentinelArrays ────────────── v1.2.16\n",
      "\u001b[32m\u001b[1m  Installed\u001b[22m\u001b[39m Tables ────────────────────── v1.2.2\n",
      "\u001b[32m\u001b[1m  Installed\u001b[22m\u001b[39m CSV ───────────────────────── v0.8.2\n",
      "\u001b[32m\u001b[1m  Installed\u001b[22m\u001b[39m TableTraits ───────────────── v1.0.0\n",
      "\u001b[32m\u001b[1mUpdating\u001b[22m\u001b[39m `~/Project.toml`\n",
      " \u001b[90m [336ed68f] \u001b[39m\u001b[92m+ CSV v0.8.2\u001b[39m\n",
      "\u001b[32m\u001b[1mUpdating\u001b[22m\u001b[39m `~/Manifest.toml`\n",
      " \u001b[90m [336ed68f] \u001b[39m\u001b[92m+ CSV v0.8.2\u001b[39m\n",
      " \u001b[90m [9a962f9c] \u001b[39m\u001b[92m+ DataAPI v1.4.0\u001b[39m\n",
      " \u001b[90m [e2d170a0] \u001b[39m\u001b[92m+ DataValueInterfaces v1.0.0\u001b[39m\n",
      " \u001b[90m [82899510] \u001b[39m\u001b[92m+ IteratorInterfaceExtensions v1.0.0\u001b[39m\n",
      " \u001b[90m [69de0a69] \u001b[39m\u001b[92m+ Parsers v1.0.15\u001b[39m\n",
      " \u001b[90m [2dfb63ee] \u001b[39m\u001b[92m+ PooledArrays v0.5.3\u001b[39m\n",
      " \u001b[90m [91c51154] \u001b[39m\u001b[92m+ SentinelArrays v1.2.16\u001b[39m\n",
      " \u001b[90m [3783bdb8] \u001b[39m\u001b[92m+ TableTraits v1.0.0\u001b[39m\n",
      " \u001b[90m [bd369af6] \u001b[39m\u001b[92m+ Tables v1.2.2\u001b[39m\n",
      " \u001b[90m [2a0f44e3] \u001b[39m\u001b[92m+ Base64\u001b[39m\n",
      " \u001b[90m [ade2ca70] \u001b[39m\u001b[92m+ Dates\u001b[39m\n",
      " \u001b[90m [8ba89e20] \u001b[39m\u001b[92m+ Distributed\u001b[39m\n",
      " \u001b[90m [b77e0a4c] \u001b[39m\u001b[92m+ InteractiveUtils\u001b[39m\n",
      " \u001b[90m [8f399da3] \u001b[39m\u001b[92m+ Libdl\u001b[39m\n",
      " \u001b[90m [37e2e46d] \u001b[39m\u001b[92m+ LinearAlgebra\u001b[39m\n",
      " \u001b[90m [56ddb016] \u001b[39m\u001b[92m+ Logging\u001b[39m\n",
      " \u001b[90m [d6f4376e] \u001b[39m\u001b[92m+ Markdown\u001b[39m\n",
      " \u001b[90m [a63ad114] \u001b[39m\u001b[92m+ Mmap\u001b[39m\n",
      " \u001b[90m [de0858da] \u001b[39m\u001b[92m+ Printf\u001b[39m\n",
      " \u001b[90m [9a3f8284] \u001b[39m\u001b[92m+ Random\u001b[39m\n",
      " \u001b[90m [9e88b42a] \u001b[39m\u001b[92m+ Serialization\u001b[39m\n",
      " \u001b[90m [6462fe0b] \u001b[39m\u001b[92m+ Sockets\u001b[39m\n",
      " \u001b[90m [8dfed614] \u001b[39m\u001b[92m+ Test\u001b[39m\n",
      " \u001b[90m [4ec0a83e] \u001b[39m\u001b[92m+ Unicode\u001b[39m\n",
      "\u001b[32m\u001b[1m  Resolving\u001b[22m\u001b[39m package versions...\n",
      "\u001b[32m\u001b[1m  Installed\u001b[22m\u001b[39m SortingAlgorithms ── v0.3.1\n",
      "\u001b[32m\u001b[1m  Installed\u001b[22m\u001b[39m InvertedIndices ──── v1.0.0\n",
      "\u001b[32m\u001b[1m  Installed\u001b[22m\u001b[39m DataFrames ───────── v0.22.2\n",
      "\u001b[32m\u001b[1m  Installed\u001b[22m\u001b[39m Compat ───────────── v3.25.0\n",
      "\u001b[32m\u001b[1m  Installed\u001b[22m\u001b[39m Reexport ─────────── v0.2.0\n",
      "\u001b[32m\u001b[1m  Installed\u001b[22m\u001b[39m OrderedCollections ─ v1.3.2\n",
      "\u001b[32m\u001b[1m  Installed\u001b[22m\u001b[39m DataStructures ───── v0.18.8\n",
      "\u001b[32m\u001b[1m  Installed\u001b[22m\u001b[39m StructTypes ──────── v1.2.1\n",
      "\u001b[32m\u001b[1m  Installed\u001b[22m\u001b[39m Formatting ───────── v0.4.2\n",
      "\u001b[32m\u001b[1m  Installed\u001b[22m\u001b[39m Missings ─────────── v0.4.4\n",
      "\u001b[32m\u001b[1m  Installed\u001b[22m\u001b[39m Crayons ──────────── v4.0.4\n",
      "\u001b[32m\u001b[1m  Installed\u001b[22m\u001b[39m PrettyTables ─────── v0.10.1\n",
      "\u001b[32m\u001b[1m  Installed\u001b[22m\u001b[39m CategoricalArrays ── v0.9.0\n",
      "\u001b[32m\u001b[1mUpdating\u001b[22m\u001b[39m `~/Project.toml`\n",
      " \u001b[90m [a93c6f00] \u001b[39m\u001b[92m+ DataFrames v0.22.2\u001b[39m\n",
      "\u001b[32m\u001b[1mUpdating\u001b[22m\u001b[39m `~/Manifest.toml`\n",
      " \u001b[90m [324d7699] \u001b[39m\u001b[92m+ CategoricalArrays v0.9.0\u001b[39m\n",
      " \u001b[90m [34da2185] \u001b[39m\u001b[92m+ Compat v3.25.0\u001b[39m\n",
      " \u001b[90m [a8cc5b0e] \u001b[39m\u001b[92m+ Crayons v4.0.4\u001b[39m\n",
      " \u001b[90m [a93c6f00] \u001b[39m\u001b[92m+ DataFrames v0.22.2\u001b[39m\n",
      " \u001b[90m [864edb3b] \u001b[39m\u001b[92m+ DataStructures v0.18.8\u001b[39m\n",
      " \u001b[90m [59287772] \u001b[39m\u001b[92m+ Formatting v0.4.2\u001b[39m\n",
      " \u001b[90m [41ab1584] \u001b[39m\u001b[92m+ InvertedIndices v1.0.0\u001b[39m\n",
      " \u001b[90m [682c06a0] \u001b[39m\u001b[92m+ JSON v0.21.1\u001b[39m\n",
      " \u001b[90m [e1d29d7a] \u001b[39m\u001b[92m+ Missings v0.4.4\u001b[39m\n",
      " \u001b[90m [bac558e1] \u001b[39m\u001b[92m+ OrderedCollections v1.3.2\u001b[39m\n",
      " \u001b[90m [08abe8d2] \u001b[39m\u001b[92m+ PrettyTables v0.10.1\u001b[39m\n",
      " \u001b[90m [189a3867] \u001b[39m\u001b[92m+ Reexport v0.2.0\u001b[39m\n",
      " \u001b[90m [a2af1166] \u001b[39m\u001b[92m+ SortingAlgorithms v0.3.1\u001b[39m\n",
      " \u001b[90m [856f2bd8] \u001b[39m\u001b[92m+ StructTypes v1.2.1\u001b[39m\n",
      " \u001b[90m [8bb1440f] \u001b[39m\u001b[92m+ DelimitedFiles\u001b[39m\n",
      " \u001b[90m [9fa8497b] \u001b[39m\u001b[92m+ Future\u001b[39m\n",
      " \u001b[90m [76f85450] \u001b[39m\u001b[92m+ LibGit2\u001b[39m\n",
      " \u001b[90m [44cfe95a] \u001b[39m\u001b[92m+ Pkg\u001b[39m\n",
      " \u001b[90m [3fa0cd96] \u001b[39m\u001b[92m+ REPL\u001b[39m\n",
      " \u001b[90m [ea8e919c] \u001b[39m\u001b[92m+ SHA\u001b[39m\n",
      " \u001b[90m [1a1011a3] \u001b[39m\u001b[92m+ SharedArrays\u001b[39m\n",
      " \u001b[90m [2f01184e] \u001b[39m\u001b[92m+ SparseArrays\u001b[39m\n",
      " \u001b[90m [10745b16] \u001b[39m\u001b[92m+ Statistics\u001b[39m\n",
      " \u001b[90m [cf7118a7] \u001b[39m\u001b[92m+ UUIDs\u001b[39m\n",
      "\u001b[32m\u001b[1m  Resolving\u001b[22m\u001b[39m package versions...\n",
      "\u001b[32m\u001b[1m  Installed\u001b[22m\u001b[39m FreqTables ──── v0.4.2\n",
      "\u001b[32m\u001b[1m  Installed\u001b[22m\u001b[39m Requires ────── v1.1.2\n",
      "\u001b[32m\u001b[1m  Installed\u001b[22m\u001b[39m Combinatorics ─ v1.0.2\n",
      "\u001b[32m\u001b[1m  Installed\u001b[22m\u001b[39m NamedArrays ─── v0.9.4\n",
      "\u001b[32m\u001b[1mUpdating\u001b[22m\u001b[39m `~/Project.toml`\n",
      " \u001b[90m [da1fdf0e] \u001b[39m\u001b[92m+ FreqTables v0.4.2\u001b[39m\n",
      "\u001b[32m\u001b[1mUpdating\u001b[22m\u001b[39m `~/Manifest.toml`\n",
      " \u001b[90m [861a8166] \u001b[39m\u001b[92m+ Combinatorics v1.0.2\u001b[39m\n",
      " \u001b[90m [da1fdf0e] \u001b[39m\u001b[92m+ FreqTables v0.4.2\u001b[39m\n",
      " \u001b[90m [86f7a689] \u001b[39m\u001b[92m+ NamedArrays v0.9.4\u001b[39m\n",
      " \u001b[90m [ae029012] \u001b[39m\u001b[92m+ Requires v1.1.2\u001b[39m\n",
      "\u001b[32m\u001b[1m  Resolving\u001b[22m\u001b[39m package versions...\n",
      "\u001b[32m\u001b[1m  Installed\u001b[22m\u001b[39m IniFile ─ v0.5.0\n",
      "\u001b[32m\u001b[1m  Installed\u001b[22m\u001b[39m URIs ──── v1.1.0\n",
      "\u001b[32m\u001b[1m  Installed\u001b[22m\u001b[39m HTTP ──── v0.9.2\n",
      "\u001b[32m\u001b[1mUpdating\u001b[22m\u001b[39m `~/Project.toml`\n",
      " \u001b[90m [cd3eb016] \u001b[39m\u001b[92m+ HTTP v0.9.2\u001b[39m\n",
      "\u001b[32m\u001b[1mUpdating\u001b[22m\u001b[39m `~/Manifest.toml`\n",
      " \u001b[90m [56f22d72] \u001b[39m\u001b[92m+ Artifacts v1.3.0\u001b[39m\n",
      " \u001b[90m [cd3eb016] \u001b[39m\u001b[92m+ HTTP v0.9.2\u001b[39m\n",
      " \u001b[90m [83e8ac13] \u001b[39m\u001b[92m+ IniFile v0.5.0\u001b[39m\n",
      " \u001b[90m [692b3bcd] \u001b[39m\u001b[92m+ JLLWrappers v1.2.0\u001b[39m\n",
      " \u001b[90m [739be429] \u001b[39m\u001b[92m+ MbedTLS v1.0.3\u001b[39m\n",
      " \u001b[90m [c8ffd9c3] \u001b[39m\u001b[92m+ MbedTLS_jll v2.16.8+1\u001b[39m\n",
      " \u001b[90m [5c2747f8] \u001b[39m\u001b[92m+ URIs v1.1.0\u001b[39m\n",
      "\u001b[32m\u001b[1m  Resolving\u001b[22m\u001b[39m package versions...\n",
      "\u001b[32m\u001b[1m  Installed\u001b[22m\u001b[39m OpenSpecFun_jll ────────────── v0.5.3+4\n",
      "\u001b[32m\u001b[1m  Installed\u001b[22m\u001b[39m PDMats ─────────────────────── v0.10.1\n",
      "\u001b[32m\u001b[1m  Installed\u001b[22m\u001b[39m Roots ──────────────────────── v1.0.7\n",
      "\u001b[32m\u001b[1m  Installed\u001b[22m\u001b[39m Rmath_jll ──────────────────── v0.2.2+1\n",
      "\u001b[32m\u001b[1m  Installed\u001b[22m\u001b[39m StatsFuns ──────────────────── v0.9.6\n",
      "\u001b[32m\u001b[1m  Installed\u001b[22m\u001b[39m StatsBase ──────────────────── v0.33.2\n",
      "\u001b[32m\u001b[1m  Installed\u001b[22m\u001b[39m HypothesisTests ────────────── v0.10.2\n",
      "\u001b[32m\u001b[1m  Installed\u001b[22m\u001b[39m MuladdMacro ────────────────── v0.2.2\n",
      "\u001b[32m\u001b[1m  Installed\u001b[22m\u001b[39m FillArrays ─────────────────── v0.10.2\n",
      "\u001b[32m\u001b[1m  Installed\u001b[22m\u001b[39m Distributions ──────────────── v0.24.10\n",
      "\u001b[32m\u001b[1m  Installed\u001b[22m\u001b[39m Rmath ──────────────────────── v0.6.1\n",
      "\u001b[32m\u001b[1m  Installed\u001b[22m\u001b[39m QuadGK ─────────────────────── v2.4.1\n",
      "\u001b[32m\u001b[1m  Installed\u001b[22m\u001b[39m SpecialFunctions ───────────── v1.2.1\n",
      "\u001b[32m\u001b[1m  Installed\u001b[22m\u001b[39m CompilerSupportLibraries_jll ─ v0.3.4+0\n",
      "\u001b[32m\u001b[1m  Installed\u001b[22m\u001b[39m ChainRulesCore ─────────────── v0.9.24\n",
      "\u001b[32m\u001b[1mUpdating\u001b[22m\u001b[39m `~/Project.toml`\n",
      " \u001b[90m [09f84164] \u001b[39m\u001b[92m+ HypothesisTests v0.10.2\u001b[39m\n",
      "\u001b[32m\u001b[1mUpdating\u001b[22m\u001b[39m `~/Manifest.toml`\n",
      " \u001b[90m [d360d2e6] \u001b[39m\u001b[92m+ ChainRulesCore v0.9.24\u001b[39m\n",
      " \u001b[90m [e66e0078] \u001b[39m\u001b[92m+ CompilerSupportLibraries_jll v0.3.4+0\u001b[39m\n",
      " \u001b[90m [31c24e10] \u001b[39m\u001b[92m+ Distributions v0.24.10\u001b[39m\n",
      " \u001b[90m [1a297f60] \u001b[39m\u001b[92m+ FillArrays v0.10.2\u001b[39m\n",
      " \u001b[90m [09f84164] \u001b[39m\u001b[92m+ HypothesisTests v0.10.2\u001b[39m\n",
      " \u001b[90m [46d2c3a1] \u001b[39m\u001b[92m+ MuladdMacro v0.2.2\u001b[39m\n",
      " \u001b[90m [efe28fd5] \u001b[39m\u001b[92m+ OpenSpecFun_jll v0.5.3+4\u001b[39m\n",
      " \u001b[90m [90014a1f] \u001b[39m\u001b[92m+ PDMats v0.10.1\u001b[39m\n",
      " \u001b[90m [1fd47b50] \u001b[39m\u001b[92m+ QuadGK v2.4.1\u001b[39m\n",
      " \u001b[90m [79098fc4] \u001b[39m\u001b[92m+ Rmath v0.6.1\u001b[39m\n",
      " \u001b[90m [f50d1b31] \u001b[39m\u001b[92m+ Rmath_jll v0.2.2+1\u001b[39m\n",
      " \u001b[90m [f2b01f46] \u001b[39m\u001b[92m+ Roots v1.0.7\u001b[39m\n",
      " \u001b[90m [276daf66] \u001b[39m\u001b[92m+ SpecialFunctions v1.2.1\u001b[39m\n",
      " \u001b[90m [2913bbd2] \u001b[39m\u001b[92m+ StatsBase v0.33.2\u001b[39m\n",
      " \u001b[90m [4c63d2b9] \u001b[39m\u001b[92m+ StatsFuns v0.9.6\u001b[39m\n",
      " \u001b[90m [4607b0f0] \u001b[39m\u001b[92m+ SuiteSparse\u001b[39m\n",
      "\u001b[32m\u001b[1m  Resolving\u001b[22m\u001b[39m package versions...\n",
      "\u001b[32m\u001b[1m  Installed\u001b[22m\u001b[39m CodecZlib ─────────────── v0.7.0\n",
      "\u001b[32m\u001b[1m  Installed\u001b[22m\u001b[39m MLJBase ───────────────── v0.16.3\n",
      "\u001b[32m\u001b[1m  Installed\u001b[22m\u001b[39m FilePathsBase ─────────── v0.9.6\n",
      "\u001b[32m\u001b[1m  Installed\u001b[22m\u001b[39m TranscodingStreams ────── v0.9.5\n",
      "\u001b[32m\u001b[1m  Installed\u001b[22m\u001b[39m ColorTypes ────────────── v0.10.9\n",
      "\u001b[32m\u001b[1m  Installed\u001b[22m\u001b[39m LossFunctions ─────────── v0.6.2\n",
      "\u001b[32m\u001b[1m  Installed\u001b[22m\u001b[39m Libiconv_jll ──────────── v1.16.0+7\n",
      "\u001b[32m\u001b[1m  Installed\u001b[22m\u001b[39m FixedPointNumbers ─────── v0.8.4\n",
      "\u001b[32m\u001b[1m  Installed\u001b[22m\u001b[39m ExprTools ─────────────── v0.1.3\n",
      "\u001b[32m\u001b[1m  Installed\u001b[22m\u001b[39m UnPack ────────────────── v1.0.2\n",
      "\u001b[32m\u001b[1m  Installed\u001b[22m\u001b[39m MLJScientificTypes ────── v0.4.3\n",
      "\u001b[32m\u001b[1m  Installed\u001b[22m\u001b[39m PersistenceDiagramsBase ─ v0.1.1\n",
      "\u001b[32m\u001b[1m  Installed\u001b[22m\u001b[39m ComputationalResources ── v0.3.2\n",
      "\u001b[32m\u001b[1m  Installed\u001b[22m\u001b[39m JLSO ──────────────────── v2.4.0\n",
      "\u001b[32m\u001b[1m  Installed\u001b[22m\u001b[39m ScientificTypes ───────── v1.1.1\n",
      "\u001b[32m\u001b[1m  Installed\u001b[22m\u001b[39m Syslogs ───────────────── v0.3.0\n",
      "\u001b[32m\u001b[1m  Installed\u001b[22m\u001b[39m Zlib_jll ──────────────── v1.2.11+18\n",
      "\u001b[32m\u001b[1m  Installed\u001b[22m\u001b[39m XML2_jll ──────────────── v2.9.10+3\n",
      "\u001b[32m\u001b[1m  Installed\u001b[22m\u001b[39m RecipesBase ───────────── v1.1.1\n",
      "\u001b[32m\u001b[1m  Installed\u001b[22m\u001b[39m MLJModelInterface ─────── v0.3.7\n",
      "\u001b[32m\u001b[1m  Installed\u001b[22m\u001b[39m Memento ───────────────── v1.1.2\n",
      "\u001b[32m\u001b[1m  Installed\u001b[22m\u001b[39m LearnBase ─────────────── v0.4.1\n",
      "\u001b[32m\u001b[1m  Installed\u001b[22m\u001b[39m ProgressMeter ─────────── v1.4.1\n",
      "\u001b[32m\u001b[1m  Installed\u001b[22m\u001b[39m Mocking ───────────────── v0.7.1\n",
      "\u001b[32m\u001b[1m  Installed\u001b[22m\u001b[39m Parameters ────────────── v0.12.1\n",
      "\u001b[32m\u001b[1m  Installed\u001b[22m\u001b[39m TimeZones ─────────────── v1.5.3\n",
      "\u001b[32m\u001b[1m  Installed\u001b[22m\u001b[39m EzXML ─────────────────── v1.1.0\n",
      "\u001b[32m\u001b[1m  Installed\u001b[22m\u001b[39m BSON ──────────────────── v0.2.6\n",
      "\u001b[32m\u001b[1mUpdating\u001b[22m\u001b[39m `~/Project.toml`\n",
      " \u001b[90m [a7f614a8] \u001b[39m\u001b[92m+ MLJBase v0.16.3\u001b[39m\n",
      "\u001b[32m\u001b[1mUpdating\u001b[22m\u001b[39m `~/Manifest.toml`\n",
      " \u001b[90m [fbb218c0] \u001b[39m\u001b[92m+ BSON v0.2.6\u001b[39m\n",
      " \u001b[90m [944b1d66] \u001b[39m\u001b[92m+ CodecZlib v0.7.0\u001b[39m\n",
      " \u001b[90m [3da002f7] \u001b[39m\u001b[92m+ ColorTypes v0.10.9\u001b[39m\n",
      " \u001b[90m [ed09eef8] \u001b[39m\u001b[92m+ ComputationalResources v0.3.2\u001b[39m\n",
      " \u001b[90m [e2ba6199] \u001b[39m\u001b[92m+ ExprTools v0.1.3\u001b[39m\n",
      " \u001b[90m [8f5d6c58] \u001b[39m\u001b[92m+ EzXML v1.1.0\u001b[39m\n",
      " \u001b[90m [48062228] \u001b[39m\u001b[92m+ FilePathsBase v0.9.6\u001b[39m\n",
      " \u001b[90m [53c48c17] \u001b[39m\u001b[92m+ FixedPointNumbers v0.8.4\u001b[39m\n",
      " \u001b[90m [9da8a3cd] \u001b[39m\u001b[92m+ JLSO v2.4.0\u001b[39m\n",
      " \u001b[90m [7f8f8fb0] \u001b[39m\u001b[92m+ LearnBase v0.4.1\u001b[39m\n",
      " \u001b[90m [94ce4f54] \u001b[39m\u001b[92m+ Libiconv_jll v1.16.0+7\u001b[39m\n",
      " \u001b[90m [30fc2ffe] \u001b[39m\u001b[92m+ LossFunctions v0.6.2\u001b[39m\n",
      " \u001b[90m [a7f614a8] \u001b[39m\u001b[92m+ MLJBase v0.16.3\u001b[39m\n",
      " \u001b[90m [e80e1ace] \u001b[39m\u001b[92m+ MLJModelInterface v0.3.7\u001b[39m\n",
      " \u001b[90m [2e2323e0] \u001b[39m\u001b[92m+ MLJScientificTypes v0.4.3\u001b[39m\n",
      " \u001b[90m [f28f55f0] \u001b[39m\u001b[92m+ Memento v1.1.2\u001b[39m\n",
      " \u001b[90m [78c3b35d] \u001b[39m\u001b[92m+ Mocking v0.7.1\u001b[39m\n",
      " \u001b[90m [d96e819e] \u001b[39m\u001b[92m+ Parameters v0.12.1\u001b[39m\n",
      " \u001b[90m [b1ad91c1] \u001b[39m\u001b[92m+ PersistenceDiagramsBase v0.1.1\u001b[39m\n",
      " \u001b[90m [92933f4c] \u001b[39m\u001b[92m+ ProgressMeter v1.4.1\u001b[39m\n",
      " \u001b[90m [3cdcf5f2] \u001b[39m\u001b[92m+ RecipesBase v1.1.1\u001b[39m\n",
      " \u001b[90m [321657f4] \u001b[39m\u001b[92m+ ScientificTypes v1.1.1\u001b[39m\n",
      " \u001b[90m [cea106d9] \u001b[39m\u001b[92m+ Syslogs v0.3.0\u001b[39m\n",
      " \u001b[90m [f269a46b] \u001b[39m\u001b[92m+ TimeZones v1.5.3\u001b[39m\n",
      " \u001b[90m [3bb67fe8] \u001b[39m\u001b[92m+ TranscodingStreams v0.9.5\u001b[39m\n",
      " \u001b[90m [3a884ed6] \u001b[39m\u001b[92m+ UnPack v1.0.2\u001b[39m\n",
      " \u001b[90m [02c8fc9c] \u001b[39m\u001b[92m+ XML2_jll v2.9.10+3\u001b[39m\n",
      " \u001b[90m [83775a58] \u001b[39m\u001b[92m+ Zlib_jll v1.2.11+18\u001b[39m\n",
      "\u001b[32m\u001b[1m   Building\u001b[22m\u001b[39m TimeZones → `/srv/julia/pkg/packages/TimeZones/K98G0/deps/build.log`\n",
      "\u001b[32m\u001b[1m  Resolving\u001b[22m\u001b[39m package versions...\n",
      "\u001b[32m\u001b[1mUpdating\u001b[22m\u001b[39m `~/Project.toml`\n",
      " \u001b[90m [e1d29d7a] \u001b[39m\u001b[92m+ Missings v0.4.4\u001b[39m\n",
      "\u001b[32m\u001b[1mNo Changes\u001b[22m\u001b[39m to `~/Manifest.toml`\n",
      "\u001b[32m\u001b[1m  Resolving\u001b[22m\u001b[39m package versions...\n",
      "\u001b[32m\u001b[1m  Installed\u001b[22m\u001b[39m GeometryBasics ── v0.3.5\n",
      "\u001b[32m\u001b[1m  Installed\u001b[22m\u001b[39m Colors ────────── v0.12.6\n",
      "\u001b[32m\u001b[1m  Installed\u001b[22m\u001b[39m LibVPX_jll ────── v1.9.0+1\n",
      "\u001b[32m\u001b[1m  Installed\u001b[22m\u001b[39m RecipesPipeline ─ v0.2.1\n",
      "\u001b[32m\u001b[1m  Installed\u001b[22m\u001b[39m OpenSSL_jll ───── v1.1.1+6\n",
      "\u001b[32m\u001b[1m  Installed\u001b[22m\u001b[39m Plots ─────────── v1.10.1\n",
      "\u001b[32m\u001b[1m  Installed\u001b[22m\u001b[39m StaticArrays ──── v1.0.1\n",
      "\u001b[32m\u001b[1m  Installed\u001b[22m\u001b[39m Ogg_jll ───────── v1.3.4+2\n",
      "\u001b[32m\u001b[1m  Installed\u001b[22m\u001b[39m libvorbis_jll ─── v1.3.6+6\n",
      "\u001b[32m\u001b[1m  Installed\u001b[22m\u001b[39m Measures ──────── v0.3.1\n",
      "\u001b[32m\u001b[1m  Installed\u001b[22m\u001b[39m EarCut_jll ────── v2.1.5+1\n",
      "\u001b[32m\u001b[1m  Installed\u001b[22m\u001b[39m x264_jll ──────── v2020.7.14+2\n",
      "\u001b[32m\u001b[1m  Installed\u001b[22m\u001b[39m LaTeXStrings ──── v1.2.0\n",
      "\u001b[32m\u001b[1m  Installed\u001b[22m\u001b[39m FFMPEG ────────── v0.4.0\n",
      "\u001b[32m\u001b[1m  Installed\u001b[22m\u001b[39m PlotUtils ─────── v1.0.9\n",
      "\u001b[32m\u001b[1m  Installed\u001b[22m\u001b[39m FriBidi_jll ───── v1.0.5+6\n",
      "\u001b[32m\u001b[1m  Installed\u001b[22m\u001b[39m FreeType2_jll ─── v2.10.1+5\n",
      "\u001b[32m\u001b[1m  Installed\u001b[22m\u001b[39m Adapt ─────────── v2.4.0\n",
      "\u001b[32m\u001b[1m  Installed\u001b[22m\u001b[39m Opus_jll ──────── v1.3.1+3\n",
      "\u001b[32m\u001b[1m  Installed\u001b[22m\u001b[39m Scratch ───────── v1.0.3\n",
      "\u001b[32m\u001b[1m  Installed\u001b[22m\u001b[39m NaNMath ───────── v0.3.5\n",
      "\u001b[32m\u001b[1m  Installed\u001b[22m\u001b[39m x265_jll ──────── v3.0.0+3\n",
      "\u001b[32m\u001b[1m  Installed\u001b[22m\u001b[39m StructArrays ──── v0.4.4\n",
      "\u001b[32m\u001b[1m  Installed\u001b[22m\u001b[39m Contour ───────── v0.5.7\n",
      "\u001b[32m\u001b[1m  Installed\u001b[22m\u001b[39m libass_jll ────── v0.14.0+4\n",
      "\u001b[32m\u001b[1m  Installed\u001b[22m\u001b[39m libfdk_aac_jll ── v0.1.6+4\n",
      "\u001b[32m\u001b[1m  Installed\u001b[22m\u001b[39m Latexify ──────── v0.14.7\n",
      "\u001b[32m\u001b[1m  Installed\u001b[22m\u001b[39m IterTools ─────── v1.3.0\n",
      "\u001b[32m\u001b[1m  Installed\u001b[22m\u001b[39m LAME_jll ──────── v3.100.0+3\n",
      "\u001b[32m\u001b[1m  Installed\u001b[22m\u001b[39m Showoff ───────── v0.3.2\n",
      "\u001b[32m\u001b[1m  Installed\u001b[22m\u001b[39m Bzip2_jll ─────── v1.0.6+5\n",
      "\u001b[32m\u001b[1m  Installed\u001b[22m\u001b[39m ColorSchemes ──── v3.10.2\n",
      "\u001b[32m\u001b[1m  Installed\u001b[22m\u001b[39m PlotThemes ────── v2.0.0\n",
      "\u001b[32m\u001b[1m  Installed\u001b[22m\u001b[39m MacroTools ────── v0.5.6\n",
      "\u001b[32m\u001b[1m  Installed\u001b[22m\u001b[39m GR ────────────── v0.49.1\n",
      "\u001b[32m\u001b[1m  Installed\u001b[22m\u001b[39m FFMPEG_jll ────── v4.3.1+4\n",
      "\u001b[32m\u001b[1m  Installed\u001b[22m\u001b[39m Grisu ─────────── v1.0.0\n",
      "\u001b[32m\u001b[1mUpdating\u001b[22m\u001b[39m `~/Project.toml`\n",
      " \u001b[90m [91a5bcdd] \u001b[39m\u001b[92m+ Plots v1.10.1\u001b[39m\n",
      "\u001b[32m\u001b[1mUpdating\u001b[22m\u001b[39m `~/Manifest.toml`\n",
      " \u001b[90m [79e6a3ab] \u001b[39m\u001b[92m+ Adapt v2.4.0\u001b[39m\n",
      " \u001b[90m [6e34b625] \u001b[39m\u001b[92m+ Bzip2_jll v1.0.6+5\u001b[39m\n",
      " \u001b[90m [35d6a980] \u001b[39m\u001b[92m+ ColorSchemes v3.10.2\u001b[39m\n",
      " \u001b[90m [5ae59095] \u001b[39m\u001b[92m+ Colors v0.12.6\u001b[39m\n",
      " \u001b[90m [d38c429a] \u001b[39m\u001b[92m+ Contour v0.5.7\u001b[39m\n",
      " \u001b[90m [5ae413db] \u001b[39m\u001b[92m+ EarCut_jll v2.1.5+1\u001b[39m\n",
      " \u001b[90m [c87230d0] \u001b[39m\u001b[92m+ FFMPEG v0.4.0\u001b[39m\n",
      " \u001b[90m [b22a6f82] \u001b[39m\u001b[92m+ FFMPEG_jll v4.3.1+4\u001b[39m\n",
      " \u001b[90m [d7e528f0] \u001b[39m\u001b[92m+ FreeType2_jll v2.10.1+5\u001b[39m\n",
      " \u001b[90m [559328eb] \u001b[39m\u001b[92m+ FriBidi_jll v1.0.5+6\u001b[39m\n",
      " \u001b[90m [28b8d3ca] \u001b[39m\u001b[92m+ GR v0.49.1\u001b[39m\n",
      " \u001b[90m [5c1252a2] \u001b[39m\u001b[92m+ GeometryBasics v0.3.5\u001b[39m\n",
      " \u001b[90m [42e2da0e] \u001b[39m\u001b[92m+ Grisu v1.0.0\u001b[39m\n",
      " \u001b[90m [c8e1da08] \u001b[39m\u001b[92m+ IterTools v1.3.0\u001b[39m\n",
      " \u001b[90m [c1c5ebd0] \u001b[39m\u001b[92m+ LAME_jll v3.100.0+3\u001b[39m\n",
      " \u001b[90m [b964fa9f] \u001b[39m\u001b[92m+ LaTeXStrings v1.2.0\u001b[39m\n",
      " \u001b[90m [23fbe1c1] \u001b[39m\u001b[92m+ Latexify v0.14.7\u001b[39m\n",
      " \u001b[90m [dd192d2f] \u001b[39m\u001b[92m+ LibVPX_jll v1.9.0+1\u001b[39m\n",
      " \u001b[90m [1914dd2f] \u001b[39m\u001b[92m+ MacroTools v0.5.6\u001b[39m\n",
      " \u001b[90m [442fdcdd] \u001b[39m\u001b[92m+ Measures v0.3.1\u001b[39m\n",
      " \u001b[90m [77ba4419] \u001b[39m\u001b[92m+ NaNMath v0.3.5\u001b[39m\n",
      " \u001b[90m [e7412a2a] \u001b[39m\u001b[92m+ Ogg_jll v1.3.4+2\u001b[39m\n",
      " \u001b[90m [458c3c95] \u001b[39m\u001b[92m+ OpenSSL_jll v1.1.1+6\u001b[39m\n",
      " \u001b[90m [91d4177d] \u001b[39m\u001b[92m+ Opus_jll v1.3.1+3\u001b[39m\n",
      " \u001b[90m [ccf2f8ad] \u001b[39m\u001b[92m+ PlotThemes v2.0.0\u001b[39m\n",
      " \u001b[90m [995b91a9] \u001b[39m\u001b[92m+ PlotUtils v1.0.9\u001b[39m\n",
      " \u001b[90m [91a5bcdd] \u001b[39m\u001b[92m+ Plots v1.10.1\u001b[39m\n",
      " \u001b[90m [01d81517] \u001b[39m\u001b[92m+ RecipesPipeline v0.2.1\u001b[39m\n",
      " \u001b[90m [6c6a2e73] \u001b[39m\u001b[92m+ Scratch v1.0.3\u001b[39m\n",
      " \u001b[90m [992d4aef] \u001b[39m\u001b[92m+ Showoff v0.3.2\u001b[39m\n",
      " \u001b[90m [90137ffa] \u001b[39m\u001b[92m+ StaticArrays v1.0.1\u001b[39m\n",
      " \u001b[90m [09ab397b] \u001b[39m\u001b[92m+ StructArrays v0.4.4\u001b[39m\n",
      " \u001b[90m [0ac62f75] \u001b[39m\u001b[92m+ libass_jll v0.14.0+4\u001b[39m\n",
      " \u001b[90m [f638f0a6] \u001b[39m\u001b[92m+ libfdk_aac_jll v0.1.6+4\u001b[39m\n",
      " \u001b[90m [f27f6e37] \u001b[39m\u001b[92m+ libvorbis_jll v1.3.6+6\u001b[39m\n",
      " \u001b[90m [1270edf5] \u001b[39m\u001b[92m+ x264_jll v2020.7.14+2\u001b[39m\n",
      " \u001b[90m [dfaa095f] \u001b[39m\u001b[92m+ x265_jll v3.0.0+3\u001b[39m\n",
      "\u001b[32m\u001b[1m   Building\u001b[22m\u001b[39m GR → `/srv/julia/pkg/packages/GR/cRdXQ/deps/build.log`\n",
      "\u001b[32m\u001b[1m  Resolving\u001b[22m\u001b[39m package versions...\n",
      "\u001b[32m\u001b[1m  Installed\u001b[22m\u001b[39m KernelDensity ─────── v0.6.2\n",
      "\u001b[32m\u001b[1m  Installed\u001b[22m\u001b[39m Bootstrap ─────────── v2.3.1\n",
      "\u001b[32m\u001b[1m  Installed\u001b[22m\u001b[39m StatsKit ──────────── v0.3.0\n",
      "\u001b[32m\u001b[1m  Installed\u001b[22m\u001b[39m OffsetArrays ──────── v1.5.0\n",
      "\u001b[32m\u001b[1m  Installed\u001b[22m\u001b[39m StatsModels ───────── v0.6.18\n",
      "\u001b[32m\u001b[1m  Installed\u001b[22m\u001b[39m DataFrames ────────── v0.21.8\n",
      "\u001b[32m\u001b[1m  Installed\u001b[22m\u001b[39m NearestNeighbors ──── v0.4.8\n",
      "\u001b[32m\u001b[1m  Installed\u001b[22m\u001b[39m MKL_jll ───────────── v2020.2.254+0\n",
      "\u001b[32m\u001b[1m  Installed\u001b[22m\u001b[39m GLM ───────────────── v1.3.11\n",
      "\u001b[32m\u001b[1m  Installed\u001b[22m\u001b[39m DocStringExtensions ─ v0.8.3\n",
      "\u001b[32m\u001b[1m  Installed\u001b[22m\u001b[39m StaticArrays ──────── v0.12.5\n",
      "\u001b[32m\u001b[1m  Installed\u001b[22m\u001b[39m OpenBLAS_jll ──────── v0.3.9+5\n",
      "\u001b[32m\u001b[1m  Installed\u001b[22m\u001b[39m Ratios ────────────── v0.4.0\n",
      "\u001b[32m\u001b[1m  Installed\u001b[22m\u001b[39m FillArrays ────────── v0.9.7\n",
      "\u001b[32m\u001b[1m  Installed\u001b[22m\u001b[39m Distributions ─────── v0.23.12\n",
      "\u001b[32m\u001b[1m  Installed\u001b[22m\u001b[39m TimeSeries ────────── v0.19.1\n",
      "\u001b[32m\u001b[1m  Installed\u001b[22m\u001b[39m AbstractFFTs ──────── v1.0.0\n",
      "\u001b[32m\u001b[1m  Installed\u001b[22m\u001b[39m Loess ─────────────── v0.5.3\n",
      "\u001b[32m\u001b[1m  Installed\u001b[22m\u001b[39m Clustering ────────── v0.14.2\n",
      "\u001b[32m\u001b[1m  Installed\u001b[22m\u001b[39m AxisAlgorithms ────── v1.0.0\n",
      "\u001b[32m\u001b[1m  Installed\u001b[22m\u001b[39m IntelOpenMP_jll ───── v2018.0.3+0\n",
      "\u001b[32m\u001b[1m  Installed\u001b[22m\u001b[39m ShiftedArrays ─────── v1.0.0\n",
      "\u001b[32m\u001b[1m  Installed\u001b[22m\u001b[39m Arpack ────────────── v0.4.0\n",
      "\u001b[32m\u001b[1m  Installed\u001b[22m\u001b[39m MultivariateStats ─── v0.7.0\n",
      "\u001b[32m\u001b[1m  Installed\u001b[22m\u001b[39m Distances ─────────── v0.9.2\n",
      "\u001b[32m\u001b[1m  Installed\u001b[22m\u001b[39m CSV ───────────────── v0.7.10\n",
      "\u001b[32m\u001b[1m  Installed\u001b[22m\u001b[39m SpecialFunctions ──── v0.10.3\n",
      "\u001b[32m\u001b[1m  Installed\u001b[22m\u001b[39m CategoricalArrays ─── v0.8.3\n",
      "\u001b[32m\u001b[1m  Installed\u001b[22m\u001b[39m Arpack_jll ────────── v3.5.0+3\n",
      "\u001b[32m\u001b[1m  Installed\u001b[22m\u001b[39m FFTW_jll ──────────── v3.3.9+7\n",
      "\u001b[32m\u001b[1m  Installed\u001b[22m\u001b[39m WoodburyMatrices ──── v0.5.3\n",
      "\u001b[32m\u001b[1m  Installed\u001b[22m\u001b[39m FFTW ──────────────── v1.3.1\n",
      "\u001b[32m\u001b[1m  Installed\u001b[22m\u001b[39m Interpolations ────── v0.13.1\n",
      "\u001b[32m\u001b[1mUpdating\u001b[22m\u001b[39m `~/Project.toml`\n",
      " \u001b[90m [336ed68f] \u001b[39m\u001b[95m↓ CSV v0.8.2 ⇒ v0.7.10\u001b[39m\n",
      " \u001b[90m [a93c6f00] \u001b[39m\u001b[95m↓ DataFrames v0.22.2 ⇒ v0.21.8\u001b[39m\n",
      " \u001b[90m [2cb19f9e] \u001b[39m\u001b[92m+ StatsKit v0.3.0\u001b[39m\n",
      "\u001b[32m\u001b[1mUpdating\u001b[22m\u001b[39m `~/Manifest.toml`\n",
      " \u001b[90m [621f4979] \u001b[39m\u001b[92m+ AbstractFFTs v1.0.0\u001b[39m\n",
      " \u001b[90m [7d9fca2a] \u001b[39m\u001b[92m+ Arpack v0.4.0\u001b[39m\n",
      " \u001b[90m [68821587] \u001b[39m\u001b[92m+ Arpack_jll v3.5.0+3\u001b[39m\n",
      " \u001b[90m [13072b0f] \u001b[39m\u001b[92m+ AxisAlgorithms v1.0.0\u001b[39m\n",
      " \u001b[90m [e28b5b4c] \u001b[39m\u001b[92m+ Bootstrap v2.3.1\u001b[39m\n",
      " \u001b[90m [336ed68f] \u001b[39m\u001b[95m↓ CSV v0.8.2 ⇒ v0.7.10\u001b[39m\n",
      " \u001b[90m [324d7699] \u001b[39m\u001b[95m↓ CategoricalArrays v0.9.0 ⇒ v0.8.3\u001b[39m\n",
      " \u001b[90m [d360d2e6] \u001b[39m\u001b[91m- ChainRulesCore v0.9.24\u001b[39m\n",
      " \u001b[90m [aaaa29a8] \u001b[39m\u001b[92m+ Clustering v0.14.2\u001b[39m\n",
      " \u001b[90m [a93c6f00] \u001b[39m\u001b[95m↓ DataFrames v0.22.2 ⇒ v0.21.8\u001b[39m\n",
      " \u001b[90m [b4f34e82] \u001b[39m\u001b[92m+ Distances v0.9.2\u001b[39m\n",
      " \u001b[90m [31c24e10] \u001b[39m\u001b[95m↓ Distributions v0.24.10 ⇒ v0.23.12\u001b[39m\n",
      " \u001b[90m [ffbed154] \u001b[39m\u001b[92m+ DocStringExtensions v0.8.3\u001b[39m\n",
      " \u001b[90m [7a1cc6ca] \u001b[39m\u001b[92m+ FFTW v1.3.1\u001b[39m\n",
      " \u001b[90m [f5851436] \u001b[39m\u001b[92m+ FFTW_jll v3.3.9+7\u001b[39m\n",
      " \u001b[90m [1a297f60] \u001b[39m\u001b[95m↓ FillArrays v0.10.2 ⇒ v0.9.7\u001b[39m\n",
      " \u001b[90m [38e38edf] \u001b[39m\u001b[92m+ GLM v1.3.11\u001b[39m\n",
      " \u001b[90m [1d5cc7b8] \u001b[39m\u001b[92m+ IntelOpenMP_jll v2018.0.3+0\u001b[39m\n",
      " \u001b[90m [a98d9a8b] \u001b[39m\u001b[92m+ Interpolations v0.13.1\u001b[39m\n",
      " \u001b[90m [5ab0869b] \u001b[39m\u001b[92m+ KernelDensity v0.6.2\u001b[39m\n",
      " \u001b[90m [4345ca2d] \u001b[39m\u001b[92m+ Loess v0.5.3\u001b[39m\n",
      " \u001b[90m [856f044c] \u001b[39m\u001b[92m+ MKL_jll v2020.2.254+0\u001b[39m\n",
      " \u001b[90m [46d2c3a1] \u001b[39m\u001b[91m- MuladdMacro v0.2.2\u001b[39m\n",
      " \u001b[90m [6f286f6a] \u001b[39m\u001b[92m+ MultivariateStats v0.7.0\u001b[39m\n",
      " \u001b[90m [b8a86587] \u001b[39m\u001b[92m+ NearestNeighbors v0.4.8\u001b[39m\n",
      " \u001b[90m [6fe1bfb0] \u001b[39m\u001b[92m+ OffsetArrays v1.5.0\u001b[39m\n",
      " \u001b[90m [4536629a] \u001b[39m\u001b[92m+ OpenBLAS_jll v0.3.9+5\u001b[39m\n",
      " \u001b[90m [c84ed2f1] \u001b[39m\u001b[92m+ Ratios v0.4.0\u001b[39m\n",
      " \u001b[90m [1277b4bf] \u001b[39m\u001b[92m+ ShiftedArrays v1.0.0\u001b[39m\n",
      " \u001b[90m [276daf66] \u001b[39m\u001b[95m↓ SpecialFunctions v1.2.1 ⇒ v0.10.3\u001b[39m\n",
      " \u001b[90m [90137ffa] \u001b[39m\u001b[95m↓ StaticArrays v1.0.1 ⇒ v0.12.5\u001b[39m\n",
      " \u001b[90m [2cb19f9e] \u001b[39m\u001b[92m+ StatsKit v0.3.0\u001b[39m\n",
      " \u001b[90m [3eaba693] \u001b[39m\u001b[92m+ StatsModels v0.6.18\u001b[39m\n",
      " \u001b[90m [9e3dc215] \u001b[39m\u001b[92m+ TimeSeries v0.19.1\u001b[39m\n",
      " \u001b[90m [efce3f68] \u001b[39m\u001b[92m+ WoodburyMatrices v0.5.3\u001b[39m\n",
      "\u001b[32m\u001b[1m   Building\u001b[22m\u001b[39m FFTW → `/srv/julia/pkg/packages/FFTW/eADNB/deps/build.log`\n",
      "\u001b[32m\u001b[1m  Resolving\u001b[22m\u001b[39m package versions...\n",
      "\u001b[32m\u001b[1m  Installed\u001b[22m\u001b[39m Observables ───── v0.3.3\n",
      "\u001b[32m\u001b[1m  Installed\u001b[22m\u001b[39m TableOperations ─ v0.3.0\n",
      "\u001b[32m\u001b[1m  Installed\u001b[22m\u001b[39m Widgets ───────── v0.6.2\n",
      "\u001b[32m\u001b[1m  Installed\u001b[22m\u001b[39m DataValues ────── v0.4.13\n",
      "\u001b[32m\u001b[1m  Installed\u001b[22m\u001b[39m StatsPlots ────── v0.14.17\n",
      "\u001b[32m\u001b[1mUpdating\u001b[22m\u001b[39m `~/Project.toml`\n",
      " \u001b[90m [f3b207a7] \u001b[39m\u001b[92m+ StatsPlots v0.14.17\u001b[39m\n",
      "\u001b[32m\u001b[1mUpdating\u001b[22m\u001b[39m `~/Manifest.toml`\n",
      " \u001b[90m [e7dc6d0d] \u001b[39m\u001b[92m+ DataValues v0.4.13\u001b[39m\n",
      " \u001b[90m [510215fc] \u001b[39m\u001b[92m+ Observables v0.3.3\u001b[39m\n",
      " \u001b[90m [f3b207a7] \u001b[39m\u001b[92m+ StatsPlots v0.14.17\u001b[39m\n",
      " \u001b[90m [ab02a1b2] \u001b[39m\u001b[92m+ TableOperations v0.3.0\u001b[39m\n",
      " \u001b[90m [cc8bc4a8] \u001b[39m\u001b[92m+ Widgets v0.6.2\u001b[39m\n"
     ]
    }
   ],
   "source": [
    "Pkg.add(\"CSV\")\n",
    "Pkg.add(\"DataFrames\")\n",
    "Pkg.add(\"FreqTables\")\n",
    "Pkg.add(\"HTTP\")\n",
    "Pkg.add(\"HypothesisTests\")\n",
    "Pkg.add(\"MLJBase\")\n",
    "Pkg.add(\"Missings\")\n",
    "Pkg.add(\"Plots\")\n",
    "Pkg.add(\"StatsKit\") # meta-package that loads packages associated with JuliaStats, including CSV, DataFrames, GLM, HypothesisTests,\n",
    "#and MultivariateStats\n",
    "# note: unclear which packages loaded automatically; I used StatsKit without loading CSV directly, and then CSV not available\n",
    "Pkg.add(\"StatsPlots\")"
   ]
  },
  {
   "cell_type": "code",
   "execution_count": 3,
   "metadata": {},
   "outputs": [
    {
     "name": "stderr",
     "output_type": "stream",
     "text": [
      "┌ Info: Precompiling CSV [336ed68f-0bac-5ca0-87d4-7b16caf5d00b]\n",
      "└ @ Base loading.jl:1278\n",
      "┌ Info: Precompiling FreqTables [da1fdf0e-e0ff-5433-a45f-9bb5ff651cb1]\n",
      "└ @ Base loading.jl:1278\n",
      "┌ Info: Precompiling HTTP [cd3eb016-35fb-5094-929b-558a96fad6f3]\n",
      "└ @ Base loading.jl:1278\n",
      "┌ Info: Precompiling HypothesisTests [09f84164-cd44-5f33-b23f-e6b0d136a0d5]\n",
      "└ @ Base loading.jl:1278\n",
      "┌ Info: Precompiling MLJBase [a7f614a8-145f-11e9-1d2a-a57a1082229d]\n",
      "└ @ Base loading.jl:1278\n",
      "┌ Info: Precompiling Plots [91a5bcdd-55d7-5caf-9e0b-520d859cae80]\n",
      "└ @ Base loading.jl:1278\n",
      "┌ Info: Precompiling StatsKit [2cb19f9e-ec4d-5c53-8573-a4542a68d3f0]\n",
      "└ @ Base loading.jl:1278\n",
      "┌ Info: Precompiling StatsPlots [f3b207a7-027a-5e70-b257-86293d7955fd]\n",
      "└ @ Base loading.jl:1278\n"
     ]
    }
   ],
   "source": [
    "## Open installed packages\n",
    "using CSV, DataFrames, FreqTables, HTTP, HypothesisTests, Missings, MLJBase, Plots, StatsKit, StatsPlots"
   ]
  },
  {
   "cell_type": "code",
   "execution_count": 4,
   "metadata": {},
   "outputs": [
    {
     "data": {
      "text/plain": [
       "v\"1.5.3\""
      ]
     },
     "execution_count": 4,
     "metadata": {},
     "output_type": "execute_result"
    }
   ],
   "source": [
    "# check julia version\n",
    "VERSION"
   ]
  },
  {
   "cell_type": "markdown",
   "metadata": {},
   "source": [
    "# Set Directory Structure"
   ]
  },
  {
   "cell_type": "code",
   "execution_count": 5,
   "metadata": {},
   "outputs": [
    {
     "data": {
      "text/plain": [
       "\"/home/jovyan/code\""
      ]
     },
     "execution_count": 5,
     "metadata": {},
     "output_type": "execute_result"
    }
   ],
   "source": [
    "pwd()"
   ]
  },
  {
   "cell_type": "code",
   "execution_count": 6,
   "metadata": {},
   "outputs": [],
   "source": [
    "path = \"/home/jovyan/\"\n",
    "cd(path)\n",
    "# or cd(\"..\")"
   ]
  },
  {
   "cell_type": "code",
   "execution_count": 7,
   "metadata": {
    "scrolled": true
   },
   "outputs": [
    {
     "data": {
      "text/plain": [
       "\"/home/jovyan\""
      ]
     },
     "execution_count": 7,
     "metadata": {},
     "output_type": "execute_result"
    }
   ],
   "source": [
    "pwd()"
   ]
  },
  {
   "cell_type": "markdown",
   "metadata": {},
   "source": [
    "## Make Sub-directories"
   ]
  },
  {
   "cell_type": "code",
   "execution_count": 8,
   "metadata": {},
   "outputs": [
    {
     "ename": "LoadError",
     "evalue": "IOError: mkdir: file already exists (EEXIST)",
     "output_type": "error",
     "traceback": [
      "IOError: mkdir: file already exists (EEXIST)",
      "",
      "Stacktrace:",
      " [1] uv_error at ./libuv.jl:97 [inlined]",
      " [2] mkdir(::String; mode::UInt16) at ./file.jl:177",
      " [3] mkdir(::String) at ./file.jl:170",
      " [4] top-level scope at In[8]:1",
      " [5] include_string(::Function, ::Module, ::String, ::String) at ./loading.jl:1091"
     ]
    }
   ],
   "source": [
    "mkdir(\"./code\")"
   ]
  },
  {
   "cell_type": "code",
   "execution_count": 9,
   "metadata": {},
   "outputs": [
    {
     "ename": "LoadError",
     "evalue": "IOError: mkdir: file already exists (EEXIST)",
     "output_type": "error",
     "traceback": [
      "IOError: mkdir: file already exists (EEXIST)",
      "",
      "Stacktrace:",
      " [1] uv_error at ./libuv.jl:97 [inlined]",
      " [2] mkdir(::String; mode::UInt16) at ./file.jl:177",
      " [3] mkdir(::String) at ./file.jl:170",
      " [4] top-level scope at In[9]:1",
      " [5] include_string(::Function, ::Module, ::String, ::String) at ./loading.jl:1091"
     ]
    }
   ],
   "source": [
    "mkdir(\"./data\")"
   ]
  },
  {
   "cell_type": "code",
   "execution_count": 10,
   "metadata": {},
   "outputs": [
    {
     "data": {
      "text/plain": [
       "\"./figures\""
      ]
     },
     "execution_count": 10,
     "metadata": {},
     "output_type": "execute_result"
    }
   ],
   "source": [
    "mkdir(\"./figures\")"
   ]
  },
  {
   "cell_type": "code",
   "execution_count": 11,
   "metadata": {},
   "outputs": [
    {
     "data": {
      "text/plain": [
       "\"./tables\""
      ]
     },
     "execution_count": 11,
     "metadata": {},
     "output_type": "execute_result"
    }
   ],
   "source": [
    "mkdir(\"./tables\")"
   ]
  },
  {
   "cell_type": "code",
   "execution_count": 12,
   "metadata": {},
   "outputs": [
    {
     "data": {
      "text/plain": [
       "13-element Array{String,1}:\n",
       " \".bash_logout\"\n",
       " \".bashrc\"\n",
       " \".cache\"\n",
       " \".config\"\n",
       " \".git\"\n",
       " \".profile\"\n",
       " \"Manifest.toml\"\n",
       " \"Project.toml\"\n",
       " \"README.md\"\n",
       " \"code\"\n",
       " \"data\"\n",
       " \"figures\"\n",
       " \"tables\""
      ]
     },
     "execution_count": 12,
     "metadata": {},
     "output_type": "execute_result"
    }
   ],
   "source": [
    "readdir()"
   ]
  },
  {
   "cell_type": "markdown",
   "metadata": {},
   "source": [
    "# Load Data"
   ]
  },
  {
   "cell_type": "code",
   "execution_count": 13,
   "metadata": {},
   "outputs": [
    {
     "data": {
      "text/html": [
       "<table class=\"data-frame\"><thead><tr><th></th><th>id</th><th>senator_party</th><th>condition</th><th>pid7</th><th>pre_sexism_1</th></tr><tr><th></th><th>Int64</th><th>String</th><th>Int64</th><th>String</th><th>String</th></tr></thead><tbody><p>2,806 rows × 24 columns (omitted printing of 19 columns)</p><tr><th>1</th><td>1</td><td>Democrat</td><td>2</td><td>Strong Republican</td><td>Agree strongly</td></tr><tr><th>2</th><td>2</td><td>Republican</td><td>2</td><td>Not very strong Democrat</td><td>Disagree somewhat</td></tr><tr><th>3</th><td>3</td><td>Republican</td><td>2</td><td>Strong Democrat</td><td>Disagree strongly</td></tr><tr><th>4</th><td>4</td><td>Republican</td><td>1</td><td>Independent</td><td>Agree somewhat</td></tr><tr><th>5</th><td>5</td><td>Democrat</td><td>3</td><td>Strong Democrat</td><td>Disagree strongly</td></tr><tr><th>6</th><td>6</td><td>Republican</td><td>2</td><td>Lean Republican</td><td>Neither disagree nor agree</td></tr><tr><th>7</th><td>7</td><td>Republican</td><td>3</td><td>Strong Democrat</td><td>Neither disagree nor agree</td></tr><tr><th>8</th><td>8</td><td>Republican</td><td>3</td><td>Not very strong Republican</td><td>Agree strongly</td></tr><tr><th>9</th><td>9</td><td>Democrat</td><td>2</td><td>Not very strong Democrat</td><td>Disagree strongly</td></tr><tr><th>10</th><td>10</td><td>Democrat</td><td>3</td><td>Strong Democrat</td><td>Disagree strongly</td></tr><tr><th>11</th><td>11</td><td>Republican</td><td>3</td><td>Strong Democrat</td><td>Disagree strongly</td></tr><tr><th>12</th><td>12</td><td>Republican</td><td>1</td><td>Not very strong Democrat</td><td>Agree somewhat</td></tr><tr><th>13</th><td>13</td><td>Republican</td><td>1</td><td>Independent</td><td>Agree somewhat</td></tr><tr><th>14</th><td>14</td><td>Republican</td><td>1</td><td>Not very strong Republican</td><td>Agree somewhat</td></tr><tr><th>15</th><td>15</td><td>Republican</td><td>3</td><td>Lean Republican</td><td>Disagree somewhat</td></tr><tr><th>16</th><td>16</td><td>Democrat</td><td>3</td><td>Strong Democrat</td><td>Disagree somewhat</td></tr><tr><th>17</th><td>17</td><td>Republican</td><td>3</td><td>Independent</td><td>Disagree somewhat</td></tr><tr><th>18</th><td>18</td><td>Democrat</td><td>2</td><td>Strong Democrat</td><td>Disagree strongly</td></tr><tr><th>19</th><td>19</td><td>Democrat</td><td>3</td><td>Not very strong Republican</td><td>Disagree somewhat</td></tr><tr><th>20</th><td>20</td><td>Democrat</td><td>2</td><td>Strong Democrat</td><td>Agree somewhat</td></tr><tr><th>21</th><td>21</td><td>Democrat</td><td>3</td><td>Not very strong Republican</td><td>Agree somewhat</td></tr><tr><th>22</th><td>22</td><td>Republican</td><td>3</td><td>Independent</td><td>Disagree strongly</td></tr><tr><th>23</th><td>23</td><td>Republican</td><td>3</td><td>Independent</td><td>Agree somewhat</td></tr><tr><th>24</th><td>24</td><td>Democrat</td><td>3</td><td>Lean Republican</td><td>Agree somewhat</td></tr><tr><th>25</th><td>25</td><td>Democrat</td><td>2</td><td>Strong Democrat</td><td>Disagree strongly</td></tr><tr><th>26</th><td>26</td><td>Democrat</td><td>1</td><td>Independent</td><td>Agree somewhat</td></tr><tr><th>27</th><td>27</td><td>Republican</td><td>2</td><td>Strong Democrat</td><td>Disagree strongly</td></tr><tr><th>28</th><td>28</td><td>Republican</td><td>2</td><td>Lean Democrat</td><td>Neither disagree nor agree</td></tr><tr><th>29</th><td>29</td><td>Democrat</td><td>3</td><td>Strong Democrat</td><td>Disagree strongly</td></tr><tr><th>30</th><td>30</td><td>Republican</td><td>2</td><td>Independent</td><td>Disagree somewhat</td></tr><tr><th>&vellip;</th><td>&vellip;</td><td>&vellip;</td><td>&vellip;</td><td>&vellip;</td><td>&vellip;</td></tr></tbody></table>"
      ],
      "text/latex": [
       "\\begin{tabular}{r|cccccc}\n",
       "\t& id & senator\\_party & condition & pid7 & pre\\_sexism\\_1 & \\\\\n",
       "\t\\hline\n",
       "\t& Int64 & String & Int64 & String & String & \\\\\n",
       "\t\\hline\n",
       "\t1 & 1 & Democrat & 2 & Strong Republican & Agree strongly & $\\dots$ \\\\\n",
       "\t2 & 2 & Republican & 2 & Not very strong Democrat & Disagree somewhat & $\\dots$ \\\\\n",
       "\t3 & 3 & Republican & 2 & Strong Democrat & Disagree strongly & $\\dots$ \\\\\n",
       "\t4 & 4 & Republican & 1 & Independent & Agree somewhat & $\\dots$ \\\\\n",
       "\t5 & 5 & Democrat & 3 & Strong Democrat & Disagree strongly & $\\dots$ \\\\\n",
       "\t6 & 6 & Republican & 2 & Lean Republican & Neither disagree nor agree & $\\dots$ \\\\\n",
       "\t7 & 7 & Republican & 3 & Strong Democrat & Neither disagree nor agree & $\\dots$ \\\\\n",
       "\t8 & 8 & Republican & 3 & Not very strong Republican & Agree strongly & $\\dots$ \\\\\n",
       "\t9 & 9 & Democrat & 2 & Not very strong Democrat & Disagree strongly & $\\dots$ \\\\\n",
       "\t10 & 10 & Democrat & 3 & Strong Democrat & Disagree strongly & $\\dots$ \\\\\n",
       "\t11 & 11 & Republican & 3 & Strong Democrat & Disagree strongly & $\\dots$ \\\\\n",
       "\t12 & 12 & Republican & 1 & Not very strong Democrat & Agree somewhat & $\\dots$ \\\\\n",
       "\t13 & 13 & Republican & 1 & Independent & Agree somewhat & $\\dots$ \\\\\n",
       "\t14 & 14 & Republican & 1 & Not very strong Republican & Agree somewhat & $\\dots$ \\\\\n",
       "\t15 & 15 & Republican & 3 & Lean Republican & Disagree somewhat & $\\dots$ \\\\\n",
       "\t16 & 16 & Democrat & 3 & Strong Democrat & Disagree somewhat & $\\dots$ \\\\\n",
       "\t17 & 17 & Republican & 3 & Independent & Disagree somewhat & $\\dots$ \\\\\n",
       "\t18 & 18 & Democrat & 2 & Strong Democrat & Disagree strongly & $\\dots$ \\\\\n",
       "\t19 & 19 & Democrat & 3 & Not very strong Republican & Disagree somewhat & $\\dots$ \\\\\n",
       "\t20 & 20 & Democrat & 2 & Strong Democrat & Agree somewhat & $\\dots$ \\\\\n",
       "\t21 & 21 & Democrat & 3 & Not very strong Republican & Agree somewhat & $\\dots$ \\\\\n",
       "\t22 & 22 & Republican & 3 & Independent & Disagree strongly & $\\dots$ \\\\\n",
       "\t23 & 23 & Republican & 3 & Independent & Agree somewhat & $\\dots$ \\\\\n",
       "\t24 & 24 & Democrat & 3 & Lean Republican & Agree somewhat & $\\dots$ \\\\\n",
       "\t25 & 25 & Democrat & 2 & Strong Democrat & Disagree strongly & $\\dots$ \\\\\n",
       "\t26 & 26 & Democrat & 1 & Independent & Agree somewhat & $\\dots$ \\\\\n",
       "\t27 & 27 & Republican & 2 & Strong Democrat & Disagree strongly & $\\dots$ \\\\\n",
       "\t28 & 28 & Republican & 2 & Lean Democrat & Neither disagree nor agree & $\\dots$ \\\\\n",
       "\t29 & 29 & Democrat & 3 & Strong Democrat & Disagree strongly & $\\dots$ \\\\\n",
       "\t30 & 30 & Republican & 2 & Independent & Disagree somewhat & $\\dots$ \\\\\n",
       "\t$\\dots$ & $\\dots$ & $\\dots$ & $\\dots$ & $\\dots$ & $\\dots$ &  \\\\\n",
       "\\end{tabular}\n"
      ],
      "text/plain": [
       "2806×24 DataFrame. Omitted printing of 20 columns\n",
       "│ Row  │ id    │ senator_party │ condition │ pid7                       │\n",
       "│      │ \u001b[90mInt64\u001b[39m │ \u001b[90mString\u001b[39m        │ \u001b[90mInt64\u001b[39m     │ \u001b[90mString\u001b[39m                     │\n",
       "├──────┼───────┼───────────────┼───────────┼────────────────────────────┤\n",
       "│ 1    │ 1     │ Democrat      │ 2         │ Strong Republican          │\n",
       "│ 2    │ 2     │ Republican    │ 2         │ Not very strong Democrat   │\n",
       "│ 3    │ 3     │ Republican    │ 2         │ Strong Democrat            │\n",
       "│ 4    │ 4     │ Republican    │ 1         │ Independent                │\n",
       "│ 5    │ 5     │ Democrat      │ 3         │ Strong Democrat            │\n",
       "│ 6    │ 6     │ Republican    │ 2         │ Lean Republican            │\n",
       "│ 7    │ 7     │ Republican    │ 3         │ Strong Democrat            │\n",
       "│ 8    │ 8     │ Republican    │ 3         │ Not very strong Republican │\n",
       "│ 9    │ 9     │ Democrat      │ 2         │ Not very strong Democrat   │\n",
       "│ 10   │ 10    │ Democrat      │ 3         │ Strong Democrat            │\n",
       "⋮\n",
       "│ 2796 │ 2797  │ Republican    │ 2         │ Strong Democrat            │\n",
       "│ 2797 │ 2798  │ Republican    │ 2         │ Strong Republican          │\n",
       "│ 2798 │ 2799  │ Democrat      │ 3         │ Independent                │\n",
       "│ 2799 │ 2800  │ Republican    │ 2         │ Strong Republican          │\n",
       "│ 2800 │ 2801  │ Republican    │ 3         │ Strong Democrat            │\n",
       "│ 2801 │ 2802  │ Democrat      │ 2         │ Strong Democrat            │\n",
       "│ 2802 │ 2803  │ Democrat      │ 1         │ Strong Republican          │\n",
       "│ 2803 │ 2804  │ Republican    │ 2         │ Strong Republican          │\n",
       "│ 2804 │ 2805  │ Republican    │ 2         │ Not very strong Democrat   │\n",
       "│ 2805 │ 2806  │ Republican    │ 3         │ Strong Democrat            │\n",
       "│ 2806 │ 2807  │ Republican    │ 1         │ Lean Republican            │"
      ]
     },
     "execution_count": 13,
     "metadata": {},
     "output_type": "execute_result"
    }
   ],
   "source": [
    "# if loading from file in data folder (use CSV and DataFrame together)\n",
    "df1 = CSV.read(\"./data/original/metoo_data.csv\", DataFrame)"
   ]
  },
  {
   "cell_type": "code",
   "execution_count": 14,
   "metadata": {},
   "outputs": [],
   "source": [
    "# can index within DataFrame\n",
    "# e.g., \n",
    "# row = df1[1,:]"
   ]
  },
  {
   "cell_type": "code",
   "execution_count": 15,
   "metadata": {},
   "outputs": [
    {
     "data": {
      "text/html": [
       "<table class=\"data-frame\"><thead><tr><th></th><th>id</th><th>senator_party</th><th>condition</th></tr><tr><th></th><th>Int64</th><th>String</th><th>Int64</th></tr></thead><tbody><p>5 rows × 3 columns</p><tr><th>1</th><td>1</td><td>Democrat</td><td>2</td></tr><tr><th>2</th><td>2</td><td>Republican</td><td>2</td></tr><tr><th>3</th><td>3</td><td>Republican</td><td>2</td></tr><tr><th>4</th><td>4</td><td>Republican</td><td>1</td></tr><tr><th>5</th><td>5</td><td>Democrat</td><td>3</td></tr></tbody></table>"
      ],
      "text/latex": [
       "\\begin{tabular}{r|ccc}\n",
       "\t& id & senator\\_party & condition\\\\\n",
       "\t\\hline\n",
       "\t& Int64 & String & Int64\\\\\n",
       "\t\\hline\n",
       "\t1 & 1 & Democrat & 2 \\\\\n",
       "\t2 & 2 & Republican & 2 \\\\\n",
       "\t3 & 3 & Republican & 2 \\\\\n",
       "\t4 & 4 & Republican & 1 \\\\\n",
       "\t5 & 5 & Democrat & 3 \\\\\n",
       "\\end{tabular}\n"
      ],
      "text/plain": [
       "5×3 DataFrame\n",
       "│ Row │ id    │ senator_party │ condition │\n",
       "│     │ \u001b[90mInt64\u001b[39m │ \u001b[90mString\u001b[39m        │ \u001b[90mInt64\u001b[39m     │\n",
       "├─────┼───────┼───────────────┼───────────┤\n",
       "│ 1   │ 1     │ Democrat      │ 2         │\n",
       "│ 2   │ 2     │ Republican    │ 2         │\n",
       "│ 3   │ 3     │ Republican    │ 2         │\n",
       "│ 4   │ 4     │ Republican    │ 1         │\n",
       "│ 5   │ 5     │ Democrat      │ 3         │"
      ]
     },
     "execution_count": 15,
     "metadata": {},
     "output_type": "execute_result"
    }
   ],
   "source": [
    "# inspect first 5 rows and first 3 cols\n",
    "df1[1:5,1:3]"
   ]
  },
  {
   "cell_type": "markdown",
   "metadata": {},
   "source": [
    "# Summary Statistics"
   ]
  },
  {
   "cell_type": "code",
   "execution_count": 16,
   "metadata": {},
   "outputs": [
    {
     "data": {
      "text/html": [
       "<table class=\"data-frame\"><thead><tr><th></th><th>variable</th><th>mean</th><th>min</th><th>median</th><th>max</th></tr><tr><th></th><th>Symbol</th><th>Union…</th><th>Any</th><th>Union…</th><th>Any</th></tr></thead><tbody><p>24 rows × 8 columns (omitted printing of 3 columns)</p><tr><th>1</th><td>id</td><td>1404.17</td><td>1</td><td>1404.5</td><td>2807</td></tr><tr><th>2</th><td>senator_party</td><td></td><td>Democrat</td><td></td><td>Republican</td></tr><tr><th>3</th><td>condition</td><td>2.00641</td><td>1</td><td>2.0</td><td>3</td></tr><tr><th>4</th><td>pid7</td><td></td><td>Independent</td><td></td><td>Strong Republican</td></tr><tr><th>5</th><td>pre_sexism_1</td><td></td><td>Agree somewhat</td><td></td><td>Neither disagree nor agree</td></tr><tr><th>6</th><td>pre_sexism_2</td><td></td><td>Agree somewhat</td><td></td><td>Neither disagree nor agree</td></tr><tr><th>7</th><td>pre_sexism_3</td><td></td><td>Agree somewhat</td><td></td><td>Neither disagree nor agree</td></tr><tr><th>8</th><td>pre_sexism_4</td><td></td><td>Agree somewhat</td><td></td><td>Neither disagree nor agree</td></tr><tr><th>9</th><td>pre_favorability</td><td>6.93158</td><td>0</td><td>7.0</td><td>10</td></tr><tr><th>10</th><td>pre_vote</td><td>5.98824</td><td>0</td><td>6.0</td><td>10</td></tr><tr><th>11</th><td>gender</td><td></td><td>Man</td><td></td><td>Woman</td></tr><tr><th>12</th><td>age</td><td></td><td>18-24</td><td></td><td>65 or over</td></tr><tr><th>13</th><td>newsinterest</td><td></td><td>Don't know</td><td></td><td>Some of the time</td></tr><tr><th>14</th><td>post_favorability</td><td>5.60763</td><td>0</td><td>6.0</td><td>10</td></tr><tr><th>15</th><td>post_vote</td><td>5.00499</td><td>0</td><td>5.0</td><td>10</td></tr><tr><th>16</th><td>punishment_1</td><td></td><td>Agree somewhat</td><td></td><td>Neither disagree nor agree</td></tr><tr><th>17</th><td>punishment_2</td><td></td><td>Agree somewhat</td><td></td><td>Neither disagree nor agree</td></tr><tr><th>18</th><td>punishment_3</td><td></td><td>Agree somewhat</td><td></td><td>Neither disagree nor agree</td></tr><tr><th>19</th><td>punishment_4</td><td></td><td>Agree somewhat</td><td></td><td>Neither disagree nor agree</td></tr><tr><th>20</th><td>punishment_5</td><td></td><td>Agree somewhat</td><td></td><td>Neither disagree nor agree</td></tr><tr><th>21</th><td>post_sexism_1</td><td></td><td>Agree somewhat</td><td></td><td>Neither disagree nor agree</td></tr><tr><th>22</th><td>post_sexism_2</td><td></td><td>Agree somewhat</td><td></td><td>Neither disagree nor agree</td></tr><tr><th>23</th><td>post_sexism_3</td><td></td><td>Agree somewhat</td><td></td><td>Neither disagree nor agree</td></tr><tr><th>24</th><td>post_sexism_4</td><td></td><td>Agree somewhat</td><td></td><td>Neither disagree nor agree</td></tr></tbody></table>"
      ],
      "text/latex": [
       "\\begin{tabular}{r|cccccc}\n",
       "\t& variable & mean & min & median & max & \\\\\n",
       "\t\\hline\n",
       "\t& Symbol & Union… & Any & Union… & Any & \\\\\n",
       "\t\\hline\n",
       "\t1 & id & 1404.17 & 1 & 1404.5 & 2807 & $\\dots$ \\\\\n",
       "\t2 & senator\\_party &  & Democrat &  & Republican & $\\dots$ \\\\\n",
       "\t3 & condition & 2.00641 & 1 & 2.0 & 3 & $\\dots$ \\\\\n",
       "\t4 & pid7 &  & Independent &  & Strong Republican & $\\dots$ \\\\\n",
       "\t5 & pre\\_sexism\\_1 &  & Agree somewhat &  & Neither disagree nor agree & $\\dots$ \\\\\n",
       "\t6 & pre\\_sexism\\_2 &  & Agree somewhat &  & Neither disagree nor agree & $\\dots$ \\\\\n",
       "\t7 & pre\\_sexism\\_3 &  & Agree somewhat &  & Neither disagree nor agree & $\\dots$ \\\\\n",
       "\t8 & pre\\_sexism\\_4 &  & Agree somewhat &  & Neither disagree nor agree & $\\dots$ \\\\\n",
       "\t9 & pre\\_favorability & 6.93158 & 0 & 7.0 & 10 & $\\dots$ \\\\\n",
       "\t10 & pre\\_vote & 5.98824 & 0 & 6.0 & 10 & $\\dots$ \\\\\n",
       "\t11 & gender &  & Man &  & Woman & $\\dots$ \\\\\n",
       "\t12 & age &  & 18-24 &  & 65 or over & $\\dots$ \\\\\n",
       "\t13 & newsinterest &  & Don't know &  & Some of the time & $\\dots$ \\\\\n",
       "\t14 & post\\_favorability & 5.60763 & 0 & 6.0 & 10 & $\\dots$ \\\\\n",
       "\t15 & post\\_vote & 5.00499 & 0 & 5.0 & 10 & $\\dots$ \\\\\n",
       "\t16 & punishment\\_1 &  & Agree somewhat &  & Neither disagree nor agree & $\\dots$ \\\\\n",
       "\t17 & punishment\\_2 &  & Agree somewhat &  & Neither disagree nor agree & $\\dots$ \\\\\n",
       "\t18 & punishment\\_3 &  & Agree somewhat &  & Neither disagree nor agree & $\\dots$ \\\\\n",
       "\t19 & punishment\\_4 &  & Agree somewhat &  & Neither disagree nor agree & $\\dots$ \\\\\n",
       "\t20 & punishment\\_5 &  & Agree somewhat &  & Neither disagree nor agree & $\\dots$ \\\\\n",
       "\t21 & post\\_sexism\\_1 &  & Agree somewhat &  & Neither disagree nor agree & $\\dots$ \\\\\n",
       "\t22 & post\\_sexism\\_2 &  & Agree somewhat &  & Neither disagree nor agree & $\\dots$ \\\\\n",
       "\t23 & post\\_sexism\\_3 &  & Agree somewhat &  & Neither disagree nor agree & $\\dots$ \\\\\n",
       "\t24 & post\\_sexism\\_4 &  & Agree somewhat &  & Neither disagree nor agree & $\\dots$ \\\\\n",
       "\\end{tabular}\n"
      ],
      "text/plain": [
       "24×8 DataFrame. Omitted printing of 4 columns\n",
       "│ Row │ variable          │ mean    │ min            │ median │\n",
       "│     │ \u001b[90mSymbol\u001b[39m            │ \u001b[90mUnion…\u001b[39m  │ \u001b[90mAny\u001b[39m            │ \u001b[90mUnion…\u001b[39m │\n",
       "├─────┼───────────────────┼─────────┼────────────────┼────────┤\n",
       "│ 1   │ id                │ 1404.17 │ 1              │ 1404.5 │\n",
       "│ 2   │ senator_party     │         │ Democrat       │        │\n",
       "│ 3   │ condition         │ 2.00641 │ 1              │ 2.0    │\n",
       "│ 4   │ pid7              │         │ Independent    │        │\n",
       "│ 5   │ pre_sexism_1      │         │ Agree somewhat │        │\n",
       "│ 6   │ pre_sexism_2      │         │ Agree somewhat │        │\n",
       "│ 7   │ pre_sexism_3      │         │ Agree somewhat │        │\n",
       "│ 8   │ pre_sexism_4      │         │ Agree somewhat │        │\n",
       "│ 9   │ pre_favorability  │ 6.93158 │ 0              │ 7.0    │\n",
       "│ 10  │ pre_vote          │ 5.98824 │ 0              │ 6.0    │\n",
       "⋮\n",
       "│ 14  │ post_favorability │ 5.60763 │ 0              │ 6.0    │\n",
       "│ 15  │ post_vote         │ 5.00499 │ 0              │ 5.0    │\n",
       "│ 16  │ punishment_1      │         │ Agree somewhat │        │\n",
       "│ 17  │ punishment_2      │         │ Agree somewhat │        │\n",
       "│ 18  │ punishment_3      │         │ Agree somewhat │        │\n",
       "│ 19  │ punishment_4      │         │ Agree somewhat │        │\n",
       "│ 20  │ punishment_5      │         │ Agree somewhat │        │\n",
       "│ 21  │ post_sexism_1     │         │ Agree somewhat │        │\n",
       "│ 22  │ post_sexism_2     │         │ Agree somewhat │        │\n",
       "│ 23  │ post_sexism_3     │         │ Agree somewhat │        │\n",
       "│ 24  │ post_sexism_4     │         │ Agree somewhat │        │"
      ]
     },
     "execution_count": 16,
     "metadata": {},
     "output_type": "execute_result"
    }
   ],
   "source": [
    "describe(df1)"
   ]
  },
  {
   "cell_type": "markdown",
   "metadata": {},
   "source": [
    "# Data Processing"
   ]
  },
  {
   "cell_type": "code",
   "execution_count": 17,
   "metadata": {},
   "outputs": [
    {
     "data": {
      "text/plain": [
       "\"\""
      ]
     },
     "execution_count": 17,
     "metadata": {},
     "output_type": "execute_result"
    }
   ],
   "source": [
    "# create and transform new var condition2\n",
    "df1.condition2 = \"\""
   ]
  },
  {
   "cell_type": "code",
   "execution_count": 18,
   "metadata": {},
   "outputs": [
    {
     "data": {
      "text/plain": [
       "\"Control\""
      ]
     },
     "execution_count": 18,
     "metadata": {},
     "output_type": "execute_result"
    }
   ],
   "source": [
    "df1[(df1[:condition] .== 1),:condition2]=\"Jokes\"\n",
    "df1[(df1[:condition] .== 2),:condition2]=\"Assault\"\n",
    "df1[(df1[:condition] .== 3),:condition2]=\"Control\""
   ]
  },
  {
   "cell_type": "code",
   "execution_count": 19,
   "metadata": {},
   "outputs": [
    {
     "data": {
      "text/plain": [
       "5-element Array{String,1}:\n",
       " \"Assault\"\n",
       " \"Assault\"\n",
       " \"Assault\"\n",
       " \"Jokes\"\n",
       " \"Control\""
      ]
     },
     "execution_count": 19,
     "metadata": {},
     "output_type": "execute_result"
    }
   ],
   "source": [
    "# check values\n",
    "df1[1:5,:condition2]"
   ]
  },
  {
   "cell_type": "code",
   "execution_count": 20,
   "metadata": {},
   "outputs": [
    {
     "data": {
      "text/plain": [
       "2806-element CategoricalArray{String,1,UInt32}:\n",
       " \"Assault\"\n",
       " \"Assault\"\n",
       " \"Assault\"\n",
       " \"Jokes\"\n",
       " \"Control\"\n",
       " \"Assault\"\n",
       " \"Control\"\n",
       " \"Control\"\n",
       " \"Assault\"\n",
       " \"Control\"\n",
       " \"Control\"\n",
       " \"Jokes\"\n",
       " \"Jokes\"\n",
       " ⋮\n",
       " \"Jokes\"\n",
       " \"Assault\"\n",
       " \"Assault\"\n",
       " \"Control\"\n",
       " \"Assault\"\n",
       " \"Control\"\n",
       " \"Assault\"\n",
       " \"Jokes\"\n",
       " \"Assault\"\n",
       " \"Assault\"\n",
       " \"Control\"\n",
       " \"Jokes\""
      ]
     },
     "execution_count": 20,
     "metadata": {},
     "output_type": "execute_result"
    }
   ],
   "source": [
    "# make categorical\n",
    "df1[:condition2] = CategoricalArray(df1[:condition2])"
   ]
  },
  {
   "cell_type": "code",
   "execution_count": 21,
   "metadata": {},
   "outputs": [
    {
     "data": {
      "text/plain": [
       "3-element Array{String,1}:\n",
       " \"Assault\"\n",
       " \"Control\"\n",
       " \"Jokes\""
      ]
     },
     "execution_count": 21,
     "metadata": {},
     "output_type": "execute_result"
    }
   ],
   "source": [
    "# check levels\n",
    "levels(df1[:condition2])"
   ]
  },
  {
   "cell_type": "code",
   "execution_count": 22,
   "metadata": {},
   "outputs": [
    {
     "data": {
      "text/plain": [
       "2806-element CategoricalArray{String,1,UInt32}:\n",
       " \"Assault\"\n",
       " \"Assault\"\n",
       " \"Assault\"\n",
       " \"Jokes\"\n",
       " \"Control\"\n",
       " \"Assault\"\n",
       " \"Control\"\n",
       " \"Control\"\n",
       " \"Assault\"\n",
       " \"Control\"\n",
       " \"Control\"\n",
       " \"Jokes\"\n",
       " \"Jokes\"\n",
       " ⋮\n",
       " \"Jokes\"\n",
       " \"Assault\"\n",
       " \"Assault\"\n",
       " \"Control\"\n",
       " \"Assault\"\n",
       " \"Control\"\n",
       " \"Assault\"\n",
       " \"Jokes\"\n",
       " \"Assault\"\n",
       " \"Assault\"\n",
       " \"Control\"\n",
       " \"Jokes\""
      ]
     },
     "execution_count": 22,
     "metadata": {},
     "output_type": "execute_result"
    }
   ],
   "source": [
    "# reorder levels\n",
    "levels!(df1[:condition2], [\"Control\", \"Jokes\", \"Assault\"])\n",
    "# exclamation mark (!) after function replaces object in place"
   ]
  },
  {
   "cell_type": "code",
   "execution_count": 23,
   "metadata": {},
   "outputs": [
    {
     "data": {
      "text/plain": [
       "3-element Array{String,1}:\n",
       " \"Control\"\n",
       " \"Jokes\"\n",
       " \"Assault\""
      ]
     },
     "execution_count": 23,
     "metadata": {},
     "output_type": "execute_result"
    }
   ],
   "source": [
    "# recheck levels\n",
    "levels(df1[:condition2])"
   ]
  },
  {
   "cell_type": "code",
   "execution_count": 24,
   "metadata": {},
   "outputs": [
    {
     "data": {
      "text/plain": [
       "8-element Named Array{Int64,1}\n",
       "Dim1                       │ \n",
       "───────────────────────────┼────\n",
       "Independent                │ 631\n",
       "Lean Democrat              │ 377\n",
       "Lean Republican            │ 269\n",
       "Not sure                   │  23\n",
       "Not very strong Democrat   │ 359\n",
       "Not very strong Republican │ 200\n",
       "Strong Democrat            │ 629\n",
       "Strong Republican          │ 318"
      ]
     },
     "execution_count": 24,
     "metadata": {},
     "output_type": "execute_result"
    }
   ],
   "source": [
    "# create and transform new var pid3\n",
    "# check tabulation (values)\n",
    "freqtable(df1.pid7)"
   ]
  },
  {
   "cell_type": "code",
   "execution_count": 25,
   "metadata": {},
   "outputs": [
    {
     "data": {
      "text/plain": [
       "2806-element CategoricalArray{String,1,UInt32}:\n",
       " \"Republican\"\n",
       " \"Democrat\"\n",
       " \"Democrat\"\n",
       " \"Independent\"\n",
       " \"Democrat\"\n",
       " \"Republican\"\n",
       " \"Democrat\"\n",
       " \"Republican\"\n",
       " \"Democrat\"\n",
       " \"Democrat\"\n",
       " \"Democrat\"\n",
       " \"Democrat\"\n",
       " \"Independent\"\n",
       " ⋮\n",
       " \"Independent\"\n",
       " \"Democrat\"\n",
       " \"Republican\"\n",
       " \"Independent\"\n",
       " \"Republican\"\n",
       " \"Democrat\"\n",
       " \"Democrat\"\n",
       " \"Republican\"\n",
       " \"Republican\"\n",
       " \"Democrat\"\n",
       " \"Democrat\"\n",
       " \"Republican\""
      ]
     },
     "execution_count": 25,
     "metadata": {},
     "output_type": "execute_result"
    }
   ],
   "source": [
    "df1.pid3 = \"\"\n",
    "df1[(df1[:pid7] .== \"Lean Democrat\"),:pid3]=\"Democrat\"\n",
    "df1[(df1[:pid7] .== \"Strong Democrat\"),:pid3]=\"Democrat\"\n",
    "df1[(df1[:pid7] .== \"Not very strong Democrat\"),:pid3]=\"Democrat\"\n",
    "\n",
    "df1[(df1[:pid7] .== \"Lean Republican\"),:pid3]=\"Republican\"\n",
    "df1[(df1[:pid7] .== \"Strong Republican\"),:pid3]=\"Republican\"\n",
    "df1[(df1[:pid7] .== \"Not very strong Republican\"),:pid3]=\"Republican\"\n",
    "\n",
    "df1[(df1[:pid7] .== \"Independent\"),:pid3]=\"Independent\"\n",
    "df1[(df1[:pid7] .== \"Not sure\"),:pid3]=\"Independent\"\n",
    "\n",
    "# make categorical\n",
    "df1[:pid3] = CategoricalArray(df1[:pid3])"
   ]
  },
  {
   "cell_type": "code",
   "execution_count": 26,
   "metadata": {},
   "outputs": [
    {
     "data": {
      "text/html": [
       "<table class=\"data-frame\"><thead><tr><th></th><th>variable</th><th>mean</th><th>min</th><th>median</th><th>max</th></tr><tr><th></th><th>Symbol</th><th>Union…</th><th>Any</th><th>Union…</th><th>Any</th></tr></thead><tbody><p>26 rows × 8 columns (omitted printing of 3 columns)</p><tr><th>1</th><td>id</td><td>1404.17</td><td>1</td><td>1404.5</td><td>2807</td></tr><tr><th>2</th><td>senator_party</td><td></td><td>Democrat</td><td></td><td>Republican</td></tr><tr><th>3</th><td>condition</td><td>2.00641</td><td>1</td><td>2.0</td><td>3</td></tr><tr><th>4</th><td>pid7</td><td></td><td>Independent</td><td></td><td>Strong Republican</td></tr><tr><th>5</th><td>pre_sexism_1</td><td></td><td>Agree somewhat</td><td></td><td>Neither disagree nor agree</td></tr><tr><th>6</th><td>pre_sexism_2</td><td></td><td>Agree somewhat</td><td></td><td>Neither disagree nor agree</td></tr><tr><th>7</th><td>pre_sexism_3</td><td></td><td>Agree somewhat</td><td></td><td>Neither disagree nor agree</td></tr><tr><th>8</th><td>pre_sexism_4</td><td></td><td>Agree somewhat</td><td></td><td>Neither disagree nor agree</td></tr><tr><th>9</th><td>pre_favorability</td><td>6.93158</td><td>0</td><td>7.0</td><td>10</td></tr><tr><th>10</th><td>pre_vote</td><td>5.98824</td><td>0</td><td>6.0</td><td>10</td></tr><tr><th>11</th><td>gender</td><td></td><td>Man</td><td></td><td>Woman</td></tr><tr><th>12</th><td>age</td><td></td><td>18-24</td><td></td><td>65 or over</td></tr><tr><th>13</th><td>newsinterest</td><td></td><td>Don't know</td><td></td><td>Some of the time</td></tr><tr><th>14</th><td>post_favorability</td><td>5.60763</td><td>0</td><td>6.0</td><td>10</td></tr><tr><th>15</th><td>post_vote</td><td>5.00499</td><td>0</td><td>5.0</td><td>10</td></tr><tr><th>16</th><td>punishment_1</td><td></td><td>Agree somewhat</td><td></td><td>Neither disagree nor agree</td></tr><tr><th>17</th><td>punishment_2</td><td></td><td>Agree somewhat</td><td></td><td>Neither disagree nor agree</td></tr><tr><th>18</th><td>punishment_3</td><td></td><td>Agree somewhat</td><td></td><td>Neither disagree nor agree</td></tr><tr><th>19</th><td>punishment_4</td><td></td><td>Agree somewhat</td><td></td><td>Neither disagree nor agree</td></tr><tr><th>20</th><td>punishment_5</td><td></td><td>Agree somewhat</td><td></td><td>Neither disagree nor agree</td></tr><tr><th>21</th><td>post_sexism_1</td><td></td><td>Agree somewhat</td><td></td><td>Neither disagree nor agree</td></tr><tr><th>22</th><td>post_sexism_2</td><td></td><td>Agree somewhat</td><td></td><td>Neither disagree nor agree</td></tr><tr><th>23</th><td>post_sexism_3</td><td></td><td>Agree somewhat</td><td></td><td>Neither disagree nor agree</td></tr><tr><th>24</th><td>post_sexism_4</td><td></td><td>Agree somewhat</td><td></td><td>Neither disagree nor agree</td></tr><tr><th>25</th><td>condition2</td><td></td><td>Control</td><td></td><td>Assault</td></tr><tr><th>26</th><td>pid3</td><td></td><td>Democrat</td><td></td><td>Republican</td></tr></tbody></table>"
      ],
      "text/latex": [
       "\\begin{tabular}{r|cccccc}\n",
       "\t& variable & mean & min & median & max & \\\\\n",
       "\t\\hline\n",
       "\t& Symbol & Union… & Any & Union… & Any & \\\\\n",
       "\t\\hline\n",
       "\t1 & id & 1404.17 & 1 & 1404.5 & 2807 & $\\dots$ \\\\\n",
       "\t2 & senator\\_party &  & Democrat &  & Republican & $\\dots$ \\\\\n",
       "\t3 & condition & 2.00641 & 1 & 2.0 & 3 & $\\dots$ \\\\\n",
       "\t4 & pid7 &  & Independent &  & Strong Republican & $\\dots$ \\\\\n",
       "\t5 & pre\\_sexism\\_1 &  & Agree somewhat &  & Neither disagree nor agree & $\\dots$ \\\\\n",
       "\t6 & pre\\_sexism\\_2 &  & Agree somewhat &  & Neither disagree nor agree & $\\dots$ \\\\\n",
       "\t7 & pre\\_sexism\\_3 &  & Agree somewhat &  & Neither disagree nor agree & $\\dots$ \\\\\n",
       "\t8 & pre\\_sexism\\_4 &  & Agree somewhat &  & Neither disagree nor agree & $\\dots$ \\\\\n",
       "\t9 & pre\\_favorability & 6.93158 & 0 & 7.0 & 10 & $\\dots$ \\\\\n",
       "\t10 & pre\\_vote & 5.98824 & 0 & 6.0 & 10 & $\\dots$ \\\\\n",
       "\t11 & gender &  & Man &  & Woman & $\\dots$ \\\\\n",
       "\t12 & age &  & 18-24 &  & 65 or over & $\\dots$ \\\\\n",
       "\t13 & newsinterest &  & Don't know &  & Some of the time & $\\dots$ \\\\\n",
       "\t14 & post\\_favorability & 5.60763 & 0 & 6.0 & 10 & $\\dots$ \\\\\n",
       "\t15 & post\\_vote & 5.00499 & 0 & 5.0 & 10 & $\\dots$ \\\\\n",
       "\t16 & punishment\\_1 &  & Agree somewhat &  & Neither disagree nor agree & $\\dots$ \\\\\n",
       "\t17 & punishment\\_2 &  & Agree somewhat &  & Neither disagree nor agree & $\\dots$ \\\\\n",
       "\t18 & punishment\\_3 &  & Agree somewhat &  & Neither disagree nor agree & $\\dots$ \\\\\n",
       "\t19 & punishment\\_4 &  & Agree somewhat &  & Neither disagree nor agree & $\\dots$ \\\\\n",
       "\t20 & punishment\\_5 &  & Agree somewhat &  & Neither disagree nor agree & $\\dots$ \\\\\n",
       "\t21 & post\\_sexism\\_1 &  & Agree somewhat &  & Neither disagree nor agree & $\\dots$ \\\\\n",
       "\t22 & post\\_sexism\\_2 &  & Agree somewhat &  & Neither disagree nor agree & $\\dots$ \\\\\n",
       "\t23 & post\\_sexism\\_3 &  & Agree somewhat &  & Neither disagree nor agree & $\\dots$ \\\\\n",
       "\t24 & post\\_sexism\\_4 &  & Agree somewhat &  & Neither disagree nor agree & $\\dots$ \\\\\n",
       "\t25 & condition2 &  & Control &  & Assault & $\\dots$ \\\\\n",
       "\t26 & pid3 &  & Democrat &  & Republican & $\\dots$ \\\\\n",
       "\\end{tabular}\n"
      ],
      "text/plain": [
       "26×8 DataFrame. Omitted printing of 4 columns\n",
       "│ Row │ variable         │ mean    │ min            │ median │\n",
       "│     │ \u001b[90mSymbol\u001b[39m           │ \u001b[90mUnion…\u001b[39m  │ \u001b[90mAny\u001b[39m            │ \u001b[90mUnion…\u001b[39m │\n",
       "├─────┼──────────────────┼─────────┼────────────────┼────────┤\n",
       "│ 1   │ id               │ 1404.17 │ 1              │ 1404.5 │\n",
       "│ 2   │ senator_party    │         │ Democrat       │        │\n",
       "│ 3   │ condition        │ 2.00641 │ 1              │ 2.0    │\n",
       "│ 4   │ pid7             │         │ Independent    │        │\n",
       "│ 5   │ pre_sexism_1     │         │ Agree somewhat │        │\n",
       "│ 6   │ pre_sexism_2     │         │ Agree somewhat │        │\n",
       "│ 7   │ pre_sexism_3     │         │ Agree somewhat │        │\n",
       "│ 8   │ pre_sexism_4     │         │ Agree somewhat │        │\n",
       "│ 9   │ pre_favorability │ 6.93158 │ 0              │ 7.0    │\n",
       "│ 10  │ pre_vote         │ 5.98824 │ 0              │ 6.0    │\n",
       "⋮\n",
       "│ 16  │ punishment_1     │         │ Agree somewhat │        │\n",
       "│ 17  │ punishment_2     │         │ Agree somewhat │        │\n",
       "│ 18  │ punishment_3     │         │ Agree somewhat │        │\n",
       "│ 19  │ punishment_4     │         │ Agree somewhat │        │\n",
       "│ 20  │ punishment_5     │         │ Agree somewhat │        │\n",
       "│ 21  │ post_sexism_1    │         │ Agree somewhat │        │\n",
       "│ 22  │ post_sexism_2    │         │ Agree somewhat │        │\n",
       "│ 23  │ post_sexism_3    │         │ Agree somewhat │        │\n",
       "│ 24  │ post_sexism_4    │         │ Agree somewhat │        │\n",
       "│ 25  │ condition2       │         │ Control        │        │\n",
       "│ 26  │ pid3             │         │ Democrat       │        │"
      ]
     },
     "execution_count": 26,
     "metadata": {},
     "output_type": "execute_result"
    }
   ],
   "source": [
    "describe(df1)"
   ]
  },
  {
   "cell_type": "code",
   "execution_count": 27,
   "metadata": {},
   "outputs": [
    {
     "data": {
      "text/plain": [
       "6-element Named Array{Int64,1}\n",
       "Dim1                       │ \n",
       "───────────────────────────┼────\n",
       "Agree somewhat             │ 560\n",
       "Agree strongly             │ 329\n",
       "Disagree somewhat          │ 415\n",
       "Disagree strongly          │ 276\n",
       "Neither disagree nor agree │ 290\n",
       "missing                    │ 936"
      ]
     },
     "execution_count": 27,
     "metadata": {},
     "output_type": "execute_result"
    }
   ],
   "source": [
    "# recode: punishment \n",
    "\n",
    "# punishment 1\n",
    "freqtable(df1.punishment_1)"
   ]
  },
  {
   "cell_type": "code",
   "execution_count": 28,
   "metadata": {},
   "outputs": [
    {
     "data": {
      "text/plain": [
       "Missings.EachReplaceMissing{PooledArrays.PooledArray{Union{Missing, String},UInt32,1,Array{UInt32,1}},String}(Union{Missing, String}[\"Neither disagree nor agree\", \"Disagree somewhat\", \"Disagree strongly\", \"Neither disagree nor agree\", missing, \"Disagree somewhat\", missing, missing, \"Agree somewhat\", missing  …  \"Agree strongly\", missing, \"Disagree strongly\", missing, \"Disagree somewhat\", \"Agree strongly\", \"Agree strongly\", \"Neither disagree nor agree\", missing, \"Neither disagree nor agree\"], \"\")"
      ]
     },
     "execution_count": 28,
     "metadata": {},
     "output_type": "execute_result"
    }
   ],
   "source": [
    "# var contains 'missing', which will not process in ==/> kind of functions, so need to recode missing first as \"\"\n",
    "df1.punishment_1b = df1.punishment_1\n",
    "df1.punishment_1b = Missings.replace(df1.punishment_1b, \"\")"
   ]
  },
  {
   "cell_type": "code",
   "execution_count": 29,
   "metadata": {},
   "outputs": [
    {
     "data": {
      "text/plain": [
       "6×6 Named Array{Int64,2}\n",
       "Dim1 ╲ Dim2 │             Agree somewhat  …                     missing\n",
       "────────────┼──────────────────────────────────────────────────────────\n",
       "1           │                          0  …                           0\n",
       "2           │                          0                              0\n",
       "3           │                          0                              0\n",
       "4           │                        560                              0\n",
       "5           │                          0                              0\n",
       "missing     │                          0  …                         936"
      ]
     },
     "execution_count": 29,
     "metadata": {},
     "output_type": "execute_result"
    }
   ],
   "source": [
    "# recode: punishment \n",
    "\n",
    "# punishment 1\n",
    "df1.needmoreevidence = 999\n",
    "df1[(df1[:punishment_1b] .== \"Agree strongly\"),:needmoreevidence]=5\n",
    "df1[(df1[:punishment_1b] .== \"Agree somewhat\"),:needmoreevidence]=4\n",
    "df1[(df1[:punishment_1b] .== \"Neither disagree nor agree\"),:needmoreevidence]=3\n",
    "df1[(df1[:punishment_1b] .== \"Disagree somewhat\"),:needmoreevidence]=2\n",
    "df1[(df1[:punishment_1b] .== \"Disagree strongly\"),:needmoreevidence]=1\n",
    "\n",
    "# now recode 999 as missing so future fxn will skip over\n",
    "df1[:needmoreevidence] = recode(df1[:needmoreevidence], 999=>missing)\n",
    "\n",
    "freqtable(df1.needmoreevidence, df1.punishment_1)"
   ]
  },
  {
   "cell_type": "code",
   "execution_count": 30,
   "metadata": {},
   "outputs": [
    {
     "data": {
      "text/plain": [
       "6-element Named Array{Int64,1}\n",
       "Dim1                       │ \n",
       "───────────────────────────┼────\n",
       "Agree somewhat             │ 352\n",
       "Agree strongly             │ 258\n",
       "Disagree somewhat          │ 360\n",
       "Disagree strongly          │ 342\n",
       "Neither disagree nor agree │ 558\n",
       "missing                    │ 936"
      ]
     },
     "execution_count": 30,
     "metadata": {},
     "output_type": "execute_result"
    }
   ],
   "source": [
    "# punishment 2 (to 'apology')\n",
    "freqtable(df1.punishment_2)"
   ]
  },
  {
   "cell_type": "code",
   "execution_count": 31,
   "metadata": {},
   "outputs": [
    {
     "data": {
      "text/plain": [
       "6×6 Named Array{Int64,2}\n",
       "Dim1 ╲ Dim2 │             Agree somewhat  …                     missing\n",
       "────────────┼──────────────────────────────────────────────────────────\n",
       "1           │                          0  …                           0\n",
       "2           │                          0                              0\n",
       "3           │                          0                              0\n",
       "4           │                        352                              0\n",
       "5           │                          0                              0\n",
       "missing     │                          0  …                         936"
      ]
     },
     "execution_count": 31,
     "metadata": {},
     "output_type": "execute_result"
    }
   ],
   "source": [
    "# var contains 'missing', which will not process in ==/> kind of functions, so need to recode missing first as \"\"\n",
    "df1.punishment_2b = df1.punishment_2\n",
    "df1.punishment_2b = Missings.replace(df1.punishment_2b, \"\")\n",
    "\n",
    "df1.apology = 999\n",
    "df1[(df1[:punishment_2b] .== \"Agree strongly\"),:apology]=5\n",
    "df1[(df1[:punishment_2b] .== \"Agree somewhat\"),:apology]=4\n",
    "df1[(df1[:punishment_2b] .== \"Neither disagree nor agree\"),:apology]=3\n",
    "df1[(df1[:punishment_2b] .== \"Disagree somewhat\"),:apology]=2\n",
    "df1[(df1[:punishment_2b] .== \"Disagree strongly\"),:apology]=1\n",
    "\n",
    "# recode 999 as missing\n",
    "df1[:apology] = recode(df1[:apology], 999=>missing)\n",
    "freqtable(df1.apology, df1.punishment_2)"
   ]
  },
  {
   "cell_type": "code",
   "execution_count": 32,
   "metadata": {},
   "outputs": [
    {
     "data": {
      "text/plain": [
       "6-element Named Array{Int64,1}\n",
       "Dim1                       │ \n",
       "───────────────────────────┼────\n",
       "Agree somewhat             │ 395\n",
       "Agree strongly             │ 243\n",
       "Disagree somewhat          │ 372\n",
       "Disagree strongly          │ 570\n",
       "Neither disagree nor agree │ 290\n",
       "missing                    │ 936"
      ]
     },
     "execution_count": 32,
     "metadata": {},
     "output_type": "execute_result"
    }
   ],
   "source": [
    "# punishment 3 (to 'longtimeago')\n",
    "freqtable(df1.punishment_3)"
   ]
  },
  {
   "cell_type": "code",
   "execution_count": 33,
   "metadata": {},
   "outputs": [
    {
     "data": {
      "text/plain": [
       "6×6 Named Array{Int64,2}\n",
       "Dim1 ╲ Dim2 │             Agree somewhat  …                     missing\n",
       "────────────┼──────────────────────────────────────────────────────────\n",
       "1           │                          0  …                           0\n",
       "2           │                          0                              0\n",
       "3           │                          0                              0\n",
       "4           │                        395                              0\n",
       "5           │                          0                              0\n",
       "missing     │                          0  …                         936"
      ]
     },
     "execution_count": 33,
     "metadata": {},
     "output_type": "execute_result"
    }
   ],
   "source": [
    "# var contains 'missing', which will not process in ==/> kind of functions, so need to recode missing first as \"\"\n",
    "df1.punishment_3b = df1.punishment_3\n",
    "df1.punishment_3b = Missings.replace(df1.punishment_3b, \"\")\n",
    "\n",
    "df1.longtimeago = 999\n",
    "df1[(df1[:punishment_3b] .== \"Agree strongly\"),:longtimeago]=5\n",
    "df1[(df1[:punishment_3b] .== \"Agree somewhat\"),:longtimeago]=4\n",
    "df1[(df1[:punishment_3b] .== \"Neither disagree nor agree\"),:longtimeago]=3\n",
    "df1[(df1[:punishment_3b] .== \"Disagree somewhat\"),:longtimeago]=2\n",
    "df1[(df1[:punishment_3b] .== \"Disagree strongly\"),:longtimeago]=1\n",
    "\n",
    "# recode 999 as missing\n",
    "df1[:longtimeago] = recode(df1[:longtimeago], 999=>missing)\n",
    "freqtable(df1.longtimeago, df1.punishment_3)"
   ]
  },
  {
   "cell_type": "code",
   "execution_count": 34,
   "metadata": {},
   "outputs": [
    {
     "data": {
      "text/plain": [
       "6-element Named Array{Int64,1}\n",
       "Dim1                       │ \n",
       "───────────────────────────┼────\n",
       "Agree somewhat             │ 219\n",
       "Agree strongly             │ 172\n",
       "Disagree somewhat          │ 393\n",
       "Disagree strongly          │ 679\n",
       "Neither disagree nor agree │ 407\n",
       "missing                    │ 936"
      ]
     },
     "execution_count": 34,
     "metadata": {},
     "output_type": "execute_result"
    }
   ],
   "source": [
    "# punishment 4 (to 'resign')\n",
    "freqtable(df1.punishment_4)"
   ]
  },
  {
   "cell_type": "code",
   "execution_count": 35,
   "metadata": {},
   "outputs": [
    {
     "data": {
      "text/plain": [
       "6×6 Named Array{Int64,2}\n",
       "Dim1 ╲ Dim2 │             Agree somewhat  …                     missing\n",
       "────────────┼──────────────────────────────────────────────────────────\n",
       "1           │                          0  …                           0\n",
       "2           │                          0                              0\n",
       "3           │                          0                              0\n",
       "4           │                        219                              0\n",
       "5           │                          0                              0\n",
       "missing     │                          0  …                         936"
      ]
     },
     "execution_count": 35,
     "metadata": {},
     "output_type": "execute_result"
    }
   ],
   "source": [
    "# var contains 'missing', which will not process in ==/> kind of functions, so need to recode missing first as \"\"\n",
    "df1.punishment_4b = df1.punishment_4\n",
    "df1.punishment_4b = Missings.replace(df1.punishment_4b, \"\")\n",
    "\n",
    "df1.resign = 999\n",
    "df1[(df1[:punishment_4b] .== \"Agree strongly\"),:resign]=5\n",
    "df1[(df1[:punishment_4b] .== \"Agree somewhat\"),:resign]=4\n",
    "df1[(df1[:punishment_4b] .== \"Neither disagree nor agree\"),:resign]=3\n",
    "df1[(df1[:punishment_4b] .== \"Disagree somewhat\"),:resign]=2\n",
    "df1[(df1[:punishment_4b] .== \"Disagree strongly\"),:resign]=1\n",
    "\n",
    "# recode 999 as missing\n",
    "df1[:resign] = recode(df1[:resign], 999=>missing)\n",
    "freqtable(df1.resign, df1.punishment_4)"
   ]
  },
  {
   "cell_type": "code",
   "execution_count": 36,
   "metadata": {},
   "outputs": [
    {
     "data": {
      "text/plain": [
       "6-element Named Array{Int64,1}\n",
       "Dim1                       │ \n",
       "───────────────────────────┼────\n",
       "Agree somewhat             │ 360\n",
       "Agree strongly             │ 170\n",
       "Disagree somewhat          │ 360\n",
       "Disagree strongly          │ 385\n",
       "Neither disagree nor agree │ 595\n",
       "missing                    │ 936"
      ]
     },
     "execution_count": 36,
     "metadata": {},
     "output_type": "execute_result"
    }
   ],
   "source": [
    "# punishment 5 (to 'elitecues')\n",
    "freqtable(df1.punishment_5)"
   ]
  },
  {
   "cell_type": "code",
   "execution_count": 37,
   "metadata": {},
   "outputs": [
    {
     "data": {
      "text/plain": [
       "6×6 Named Array{Int64,2}\n",
       "Dim1 ╲ Dim2 │             Agree somewhat  …                     missing\n",
       "────────────┼──────────────────────────────────────────────────────────\n",
       "1           │                          0  …                           0\n",
       "2           │                          0                              0\n",
       "3           │                          0                              0\n",
       "4           │                        360                              0\n",
       "5           │                          0                              0\n",
       "missing     │                          0  …                         936"
      ]
     },
     "execution_count": 37,
     "metadata": {},
     "output_type": "execute_result"
    }
   ],
   "source": [
    "# var contains 'missing', which will not process in ==/> kind of functions, so need to recode missing first as \"\"\n",
    "df1.punishment_5b = df1.punishment_5\n",
    "df1.punishment_5b = Missings.replace(df1.punishment_5b, \"\")\n",
    "\n",
    "df1.elitecues = 999\n",
    "df1[(df1[:punishment_5b] .== \"Agree strongly\"),:elitecues]=5\n",
    "df1[(df1[:punishment_5b] .== \"Agree somewhat\"),:elitecues]=4\n",
    "df1[(df1[:punishment_5b] .== \"Neither disagree nor agree\"),:elitecues]=3\n",
    "df1[(df1[:punishment_5b] .== \"Disagree somewhat\"),:elitecues]=2\n",
    "df1[(df1[:punishment_5b] .== \"Disagree strongly\"),:elitecues]=1\n",
    "\n",
    "# recode 999 as missing\n",
    "df1[:elitecues] = recode(df1[:elitecues], 999=>missing)\n",
    "freqtable(df1.elitecues, df1.punishment_5)"
   ]
  },
  {
   "cell_type": "code",
   "execution_count": 38,
   "metadata": {},
   "outputs": [
    {
     "data": {
      "text/plain": [
       "6×6 Named Array{Int64,2}\n",
       "Dim1 ╲ Dim2 │             Agree somewhat  …                     missing\n",
       "────────────┼──────────────────────────────────────────────────────────\n",
       "1           │                          0  …                           0\n",
       "2           │                        560                              0\n",
       "3           │                          0                              0\n",
       "4           │                          0                              0\n",
       "5           │                          0                              0\n",
       "missing     │                          0  …                         936"
      ]
     },
     "execution_count": 38,
     "metadata": {},
     "output_type": "execute_result"
    }
   ],
   "source": [
    "#############################\n",
    "# recode punishment: reverse codes\n",
    "#############################\n",
    "\n",
    "# need more evidence\n",
    "df1.needmoreevidence_reverse = 999\n",
    "df1[(df1[:punishment_1b] .== \"Agree strongly\"),:needmoreevidence_reverse]=1\n",
    "df1[(df1[:punishment_1b] .== \"Agree somewhat\"),:needmoreevidence_reverse]=2\n",
    "df1[(df1[:punishment_1b] .== \"Neither disagree nor agree\"),:needmoreevidence_reverse]=3\n",
    "df1[(df1[:punishment_1b] .== \"Disagree somewhat\"),:needmoreevidence_reverse]=4\n",
    "df1[(df1[:punishment_1b] .== \"Disagree strongly\"),:needmoreevidence_reverse]=5\n",
    "\n",
    "# now recode 999 as missing so future fxn will skip over\n",
    "df1[:needmoreevidence_reverse] = recode(df1[:needmoreevidence_reverse], 999=>missing)\n",
    "\n",
    "freqtable(df1.needmoreevidence_reverse, df1.punishment_1)"
   ]
  },
  {
   "cell_type": "code",
   "execution_count": 39,
   "metadata": {},
   "outputs": [
    {
     "data": {
      "text/plain": [
       "6×6 Named Array{Int64,2}\n",
       "Dim1 ╲ Dim2 │             Agree somewhat  …                     missing\n",
       "────────────┼──────────────────────────────────────────────────────────\n",
       "1           │                          0  …                           0\n",
       "2           │                        395                              0\n",
       "3           │                          0                              0\n",
       "4           │                          0                              0\n",
       "5           │                          0                              0\n",
       "missing     │                          0  …                         936"
      ]
     },
     "execution_count": 39,
     "metadata": {},
     "output_type": "execute_result"
    }
   ],
   "source": [
    "# long time ago\n",
    "df1.longtimeago_reverse = 999\n",
    "df1[(df1[:punishment_3b] .== \"Agree strongly\"),:longtimeago_reverse]=1\n",
    "df1[(df1[:punishment_3b] .== \"Agree somewhat\"),:longtimeago_reverse]=2\n",
    "df1[(df1[:punishment_3b] .== \"Neither disagree nor agree\"),:longtimeago_reverse]=3\n",
    "df1[(df1[:punishment_3b] .== \"Disagree somewhat\"),:longtimeago_reverse]=4\n",
    "df1[(df1[:punishment_3b] .== \"Disagree strongly\"),:longtimeago_reverse]=5\n",
    "\n",
    "# recode 999 as missing\n",
    "df1[:longtimeago_reverse] = recode(df1[:longtimeago_reverse], 999=>missing)\n",
    "freqtable(df1.longtimeago_reverse, df1.punishment_3)"
   ]
  },
  {
   "cell_type": "code",
   "execution_count": 40,
   "metadata": {},
   "outputs": [
    {
     "data": {
      "text/plain": [
       "2806-element Array{Union{Missing, Float64},1}:\n",
       " 3.25\n",
       " 3.75\n",
       " 5.0\n",
       " 3.0\n",
       "  missing\n",
       " 3.5\n",
       "  missing\n",
       "  missing\n",
       " 2.25\n",
       "  missing\n",
       "  missing\n",
       " 3.75\n",
       " 3.25\n",
       " ⋮\n",
       " 1.75\n",
       " 3.5\n",
       " 1.5\n",
       "  missing\n",
       " 5.0\n",
       "  missing\n",
       " 3.25\n",
       " 2.0\n",
       " 1.0\n",
       " 3.5\n",
       "  missing\n",
       " 3.0"
      ]
     },
     "execution_count": 40,
     "metadata": {},
     "output_type": "execute_result"
    }
   ],
   "source": [
    "# new variable: mean punitiveness score ####\n",
    "df1[:meanpunishment] = ((df1[:apology]+df1[:resign]+df1[:needmoreevidence_reverse]+df1[:longtimeago_reverse])/4)"
   ]
  },
  {
   "cell_type": "code",
   "execution_count": 41,
   "metadata": {},
   "outputs": [
    {
     "name": "stdout",
     "output_type": "stream",
     "text": [
      "Summary Stats:\n",
      "Length:         2806\n",
      "Missing Count:  936\n",
      "Mean:           2.868449\n",
      "Minimum:        1.000000\n",
      "1st Quartile:   2.000000\n",
      "Median:         3.000000\n",
      "3rd Quartile:   3.500000\n",
      "Maximum:        5.000000\n",
      "Type:           Union{Missing, Float64}\n"
     ]
    }
   ],
   "source": [
    "describe(df1.meanpunishment)"
   ]
  },
  {
   "cell_type": "code",
   "execution_count": 42,
   "metadata": {},
   "outputs": [
    {
     "data": {
      "text/plain": [
       "2×2 Named Array{Int64,2}\n",
       "Dim1 ╲ Dim2 │   Democrat  Republican\n",
       "────────────┼───────────────────────\n",
       "Democrat    │       1407           0\n",
       "Republican  │          0        1399"
      ]
     },
     "execution_count": 42,
     "metadata": {},
     "output_type": "execute_result"
    }
   ],
   "source": [
    "## new variable: same party as legislator####\n",
    "freqtable(df1.senator_party, df1.senator_party)"
   ]
  },
  {
   "cell_type": "code",
   "execution_count": 43,
   "metadata": {},
   "outputs": [
    {
     "data": {
      "text/plain": [
       "2806-element CategoricalArray{String,1,UInt32}:\n",
       " \"Opposite party\"\n",
       " \"Opposite party\"\n",
       " \"Opposite party\"\n",
       " \"Independents/Not sures\"\n",
       " \"Same party\"\n",
       " \"Same party\"\n",
       " \"Opposite party\"\n",
       " \"Same party\"\n",
       " \"Same party\"\n",
       " \"Same party\"\n",
       " \"Opposite party\"\n",
       " \"Opposite party\"\n",
       " \"Independents/Not sures\"\n",
       " ⋮\n",
       " \"Independents/Not sures\"\n",
       " \"Opposite party\"\n",
       " \"Same party\"\n",
       " \"Independents/Not sures\"\n",
       " \"Same party\"\n",
       " \"Opposite party\"\n",
       " \"Same party\"\n",
       " \"Opposite party\"\n",
       " \"Same party\"\n",
       " \"Opposite party\"\n",
       " \"Opposite party\"\n",
       " \"Same party\""
      ]
     },
     "execution_count": 43,
     "metadata": {},
     "output_type": "execute_result"
    }
   ],
   "source": [
    "df1.sameparty = \"\"\n",
    "df1[( (df1[:pid3] .== \"Democrat\") .& (df1[:senator_party] .== \"Democrat\") ) .|\n",
    "    ( (df1[:pid3] .== \"Republican\") .& (df1[:senator_party] .== \"Republican\") ),:sameparty] =\"Same party\"\n",
    "\n",
    "df1[( (df1[:pid3] .== \"Democrat\") .& (df1[:senator_party] .== \"Republican\") ) .|\n",
    "    ( (df1[:pid3] .== \"Republican\") .& (df1[:senator_party] .== \"Democrat\") ),:sameparty] =\"Opposite party\"\n",
    "\n",
    "df1[(df1[:pid3] .== \"Independent\"),:sameparty] = \"Independents/Not sures\" \n",
    "\n",
    "#make categorical\n",
    "df1[:sameparty] = CategoricalArray(df1[:sameparty])"
   ]
  },
  {
   "cell_type": "code",
   "execution_count": 44,
   "metadata": {},
   "outputs": [
    {
     "data": {
      "text/plain": [
       "3-element Named Array{Int64,1}\n",
       "Dim1                                                     │ \n",
       "─────────────────────────────────────────────────────────┼─────\n",
       "CategoricalValue{String,UInt32} \"Independents/Not sures\" │  654\n",
       "CategoricalValue{String,UInt32} \"Opposite party\"         │ 1088\n",
       "CategoricalValue{String,UInt32} \"Same party\"             │ 1064"
      ]
     },
     "execution_count": 44,
     "metadata": {},
     "output_type": "execute_result"
    }
   ],
   "source": [
    "freqtable(df1.sameparty)"
   ]
  },
  {
   "cell_type": "code",
   "execution_count": 45,
   "metadata": {},
   "outputs": [
    {
     "data": {
      "text/plain": [
       "5-element Named Array{Int64,1}\n",
       "Dim1  │ \n",
       "──────┼────\n",
       "1     │ 905\n",
       "2     │ 793\n",
       "3     │ 459\n",
       "4     │ 493\n",
       "5     │ 156"
      ]
     },
     "execution_count": 45,
     "metadata": {},
     "output_type": "execute_result"
    }
   ],
   "source": [
    "# recode: pre sexism ####\n",
    "# sexism_1,2,4 reverse coded\n",
    "# see original R code from authors\n",
    "\n",
    "# tried using recode and dictionaries, but could not get it to work\n",
    "# instead, generated simple numeric based on values of pre_sexism_#\n",
    "\n",
    "#df1.pre_sexism_1new = recode(df1.pre_sexism_1, \n",
    "#    5=>\"Agree strongly\",\n",
    "#    4=>\"Agree somewhat\",\n",
    "#    3=>\"Neither disagree nor agree\",\n",
    "#    2=>\"Disagree somewhat\",\n",
    "#    1=>\"Disagree strongly\")\n",
    "\n",
    "# alt: could use dictionary: A = Categorical([1 2;2 1;2 2;1 1], Dict(1=>\"male\", 2=>\"female\"))\n",
    "\n",
    "df1.pre_sexism_1new = 999\n",
    "df1[ (df1[:pre_sexism_1] .== \"Agree strongly\"),:pre_sexism_1new] =5\n",
    "df1[ (df1[:pre_sexism_1] .== \"Agree somewhat\"),:pre_sexism_1new] =4\n",
    "df1[ (df1[:pre_sexism_1] .== \"Neither disagree nor agree\"),:pre_sexism_1new] =3\n",
    "df1[ (df1[:pre_sexism_1] .== \"Disagree somewhat\"),:pre_sexism_1new] =2\n",
    "df1[ (df1[:pre_sexism_1] .== \"Disagree strongly\"),:pre_sexism_1new] =1\n",
    "freqtable(df1.pre_sexism_1new)"
   ]
  },
  {
   "cell_type": "code",
   "execution_count": 46,
   "metadata": {},
   "outputs": [
    {
     "data": {
      "text/plain": [
       "5-element Named Array{Int64,1}\n",
       "Dim1  │ \n",
       "──────┼────\n",
       "1     │ 919\n",
       "2     │ 661\n",
       "3     │ 437\n",
       "4     │ 556\n",
       "5     │ 233"
      ]
     },
     "execution_count": 46,
     "metadata": {},
     "output_type": "execute_result"
    }
   ],
   "source": [
    "df1.pre_sexism_2new = 999\n",
    "df1[ (df1[:pre_sexism_2] .== \"Agree strongly\"),:pre_sexism_2new] =5\n",
    "df1[ (df1[:pre_sexism_2] .== \"Agree somewhat\"),:pre_sexism_2new] =4\n",
    "df1[ (df1[:pre_sexism_2] .== \"Neither disagree nor agree\"),:pre_sexism_2new] =3\n",
    "df1[ (df1[:pre_sexism_2] .== \"Disagree somewhat\"),:pre_sexism_2new] =2\n",
    "df1[ (df1[:pre_sexism_2] .== \"Disagree strongly\"),:pre_sexism_2new] =1\n",
    "freqtable(df1.pre_sexism_2new)"
   ]
  },
  {
   "cell_type": "code",
   "execution_count": 47,
   "metadata": {},
   "outputs": [
    {
     "data": {
      "text/plain": [
       "5-element Named Array{Int64,1}\n",
       "Dim1  │ \n",
       "──────┼────\n",
       "1     │ 940\n",
       "2     │ 684\n",
       "3     │ 445\n",
       "4     │ 552\n",
       "5     │ 185"
      ]
     },
     "execution_count": 47,
     "metadata": {},
     "output_type": "execute_result"
    }
   ],
   "source": [
    "df1.pre_sexism_4new = 999\n",
    "df1[ (df1[:pre_sexism_4] .== \"Agree strongly\"),:pre_sexism_4new] =5\n",
    "df1[ (df1[:pre_sexism_4] .== \"Agree somewhat\"),:pre_sexism_4new] =4\n",
    "df1[ (df1[:pre_sexism_4] .== \"Neither disagree nor agree\"),:pre_sexism_4new] =3\n",
    "df1[ (df1[:pre_sexism_4] .== \"Disagree somewhat\"),:pre_sexism_4new] =2\n",
    "df1[ (df1[:pre_sexism_4] .== \"Disagree strongly\"),:pre_sexism_4new] =1\n",
    "freqtable(df1.pre_sexism_4new)"
   ]
  },
  {
   "cell_type": "code",
   "execution_count": 48,
   "metadata": {},
   "outputs": [
    {
     "data": {
      "text/plain": [
       "5-element Named Array{Int64,1}\n",
       "Dim1  │ \n",
       "──────┼────\n",
       "1     │ 925\n",
       "2     │ 825\n",
       "3     │ 504\n",
       "4     │ 339\n",
       "5     │ 213"
      ]
     },
     "execution_count": 48,
     "metadata": {},
     "output_type": "execute_result"
    }
   ],
   "source": [
    "df1.pre_sexism_3new = 999\n",
    "df1[ (df1[:pre_sexism_3] .== \"Agree strongly\"),:pre_sexism_3new] =1\n",
    "df1[ (df1[:pre_sexism_3] .== \"Agree somewhat\"),:pre_sexism_3new] =2\n",
    "df1[ (df1[:pre_sexism_3] .== \"Neither disagree nor agree\"),:pre_sexism_3new] =3\n",
    "df1[ (df1[:pre_sexism_3] .== \"Disagree somewhat\"),:pre_sexism_3new] =4\n",
    "df1[ (df1[:pre_sexism_3] .== \"Disagree strongly\"),:pre_sexism_3new] =5\n",
    "freqtable(df1.pre_sexism_3new)"
   ]
  },
  {
   "cell_type": "code",
   "execution_count": 49,
   "metadata": {},
   "outputs": [
    {
     "data": {
      "text/plain": [
       "2806-element Array{Float64,1}:\n",
       " 3.75\n",
       " 2.75\n",
       " 2.0\n",
       " 3.25\n",
       " 1.0\n",
       " 3.0\n",
       " 3.0\n",
       " 4.0\n",
       " 1.0\n",
       " 1.5\n",
       " 2.0\n",
       " 4.25\n",
       " 3.0\n",
       " ⋮\n",
       " 3.75\n",
       " 1.5\n",
       " 2.5\n",
       " 2.25\n",
       " 1.0\n",
       " 1.0\n",
       " 1.75\n",
       " 4.0\n",
       " 3.0\n",
       " 3.5\n",
       " 1.0\n",
       " 3.0"
      ]
     },
     "execution_count": 49,
     "metadata": {},
     "output_type": "execute_result"
    }
   ],
   "source": [
    "# new variable: pre_sexism ####\n",
    "df1[:pre_sexism] = ((df1[:pre_sexism_1new] + df1[:pre_sexism_2new] + df1[:pre_sexism_3new] + df1[:pre_sexism_4new])/4)"
   ]
  },
  {
   "cell_type": "code",
   "execution_count": 50,
   "metadata": {},
   "outputs": [
    {
     "data": {
      "text/plain": [
       "2806-element Array{Float64,1}:\n",
       " 2.0\n",
       " 3.25\n",
       " 1.75\n",
       " 4.0\n",
       " 1.0\n",
       " 3.0\n",
       " 3.25\n",
       " 4.0\n",
       " 1.0\n",
       " 1.25\n",
       " 2.0\n",
       " 4.0\n",
       " 3.75\n",
       " ⋮\n",
       " 4.0\n",
       " 1.0\n",
       " 2.5\n",
       " 2.25\n",
       " 1.0\n",
       " 1.0\n",
       " 1.75\n",
       " 5.0\n",
       " 3.0\n",
       " 3.25\n",
       " 1.0\n",
       " 3.0"
      ]
     },
     "execution_count": 50,
     "metadata": {},
     "output_type": "execute_result"
    }
   ],
   "source": [
    "# recode post_sexism\n",
    "# sexism_1,2,4 reverse coded (same as pre_sexism)\n",
    "# see original R code from authors\n",
    "\n",
    "df1.post_sexism_1new = 999\n",
    "df1[ (df1[:post_sexism_1] .== \"Agree strongly\"),:post_sexism_1new] =5\n",
    "df1[ (df1[:post_sexism_1] .== \"Agree somewhat\"),:post_sexism_1new] =4\n",
    "df1[ (df1[:post_sexism_1] .== \"Neither disagree nor agree\"),:post_sexism_1new] =3\n",
    "df1[ (df1[:post_sexism_1] .== \"Disagree somewhat\"),:post_sexism_1new] =2\n",
    "df1[ (df1[:post_sexism_1] .== \"Disagree strongly\"),:post_sexism_1new] =1\n",
    "\n",
    "df1.post_sexism_2new = 999\n",
    "df1[ (df1[:post_sexism_2] .== \"Agree strongly\"),:post_sexism_2new] =5\n",
    "df1[ (df1[:post_sexism_2] .== \"Agree somewhat\"),:post_sexism_2new] =4\n",
    "df1[ (df1[:post_sexism_2] .== \"Neither disagree nor agree\"),:post_sexism_2new] =3\n",
    "df1[ (df1[:post_sexism_2] .== \"Disagree somewhat\"),:post_sexism_2new] =2\n",
    "df1[ (df1[:post_sexism_2] .== \"Disagree strongly\"),:post_sexism_2new] =1\n",
    "\n",
    "df1.post_sexism_4new = 999\n",
    "df1[ (df1[:post_sexism_4] .== \"Agree strongly\"),:post_sexism_4new] =5\n",
    "df1[ (df1[:post_sexism_4] .== \"Agree somewhat\"),:post_sexism_4new] =4\n",
    "df1[ (df1[:post_sexism_4] .== \"Neither disagree nor agree\"),:post_sexism_4new] =3\n",
    "df1[ (df1[:post_sexism_4] .== \"Disagree somewhat\"),:post_sexism_4new] =2\n",
    "df1[ (df1[:post_sexism_4] .== \"Disagree strongly\"),:post_sexism_4new] =1\n",
    "\n",
    "df1.post_sexism_3new = 999\n",
    "df1[ (df1[:post_sexism_3] .== \"Agree strongly\"),:post_sexism_3new] =1\n",
    "df1[ (df1[:post_sexism_3] .== \"Agree somewhat\"),:post_sexism_3new] =2\n",
    "df1[ (df1[:post_sexism_3] .== \"Neither disagree nor agree\"),:post_sexism_3new] =3\n",
    "df1[ (df1[:post_sexism_3] .== \"Disagree somewhat\"),:post_sexism_3new] =4\n",
    "df1[ (df1[:post_sexism_3] .== \"Disagree strongly\"),:post_sexism_3new] =5\n",
    "\n",
    "# new variable: post_sexism ####\n",
    "df1[:post_sexism] = ((df1[:post_sexism_1new] + df1[:post_sexism_2new] + df1[:post_sexism_3new] + df1[:post_sexism_4new])/4)"
   ]
  },
  {
   "cell_type": "code",
   "execution_count": 51,
   "metadata": {},
   "outputs": [
    {
     "data": {
      "text/plain": [
       "2806-element Array{Int64,1}:\n",
       "  0\n",
       " -3\n",
       " -3\n",
       " -2\n",
       "  1\n",
       " -1\n",
       " -1\n",
       "  0\n",
       " -5\n",
       " -1\n",
       "  0\n",
       " -2\n",
       "  0\n",
       "  ⋮\n",
       "  1\n",
       " -2\n",
       "  0\n",
       "  1\n",
       " -9\n",
       "  0\n",
       " -2\n",
       "  3\n",
       " -1\n",
       " -2\n",
       "  0\n",
       " -3"
      ]
     },
     "execution_count": 51,
     "metadata": {},
     "output_type": "execute_result"
    }
   ],
   "source": [
    "### new variables: \n",
    "# raw change from pretest to posttest ####\n",
    "# favorability\n",
    "df1[:change_favorability] = (df1.post_favorability.+1) - (df1.pre_favorability.+1)"
   ]
  },
  {
   "cell_type": "code",
   "execution_count": 52,
   "metadata": {},
   "outputs": [
    {
     "data": {
      "text/plain": [
       "2806-element Array{Int64,1}:\n",
       "  4\n",
       " -1\n",
       "  0\n",
       "  1\n",
       "  0\n",
       "  0\n",
       "  2\n",
       "  0\n",
       " -4\n",
       " -2\n",
       "  0\n",
       " -1\n",
       "  0\n",
       "  ⋮\n",
       "  1\n",
       " -3\n",
       "  0\n",
       "  0\n",
       " -9\n",
       "  1\n",
       " -2\n",
       "  1\n",
       " -2\n",
       "  1\n",
       "  0\n",
       " -3"
      ]
     },
     "execution_count": 52,
     "metadata": {},
     "output_type": "execute_result"
    }
   ],
   "source": [
    "# vote\n",
    "df1[:change_vote] = (df1.post_vote) - (df1.pre_vote)"
   ]
  },
  {
   "cell_type": "code",
   "execution_count": 53,
   "metadata": {},
   "outputs": [
    {
     "data": {
      "text/plain": [
       "2806-element Array{Float64,1}:\n",
       " -1.75\n",
       "  0.5\n",
       " -0.25\n",
       "  0.75\n",
       "  0.0\n",
       "  0.0\n",
       "  0.25\n",
       "  0.0\n",
       "  0.0\n",
       " -0.25\n",
       "  0.0\n",
       " -0.25\n",
       "  0.75\n",
       "  ⋮\n",
       "  0.25\n",
       " -0.5\n",
       "  0.0\n",
       "  0.0\n",
       "  0.0\n",
       "  0.0\n",
       "  0.0\n",
       "  1.0\n",
       "  0.0\n",
       " -0.25\n",
       "  0.0\n",
       "  0.0"
      ]
     },
     "execution_count": 53,
     "metadata": {},
     "output_type": "execute_result"
    }
   ],
   "source": [
    "# sexism\n",
    "df1[:change_sexism] = (df1.post_sexism) - (df1.pre_sexism)"
   ]
  },
  {
   "cell_type": "code",
   "execution_count": 54,
   "metadata": {},
   "outputs": [
    {
     "data": {
      "text/plain": [
       "2806-element Array{Float64,1}:\n",
       "   0.0\n",
       " -50.0\n",
       " -50.0\n",
       " -25.0\n",
       "  14.285714285714285\n",
       " -12.5\n",
       " -12.5\n",
       "   0.0\n",
       " -45.45454545454545\n",
       " -11.11111111111111\n",
       "   0.0\n",
       " -50.0\n",
       "   0.0\n",
       "   ⋮\n",
       "  16.666666666666664\n",
       " -25.0\n",
       "   0.0\n",
       "  10.0\n",
       " -90.0\n",
       "   0.0\n",
       " -28.57142857142857\n",
       " 150.0\n",
       " -12.5\n",
       " -22.22222222222222\n",
       "   0.0\n",
       " -33.33333333333333"
      ]
     },
     "execution_count": 54,
     "metadata": {},
     "output_type": "execute_result"
    }
   ],
   "source": [
    "### new variables: \n",
    "# percent change from pretest to posttest ##### favorability\n",
    "df1[:perchange_favorability] = (((df1[:post_favorability].+1) - (df1[:pre_favorability].+1))./(df1[:pre_favorability].+1))*100"
   ]
  },
  {
   "cell_type": "code",
   "execution_count": 55,
   "metadata": {},
   "outputs": [
    {
     "data": {
      "text/plain": [
       "2806-element Array{Float64,1}:\n",
       " 100.0\n",
       " -25.0\n",
       "   0.0\n",
       "  14.285714285714285\n",
       "   0.0\n",
       "   0.0\n",
       "  28.57142857142857\n",
       "   0.0\n",
       " -36.36363636363637\n",
       " -20.0\n",
       "   0.0\n",
       " -33.33333333333333\n",
       "   0.0\n",
       "   ⋮\n",
       "  14.285714285714285\n",
       " -50.0\n",
       "   0.0\n",
       "   0.0\n",
       " -90.0\n",
       "  10.0\n",
       " -28.57142857142857\n",
       "  33.33333333333333\n",
       " -18.181818181818183\n",
       "  11.11111111111111\n",
       "   0.0\n",
       " -37.5"
      ]
     },
     "execution_count": 55,
     "metadata": {},
     "output_type": "execute_result"
    }
   ],
   "source": [
    "# vote\n",
    "df1[:perchange_vote] = (((df1.post_vote.+1) - (df1.pre_vote.+1))./(df1.pre_vote.+1))*100"
   ]
  },
  {
   "cell_type": "code",
   "execution_count": 56,
   "metadata": {},
   "outputs": [
    {
     "data": {
      "text/plain": [
       "2806-element Array{Float64,1}:\n",
       " -36.84210526315789\n",
       "  13.333333333333334\n",
       "  -8.333333333333332\n",
       "  17.647058823529413\n",
       "   0.0\n",
       "   0.0\n",
       "   6.25\n",
       "   0.0\n",
       "   0.0\n",
       " -10.0\n",
       "   0.0\n",
       "  -4.761904761904762\n",
       "  18.75\n",
       "   ⋮\n",
       "   5.263157894736842\n",
       " -20.0\n",
       "   0.0\n",
       "   0.0\n",
       "   0.0\n",
       "   0.0\n",
       "   0.0\n",
       "  20.0\n",
       "   0.0\n",
       "  -5.555555555555555\n",
       "   0.0\n",
       "   0.0"
      ]
     },
     "execution_count": 56,
     "metadata": {},
     "output_type": "execute_result"
    }
   ],
   "source": [
    "# sexism\n",
    "df1[:perchange_sexism] = (((df1[:post_sexism].+1) - (df1[:pre_sexism].+1))./(df1[:pre_sexism].+1))*100"
   ]
  },
  {
   "cell_type": "code",
   "execution_count": 57,
   "metadata": {},
   "outputs": [
    {
     "data": {
      "text/html": [
       "<table class=\"data-frame\"><thead><tr><th></th><th>id</th><th>senator_party</th><th>condition</th><th>pid7</th><th>pre_sexism_1</th></tr><tr><th></th><th>Int64</th><th>String</th><th>Int64</th><th>String</th><th>String</th></tr></thead><tbody><p>2,152 rows × 56 columns (omitted printing of 51 columns)</p><tr><th>1</th><td>1</td><td>Democrat</td><td>2</td><td>Strong Republican</td><td>Agree strongly</td></tr><tr><th>2</th><td>2</td><td>Republican</td><td>2</td><td>Not very strong Democrat</td><td>Disagree somewhat</td></tr><tr><th>3</th><td>3</td><td>Republican</td><td>2</td><td>Strong Democrat</td><td>Disagree strongly</td></tr><tr><th>4</th><td>5</td><td>Democrat</td><td>3</td><td>Strong Democrat</td><td>Disagree strongly</td></tr><tr><th>5</th><td>6</td><td>Republican</td><td>2</td><td>Lean Republican</td><td>Neither disagree nor agree</td></tr><tr><th>6</th><td>7</td><td>Republican</td><td>3</td><td>Strong Democrat</td><td>Neither disagree nor agree</td></tr><tr><th>7</th><td>8</td><td>Republican</td><td>3</td><td>Not very strong Republican</td><td>Agree strongly</td></tr><tr><th>8</th><td>9</td><td>Democrat</td><td>2</td><td>Not very strong Democrat</td><td>Disagree strongly</td></tr><tr><th>9</th><td>10</td><td>Democrat</td><td>3</td><td>Strong Democrat</td><td>Disagree strongly</td></tr><tr><th>10</th><td>11</td><td>Republican</td><td>3</td><td>Strong Democrat</td><td>Disagree strongly</td></tr><tr><th>11</th><td>12</td><td>Republican</td><td>1</td><td>Not very strong Democrat</td><td>Agree somewhat</td></tr><tr><th>12</th><td>14</td><td>Republican</td><td>1</td><td>Not very strong Republican</td><td>Agree somewhat</td></tr><tr><th>13</th><td>15</td><td>Republican</td><td>3</td><td>Lean Republican</td><td>Disagree somewhat</td></tr><tr><th>14</th><td>16</td><td>Democrat</td><td>3</td><td>Strong Democrat</td><td>Disagree somewhat</td></tr><tr><th>15</th><td>18</td><td>Democrat</td><td>2</td><td>Strong Democrat</td><td>Disagree strongly</td></tr><tr><th>16</th><td>19</td><td>Democrat</td><td>3</td><td>Not very strong Republican</td><td>Disagree somewhat</td></tr><tr><th>17</th><td>20</td><td>Democrat</td><td>2</td><td>Strong Democrat</td><td>Agree somewhat</td></tr><tr><th>18</th><td>21</td><td>Democrat</td><td>3</td><td>Not very strong Republican</td><td>Agree somewhat</td></tr><tr><th>19</th><td>24</td><td>Democrat</td><td>3</td><td>Lean Republican</td><td>Agree somewhat</td></tr><tr><th>20</th><td>25</td><td>Democrat</td><td>2</td><td>Strong Democrat</td><td>Disagree strongly</td></tr><tr><th>21</th><td>27</td><td>Republican</td><td>2</td><td>Strong Democrat</td><td>Disagree strongly</td></tr><tr><th>22</th><td>28</td><td>Republican</td><td>2</td><td>Lean Democrat</td><td>Neither disagree nor agree</td></tr><tr><th>23</th><td>29</td><td>Democrat</td><td>3</td><td>Strong Democrat</td><td>Disagree strongly</td></tr><tr><th>24</th><td>31</td><td>Democrat</td><td>3</td><td>Lean Democrat</td><td>Disagree strongly</td></tr><tr><th>25</th><td>33</td><td>Republican</td><td>2</td><td>Not very strong Democrat</td><td>Agree somewhat</td></tr><tr><th>26</th><td>34</td><td>Democrat</td><td>3</td><td>Strong Democrat</td><td>Disagree strongly</td></tr><tr><th>27</th><td>35</td><td>Democrat</td><td>3</td><td>Strong Democrat</td><td>Disagree somewhat</td></tr><tr><th>28</th><td>36</td><td>Democrat</td><td>1</td><td>Strong Republican</td><td>Disagree somewhat</td></tr><tr><th>29</th><td>37</td><td>Republican</td><td>3</td><td>Lean Republican</td><td>Agree somewhat</td></tr><tr><th>30</th><td>41</td><td>Republican</td><td>3</td><td>Strong Republican</td><td>Agree somewhat</td></tr><tr><th>&vellip;</th><td>&vellip;</td><td>&vellip;</td><td>&vellip;</td><td>&vellip;</td><td>&vellip;</td></tr></tbody></table>"
      ],
      "text/latex": [
       "\\begin{tabular}{r|cccccc}\n",
       "\t& id & senator\\_party & condition & pid7 & pre\\_sexism\\_1 & \\\\\n",
       "\t\\hline\n",
       "\t& Int64 & String & Int64 & String & String & \\\\\n",
       "\t\\hline\n",
       "\t1 & 1 & Democrat & 2 & Strong Republican & Agree strongly & $\\dots$ \\\\\n",
       "\t2 & 2 & Republican & 2 & Not very strong Democrat & Disagree somewhat & $\\dots$ \\\\\n",
       "\t3 & 3 & Republican & 2 & Strong Democrat & Disagree strongly & $\\dots$ \\\\\n",
       "\t4 & 5 & Democrat & 3 & Strong Democrat & Disagree strongly & $\\dots$ \\\\\n",
       "\t5 & 6 & Republican & 2 & Lean Republican & Neither disagree nor agree & $\\dots$ \\\\\n",
       "\t6 & 7 & Republican & 3 & Strong Democrat & Neither disagree nor agree & $\\dots$ \\\\\n",
       "\t7 & 8 & Republican & 3 & Not very strong Republican & Agree strongly & $\\dots$ \\\\\n",
       "\t8 & 9 & Democrat & 2 & Not very strong Democrat & Disagree strongly & $\\dots$ \\\\\n",
       "\t9 & 10 & Democrat & 3 & Strong Democrat & Disagree strongly & $\\dots$ \\\\\n",
       "\t10 & 11 & Republican & 3 & Strong Democrat & Disagree strongly & $\\dots$ \\\\\n",
       "\t11 & 12 & Republican & 1 & Not very strong Democrat & Agree somewhat & $\\dots$ \\\\\n",
       "\t12 & 14 & Republican & 1 & Not very strong Republican & Agree somewhat & $\\dots$ \\\\\n",
       "\t13 & 15 & Republican & 3 & Lean Republican & Disagree somewhat & $\\dots$ \\\\\n",
       "\t14 & 16 & Democrat & 3 & Strong Democrat & Disagree somewhat & $\\dots$ \\\\\n",
       "\t15 & 18 & Democrat & 2 & Strong Democrat & Disagree strongly & $\\dots$ \\\\\n",
       "\t16 & 19 & Democrat & 3 & Not very strong Republican & Disagree somewhat & $\\dots$ \\\\\n",
       "\t17 & 20 & Democrat & 2 & Strong Democrat & Agree somewhat & $\\dots$ \\\\\n",
       "\t18 & 21 & Democrat & 3 & Not very strong Republican & Agree somewhat & $\\dots$ \\\\\n",
       "\t19 & 24 & Democrat & 3 & Lean Republican & Agree somewhat & $\\dots$ \\\\\n",
       "\t20 & 25 & Democrat & 2 & Strong Democrat & Disagree strongly & $\\dots$ \\\\\n",
       "\t21 & 27 & Republican & 2 & Strong Democrat & Disagree strongly & $\\dots$ \\\\\n",
       "\t22 & 28 & Republican & 2 & Lean Democrat & Neither disagree nor agree & $\\dots$ \\\\\n",
       "\t23 & 29 & Democrat & 3 & Strong Democrat & Disagree strongly & $\\dots$ \\\\\n",
       "\t24 & 31 & Democrat & 3 & Lean Democrat & Disagree strongly & $\\dots$ \\\\\n",
       "\t25 & 33 & Republican & 2 & Not very strong Democrat & Agree somewhat & $\\dots$ \\\\\n",
       "\t26 & 34 & Democrat & 3 & Strong Democrat & Disagree strongly & $\\dots$ \\\\\n",
       "\t27 & 35 & Democrat & 3 & Strong Democrat & Disagree somewhat & $\\dots$ \\\\\n",
       "\t28 & 36 & Democrat & 1 & Strong Republican & Disagree somewhat & $\\dots$ \\\\\n",
       "\t29 & 37 & Republican & 3 & Lean Republican & Agree somewhat & $\\dots$ \\\\\n",
       "\t30 & 41 & Republican & 3 & Strong Republican & Agree somewhat & $\\dots$ \\\\\n",
       "\t$\\dots$ & $\\dots$ & $\\dots$ & $\\dots$ & $\\dots$ & $\\dots$ &  \\\\\n",
       "\\end{tabular}\n"
      ],
      "text/plain": [
       "2152×56 DataFrame. Omitted printing of 52 columns\n",
       "│ Row  │ id    │ senator_party │ condition │ pid7                       │\n",
       "│      │ \u001b[90mInt64\u001b[39m │ \u001b[90mString\u001b[39m        │ \u001b[90mInt64\u001b[39m     │ \u001b[90mString\u001b[39m                     │\n",
       "├──────┼───────┼───────────────┼───────────┼────────────────────────────┤\n",
       "│ 1    │ 1     │ Democrat      │ 2         │ Strong Republican          │\n",
       "│ 2    │ 2     │ Republican    │ 2         │ Not very strong Democrat   │\n",
       "│ 3    │ 3     │ Republican    │ 2         │ Strong Democrat            │\n",
       "│ 4    │ 5     │ Democrat      │ 3         │ Strong Democrat            │\n",
       "│ 5    │ 6     │ Republican    │ 2         │ Lean Republican            │\n",
       "│ 6    │ 7     │ Republican    │ 3         │ Strong Democrat            │\n",
       "│ 7    │ 8     │ Republican    │ 3         │ Not very strong Republican │\n",
       "│ 8    │ 9     │ Democrat      │ 2         │ Not very strong Democrat   │\n",
       "│ 9    │ 10    │ Democrat      │ 3         │ Strong Democrat            │\n",
       "│ 10   │ 11    │ Republican    │ 3         │ Strong Democrat            │\n",
       "⋮\n",
       "│ 2142 │ 2795  │ Republican    │ 2         │ Lean Democrat              │\n",
       "│ 2143 │ 2797  │ Republican    │ 2         │ Strong Democrat            │\n",
       "│ 2144 │ 2798  │ Republican    │ 2         │ Strong Republican          │\n",
       "│ 2145 │ 2800  │ Republican    │ 2         │ Strong Republican          │\n",
       "│ 2146 │ 2801  │ Republican    │ 3         │ Strong Democrat            │\n",
       "│ 2147 │ 2802  │ Democrat      │ 2         │ Strong Democrat            │\n",
       "│ 2148 │ 2803  │ Democrat      │ 1         │ Strong Republican          │\n",
       "│ 2149 │ 2804  │ Republican    │ 2         │ Strong Republican          │\n",
       "│ 2150 │ 2805  │ Republican    │ 2         │ Not very strong Democrat   │\n",
       "│ 2151 │ 2806  │ Republican    │ 3         │ Strong Democrat            │\n",
       "│ 2152 │ 2807  │ Republican    │ 1         │ Lean Republican            │"
      ]
     },
     "execution_count": 57,
     "metadata": {},
     "output_type": "execute_result"
    }
   ],
   "source": [
    "# subset: without independents/notsures \n",
    "partydat = df1[(df1[:sameparty] .!= \"Independents/Not sures\"),:]"
   ]
  },
  {
   "cell_type": "code",
   "execution_count": 58,
   "metadata": {},
   "outputs": [
    {
     "data": {
      "text/html": [
       "<table class=\"data-frame\"><thead><tr><th></th><th>id</th><th>senator_party</th><th>condition</th><th>pid7</th><th>pre_sexism_1</th></tr><tr><th></th><th>Int64</th><th>String</th><th>Int64</th><th>String</th><th>String</th></tr></thead><tbody><p>1,718 rows × 56 columns (omitted printing of 51 columns)</p><tr><th>1</th><td>4</td><td>Republican</td><td>1</td><td>Independent</td><td>Agree somewhat</td></tr><tr><th>2</th><td>5</td><td>Democrat</td><td>3</td><td>Strong Democrat</td><td>Disagree strongly</td></tr><tr><th>3</th><td>6</td><td>Republican</td><td>2</td><td>Lean Republican</td><td>Neither disagree nor agree</td></tr><tr><th>4</th><td>8</td><td>Republican</td><td>3</td><td>Not very strong Republican</td><td>Agree strongly</td></tr><tr><th>5</th><td>9</td><td>Democrat</td><td>2</td><td>Not very strong Democrat</td><td>Disagree strongly</td></tr><tr><th>6</th><td>10</td><td>Democrat</td><td>3</td><td>Strong Democrat</td><td>Disagree strongly</td></tr><tr><th>7</th><td>13</td><td>Republican</td><td>1</td><td>Independent</td><td>Agree somewhat</td></tr><tr><th>8</th><td>14</td><td>Republican</td><td>1</td><td>Not very strong Republican</td><td>Agree somewhat</td></tr><tr><th>9</th><td>15</td><td>Republican</td><td>3</td><td>Lean Republican</td><td>Disagree somewhat</td></tr><tr><th>10</th><td>16</td><td>Democrat</td><td>3</td><td>Strong Democrat</td><td>Disagree somewhat</td></tr><tr><th>11</th><td>17</td><td>Republican</td><td>3</td><td>Independent</td><td>Disagree somewhat</td></tr><tr><th>12</th><td>18</td><td>Democrat</td><td>2</td><td>Strong Democrat</td><td>Disagree strongly</td></tr><tr><th>13</th><td>20</td><td>Democrat</td><td>2</td><td>Strong Democrat</td><td>Agree somewhat</td></tr><tr><th>14</th><td>22</td><td>Republican</td><td>3</td><td>Independent</td><td>Disagree strongly</td></tr><tr><th>15</th><td>23</td><td>Republican</td><td>3</td><td>Independent</td><td>Agree somewhat</td></tr><tr><th>16</th><td>25</td><td>Democrat</td><td>2</td><td>Strong Democrat</td><td>Disagree strongly</td></tr><tr><th>17</th><td>26</td><td>Democrat</td><td>1</td><td>Independent</td><td>Agree somewhat</td></tr><tr><th>18</th><td>29</td><td>Democrat</td><td>3</td><td>Strong Democrat</td><td>Disagree strongly</td></tr><tr><th>19</th><td>30</td><td>Republican</td><td>2</td><td>Independent</td><td>Disagree somewhat</td></tr><tr><th>20</th><td>31</td><td>Democrat</td><td>3</td><td>Lean Democrat</td><td>Disagree strongly</td></tr><tr><th>21</th><td>32</td><td>Democrat</td><td>1</td><td>Independent</td><td>Neither disagree nor agree</td></tr><tr><th>22</th><td>34</td><td>Democrat</td><td>3</td><td>Strong Democrat</td><td>Disagree strongly</td></tr><tr><th>23</th><td>35</td><td>Democrat</td><td>3</td><td>Strong Democrat</td><td>Disagree somewhat</td></tr><tr><th>24</th><td>37</td><td>Republican</td><td>3</td><td>Lean Republican</td><td>Agree somewhat</td></tr><tr><th>25</th><td>38</td><td>Democrat</td><td>2</td><td>Independent</td><td>Agree somewhat</td></tr><tr><th>26</th><td>39</td><td>Democrat</td><td>1</td><td>Independent</td><td>Disagree strongly</td></tr><tr><th>27</th><td>40</td><td>Democrat</td><td>3</td><td>Independent</td><td>Disagree somewhat</td></tr><tr><th>28</th><td>41</td><td>Republican</td><td>3</td><td>Strong Republican</td><td>Agree somewhat</td></tr><tr><th>29</th><td>50</td><td>Republican</td><td>1</td><td>Independent</td><td>Disagree strongly</td></tr><tr><th>30</th><td>51</td><td>Democrat</td><td>2</td><td>Lean Democrat</td><td>Neither disagree nor agree</td></tr><tr><th>&vellip;</th><td>&vellip;</td><td>&vellip;</td><td>&vellip;</td><td>&vellip;</td><td>&vellip;</td></tr></tbody></table>"
      ],
      "text/latex": [
       "\\begin{tabular}{r|cccccc}\n",
       "\t& id & senator\\_party & condition & pid7 & pre\\_sexism\\_1 & \\\\\n",
       "\t\\hline\n",
       "\t& Int64 & String & Int64 & String & String & \\\\\n",
       "\t\\hline\n",
       "\t1 & 4 & Republican & 1 & Independent & Agree somewhat & $\\dots$ \\\\\n",
       "\t2 & 5 & Democrat & 3 & Strong Democrat & Disagree strongly & $\\dots$ \\\\\n",
       "\t3 & 6 & Republican & 2 & Lean Republican & Neither disagree nor agree & $\\dots$ \\\\\n",
       "\t4 & 8 & Republican & 3 & Not very strong Republican & Agree strongly & $\\dots$ \\\\\n",
       "\t5 & 9 & Democrat & 2 & Not very strong Democrat & Disagree strongly & $\\dots$ \\\\\n",
       "\t6 & 10 & Democrat & 3 & Strong Democrat & Disagree strongly & $\\dots$ \\\\\n",
       "\t7 & 13 & Republican & 1 & Independent & Agree somewhat & $\\dots$ \\\\\n",
       "\t8 & 14 & Republican & 1 & Not very strong Republican & Agree somewhat & $\\dots$ \\\\\n",
       "\t9 & 15 & Republican & 3 & Lean Republican & Disagree somewhat & $\\dots$ \\\\\n",
       "\t10 & 16 & Democrat & 3 & Strong Democrat & Disagree somewhat & $\\dots$ \\\\\n",
       "\t11 & 17 & Republican & 3 & Independent & Disagree somewhat & $\\dots$ \\\\\n",
       "\t12 & 18 & Democrat & 2 & Strong Democrat & Disagree strongly & $\\dots$ \\\\\n",
       "\t13 & 20 & Democrat & 2 & Strong Democrat & Agree somewhat & $\\dots$ \\\\\n",
       "\t14 & 22 & Republican & 3 & Independent & Disagree strongly & $\\dots$ \\\\\n",
       "\t15 & 23 & Republican & 3 & Independent & Agree somewhat & $\\dots$ \\\\\n",
       "\t16 & 25 & Democrat & 2 & Strong Democrat & Disagree strongly & $\\dots$ \\\\\n",
       "\t17 & 26 & Democrat & 1 & Independent & Agree somewhat & $\\dots$ \\\\\n",
       "\t18 & 29 & Democrat & 3 & Strong Democrat & Disagree strongly & $\\dots$ \\\\\n",
       "\t19 & 30 & Republican & 2 & Independent & Disagree somewhat & $\\dots$ \\\\\n",
       "\t20 & 31 & Democrat & 3 & Lean Democrat & Disagree strongly & $\\dots$ \\\\\n",
       "\t21 & 32 & Democrat & 1 & Independent & Neither disagree nor agree & $\\dots$ \\\\\n",
       "\t22 & 34 & Democrat & 3 & Strong Democrat & Disagree strongly & $\\dots$ \\\\\n",
       "\t23 & 35 & Democrat & 3 & Strong Democrat & Disagree somewhat & $\\dots$ \\\\\n",
       "\t24 & 37 & Republican & 3 & Lean Republican & Agree somewhat & $\\dots$ \\\\\n",
       "\t25 & 38 & Democrat & 2 & Independent & Agree somewhat & $\\dots$ \\\\\n",
       "\t26 & 39 & Democrat & 1 & Independent & Disagree strongly & $\\dots$ \\\\\n",
       "\t27 & 40 & Democrat & 3 & Independent & Disagree somewhat & $\\dots$ \\\\\n",
       "\t28 & 41 & Republican & 3 & Strong Republican & Agree somewhat & $\\dots$ \\\\\n",
       "\t29 & 50 & Republican & 1 & Independent & Disagree strongly & $\\dots$ \\\\\n",
       "\t30 & 51 & Democrat & 2 & Lean Democrat & Neither disagree nor agree & $\\dots$ \\\\\n",
       "\t$\\dots$ & $\\dots$ & $\\dots$ & $\\dots$ & $\\dots$ & $\\dots$ &  \\\\\n",
       "\\end{tabular}\n"
      ],
      "text/plain": [
       "1718×56 DataFrame. Omitted printing of 52 columns\n",
       "│ Row  │ id    │ senator_party │ condition │ pid7                       │\n",
       "│      │ \u001b[90mInt64\u001b[39m │ \u001b[90mString\u001b[39m        │ \u001b[90mInt64\u001b[39m     │ \u001b[90mString\u001b[39m                     │\n",
       "├──────┼───────┼───────────────┼───────────┼────────────────────────────┤\n",
       "│ 1    │ 4     │ Republican    │ 1         │ Independent                │\n",
       "│ 2    │ 5     │ Democrat      │ 3         │ Strong Democrat            │\n",
       "│ 3    │ 6     │ Republican    │ 2         │ Lean Republican            │\n",
       "│ 4    │ 8     │ Republican    │ 3         │ Not very strong Republican │\n",
       "│ 5    │ 9     │ Democrat      │ 2         │ Not very strong Democrat   │\n",
       "│ 6    │ 10    │ Democrat      │ 3         │ Strong Democrat            │\n",
       "│ 7    │ 13    │ Republican    │ 1         │ Independent                │\n",
       "│ 8    │ 14    │ Republican    │ 1         │ Not very strong Republican │\n",
       "│ 9    │ 15    │ Republican    │ 3         │ Lean Republican            │\n",
       "│ 10   │ 16    │ Democrat      │ 3         │ Strong Democrat            │\n",
       "⋮\n",
       "│ 1708 │ 2785  │ Democrat      │ 3         │ Strong Democrat            │\n",
       "│ 1709 │ 2786  │ Republican    │ 1         │ Not very strong Republican │\n",
       "│ 1710 │ 2790  │ Democrat      │ 2         │ Strong Democrat            │\n",
       "│ 1711 │ 2793  │ Democrat      │ 3         │ Strong Democrat            │\n",
       "│ 1712 │ 2796  │ Republican    │ 1         │ Independent                │\n",
       "│ 1713 │ 2798  │ Republican    │ 2         │ Strong Republican          │\n",
       "│ 1714 │ 2799  │ Democrat      │ 3         │ Independent                │\n",
       "│ 1715 │ 2800  │ Republican    │ 2         │ Strong Republican          │\n",
       "│ 1716 │ 2802  │ Democrat      │ 2         │ Strong Democrat            │\n",
       "│ 1717 │ 2804  │ Republican    │ 2         │ Strong Republican          │\n",
       "│ 1718 │ 2807  │ Republican    │ 1         │ Lean Republican            │"
      ]
     },
     "execution_count": 58,
     "metadata": {},
     "output_type": "execute_result"
    }
   ],
   "source": [
    "# subset: people that share party with senator, people that do not share party with senator\n",
    "samepartydat = df1[(df1[:sameparty] .!= \"Same party\"),:]\n",
    "opppartydat = df1[(df1[:sameparty] .!= \"Opposite party\"),:]"
   ]
  },
  {
   "cell_type": "markdown",
   "metadata": {},
   "source": [
    "## Means and T-tests"
   ]
  },
  {
   "cell_type": "code",
   "execution_count": 59,
   "metadata": {},
   "outputs": [
    {
     "name": "stdout",
     "output_type": "stream",
     "text": [
      "Summary Stats:\n",
      "Length:         936\n",
      "Missing Count:  0\n",
      "Mean:           7.112179\n",
      "Minimum:        0.000000\n",
      "1st Quartile:   6.000000\n",
      "Median:         7.000000\n",
      "3rd Quartile:   9.000000\n",
      "Maximum:        10.000000\n",
      "Type:           Int64\n"
     ]
    }
   ],
   "source": [
    "# Means\n",
    "describe(df1[:post_favorability][df1.condition2 .== \"Control\"])"
   ]
  },
  {
   "cell_type": "code",
   "execution_count": 60,
   "metadata": {},
   "outputs": [
    {
     "name": "stdout",
     "output_type": "stream",
     "text": [
      "Summary Stats:\n",
      "Length:         952\n",
      "Missing Count:  0\n",
      "Mean:           4.388655\n",
      "Minimum:        0.000000\n",
      "1st Quartile:   2.000000\n",
      "Median:         5.000000\n",
      "3rd Quartile:   6.000000\n",
      "Maximum:        10.000000\n",
      "Type:           Int64\n"
     ]
    }
   ],
   "source": [
    "describe(df1[:post_favorability][df1.condition2 .== \"Assault\"])"
   ]
  },
  {
   "cell_type": "code",
   "execution_count": 61,
   "metadata": {},
   "outputs": [
    {
     "name": "stdout",
     "output_type": "stream",
     "text": [
      "Summary Stats:\n",
      "Length:         918\n",
      "Missing Count:  0\n",
      "Mean:           5.337691\n",
      "Minimum:        0.000000\n",
      "1st Quartile:   4.000000\n",
      "Median:         5.000000\n",
      "3rd Quartile:   7.000000\n",
      "Maximum:        10.000000\n",
      "Type:           Int64\n"
     ]
    }
   ],
   "source": [
    "describe(df1[:post_favorability][df1.condition2 .== \"Jokes\"])"
   ]
  },
  {
   "cell_type": "code",
   "execution_count": 62,
   "metadata": {},
   "outputs": [
    {
     "name": "stdout",
     "output_type": "stream",
     "text": [
      "Summary Stats:\n",
      "Length:         936\n",
      "Missing Count:  0\n",
      "Mean:           6.168803\n",
      "Minimum:        0.000000\n",
      "1st Quartile:   5.000000\n",
      "Median:         7.000000\n",
      "3rd Quartile:   8.000000\n",
      "Maximum:        10.000000\n",
      "Type:           Int64\n"
     ]
    }
   ],
   "source": [
    "describe(df1[:post_vote][df1.condition2 .== \"Control\"])"
   ]
  },
  {
   "cell_type": "code",
   "execution_count": 63,
   "metadata": {},
   "outputs": [
    {
     "name": "stdout",
     "output_type": "stream",
     "text": [
      "Summary Stats:\n",
      "Length:         952\n",
      "Missing Count:  0\n",
      "Mean:           4.012605\n",
      "Minimum:        0.000000\n",
      "1st Quartile:   1.000000\n",
      "Median:         5.000000\n",
      "3rd Quartile:   6.000000\n",
      "Maximum:        10.000000\n",
      "Type:           Int64\n"
     ]
    }
   ],
   "source": [
    "describe(df1[:post_vote][df1.condition2 .== \"Assault\"])"
   ]
  },
  {
   "cell_type": "code",
   "execution_count": 64,
   "metadata": {},
   "outputs": [
    {
     "name": "stdout",
     "output_type": "stream",
     "text": [
      "Summary Stats:\n",
      "Length:         918\n",
      "Missing Count:  0\n",
      "Mean:           4.847495\n",
      "Minimum:        0.000000\n",
      "1st Quartile:   2.000000\n",
      "Median:         5.000000\n",
      "3rd Quartile:   7.000000\n",
      "Maximum:        10.000000\n",
      "Type:           Int64\n"
     ]
    }
   ],
   "source": [
    "describe(df1[:post_vote][df1.condition2 .== \"Jokes\"])"
   ]
  },
  {
   "cell_type": "code",
   "execution_count": 65,
   "metadata": {},
   "outputs": [
    {
     "data": {
      "text/plain": [
       "Two sample t-test (equal variance)\n",
       "----------------------------------\n",
       "Population details:\n",
       "    parameter of interest:   Mean difference\n",
       "    value under h_0:         0\n",
       "    point estimate:          2.72352\n",
       "    95% confidence interval: (2.5034, 2.9437)\n",
       "\n",
       "Test summary:\n",
       "    outcome with 95% confidence: reject h_0\n",
       "    two-sided p-value:           <1e-99\n",
       "\n",
       "Details:\n",
       "    number of observations:   [936,952]\n",
       "    t-statistic:              24.26329139391319\n",
       "    degrees of freedom:       1886\n",
       "    empirical standard error: 0.11224874567833158\n"
      ]
     },
     "execution_count": 65,
     "metadata": {},
     "output_type": "execute_result"
    }
   ],
   "source": [
    "# t-tests\n",
    "EqualVarianceTTest(df1[:post_favorability][df1.condition2 .== \"Control\"],\n",
    "    df1[:post_favorability][df1.condition2 .== \"Assault\"])\n",
    "# shows mean difference of 2.7 (same as on p3 of publication), and p<0.001"
   ]
  },
  {
   "cell_type": "code",
   "execution_count": 66,
   "metadata": {},
   "outputs": [
    {
     "data": {
      "text/plain": [
       "Two sample t-test (equal variance)\n",
       "----------------------------------\n",
       "Population details:\n",
       "    parameter of interest:   Mean difference\n",
       "    value under h_0:         0\n",
       "    point estimate:          1.77449\n",
       "    95% confidence interval: (1.5637, 1.9852)\n",
       "\n",
       "Test summary:\n",
       "    outcome with 95% confidence: reject h_0\n",
       "    two-sided p-value:           <1e-56\n",
       "\n",
       "Details:\n",
       "    number of observations:   [936,918]\n",
       "    t-statistic:              16.51389703631367\n",
       "    degrees of freedom:       1852\n",
       "    empirical standard error: 0.1074542763267295\n"
      ]
     },
     "execution_count": 66,
     "metadata": {},
     "output_type": "execute_result"
    }
   ],
   "source": [
    "EqualVarianceTTest(df1[:post_favorability][df1.condition2 .== \"Control\"],\n",
    "    df1[:post_favorability][df1.condition2 .== \"Jokes\"])"
   ]
  },
  {
   "cell_type": "code",
   "execution_count": 67,
   "metadata": {},
   "outputs": [
    {
     "data": {
      "text/plain": [
       "Two sample t-test (equal variance)\n",
       "----------------------------------\n",
       "Population details:\n",
       "    parameter of interest:   Mean difference\n",
       "    value under h_0:         0\n",
       "    point estimate:          0.949035\n",
       "    95% confidence interval: (0.7142, 1.1838)\n",
       "\n",
       "Test summary:\n",
       "    outcome with 95% confidence: reject h_0\n",
       "    two-sided p-value:           <1e-14\n",
       "\n",
       "Details:\n",
       "    number of observations:   [918,952]\n",
       "    t-statistic:              7.927474103637422\n",
       "    degrees of freedom:       1868\n",
       "    empirical standard error: 0.11971469817705889\n"
      ]
     },
     "execution_count": 67,
     "metadata": {},
     "output_type": "execute_result"
    }
   ],
   "source": [
    "EqualVarianceTTest(df1[:post_favorability][df1.condition2 .== \"Jokes\"],\n",
    "    df1[:post_favorability][df1.condition2 .== \"Assault\"])"
   ]
  },
  {
   "cell_type": "code",
   "execution_count": 68,
   "metadata": {},
   "outputs": [
    {
     "data": {
      "text/plain": [
       "Two sample t-test (equal variance)\n",
       "----------------------------------\n",
       "Population details:\n",
       "    parameter of interest:   Mean difference\n",
       "    value under h_0:         0\n",
       "    point estimate:          2.1562\n",
       "    95% confidence interval: (1.889, 2.4234)\n",
       "\n",
       "Test summary:\n",
       "    outcome with 95% confidence: reject h_0\n",
       "    two-sided p-value:           <1e-52\n",
       "\n",
       "Details:\n",
       "    number of observations:   [936,952]\n",
       "    t-statistic:              15.825891154637901\n",
       "    degrees of freedom:       1886\n",
       "    empirical standard error: 0.13624498966396098\n"
      ]
     },
     "execution_count": 68,
     "metadata": {},
     "output_type": "execute_result"
    }
   ],
   "source": [
    "EqualVarianceTTest(df1[:post_vote][df1.condition2 .== \"Control\"],\n",
    "    df1[:post_vote][df1.condition2 .== \"Assault\"])\n",
    "# shows mean difference of 2.2, again matching p3 of publication"
   ]
  },
  {
   "cell_type": "code",
   "execution_count": 69,
   "metadata": {},
   "outputs": [
    {
     "data": {
      "text/plain": [
       "Two sample t-test (equal variance)\n",
       "----------------------------------\n",
       "Population details:\n",
       "    parameter of interest:   Mean difference\n",
       "    value under h_0:         0\n",
       "    point estimate:          1.32131\n",
       "    95% confidence interval: (1.0525, 1.5902)\n",
       "\n",
       "Test summary:\n",
       "    outcome with 95% confidence: reject h_0\n",
       "    two-sided p-value:           <1e-20\n",
       "\n",
       "Details:\n",
       "    number of observations:   [936,918]\n",
       "    t-statistic:              9.639161904931761\n",
       "    degrees of freedom:       1852\n",
       "    empirical standard error: 0.13707715239750057\n"
      ]
     },
     "execution_count": 69,
     "metadata": {},
     "output_type": "execute_result"
    }
   ],
   "source": [
    "EqualVarianceTTest(df1[:post_vote][df1.condition2 .== \"Control\"],\n",
    "    df1[:post_vote][df1.condition2 .== \"Jokes\"])\n",
    "# this results is a little different from pub (1.4 vs 1.3), but still same general finding"
   ]
  },
  {
   "cell_type": "code",
   "execution_count": 70,
   "metadata": {},
   "outputs": [
    {
     "data": {
      "text/plain": [
       "Two sample t-test (equal variance)\n",
       "----------------------------------\n",
       "Population details:\n",
       "    parameter of interest:   Mean difference\n",
       "    value under h_0:         0\n",
       "    point estimate:          0.83489\n",
       "    95% confidence interval: (0.5658, 1.1039)\n",
       "\n",
       "Test summary:\n",
       "    outcome with 95% confidence: reject h_0\n",
       "    two-sided p-value:           <1e-8\n",
       "\n",
       "Details:\n",
       "    number of observations:   [918,952]\n",
       "    t-statistic:              6.086078129123275\n",
       "    degrees of freedom:       1868\n",
       "    empirical standard error: 0.13718021583800616\n"
      ]
     },
     "execution_count": 70,
     "metadata": {},
     "output_type": "execute_result"
    }
   ],
   "source": [
    "EqualVarianceTTest(df1[:post_vote][df1.condition2 .== \"Jokes\"],\n",
    "    df1[:post_vote][df1.condition2 .== \"Assault\"])"
   ]
  },
  {
   "cell_type": "markdown",
   "metadata": {},
   "source": [
    "# Results: Models"
   ]
  },
  {
   "cell_type": "markdown",
   "metadata": {},
   "source": [
    "## OLS estimation"
   ]
  },
  {
   "cell_type": "code",
   "execution_count": 71,
   "metadata": {},
   "outputs": [
    {
     "data": {
      "text/plain": [
       "StatsModels.TableRegressionModel{LinearModel{GLM.LmResp{Array{Float64,1}},GLM.DensePredChol{Float64,LinearAlgebra.Cholesky{Float64,Array{Float64,2}}}},Array{Float64,2}}\n",
       "\n",
       "perchange_favorability ~ 1 + condition2\n",
       "\n",
       "Coefficients:\n",
       "──────────────────────────────────────────────────────────────────────────────────\n",
       "                         Coef.  Std. Error       t  Pr(>|t|)  Lower 95%  Upper 95%\n",
       "──────────────────────────────────────────────────────────────────────────────────\n",
       "(Intercept)            4.03311     1.32455    3.04    0.0024    1.43523    6.63098\n",
       "condition2: Jokes    -24.2476      1.87892  -12.91    <1e-35  -27.9328   -20.5624\n",
       "condition2: Assault  -34.4374      1.86366  -18.48    <1e-69  -38.0926   -30.7821\n",
       "──────────────────────────────────────────────────────────────────────────────────"
      ]
     },
     "execution_count": 71,
     "metadata": {},
     "output_type": "execute_result"
    }
   ],
   "source": [
    "# Figure 1\n",
    "# note: check again; in model and figure, looks like same party coefs are larger than opposite party ones, yet\n",
    "# publication report opposite in Fig 1 (p4)\n",
    "# might just be labelling issue\n",
    "\n",
    "# using GLM, which calls StatsModels\n",
    "# GLM syntax is closer to basic R syntax of lm()\n",
    "\n",
    "# if use StatsModels directly, syntax is:\n",
    "#m1a = fit(LinearModel, @formula(perchange_favorability ~ condition2), samepartydat)\n",
    "#m1b = fit(LinearModel, @formula(perchange_favorability ~ condition2), opppartydat)\n",
    "\n",
    "# using GLM\n",
    "\n",
    "m1a = lm(@formula(perchange_favorability ~ condition2), samepartydat)\n",
    "m1b = lm(@formula(perchange_favorability ~ condition2), opppartydat)\n",
    "m1a"
   ]
  },
  {
   "cell_type": "code",
   "execution_count": 72,
   "metadata": {},
   "outputs": [
    {
     "data": {
      "text/plain": [
       "StatsModels.TableRegressionModel{LinearModel{GLM.LmResp{Array{Float64,1}},GLM.DensePredChol{Float64,LinearAlgebra.Cholesky{Float64,Array{Float64,2}}}},Array{Float64,2}}\n",
       "\n",
       "perchange_favorability ~ 1 + condition2\n",
       "\n",
       "Coefficients:\n",
       "───────────────────────────────────────────────────────────────────────────────────\n",
       "                         Coef.  Std. Error       t  Pr(>|t|)   Lower 95%  Upper 95%\n",
       "───────────────────────────────────────────────────────────────────────────────────\n",
       "(Intercept)            2.52698     1.00249    2.52    0.0118    0.560748    4.49322\n",
       "condition2: Jokes    -19.1096      1.42662  -13.40    <1e-38  -21.9077    -16.3115\n",
       "condition2: Assault  -30.2836      1.40628  -21.53    <1e-90  -33.0418    -27.5254\n",
       "───────────────────────────────────────────────────────────────────────────────────"
      ]
     },
     "execution_count": 72,
     "metadata": {},
     "output_type": "execute_result"
    }
   ],
   "source": [
    "m1b"
   ]
  },
  {
   "cell_type": "code",
   "execution_count": 73,
   "metadata": {},
   "outputs": [
    {
     "data": {
      "text/html": [
       "<table class=\"data-frame\"><thead><tr><th></th><th>name</th><th>nameb</th><th>coef1</th><th>err1</th><th>upper1</th><th>lower1</th><th>coef2</th><th>err2</th></tr><tr><th></th><th>String</th><th>String</th><th>Float64</th><th>Float64</th><th>Float64</th><th>Float64</th><th>Float64</th><th>Float64</th></tr></thead><tbody><p>2 rows × 10 columns (omitted printing of 2 columns)</p><tr><th>1</th><td>condition2: Jokes</td><td>Jokes</td><td>-24.2476</td><td>1.87892</td><td>-20.5649</td><td>-27.9303</td><td>-19.1096</td><td>1.42662</td></tr><tr><th>2</th><td>condition2: Assault</td><td>Assault</td><td>-34.4374</td><td>1.86366</td><td>-30.7846</td><td>-38.0901</td><td>-30.2836</td><td>1.40628</td></tr></tbody></table>"
      ],
      "text/latex": [
       "\\begin{tabular}{r|ccccccccc}\n",
       "\t& name & nameb & coef1 & err1 & upper1 & lower1 & coef2 & err2 & \\\\\n",
       "\t\\hline\n",
       "\t& String & String & Float64 & Float64 & Float64 & Float64 & Float64 & Float64 & \\\\\n",
       "\t\\hline\n",
       "\t1 & condition2: Jokes & Jokes & -24.2476 & 1.87892 & -20.5649 & -27.9303 & -19.1096 & 1.42662 & $\\dots$ \\\\\n",
       "\t2 & condition2: Assault & Assault & -34.4374 & 1.86366 & -30.7846 & -38.0901 & -30.2836 & 1.40628 & $\\dots$ \\\\\n",
       "\\end{tabular}\n"
      ],
      "text/plain": [
       "2×10 DataFrame. Omitted printing of 5 columns\n",
       "│ Row │ name                │ nameb   │ coef1    │ err1    │ upper1   │\n",
       "│     │ \u001b[90mString\u001b[39m              │ \u001b[90mString\u001b[39m  │ \u001b[90mFloat64\u001b[39m  │ \u001b[90mFloat64\u001b[39m │ \u001b[90mFloat64\u001b[39m  │\n",
       "├─────┼─────────────────────┼─────────┼──────────┼─────────┼──────────┤\n",
       "│ 1   │ condition2: Jokes   │ Jokes   │ -24.2476 │ 1.87892 │ -20.5649 │\n",
       "│ 2   │ condition2: Assault │ Assault │ -34.4374 │ 1.86366 │ -30.7846 │"
      ]
     },
     "execution_count": 73,
     "metadata": {},
     "output_type": "execute_result"
    }
   ],
   "source": [
    "# no package to plot coefficients (e.g., coefplot in R or Stata) or interactions (e.g., interplot in R)\n",
    "# but can extract model data and build own\n",
    "coefdf = DataFrame()\n",
    "coefdf.name = coefnames(m1a)[2:end] # no intercept\n",
    "coefdf.nameb = [\"Jokes\", \"Assault\"]\n",
    "coefdf.coef1 = coef(m1a)[2:end]\n",
    "coefdf.err1 = stderror(m1a)[2:end]\n",
    "coefdf.upper1 = coefdf.coef1 + 1.96*coefdf.err1\n",
    "coefdf.lower1 = coefdf.coef1 - 1.96*coefdf.err1\n",
    "coefdf.coef2 = coef(m1b)[2:end]\n",
    "coefdf.err2 = stderror(m1b)[2:end]\n",
    "coefdf.upper2 = coefdf.coef2 + 1.96*coefdf.err2\n",
    "coefdf.lower2 = coefdf.coef2 - 1.96*coefdf.err2\n",
    "\n",
    "coefdf"
   ]
  },
  {
   "cell_type": "code",
   "execution_count": 74,
   "metadata": {},
   "outputs": [
    {
     "data": {
      "text/html": [
       "<table class=\"data-frame\"><thead><tr><th></th><th>name</th><th>nameb</th><th>coef1</th><th>err1</th><th>upper1</th><th>lower1</th><th>coef2</th><th>err2</th></tr><tr><th></th><th>String</th><th>String</th><th>Float64</th><th>Float64</th><th>Float64</th><th>Float64</th><th>Float64</th><th>Float64</th></tr></thead><tbody><p>2 rows × 10 columns (omitted printing of 2 columns)</p><tr><th>1</th><td>condition2: Jokes</td><td>Jokes</td><td>-24.2476</td><td>1.87892</td><td>-20.5649</td><td>-27.9303</td><td>-19.1096</td><td>1.42662</td></tr><tr><th>2</th><td>condition2: Assault</td><td>Assault</td><td>-34.4374</td><td>1.86366</td><td>-30.7846</td><td>-38.0901</td><td>-30.2836</td><td>1.40628</td></tr></tbody></table>"
      ],
      "text/latex": [
       "\\begin{tabular}{r|ccccccccc}\n",
       "\t& name & nameb & coef1 & err1 & upper1 & lower1 & coef2 & err2 & \\\\\n",
       "\t\\hline\n",
       "\t& String & String & Float64 & Float64 & Float64 & Float64 & Float64 & Float64 & \\\\\n",
       "\t\\hline\n",
       "\t1 & condition2: Jokes & Jokes & -24.2476 & 1.87892 & -20.5649 & -27.9303 & -19.1096 & 1.42662 & $\\dots$ \\\\\n",
       "\t2 & condition2: Assault & Assault & -34.4374 & 1.86366 & -30.7846 & -38.0901 & -30.2836 & 1.40628 & $\\dots$ \\\\\n",
       "\\end{tabular}\n"
      ],
      "text/plain": [
       "2×10 DataFrame. Omitted printing of 5 columns\n",
       "│ Row │ name                │ nameb   │ coef1    │ err1    │ upper1   │\n",
       "│     │ \u001b[90mString\u001b[39m              │ \u001b[90mString\u001b[39m  │ \u001b[90mFloat64\u001b[39m  │ \u001b[90mFloat64\u001b[39m │ \u001b[90mFloat64\u001b[39m  │\n",
       "├─────┼─────────────────────┼─────────┼──────────┼─────────┼──────────┤\n",
       "│ 1   │ condition2: Jokes   │ Jokes   │ -24.2476 │ 1.87892 │ -20.5649 │\n",
       "│ 2   │ condition2: Assault │ Assault │ -34.4374 │ 1.86366 │ -30.7846 │"
      ]
     },
     "execution_count": 74,
     "metadata": {},
     "output_type": "execute_result"
    }
   ],
   "source": [
    "coefdf"
   ]
  },
  {
   "cell_type": "code",
   "execution_count": 75,
   "metadata": {},
   "outputs": [
    {
     "data": {
      "text/plain": [
       "coefplot (generic function with 1 method)"
      ]
     },
     "execution_count": 75,
     "metadata": {},
     "output_type": "execute_result"
    }
   ],
   "source": [
    "function coefplot(m)\n",
    "       n = coefnames(m)[2:end] # no intercept\n",
    "       vals = coef(m)[2:end]\n",
    "       errors = stderror(m)[2:end]\n",
    "       scatter(\n",
    "           n,\n",
    "           vals,\n",
    "           #seriestype = :scatter,\n",
    "           #legend = false,\n",
    "           yerror = 1.96 .* errors,\n",
    "           title = \"Coefficient plot\"\n",
    "       )\n",
    "end"
   ]
  },
  {
   "cell_type": "code",
   "execution_count": 76,
   "metadata": {},
   "outputs": [
    {
     "data": {
      "image/svg+xml": [
       "<?xml version=\"1.0\" encoding=\"utf-8\"?>\n",
       "<svg xmlns=\"http://www.w3.org/2000/svg\" xmlns:xlink=\"http://www.w3.org/1999/xlink\" width=\"150\" height=\"100\" viewBox=\"0 0 600 400\">\n",
       "<defs>\n",
       "  <clipPath id=\"clip350\">\n",
       "    <rect x=\"0\" y=\"0\" width=\"600\" height=\"400\"/>\n",
       "  </clipPath>\n",
       "</defs>\n",
       "<path clip-path=\"url(#clip350)\" d=\"\n",
       "M0 400 L600 400 L600 0 L0 0  Z\n",
       "  \" fill=\"#ffffff\" fill-rule=\"evenodd\" fill-opacity=\"1\"/>\n",
       "<defs>\n",
       "  <clipPath id=\"clip351\">\n",
       "    <rect x=\"120\" y=\"0\" width=\"421\" height=\"400\"/>\n",
       "  </clipPath>\n",
       "</defs>\n",
       "<path clip-path=\"url(#clip350)\" d=\"\n",
       "M51.7537 371.612 L588.189 371.612 L588.189 30.868 L51.7537 30.868  Z\n",
       "  \" fill=\"#ffffff\" fill-rule=\"evenodd\" fill-opacity=\"1\"/>\n",
       "<defs>\n",
       "  <clipPath id=\"clip352\">\n",
       "    <rect x=\"51\" y=\"30\" width=\"537\" height=\"342\"/>\n",
       "  </clipPath>\n",
       "</defs>\n",
       "<polyline clip-path=\"url(#clip352)\" style=\"stroke:#000000; stroke-width:0.5; stroke-opacity:0.1; fill:none\" points=\"\n",
       "  66.9358,371.612 66.9358,30.868 \n",
       "  \"/>\n",
       "<polyline clip-path=\"url(#clip352)\" style=\"stroke:#000000; stroke-width:0.5; stroke-opacity:0.1; fill:none\" points=\"\n",
       "  573.007,371.612 573.007,30.868 \n",
       "  \"/>\n",
       "<polyline clip-path=\"url(#clip350)\" style=\"stroke:#000000; stroke-width:1; stroke-opacity:1; fill:none\" points=\"\n",
       "  51.7537,371.612 588.189,371.612 \n",
       "  \"/>\n",
       "<polyline clip-path=\"url(#clip350)\" style=\"stroke:#000000; stroke-width:1; stroke-opacity:1; fill:none\" points=\"\n",
       "  66.9358,371.612 66.9358,367.523 \n",
       "  \"/>\n",
       "<polyline clip-path=\"url(#clip350)\" style=\"stroke:#000000; stroke-width:1; stroke-opacity:1; fill:none\" points=\"\n",
       "  573.007,371.612 573.007,367.523 \n",
       "  \"/>\n",
       "<path clip-path=\"url(#clip350)\" d=\"M 0 0 M28.6403 380.547 L28.6403 381.543 Q28.1889 381.294 27.7317 381.172 Q27.2803 381.045 26.8174 381.045 Q25.7815 381.045 25.2086 381.705 Q24.6357 382.359 24.6357 383.545 Q24.6357 384.731 25.2086 385.391 Q25.7815 386.045 26.8174 386.045 Q27.2803 386.045 27.7317 385.923 Q28.1889 385.796 28.6403 385.547 L28.6403 386.531 Q28.1947 386.739 27.7144 386.844 Q27.2398 386.948 26.7016 386.948 Q25.2375 386.948 24.3753 386.028 Q23.513 385.108 23.513 383.545 Q23.513 381.959 24.381 381.051 Q25.2549 380.142 26.7711 380.142 Q27.263 380.142 27.7317 380.246 Q28.2005 380.345 28.6403 380.547 Z\" fill=\"#000000\" fill-rule=\"evenodd\" fill-opacity=\"1\" /><path clip-path=\"url(#clip350)\" d=\"M 0 0 M32.2687 381.045 Q31.4123 381.045 30.9146 381.716 Q30.4169 382.382 30.4169 383.545 Q30.4169 384.708 30.9088 385.38 Q31.4065 386.045 32.2687 386.045 Q33.1194 386.045 33.6171 385.374 Q34.1148 384.702 34.1148 383.545 Q34.1148 382.393 33.6171 381.722 Q33.1194 381.045 32.2687 381.045 M32.2687 380.142 Q33.6576 380.142 34.4504 381.045 Q35.2433 381.948 35.2433 383.545 Q35.2433 385.136 34.4504 386.045 Q33.6576 386.948 32.2687 386.948 Q30.8741 386.948 30.0812 386.045 Q29.2942 385.136 29.2942 383.545 Q29.2942 381.948 30.0812 381.045 Q30.8741 380.142 32.2687 380.142 Z\" fill=\"#000000\" fill-rule=\"evenodd\" fill-opacity=\"1\" /><path clip-path=\"url(#clip350)\" d=\"M 0 0 M41.7478 382.868 L41.7478 386.78 L40.683 386.78 L40.683 382.903 Q40.683 381.983 40.3242 381.525 Q39.9654 381.068 39.2479 381.068 Q38.3856 381.068 37.8879 381.618 Q37.3902 382.168 37.3902 383.117 L37.3902 386.78 L36.3196 386.78 L36.3196 380.299 L37.3902 380.299 L37.3902 381.305 Q37.7722 380.721 38.2872 380.432 Q38.808 380.142 39.4851 380.142 Q40.602 380.142 41.1749 380.837 Q41.7478 381.525 41.7478 382.868 Z\" fill=\"#000000\" fill-rule=\"evenodd\" fill-opacity=\"1\" /><path clip-path=\"url(#clip350)\" d=\"M 0 0 M47.1298 381.282 L47.1298 377.775 L48.1946 377.775 L48.1946 386.78 L47.1298 386.78 L47.1298 385.808 Q46.7941 386.386 46.2791 386.67 Q45.7698 386.948 45.0522 386.948 Q43.8775 386.948 43.1367 386.01 Q42.4018 385.073 42.4018 383.545 Q42.4018 382.017 43.1367 381.08 Q43.8775 380.142 45.0522 380.142 Q45.7698 380.142 46.2791 380.426 Q46.7941 380.704 47.1298 381.282 M43.5013 383.545 Q43.5013 384.72 43.9816 385.391 Q44.4677 386.057 45.3126 386.057 Q46.1575 386.057 46.6437 385.391 Q47.1298 384.72 47.1298 383.545 Q47.1298 382.37 46.6437 381.705 Q46.1575 381.033 45.3126 381.033 Q44.4677 381.033 43.9816 381.705 Q43.5013 382.37 43.5013 383.545 Z\" fill=\"#000000\" fill-rule=\"evenodd\" fill-opacity=\"1\" /><path clip-path=\"url(#clip350)\" d=\"M 0 0 M49.3115 380.299 L50.3763 380.299 L50.3763 386.78 L49.3115 386.78 L49.3115 380.299 M49.3115 377.775 L50.3763 377.775 L50.3763 379.124 L49.3115 379.124 L49.3115 377.775 Z\" fill=\"#000000\" fill-rule=\"evenodd\" fill-opacity=\"1\" /><path clip-path=\"url(#clip350)\" d=\"M 0 0 M52.5464 378.458 L52.5464 380.299 L54.7397 380.299 L54.7397 381.126 L52.5464 381.126 L52.5464 384.645 Q52.5464 385.437 52.7605 385.663 Q52.9804 385.889 53.6459 385.889 L54.7397 385.889 L54.7397 386.78 L53.6459 386.78 Q52.4133 386.78 51.9446 386.323 Q51.4758 385.86 51.4758 384.645 L51.4758 381.126 L50.6946 381.126 L50.6946 380.299 L51.4758 380.299 L51.4758 378.458 L52.5464 378.458 Z\" fill=\"#000000\" fill-rule=\"evenodd\" fill-opacity=\"1\" /><path clip-path=\"url(#clip350)\" d=\"M 0 0 M55.8566 380.299 L56.9214 380.299 L56.9214 386.78 L55.8566 386.78 L55.8566 380.299 M55.8566 377.775 L56.9214 377.775 L56.9214 379.124 L55.8566 379.124 L55.8566 377.775 Z\" fill=\"#000000\" fill-rule=\"evenodd\" fill-opacity=\"1\" /><path clip-path=\"url(#clip350)\" d=\"M 0 0 M60.5498 381.045 Q59.6934 381.045 59.1957 381.716 Q58.698 382.382 58.698 383.545 Q58.698 384.708 59.1899 385.38 Q59.6876 386.045 60.5498 386.045 Q61.4005 386.045 61.8982 385.374 Q62.3959 384.702 62.3959 383.545 Q62.3959 382.393 61.8982 381.722 Q61.4005 381.045 60.5498 381.045 M60.5498 380.142 Q61.9387 380.142 62.7315 381.045 Q63.5243 381.948 63.5243 383.545 Q63.5243 385.136 62.7315 386.045 Q61.9387 386.948 60.5498 386.948 Q59.1552 386.948 58.3623 386.045 Q57.5753 385.136 57.5753 383.545 Q57.5753 381.948 58.3623 381.045 Q59.1552 380.142 60.5498 380.142 Z\" fill=\"#000000\" fill-rule=\"evenodd\" fill-opacity=\"1\" /><path clip-path=\"url(#clip350)\" d=\"M 0 0 M70.0289 382.868 L70.0289 386.78 L68.9641 386.78 L68.9641 382.903 Q68.9641 381.983 68.6053 381.525 Q68.2465 381.068 67.529 381.068 Q66.6667 381.068 66.169 381.618 Q65.6713 382.168 65.6713 383.117 L65.6713 386.78 L64.6007 386.78 L64.6007 380.299 L65.6713 380.299 L65.6713 381.305 Q66.0533 380.721 66.5683 380.432 Q67.0891 380.142 67.7662 380.142 Q68.8831 380.142 69.456 380.837 Q70.0289 381.525 70.0289 382.868 Z\" fill=\"#000000\" fill-rule=\"evenodd\" fill-opacity=\"1\" /><path clip-path=\"url(#clip350)\" d=\"M 0 0 M72.3032 385.796 L76.3831 385.796 L76.3831 386.78 L70.897 386.78 L70.897 385.796 Q71.5625 385.108 72.7083 383.95 Q73.8599 382.787 74.1551 382.451 Q74.7164 381.821 74.9363 381.386 Q75.162 380.947 75.162 380.524 Q75.162 379.836 74.6759 379.402 Q74.1956 378.968 73.4201 378.968 Q72.8704 378.968 72.2569 379.158 Q71.6493 379.349 70.9549 379.737 L70.9549 378.557 Q71.6609 378.273 72.2743 378.128 Q72.8877 377.984 73.397 377.984 Q74.7396 377.984 75.5382 378.655 Q76.3368 379.326 76.3368 380.449 Q76.3368 380.981 76.1342 381.462 Q75.9375 381.936 75.4109 382.584 Q75.2662 382.752 74.4907 383.557 Q73.7153 384.355 72.3032 385.796 Z\" fill=\"#000000\" fill-rule=\"evenodd\" fill-opacity=\"1\" /><path clip-path=\"url(#clip350)\" d=\"M 0 0 M77.772 385.31 L78.993 385.31 L78.993 386.78 L77.772 386.78 L77.772 385.31 M77.772 380.652 L78.993 380.652 L78.993 382.121 L77.772 382.121 L77.772 380.652 Z\" fill=\"#000000\" fill-rule=\"evenodd\" fill-opacity=\"1\" /><path clip-path=\"url(#clip350)\" d=\"M 0 0 M83.9235 378.14 L85.0925 378.14 L85.0925 386.178 Q85.0925 387.741 84.4965 388.447 Q83.9062 389.153 82.5925 389.153 L82.1469 389.153 L82.1469 388.169 L82.5115 388.169 Q83.287 388.169 83.6053 387.735 Q83.9235 387.301 83.9235 386.178 L83.9235 378.14 Z\" fill=\"#000000\" fill-rule=\"evenodd\" fill-opacity=\"1\" /><path clip-path=\"url(#clip350)\" d=\"M 0 0 M88.721 381.045 Q87.8645 381.045 87.3668 381.716 Q86.8691 382.382 86.8691 383.545 Q86.8691 384.708 87.361 385.38 Q87.8587 386.045 88.721 386.045 Q89.5717 386.045 90.0693 385.374 Q90.567 384.702 90.567 383.545 Q90.567 382.393 90.0693 381.722 Q89.5717 381.045 88.721 381.045 M88.721 380.142 Q90.1099 380.142 90.9027 381.045 Q91.6955 381.948 91.6955 383.545 Q91.6955 385.136 90.9027 386.045 Q90.1099 386.948 88.721 386.948 Q87.3263 386.948 86.5335 386.045 Q85.7465 385.136 85.7465 383.545 Q85.7465 381.948 86.5335 381.045 Q87.3263 380.142 88.721 380.142 Z\" fill=\"#000000\" fill-rule=\"evenodd\" fill-opacity=\"1\" /><path clip-path=\"url(#clip350)\" d=\"M 0 0 M92.7719 377.775 L93.8425 377.775 L93.8425 383.094 L97.0195 380.299 L98.3795 380.299 L94.942 383.331 L98.5242 386.78 L97.1353 386.78 L93.8425 383.614 L93.8425 386.78 L92.7719 386.78 L92.7719 377.775 Z\" fill=\"#000000\" fill-rule=\"evenodd\" fill-opacity=\"1\" /><path clip-path=\"url(#clip350)\" d=\"M 0 0 M104.763 383.273 L104.763 383.794 L99.8667 383.794 Q99.9362 384.893 100.526 385.472 Q101.123 386.045 102.182 386.045 Q102.795 386.045 103.368 385.895 Q103.947 385.744 104.514 385.443 L104.514 386.45 Q103.941 386.693 103.339 386.82 Q102.737 386.948 102.118 386.948 Q100.567 386.948 99.6584 386.045 Q98.7556 385.142 98.7556 383.603 Q98.7556 382.011 99.6121 381.08 Q100.474 380.142 101.933 380.142 Q103.241 380.142 103.999 380.987 Q104.763 381.826 104.763 383.273 M103.698 382.961 Q103.686 382.087 103.206 381.566 Q102.731 381.045 101.944 381.045 Q101.053 381.045 100.515 381.549 Q99.9825 382.052 99.9015 382.966 L103.698 382.961 Z\" fill=\"#000000\" fill-rule=\"evenodd\" fill-opacity=\"1\" /><path clip-path=\"url(#clip350)\" d=\"M 0 0 M110.011 380.489 L110.011 381.496 Q109.56 381.265 109.074 381.149 Q108.588 381.033 108.067 381.033 Q107.274 381.033 106.875 381.277 Q106.481 381.52 106.481 382.006 Q106.481 382.376 106.765 382.59 Q107.048 382.799 107.905 382.989 L108.269 383.07 Q109.404 383.314 109.878 383.759 Q110.359 384.199 110.359 384.992 Q110.359 385.895 109.641 386.421 Q108.929 386.948 107.679 386.948 Q107.158 386.948 106.591 386.844 Q106.03 386.745 105.405 386.543 L105.405 385.443 Q105.995 385.75 106.568 385.906 Q107.141 386.057 107.702 386.057 Q108.455 386.057 108.86 385.802 Q109.265 385.542 109.265 385.073 Q109.265 384.639 108.97 384.407 Q108.68 384.176 107.691 383.962 L107.32 383.875 Q106.331 383.667 105.891 383.238 Q105.451 382.804 105.451 382.052 Q105.451 381.138 106.099 380.64 Q106.747 380.142 107.94 380.142 Q108.53 380.142 109.051 380.229 Q109.572 380.316 110.011 380.489 Z\" fill=\"#000000\" fill-rule=\"evenodd\" fill-opacity=\"1\" /><path clip-path=\"url(#clip350)\" d=\"M 0 0 M529.327 380.547 L529.327 381.543 Q528.875 381.294 528.418 381.172 Q527.967 381.045 527.504 381.045 Q526.468 381.045 525.895 381.705 Q525.322 382.359 525.322 383.545 Q525.322 384.731 525.895 385.391 Q526.468 386.045 527.504 386.045 Q527.967 386.045 528.418 385.923 Q528.875 385.796 529.327 385.547 L529.327 386.531 Q528.881 386.739 528.401 386.844 Q527.926 386.948 527.388 386.948 Q525.924 386.948 525.061 386.028 Q524.199 385.108 524.199 383.545 Q524.199 381.959 525.067 381.051 Q525.941 380.142 527.457 380.142 Q527.949 380.142 528.418 380.246 Q528.887 380.345 529.327 380.547 Z\" fill=\"#000000\" fill-rule=\"evenodd\" fill-opacity=\"1\" /><path clip-path=\"url(#clip350)\" d=\"M 0 0 M532.955 381.045 Q532.098 381.045 531.601 381.716 Q531.103 382.382 531.103 383.545 Q531.103 384.708 531.595 385.38 Q532.093 386.045 532.955 386.045 Q533.806 386.045 534.303 385.374 Q534.801 384.702 534.801 383.545 Q534.801 382.393 534.303 381.722 Q533.806 381.045 532.955 381.045 M532.955 380.142 Q534.344 380.142 535.137 381.045 Q535.929 381.948 535.929 383.545 Q535.929 385.136 535.137 386.045 Q534.344 386.948 532.955 386.948 Q531.56 386.948 530.767 386.045 Q529.98 385.136 529.98 383.545 Q529.98 381.948 530.767 381.045 Q531.56 380.142 532.955 380.142 Z\" fill=\"#000000\" fill-rule=\"evenodd\" fill-opacity=\"1\" /><path clip-path=\"url(#clip350)\" d=\"M 0 0 M542.434 382.868 L542.434 386.78 L541.369 386.78 L541.369 382.903 Q541.369 381.983 541.01 381.525 Q540.652 381.068 539.934 381.068 Q539.072 381.068 538.574 381.618 Q538.076 382.168 538.076 383.117 L538.076 386.78 L537.006 386.78 L537.006 380.299 L538.076 380.299 L538.076 381.305 Q538.458 380.721 538.973 380.432 Q539.494 380.142 540.171 380.142 Q541.288 380.142 541.861 380.837 Q542.434 381.525 542.434 382.868 Z\" fill=\"#000000\" fill-rule=\"evenodd\" fill-opacity=\"1\" /><path clip-path=\"url(#clip350)\" d=\"M 0 0 M547.816 381.282 L547.816 377.775 L548.881 377.775 L548.881 386.78 L547.816 386.78 L547.816 385.808 Q547.48 386.386 546.965 386.67 Q546.456 386.948 545.738 386.948 Q544.564 386.948 543.823 386.01 Q543.088 385.073 543.088 383.545 Q543.088 382.017 543.823 381.08 Q544.564 380.142 545.738 380.142 Q546.456 380.142 546.965 380.426 Q547.48 380.704 547.816 381.282 M544.188 383.545 Q544.188 384.72 544.668 385.391 Q545.154 386.057 545.999 386.057 Q546.844 386.057 547.33 385.391 Q547.816 384.72 547.816 383.545 Q547.816 382.37 547.33 381.705 Q546.844 381.033 545.999 381.033 Q545.154 381.033 544.668 381.705 Q544.188 382.37 544.188 383.545 Z\" fill=\"#000000\" fill-rule=\"evenodd\" fill-opacity=\"1\" /><path clip-path=\"url(#clip350)\" d=\"M 0 0 M549.998 380.299 L551.063 380.299 L551.063 386.78 L549.998 386.78 L549.998 380.299 M549.998 377.775 L551.063 377.775 L551.063 379.124 L549.998 379.124 L549.998 377.775 Z\" fill=\"#000000\" fill-rule=\"evenodd\" fill-opacity=\"1\" /><path clip-path=\"url(#clip350)\" d=\"M 0 0 M553.233 378.458 L553.233 380.299 L555.426 380.299 L555.426 381.126 L553.233 381.126 L553.233 384.645 Q553.233 385.437 553.447 385.663 Q553.667 385.889 554.332 385.889 L555.426 385.889 L555.426 386.78 L554.332 386.78 Q553.1 386.78 552.631 386.323 Q552.162 385.86 552.162 384.645 L552.162 381.126 L551.381 381.126 L551.381 380.299 L552.162 380.299 L552.162 378.458 L553.233 378.458 Z\" fill=\"#000000\" fill-rule=\"evenodd\" fill-opacity=\"1\" /><path clip-path=\"url(#clip350)\" d=\"M 0 0 M556.543 380.299 L557.608 380.299 L557.608 386.78 L556.543 386.78 L556.543 380.299 M556.543 377.775 L557.608 377.775 L557.608 379.124 L556.543 379.124 L556.543 377.775 Z\" fill=\"#000000\" fill-rule=\"evenodd\" fill-opacity=\"1\" /><path clip-path=\"url(#clip350)\" d=\"M 0 0 M561.236 381.045 Q560.38 381.045 559.882 381.716 Q559.384 382.382 559.384 383.545 Q559.384 384.708 559.876 385.38 Q560.374 386.045 561.236 386.045 Q562.087 386.045 562.584 385.374 Q563.082 384.702 563.082 383.545 Q563.082 382.393 562.584 381.722 Q562.087 381.045 561.236 381.045 M561.236 380.142 Q562.625 380.142 563.418 381.045 Q564.211 381.948 564.211 383.545 Q564.211 385.136 563.418 386.045 Q562.625 386.948 561.236 386.948 Q559.841 386.948 559.049 386.045 Q558.262 385.136 558.262 383.545 Q558.262 381.948 559.049 381.045 Q559.841 380.142 561.236 380.142 Z\" fill=\"#000000\" fill-rule=\"evenodd\" fill-opacity=\"1\" /><path clip-path=\"url(#clip350)\" d=\"M 0 0 M570.715 382.868 L570.715 386.78 L569.65 386.78 L569.65 382.903 Q569.65 381.983 569.292 381.525 Q568.933 381.068 568.215 381.068 Q567.353 381.068 566.855 381.618 Q566.358 382.168 566.358 383.117 L566.358 386.78 L565.287 386.78 L565.287 380.299 L566.358 380.299 L566.358 381.305 Q566.74 380.721 567.255 380.432 Q567.775 380.142 568.452 380.142 Q569.569 380.142 570.142 380.837 Q570.715 381.525 570.715 382.868 Z\" fill=\"#000000\" fill-rule=\"evenodd\" fill-opacity=\"1\" /><path clip-path=\"url(#clip350)\" d=\"M 0 0 M572.989 385.796 L577.069 385.796 L577.069 386.78 L571.583 386.78 L571.583 385.796 Q572.249 385.108 573.395 383.95 Q574.546 382.787 574.841 382.451 Q575.403 381.821 575.623 381.386 Q575.848 380.947 575.848 380.524 Q575.848 379.836 575.362 379.402 Q574.882 378.968 574.106 378.968 Q573.557 378.968 572.943 379.158 Q572.336 379.349 571.641 379.737 L571.641 378.557 Q572.347 378.273 572.961 378.128 Q573.574 377.984 574.083 377.984 Q575.426 377.984 576.224 378.655 Q577.023 379.326 577.023 380.449 Q577.023 380.981 576.82 381.462 Q576.624 381.936 576.097 382.584 Q575.952 382.752 575.177 383.557 Q574.402 384.355 572.989 385.796 Z\" fill=\"#000000\" fill-rule=\"evenodd\" fill-opacity=\"1\" /><path clip-path=\"url(#clip350)\" d=\"M 0 0 M578.458 385.31 L579.679 385.31 L579.679 386.78 L578.458 386.78 L578.458 385.31 M578.458 380.652 L579.679 380.652 L579.679 382.121 L578.458 382.121 L578.458 380.652 Z\" fill=\"#000000\" fill-rule=\"evenodd\" fill-opacity=\"1\" /><path clip-path=\"url(#clip350)\" d=\"M 0 0 M587.498 379.292 L585.912 383.591 L589.089 383.591 L587.498 379.292 M586.838 378.14 L588.163 378.14 L591.456 386.78 L590.241 386.78 L589.454 384.564 L585.559 384.564 L584.772 386.78 L583.539 386.78 L586.838 378.14 Z\" fill=\"#000000\" fill-rule=\"evenodd\" fill-opacity=\"1\" /><path clip-path=\"url(#clip350)\" d=\"M 0 0 M596.705 380.489 L596.705 381.496 Q596.253 381.265 595.767 381.149 Q595.281 381.033 594.76 381.033 Q593.967 381.033 593.568 381.277 Q593.175 381.52 593.175 382.006 Q593.175 382.376 593.458 382.59 Q593.742 382.799 594.598 382.989 L594.963 383.07 Q596.097 383.314 596.572 383.759 Q597.052 384.199 597.052 384.992 Q597.052 385.895 596.334 386.421 Q595.622 386.948 594.372 386.948 Q593.852 386.948 593.285 386.844 Q592.723 386.745 592.098 386.543 L592.098 385.443 Q592.688 385.75 593.261 385.906 Q593.834 386.057 594.396 386.057 Q595.148 386.057 595.553 385.802 Q595.958 385.542 595.958 385.073 Q595.958 384.639 595.663 384.407 Q595.374 384.176 594.384 383.962 L594.014 383.875 Q593.024 383.667 592.584 383.238 Q592.144 382.804 592.144 382.052 Q592.144 381.138 592.793 380.64 Q593.441 380.142 594.633 380.142 Q595.223 380.142 595.744 380.229 Q596.265 380.316 596.705 380.489 Z\" fill=\"#000000\" fill-rule=\"evenodd\" fill-opacity=\"1\" /><path clip-path=\"url(#clip350)\" d=\"M 0 0 M602.301 380.489 L602.301 381.496 Q601.849 381.265 601.363 381.149 Q600.877 381.033 600.356 381.033 Q599.563 381.033 599.164 381.277 Q598.771 381.52 598.771 382.006 Q598.771 382.376 599.054 382.59 Q599.338 382.799 600.194 382.989 L600.559 383.07 Q601.693 383.314 602.168 383.759 Q602.648 384.199 602.648 384.992 Q602.648 385.895 601.93 386.421 Q601.218 386.948 599.969 386.948 Q599.448 386.948 598.881 386.844 Q598.319 386.745 597.694 386.543 L597.694 385.443 Q598.284 385.75 598.857 385.906 Q599.43 386.057 599.992 386.057 Q600.744 386.057 601.149 385.802 Q601.554 385.542 601.554 385.073 Q601.554 384.639 601.259 384.407 Q600.97 384.176 599.98 383.962 L599.61 383.875 Q598.62 383.667 598.18 383.238 Q597.741 382.804 597.741 382.052 Q597.741 381.138 598.389 380.64 Q599.037 380.142 600.229 380.142 Q600.819 380.142 601.34 380.229 Q601.861 380.316 602.301 380.489 Z\" fill=\"#000000\" fill-rule=\"evenodd\" fill-opacity=\"1\" /><path clip-path=\"url(#clip350)\" d=\"M 0 0 M606.71 383.522 Q605.42 383.522 604.922 383.817 Q604.425 384.112 604.425 384.824 Q604.425 385.391 604.795 385.727 Q605.171 386.057 605.813 386.057 Q606.699 386.057 607.231 385.432 Q607.769 384.801 607.769 383.759 L607.769 383.522 L606.71 383.522 M608.834 383.082 L608.834 386.78 L607.769 386.78 L607.769 385.796 Q607.405 386.386 606.861 386.67 Q606.317 386.948 605.53 386.948 Q604.534 386.948 603.944 386.392 Q603.36 385.831 603.36 384.893 Q603.36 383.8 604.089 383.244 Q604.824 382.689 606.276 382.689 L607.769 382.689 L607.769 382.584 Q607.769 381.849 607.283 381.45 Q606.803 381.045 605.929 381.045 Q605.374 381.045 604.847 381.178 Q604.32 381.311 603.834 381.577 L603.834 380.594 Q604.419 380.368 604.968 380.258 Q605.518 380.142 606.039 380.142 Q607.445 380.142 608.14 380.871 Q608.834 381.601 608.834 383.082 Z\" fill=\"#000000\" fill-rule=\"evenodd\" fill-opacity=\"1\" /><path clip-path=\"url(#clip350)\" d=\"M 0 0 M609.841 384.222 L609.841 380.299 L610.906 380.299 L610.906 384.182 Q610.906 385.102 611.265 385.565 Q611.624 386.022 612.341 386.022 Q613.203 386.022 613.701 385.472 Q614.205 384.922 614.205 383.973 L614.205 380.299 L615.269 380.299 L615.269 386.78 L614.205 386.78 L614.205 385.785 Q613.817 386.375 613.302 386.664 Q612.793 386.948 612.115 386.948 Q610.999 386.948 610.42 386.253 Q609.841 385.559 609.841 384.222 M612.521 380.142 L612.521 380.142 Z\" fill=\"#000000\" fill-rule=\"evenodd\" fill-opacity=\"1\" /><path clip-path=\"url(#clip350)\" d=\"M 0 0 M616.386 377.775 L617.451 377.775 L617.451 386.78 L616.386 386.78 L616.386 377.775 Z\" fill=\"#000000\" fill-rule=\"evenodd\" fill-opacity=\"1\" /><path clip-path=\"url(#clip350)\" d=\"M 0 0 M619.621 378.458 L619.621 380.299 L621.814 380.299 L621.814 381.126 L619.621 381.126 L619.621 384.645 Q619.621 385.437 619.835 385.663 Q620.055 385.889 620.721 385.889 L621.814 385.889 L621.814 386.78 L620.721 386.78 Q619.488 386.78 619.019 386.323 Q618.551 385.86 618.551 384.645 L618.551 381.126 L617.769 381.126 L617.769 380.299 L618.551 380.299 L618.551 378.458 L619.621 378.458 Z\" fill=\"#000000\" fill-rule=\"evenodd\" fill-opacity=\"1\" /><polyline clip-path=\"url(#clip352)\" style=\"stroke:#000000; stroke-width:0.5; stroke-opacity:0.1; fill:none\" points=\"\n",
       "  51.7537,351.144 588.189,351.144 \n",
       "  \"/>\n",
       "<polyline clip-path=\"url(#clip352)\" style=\"stroke:#000000; stroke-width:0.5; stroke-opacity:0.1; fill:none\" points=\"\n",
       "  51.7537,305.288 588.189,305.288 \n",
       "  \"/>\n",
       "<polyline clip-path=\"url(#clip352)\" style=\"stroke:#000000; stroke-width:0.5; stroke-opacity:0.1; fill:none\" points=\"\n",
       "  51.7537,259.431 588.189,259.431 \n",
       "  \"/>\n",
       "<polyline clip-path=\"url(#clip352)\" style=\"stroke:#000000; stroke-width:0.5; stroke-opacity:0.1; fill:none\" points=\"\n",
       "  51.7537,213.575 588.189,213.575 \n",
       "  \"/>\n",
       "<polyline clip-path=\"url(#clip352)\" style=\"stroke:#000000; stroke-width:0.5; stroke-opacity:0.1; fill:none\" points=\"\n",
       "  51.7537,167.719 588.189,167.719 \n",
       "  \"/>\n",
       "<polyline clip-path=\"url(#clip352)\" style=\"stroke:#000000; stroke-width:0.5; stroke-opacity:0.1; fill:none\" points=\"\n",
       "  51.7537,121.863 588.189,121.863 \n",
       "  \"/>\n",
       "<polyline clip-path=\"url(#clip352)\" style=\"stroke:#000000; stroke-width:0.5; stroke-opacity:0.1; fill:none\" points=\"\n",
       "  51.7537,76.0063 588.189,76.0063 \n",
       "  \"/>\n",
       "<polyline clip-path=\"url(#clip350)\" style=\"stroke:#000000; stroke-width:1; stroke-opacity:1; fill:none\" points=\"\n",
       "  51.7537,371.612 51.7537,30.868 \n",
       "  \"/>\n",
       "<polyline clip-path=\"url(#clip350)\" style=\"stroke:#000000; stroke-width:1; stroke-opacity:1; fill:none\" points=\"\n",
       "  51.7537,351.144 58.1909,351.144 \n",
       "  \"/>\n",
       "<polyline clip-path=\"url(#clip350)\" style=\"stroke:#000000; stroke-width:1; stroke-opacity:1; fill:none\" points=\"\n",
       "  51.7537,305.288 58.1909,305.288 \n",
       "  \"/>\n",
       "<polyline clip-path=\"url(#clip350)\" style=\"stroke:#000000; stroke-width:1; stroke-opacity:1; fill:none\" points=\"\n",
       "  51.7537,259.431 58.1909,259.431 \n",
       "  \"/>\n",
       "<polyline clip-path=\"url(#clip350)\" style=\"stroke:#000000; stroke-width:1; stroke-opacity:1; fill:none\" points=\"\n",
       "  51.7537,213.575 58.1909,213.575 \n",
       "  \"/>\n",
       "<polyline clip-path=\"url(#clip350)\" style=\"stroke:#000000; stroke-width:1; stroke-opacity:1; fill:none\" points=\"\n",
       "  51.7537,167.719 58.1909,167.719 \n",
       "  \"/>\n",
       "<polyline clip-path=\"url(#clip350)\" style=\"stroke:#000000; stroke-width:1; stroke-opacity:1; fill:none\" points=\"\n",
       "  51.7537,121.863 58.1909,121.863 \n",
       "  \"/>\n",
       "<polyline clip-path=\"url(#clip350)\" style=\"stroke:#000000; stroke-width:1; stroke-opacity:1; fill:none\" points=\"\n",
       "  51.7537,76.0063 58.1909,76.0063 \n",
       "  \"/>\n",
       "<path clip-path=\"url(#clip350)\" d=\"M 0 0 M13.2226 351.257 L20.6415 351.257 L20.6415 352.24 L13.2226 352.24 L13.2226 351.257 Z\" fill=\"#000000\" fill-rule=\"evenodd\" fill-opacity=\"1\" /><path clip-path=\"url(#clip350)\" d=\"M 0 0 M25.4505 350.805 Q26.2896 350.985 26.7584 351.552 Q27.2329 352.119 27.2329 352.952 Q27.2329 354.231 26.3533 354.931 Q25.4737 355.632 23.8533 355.632 Q23.3093 355.632 22.7306 355.522 Q22.1577 355.417 21.5443 355.203 L21.5443 354.075 Q22.0304 354.358 22.6091 354.503 Q23.1878 354.648 23.8186 354.648 Q24.9181 354.648 25.491 354.214 Q26.0697 353.78 26.0697 352.952 Q26.0697 352.188 25.5315 351.76 Q24.9991 351.326 24.0443 351.326 L23.0373 351.326 L23.0373 350.365 L24.0906 350.365 Q24.9528 350.365 25.41 350.024 Q25.8672 349.677 25.8672 349.029 Q25.8672 348.363 25.3926 348.01 Q24.9239 347.651 24.0443 347.651 Q23.5639 347.651 23.0142 347.755 Q22.4644 347.86 21.8047 348.08 L21.8047 347.038 Q22.4702 346.853 23.0489 346.76 Q23.6334 346.668 24.1484 346.668 Q25.4794 346.668 26.2549 347.275 Q27.0304 347.877 27.0304 348.907 Q27.0304 349.625 26.6195 350.122 Q26.2086 350.614 25.4505 350.805 Z\" fill=\"#000000\" fill-rule=\"evenodd\" fill-opacity=\"1\" /><path clip-path=\"url(#clip350)\" d=\"M 0 0 M28.2051 346.824 L33.7607 346.824 L33.7607 347.321 L30.6241 355.464 L29.403 355.464 L32.3544 347.808 L28.2051 347.808 L28.2051 346.824 Z\" fill=\"#000000\" fill-rule=\"evenodd\" fill-opacity=\"1\" /><path clip-path=\"url(#clip350)\" d=\"M 0 0 M35.028 353.994 L36.2491 353.994 L36.2491 355.464 L35.028 355.464 L35.028 353.994 Z\" fill=\"#000000\" fill-rule=\"evenodd\" fill-opacity=\"1\" /><path clip-path=\"url(#clip350)\" d=\"M 0 0 M37.528 346.824 L42.1171 346.824 L42.1171 347.808 L38.5986 347.808 L38.5986 349.926 Q38.8532 349.839 39.1078 349.798 Q39.3625 349.752 39.6171 349.752 Q41.0639 349.752 41.9088 350.545 Q42.7537 351.338 42.7537 352.692 Q42.7537 354.086 41.8856 354.862 Q41.0176 355.632 39.4377 355.632 Q38.8937 355.632 38.3266 355.539 Q37.7653 355.446 37.1634 355.261 L37.1634 354.086 Q37.6842 354.37 38.2398 354.509 Q38.7953 354.648 39.4146 354.648 Q40.4157 354.648 41.0002 354.121 Q41.5847 353.595 41.5847 352.692 Q41.5847 351.789 41.0002 351.262 Q40.4157 350.736 39.4146 350.736 Q38.9458 350.736 38.4771 350.84 Q38.0141 350.944 37.528 351.164 L37.528 346.824 Z\" fill=\"#000000\" fill-rule=\"evenodd\" fill-opacity=\"1\" /><path clip-path=\"url(#clip350)\" d=\"M 0 0 M12.9969 305.4 L20.4158 305.4 L20.4158 306.384 L12.9969 306.384 L12.9969 305.4 Z\" fill=\"#000000\" fill-rule=\"evenodd\" fill-opacity=\"1\" /><path clip-path=\"url(#clip350)\" d=\"M 0 0 M25.2248 304.949 Q26.0639 305.128 26.5327 305.696 Q27.0072 306.263 27.0072 307.096 Q27.0072 308.375 26.1276 309.075 Q25.248 309.775 23.6276 309.775 Q23.0836 309.775 22.5049 309.665 Q21.932 309.561 21.3186 309.347 L21.3186 308.219 Q21.8047 308.502 22.3834 308.647 Q22.9621 308.792 23.5929 308.792 Q24.6924 308.792 25.2653 308.358 Q25.844 307.924 25.844 307.096 Q25.844 306.332 25.3058 305.904 Q24.7734 305.47 23.8186 305.47 L22.8116 305.47 L22.8116 304.509 L23.8649 304.509 Q24.7271 304.509 25.1843 304.168 Q25.6415 303.821 25.6415 303.172 Q25.6415 302.507 25.1669 302.154 Q24.6982 301.795 23.8186 301.795 Q23.3383 301.795 22.7885 301.899 Q22.2387 302.003 21.579 302.223 L21.579 301.182 Q22.2445 300.996 22.8232 300.904 Q23.4077 300.811 23.9227 300.811 Q25.2538 300.811 26.0292 301.419 Q26.8047 302.021 26.8047 303.051 Q26.8047 303.768 26.3938 304.266 Q25.9829 304.758 25.2248 304.949 Z\" fill=\"#000000\" fill-rule=\"evenodd\" fill-opacity=\"1\" /><path clip-path=\"url(#clip350)\" d=\"M 0 0 M28.2861 300.968 L32.8752 300.968 L32.8752 301.951 L29.3567 301.951 L29.3567 304.069 Q29.6114 303.983 29.866 303.942 Q30.1206 303.896 30.3753 303.896 Q31.822 303.896 32.6669 304.689 Q33.5118 305.481 33.5118 306.836 Q33.5118 308.23 32.6438 309.006 Q31.7757 309.775 30.1959 309.775 Q29.6519 309.775 29.0847 309.683 Q28.5234 309.59 27.9216 309.405 L27.9216 308.23 Q28.4424 308.514 28.9979 308.653 Q29.5535 308.792 30.1727 308.792 Q31.1739 308.792 31.7583 308.265 Q32.3428 307.738 32.3428 306.836 Q32.3428 305.933 31.7583 305.406 Q31.1739 304.88 30.1727 304.88 Q29.704 304.88 29.2352 304.984 Q28.7723 305.088 28.2861 305.308 L28.2861 300.968 Z\" fill=\"#000000\" fill-rule=\"evenodd\" fill-opacity=\"1\" /><path clip-path=\"url(#clip350)\" d=\"M 0 0 M34.7792 308.138 L36.0002 308.138 L36.0002 309.608 L34.7792 309.608 L34.7792 308.138 Z\" fill=\"#000000\" fill-rule=\"evenodd\" fill-opacity=\"1\" /><path clip-path=\"url(#clip350)\" d=\"M 0 0 M39.7676 301.737 Q38.8648 301.737 38.4076 302.628 Q37.9562 303.514 37.9562 305.296 Q37.9562 307.073 38.4076 307.964 Q38.8648 308.849 39.7676 308.849 Q40.6761 308.849 41.1275 307.964 Q41.5847 307.073 41.5847 305.296 Q41.5847 303.514 41.1275 302.628 Q40.6761 301.737 39.7676 301.737 M39.7676 300.811 Q41.2201 300.811 41.984 301.963 Q42.7537 303.109 42.7537 305.296 Q42.7537 307.478 41.984 308.63 Q41.2201 309.775 39.7676 309.775 Q38.315 309.775 37.5454 308.63 Q36.7815 307.478 36.7815 305.296 Q36.7815 303.109 37.5454 301.963 Q38.315 300.811 39.7676 300.811 Z\" fill=\"#000000\" fill-rule=\"evenodd\" fill-opacity=\"1\" /><path clip-path=\"url(#clip350)\" d=\"M 0 0 M13.3962 259.544 L20.8151 259.544 L20.8151 260.528 L13.3962 260.528 L13.3962 259.544 Z\" fill=\"#000000\" fill-rule=\"evenodd\" fill-opacity=\"1\" /><path clip-path=\"url(#clip350)\" d=\"M 0 0 M25.6241 259.093 Q26.4632 259.272 26.932 259.839 Q27.4065 260.406 27.4065 261.24 Q27.4065 262.519 26.5269 263.219 Q25.6473 263.919 24.0269 263.919 Q23.4829 263.919 22.9042 263.809 Q22.3313 263.705 21.7179 263.491 L21.7179 262.362 Q22.204 262.646 22.7827 262.791 Q23.3614 262.935 23.9922 262.935 Q25.0917 262.935 25.6646 262.501 Q26.2433 262.067 26.2433 261.24 Q26.2433 260.476 25.7051 260.048 Q25.1727 259.614 24.2179 259.614 L23.2109 259.614 L23.2109 258.653 L24.2642 258.653 Q25.1264 258.653 25.5836 258.311 Q26.0408 257.964 26.0408 257.316 Q26.0408 256.651 25.5662 256.298 Q25.0975 255.939 24.2179 255.939 Q23.7376 255.939 23.1878 256.043 Q22.638 256.147 21.9783 256.367 L21.9783 255.325 Q22.6438 255.14 23.2225 255.048 Q23.807 254.955 24.322 254.955 Q25.6531 254.955 26.4285 255.563 Q27.204 256.165 27.204 257.195 Q27.204 257.912 26.7931 258.41 Q26.3822 258.902 25.6241 259.093 Z\" fill=\"#000000\" fill-rule=\"evenodd\" fill-opacity=\"1\" /><path clip-path=\"url(#clip350)\" d=\"M 0 0 M29.6808 262.767 L33.7607 262.767 L33.7607 263.751 L28.2746 263.751 L28.2746 262.767 Q28.9401 262.079 30.0859 260.921 Q31.2375 259.758 31.5327 259.423 Q32.094 258.792 32.3139 258.358 Q32.5396 257.918 32.5396 257.496 Q32.5396 256.807 32.0535 256.373 Q31.5732 255.939 30.7977 255.939 Q30.2479 255.939 29.6345 256.13 Q29.0269 256.321 28.3324 256.708 L28.3324 255.528 Q29.0385 255.244 29.6519 255.1 Q30.2653 254.955 30.7746 254.955 Q32.1171 254.955 32.9157 255.626 Q33.7144 256.298 33.7144 257.42 Q33.7144 257.953 33.5118 258.433 Q33.3151 258.908 32.7884 259.556 Q32.6438 259.724 31.8683 260.528 Q31.0928 261.327 29.6808 262.767 Z\" fill=\"#000000\" fill-rule=\"evenodd\" fill-opacity=\"1\" /><path clip-path=\"url(#clip350)\" d=\"M 0 0 M35.028 262.281 L36.2491 262.281 L36.2491 263.751 L35.028 263.751 L35.028 262.281 Z\" fill=\"#000000\" fill-rule=\"evenodd\" fill-opacity=\"1\" /><path clip-path=\"url(#clip350)\" d=\"M 0 0 M37.528 255.111 L42.1171 255.111 L42.1171 256.095 L38.5986 256.095 L38.5986 258.213 Q38.8532 258.126 39.1078 258.086 Q39.3625 258.04 39.6171 258.04 Q41.0639 258.04 41.9088 258.832 Q42.7537 259.625 42.7537 260.979 Q42.7537 262.374 41.8856 263.149 Q41.0176 263.919 39.4377 263.919 Q38.8937 263.919 38.3266 263.827 Q37.7653 263.734 37.1634 263.549 L37.1634 262.374 Q37.6842 262.658 38.2398 262.796 Q38.7953 262.935 39.4146 262.935 Q40.4157 262.935 41.0002 262.409 Q41.5847 261.882 41.5847 260.979 Q41.5847 260.077 41.0002 259.55 Q40.4157 259.023 39.4146 259.023 Q38.9458 259.023 38.4771 259.127 Q38.0141 259.232 37.528 259.452 L37.528 255.111 Z\" fill=\"#000000\" fill-rule=\"evenodd\" fill-opacity=\"1\" /><path clip-path=\"url(#clip350)\" d=\"M 0 0 M12.748 213.688 L20.167 213.688 L20.167 214.672 L12.748 214.672 L12.748 213.688 Z\" fill=\"#000000\" fill-rule=\"evenodd\" fill-opacity=\"1\" /><path clip-path=\"url(#clip350)\" d=\"M 0 0 M24.976 213.236 Q25.8151 213.416 26.2838 213.983 Q26.7584 214.55 26.7584 215.383 Q26.7584 216.662 25.8787 217.363 Q24.9991 218.063 23.3788 218.063 Q22.8348 218.063 22.2561 217.953 Q21.6832 217.849 21.0697 217.635 L21.0697 216.506 Q21.5559 216.79 22.1346 216.934 Q22.7133 217.079 23.344 217.079 Q24.4436 217.079 25.0165 216.645 Q25.5952 216.211 25.5952 215.383 Q25.5952 214.62 25.057 214.191 Q24.5246 213.757 23.5697 213.757 L22.5628 213.757 L22.5628 212.797 L23.616 212.797 Q24.4783 212.797 24.9355 212.455 Q25.3926 212.108 25.3926 211.46 Q25.3926 210.794 24.9181 210.441 Q24.4494 210.083 23.5697 210.083 Q23.0894 210.083 22.5396 210.187 Q21.9899 210.291 21.3302 210.511 L21.3302 209.469 Q21.9957 209.284 22.5744 209.191 Q23.1589 209.099 23.6739 209.099 Q25.0049 209.099 25.7804 209.706 Q26.5558 210.308 26.5558 211.338 Q26.5558 212.056 26.145 212.554 Q25.7341 213.046 24.976 213.236 Z\" fill=\"#000000\" fill-rule=\"evenodd\" fill-opacity=\"1\" /><path clip-path=\"url(#clip350)\" d=\"M 0 0 M30.5257 210.025 Q29.6229 210.025 29.1658 210.916 Q28.7144 211.801 28.7144 213.584 Q28.7144 215.36 29.1658 216.252 Q29.6229 217.137 30.5257 217.137 Q31.4343 217.137 31.8857 216.252 Q32.3428 215.36 32.3428 213.584 Q32.3428 211.801 31.8857 210.916 Q31.4343 210.025 30.5257 210.025 M30.5257 209.099 Q31.9783 209.099 32.7421 210.25 Q33.5118 211.396 33.5118 213.584 Q33.5118 215.765 32.7421 216.917 Q31.9783 218.063 30.5257 218.063 Q29.0732 218.063 28.3035 216.917 Q27.5396 215.765 27.5396 213.584 Q27.5396 211.396 28.3035 210.25 Q29.0732 209.099 30.5257 209.099 Z\" fill=\"#000000\" fill-rule=\"evenodd\" fill-opacity=\"1\" /><path clip-path=\"url(#clip350)\" d=\"M 0 0 M34.7792 216.425 L36.0002 216.425 L36.0002 217.895 L34.7792 217.895 L34.7792 216.425 Z\" fill=\"#000000\" fill-rule=\"evenodd\" fill-opacity=\"1\" /><path clip-path=\"url(#clip350)\" d=\"M 0 0 M39.7676 210.025 Q38.8648 210.025 38.4076 210.916 Q37.9562 211.801 37.9562 213.584 Q37.9562 215.36 38.4076 216.252 Q38.8648 217.137 39.7676 217.137 Q40.6761 217.137 41.1275 216.252 Q41.5847 215.36 41.5847 213.584 Q41.5847 211.801 41.1275 210.916 Q40.6761 210.025 39.7676 210.025 M39.7676 209.099 Q41.2201 209.099 41.984 210.25 Q42.7537 211.396 42.7537 213.584 Q42.7537 215.765 41.984 216.917 Q41.2201 218.063 39.7676 218.063 Q38.315 218.063 37.5454 216.917 Q36.7815 215.765 36.7815 213.584 Q36.7815 211.396 37.5454 210.25 Q38.315 209.099 39.7676 209.099 Z\" fill=\"#000000\" fill-rule=\"evenodd\" fill-opacity=\"1\" /><path clip-path=\"url(#clip350)\" d=\"M 0 0 M13.4598 167.832 L20.8788 167.832 L20.8788 168.815 L13.4598 168.815 L13.4598 167.832 Z\" fill=\"#000000\" fill-rule=\"evenodd\" fill-opacity=\"1\" /><path clip-path=\"url(#clip350)\" d=\"M 0 0 M23.1531 171.055 L27.2329 171.055 L27.2329 172.039 L21.7468 172.039 L21.7468 171.055 Q22.4123 170.366 23.5582 169.209 Q24.7098 168.046 25.0049 167.71 Q25.5662 167.079 25.7862 166.645 Q26.0118 166.205 26.0118 165.783 Q26.0118 165.094 25.5257 164.66 Q25.0454 164.226 24.27 164.226 Q23.7202 164.226 23.1068 164.417 Q22.4991 164.608 21.8047 164.996 L21.8047 163.815 Q22.5107 163.532 23.1241 163.387 Q23.7376 163.243 24.2468 163.243 Q25.5894 163.243 26.388 163.914 Q27.1866 164.585 27.1866 165.708 Q27.1866 166.24 26.9841 166.721 Q26.7873 167.195 26.2607 167.843 Q26.116 168.011 25.3406 168.815 Q24.5651 169.614 23.1531 171.055 Z\" fill=\"#000000\" fill-rule=\"evenodd\" fill-opacity=\"1\" /><path clip-path=\"url(#clip350)\" d=\"M 0 0 M28.2051 163.399 L33.7607 163.399 L33.7607 163.896 L30.6241 172.039 L29.403 172.039 L32.3544 164.383 L28.2051 164.383 L28.2051 163.399 Z\" fill=\"#000000\" fill-rule=\"evenodd\" fill-opacity=\"1\" /><path clip-path=\"url(#clip350)\" d=\"M 0 0 M35.028 170.569 L36.2491 170.569 L36.2491 172.039 L35.028 172.039 L35.028 170.569 Z\" fill=\"#000000\" fill-rule=\"evenodd\" fill-opacity=\"1\" /><path clip-path=\"url(#clip350)\" d=\"M 0 0 M37.528 163.399 L42.1171 163.399 L42.1171 164.383 L38.5986 164.383 L38.5986 166.501 Q38.8532 166.414 39.1078 166.373 Q39.3625 166.327 39.6171 166.327 Q41.0639 166.327 41.9088 167.12 Q42.7537 167.913 42.7537 169.267 Q42.7537 170.661 41.8856 171.437 Q41.0176 172.207 39.4377 172.207 Q38.8937 172.207 38.3266 172.114 Q37.7653 172.021 37.1634 171.836 L37.1634 170.661 Q37.6842 170.945 38.2398 171.084 Q38.7953 171.223 39.4146 171.223 Q40.4157 171.223 41.0002 170.696 Q41.5847 170.17 41.5847 169.267 Q41.5847 168.364 41.0002 167.837 Q40.4157 167.311 39.4146 167.311 Q38.9458 167.311 38.4771 167.415 Q38.0141 167.519 37.528 167.739 L37.528 163.399 Z\" fill=\"#000000\" fill-rule=\"evenodd\" fill-opacity=\"1\" /><path clip-path=\"url(#clip350)\" d=\"M 0 0 M13.2341 121.975 L20.6531 121.975 L20.6531 122.959 L13.2341 122.959 L13.2341 121.975 Z\" fill=\"#000000\" fill-rule=\"evenodd\" fill-opacity=\"1\" /><path clip-path=\"url(#clip350)\" d=\"M 0 0 M22.9274 125.199 L27.0072 125.199 L27.0072 126.183 L21.5211 126.183 L21.5211 125.199 Q22.1866 124.51 23.3325 123.353 Q24.4841 122.189 24.7792 121.854 Q25.3406 121.223 25.5605 120.789 Q25.7862 120.349 25.7862 119.927 Q25.7862 119.238 25.3 118.804 Q24.8197 118.37 24.0443 118.37 Q23.4945 118.37 22.8811 118.561 Q22.2734 118.752 21.579 119.14 L21.579 117.959 Q22.285 117.676 22.8984 117.531 Q23.5119 117.386 24.0211 117.386 Q25.3637 117.386 26.1623 118.058 Q26.9609 118.729 26.9609 119.852 Q26.9609 120.384 26.7584 120.864 Q26.5616 121.339 26.035 121.987 Q25.8903 122.155 25.1149 122.959 Q24.3394 123.758 22.9274 125.199 Z\" fill=\"#000000\" fill-rule=\"evenodd\" fill-opacity=\"1\" /><path clip-path=\"url(#clip350)\" d=\"M 0 0 M28.2861 117.543 L32.8752 117.543 L32.8752 118.526 L29.3567 118.526 L29.3567 120.644 Q29.6114 120.558 29.866 120.517 Q30.1206 120.471 30.3753 120.471 Q31.822 120.471 32.6669 121.264 Q33.5118 122.056 33.5118 123.411 Q33.5118 124.805 32.6438 125.581 Q31.7757 126.35 30.1959 126.35 Q29.6519 126.35 29.0847 126.258 Q28.5234 126.165 27.9216 125.98 L27.9216 124.805 Q28.4424 125.089 28.9979 125.228 Q29.5535 125.367 30.1727 125.367 Q31.1739 125.367 31.7583 124.84 Q32.3428 124.313 32.3428 123.411 Q32.3428 122.508 31.7583 121.981 Q31.1739 121.455 30.1727 121.455 Q29.704 121.455 29.2352 121.559 Q28.7723 121.663 28.2861 121.883 L28.2861 117.543 Z\" fill=\"#000000\" fill-rule=\"evenodd\" fill-opacity=\"1\" /><path clip-path=\"url(#clip350)\" d=\"M 0 0 M34.7792 124.713 L36.0002 124.713 L36.0002 126.183 L34.7792 126.183 L34.7792 124.713 Z\" fill=\"#000000\" fill-rule=\"evenodd\" fill-opacity=\"1\" /><path clip-path=\"url(#clip350)\" d=\"M 0 0 M39.7676 118.312 Q38.8648 118.312 38.4076 119.203 Q37.9562 120.089 37.9562 121.871 Q37.9562 123.648 38.4076 124.539 Q38.8648 125.424 39.7676 125.424 Q40.6761 125.424 41.1275 124.539 Q41.5847 123.648 41.5847 121.871 Q41.5847 120.089 41.1275 119.203 Q40.6761 118.312 39.7676 118.312 M39.7676 117.386 Q41.2201 117.386 41.984 118.538 Q42.7537 119.684 42.7537 121.871 Q42.7537 124.053 41.984 125.205 Q41.2201 126.35 39.7676 126.35 Q38.315 126.35 37.5454 125.205 Q36.7815 124.053 36.7815 121.871 Q36.7815 119.684 37.5454 118.538 Q38.315 117.386 39.7676 117.386 Z\" fill=\"#000000\" fill-rule=\"evenodd\" fill-opacity=\"1\" /><path clip-path=\"url(#clip350)\" d=\"M 0 0 M13.6334 76.1191 L21.0524 76.1191 L21.0524 77.1029 L13.6334 77.1029 L13.6334 76.1191 Z\" fill=\"#000000\" fill-rule=\"evenodd\" fill-opacity=\"1\" /><path clip-path=\"url(#clip350)\" d=\"M 0 0 M23.3267 79.3425 L27.4065 79.3425 L27.4065 80.3263 L21.9204 80.3263 L21.9204 79.3425 Q22.5859 78.6538 23.7318 77.4964 Q24.8834 76.3332 25.1785 75.9976 Q25.7399 75.3668 25.9598 74.9328 Q26.1855 74.493 26.1855 74.0705 Q26.1855 73.3818 25.6994 72.9478 Q25.219 72.5138 24.4436 72.5138 Q23.8938 72.5138 23.2804 72.7048 Q22.6727 72.8957 21.9783 73.2835 L21.9783 72.1029 Q22.6843 71.8194 23.2977 71.6747 Q23.9112 71.53 24.4204 71.53 Q25.763 71.53 26.5616 72.2013 Q27.3602 72.8726 27.3602 73.9953 Q27.3602 74.5277 27.1577 75.008 Q26.9609 75.4825 26.4343 76.1307 Q26.2896 76.2985 25.5142 77.1029 Q24.7387 77.9015 23.3267 79.3425 Z\" fill=\"#000000\" fill-rule=\"evenodd\" fill-opacity=\"1\" /><path clip-path=\"url(#clip350)\" d=\"M 0 0 M29.6808 79.3425 L33.7607 79.3425 L33.7607 80.3263 L28.2746 80.3263 L28.2746 79.3425 Q28.9401 78.6538 30.0859 77.4964 Q31.2375 76.3332 31.5327 75.9976 Q32.094 75.3668 32.3139 74.9328 Q32.5396 74.493 32.5396 74.0705 Q32.5396 73.3818 32.0535 72.9478 Q31.5732 72.5138 30.7977 72.5138 Q30.2479 72.5138 29.6345 72.7048 Q29.0269 72.8957 28.3324 73.2835 L28.3324 72.1029 Q29.0385 71.8194 29.6519 71.6747 Q30.2653 71.53 30.7746 71.53 Q32.1171 71.53 32.9157 72.2013 Q33.7144 72.8726 33.7144 73.9953 Q33.7144 74.5277 33.5118 75.008 Q33.3151 75.4825 32.7884 76.1307 Q32.6438 76.2985 31.8683 77.1029 Q31.0928 77.9015 29.6808 79.3425 Z\" fill=\"#000000\" fill-rule=\"evenodd\" fill-opacity=\"1\" /><path clip-path=\"url(#clip350)\" d=\"M 0 0 M35.028 78.8564 L36.2491 78.8564 L36.2491 80.3263 L35.028 80.3263 L35.028 78.8564 Z\" fill=\"#000000\" fill-rule=\"evenodd\" fill-opacity=\"1\" /><path clip-path=\"url(#clip350)\" d=\"M 0 0 M37.528 71.6863 L42.1171 71.6863 L42.1171 72.67 L38.5986 72.67 L38.5986 74.7881 Q38.8532 74.7013 39.1078 74.6608 Q39.3625 74.6145 39.6171 74.6145 Q41.0639 74.6145 41.9088 75.4073 Q42.7537 76.2001 42.7537 77.5543 Q42.7537 78.9489 41.8856 79.7244 Q41.0176 80.4941 39.4377 80.4941 Q38.8937 80.4941 38.3266 80.4015 Q37.7653 80.3089 37.1634 80.1237 L37.1634 78.9489 Q37.6842 79.2325 38.2398 79.3714 Q38.7953 79.5103 39.4146 79.5103 Q40.4157 79.5103 41.0002 78.9837 Q41.5847 78.4571 41.5847 77.5543 Q41.5847 76.6515 41.0002 76.1249 Q40.4157 75.5983 39.4146 75.5983 Q38.9458 75.5983 38.4771 75.7024 Q38.0141 75.8066 37.528 76.0265 L37.528 71.6863 Z\" fill=\"#000000\" fill-rule=\"evenodd\" fill-opacity=\"1\" /><path clip-path=\"url(#clip350)\" d=\"M 0 0 M261.735 4.18863 L261.735 6.34574 Q260.702 5.38365 259.527 4.90767 Q258.362 4.43169 257.046 4.43169 Q254.453 4.43169 253.076 6.02167 Q251.698 7.60152 251.698 10.5992 Q251.698 13.5867 253.076 15.1767 Q254.453 16.7566 257.046 16.7566 Q258.362 16.7566 259.527 16.2806 Q260.702 15.8046 261.735 14.8425 L261.735 16.9794 Q260.661 17.7085 259.456 18.0731 Q258.261 18.4377 256.924 18.4377 Q253.491 18.4377 251.516 16.3413 Q249.541 14.2349 249.541 10.5992 Q249.541 6.95338 251.516 4.85703 Q253.491 2.75056 256.924 2.75056 Q258.281 2.75056 259.476 3.11515 Q260.681 3.4696 261.735 4.18863 Z\" fill=\"#000000\" fill-rule=\"evenodd\" fill-opacity=\"1\" /><path clip-path=\"url(#clip350)\" d=\"M 0 0 M268.084 8.10788 Q266.585 8.10788 265.715 9.28265 Q264.844 10.4473 264.844 12.4829 Q264.844 14.5184 265.704 15.6932 Q266.575 16.8578 268.084 16.8578 Q269.573 16.8578 270.444 15.6831 Q271.315 14.5083 271.315 12.4829 Q271.315 10.4675 270.444 9.29277 Q269.573 8.10788 268.084 8.10788 M268.084 6.52803 Q270.515 6.52803 271.902 8.10788 Q273.29 9.68774 273.29 12.4829 Q273.29 15.2679 271.902 16.8578 Q270.515 18.4377 268.084 18.4377 Q265.644 18.4377 264.256 16.8578 Q262.879 15.2679 262.879 12.4829 Q262.879 9.68774 264.256 8.10788 Q265.644 6.52803 268.084 6.52803 Z\" fill=\"#000000\" fill-rule=\"evenodd\" fill-opacity=\"1\" /><path clip-path=\"url(#clip350)\" d=\"M 0 0 M284.946 12.0069 L284.946 12.9183 L276.379 12.9183 Q276.5 14.8425 277.533 15.8552 Q278.576 16.8578 280.429 16.8578 Q281.503 16.8578 282.506 16.5945 Q283.518 16.3312 284.511 15.8046 L284.511 17.5667 Q283.508 17.9921 282.455 18.2149 Q281.402 18.4377 280.318 18.4377 Q277.604 18.4377 276.014 16.8578 Q274.434 15.278 274.434 12.5841 Q274.434 9.79914 275.933 8.16865 Q277.442 6.52803 279.994 6.52803 Q282.283 6.52803 283.609 8.00661 Q284.946 9.47506 284.946 12.0069 M283.083 11.46 Q283.063 9.93079 282.222 9.01934 Q281.392 8.10788 280.014 8.10788 Q278.455 8.10788 277.513 8.98896 Q276.581 9.87003 276.439 11.4701 L283.083 11.46 Z\" fill=\"#000000\" fill-rule=\"evenodd\" fill-opacity=\"1\" /><path clip-path=\"url(#clip350)\" d=\"M 0 0 M292.643 2.38598 L292.643 3.93545 L290.861 3.93545 Q289.858 3.93545 289.463 4.34054 Q289.078 4.74563 289.078 5.79887 L289.078 6.80147 L292.147 6.80147 L292.147 8.24967 L289.078 8.24967 L289.078 18.144 L287.205 18.144 L287.205 8.24967 L285.422 8.24967 L285.422 6.80147 L287.205 6.80147 L287.205 6.01154 Q287.205 4.11774 288.086 3.25693 Q288.967 2.38598 290.881 2.38598 L292.643 2.38598 Z\" fill=\"#000000\" fill-rule=\"evenodd\" fill-opacity=\"1\" /><path clip-path=\"url(#clip350)\" d=\"M 0 0 M300.34 2.38598 L300.34 3.93545 L298.557 3.93545 Q297.555 3.93545 297.16 4.34054 Q296.775 4.74563 296.775 5.79887 L296.775 6.80147 L299.843 6.80147 L299.843 8.24967 L296.775 8.24967 L296.775 18.144 L294.901 18.144 L294.901 8.24967 L293.119 8.24967 L293.119 6.80147 L294.901 6.80147 L294.901 6.01154 Q294.901 4.11774 295.782 3.25693 Q296.663 2.38598 298.577 2.38598 L300.34 2.38598 Z\" fill=\"#000000\" fill-rule=\"evenodd\" fill-opacity=\"1\" /><path clip-path=\"url(#clip350)\" d=\"M 0 0 M302.294 6.80147 L304.158 6.80147 L304.158 18.144 L302.294 18.144 L302.294 6.80147 M302.294 2.38598 L304.158 2.38598 L304.158 4.74563 L302.294 4.74563 L302.294 2.38598 Z\" fill=\"#000000\" fill-rule=\"evenodd\" fill-opacity=\"1\" /><path clip-path=\"url(#clip350)\" d=\"M 0 0 M314.275 7.23694 L314.275 8.97883 Q313.485 8.54336 312.685 8.33068 Q311.895 8.10788 311.085 8.10788 Q309.272 8.10788 308.269 9.26239 Q307.267 10.4068 307.267 12.4829 Q307.267 14.5589 308.269 15.7135 Q309.272 16.8578 311.085 16.8578 Q311.895 16.8578 312.685 16.6452 Q313.485 16.4224 314.275 15.9869 L314.275 17.7085 Q313.495 18.0731 312.654 18.2554 Q311.824 18.4377 310.882 18.4377 Q308.32 18.4377 306.811 16.8275 Q305.302 15.2172 305.302 12.4829 Q305.302 9.70799 306.821 8.11801 Q308.35 6.52803 311.004 6.52803 Q311.864 6.52803 312.685 6.71032 Q313.505 6.88249 314.275 7.23694 Z\" fill=\"#000000\" fill-rule=\"evenodd\" fill-opacity=\"1\" /><path clip-path=\"url(#clip350)\" d=\"M 0 0 M316.229 6.80147 L318.093 6.80147 L318.093 18.144 L316.229 18.144 L316.229 6.80147 M316.229 2.38598 L318.093 2.38598 L318.093 4.74563 L316.229 4.74563 L316.229 2.38598 Z\" fill=\"#000000\" fill-rule=\"evenodd\" fill-opacity=\"1\" /><path clip-path=\"url(#clip350)\" d=\"M 0 0 M329.749 12.0069 L329.749 12.9183 L321.182 12.9183 Q321.303 14.8425 322.336 15.8552 Q323.379 16.8578 325.232 16.8578 Q326.306 16.8578 327.309 16.5945 Q328.321 16.3312 329.314 15.8046 L329.314 17.5667 Q328.311 17.9921 327.258 18.2149 Q326.205 18.4377 325.121 18.4377 Q322.407 18.4377 320.817 16.8578 Q319.237 15.278 319.237 12.5841 Q319.237 9.79914 320.736 8.16865 Q322.245 6.52803 324.797 6.52803 Q327.086 6.52803 328.412 8.00661 Q329.749 9.47506 329.749 12.0069 M327.886 11.46 Q327.866 9.93079 327.025 9.01934 Q326.195 8.10788 324.817 8.10788 Q323.258 8.10788 322.316 8.98896 Q321.384 9.87003 321.242 11.4701 L327.886 11.46 Z\" fill=\"#000000\" fill-rule=\"evenodd\" fill-opacity=\"1\" /><path clip-path=\"url(#clip350)\" d=\"M 0 0 M341.132 11.298 L341.132 18.144 L339.269 18.144 L339.269 11.3587 Q339.269 9.7485 338.641 8.94845 Q338.013 8.14839 336.757 8.14839 Q335.248 8.14839 334.377 9.11048 Q333.506 10.0726 333.506 11.7334 L333.506 18.144 L331.633 18.144 L331.633 6.80147 L333.506 6.80147 L333.506 8.56361 Q334.175 7.54076 335.076 7.0344 Q335.988 6.52803 337.172 6.52803 Q339.127 6.52803 340.13 7.7433 Q341.132 8.94845 341.132 11.298 Z\" fill=\"#000000\" fill-rule=\"evenodd\" fill-opacity=\"1\" /><path clip-path=\"url(#clip350)\" d=\"M 0 0 M344.93 3.581 L344.93 6.80147 L348.768 6.80147 L348.768 8.24967 L344.93 8.24967 L344.93 14.407 Q344.93 15.7945 345.305 16.1894 Q345.689 16.5844 346.854 16.5844 L348.768 16.5844 L348.768 18.144 L346.854 18.144 Q344.697 18.144 343.877 17.3439 Q343.056 16.5338 343.056 14.407 L343.056 8.24967 L341.689 8.24967 L341.689 6.80147 L343.056 6.80147 L343.056 3.581 L344.93 3.581 Z\" fill=\"#000000\" fill-rule=\"evenodd\" fill-opacity=\"1\" /><path clip-path=\"url(#clip350)\" d=\"M 0 0 M359.118 16.4426 L359.118 22.4582 L357.245 22.4582 L357.245 6.80147 L359.118 6.80147 L359.118 8.5231 Q359.706 7.51038 360.597 7.02427 Q361.498 6.52803 362.744 6.52803 Q364.81 6.52803 366.096 8.16865 Q367.392 9.80926 367.392 12.4829 Q367.392 15.1565 366.096 16.7971 Q364.81 18.4377 362.744 18.4377 Q361.498 18.4377 360.597 17.9516 Q359.706 17.4553 359.118 16.4426 M365.458 12.4829 Q365.458 10.427 364.607 9.26239 Q363.767 8.08763 362.288 8.08763 Q360.809 8.08763 359.959 9.26239 Q359.118 10.427 359.118 12.4829 Q359.118 14.5387 359.959 15.7135 Q360.809 16.8781 362.288 16.8781 Q363.767 16.8781 364.607 15.7135 Q365.458 14.5387 365.458 12.4829 Z\" fill=\"#000000\" fill-rule=\"evenodd\" fill-opacity=\"1\" /><path clip-path=\"url(#clip350)\" d=\"M 0 0 M369.347 2.38598 L371.21 2.38598 L371.21 18.144 L369.347 18.144 L369.347 2.38598 Z\" fill=\"#000000\" fill-rule=\"evenodd\" fill-opacity=\"1\" /><path clip-path=\"url(#clip350)\" d=\"M 0 0 M377.56 8.10788 Q376.061 8.10788 375.19 9.28265 Q374.319 10.4473 374.319 12.4829 Q374.319 14.5184 375.18 15.6932 Q376.051 16.8578 377.56 16.8578 Q379.049 16.8578 379.92 15.6831 Q380.791 14.5083 380.791 12.4829 Q380.791 10.4675 379.92 9.29277 Q379.049 8.10788 377.56 8.10788 M377.56 6.52803 Q379.991 6.52803 381.378 8.10788 Q382.765 9.68774 382.765 12.4829 Q382.765 15.2679 381.378 16.8578 Q379.991 18.4377 377.56 18.4377 Q375.119 18.4377 373.732 16.8578 Q372.355 15.2679 372.355 12.4829 Q372.355 9.68774 373.732 8.10788 Q375.119 6.52803 377.56 6.52803 Z\" fill=\"#000000\" fill-rule=\"evenodd\" fill-opacity=\"1\" /><path clip-path=\"url(#clip350)\" d=\"M 0 0 M386.563 3.581 L386.563 6.80147 L390.401 6.80147 L390.401 8.24967 L386.563 8.24967 L386.563 14.407 Q386.563 15.7945 386.938 16.1894 Q387.323 16.5844 388.487 16.5844 L390.401 16.5844 L390.401 18.144 L388.487 18.144 Q386.33 18.144 385.51 17.3439 Q384.69 16.5338 384.69 14.407 L384.69 8.24967 L383.322 8.24967 L383.322 6.80147 L384.69 6.80147 L384.69 3.581 L386.563 3.581 Z\" fill=\"#000000\" fill-rule=\"evenodd\" fill-opacity=\"1\" /><polyline clip-path=\"url(#clip352)\" style=\"stroke:#000000; stroke-width:1; stroke-opacity:1; fill:none\" points=\"\n",
       "  66.9358,175.611 66.9358,40.5117 \n",
       "  \"/>\n",
       "<polyline clip-path=\"url(#clip352)\" style=\"stroke:#000000; stroke-width:1; stroke-opacity:1; fill:none\" points=\"\n",
       "  573.007,361.968 573.007,227.966 \n",
       "  \"/>\n",
       "<line clip-path=\"url(#clip352)\" x1=\"70.9358\" y1=\"175.611\" x2=\"62.9358\" y2=\"175.611\" style=\"stroke:#000000; stroke-width:0.8; stroke-opacity:1\"/>\n",
       "<line clip-path=\"url(#clip352)\" x1=\"70.9358\" y1=\"40.5117\" x2=\"62.9358\" y2=\"40.5117\" style=\"stroke:#000000; stroke-width:0.8; stroke-opacity:1\"/>\n",
       "<line clip-path=\"url(#clip352)\" x1=\"577.007\" y1=\"361.968\" x2=\"569.007\" y2=\"361.968\" style=\"stroke:#000000; stroke-width:0.8; stroke-opacity:1\"/>\n",
       "<line clip-path=\"url(#clip352)\" x1=\"577.007\" y1=\"227.966\" x2=\"569.007\" y2=\"227.966\" style=\"stroke:#000000; stroke-width:0.8; stroke-opacity:1\"/>\n",
       "<circle clip-path=\"url(#clip352)\" cx=\"66.9358\" cy=\"108.061\" r=\"3\" fill=\"#009af9\" fill-rule=\"evenodd\" fill-opacity=\"1\" stroke=\"#000000\" stroke-opacity=\"1\" stroke-width=\"0.8\"/>\n",
       "<circle clip-path=\"url(#clip352)\" cx=\"573.007\" cy=\"294.967\" r=\"3\" fill=\"#009af9\" fill-rule=\"evenodd\" fill-opacity=\"1\" stroke=\"#000000\" stroke-opacity=\"1\" stroke-width=\"0.8\"/>\n",
       "<path clip-path=\"url(#clip350)\" d=\"\n",
       "M497.949 72.4662 L570.308 72.4662 L570.308 42.2262 L497.949 42.2262  Z\n",
       "  \" fill=\"#ffffff\" fill-rule=\"evenodd\" fill-opacity=\"1\"/>\n",
       "<polyline clip-path=\"url(#clip350)\" style=\"stroke:#000000; stroke-width:1; stroke-opacity:1; fill:none\" points=\"\n",
       "  497.949,72.4662 570.308,72.4662 570.308,42.2262 497.949,42.2262 497.949,72.4662 \n",
       "  \"/>\n",
       "<circle clip-path=\"url(#clip350)\" cx=\"521.791\" cy=\"57.3462\" r=\"5\" fill=\"#009af9\" fill-rule=\"evenodd\" fill-opacity=\"1\" stroke=\"#000000\" stroke-opacity=\"1\" stroke-width=\"1.28\"/>\n",
       "<path clip-path=\"url(#clip350)\" d=\"M 0 0 M549.093 62.268 Q548.642 63.4254 548.213 63.7784 Q547.785 64.1314 547.068 64.1314 L546.217 64.1314 L546.217 63.2402 L546.842 63.2402 Q547.282 63.2402 547.525 63.0319 Q547.768 62.8236 548.063 62.0481 L548.254 61.562 L545.632 55.1847 L546.761 55.1847 L548.786 60.2541 L550.812 55.1847 L551.94 55.1847 L549.093 62.268 Z\" fill=\"#000000\" fill-rule=\"evenodd\" fill-opacity=\"1\" /><path clip-path=\"url(#clip350)\" d=\"M 0 0 M553.41 60.6824 L555.32 60.6824 L555.32 54.091 L553.242 54.5076 L553.242 53.4428 L555.308 53.0262 L556.477 53.0262 L556.477 60.6824 L558.387 60.6824 L558.387 61.6662 L553.41 61.6662 L553.41 60.6824 Z\" fill=\"#000000\" fill-rule=\"evenodd\" fill-opacity=\"1\" /></svg>\n"
      ]
     },
     "execution_count": 76,
     "metadata": {},
     "output_type": "execute_result"
    }
   ],
   "source": [
    "coefplot(m1a)"
   ]
  },
  {
   "cell_type": "code",
   "execution_count": 77,
   "metadata": {},
   "outputs": [
    {
     "data": {
      "image/svg+xml": [
       "<?xml version=\"1.0\" encoding=\"utf-8\"?>\n",
       "<svg xmlns=\"http://www.w3.org/2000/svg\" xmlns:xlink=\"http://www.w3.org/1999/xlink\" width=\"400\" height=\"400\" viewBox=\"0 0 1600 1600\">\n",
       "<defs>\n",
       "  <clipPath id=\"clip390\">\n",
       "    <rect x=\"0\" y=\"0\" width=\"1600\" height=\"1600\"/>\n",
       "  </clipPath>\n",
       "</defs>\n",
       "<path clip-path=\"url(#clip390)\" d=\"\n",
       "M0 1600 L1600 1600 L1600 0 L0 0  Z\n",
       "  \" fill=\"#ffffff\" fill-rule=\"evenodd\" fill-opacity=\"1\"/>\n",
       "<defs>\n",
       "  <clipPath id=\"clip391\">\n",
       "    <rect x=\"320\" y=\"160\" width=\"1121\" height=\"1121\"/>\n",
       "  </clipPath>\n",
       "</defs>\n",
       "<path clip-path=\"url(#clip390)\" d=\"\n",
       "M112.202 1505.99 L1588.19 1505.99 L1588.19 11.811 L112.202 11.811  Z\n",
       "  \" fill=\"#ffffff\" fill-rule=\"evenodd\" fill-opacity=\"1\"/>\n",
       "<defs>\n",
       "  <clipPath id=\"clip392\">\n",
       "    <rect x=\"112\" y=\"11\" width=\"1477\" height=\"1495\"/>\n",
       "  </clipPath>\n",
       "</defs>\n",
       "<polyline clip-path=\"url(#clip392)\" style=\"stroke:#000000; stroke-width:0.5; stroke-opacity:0.1; fill:none\" points=\"\n",
       "  153.975,1505.99 153.975,11.811 \n",
       "  \"/>\n",
       "<polyline clip-path=\"url(#clip392)\" style=\"stroke:#000000; stroke-width:0.5; stroke-opacity:0.1; fill:none\" points=\"\n",
       "  456.679,1505.99 456.679,11.811 \n",
       "  \"/>\n",
       "<polyline clip-path=\"url(#clip392)\" style=\"stroke:#000000; stroke-width:0.5; stroke-opacity:0.1; fill:none\" points=\"\n",
       "  759.384,1505.99 759.384,11.811 \n",
       "  \"/>\n",
       "<polyline clip-path=\"url(#clip392)\" style=\"stroke:#000000; stroke-width:0.5; stroke-opacity:0.1; fill:none\" points=\"\n",
       "  1062.09,1505.99 1062.09,11.811 \n",
       "  \"/>\n",
       "<polyline clip-path=\"url(#clip392)\" style=\"stroke:#000000; stroke-width:0.5; stroke-opacity:0.1; fill:none\" points=\"\n",
       "  1364.79,1505.99 1364.79,11.811 \n",
       "  \"/>\n",
       "<polyline clip-path=\"url(#clip390)\" style=\"stroke:#000000; stroke-width:1; stroke-opacity:1; fill:none\" points=\"\n",
       "  112.202,1505.99 1588.19,1505.99 \n",
       "  \"/>\n",
       "<polyline clip-path=\"url(#clip390)\" style=\"stroke:#000000; stroke-width:1; stroke-opacity:1; fill:none\" points=\"\n",
       "  153.975,1505.99 153.975,1488.06 \n",
       "  \"/>\n",
       "<polyline clip-path=\"url(#clip390)\" style=\"stroke:#000000; stroke-width:1; stroke-opacity:1; fill:none\" points=\"\n",
       "  456.679,1505.99 456.679,1488.06 \n",
       "  \"/>\n",
       "<polyline clip-path=\"url(#clip390)\" style=\"stroke:#000000; stroke-width:1; stroke-opacity:1; fill:none\" points=\"\n",
       "  759.384,1505.99 759.384,1488.06 \n",
       "  \"/>\n",
       "<polyline clip-path=\"url(#clip390)\" style=\"stroke:#000000; stroke-width:1; stroke-opacity:1; fill:none\" points=\"\n",
       "  1062.09,1505.99 1062.09,1488.06 \n",
       "  \"/>\n",
       "<polyline clip-path=\"url(#clip390)\" style=\"stroke:#000000; stroke-width:1; stroke-opacity:1; fill:none\" points=\"\n",
       "  1364.79,1505.99 1364.79,1488.06 \n",
       "  \"/>\n",
       "<path clip-path=\"url(#clip390)\" d=\"M 0 0 M130.57 1539.91 L134.867 1539.91 L134.867 1525.08 L130.192 1526.02 L130.192 1523.62 L134.841 1522.68 L137.471 1522.68 L137.471 1539.91 L141.768 1539.91 L141.768 1542.12 L130.57 1542.12 L130.57 1539.91 Z\" fill=\"#000000\" fill-rule=\"evenodd\" fill-opacity=\"1\" /><path clip-path=\"url(#clip390)\" d=\"M 0 0 M144.619 1538.82 L147.367 1538.82 L147.367 1542.12 L144.619 1542.12 L144.619 1538.82 Z\" fill=\"#000000\" fill-rule=\"evenodd\" fill-opacity=\"1\" /><path clip-path=\"url(#clip390)\" d=\"M 0 0 M155.843 1524.41 Q153.812 1524.41 152.783 1526.42 Q151.768 1528.41 151.768 1532.42 Q151.768 1536.42 152.783 1538.43 Q153.812 1540.42 155.843 1540.42 Q157.888 1540.42 158.903 1538.43 Q159.932 1536.42 159.932 1532.42 Q159.932 1528.41 158.903 1526.42 Q157.888 1524.41 155.843 1524.41 M155.843 1522.33 Q159.111 1522.33 160.83 1524.92 Q162.562 1527.5 162.562 1532.42 Q162.562 1537.33 160.83 1539.92 Q159.111 1542.5 155.843 1542.5 Q152.575 1542.5 150.843 1539.92 Q149.125 1537.33 149.125 1532.42 Q149.125 1527.5 150.843 1524.92 Q152.575 1522.33 155.843 1522.33 Z\" fill=\"#000000\" fill-rule=\"evenodd\" fill-opacity=\"1\" /><path clip-path=\"url(#clip390)\" d=\"M 0 0 M171.038 1524.41 Q169.007 1524.41 167.979 1526.42 Q166.963 1528.41 166.963 1532.42 Q166.963 1536.42 167.979 1538.43 Q169.007 1540.42 171.038 1540.42 Q173.083 1540.42 174.098 1538.43 Q175.127 1536.42 175.127 1532.42 Q175.127 1528.41 174.098 1526.42 Q173.083 1524.41 171.038 1524.41 M171.038 1522.33 Q174.307 1522.33 176.025 1524.92 Q177.757 1527.5 177.757 1532.42 Q177.757 1537.33 176.025 1539.92 Q174.307 1542.5 171.038 1542.5 Q167.77 1542.5 166.039 1539.92 Q164.32 1537.33 164.32 1532.42 Q164.32 1527.5 166.039 1524.92 Q167.77 1522.33 171.038 1522.33 Z\" fill=\"#000000\" fill-rule=\"evenodd\" fill-opacity=\"1\" /><path clip-path=\"url(#clip390)\" d=\"M 0 0 M434.004 1539.91 L438.301 1539.91 L438.301 1525.08 L433.626 1526.02 L433.626 1523.62 L438.274 1522.68 L440.905 1522.68 L440.905 1539.91 L445.202 1539.91 L445.202 1542.12 L434.004 1542.12 L434.004 1539.91 Z\" fill=\"#000000\" fill-rule=\"evenodd\" fill-opacity=\"1\" /><path clip-path=\"url(#clip390)\" d=\"M 0 0 M448.053 1538.82 L450.8 1538.82 L450.8 1542.12 L448.053 1542.12 L448.053 1538.82 Z\" fill=\"#000000\" fill-rule=\"evenodd\" fill-opacity=\"1\" /><path clip-path=\"url(#clip390)\" d=\"M 0 0 M455.918 1539.91 L465.097 1539.91 L465.097 1542.12 L452.754 1542.12 L452.754 1539.91 Q454.251 1538.36 456.829 1535.76 Q459.42 1533.14 460.084 1532.38 Q461.347 1530.96 461.842 1529.99 Q462.35 1529 462.35 1528.05 Q462.35 1526.5 461.256 1525.52 Q460.175 1524.54 458.431 1524.54 Q457.194 1524.54 455.813 1524.97 Q454.446 1525.4 452.884 1526.28 L452.884 1523.62 Q454.472 1522.98 455.853 1522.66 Q457.233 1522.33 458.379 1522.33 Q461.399 1522.33 463.196 1523.84 Q464.993 1525.35 464.993 1527.88 Q464.993 1529.08 464.537 1530.16 Q464.095 1531.22 462.91 1532.68 Q462.584 1533.06 460.839 1534.87 Q459.095 1536.67 455.918 1539.91 Z\" fill=\"#000000\" fill-rule=\"evenodd\" fill-opacity=\"1\" /><path clip-path=\"url(#clip390)\" d=\"M 0 0 M467.975 1522.68 L478.3 1522.68 L478.3 1524.9 L470.384 1524.9 L470.384 1529.66 Q470.957 1529.47 471.53 1529.38 Q472.102 1529.27 472.675 1529.27 Q475.931 1529.27 477.832 1531.06 Q479.733 1532.84 479.733 1535.89 Q479.733 1539.02 477.779 1540.77 Q475.826 1542.5 472.272 1542.5 Q471.048 1542.5 469.772 1542.29 Q468.509 1542.08 467.155 1541.67 L467.155 1539.02 Q468.326 1539.66 469.576 1539.97 Q470.826 1540.29 472.22 1540.29 Q474.472 1540.29 475.787 1539.1 Q477.102 1537.92 477.102 1535.89 Q477.102 1533.85 475.787 1532.67 Q474.472 1531.48 472.22 1531.48 Q471.165 1531.48 470.11 1531.72 Q469.069 1531.95 467.975 1532.45 L467.975 1522.68 Z\" fill=\"#000000\" fill-rule=\"evenodd\" fill-opacity=\"1\" /><path clip-path=\"url(#clip390)\" d=\"M 0 0 M736.259 1539.91 L740.556 1539.91 L740.556 1525.08 L735.881 1526.02 L735.881 1523.62 L740.53 1522.68 L743.16 1522.68 L743.16 1539.91 L747.457 1539.91 L747.457 1542.12 L736.259 1542.12 L736.259 1539.91 Z\" fill=\"#000000\" fill-rule=\"evenodd\" fill-opacity=\"1\" /><path clip-path=\"url(#clip390)\" d=\"M 0 0 M750.308 1538.82 L753.056 1538.82 L753.056 1542.12 L750.308 1542.12 L750.308 1538.82 Z\" fill=\"#000000\" fill-rule=\"evenodd\" fill-opacity=\"1\" /><path clip-path=\"url(#clip390)\" d=\"M 0 0 M755.933 1522.68 L766.259 1522.68 L766.259 1524.9 L758.342 1524.9 L758.342 1529.66 Q758.915 1529.47 759.488 1529.38 Q760.061 1529.27 760.634 1529.27 Q763.889 1529.27 765.79 1531.06 Q767.691 1532.84 767.691 1535.89 Q767.691 1539.02 765.738 1540.77 Q763.785 1542.5 760.23 1542.5 Q759.006 1542.5 757.73 1542.29 Q756.467 1542.08 755.113 1541.67 L755.113 1539.02 Q756.285 1539.66 757.535 1539.97 Q758.785 1540.29 760.178 1540.29 Q762.431 1540.29 763.746 1539.1 Q765.061 1537.92 765.061 1535.89 Q765.061 1533.85 763.746 1532.67 Q762.431 1531.48 760.178 1531.48 Q759.123 1531.48 758.069 1531.72 Q757.027 1531.95 755.933 1532.45 L755.933 1522.68 Z\" fill=\"#000000\" fill-rule=\"evenodd\" fill-opacity=\"1\" /><path clip-path=\"url(#clip390)\" d=\"M 0 0 M776.168 1524.41 Q774.136 1524.41 773.108 1526.42 Q772.092 1528.41 772.092 1532.42 Q772.092 1536.42 773.108 1538.43 Q774.136 1540.42 776.168 1540.42 Q778.212 1540.42 779.228 1538.43 Q780.256 1536.42 780.256 1532.42 Q780.256 1528.41 779.228 1526.42 Q778.212 1524.41 776.168 1524.41 M776.168 1522.33 Q779.436 1522.33 781.155 1524.92 Q782.886 1527.5 782.886 1532.42 Q782.886 1537.33 781.155 1539.92 Q779.436 1542.5 776.168 1542.5 Q772.899 1542.5 771.168 1539.92 Q769.449 1537.33 769.449 1532.42 Q769.449 1527.5 771.168 1524.92 Q772.899 1522.33 776.168 1522.33 Z\" fill=\"#000000\" fill-rule=\"evenodd\" fill-opacity=\"1\" /><path clip-path=\"url(#clip390)\" d=\"M 0 0 M1039.22 1539.91 L1043.51 1539.91 L1043.51 1525.08 L1038.84 1526.02 L1038.84 1523.62 L1043.49 1522.68 L1046.12 1522.68 L1046.12 1539.91 L1050.42 1539.91 L1050.42 1542.12 L1039.22 1542.12 L1039.22 1539.91 Z\" fill=\"#000000\" fill-rule=\"evenodd\" fill-opacity=\"1\" /><path clip-path=\"url(#clip390)\" d=\"M 0 0 M1053.27 1538.82 L1056.01 1538.82 L1056.01 1542.12 L1053.27 1542.12 L1053.27 1538.82 Z\" fill=\"#000000\" fill-rule=\"evenodd\" fill-opacity=\"1\" /><path clip-path=\"url(#clip390)\" d=\"M 0 0 M1058.2 1522.68 L1070.7 1522.68 L1070.7 1523.8 L1063.64 1542.12 L1060.9 1542.12 L1067.54 1524.9 L1058.2 1524.9 L1058.2 1522.68 Z\" fill=\"#000000\" fill-rule=\"evenodd\" fill-opacity=\"1\" /><path clip-path=\"url(#clip390)\" d=\"M 0 0 M1073.58 1522.68 L1083.9 1522.68 L1083.9 1524.9 L1075.99 1524.9 L1075.99 1529.66 Q1076.56 1529.47 1077.13 1529.38 Q1077.71 1529.27 1078.28 1529.27 Q1081.53 1529.27 1083.44 1531.06 Q1085.34 1532.84 1085.34 1535.89 Q1085.34 1539.02 1083.38 1540.77 Q1081.43 1542.5 1077.88 1542.5 Q1076.65 1542.5 1075.38 1542.29 Q1074.11 1542.08 1072.76 1541.67 L1072.76 1539.02 Q1073.93 1539.66 1075.18 1539.97 Q1076.43 1540.29 1077.82 1540.29 Q1080.08 1540.29 1081.39 1539.1 Q1082.71 1537.92 1082.71 1535.89 Q1082.71 1533.85 1081.39 1532.67 Q1080.08 1531.48 1077.82 1531.48 Q1076.77 1531.48 1075.71 1531.72 Q1074.67 1531.95 1073.58 1532.45 L1073.58 1522.68 Z\" fill=\"#000000\" fill-rule=\"evenodd\" fill-opacity=\"1\" /><path clip-path=\"url(#clip390)\" d=\"M 0 0 M1343.79 1539.91 L1352.97 1539.91 L1352.97 1542.12 L1340.63 1542.12 L1340.63 1539.91 Q1342.12 1538.36 1344.7 1535.76 Q1347.29 1533.14 1347.96 1532.38 Q1349.22 1530.96 1349.71 1529.99 Q1350.22 1529 1350.22 1528.05 Q1350.22 1526.5 1349.13 1525.52 Q1348.05 1524.54 1346.3 1524.54 Q1345.07 1524.54 1343.69 1524.97 Q1342.32 1525.4 1340.76 1526.28 L1340.76 1523.62 Q1342.35 1522.98 1343.73 1522.66 Q1345.11 1522.33 1346.25 1522.33 Q1349.27 1522.33 1351.07 1523.84 Q1352.87 1525.35 1352.87 1527.88 Q1352.87 1529.08 1352.41 1530.16 Q1351.97 1531.22 1350.78 1532.68 Q1350.46 1533.06 1348.71 1534.87 Q1346.97 1536.67 1343.79 1539.91 Z\" fill=\"#000000\" fill-rule=\"evenodd\" fill-opacity=\"1\" /><path clip-path=\"url(#clip390)\" d=\"M 0 0 M1355.82 1538.82 L1358.57 1538.82 L1358.57 1542.12 L1355.82 1542.12 L1355.82 1538.82 Z\" fill=\"#000000\" fill-rule=\"evenodd\" fill-opacity=\"1\" /><path clip-path=\"url(#clip390)\" d=\"M 0 0 M1367.05 1524.41 Q1365.01 1524.41 1363.99 1526.42 Q1362.97 1528.41 1362.97 1532.42 Q1362.97 1536.42 1363.99 1538.43 Q1365.01 1540.42 1367.05 1540.42 Q1369.09 1540.42 1370.11 1538.43 Q1371.13 1536.42 1371.13 1532.42 Q1371.13 1528.41 1370.11 1526.42 Q1369.09 1524.41 1367.05 1524.41 M1367.05 1522.33 Q1370.31 1522.33 1372.03 1524.92 Q1373.76 1527.5 1373.76 1532.42 Q1373.76 1537.33 1372.03 1539.92 Q1370.31 1542.5 1367.05 1542.5 Q1363.78 1542.5 1362.05 1539.92 Q1360.33 1537.33 1360.33 1532.42 Q1360.33 1527.5 1362.05 1524.92 Q1363.78 1522.33 1367.05 1522.33 Z\" fill=\"#000000\" fill-rule=\"evenodd\" fill-opacity=\"1\" /><path clip-path=\"url(#clip390)\" d=\"M 0 0 M1382.24 1524.41 Q1380.21 1524.41 1379.18 1526.42 Q1378.17 1528.41 1378.17 1532.42 Q1378.17 1536.42 1379.18 1538.43 Q1380.21 1540.42 1382.24 1540.42 Q1384.29 1540.42 1385.3 1538.43 Q1386.33 1536.42 1386.33 1532.42 Q1386.33 1528.41 1385.3 1526.42 Q1384.29 1524.41 1382.24 1524.41 M1382.24 1522.33 Q1385.51 1522.33 1387.23 1524.92 Q1388.96 1527.5 1388.96 1532.42 Q1388.96 1537.33 1387.23 1539.92 Q1385.51 1542.5 1382.24 1542.5 Q1378.97 1542.5 1377.24 1539.92 Q1375.52 1537.33 1375.52 1532.42 Q1375.52 1527.5 1377.24 1524.92 Q1378.97 1522.33 1382.24 1522.33 Z\" fill=\"#000000\" fill-rule=\"evenodd\" fill-opacity=\"1\" /><path clip-path=\"url(#clip390)\" d=\"M 0 0 M715.587 1560.46 L715.587 1562.7 Q714.571 1562.14 713.542 1561.87 Q712.527 1561.58 711.485 1561.58 Q709.154 1561.58 707.865 1563.06 Q706.576 1564.54 706.576 1567.2 Q706.576 1569.87 707.865 1571.36 Q709.154 1572.83 711.485 1572.83 Q712.527 1572.83 713.542 1572.56 Q714.571 1572.27 715.587 1571.71 L715.587 1573.92 Q714.584 1574.39 713.503 1574.63 Q712.436 1574.86 711.225 1574.86 Q707.93 1574.86 705.99 1572.79 Q704.05 1570.72 704.05 1567.2 Q704.05 1563.64 706.003 1561.59 Q707.969 1559.55 711.381 1559.55 Q712.488 1559.55 713.542 1559.78 Q714.597 1560 715.587 1560.46 Z\" fill=\"#000000\" fill-rule=\"evenodd\" fill-opacity=\"1\" /><path clip-path=\"url(#clip390)\" d=\"M 0 0 M723.751 1561.58 Q721.824 1561.58 720.704 1563.09 Q719.584 1564.59 719.584 1567.2 Q719.584 1569.82 720.691 1571.33 Q721.811 1572.83 723.751 1572.83 Q725.665 1572.83 726.784 1571.32 Q727.904 1569.81 727.904 1567.2 Q727.904 1564.61 726.784 1563.1 Q725.665 1561.58 723.751 1561.58 M723.751 1559.55 Q726.876 1559.55 728.659 1561.58 Q730.443 1563.61 730.443 1567.2 Q730.443 1570.79 728.659 1572.83 Q726.876 1574.86 723.751 1574.86 Q720.613 1574.86 718.829 1572.83 Q717.058 1570.79 717.058 1567.2 Q717.058 1563.61 718.829 1561.58 Q720.613 1559.55 723.751 1559.55 Z\" fill=\"#000000\" fill-rule=\"evenodd\" fill-opacity=\"1\" /><path clip-path=\"url(#clip390)\" d=\"M 0 0 M745.079 1565.68 L745.079 1574.48 L742.683 1574.48 L742.683 1565.76 Q742.683 1563.69 741.876 1562.66 Q741.068 1561.63 739.454 1561.63 Q737.514 1561.63 736.394 1562.87 Q735.274 1564.11 735.274 1566.24 L735.274 1574.48 L732.865 1574.48 L732.865 1559.9 L735.274 1559.9 L735.274 1562.17 Q736.133 1560.85 737.292 1560.2 Q738.464 1559.55 739.988 1559.55 Q742.501 1559.55 743.79 1561.11 Q745.079 1562.66 745.079 1565.68 Z\" fill=\"#000000\" fill-rule=\"evenodd\" fill-opacity=\"1\" /><path clip-path=\"url(#clip390)\" d=\"M 0 0 M757.188 1562.11 L757.188 1554.22 L759.584 1554.22 L759.584 1574.48 L757.188 1574.48 L757.188 1572.3 Q756.433 1573.6 755.274 1574.24 Q754.128 1574.86 752.513 1574.86 Q749.87 1574.86 748.204 1572.75 Q746.55 1570.64 746.55 1567.2 Q746.55 1563.77 748.204 1561.66 Q749.87 1559.55 752.513 1559.55 Q754.128 1559.55 755.274 1560.19 Q756.433 1560.81 757.188 1562.11 M749.024 1567.2 Q749.024 1569.85 750.105 1571.36 Q751.198 1572.86 753.099 1572.86 Q755 1572.86 756.094 1571.36 Q757.188 1569.85 757.188 1567.2 Q757.188 1564.56 756.094 1563.06 Q755 1561.55 753.099 1561.55 Q751.198 1561.55 750.105 1563.06 Q749.024 1564.56 749.024 1567.2 Z\" fill=\"#000000\" fill-rule=\"evenodd\" fill-opacity=\"1\" /><path clip-path=\"url(#clip390)\" d=\"M 0 0 M762.097 1559.9 L764.493 1559.9 L764.493 1574.48 L762.097 1574.48 L762.097 1559.9 M762.097 1554.22 L764.493 1554.22 L764.493 1557.26 L762.097 1557.26 L762.097 1554.22 Z\" fill=\"#000000\" fill-rule=\"evenodd\" fill-opacity=\"1\" /><path clip-path=\"url(#clip390)\" d=\"M 0 0 M769.375 1555.76 L769.375 1559.9 L774.31 1559.9 L774.31 1561.76 L769.375 1561.76 L769.375 1569.68 Q769.375 1571.46 769.857 1571.97 Q770.352 1572.48 771.849 1572.48 L774.31 1572.48 L774.31 1574.48 L771.849 1574.48 Q769.076 1574.48 768.021 1573.45 Q766.967 1572.41 766.967 1569.68 L766.967 1561.76 L765.209 1561.76 L765.209 1559.9 L766.967 1559.9 L766.967 1555.76 L769.375 1555.76 Z\" fill=\"#000000\" fill-rule=\"evenodd\" fill-opacity=\"1\" /><path clip-path=\"url(#clip390)\" d=\"M 0 0 M776.823 1559.9 L779.219 1559.9 L779.219 1574.48 L776.823 1574.48 L776.823 1559.9 M776.823 1554.22 L779.219 1554.22 L779.219 1557.26 L776.823 1557.26 L776.823 1554.22 Z\" fill=\"#000000\" fill-rule=\"evenodd\" fill-opacity=\"1\" /><path clip-path=\"url(#clip390)\" d=\"M 0 0 M787.383 1561.58 Q785.456 1561.58 784.336 1563.09 Q783.216 1564.59 783.216 1567.2 Q783.216 1569.82 784.323 1571.33 Q785.443 1572.83 787.383 1572.83 Q789.297 1572.83 790.417 1571.32 Q791.537 1569.81 791.537 1567.2 Q791.537 1564.61 790.417 1563.1 Q789.297 1561.58 787.383 1561.58 M787.383 1559.55 Q790.508 1559.55 792.292 1561.58 Q794.076 1563.61 794.076 1567.2 Q794.076 1570.79 792.292 1572.83 Q790.508 1574.86 787.383 1574.86 Q784.245 1574.86 782.461 1572.83 Q780.69 1570.79 780.69 1567.2 Q780.69 1563.61 782.461 1561.58 Q784.245 1559.55 787.383 1559.55 Z\" fill=\"#000000\" fill-rule=\"evenodd\" fill-opacity=\"1\" /><path clip-path=\"url(#clip390)\" d=\"M 0 0 M808.711 1565.68 L808.711 1574.48 L806.315 1574.48 L806.315 1565.76 Q806.315 1563.69 805.508 1562.66 Q804.701 1561.63 803.086 1561.63 Q801.146 1561.63 800.026 1562.87 Q798.906 1564.11 798.906 1566.24 L798.906 1574.48 L796.498 1574.48 L796.498 1559.9 L798.906 1559.9 L798.906 1562.17 Q799.766 1560.85 800.925 1560.2 Q802.097 1559.55 803.62 1559.55 Q806.133 1559.55 807.422 1561.11 Q808.711 1562.66 808.711 1565.68 Z\" fill=\"#000000\" fill-rule=\"evenodd\" fill-opacity=\"1\" /><path clip-path=\"url(#clip390)\" d=\"M 0 0 M825.456 1554.25 Q823.711 1557.24 822.865 1560.17 Q822.018 1563.1 822.018 1566.11 Q822.018 1569.12 822.865 1572.07 Q823.724 1575.02 825.456 1578 L823.372 1578 Q821.419 1574.94 820.443 1571.98 Q819.479 1569.03 819.479 1566.11 Q819.479 1563.21 820.443 1560.26 Q821.406 1557.32 823.372 1554.25 L825.456 1554.25 Z\" fill=\"#000000\" fill-rule=\"evenodd\" fill-opacity=\"1\" /><path clip-path=\"url(#clip390)\" d=\"M 0 0 M828.073 1555.04 L830.703 1555.04 L830.703 1573.13 Q830.703 1576.64 829.362 1578.23 Q828.034 1579.82 825.078 1579.82 L824.076 1579.82 L824.076 1577.61 L824.896 1577.61 Q826.641 1577.61 827.357 1576.63 Q828.073 1575.65 828.073 1573.13 L828.073 1555.04 Z\" fill=\"#000000\" fill-rule=\"evenodd\" fill-opacity=\"1\" /><path clip-path=\"url(#clip390)\" d=\"M 0 0 M838.867 1561.58 Q836.94 1561.58 835.82 1563.09 Q834.701 1564.59 834.701 1567.2 Q834.701 1569.82 835.807 1571.33 Q836.927 1572.83 838.867 1572.83 Q840.781 1572.83 841.901 1571.32 Q843.021 1569.81 843.021 1567.2 Q843.021 1564.61 841.901 1563.1 Q840.781 1561.58 838.867 1561.58 M838.867 1559.55 Q841.992 1559.55 843.776 1561.58 Q845.56 1563.61 845.56 1567.2 Q845.56 1570.79 843.776 1572.83 Q841.992 1574.86 838.867 1574.86 Q835.729 1574.86 833.945 1572.83 Q832.175 1570.79 832.175 1567.2 Q832.175 1563.61 833.945 1561.58 Q835.729 1559.55 838.867 1559.55 Z\" fill=\"#000000\" fill-rule=\"evenodd\" fill-opacity=\"1\" /><path clip-path=\"url(#clip390)\" d=\"M 0 0 M847.982 1554.22 L850.391 1554.22 L850.391 1566.19 L857.539 1559.9 L860.599 1559.9 L852.865 1566.72 L860.924 1574.48 L857.799 1574.48 L850.391 1567.36 L850.391 1574.48 L847.982 1574.48 L847.982 1554.22 Z\" fill=\"#000000\" fill-rule=\"evenodd\" fill-opacity=\"1\" /><path clip-path=\"url(#clip390)\" d=\"M 0 0 M874.961 1566.59 L874.961 1567.76 L863.945 1567.76 Q864.101 1570.24 865.43 1571.54 Q866.771 1572.83 869.153 1572.83 Q870.534 1572.83 871.823 1572.49 Q873.125 1572.15 874.401 1571.48 L874.401 1573.74 Q873.112 1574.29 871.758 1574.57 Q870.403 1574.86 869.01 1574.86 Q865.521 1574.86 863.476 1572.83 Q861.445 1570.8 861.445 1567.33 Q861.445 1563.75 863.372 1561.66 Q865.312 1559.55 868.594 1559.55 Q871.536 1559.55 873.242 1561.45 Q874.961 1563.34 874.961 1566.59 M872.565 1565.89 Q872.539 1563.92 871.458 1562.75 Q870.39 1561.58 868.62 1561.58 Q866.614 1561.58 865.404 1562.71 Q864.206 1563.84 864.023 1565.9 L872.565 1565.89 Z\" fill=\"#000000\" fill-rule=\"evenodd\" fill-opacity=\"1\" /><path clip-path=\"url(#clip390)\" d=\"M 0 0 M886.771 1560.33 L886.771 1562.6 Q885.755 1562.07 884.661 1561.81 Q883.567 1561.55 882.396 1561.55 Q880.612 1561.55 879.713 1562.1 Q878.828 1562.65 878.828 1563.74 Q878.828 1564.57 879.466 1565.06 Q880.104 1565.52 882.031 1565.95 L882.851 1566.14 Q885.403 1566.68 886.471 1567.69 Q887.552 1568.68 887.552 1570.46 Q887.552 1572.49 885.937 1573.68 Q884.336 1574.86 881.523 1574.86 Q880.351 1574.86 879.075 1574.63 Q877.812 1574.4 876.406 1573.95 L876.406 1571.48 Q877.734 1572.17 879.023 1572.52 Q880.312 1572.86 881.575 1572.86 Q883.268 1572.86 884.179 1572.28 Q885.091 1571.7 885.091 1570.64 Q885.091 1569.67 884.427 1569.14 Q883.776 1568.62 881.549 1568.14 L880.716 1567.95 Q878.489 1567.48 877.5 1566.51 Q876.51 1565.54 876.51 1563.84 Q876.51 1561.79 877.969 1560.67 Q879.427 1559.55 882.109 1559.55 Q883.437 1559.55 884.609 1559.74 Q885.781 1559.94 886.771 1560.33 Z\" fill=\"#000000\" fill-rule=\"evenodd\" fill-opacity=\"1\" /><path clip-path=\"url(#clip390)\" d=\"M 0 0 M890.677 1571.18 L893.424 1571.18 L893.424 1573.42 L891.289 1577.58 L889.609 1577.58 L890.677 1573.42 L890.677 1571.18 Z\" fill=\"#000000\" fill-rule=\"evenodd\" fill-opacity=\"1\" /><path clip-path=\"url(#clip390)\" d=\"M 0 0 M911.015 1557.63 L907.448 1567.31 L914.596 1567.31 L911.015 1557.63 M909.531 1555.04 L912.513 1555.04 L919.921 1574.48 L917.187 1574.48 L915.416 1569.5 L906.653 1569.5 L904.882 1574.48 L902.109 1574.48 L909.531 1555.04 Z\" fill=\"#000000\" fill-rule=\"evenodd\" fill-opacity=\"1\" /><path clip-path=\"url(#clip390)\" d=\"M 0 0 M931.731 1560.33 L931.731 1562.6 Q930.716 1562.07 929.622 1561.81 Q928.528 1561.55 927.356 1561.55 Q925.572 1561.55 924.674 1562.1 Q923.789 1562.65 923.789 1563.74 Q923.789 1564.57 924.427 1565.06 Q925.065 1565.52 926.992 1565.95 L927.812 1566.14 Q930.364 1566.68 931.432 1567.69 Q932.513 1568.68 932.513 1570.46 Q932.513 1572.49 930.898 1573.68 Q929.296 1574.86 926.484 1574.86 Q925.312 1574.86 924.036 1574.63 Q922.773 1574.4 921.367 1573.95 L921.367 1571.48 Q922.695 1572.17 923.984 1572.52 Q925.273 1572.86 926.536 1572.86 Q928.229 1572.86 929.14 1572.28 Q930.052 1571.7 930.052 1570.64 Q930.052 1569.67 929.388 1569.14 Q928.737 1568.62 926.51 1568.14 L925.677 1567.95 Q923.45 1567.48 922.461 1566.51 Q921.471 1565.54 921.471 1563.84 Q921.471 1561.79 922.929 1560.67 Q924.388 1559.55 927.07 1559.55 Q928.398 1559.55 929.57 1559.74 Q930.742 1559.94 931.731 1560.33 Z\" fill=\"#000000\" fill-rule=\"evenodd\" fill-opacity=\"1\" /><path clip-path=\"url(#clip390)\" d=\"M 0 0 M944.322 1560.33 L944.322 1562.6 Q943.307 1562.07 942.213 1561.81 Q941.119 1561.55 939.947 1561.55 Q938.164 1561.55 937.265 1562.1 Q936.38 1562.65 936.38 1563.74 Q936.38 1564.57 937.018 1565.06 Q937.656 1565.52 939.583 1565.95 L940.403 1566.14 Q942.955 1566.68 944.023 1567.69 Q945.104 1568.68 945.104 1570.46 Q945.104 1572.49 943.489 1573.68 Q941.887 1574.86 939.075 1574.86 Q937.903 1574.86 936.627 1574.63 Q935.364 1574.4 933.958 1573.95 L933.958 1571.48 Q935.286 1572.17 936.575 1572.52 Q937.864 1572.86 939.127 1572.86 Q940.82 1572.86 941.731 1572.28 Q942.643 1571.7 942.643 1570.64 Q942.643 1569.67 941.979 1569.14 Q941.328 1568.62 939.101 1568.14 L938.268 1567.95 Q936.041 1567.48 935.052 1566.51 Q934.062 1565.54 934.062 1563.84 Q934.062 1561.79 935.52 1560.67 Q936.979 1559.55 939.661 1559.55 Q940.989 1559.55 942.161 1559.74 Q943.333 1559.94 944.322 1560.33 Z\" fill=\"#000000\" fill-rule=\"evenodd\" fill-opacity=\"1\" /><path clip-path=\"url(#clip390)\" d=\"M 0 0 M954.244 1567.15 Q951.341 1567.15 950.221 1567.82 Q949.101 1568.48 949.101 1570.08 Q949.101 1571.36 949.934 1572.11 Q950.781 1572.86 952.226 1572.86 Q954.218 1572.86 955.416 1571.45 Q956.627 1570.03 956.627 1567.69 L956.627 1567.15 L954.244 1567.15 M959.023 1566.16 L959.023 1574.48 L956.627 1574.48 L956.627 1572.27 Q955.807 1573.6 954.583 1574.24 Q953.359 1574.86 951.588 1574.86 Q949.348 1574.86 948.02 1573.61 Q946.705 1572.35 946.705 1570.24 Q946.705 1567.78 948.346 1566.53 Q949.999 1565.28 953.268 1565.28 L956.627 1565.28 L956.627 1565.04 Q956.627 1563.39 955.533 1562.49 Q954.453 1561.58 952.486 1561.58 Q951.236 1561.58 950.052 1561.88 Q948.867 1562.18 947.773 1562.78 L947.773 1560.56 Q949.088 1560.06 950.325 1559.81 Q951.562 1559.55 952.734 1559.55 Q955.898 1559.55 957.46 1561.19 Q959.023 1562.83 959.023 1566.16 Z\" fill=\"#000000\" fill-rule=\"evenodd\" fill-opacity=\"1\" /><path clip-path=\"url(#clip390)\" d=\"M 0 0 M961.288 1568.73 L961.288 1559.9 L963.684 1559.9 L963.684 1568.64 Q963.684 1570.71 964.492 1571.75 Q965.299 1572.78 966.913 1572.78 Q968.853 1572.78 969.973 1571.54 Q971.106 1570.3 971.106 1568.17 L971.106 1559.9 L973.502 1559.9 L973.502 1574.48 L971.106 1574.48 L971.106 1572.24 Q970.234 1573.57 969.075 1574.22 Q967.929 1574.86 966.406 1574.86 Q963.893 1574.86 962.59 1573.3 Q961.288 1571.74 961.288 1568.73 M967.317 1559.55 L967.317 1559.55 Z\" fill=\"#000000\" fill-rule=\"evenodd\" fill-opacity=\"1\" /><path clip-path=\"url(#clip390)\" d=\"M 0 0 M976.015 1554.22 L978.411 1554.22 L978.411 1574.48 L976.015 1574.48 L976.015 1554.22 Z\" fill=\"#000000\" fill-rule=\"evenodd\" fill-opacity=\"1\" /><path clip-path=\"url(#clip390)\" d=\"M 0 0 M983.294 1555.76 L983.294 1559.9 L988.228 1559.9 L988.228 1561.76 L983.294 1561.76 L983.294 1569.68 Q983.294 1571.46 983.775 1571.97 Q984.27 1572.48 985.767 1572.48 L988.228 1572.48 L988.228 1574.48 L985.767 1574.48 Q982.994 1574.48 981.939 1573.45 Q980.885 1572.41 980.885 1569.68 L980.885 1561.76 L979.127 1561.76 L979.127 1559.9 L980.885 1559.9 L980.885 1555.76 L983.294 1555.76 Z\" fill=\"#000000\" fill-rule=\"evenodd\" fill-opacity=\"1\" /><path clip-path=\"url(#clip390)\" d=\"M 0 0 M990.364 1554.25 L992.447 1554.25 Q994.4 1557.32 995.364 1560.26 Q996.34 1563.21 996.34 1566.11 Q996.34 1569.03 995.364 1571.98 Q994.4 1574.94 992.447 1578 L990.364 1578 Q992.096 1575.02 992.942 1572.07 Q993.801 1569.12 993.801 1566.11 Q993.801 1563.1 992.942 1560.17 Q992.096 1557.24 990.364 1554.25 Z\" fill=\"#000000\" fill-rule=\"evenodd\" fill-opacity=\"1\" /><polyline clip-path=\"url(#clip392)\" style=\"stroke:#000000; stroke-width:0.5; stroke-opacity:0.1; fill:none\" points=\"\n",
       "  112.202,1505.99 1588.19,1505.99 \n",
       "  \"/>\n",
       "<polyline clip-path=\"url(#clip392)\" style=\"stroke:#000000; stroke-width:0.5; stroke-opacity:0.1; fill:none\" points=\"\n",
       "  112.202,1150.24 1588.19,1150.24 \n",
       "  \"/>\n",
       "<polyline clip-path=\"url(#clip392)\" style=\"stroke:#000000; stroke-width:0.5; stroke-opacity:0.1; fill:none\" points=\"\n",
       "  112.202,794.479 1588.19,794.479 \n",
       "  \"/>\n",
       "<polyline clip-path=\"url(#clip392)\" style=\"stroke:#000000; stroke-width:0.5; stroke-opacity:0.1; fill:none\" points=\"\n",
       "  112.202,438.721 1588.19,438.721 \n",
       "  \"/>\n",
       "<polyline clip-path=\"url(#clip392)\" style=\"stroke:#000000; stroke-width:0.5; stroke-opacity:0.1; fill:none\" points=\"\n",
       "  112.202,82.9626 1588.19,82.9626 \n",
       "  \"/>\n",
       "<polyline clip-path=\"url(#clip390)\" style=\"stroke:#000000; stroke-width:1; stroke-opacity:1; fill:none\" points=\"\n",
       "  112.202,1505.99 112.202,11.811 \n",
       "  \"/>\n",
       "<polyline clip-path=\"url(#clip390)\" style=\"stroke:#000000; stroke-width:1; stroke-opacity:1; fill:none\" points=\"\n",
       "  112.202,1505.99 129.913,1505.99 \n",
       "  \"/>\n",
       "<polyline clip-path=\"url(#clip390)\" style=\"stroke:#000000; stroke-width:1; stroke-opacity:1; fill:none\" points=\"\n",
       "  112.202,1150.24 129.913,1150.24 \n",
       "  \"/>\n",
       "<polyline clip-path=\"url(#clip390)\" style=\"stroke:#000000; stroke-width:1; stroke-opacity:1; fill:none\" points=\"\n",
       "  112.202,794.479 129.913,794.479 \n",
       "  \"/>\n",
       "<polyline clip-path=\"url(#clip390)\" style=\"stroke:#000000; stroke-width:1; stroke-opacity:1; fill:none\" points=\"\n",
       "  112.202,438.721 129.913,438.721 \n",
       "  \"/>\n",
       "<polyline clip-path=\"url(#clip390)\" style=\"stroke:#000000; stroke-width:1; stroke-opacity:1; fill:none\" points=\"\n",
       "  112.202,82.9626 129.913,82.9626 \n",
       "  \"/>\n",
       "<path clip-path=\"url(#clip390)\" d=\"M 0 0 M40.845 1506.25 L57.5377 1506.25 L57.5377 1508.46 L40.845 1508.46 L40.845 1506.25 Z\" fill=\"#000000\" fill-rule=\"evenodd\" fill-opacity=\"1\" /><path clip-path=\"url(#clip390)\" d=\"M 0 0 M67.6157 1498.57 L60.9751 1508.94 L67.6157 1508.94 L67.6157 1498.57 M66.9256 1496.27 L70.2329 1496.27 L70.2329 1508.94 L73.0063 1508.94 L73.0063 1511.13 L70.2329 1511.13 L70.2329 1515.71 L67.6157 1515.71 L67.6157 1511.13 L58.8397 1511.13 L58.8397 1508.59 L66.9256 1496.27 Z\" fill=\"#000000\" fill-rule=\"evenodd\" fill-opacity=\"1\" /><path clip-path=\"url(#clip390)\" d=\"M 0 0 M81.4828 1498.01 Q79.4516 1498.01 78.423 1500.01 Q77.4073 1502 77.4073 1506.01 Q77.4073 1510.01 78.423 1512.02 Q79.4516 1514.01 81.4828 1514.01 Q83.5271 1514.01 84.5427 1512.02 Q85.5714 1510.01 85.5714 1506.01 Q85.5714 1502 84.5427 1500.01 Q83.5271 1498.01 81.4828 1498.01 M81.4828 1495.92 Q84.7511 1495.92 86.4698 1498.51 Q88.2016 1501.09 88.2016 1506.01 Q88.2016 1510.92 86.4698 1513.51 Q84.7511 1516.09 81.4828 1516.09 Q78.2146 1516.09 76.4829 1513.51 Q74.7641 1510.92 74.7641 1506.01 Q74.7641 1501.09 76.4829 1498.51 Q78.2146 1495.92 81.4828 1495.92 Z\" fill=\"#000000\" fill-rule=\"evenodd\" fill-opacity=\"1\" /><path clip-path=\"url(#clip390)\" d=\"M 0 0 M41.4831 1150.49 L58.1757 1150.49 L58.1757 1152.7 L41.4831 1152.7 L41.4831 1150.49 Z\" fill=\"#000000\" fill-rule=\"evenodd\" fill-opacity=\"1\" /><path clip-path=\"url(#clip390)\" d=\"M 0 0 M68.9959 1149.48 Q70.8839 1149.88 71.9386 1151.15 Q73.0063 1152.43 73.0063 1154.31 Q73.0063 1157.18 71.0272 1158.76 Q69.048 1160.33 65.4022 1160.33 Q64.1782 1160.33 62.8762 1160.09 Q61.5871 1159.85 60.2069 1159.37 L60.2069 1156.83 Q61.3007 1157.47 62.6027 1157.8 Q63.9048 1158.12 65.3241 1158.12 Q67.798 1158.12 69.0871 1157.14 Q70.3892 1156.17 70.3892 1154.31 Q70.3892 1152.59 69.1782 1151.62 Q67.9803 1150.65 65.8319 1150.65 L63.5663 1150.65 L63.5663 1148.49 L65.9361 1148.49 Q67.8761 1148.49 68.9048 1147.72 Q69.9334 1146.94 69.9334 1145.48 Q69.9334 1143.98 68.8657 1143.19 Q67.811 1142.38 65.8319 1142.38 Q64.7512 1142.38 63.5142 1142.61 Q62.2772 1142.85 60.7928 1143.34 L60.7928 1141 Q62.2902 1140.58 63.5923 1140.37 Q64.9074 1140.17 66.0663 1140.17 Q69.061 1140.17 70.8058 1141.53 Q72.5506 1142.89 72.5506 1145.2 Q72.5506 1146.82 71.6261 1147.94 Q70.7017 1149.05 68.9959 1149.48 Z\" fill=\"#000000\" fill-rule=\"evenodd\" fill-opacity=\"1\" /><path clip-path=\"url(#clip390)\" d=\"M 0 0 M81.4828 1142.25 Q79.4516 1142.25 78.423 1144.25 Q77.4073 1146.25 77.4073 1150.26 Q77.4073 1154.25 78.423 1156.26 Q79.4516 1158.25 81.4828 1158.25 Q83.5271 1158.25 84.5427 1156.26 Q85.5714 1154.25 85.5714 1150.26 Q85.5714 1146.25 84.5427 1144.25 Q83.5271 1142.25 81.4828 1142.25 M81.4828 1140.17 Q84.7511 1140.17 86.4698 1142.76 Q88.2016 1145.33 88.2016 1150.26 Q88.2016 1155.17 86.4698 1157.76 Q84.7511 1160.33 81.4828 1160.33 Q78.2146 1160.33 76.4829 1157.76 Q74.7641 1155.17 74.7641 1150.26 Q74.7641 1145.33 76.4829 1142.76 Q78.2146 1140.17 81.4828 1140.17 Z\" fill=\"#000000\" fill-rule=\"evenodd\" fill-opacity=\"1\" /><path clip-path=\"url(#clip390)\" d=\"M 0 0 M42.0169 794.733 L58.7095 794.733 L58.7095 796.946 L42.0169 796.946 L42.0169 794.733 Z\" fill=\"#000000\" fill-rule=\"evenodd\" fill-opacity=\"1\" /><path clip-path=\"url(#clip390)\" d=\"M 0 0 M63.8267 801.985 L73.0063 801.985 L73.0063 804.199 L60.6626 804.199 L60.6626 801.985 Q62.16 800.436 64.7381 797.832 Q67.3293 795.214 67.9933 794.459 Q69.2563 793.04 69.7511 792.063 Q70.2589 791.074 70.2589 790.123 Q70.2589 788.574 69.1652 787.597 Q68.0845 786.621 66.3397 786.621 Q65.1027 786.621 63.7225 787.05 Q62.3553 787.48 60.7928 788.353 L60.7928 785.696 Q62.3814 785.058 63.7616 784.733 Q65.1418 784.407 66.2876 784.407 Q69.3084 784.407 71.1053 785.918 Q72.9022 787.428 72.9022 789.954 Q72.9022 791.152 72.4464 792.233 Q72.0037 793.3 70.8188 794.759 Q70.4933 795.136 68.7485 796.946 Q67.0038 798.743 63.8267 801.985 Z\" fill=\"#000000\" fill-rule=\"evenodd\" fill-opacity=\"1\" /><path clip-path=\"url(#clip390)\" d=\"M 0 0 M81.4828 786.491 Q79.4516 786.491 78.423 788.496 Q77.4073 790.488 77.4073 794.498 Q77.4073 798.496 78.423 800.501 Q79.4516 802.493 81.4828 802.493 Q83.5271 802.493 84.5427 800.501 Q85.5714 798.496 85.5714 794.498 Q85.5714 790.488 84.5427 788.496 Q83.5271 786.491 81.4828 786.491 M81.4828 784.407 Q84.7511 784.407 86.4698 786.998 Q88.2016 789.576 88.2016 794.498 Q88.2016 799.407 86.4698 801.998 Q84.7511 804.576 81.4828 804.576 Q78.2146 804.576 76.4829 801.998 Q74.7641 799.407 74.7641 794.498 Q74.7641 789.576 76.4829 786.998 Q78.2146 784.407 81.4828 784.407 Z\" fill=\"#000000\" fill-rule=\"evenodd\" fill-opacity=\"1\" /><path clip-path=\"url(#clip390)\" d=\"M 0 0 M41.8086 438.975 L58.5012 438.975 L58.5012 441.188 L41.8086 441.188 L41.8086 438.975 Z\" fill=\"#000000\" fill-rule=\"evenodd\" fill-opacity=\"1\" /><path clip-path=\"url(#clip390)\" d=\"M 0 0 M61.8085 446.227 L66.1053 446.227 L66.1053 431.397 L61.4309 432.334 L61.4309 429.938 L66.0793 429.001 L68.7095 429.001 L68.7095 446.227 L73.0063 446.227 L73.0063 448.441 L61.8085 448.441 L61.8085 446.227 Z\" fill=\"#000000\" fill-rule=\"evenodd\" fill-opacity=\"1\" /><path clip-path=\"url(#clip390)\" d=\"M 0 0 M81.4828 430.732 Q79.4516 430.732 78.423 432.738 Q77.4073 434.73 77.4073 438.74 Q77.4073 442.738 78.423 444.743 Q79.4516 446.735 81.4828 446.735 Q83.5271 446.735 84.5427 444.743 Q85.5714 442.738 85.5714 438.74 Q85.5714 434.73 84.5427 432.738 Q83.5271 430.732 81.4828 430.732 M81.4828 428.649 Q84.7511 428.649 86.4698 431.24 Q88.2016 433.818 88.2016 438.74 Q88.2016 443.649 86.4698 446.24 Q84.7511 448.818 81.4828 448.818 Q78.2146 448.818 76.4829 446.24 Q74.7641 443.649 74.7641 438.74 Q74.7641 433.818 76.4829 431.24 Q78.2146 428.649 81.4828 428.649 Z\" fill=\"#000000\" fill-rule=\"evenodd\" fill-opacity=\"1\" /><path clip-path=\"url(#clip390)\" d=\"M 0 0 M81.4828 74.9744 Q79.4516 74.9744 78.423 76.9796 Q77.4073 78.9718 77.4073 82.9822 Q77.4073 86.9795 78.423 88.9847 Q79.4516 90.9769 81.4828 90.9769 Q83.5271 90.9769 84.5427 88.9847 Q85.5714 86.9795 85.5714 82.9822 Q85.5714 78.9718 84.5427 76.9796 Q83.5271 74.9744 81.4828 74.9744 M81.4828 72.8911 Q84.7511 72.8911 86.4698 75.4822 Q88.2016 78.0603 88.2016 82.9822 Q88.2016 87.891 86.4698 90.4821 Q84.7511 93.0602 81.4828 93.0602 Q78.2146 93.0602 76.4829 90.4821 Q74.7641 87.891 74.7641 82.9822 Q74.7641 78.0603 76.4829 75.4822 Q78.2146 72.8911 81.4828 72.8911 Z\" fill=\"#000000\" fill-rule=\"evenodd\" fill-opacity=\"1\" /><path clip-path=\"url(#clip390)\" d=\"M 0 0 M19.6823 905.504 Q19.6823 908.407 20.3464 909.527 Q21.0105 910.647 22.612 910.647 Q23.8881 910.647 24.6433 909.814 Q25.3854 908.967 25.3854 907.522 Q25.3854 905.53 23.9792 904.332 Q22.5599 903.121 20.2162 903.121 L19.6823 903.121 L19.6823 905.504 M18.6928 900.725 L27.013 900.725 L27.013 903.121 L24.7995 903.121 Q26.1276 903.941 26.7656 905.165 Q27.3906 906.389 27.3906 908.16 Q27.3906 910.4 26.1406 911.728 Q24.8776 913.043 22.7683 913.043 Q20.3073 913.043 19.0574 911.402 Q17.8074 909.749 17.8074 906.48 L17.8074 903.121 L17.573 903.121 Q15.9193 903.121 15.0209 904.215 Q14.1095 905.295 14.1095 907.262 Q14.1095 908.512 14.4089 909.696 Q14.7084 910.881 15.3074 911.975 L13.0938 911.975 Q12.586 910.66 12.3386 909.423 Q12.0782 908.186 12.0782 907.014 Q12.0782 903.85 13.7188 902.288 Q15.3595 900.725 18.6928 900.725 Z\" fill=\"#000000\" fill-rule=\"evenodd\" fill-opacity=\"1\" /><path clip-path=\"url(#clip390)\" d=\"M 0 0 M12.4298 899.931 L12.4298 897.392 L24.6693 892.835 L12.4298 888.277 L12.4298 885.738 L27.013 891.207 L27.013 894.462 L12.4298 899.931 Z\" fill=\"#000000\" fill-rule=\"evenodd\" fill-opacity=\"1\" /><path clip-path=\"url(#clip390)\" d=\"M 0 0 M19.1225 870.751 L20.2943 870.751 L20.2943 881.767 Q22.7683 881.611 24.0703 880.283 Q25.3594 878.941 25.3594 876.559 Q25.3594 875.178 25.0209 873.889 Q24.6823 872.587 24.0052 871.311 L26.2709 871.311 Q26.8177 872.6 27.1042 873.954 Q27.3906 875.309 27.3906 876.702 Q27.3906 880.191 25.3594 882.236 Q23.3282 884.267 19.8646 884.267 Q16.2839 884.267 14.1876 882.34 Q12.0782 880.4 12.0782 877.119 Q12.0782 874.176 13.9793 872.47 Q15.8673 870.751 19.1225 870.751 M18.4193 873.147 Q16.4532 873.173 15.2813 874.254 Q14.1095 875.322 14.1095 877.092 Q14.1095 879.098 15.2423 880.309 Q16.3751 881.507 18.4324 881.689 L18.4193 873.147 Z\" fill=\"#000000\" fill-rule=\"evenodd\" fill-opacity=\"1\" /><path clip-path=\"url(#clip390)\" d=\"M 0 0 M14.6694 859.788 Q14.435 860.192 14.3308 860.673 Q14.2136 861.142 14.2136 861.715 Q14.2136 863.746 15.5417 864.84 Q16.8568 865.921 19.3308 865.921 L27.013 865.921 L27.013 868.329 L12.4298 868.329 L12.4298 865.921 L14.6954 865.921 Q13.3673 865.165 12.7293 863.955 Q12.0782 862.744 12.0782 861.012 Q12.0782 860.764 12.1173 860.465 Q12.1433 860.165 12.2084 859.801 L14.6694 859.788 Z\" fill=\"#000000\" fill-rule=\"evenodd\" fill-opacity=\"1\" /><path clip-path=\"url(#clip390)\" d=\"M 0 0 M19.6823 850.647 Q19.6823 853.551 20.3464 854.671 Q21.0105 855.79 22.612 855.79 Q23.8881 855.79 24.6433 854.957 Q25.3854 854.111 25.3854 852.666 Q25.3854 850.673 23.9792 849.475 Q22.5599 848.264 20.2162 848.264 L19.6823 848.264 L19.6823 850.647 M18.6928 845.869 L27.013 845.869 L27.013 848.264 L24.7995 848.264 Q26.1276 849.085 26.7656 850.309 Q27.3906 851.533 27.3906 853.304 Q27.3906 855.543 26.1406 856.871 Q24.8776 858.186 22.7683 858.186 Q20.3073 858.186 19.0574 856.546 Q17.8074 854.892 17.8074 851.624 L17.8074 848.264 L17.573 848.264 Q15.9193 848.264 15.0209 849.358 Q14.1095 850.439 14.1095 852.405 Q14.1095 853.655 14.4089 854.84 Q14.7084 856.025 15.3074 857.119 L13.0938 857.119 Q12.586 855.804 12.3386 854.567 Q12.0782 853.33 12.0782 852.158 Q12.0782 848.994 13.7188 847.431 Q15.3595 845.869 18.6928 845.869 Z\" fill=\"#000000\" fill-rule=\"evenodd\" fill-opacity=\"1\" /><path clip-path=\"url(#clip390)\" d=\"M 0 0 M19.5521 833.759 Q16.948 833.759 15.5157 834.84 Q14.0834 835.908 14.0834 837.848 Q14.0834 839.775 15.5157 840.856 Q16.948 841.923 19.5521 841.923 Q22.1433 841.923 23.5756 840.856 Q25.0078 839.775 25.0078 837.848 Q25.0078 835.908 23.5756 834.84 Q22.1433 833.759 19.5521 833.759 M25.2032 831.364 Q28.9271 831.364 30.737 833.017 Q32.5599 834.671 32.5599 838.082 Q32.5599 839.345 32.3646 840.465 Q32.1823 841.585 31.7917 842.64 L29.4609 842.64 Q30.0339 841.585 30.3073 840.556 Q30.5807 839.528 30.5807 838.46 Q30.5807 836.103 29.3438 834.931 Q28.1198 833.759 25.6328 833.759 L24.4479 833.759 Q25.737 834.502 26.375 835.66 Q27.013 836.819 27.013 838.434 Q27.013 841.116 24.9688 842.757 Q22.9245 844.397 19.5521 844.397 Q16.1667 844.397 14.1225 842.757 Q12.0782 841.116 12.0782 838.434 Q12.0782 836.819 12.7162 835.66 Q13.3543 834.502 14.6433 833.759 L12.4298 833.759 L12.4298 831.364 L25.2032 831.364 Z\" fill=\"#000000\" fill-rule=\"evenodd\" fill-opacity=\"1\" /><path clip-path=\"url(#clip390)\" d=\"M 0 0 M19.1225 816.377 L20.2943 816.377 L20.2943 827.392 Q22.7683 827.236 24.0703 825.908 Q25.3594 824.567 25.3594 822.184 Q25.3594 820.804 25.0209 819.515 Q24.6823 818.213 24.0052 816.937 L26.2709 816.937 Q26.8177 818.226 27.1042 819.58 Q27.3906 820.934 27.3906 822.327 Q27.3906 825.817 25.3594 827.861 Q23.3282 829.892 19.8646 829.892 Q16.2839 829.892 14.1876 827.965 Q12.0782 826.025 12.0782 822.744 Q12.0782 819.801 13.9793 818.095 Q15.8673 816.377 19.1225 816.377 M18.4193 818.772 Q16.4532 818.799 15.2813 819.879 Q14.1095 820.947 14.1095 822.718 Q14.1095 824.723 15.2423 825.934 Q16.3751 827.132 18.4324 827.314 L18.4193 818.772 Z\" fill=\"#000000\" fill-rule=\"evenodd\" fill-opacity=\"1\" /><path clip-path=\"url(#clip390)\" d=\"M 0 0 M8.28918 803.017 L12.4298 803.017 L12.4298 798.082 L14.2918 798.082 L14.2918 803.017 L22.2084 803.017 Q23.9922 803.017 24.5 802.536 Q25.0078 802.041 25.0078 800.543 L25.0078 798.082 L27.013 798.082 L27.013 800.543 Q27.013 803.317 25.9844 804.371 Q24.9427 805.426 22.2084 805.426 L14.2918 805.426 L14.2918 807.184 L12.4298 807.184 L12.4298 805.426 L8.28918 805.426 L8.28918 803.017 Z\" fill=\"#000000\" fill-rule=\"evenodd\" fill-opacity=\"1\" /><path clip-path=\"url(#clip390)\" d=\"M 0 0 M14.6694 787.119 Q14.435 787.523 14.3308 788.004 Q14.2136 788.473 14.2136 789.046 Q14.2136 791.077 15.5417 792.171 Q16.8568 793.252 19.3308 793.252 L27.013 793.252 L27.013 795.661 L12.4298 795.661 L12.4298 793.252 L14.6954 793.252 Q13.3673 792.497 12.7293 791.286 Q12.0782 790.075 12.0782 788.343 Q12.0782 788.096 12.1173 787.796 Q12.1433 787.497 12.2084 787.132 L14.6694 787.119 Z\" fill=\"#000000\" fill-rule=\"evenodd\" fill-opacity=\"1\" /><path clip-path=\"url(#clip390)\" d=\"M 0 0 M19.1225 772.718 L20.2943 772.718 L20.2943 783.734 Q22.7683 783.577 24.0703 782.249 Q25.3594 780.908 25.3594 778.525 Q25.3594 777.145 25.0209 775.856 Q24.6823 774.554 24.0052 773.278 L26.2709 773.278 Q26.8177 774.567 27.1042 775.921 Q27.3906 777.275 27.3906 778.669 Q27.3906 782.158 25.3594 784.202 Q23.3282 786.234 19.8646 786.234 Q16.2839 786.234 14.1876 784.307 Q12.0782 782.366 12.0782 779.085 Q12.0782 776.142 13.9793 774.437 Q15.8673 772.718 19.1225 772.718 M18.4193 775.114 Q16.4532 775.14 15.2813 776.221 Q14.1095 777.288 14.1095 779.059 Q14.1095 781.064 15.2423 782.275 Q16.3751 783.473 18.4324 783.655 L18.4193 775.114 Z\" fill=\"#000000\" fill-rule=\"evenodd\" fill-opacity=\"1\" /><path clip-path=\"url(#clip390)\" d=\"M 0 0 M19.6823 763.577 Q19.6823 766.481 20.3464 767.601 Q21.0105 768.721 22.612 768.721 Q23.8881 768.721 24.6433 767.887 Q25.3854 767.041 25.3854 765.596 Q25.3854 763.603 23.9792 762.406 Q22.5599 761.195 20.2162 761.195 L19.6823 761.195 L19.6823 763.577 M18.6928 758.799 L27.013 758.799 L27.013 761.195 L24.7995 761.195 Q26.1276 762.015 26.7656 763.239 Q27.3906 764.463 27.3906 766.234 Q27.3906 768.473 26.1406 769.801 Q24.8776 771.116 22.7683 771.116 Q20.3073 771.116 19.0574 769.476 Q17.8074 767.822 17.8074 764.554 L17.8074 761.195 L17.573 761.195 Q15.9193 761.195 15.0209 762.288 Q14.1095 763.369 14.1095 765.335 Q14.1095 766.585 14.4089 767.77 Q14.7084 768.955 15.3074 770.049 L13.0938 770.049 Q12.586 768.734 12.3386 767.497 Q12.0782 766.26 12.0782 765.088 Q12.0782 761.924 13.7188 760.361 Q15.3595 758.799 18.6928 758.799 Z\" fill=\"#000000\" fill-rule=\"evenodd\" fill-opacity=\"1\" /><path clip-path=\"url(#clip390)\" d=\"M 0 0 M8.28918 753.916 L12.4298 753.916 L12.4298 748.981 L14.2918 748.981 L14.2918 753.916 L22.2084 753.916 Q23.9922 753.916 24.5 753.434 Q25.0078 752.939 25.0078 751.442 L25.0078 748.981 L27.013 748.981 L27.013 751.442 Q27.013 754.216 25.9844 755.27 Q24.9427 756.325 22.2084 756.325 L14.2918 756.325 L14.2918 758.083 L12.4298 758.083 L12.4298 756.325 L8.28918 756.325 L8.28918 753.916 Z\" fill=\"#000000\" fill-rule=\"evenodd\" fill-opacity=\"1\" /><path clip-path=\"url(#clip390)\" d=\"M 0 0 M15.2292 735.114 Q13.6147 734.216 12.8464 732.966 Q12.0782 731.716 12.0782 730.023 Q12.0782 727.744 13.6798 726.507 Q15.2683 725.27 18.211 725.27 L27.013 725.27 L27.013 727.679 L18.2891 727.679 Q16.1928 727.679 15.1772 728.421 Q14.1615 729.164 14.1615 730.687 Q14.1615 732.549 15.3985 733.63 Q16.6355 734.71 18.7709 734.71 L27.013 734.71 L27.013 737.119 L18.2891 737.119 Q16.1798 737.119 15.1772 737.861 Q14.1615 738.604 14.1615 740.153 Q14.1615 741.989 15.4115 743.07 Q16.6485 744.15 18.7709 744.15 L27.013 744.15 L27.013 746.559 L12.4298 746.559 L12.4298 744.15 L14.6954 744.15 Q13.3543 743.33 12.7162 742.184 Q12.0782 741.039 12.0782 739.463 Q12.0782 737.874 12.8855 736.768 Q13.6928 735.648 15.2292 735.114 Z\" fill=\"#000000\" fill-rule=\"evenodd\" fill-opacity=\"1\" /><path clip-path=\"url(#clip390)\" d=\"M 0 0 M19.1225 710.283 L20.2943 710.283 L20.2943 721.299 Q22.7683 721.143 24.0703 719.815 Q25.3594 718.474 25.3594 716.091 Q25.3594 714.711 25.0209 713.421 Q24.6823 712.119 24.0052 710.843 L26.2709 710.843 Q26.8177 712.132 27.1042 713.487 Q27.3906 714.841 27.3906 716.234 Q27.3906 719.724 25.3594 721.768 Q23.3282 723.799 19.8646 723.799 Q16.2839 723.799 14.1876 721.872 Q12.0782 719.932 12.0782 716.651 Q12.0782 713.708 13.9793 712.002 Q15.8673 710.283 19.1225 710.283 M18.4193 712.679 Q16.4532 712.705 15.2813 713.786 Q14.1095 714.854 14.1095 716.625 Q14.1095 718.63 15.2423 719.841 Q16.3751 721.039 18.4324 721.221 L18.4193 712.679 Z\" fill=\"#000000\" fill-rule=\"evenodd\" fill-opacity=\"1\" /><path clip-path=\"url(#clip390)\" d=\"M 0 0 M18.211 695.648 L27.013 695.648 L27.013 698.044 L18.2891 698.044 Q16.2188 698.044 15.1902 698.851 Q14.1615 699.659 14.1615 701.273 Q14.1615 703.213 15.3985 704.333 Q16.6355 705.453 18.7709 705.453 L27.013 705.453 L27.013 707.862 L12.4298 707.862 L12.4298 705.453 L14.6954 705.453 Q13.3803 704.593 12.7293 703.435 Q12.0782 702.263 12.0782 700.739 Q12.0782 698.226 13.6407 696.937 Q15.1902 695.648 18.211 695.648 Z\" fill=\"#000000\" fill-rule=\"evenodd\" fill-opacity=\"1\" /><path clip-path=\"url(#clip390)\" d=\"M 0 0 M8.28918 690.765 L12.4298 690.765 L12.4298 685.83 L14.2918 685.83 L14.2918 690.765 L22.2084 690.765 Q23.9922 690.765 24.5 690.284 Q25.0078 689.789 25.0078 688.291 L25.0078 685.83 L27.013 685.83 L27.013 688.291 Q27.013 691.065 25.9844 692.119 Q24.9427 693.174 22.2084 693.174 L14.2918 693.174 L14.2918 694.932 L12.4298 694.932 L12.4298 693.174 L8.28918 693.174 L8.28918 690.765 Z\" fill=\"#000000\" fill-rule=\"evenodd\" fill-opacity=\"1\" /><path clip-path=\"url(#clip390)\" d=\"M 0 0 M19.1225 662.367 L20.2943 662.367 L20.2943 673.383 Q22.7683 673.226 24.0703 671.898 Q25.3594 670.557 25.3594 668.174 Q25.3594 666.794 25.0209 665.505 Q24.6823 664.203 24.0052 662.927 L26.2709 662.927 Q26.8177 664.216 27.1042 665.57 Q27.3906 666.924 27.3906 668.318 Q27.3906 671.807 25.3594 673.851 Q23.3282 675.883 19.8646 675.883 Q16.2839 675.883 14.1876 673.956 Q12.0782 672.015 12.0782 668.734 Q12.0782 665.792 13.9793 664.086 Q15.8673 662.367 19.1225 662.367 M18.4193 664.763 Q16.4532 664.789 15.2813 665.87 Q14.1095 666.937 14.1095 668.708 Q14.1095 670.713 15.2423 671.924 Q16.3751 673.122 18.4324 673.304 L18.4193 664.763 Z\" fill=\"#000000\" fill-rule=\"evenodd\" fill-opacity=\"1\" /><path clip-path=\"url(#clip390)\" d=\"M 0 0 M6.75273 652.471 L8.74491 652.471 L8.74491 654.763 Q8.74491 656.052 9.26574 656.56 Q9.78657 657.055 11.1407 657.055 L12.4298 657.055 L12.4298 653.109 L14.2918 653.109 L14.2918 657.055 L27.013 657.055 L27.013 659.463 L14.2918 659.463 L14.2918 661.755 L12.4298 661.755 L12.4298 659.463 L11.4142 659.463 Q8.97928 659.463 7.87252 658.331 Q6.75273 657.198 6.75273 654.737 L6.75273 652.471 Z\" fill=\"#000000\" fill-rule=\"evenodd\" fill-opacity=\"1\" /><path clip-path=\"url(#clip390)\" d=\"M 0 0 M6.75273 642.575 L8.74491 642.575 L8.74491 644.867 Q8.74491 646.156 9.26574 646.664 Q9.78657 647.159 11.1407 647.159 L12.4298 647.159 L12.4298 643.214 L14.2918 643.214 L14.2918 647.159 L27.013 647.159 L27.013 649.568 L14.2918 649.568 L14.2918 651.859 L12.4298 651.859 L12.4298 649.568 L11.4142 649.568 Q8.97928 649.568 7.87252 648.435 Q6.75273 647.302 6.75273 644.841 L6.75273 642.575 Z\" fill=\"#000000\" fill-rule=\"evenodd\" fill-opacity=\"1\" /><path clip-path=\"url(#clip390)\" d=\"M 0 0 M19.1225 627.589 L20.2943 627.589 L20.2943 638.604 Q22.7683 638.448 24.0703 637.12 Q25.3594 635.779 25.3594 633.396 Q25.3594 632.016 25.0209 630.727 Q24.6823 629.425 24.0052 628.148 L26.2709 628.148 Q26.8177 629.438 27.1042 630.792 Q27.3906 632.146 27.3906 633.539 Q27.3906 637.029 25.3594 639.073 Q23.3282 641.104 19.8646 641.104 Q16.2839 641.104 14.1876 639.177 Q12.0782 637.237 12.0782 633.956 Q12.0782 631.013 13.9793 629.307 Q15.8673 627.589 19.1225 627.589 M18.4193 629.984 Q16.4532 630.01 15.2813 631.091 Q14.1095 632.159 14.1095 633.93 Q14.1095 635.935 15.2423 637.146 Q16.3751 638.344 18.4324 638.526 L18.4193 629.984 Z\" fill=\"#000000\" fill-rule=\"evenodd\" fill-opacity=\"1\" /><path clip-path=\"url(#clip390)\" d=\"M 0 0 M12.9897 614.581 L15.2292 614.581 Q14.6694 615.596 14.3959 616.625 Q14.1095 617.641 14.1095 618.682 Q14.1095 621.013 15.5938 622.302 Q17.0652 623.591 19.7344 623.591 Q22.4037 623.591 23.8881 622.302 Q25.3594 621.013 25.3594 618.682 Q25.3594 617.641 25.086 616.625 Q24.7995 615.596 24.2396 614.581 L26.4531 614.581 Q26.9219 615.583 27.1563 616.664 Q27.3906 617.732 27.3906 618.943 Q27.3906 622.237 25.3203 624.177 Q23.25 626.117 19.7344 626.117 Q16.1667 626.117 14.1225 624.164 Q12.0782 622.198 12.0782 618.787 Q12.0782 617.68 12.3126 616.625 Q12.534 615.57 12.9897 614.581 Z\" fill=\"#000000\" fill-rule=\"evenodd\" fill-opacity=\"1\" /><path clip-path=\"url(#clip390)\" d=\"M 0 0 M8.28918 609.698 L12.4298 609.698 L12.4298 604.763 L14.2918 604.763 L14.2918 609.698 L22.2084 609.698 Q23.9922 609.698 24.5 609.216 Q25.0078 608.722 25.0078 607.224 L25.0078 604.763 L27.013 604.763 L27.013 607.224 Q27.013 609.998 25.9844 611.052 Q24.9427 612.107 22.2084 612.107 L14.2918 612.107 L14.2918 613.865 L12.4298 613.865 L12.4298 612.107 L8.28918 612.107 L8.28918 609.698 Z\" fill=\"#000000\" fill-rule=\"evenodd\" fill-opacity=\"1\" /><polyline clip-path=\"url(#clip392)\" style=\"stroke:#000000; stroke-width:1; stroke-opacity:1; fill:none\" points=\"\n",
       "  1364.79,1076.6 1364.79,814.576 \n",
       "  \"/>\n",
       "<polyline clip-path=\"url(#clip392)\" style=\"stroke:#000000; stroke-width:1; stroke-opacity:1; fill:none\" points=\"\n",
       "  153.975,1438.05 153.975,1178.15 \n",
       "  \"/>\n",
       "<line clip-path=\"url(#clip392)\" x1=\"1368.79\" y1=\"1076.6\" x2=\"1360.79\" y2=\"1076.6\" style=\"stroke:#000000; stroke-width:3.2; stroke-opacity:1\"/>\n",
       "<line clip-path=\"url(#clip392)\" x1=\"1368.79\" y1=\"814.576\" x2=\"1360.79\" y2=\"814.576\" style=\"stroke:#000000; stroke-width:3.2; stroke-opacity:1\"/>\n",
       "<line clip-path=\"url(#clip392)\" x1=\"157.975\" y1=\"1438.05\" x2=\"149.975\" y2=\"1438.05\" style=\"stroke:#000000; stroke-width:3.2; stroke-opacity:1\"/>\n",
       "<line clip-path=\"url(#clip392)\" x1=\"157.975\" y1=\"1178.15\" x2=\"149.975\" y2=\"1178.15\" style=\"stroke:#000000; stroke-width:3.2; stroke-opacity:1\"/>\n",
       "<circle clip-path=\"url(#clip392)\" cx=\"1364.79\" cy=\"945.59\" r=\"3\" fill=\"#009af9\" fill-rule=\"evenodd\" fill-opacity=\"1\" stroke=\"#000000\" stroke-opacity=\"1\" stroke-width=\"3.2\"/>\n",
       "<circle clip-path=\"url(#clip392)\" cx=\"153.975\" cy=\"1308.1\" r=\"3\" fill=\"#009af9\" fill-rule=\"evenodd\" fill-opacity=\"1\" stroke=\"#000000\" stroke-opacity=\"1\" stroke-width=\"3.2\"/>\n",
       "<polyline clip-path=\"url(#clip392)\" style=\"stroke:#000000; stroke-width:1; stroke-opacity:1; fill:none\" points=\"\n",
       "  1546.42,862.277 1546.42,663.325 \n",
       "  \"/>\n",
       "<polyline clip-path=\"url(#clip392)\" style=\"stroke:#000000; stroke-width:1; stroke-opacity:1; fill:none\" points=\"\n",
       "  335.598,1258.38 335.598,1062.27 \n",
       "  \"/>\n",
       "<line clip-path=\"url(#clip392)\" x1=\"1550.42\" y1=\"862.277\" x2=\"1542.42\" y2=\"862.277\" style=\"stroke:#000000; stroke-width:3.2; stroke-opacity:1\"/>\n",
       "<line clip-path=\"url(#clip392)\" x1=\"1550.42\" y1=\"663.325\" x2=\"1542.42\" y2=\"663.325\" style=\"stroke:#000000; stroke-width:3.2; stroke-opacity:1\"/>\n",
       "<line clip-path=\"url(#clip392)\" x1=\"339.598\" y1=\"1258.38\" x2=\"331.598\" y2=\"1258.38\" style=\"stroke:#000000; stroke-width:3.2; stroke-opacity:1\"/>\n",
       "<line clip-path=\"url(#clip392)\" x1=\"339.598\" y1=\"1062.27\" x2=\"331.598\" y2=\"1062.27\" style=\"stroke:#000000; stroke-width:3.2; stroke-opacity:1\"/>\n",
       "<circle clip-path=\"url(#clip392)\" cx=\"1546.42\" cy=\"762.801\" r=\"3\" fill=\"#e26f46\" fill-rule=\"evenodd\" fill-opacity=\"1\" stroke=\"#000000\" stroke-opacity=\"1\" stroke-width=\"3.2\"/>\n",
       "<circle clip-path=\"url(#clip392)\" cx=\"335.598\" cy=\"1160.33\" r=\"3\" fill=\"#e26f46\" fill-rule=\"evenodd\" fill-opacity=\"1\" stroke=\"#000000\" stroke-opacity=\"1\" stroke-width=\"3.2\"/>\n",
       "<polyline clip-path=\"url(#clip392)\" style=\"stroke:#000000; stroke-width:2; stroke-opacity:1; fill:none\" stroke-dasharray=\"8, 5\" points=\"\n",
       "  -1363.79,82.9626 3064.18,82.9626 \n",
       "  \"/>\n",
       "<path clip-path=\"url(#clip390)\" d=\"M 0 0 M248.493 255.297 L245.718 262.822 L251.278 262.822 L248.493 255.297 M247.338 253.282 L249.657 253.282 L255.42 268.402 L253.293 268.402 L251.916 264.523 L245.1 264.523 L243.723 268.402 L241.566 268.402 L247.338 253.282 Z\" fill=\"#000000\" fill-rule=\"evenodd\" fill-opacity=\"1\" /><path clip-path=\"url(#clip390)\" d=\"M 0 0 M264.605 257.393 L264.605 259.155 Q263.815 258.75 262.965 258.548 Q262.114 258.345 261.203 258.345 Q259.815 258.345 259.116 258.771 Q258.428 259.196 258.428 260.047 Q258.428 260.695 258.924 261.07 Q259.42 261.434 260.919 261.768 L261.557 261.91 Q263.542 262.335 264.372 263.115 Q265.213 263.885 265.213 265.272 Q265.213 266.852 263.957 267.774 Q262.711 268.695 260.524 268.695 Q259.613 268.695 258.62 268.513 Q257.638 268.341 256.544 267.986 L256.544 266.062 Q257.577 266.599 258.58 266.872 Q259.582 267.136 260.564 267.136 Q261.881 267.136 262.59 266.69 Q263.299 266.234 263.299 265.414 Q263.299 264.655 262.782 264.25 Q262.276 263.844 260.544 263.47 L259.896 263.318 Q258.164 262.953 257.395 262.204 Q256.625 261.444 256.625 260.128 Q256.625 258.528 257.759 257.657 Q258.894 256.786 260.98 256.786 Q262.013 256.786 262.924 256.938 Q263.836 257.09 264.605 257.393 Z\" fill=\"#000000\" fill-rule=\"evenodd\" fill-opacity=\"1\" /><path clip-path=\"url(#clip390)\" d=\"M 0 0 M274.398 257.393 L274.398 259.155 Q273.608 258.75 272.758 258.548 Q271.907 258.345 270.996 258.345 Q269.608 258.345 268.909 258.771 Q268.221 259.196 268.221 260.047 Q268.221 260.695 268.717 261.07 Q269.213 261.434 270.712 261.768 L271.35 261.91 Q273.335 262.335 274.165 263.115 Q275.006 263.885 275.006 265.272 Q275.006 266.852 273.75 267.774 Q272.505 268.695 270.317 268.695 Q269.406 268.695 268.413 268.513 Q267.431 268.341 266.337 267.986 L266.337 266.062 Q267.37 266.599 268.373 266.872 Q269.375 267.136 270.358 267.136 Q271.674 267.136 272.383 266.69 Q273.092 266.234 273.092 265.414 Q273.092 264.655 272.575 264.25 Q272.069 263.844 270.337 263.47 L269.689 263.318 Q267.957 262.953 267.188 262.204 Q266.418 261.444 266.418 260.128 Q266.418 258.528 267.552 257.657 Q268.687 256.786 270.773 256.786 Q271.806 256.786 272.717 256.938 Q273.629 257.09 274.398 257.393 Z\" fill=\"#000000\" fill-rule=\"evenodd\" fill-opacity=\"1\" /><path clip-path=\"url(#clip390)\" d=\"M 0 0 M282.115 262.7 Q279.857 262.7 278.986 263.217 Q278.115 263.733 278.115 264.979 Q278.115 265.971 278.763 266.559 Q279.421 267.136 280.546 267.136 Q282.095 267.136 283.027 266.042 Q283.969 264.938 283.969 263.115 L283.969 262.7 L282.115 262.7 M285.832 261.93 L285.832 268.402 L283.969 268.402 L283.969 266.68 Q283.331 267.713 282.379 268.209 Q281.427 268.695 280.049 268.695 Q278.307 268.695 277.274 267.723 Q276.252 266.741 276.252 265.1 Q276.252 263.186 277.528 262.214 Q278.814 261.242 281.356 261.242 L283.969 261.242 L283.969 261.059 Q283.969 259.773 283.118 259.074 Q282.277 258.366 280.748 258.366 Q279.776 258.366 278.854 258.598 Q277.933 258.831 277.082 259.297 L277.082 257.576 Q278.105 257.181 279.067 256.988 Q280.029 256.786 280.941 256.786 Q283.401 256.786 284.617 258.062 Q285.832 259.338 285.832 261.93 Z\" fill=\"#000000\" fill-rule=\"evenodd\" fill-opacity=\"1\" /><path clip-path=\"url(#clip390)\" d=\"M 0 0 M287.594 263.925 L287.594 257.059 L289.458 257.059 L289.458 263.855 Q289.458 265.465 290.085 266.275 Q290.713 267.075 291.969 267.075 Q293.478 267.075 294.349 266.113 Q295.23 265.151 295.23 263.49 L295.23 257.059 L297.094 257.059 L297.094 268.402 L295.23 268.402 L295.23 266.66 Q294.552 267.693 293.65 268.199 Q292.759 268.695 291.574 268.695 Q289.62 268.695 288.607 267.48 Q287.594 266.265 287.594 263.925 M292.283 256.786 L292.283 256.786 Z\" fill=\"#000000\" fill-rule=\"evenodd\" fill-opacity=\"1\" /><path clip-path=\"url(#clip390)\" d=\"M 0 0 M299.048 252.644 L300.912 252.644 L300.912 268.402 L299.048 268.402 L299.048 252.644 Z\" fill=\"#000000\" fill-rule=\"evenodd\" fill-opacity=\"1\" /><path clip-path=\"url(#clip390)\" d=\"M 0 0 M304.709 253.839 L304.709 257.059 L308.547 257.059 L308.547 258.507 L304.709 258.507 L304.709 264.665 Q304.709 266.052 305.084 266.447 Q305.469 266.842 306.633 266.842 L308.547 266.842 L308.547 268.402 L306.633 268.402 Q304.476 268.402 303.656 267.602 Q302.836 266.791 302.836 264.665 L302.836 258.507 L301.469 258.507 L301.469 257.059 L302.836 257.059 L302.836 253.839 L304.709 253.839 Z\" fill=\"#000000\" fill-rule=\"evenodd\" fill-opacity=\"1\" /><path clip-path=\"url(#clip390)\" d=\"M 0 0 M1464.3 253.282 L1466.34 253.282 L1466.34 267.348 Q1466.34 270.083 1465.3 271.318 Q1464.27 272.554 1461.97 272.554 L1461.19 272.554 L1461.19 270.832 L1461.83 270.832 Q1463.18 270.832 1463.74 270.073 Q1464.3 269.313 1464.3 267.348 L1464.3 253.282 Z\" fill=\"#000000\" fill-rule=\"evenodd\" fill-opacity=\"1\" /><path clip-path=\"url(#clip390)\" d=\"M 0 0 M1472.69 258.366 Q1471.2 258.366 1470.32 259.54 Q1469.45 260.705 1469.45 262.741 Q1469.45 264.776 1470.31 265.951 Q1471.19 267.116 1472.69 267.116 Q1474.18 267.116 1475.05 265.941 Q1475.92 264.766 1475.92 262.741 Q1475.92 260.725 1475.05 259.55 Q1474.18 258.366 1472.69 258.366 M1472.69 256.786 Q1475.12 256.786 1476.51 258.366 Q1477.9 259.945 1477.9 262.741 Q1477.9 265.526 1476.51 267.116 Q1475.12 268.695 1472.69 268.695 Q1470.25 268.695 1468.87 267.116 Q1467.49 265.526 1467.49 262.741 Q1467.49 259.945 1468.87 258.366 Q1470.25 256.786 1472.69 256.786 Z\" fill=\"#000000\" fill-rule=\"evenodd\" fill-opacity=\"1\" /><path clip-path=\"url(#clip390)\" d=\"M 0 0 M1479.78 252.644 L1481.66 252.644 L1481.66 261.951 L1487.22 257.059 L1489.6 257.059 L1483.58 262.366 L1489.85 268.402 L1487.42 268.402 L1481.66 262.862 L1481.66 268.402 L1479.78 268.402 L1479.78 252.644 Z\" fill=\"#000000\" fill-rule=\"evenodd\" fill-opacity=\"1\" /><path clip-path=\"url(#clip390)\" d=\"M 0 0 M1500.77 262.265 L1500.77 263.176 L1492.2 263.176 Q1492.32 265.1 1493.35 266.113 Q1494.4 267.116 1496.25 267.116 Q1497.32 267.116 1498.33 266.852 Q1499.34 266.589 1500.33 266.062 L1500.33 267.824 Q1499.33 268.25 1498.28 268.473 Q1497.22 268.695 1496.14 268.695 Q1493.42 268.695 1491.83 267.116 Q1490.25 265.536 1490.25 262.842 Q1490.25 260.057 1491.75 258.426 Q1493.26 256.786 1495.81 256.786 Q1498.1 256.786 1499.43 258.264 Q1500.77 259.733 1500.77 262.265 M1498.9 261.718 Q1498.88 260.188 1498.04 259.277 Q1497.21 258.366 1495.83 258.366 Q1494.28 258.366 1493.33 259.247 Q1492.4 260.128 1492.26 261.728 L1498.9 261.718 Z\" fill=\"#000000\" fill-rule=\"evenodd\" fill-opacity=\"1\" /><path clip-path=\"url(#clip390)\" d=\"M 0 0 M1509.95 257.393 L1509.95 259.155 Q1509.16 258.75 1508.31 258.548 Q1507.46 258.345 1506.55 258.345 Q1505.16 258.345 1504.46 258.771 Q1503.77 259.196 1503.77 260.047 Q1503.77 260.695 1504.27 261.07 Q1504.77 261.434 1506.27 261.768 L1506.9 261.91 Q1508.89 262.335 1509.72 263.115 Q1510.56 263.885 1510.56 265.272 Q1510.56 266.852 1509.3 267.774 Q1508.06 268.695 1505.87 268.695 Q1504.96 268.695 1503.97 268.513 Q1502.98 268.341 1501.89 267.986 L1501.89 266.062 Q1502.92 266.599 1503.93 266.872 Q1504.93 267.136 1505.91 267.136 Q1507.23 267.136 1507.94 266.69 Q1508.65 266.234 1508.65 265.414 Q1508.65 264.655 1508.13 264.25 Q1507.62 263.844 1505.89 263.47 L1505.24 263.318 Q1503.51 262.953 1502.74 262.204 Q1501.97 261.444 1501.97 260.128 Q1501.97 258.528 1503.11 257.657 Q1504.24 256.786 1506.33 256.786 Q1507.36 256.786 1508.27 256.938 Q1509.18 257.09 1509.95 257.393 Z\" fill=\"#000000\" fill-rule=\"evenodd\" fill-opacity=\"1\" /></svg>\n"
      ]
     },
     "execution_count": 77,
     "metadata": {},
     "output_type": "execute_result"
    }
   ],
   "source": [
    "# use int from package MLJBase\n",
    "plot(int(CategoricalArray(coefdf.name), type=Int), coefdf.coef1, seriestype = :scatter, yerror=1.96*coefdf.err1,\n",
    "    xtickfontsize=18,\n",
    "    ytickfontsize=18,\n",
    "    #xshowaxis=false,\n",
    "    xlabel=\"condition (Jokes, Assault)\",\n",
    "    xguidefontsize=18,\n",
    "    ylim = (-40,2),\n",
    "    ylabel=\"average treatment effect\",\n",
    "    yguidefontsize=18,\n",
    "    legendfontsize=18,\n",
    "    size=(1600,1600),\n",
    "        legend=false\n",
    "       )\n",
    "plot!(int(CategoricalArray(coefdf.name), type=Int).+.15, coefdf.coef2, seriestype = :scatter, yerror=1.96*coefdf.err2, lw=3\n",
    "       )\n",
    "hline!([0], seriestype = \"hline\", lw=2, ls=:dash, lc=\"black\")\n",
    "annotate!(1.1, -5, \"Assault\", :black)\n",
    "annotate!(2.1, -5, \"Jokes\", :black)"
   ]
  },
  {
   "cell_type": "code",
   "execution_count": 78,
   "metadata": {},
   "outputs": [
    {
     "data": {
      "image/svg+xml": [
       "<?xml version=\"1.0\" encoding=\"utf-8\"?>\n",
       "<svg xmlns=\"http://www.w3.org/2000/svg\" xmlns:xlink=\"http://www.w3.org/1999/xlink\" width=\"400\" height=\"400\" viewBox=\"0 0 1600 1600\">\n",
       "<defs>\n",
       "  <clipPath id=\"clip430\">\n",
       "    <rect x=\"0\" y=\"0\" width=\"1600\" height=\"1600\"/>\n",
       "  </clipPath>\n",
       "</defs>\n",
       "<path clip-path=\"url(#clip430)\" d=\"\n",
       "M0 1600 L1600 1600 L1600 0 L0 0  Z\n",
       "  \" fill=\"#ffffff\" fill-rule=\"evenodd\" fill-opacity=\"1\"/>\n",
       "<defs>\n",
       "  <clipPath id=\"clip431\">\n",
       "    <rect x=\"320\" y=\"160\" width=\"1121\" height=\"1121\"/>\n",
       "  </clipPath>\n",
       "</defs>\n",
       "<path clip-path=\"url(#clip430)\" d=\"\n",
       "M74.9864 1505.99 L1588.19 1505.99 L1588.19 11.811 L74.9864 11.811  Z\n",
       "  \" fill=\"#ffffff\" fill-rule=\"evenodd\" fill-opacity=\"1\"/>\n",
       "<defs>\n",
       "  <clipPath id=\"clip432\">\n",
       "    <rect x=\"74\" y=\"11\" width=\"1514\" height=\"1495\"/>\n",
       "  </clipPath>\n",
       "</defs>\n",
       "<polyline clip-path=\"url(#clip432)\" style=\"stroke:#000000; stroke-width:0.5; stroke-opacity:0.1; fill:none\" points=\"\n",
       "  74.9864,1505.99 74.9864,11.811 \n",
       "  \"/>\n",
       "<polyline clip-path=\"url(#clip432)\" style=\"stroke:#000000; stroke-width:0.5; stroke-opacity:0.1; fill:none\" points=\"\n",
       "  435.273,1505.99 435.273,11.811 \n",
       "  \"/>\n",
       "<polyline clip-path=\"url(#clip432)\" style=\"stroke:#000000; stroke-width:0.5; stroke-opacity:0.1; fill:none\" points=\"\n",
       "  795.559,1505.99 795.559,11.811 \n",
       "  \"/>\n",
       "<polyline clip-path=\"url(#clip432)\" style=\"stroke:#000000; stroke-width:0.5; stroke-opacity:0.1; fill:none\" points=\"\n",
       "  1155.85,1505.99 1155.85,11.811 \n",
       "  \"/>\n",
       "<polyline clip-path=\"url(#clip432)\" style=\"stroke:#000000; stroke-width:0.5; stroke-opacity:0.1; fill:none\" points=\"\n",
       "  1516.13,1505.99 1516.13,11.811 \n",
       "  \"/>\n",
       "<polyline clip-path=\"url(#clip430)\" style=\"stroke:#000000; stroke-width:1; stroke-opacity:1; fill:none\" points=\"\n",
       "  74.9864,1505.99 1588.19,1505.99 \n",
       "  \"/>\n",
       "<polyline clip-path=\"url(#clip430)\" style=\"stroke:#000000; stroke-width:1; stroke-opacity:1; fill:none\" points=\"\n",
       "  74.9864,1505.99 74.9864,1488.06 \n",
       "  \"/>\n",
       "<polyline clip-path=\"url(#clip430)\" style=\"stroke:#000000; stroke-width:1; stroke-opacity:1; fill:none\" points=\"\n",
       "  435.273,1505.99 435.273,1488.06 \n",
       "  \"/>\n",
       "<polyline clip-path=\"url(#clip430)\" style=\"stroke:#000000; stroke-width:1; stroke-opacity:1; fill:none\" points=\"\n",
       "  795.559,1505.99 795.559,1488.06 \n",
       "  \"/>\n",
       "<polyline clip-path=\"url(#clip430)\" style=\"stroke:#000000; stroke-width:1; stroke-opacity:1; fill:none\" points=\"\n",
       "  1155.85,1505.99 1155.85,1488.06 \n",
       "  \"/>\n",
       "<polyline clip-path=\"url(#clip430)\" style=\"stroke:#000000; stroke-width:1; stroke-opacity:1; fill:none\" points=\"\n",
       "  1516.13,1505.99 1516.13,1488.06 \n",
       "  \"/>\n",
       "<path clip-path=\"url(#clip430)\" d=\"M 0 0 M51.3081 1532.66 L68.0008 1532.66 L68.0008 1534.87 L51.3081 1534.87 L51.3081 1532.66 Z\" fill=\"#000000\" fill-rule=\"evenodd\" fill-opacity=\"1\" /><path clip-path=\"url(#clip430)\" d=\"M 0 0 M78.0788 1524.97 L71.4382 1535.35 L78.0788 1535.35 L78.0788 1524.97 M77.3887 1522.68 L80.696 1522.68 L80.696 1535.35 L83.4694 1535.35 L83.4694 1537.54 L80.696 1537.54 L80.696 1542.12 L78.0788 1542.12 L78.0788 1537.54 L69.3028 1537.54 L69.3028 1535 L77.3887 1522.68 Z\" fill=\"#000000\" fill-rule=\"evenodd\" fill-opacity=\"1\" /><path clip-path=\"url(#clip430)\" d=\"M 0 0 M91.946 1524.41 Q89.9147 1524.41 88.8861 1526.42 Q87.8705 1528.41 87.8705 1532.42 Q87.8705 1536.42 88.8861 1538.43 Q89.9147 1540.42 91.946 1540.42 Q93.9902 1540.42 95.0058 1538.43 Q96.0345 1536.42 96.0345 1532.42 Q96.0345 1528.41 95.0058 1526.42 Q93.9902 1524.41 91.946 1524.41 M91.946 1522.33 Q95.2142 1522.33 96.9329 1524.92 Q98.6647 1527.5 98.6647 1532.42 Q98.6647 1537.33 96.9329 1539.92 Q95.2142 1542.5 91.946 1542.5 Q88.6777 1542.5 86.946 1539.92 Q85.2272 1537.33 85.2272 1532.42 Q85.2272 1527.5 86.946 1524.92 Q88.6777 1522.33 91.946 1522.33 Z\" fill=\"#000000\" fill-rule=\"evenodd\" fill-opacity=\"1\" /><path clip-path=\"url(#clip430)\" d=\"M 0 0 M411.913 1532.66 L428.606 1532.66 L428.606 1534.87 L411.913 1534.87 L411.913 1532.66 Z\" fill=\"#000000\" fill-rule=\"evenodd\" fill-opacity=\"1\" /><path clip-path=\"url(#clip430)\" d=\"M 0 0 M439.426 1531.64 Q441.314 1532.04 442.369 1533.32 Q443.437 1534.6 443.437 1536.47 Q443.437 1539.35 441.458 1540.93 Q439.478 1542.5 435.833 1542.5 Q434.609 1542.5 433.307 1542.25 Q432.018 1542.02 430.637 1541.54 L430.637 1539 Q431.731 1539.64 433.033 1539.96 Q434.335 1540.29 435.755 1540.29 Q438.228 1540.29 439.518 1539.31 Q440.82 1538.33 440.82 1536.47 Q440.82 1534.75 439.609 1533.79 Q438.411 1532.81 436.262 1532.81 L433.997 1532.81 L433.997 1530.65 L436.366 1530.65 Q438.307 1530.65 439.335 1529.88 Q440.364 1529.1 440.364 1527.64 Q440.364 1526.15 439.296 1525.35 Q438.241 1524.54 436.262 1524.54 Q435.182 1524.54 433.945 1524.78 Q432.708 1525.01 431.223 1525.51 L431.223 1523.16 Q432.721 1522.75 434.023 1522.54 Q435.338 1522.33 436.497 1522.33 Q439.491 1522.33 441.236 1523.7 Q442.981 1525.05 442.981 1527.37 Q442.981 1528.99 442.057 1530.1 Q441.132 1531.21 439.426 1531.64 Z\" fill=\"#000000\" fill-rule=\"evenodd\" fill-opacity=\"1\" /><path clip-path=\"url(#clip430)\" d=\"M 0 0 M451.913 1524.41 Q449.882 1524.41 448.853 1526.42 Q447.838 1528.41 447.838 1532.42 Q447.838 1536.42 448.853 1538.43 Q449.882 1540.42 451.913 1540.42 Q453.958 1540.42 454.973 1538.43 Q456.002 1536.42 456.002 1532.42 Q456.002 1528.41 454.973 1526.42 Q453.958 1524.41 451.913 1524.41 M451.913 1522.33 Q455.181 1522.33 456.9 1524.92 Q458.632 1527.5 458.632 1532.42 Q458.632 1537.33 456.9 1539.92 Q455.181 1542.5 451.913 1542.5 Q448.645 1542.5 446.913 1539.92 Q445.195 1537.33 445.195 1532.42 Q445.195 1527.5 446.913 1524.92 Q448.645 1522.33 451.913 1522.33 Z\" fill=\"#000000\" fill-rule=\"evenodd\" fill-opacity=\"1\" /><path clip-path=\"url(#clip430)\" d=\"M 0 0 M772.467 1532.66 L789.159 1532.66 L789.159 1534.87 L772.467 1534.87 L772.467 1532.66 Z\" fill=\"#000000\" fill-rule=\"evenodd\" fill-opacity=\"1\" /><path clip-path=\"url(#clip430)\" d=\"M 0 0 M794.277 1539.91 L803.456 1539.91 L803.456 1542.12 L791.112 1542.12 L791.112 1539.91 Q792.61 1538.36 795.188 1535.76 Q797.779 1533.14 798.443 1532.38 Q799.706 1530.96 800.201 1529.99 Q800.709 1529 800.709 1528.05 Q800.709 1526.5 799.615 1525.52 Q798.534 1524.54 796.79 1524.54 Q795.553 1524.54 794.172 1524.97 Q792.805 1525.4 791.243 1526.28 L791.243 1523.62 Q792.831 1522.98 794.211 1522.66 Q795.592 1522.33 796.737 1522.33 Q799.758 1522.33 801.555 1523.84 Q803.352 1525.35 803.352 1527.88 Q803.352 1529.08 802.896 1530.16 Q802.454 1531.22 801.269 1532.68 Q800.943 1533.06 799.198 1534.87 Q797.454 1536.67 794.277 1539.91 Z\" fill=\"#000000\" fill-rule=\"evenodd\" fill-opacity=\"1\" /><path clip-path=\"url(#clip430)\" d=\"M 0 0 M811.933 1524.41 Q809.901 1524.41 808.873 1526.42 Q807.857 1528.41 807.857 1532.42 Q807.857 1536.42 808.873 1538.43 Q809.901 1540.42 811.933 1540.42 Q813.977 1540.42 814.993 1538.43 Q816.021 1536.42 816.021 1532.42 Q816.021 1528.41 814.993 1526.42 Q813.977 1524.41 811.933 1524.41 M811.933 1522.33 Q815.201 1522.33 816.92 1524.92 Q818.651 1527.5 818.651 1532.42 Q818.651 1537.33 816.92 1539.92 Q815.201 1542.5 811.933 1542.5 Q808.664 1542.5 806.933 1539.92 Q805.214 1537.33 805.214 1532.42 Q805.214 1527.5 806.933 1524.92 Q808.664 1522.33 811.933 1522.33 Z\" fill=\"#000000\" fill-rule=\"evenodd\" fill-opacity=\"1\" /><path clip-path=\"url(#clip430)\" d=\"M 0 0 M1132.65 1532.66 L1149.34 1532.66 L1149.34 1534.87 L1132.65 1534.87 L1132.65 1532.66 Z\" fill=\"#000000\" fill-rule=\"evenodd\" fill-opacity=\"1\" /><path clip-path=\"url(#clip430)\" d=\"M 0 0 M1152.65 1539.91 L1156.95 1539.91 L1156.95 1525.08 L1152.27 1526.02 L1152.27 1523.62 L1156.92 1522.68 L1159.55 1522.68 L1159.55 1539.91 L1163.85 1539.91 L1163.85 1542.12 L1152.65 1542.12 L1152.65 1539.91 Z\" fill=\"#000000\" fill-rule=\"evenodd\" fill-opacity=\"1\" /><path clip-path=\"url(#clip430)\" d=\"M 0 0 M1172.32 1524.41 Q1170.29 1524.41 1169.26 1526.42 Q1168.25 1528.41 1168.25 1532.42 Q1168.25 1536.42 1169.26 1538.43 Q1170.29 1540.42 1172.32 1540.42 Q1174.37 1540.42 1175.38 1538.43 Q1176.41 1536.42 1176.41 1532.42 Q1176.41 1528.41 1175.38 1526.42 Q1174.37 1524.41 1172.32 1524.41 M1172.32 1522.33 Q1175.59 1522.33 1177.31 1524.92 Q1179.04 1527.5 1179.04 1532.42 Q1179.04 1537.33 1177.31 1539.92 Q1175.59 1542.5 1172.32 1542.5 Q1169.05 1542.5 1167.32 1539.92 Q1165.6 1537.33 1165.6 1532.42 Q1165.6 1527.5 1167.32 1524.92 Q1169.05 1522.33 1172.32 1522.33 Z\" fill=\"#000000\" fill-rule=\"evenodd\" fill-opacity=\"1\" /><path clip-path=\"url(#clip430)\" d=\"M 0 0 M1516.13 1524.41 Q1514.1 1524.41 1513.07 1526.42 Q1512.06 1528.41 1512.06 1532.42 Q1512.06 1536.42 1513.07 1538.43 Q1514.1 1540.42 1516.13 1540.42 Q1518.18 1540.42 1519.19 1538.43 Q1520.22 1536.42 1520.22 1532.42 Q1520.22 1528.41 1519.19 1526.42 Q1518.18 1524.41 1516.13 1524.41 M1516.13 1522.33 Q1519.4 1522.33 1521.12 1524.92 Q1522.85 1527.5 1522.85 1532.42 Q1522.85 1537.33 1521.12 1539.92 Q1519.4 1542.5 1516.13 1542.5 Q1512.86 1542.5 1511.13 1539.92 Q1509.41 1537.33 1509.41 1532.42 Q1509.41 1527.5 1511.13 1524.92 Q1512.86 1522.33 1516.13 1522.33 Z\" fill=\"#000000\" fill-rule=\"evenodd\" fill-opacity=\"1\" /><path clip-path=\"url(#clip430)\" d=\"M 0 0 M684.987 1567.15 Q682.083 1567.15 680.963 1567.82 Q679.844 1568.48 679.844 1570.08 Q679.844 1571.36 680.677 1572.11 Q681.523 1572.86 682.969 1572.86 Q684.961 1572.86 686.159 1571.45 Q687.37 1570.03 687.37 1567.69 L687.37 1567.15 L684.987 1567.15 M689.766 1566.16 L689.766 1574.48 L687.37 1574.48 L687.37 1572.27 Q686.549 1573.6 685.325 1574.24 Q684.102 1574.86 682.331 1574.86 Q680.091 1574.86 678.763 1573.61 Q677.448 1572.35 677.448 1570.24 Q677.448 1567.78 679.089 1566.53 Q680.742 1565.28 684.01 1565.28 L687.37 1565.28 L687.37 1565.04 Q687.37 1563.39 686.276 1562.49 Q685.195 1561.58 683.229 1561.58 Q681.979 1561.58 680.794 1561.88 Q679.609 1562.18 678.516 1562.78 L678.516 1560.56 Q679.831 1560.06 681.068 1559.81 Q682.305 1559.55 683.477 1559.55 Q686.641 1559.55 688.203 1561.19 Q689.766 1562.83 689.766 1566.16 Z\" fill=\"#000000\" fill-rule=\"evenodd\" fill-opacity=\"1\" /><path clip-path=\"url(#clip430)\" d=\"M 0 0 M690.56 1559.9 L693.099 1559.9 L697.656 1572.14 L702.213 1559.9 L704.752 1559.9 L699.284 1574.48 L696.029 1574.48 L690.56 1559.9 Z\" fill=\"#000000\" fill-rule=\"evenodd\" fill-opacity=\"1\" /><path clip-path=\"url(#clip430)\" d=\"M 0 0 M719.739 1566.59 L719.739 1567.76 L708.724 1567.76 Q708.88 1570.24 710.208 1571.54 Q711.549 1572.83 713.932 1572.83 Q715.312 1572.83 716.601 1572.49 Q717.903 1572.15 719.179 1571.48 L719.179 1573.74 Q717.89 1574.29 716.536 1574.57 Q715.182 1574.86 713.789 1574.86 Q710.299 1574.86 708.255 1572.83 Q706.224 1570.8 706.224 1567.33 Q706.224 1563.75 708.151 1561.66 Q710.091 1559.55 713.372 1559.55 Q716.315 1559.55 718.021 1561.45 Q719.739 1563.34 719.739 1566.59 M717.344 1565.89 Q717.317 1563.92 716.237 1562.75 Q715.169 1561.58 713.398 1561.58 Q711.393 1561.58 710.182 1562.71 Q708.984 1563.84 708.802 1565.9 L717.344 1565.89 Z\" fill=\"#000000\" fill-rule=\"evenodd\" fill-opacity=\"1\" /><path clip-path=\"url(#clip430)\" d=\"M 0 0 M730.703 1562.14 Q730.299 1561.9 729.817 1561.8 Q729.349 1561.68 728.776 1561.68 Q726.745 1561.68 725.651 1563.01 Q724.57 1564.33 724.57 1566.8 L724.57 1574.48 L722.161 1574.48 L722.161 1559.9 L724.57 1559.9 L724.57 1562.17 Q725.325 1560.84 726.536 1560.2 Q727.747 1559.55 729.479 1559.55 Q729.726 1559.55 730.026 1559.59 Q730.325 1559.61 730.69 1559.68 L730.703 1562.14 Z\" fill=\"#000000\" fill-rule=\"evenodd\" fill-opacity=\"1\" /><path clip-path=\"url(#clip430)\" d=\"M 0 0 M739.843 1567.15 Q736.94 1567.15 735.82 1567.82 Q734.7 1568.48 734.7 1570.08 Q734.7 1571.36 735.534 1572.11 Q736.38 1572.86 737.825 1572.86 Q739.817 1572.86 741.015 1571.45 Q742.226 1570.03 742.226 1567.69 L742.226 1567.15 L739.843 1567.15 M744.622 1566.16 L744.622 1574.48 L742.226 1574.48 L742.226 1572.27 Q741.406 1573.6 740.182 1574.24 Q738.958 1574.86 737.187 1574.86 Q734.948 1574.86 733.619 1573.61 Q732.304 1572.35 732.304 1570.24 Q732.304 1567.78 733.945 1566.53 Q735.599 1565.28 738.867 1565.28 L742.226 1565.28 L742.226 1565.04 Q742.226 1563.39 741.132 1562.49 Q740.052 1561.58 738.086 1561.58 Q736.836 1561.58 735.651 1561.88 Q734.466 1562.18 733.372 1562.78 L733.372 1560.56 Q734.687 1560.06 735.924 1559.81 Q737.161 1559.55 738.333 1559.55 Q741.497 1559.55 743.06 1561.19 Q744.622 1562.83 744.622 1566.16 Z\" fill=\"#000000\" fill-rule=\"evenodd\" fill-opacity=\"1\" /><path clip-path=\"url(#clip430)\" d=\"M 0 0 M756.731 1567.02 Q756.731 1564.42 755.651 1562.99 Q754.583 1561.55 752.643 1561.55 Q750.716 1561.55 749.635 1562.99 Q748.567 1564.42 748.567 1567.02 Q748.567 1569.61 749.635 1571.05 Q750.716 1572.48 752.643 1572.48 Q754.583 1572.48 755.651 1571.05 Q756.731 1569.61 756.731 1567.02 M759.127 1572.67 Q759.127 1576.4 757.474 1578.21 Q755.82 1580.03 752.408 1580.03 Q751.145 1580.03 750.026 1579.83 Q748.906 1579.65 747.851 1579.26 L747.851 1576.93 Q748.906 1577.5 749.934 1577.78 Q750.963 1578.05 752.031 1578.05 Q754.388 1578.05 755.559 1576.81 Q756.731 1575.59 756.731 1573.1 L756.731 1571.92 Q755.989 1573.21 754.83 1573.84 Q753.671 1574.48 752.057 1574.48 Q749.375 1574.48 747.734 1572.44 Q746.093 1570.39 746.093 1567.02 Q746.093 1563.64 747.734 1561.59 Q749.375 1559.55 752.057 1559.55 Q753.671 1559.55 754.83 1560.19 Q755.989 1560.82 756.731 1562.11 L756.731 1559.9 L759.127 1559.9 L759.127 1572.67 Z\" fill=\"#000000\" fill-rule=\"evenodd\" fill-opacity=\"1\" /><path clip-path=\"url(#clip430)\" d=\"M 0 0 M774.114 1566.59 L774.114 1567.76 L763.098 1567.76 Q763.255 1570.24 764.583 1571.54 Q765.924 1572.83 768.307 1572.83 Q769.687 1572.83 770.976 1572.49 Q772.278 1572.15 773.554 1571.48 L773.554 1573.74 Q772.265 1574.29 770.911 1574.57 Q769.557 1574.86 768.164 1574.86 Q764.674 1574.86 762.63 1572.83 Q760.598 1570.8 760.598 1567.33 Q760.598 1563.75 762.526 1561.66 Q764.466 1559.55 767.747 1559.55 Q770.69 1559.55 772.395 1561.45 Q774.114 1563.34 774.114 1566.59 M771.718 1565.89 Q771.692 1563.92 770.611 1562.75 Q769.544 1561.58 767.773 1561.58 Q765.768 1561.58 764.557 1562.71 Q763.359 1563.84 763.177 1565.9 L771.718 1565.89 Z\" fill=\"#000000\" fill-rule=\"evenodd\" fill-opacity=\"1\" /><path clip-path=\"url(#clip430)\" d=\"M 0 0 M787.473 1555.76 L787.473 1559.9 L792.408 1559.9 L792.408 1561.76 L787.473 1561.76 L787.473 1569.68 Q787.473 1571.46 787.955 1571.97 Q788.45 1572.48 789.947 1572.48 L792.408 1572.48 L792.408 1574.48 L789.947 1574.48 Q787.174 1574.48 786.119 1573.45 Q785.065 1572.41 785.065 1569.68 L785.065 1561.76 L783.307 1561.76 L783.307 1559.9 L785.065 1559.9 L785.065 1555.76 L787.473 1555.76 Z\" fill=\"#000000\" fill-rule=\"evenodd\" fill-opacity=\"1\" /><path clip-path=\"url(#clip430)\" d=\"M 0 0 M803.372 1562.14 Q802.968 1561.9 802.486 1561.8 Q802.018 1561.68 801.445 1561.68 Q799.413 1561.68 798.32 1563.01 Q797.239 1564.33 797.239 1566.8 L797.239 1574.48 L794.83 1574.48 L794.83 1559.9 L797.239 1559.9 L797.239 1562.17 Q797.994 1560.84 799.205 1560.2 Q800.416 1559.55 802.148 1559.55 Q802.395 1559.55 802.695 1559.59 Q802.994 1559.61 803.359 1559.68 L803.372 1562.14 Z\" fill=\"#000000\" fill-rule=\"evenodd\" fill-opacity=\"1\" /><path clip-path=\"url(#clip430)\" d=\"M 0 0 M817.773 1566.59 L817.773 1567.76 L806.757 1567.76 Q806.913 1570.24 808.241 1571.54 Q809.583 1572.83 811.965 1572.83 Q813.346 1572.83 814.635 1572.49 Q815.937 1572.15 817.213 1571.48 L817.213 1573.74 Q815.924 1574.29 814.57 1574.57 Q813.215 1574.86 811.822 1574.86 Q808.333 1574.86 806.288 1572.83 Q804.257 1570.8 804.257 1567.33 Q804.257 1563.75 806.184 1561.66 Q808.124 1559.55 811.406 1559.55 Q814.348 1559.55 816.054 1561.45 Q817.773 1563.34 817.773 1566.59 M815.377 1565.89 Q815.351 1563.92 814.27 1562.75 Q813.202 1561.58 811.432 1561.58 Q809.426 1561.58 808.215 1562.71 Q807.018 1563.84 806.835 1565.9 L815.377 1565.89 Z\" fill=\"#000000\" fill-rule=\"evenodd\" fill-opacity=\"1\" /><path clip-path=\"url(#clip430)\" d=\"M 0 0 M826.913 1567.15 Q824.01 1567.15 822.89 1567.82 Q821.77 1568.48 821.77 1570.08 Q821.77 1571.36 822.603 1572.11 Q823.45 1572.86 824.895 1572.86 Q826.887 1572.86 828.085 1571.45 Q829.296 1570.03 829.296 1567.69 L829.296 1567.15 L826.913 1567.15 M831.692 1566.16 L831.692 1574.48 L829.296 1574.48 L829.296 1572.27 Q828.476 1573.6 827.252 1574.24 Q826.028 1574.86 824.257 1574.86 Q822.017 1574.86 820.689 1573.61 Q819.374 1572.35 819.374 1570.24 Q819.374 1567.78 821.015 1566.53 Q822.668 1565.28 825.937 1565.28 L829.296 1565.28 L829.296 1565.04 Q829.296 1563.39 828.202 1562.49 Q827.122 1561.58 825.155 1561.58 Q823.905 1561.58 822.721 1561.88 Q821.536 1562.18 820.442 1562.78 L820.442 1560.56 Q821.757 1560.06 822.994 1559.81 Q824.231 1559.55 825.403 1559.55 Q828.567 1559.55 830.129 1561.19 Q831.692 1562.83 831.692 1566.16 Z\" fill=\"#000000\" fill-rule=\"evenodd\" fill-opacity=\"1\" /><path clip-path=\"url(#clip430)\" d=\"M 0 0 M836.575 1555.76 L836.575 1559.9 L841.51 1559.9 L841.51 1561.76 L836.575 1561.76 L836.575 1569.68 Q836.575 1571.46 837.056 1571.97 Q837.551 1572.48 839.049 1572.48 L841.51 1572.48 L841.51 1574.48 L839.049 1574.48 Q836.275 1574.48 835.22 1573.45 Q834.166 1572.41 834.166 1569.68 L834.166 1561.76 L832.408 1561.76 L832.408 1559.9 L834.166 1559.9 L834.166 1555.76 L836.575 1555.76 Z\" fill=\"#000000\" fill-rule=\"evenodd\" fill-opacity=\"1\" /><path clip-path=\"url(#clip430)\" d=\"M 0 0 M855.377 1562.7 Q856.275 1561.08 857.525 1560.32 Q858.775 1559.55 860.468 1559.55 Q862.746 1559.55 863.983 1561.15 Q865.22 1562.74 865.22 1565.68 L865.22 1574.48 L862.811 1574.48 L862.811 1565.76 Q862.811 1563.66 862.069 1562.65 Q861.327 1561.63 859.804 1561.63 Q857.942 1561.63 856.861 1562.87 Q855.78 1564.11 855.78 1566.24 L855.78 1574.48 L853.371 1574.48 L853.371 1565.76 Q853.371 1563.65 852.629 1562.65 Q851.887 1561.63 850.338 1561.63 Q848.502 1561.63 847.421 1562.88 Q846.34 1564.12 846.34 1566.24 L846.34 1574.48 L843.931 1574.48 L843.931 1559.9 L846.34 1559.9 L846.34 1562.17 Q847.161 1560.82 848.306 1560.19 Q849.452 1559.55 851.028 1559.55 Q852.616 1559.55 853.723 1560.36 Q854.843 1561.16 855.377 1562.7 Z\" fill=\"#000000\" fill-rule=\"evenodd\" fill-opacity=\"1\" /><path clip-path=\"url(#clip430)\" d=\"M 0 0 M880.207 1566.59 L880.207 1567.76 L869.192 1567.76 Q869.348 1570.24 870.676 1571.54 Q872.017 1572.83 874.4 1572.83 Q875.78 1572.83 877.069 1572.49 Q878.371 1572.15 879.647 1571.48 L879.647 1573.74 Q878.358 1574.29 877.004 1574.57 Q875.65 1574.86 874.257 1574.86 Q870.767 1574.86 868.723 1572.83 Q866.692 1570.8 866.692 1567.33 Q866.692 1563.75 868.619 1561.66 Q870.559 1559.55 873.84 1559.55 Q876.783 1559.55 878.488 1561.45 Q880.207 1563.34 880.207 1566.59 M877.811 1565.89 Q877.785 1563.92 876.705 1562.75 Q875.637 1561.58 873.866 1561.58 Q871.861 1561.58 870.65 1562.71 Q869.452 1563.84 869.27 1565.9 L877.811 1565.89 Z\" fill=\"#000000\" fill-rule=\"evenodd\" fill-opacity=\"1\" /><path clip-path=\"url(#clip430)\" d=\"M 0 0 M894.843 1565.68 L894.843 1574.48 L892.447 1574.48 L892.447 1565.76 Q892.447 1563.69 891.639 1562.66 Q890.832 1561.63 889.218 1561.63 Q887.277 1561.63 886.158 1562.87 Q885.038 1564.11 885.038 1566.24 L885.038 1574.48 L882.629 1574.48 L882.629 1559.9 L885.038 1559.9 L885.038 1562.17 Q885.897 1560.85 887.056 1560.2 Q888.228 1559.55 889.751 1559.55 Q892.264 1559.55 893.554 1561.11 Q894.843 1562.66 894.843 1565.68 Z\" fill=\"#000000\" fill-rule=\"evenodd\" fill-opacity=\"1\" /><path clip-path=\"url(#clip430)\" d=\"M 0 0 M899.725 1555.76 L899.725 1559.9 L904.66 1559.9 L904.66 1561.76 L899.725 1561.76 L899.725 1569.68 Q899.725 1571.46 900.207 1571.97 Q900.702 1572.48 902.199 1572.48 L904.66 1572.48 L904.66 1574.48 L902.199 1574.48 Q899.426 1574.48 898.371 1573.45 Q897.317 1572.41 897.317 1569.68 L897.317 1561.76 L895.559 1561.76 L895.559 1559.9 L897.317 1559.9 L897.317 1555.76 L899.725 1555.76 Z\" fill=\"#000000\" fill-rule=\"evenodd\" fill-opacity=\"1\" /><path clip-path=\"url(#clip430)\" d=\"M 0 0 M928.124 1566.59 L928.124 1567.76 L917.108 1567.76 Q917.264 1570.24 918.592 1571.54 Q919.934 1572.83 922.316 1572.83 Q923.697 1572.83 924.986 1572.49 Q926.288 1572.15 927.564 1571.48 L927.564 1573.74 Q926.275 1574.29 924.921 1574.57 Q923.566 1574.86 922.173 1574.86 Q918.684 1574.86 916.639 1572.83 Q914.608 1570.8 914.608 1567.33 Q914.608 1563.75 916.535 1561.66 Q918.475 1559.55 921.756 1559.55 Q924.699 1559.55 926.405 1561.45 Q928.124 1563.34 928.124 1566.59 M925.728 1565.89 Q925.702 1563.92 924.621 1562.75 Q923.553 1561.58 921.783 1561.58 Q919.777 1561.58 918.566 1562.71 Q917.368 1563.84 917.186 1565.9 L925.728 1565.89 Z\" fill=\"#000000\" fill-rule=\"evenodd\" fill-opacity=\"1\" /><path clip-path=\"url(#clip430)\" d=\"M 0 0 M938.019 1554.22 L938.019 1556.21 L935.728 1556.21 Q934.439 1556.21 933.931 1556.74 Q933.436 1557.26 933.436 1558.61 L933.436 1559.9 L937.381 1559.9 L937.381 1561.76 L933.436 1561.76 L933.436 1574.48 L931.027 1574.48 L931.027 1561.76 L928.736 1561.76 L928.736 1559.9 L931.027 1559.9 L931.027 1558.88 Q931.027 1556.45 932.16 1555.34 Q933.293 1554.22 935.754 1554.22 L938.019 1554.22 Z\" fill=\"#000000\" fill-rule=\"evenodd\" fill-opacity=\"1\" /><path clip-path=\"url(#clip430)\" d=\"M 0 0 M947.915 1554.22 L947.915 1556.21 L945.624 1556.21 Q944.334 1556.21 943.827 1556.74 Q943.332 1557.26 943.332 1558.61 L943.332 1559.9 L947.277 1559.9 L947.277 1561.76 L943.332 1561.76 L943.332 1574.48 L940.923 1574.48 L940.923 1561.76 L938.631 1561.76 L938.631 1559.9 L940.923 1559.9 L940.923 1558.88 Q940.923 1556.45 942.056 1555.34 Q943.189 1554.22 945.65 1554.22 L947.915 1554.22 Z\" fill=\"#000000\" fill-rule=\"evenodd\" fill-opacity=\"1\" /><path clip-path=\"url(#clip430)\" d=\"M 0 0 M962.902 1566.59 L962.902 1567.76 L951.887 1567.76 Q952.043 1570.24 953.371 1571.54 Q954.712 1572.83 957.095 1572.83 Q958.475 1572.83 959.764 1572.49 Q961.066 1572.15 962.342 1571.48 L962.342 1573.74 Q961.053 1574.29 959.699 1574.57 Q958.345 1574.86 956.952 1574.86 Q953.462 1574.86 951.418 1572.83 Q949.387 1570.8 949.387 1567.33 Q949.387 1563.75 951.314 1561.66 Q953.254 1559.55 956.535 1559.55 Q959.478 1559.55 961.183 1561.45 Q962.902 1563.34 962.902 1566.59 M960.506 1565.89 Q960.48 1563.92 959.4 1562.75 Q958.332 1561.58 956.561 1561.58 Q954.556 1561.58 953.345 1562.71 Q952.147 1563.84 951.965 1565.9 L960.506 1565.89 Z\" fill=\"#000000\" fill-rule=\"evenodd\" fill-opacity=\"1\" /><path clip-path=\"url(#clip430)\" d=\"M 0 0 M975.91 1560.46 L975.91 1562.7 Q974.894 1562.14 973.866 1561.87 Q972.85 1561.58 971.808 1561.58 Q969.478 1561.58 968.189 1563.06 Q966.899 1564.54 966.899 1567.2 Q966.899 1569.87 968.189 1571.36 Q969.478 1572.83 971.808 1572.83 Q972.85 1572.83 973.866 1572.56 Q974.894 1572.27 975.91 1571.71 L975.91 1573.92 Q974.907 1574.39 973.827 1574.63 Q972.759 1574.86 971.548 1574.86 Q968.254 1574.86 966.314 1572.79 Q964.373 1570.72 964.373 1567.2 Q964.373 1563.64 966.327 1561.59 Q968.293 1559.55 971.704 1559.55 Q972.811 1559.55 973.866 1559.78 Q974.92 1560 975.91 1560.46 Z\" fill=\"#000000\" fill-rule=\"evenodd\" fill-opacity=\"1\" /><path clip-path=\"url(#clip430)\" d=\"M 0 0 M980.793 1555.76 L980.793 1559.9 L985.727 1559.9 L985.727 1561.76 L980.793 1561.76 L980.793 1569.68 Q980.793 1571.46 981.274 1571.97 Q981.769 1572.48 983.267 1572.48 L985.727 1572.48 L985.727 1574.48 L983.267 1574.48 Q980.493 1574.48 979.438 1573.45 Q978.384 1572.41 978.384 1569.68 L978.384 1561.76 L976.626 1561.76 L976.626 1559.9 L978.384 1559.9 L978.384 1555.76 L980.793 1555.76 Z\" fill=\"#000000\" fill-rule=\"evenodd\" fill-opacity=\"1\" /><polyline clip-path=\"url(#clip432)\" style=\"stroke:#000000; stroke-width:0.5; stroke-opacity:0.1; fill:none\" points=\"\n",
       "  74.9864,1463.71 1588.19,1463.71 \n",
       "  \"/>\n",
       "<polyline clip-path=\"url(#clip432)\" style=\"stroke:#000000; stroke-width:0.5; stroke-opacity:0.1; fill:none\" points=\"\n",
       "  74.9864,1157.27 1588.19,1157.27 \n",
       "  \"/>\n",
       "<polyline clip-path=\"url(#clip432)\" style=\"stroke:#000000; stroke-width:0.5; stroke-opacity:0.1; fill:none\" points=\"\n",
       "  74.9864,850.834 1588.19,850.834 \n",
       "  \"/>\n",
       "<polyline clip-path=\"url(#clip432)\" style=\"stroke:#000000; stroke-width:0.5; stroke-opacity:0.1; fill:none\" points=\"\n",
       "  74.9864,544.398 1588.19,544.398 \n",
       "  \"/>\n",
       "<polyline clip-path=\"url(#clip432)\" style=\"stroke:#000000; stroke-width:0.5; stroke-opacity:0.1; fill:none\" points=\"\n",
       "  74.9864,237.961 1588.19,237.961 \n",
       "  \"/>\n",
       "<polyline clip-path=\"url(#clip430)\" style=\"stroke:#000000; stroke-width:1; stroke-opacity:1; fill:none\" points=\"\n",
       "  74.9864,1505.99 74.9864,11.811 \n",
       "  \"/>\n",
       "<polyline clip-path=\"url(#clip430)\" style=\"stroke:#000000; stroke-width:1; stroke-opacity:1; fill:none\" points=\"\n",
       "  74.9864,1463.71 93.1448,1463.71 \n",
       "  \"/>\n",
       "<polyline clip-path=\"url(#clip430)\" style=\"stroke:#000000; stroke-width:1; stroke-opacity:1; fill:none\" points=\"\n",
       "  74.9864,1157.27 93.1448,1157.27 \n",
       "  \"/>\n",
       "<polyline clip-path=\"url(#clip430)\" style=\"stroke:#000000; stroke-width:1; stroke-opacity:1; fill:none\" points=\"\n",
       "  74.9864,850.834 93.1448,850.834 \n",
       "  \"/>\n",
       "<polyline clip-path=\"url(#clip430)\" style=\"stroke:#000000; stroke-width:1; stroke-opacity:1; fill:none\" points=\"\n",
       "  74.9864,544.398 93.1448,544.398 \n",
       "  \"/>\n",
       "<polyline clip-path=\"url(#clip430)\" style=\"stroke:#000000; stroke-width:1; stroke-opacity:1; fill:none\" points=\"\n",
       "  74.9864,237.961 93.1448,237.961 \n",
       "  \"/>\n",
       "<path clip-path=\"url(#clip430)\" d=\"M 0 0 M30.0143 1467.04 L31.924 1467.04 L31.924 1460.45 L29.8465 1460.87 L29.8465 1459.8 L31.9124 1459.39 L33.0814 1459.39 L33.0814 1467.04 L34.9911 1467.04 L34.9911 1468.03 L30.0143 1468.03 L30.0143 1467.04 Z\" fill=\"#000000\" fill-rule=\"evenodd\" fill-opacity=\"1\" /><path clip-path=\"url(#clip430)\" d=\"M 0 0 M36.2585 1466.56 L37.4795 1466.56 L37.4795 1468.03 L36.2585 1468.03 L36.2585 1466.56 Z\" fill=\"#000000\" fill-rule=\"evenodd\" fill-opacity=\"1\" /><path clip-path=\"url(#clip430)\" d=\"M 0 0 M41.2469 1460.16 Q40.3441 1460.16 39.8869 1461.05 Q39.4355 1461.93 39.4355 1463.72 Q39.4355 1465.49 39.8869 1466.38 Q40.3441 1467.27 41.2469 1467.27 Q42.1554 1467.27 42.6068 1466.38 Q43.064 1465.49 43.064 1463.72 Q43.064 1461.93 42.6068 1461.05 Q42.1554 1460.16 41.2469 1460.16 M41.2469 1459.23 Q42.6994 1459.23 43.4633 1460.38 Q44.233 1461.53 44.233 1463.72 Q44.233 1465.9 43.4633 1467.05 Q42.6994 1468.19 41.2469 1468.19 Q39.7943 1468.19 39.0247 1467.05 Q38.2608 1465.9 38.2608 1463.72 Q38.2608 1461.53 39.0247 1460.38 Q39.7943 1459.23 41.2469 1459.23 Z\" fill=\"#000000\" fill-rule=\"evenodd\" fill-opacity=\"1\" /><path clip-path=\"url(#clip430)\" d=\"M 0 0 M48.0003 1460.16 Q47.0975 1460.16 46.6404 1461.05 Q46.189 1461.93 46.189 1463.72 Q46.189 1465.49 46.6404 1466.38 Q47.0975 1467.27 48.0003 1467.27 Q48.9089 1467.27 49.3603 1466.38 Q49.8174 1465.49 49.8174 1463.72 Q49.8174 1461.93 49.3603 1461.05 Q48.9089 1460.16 48.0003 1460.16 M48.0003 1459.23 Q49.4528 1459.23 50.2167 1460.38 Q50.9864 1461.53 50.9864 1463.72 Q50.9864 1465.9 50.2167 1467.05 Q49.4528 1468.19 48.0003 1468.19 Q46.5478 1468.19 45.7781 1467.05 Q45.0142 1465.9 45.0142 1463.72 Q45.0142 1461.53 45.7781 1460.38 Q46.5478 1459.23 48.0003 1459.23 Z\" fill=\"#000000\" fill-rule=\"evenodd\" fill-opacity=\"1\" /><path clip-path=\"url(#clip430)\" d=\"M 0 0 M30.6624 1160.61 L32.5722 1160.61 L32.5722 1154.02 L30.4946 1154.43 L30.4946 1153.37 L32.5606 1152.95 L33.7296 1152.95 L33.7296 1160.61 L35.6393 1160.61 L35.6393 1161.59 L30.6624 1161.59 L30.6624 1160.61 Z\" fill=\"#000000\" fill-rule=\"evenodd\" fill-opacity=\"1\" /><path clip-path=\"url(#clip430)\" d=\"M 0 0 M36.9066 1160.12 L38.1277 1160.12 L38.1277 1161.59 L36.9066 1161.59 L36.9066 1160.12 Z\" fill=\"#000000\" fill-rule=\"evenodd\" fill-opacity=\"1\" /><path clip-path=\"url(#clip430)\" d=\"M 0 0 M40.402 1160.61 L44.4818 1160.61 L44.4818 1161.59 L38.9957 1161.59 L38.9957 1160.61 Q39.6612 1159.92 40.8071 1158.76 Q41.9587 1157.6 42.2538 1157.26 Q42.8152 1156.63 43.0351 1156.2 Q43.2608 1155.76 43.2608 1155.33 Q43.2608 1154.65 42.7746 1154.21 Q42.2943 1153.78 41.5189 1153.78 Q40.9691 1153.78 40.3557 1153.97 Q39.748 1154.16 39.0536 1154.55 L39.0536 1153.37 Q39.7596 1153.08 40.373 1152.94 Q40.9865 1152.79 41.4957 1152.79 Q42.8383 1152.79 43.6369 1153.47 Q44.4355 1154.14 44.4355 1155.26 Q44.4355 1155.79 44.233 1156.27 Q44.0362 1156.75 43.5096 1157.39 Q43.3649 1157.56 42.5895 1158.37 Q41.814 1159.17 40.402 1160.61 Z\" fill=\"#000000\" fill-rule=\"evenodd\" fill-opacity=\"1\" /><path clip-path=\"url(#clip430)\" d=\"M 0 0 M45.7607 1152.95 L50.3498 1152.95 L50.3498 1153.93 L46.8313 1153.93 L46.8313 1156.05 Q47.086 1155.97 47.3406 1155.92 Q47.5952 1155.88 47.8498 1155.88 Q49.2966 1155.88 50.1415 1156.67 Q50.9864 1157.46 50.9864 1158.82 Q50.9864 1160.21 50.1184 1160.99 Q49.2503 1161.76 47.6705 1161.76 Q47.1265 1161.76 46.5593 1161.67 Q45.998 1161.57 45.3962 1161.39 L45.3962 1160.21 Q45.917 1160.5 46.4725 1160.64 Q47.0281 1160.77 47.6473 1160.77 Q48.6485 1160.77 49.2329 1160.25 Q49.8174 1159.72 49.8174 1158.82 Q49.8174 1157.92 49.2329 1157.39 Q48.6485 1156.86 47.6473 1156.86 Q47.1786 1156.86 46.7098 1156.97 Q46.2468 1157.07 45.7607 1157.29 L45.7607 1152.95 Z\" fill=\"#000000\" fill-rule=\"evenodd\" fill-opacity=\"1\" /><path clip-path=\"url(#clip430)\" d=\"M 0 0 M30.2631 854.17 L32.1728 854.17 L32.1728 847.579 L30.0953 847.995 L30.0953 846.931 L32.1613 846.514 L33.3303 846.514 L33.3303 854.17 L35.24 854.17 L35.24 855.154 L30.2631 855.154 L30.2631 854.17 Z\" fill=\"#000000\" fill-rule=\"evenodd\" fill-opacity=\"1\" /><path clip-path=\"url(#clip430)\" d=\"M 0 0 M36.5073 853.684 L37.7284 853.684 L37.7284 855.154 L36.5073 855.154 L36.5073 853.684 Z\" fill=\"#000000\" fill-rule=\"evenodd\" fill-opacity=\"1\" /><path clip-path=\"url(#clip430)\" d=\"M 0 0 M39.0073 846.514 L43.5964 846.514 L43.5964 847.498 L40.0779 847.498 L40.0779 849.616 Q40.3325 849.529 40.5872 849.488 Q40.8418 849.442 41.0964 849.442 Q42.5432 849.442 43.3881 850.235 Q44.233 851.028 44.233 852.382 Q44.233 853.777 43.3649 854.552 Q42.4969 855.322 40.917 855.322 Q40.373 855.322 39.8059 855.229 Q39.2446 855.137 38.6427 854.951 L38.6427 853.777 Q39.1636 854.06 39.7191 854.199 Q40.2747 854.338 40.8939 854.338 Q41.895 854.338 42.4795 853.811 Q43.064 853.285 43.064 852.382 Q43.064 851.479 42.4795 850.953 Q41.895 850.426 40.8939 850.426 Q40.4251 850.426 39.9564 850.53 Q39.4934 850.634 39.0073 850.854 L39.0073 846.514 Z\" fill=\"#000000\" fill-rule=\"evenodd\" fill-opacity=\"1\" /><path clip-path=\"url(#clip430)\" d=\"M 0 0 M48.0003 847.284 Q47.0975 847.284 46.6404 848.175 Q46.189 849.06 46.189 850.843 Q46.189 852.619 46.6404 853.51 Q47.0975 854.396 48.0003 854.396 Q48.9089 854.396 49.3603 853.51 Q49.8174 852.619 49.8174 850.843 Q49.8174 849.06 49.3603 848.175 Q48.9089 847.284 48.0003 847.284 M48.0003 846.358 Q49.4528 846.358 50.2167 847.509 Q50.9864 848.655 50.9864 850.843 Q50.9864 853.024 50.2167 854.176 Q49.4528 855.322 48.0003 855.322 Q46.5478 855.322 45.7781 854.176 Q45.0142 853.024 45.0142 850.843 Q45.0142 848.655 45.7781 847.509 Q46.5478 846.358 48.0003 846.358 Z\" fill=\"#000000\" fill-rule=\"evenodd\" fill-opacity=\"1\" /><path clip-path=\"url(#clip430)\" d=\"M 0 0 M30.4888 547.734 L32.3985 547.734 L32.3985 541.142 L30.321 541.559 L30.321 540.494 L32.387 540.078 L33.5559 540.078 L33.5559 547.734 L35.4657 547.734 L35.4657 548.718 L30.4888 548.718 L30.4888 547.734 Z\" fill=\"#000000\" fill-rule=\"evenodd\" fill-opacity=\"1\" /><path clip-path=\"url(#clip430)\" d=\"M 0 0 M36.733 547.248 L37.9541 547.248 L37.9541 548.718 L36.733 548.718 L36.733 547.248 Z\" fill=\"#000000\" fill-rule=\"evenodd\" fill-opacity=\"1\" /><path clip-path=\"url(#clip430)\" d=\"M 0 0 M38.9263 540.078 L44.4818 540.078 L44.4818 540.575 L41.3453 548.718 L40.1242 548.718 L43.0756 541.061 L38.9263 541.061 L38.9263 540.078 Z\" fill=\"#000000\" fill-rule=\"evenodd\" fill-opacity=\"1\" /><path clip-path=\"url(#clip430)\" d=\"M 0 0 M45.7607 540.078 L50.3498 540.078 L50.3498 541.061 L46.8313 541.061 L46.8313 543.179 Q47.086 543.093 47.3406 543.052 Q47.5952 543.006 47.8498 543.006 Q49.2966 543.006 50.1415 543.799 Q50.9864 544.591 50.9864 545.946 Q50.9864 547.34 50.1184 548.116 Q49.2503 548.885 47.6705 548.885 Q47.1265 548.885 46.5593 548.793 Q45.998 548.7 45.3962 548.515 L45.3962 547.34 Q45.917 547.624 46.4725 547.763 Q47.0281 547.902 47.6473 547.902 Q48.6485 547.902 49.2329 547.375 Q49.8174 546.848 49.8174 545.946 Q49.8174 545.043 49.2329 544.516 Q48.6485 543.99 47.6473 543.99 Q47.1786 543.99 46.7098 544.094 Q46.2468 544.198 45.7607 544.418 L45.7607 540.078 Z\" fill=\"#000000\" fill-rule=\"evenodd\" fill-opacity=\"1\" /><path clip-path=\"url(#clip430)\" d=\"M 0 0 M30.9113 241.297 L34.9911 241.297 L34.9911 242.281 L29.505 242.281 L29.505 241.297 Q30.1705 240.609 31.3164 239.451 Q32.468 238.288 32.7631 237.952 Q33.3245 237.322 33.5444 236.888 Q33.7701 236.448 33.7701 236.025 Q33.7701 235.337 33.284 234.903 Q32.8036 234.469 32.0282 234.469 Q31.4784 234.469 30.865 234.66 Q30.2574 234.851 29.5629 235.238 L29.5629 234.058 Q30.2689 233.774 30.8823 233.63 Q31.4958 233.485 32.005 233.485 Q33.3476 233.485 34.1462 234.156 Q34.9448 234.827 34.9448 235.95 Q34.9448 236.483 34.7423 236.963 Q34.5455 237.437 34.0189 238.086 Q33.8742 238.253 33.0988 239.058 Q32.3233 239.856 30.9113 241.297 Z\" fill=\"#000000\" fill-rule=\"evenodd\" fill-opacity=\"1\" /><path clip-path=\"url(#clip430)\" d=\"M 0 0 M36.2585 240.811 L37.4795 240.811 L37.4795 242.281 L36.2585 242.281 L36.2585 240.811 Z\" fill=\"#000000\" fill-rule=\"evenodd\" fill-opacity=\"1\" /><path clip-path=\"url(#clip430)\" d=\"M 0 0 M41.2469 234.411 Q40.3441 234.411 39.8869 235.302 Q39.4355 236.187 39.4355 237.97 Q39.4355 239.746 39.8869 240.638 Q40.3441 241.523 41.2469 241.523 Q42.1554 241.523 42.6068 240.638 Q43.064 239.746 43.064 237.97 Q43.064 236.187 42.6068 235.302 Q42.1554 234.411 41.2469 234.411 M41.2469 233.485 Q42.6994 233.485 43.4633 234.636 Q44.233 235.782 44.233 237.97 Q44.233 240.151 43.4633 241.303 Q42.6994 242.449 41.2469 242.449 Q39.7943 242.449 39.0247 241.303 Q38.2608 240.151 38.2608 237.97 Q38.2608 235.782 39.0247 234.636 Q39.7943 233.485 41.2469 233.485 Z\" fill=\"#000000\" fill-rule=\"evenodd\" fill-opacity=\"1\" /><path clip-path=\"url(#clip430)\" d=\"M 0 0 M48.0003 234.411 Q47.0975 234.411 46.6404 235.302 Q46.189 236.187 46.189 237.97 Q46.189 239.746 46.6404 240.638 Q47.0975 241.523 48.0003 241.523 Q48.9089 241.523 49.3603 240.638 Q49.8174 239.746 49.8174 237.97 Q49.8174 236.187 49.3603 235.302 Q48.9089 234.411 48.0003 234.411 M48.0003 233.485 Q49.4528 233.485 50.2167 234.636 Q50.9864 235.782 50.9864 237.97 Q50.9864 240.151 50.2167 241.303 Q49.4528 242.449 48.0003 242.449 Q46.5478 242.449 45.7781 241.303 Q45.0142 240.151 45.0142 237.97 Q45.0142 235.782 45.7781 234.636 Q46.5478 233.485 48.0003 233.485 Z\" fill=\"#000000\" fill-rule=\"evenodd\" fill-opacity=\"1\" /><path clip-path=\"url(#clip430)\" d=\"M 0 0 M9.37121 841.164 L10.7398 841.164 Q10.3977 841.784 10.2306 842.413 Q10.0555 843.034 10.0555 843.67 Q10.0555 845.095 10.9626 845.882 Q11.8618 846.67 13.493 846.67 Q15.1242 846.67 16.0313 845.882 Q16.9305 845.095 16.9305 843.67 Q16.9305 843.034 16.7634 842.413 Q16.5883 841.784 16.2462 841.164 L17.5989 841.164 Q17.8853 841.777 18.0286 842.437 Q18.1718 843.089 18.1718 843.829 Q18.1718 845.843 16.9066 847.028 Q15.6414 848.214 13.493 848.214 Q11.3127 848.214 10.0635 847.02 Q8.81421 845.819 8.81421 843.734 Q8.81421 843.058 8.95744 842.413 Q9.09271 841.769 9.37121 841.164 Z\" fill=\"#000000\" fill-rule=\"evenodd\" fill-opacity=\"1\" /><path clip-path=\"url(#clip430)\" d=\"M 0 0 M10.0555 836.175 Q10.0555 837.352 10.9785 838.037 Q11.8936 838.721 13.493 838.721 Q15.0924 838.721 16.0154 838.045 Q16.9305 837.36 16.9305 836.175 Q16.9305 835.005 16.0075 834.321 Q15.0844 833.636 13.493 833.636 Q11.9095 833.636 10.9865 834.321 Q10.0555 835.005 10.0555 836.175 M8.81421 836.175 Q8.81421 834.265 10.0555 833.175 Q11.2968 832.085 13.493 832.085 Q15.6812 832.085 16.9305 833.175 Q18.1718 834.265 18.1718 836.175 Q18.1718 838.092 16.9305 839.183 Q15.6812 840.265 13.493 840.265 Q11.2968 840.265 10.0555 839.183 Q8.81421 838.092 8.81421 836.175 Z\" fill=\"#000000\" fill-rule=\"evenodd\" fill-opacity=\"1\" /><path clip-path=\"url(#clip430)\" d=\"M 0 0 M12.562 823.141 L17.941 823.141 L17.941 824.605 L12.6098 824.605 Q11.3446 824.605 10.716 825.098 Q10.0873 825.592 10.0873 826.578 Q10.0873 827.764 10.8433 828.448 Q11.5992 829.133 12.9042 829.133 L17.941 829.133 L17.941 830.605 L9.02905 830.605 L9.02905 829.133 L10.4136 829.133 Q9.60992 828.607 9.21206 827.899 Q8.81421 827.183 8.81421 826.252 Q8.81421 824.716 9.76906 823.929 Q10.716 823.141 12.562 823.141 Z\" fill=\"#000000\" fill-rule=\"evenodd\" fill-opacity=\"1\" /><path clip-path=\"url(#clip430)\" d=\"M 0 0 M10.3818 815.741 L5.55974 815.741 L5.55974 814.277 L17.941 814.277 L17.941 815.741 L16.6042 815.741 Q17.4 816.202 17.7899 816.91 Q18.1718 817.611 18.1718 818.597 Q18.1718 820.213 16.8827 821.231 Q15.5937 822.242 13.493 822.242 Q11.3923 822.242 10.1033 821.231 Q8.81421 820.213 8.81421 818.597 Q8.81421 817.611 9.20411 816.91 Q9.58605 816.202 10.3818 815.741 M13.493 820.73 Q15.1083 820.73 16.0313 820.069 Q16.9464 819.401 16.9464 818.239 Q16.9464 817.078 16.0313 816.409 Q15.1083 815.741 13.493 815.741 Q11.8777 815.741 10.9626 816.409 Q10.0396 817.078 10.0396 818.239 Q10.0396 819.401 10.9626 820.069 Q11.8777 820.73 13.493 820.73 Z\" fill=\"#000000\" fill-rule=\"evenodd\" fill-opacity=\"1\" /><path clip-path=\"url(#clip430)\" d=\"M 0 0 M9.02905 812.741 L9.02905 811.277 L17.941 811.277 L17.941 812.741 L9.02905 812.741 M5.55974 812.741 L5.55974 811.277 L7.41375 811.277 L7.41375 812.741 L5.55974 812.741 Z\" fill=\"#000000\" fill-rule=\"evenodd\" fill-opacity=\"1\" /><path clip-path=\"url(#clip430)\" d=\"M 0 0 M6.49868 808.293 L9.02905 808.293 L9.02905 805.277 L10.1669 805.277 L10.1669 808.293 L15.0049 808.293 Q16.095 808.293 16.4053 807.999 Q16.7156 807.696 16.7156 806.781 L16.7156 805.277 L17.941 805.277 L17.941 806.781 Q17.941 808.476 17.3124 809.12 Q16.6759 809.765 15.0049 809.765 L10.1669 809.765 L10.1669 810.839 L9.02905 810.839 L9.02905 809.765 L6.49868 809.765 L6.49868 808.293 Z\" fill=\"#000000\" fill-rule=\"evenodd\" fill-opacity=\"1\" /><path clip-path=\"url(#clip430)\" d=\"M 0 0 M9.02905 803.741 L9.02905 802.277 L17.941 802.277 L17.941 803.741 L9.02905 803.741 M5.55974 803.741 L5.55974 802.277 L7.41375 802.277 L7.41375 803.741 L5.55974 803.741 Z\" fill=\"#000000\" fill-rule=\"evenodd\" fill-opacity=\"1\" /><path clip-path=\"url(#clip430)\" d=\"M 0 0 M10.0555 797.288 Q10.0555 798.466 10.9785 799.15 Q11.8936 799.834 13.493 799.834 Q15.0924 799.834 16.0154 799.158 Q16.9305 798.474 16.9305 797.288 Q16.9305 796.119 16.0075 795.434 Q15.0844 794.75 13.493 794.75 Q11.9095 794.75 10.9865 795.434 Q10.0555 796.119 10.0555 797.288 M8.81421 797.288 Q8.81421 795.378 10.0555 794.288 Q11.2968 793.198 13.493 793.198 Q15.6812 793.198 16.9305 794.288 Q18.1718 795.378 18.1718 797.288 Q18.1718 799.206 16.9305 800.296 Q15.6812 801.378 13.493 801.378 Q11.2968 801.378 10.0555 800.296 Q8.81421 799.206 8.81421 797.288 Z\" fill=\"#000000\" fill-rule=\"evenodd\" fill-opacity=\"1\" /><path clip-path=\"url(#clip430)\" d=\"M 0 0 M12.562 784.254 L17.941 784.254 L17.941 785.719 L12.6098 785.719 Q11.3446 785.719 10.716 786.212 Q10.0873 786.705 10.0873 787.692 Q10.0873 788.878 10.8433 789.562 Q11.5992 790.246 12.9042 790.246 L17.941 790.246 L17.941 791.718 L9.02905 791.718 L9.02905 790.246 L10.4136 790.246 Q9.60992 789.721 9.21206 789.013 Q8.81421 788.297 8.81421 787.366 Q8.81421 785.83 9.76906 785.042 Q10.716 784.254 12.562 784.254 Z\" fill=\"#000000\" fill-rule=\"evenodd\" fill-opacity=\"1\" /><path clip-path=\"url(#clip430)\" d=\"M 0 0 M5.57565 774.022 Q7.40579 775.088 9.19615 775.605 Q10.9865 776.122 12.8246 776.122 Q14.6627 776.122 16.469 775.605 Q18.2673 775.08 20.0895 774.022 L20.0895 775.295 Q18.2195 776.488 16.4133 777.085 Q14.607 777.674 12.8246 777.674 Q11.0502 777.674 9.25185 777.085 Q7.45354 776.496 5.57565 775.295 L5.57565 774.022 Z\" fill=\"#000000\" fill-rule=\"evenodd\" fill-opacity=\"1\" /><path clip-path=\"url(#clip430)\" d=\"M 0 0 M6.06104 772.422 L6.06104 770.815 L17.1135 770.815 Q19.2619 770.815 20.2327 771.634 Q21.2035 772.446 21.2035 774.252 L21.2035 774.865 L19.8508 774.865 L19.8508 774.364 Q19.8508 773.297 19.254 772.86 Q18.6572 772.422 17.1135 772.422 L6.06104 772.422 Z\" fill=\"#000000\" fill-rule=\"evenodd\" fill-opacity=\"1\" /><path clip-path=\"url(#clip430)\" d=\"M 0 0 M10.0555 765.826 Q10.0555 767.003 10.9785 767.688 Q11.8936 768.372 13.493 768.372 Q15.0924 768.372 16.0154 767.696 Q16.9305 767.011 16.9305 765.826 Q16.9305 764.656 16.0075 763.972 Q15.0844 763.287 13.493 763.287 Q11.9095 763.287 10.9865 763.972 Q10.0555 764.656 10.0555 765.826 M8.81421 765.826 Q8.81421 763.916 10.0555 762.826 Q11.2968 761.736 13.493 761.736 Q15.6812 761.736 16.9305 762.826 Q18.1718 763.916 18.1718 765.826 Q18.1718 767.743 16.9305 768.833 Q15.6812 769.916 13.493 769.916 Q11.2968 769.916 10.0555 768.833 Q8.81421 767.743 8.81421 765.826 Z\" fill=\"#000000\" fill-rule=\"evenodd\" fill-opacity=\"1\" /><path clip-path=\"url(#clip430)\" d=\"M 0 0 M5.55974 760.256 L5.55974 758.784 L12.8723 758.784 L9.02905 754.415 L9.02905 752.545 L13.1986 757.272 L17.941 752.346 L17.941 754.256 L13.5885 758.784 L17.941 758.784 L17.941 760.256 L5.55974 760.256 Z\" fill=\"#000000\" fill-rule=\"evenodd\" fill-opacity=\"1\" /><path clip-path=\"url(#clip430)\" d=\"M 0 0 M13.119 743.769 L13.8352 743.769 L13.8352 750.5 Q15.347 750.405 16.1427 749.593 Q16.9305 748.774 16.9305 747.317 Q16.9305 746.474 16.7236 745.686 Q16.5167 744.89 16.1029 744.111 L17.4875 744.111 Q17.8217 744.898 17.9967 745.726 Q18.1718 746.554 18.1718 747.405 Q18.1718 749.537 16.9305 750.787 Q15.6892 752.028 13.5726 752.028 Q11.3844 752.028 10.1033 750.85 Q8.81421 749.665 8.81421 747.66 Q8.81421 745.861 9.97595 744.819 Q11.1297 743.769 13.119 743.769 M12.6893 745.233 Q11.4878 745.249 10.7717 745.909 Q10.0555 746.561 10.0555 747.644 Q10.0555 748.869 10.7478 749.609 Q11.4401 750.341 12.6973 750.453 L12.6893 745.233 Z\" fill=\"#000000\" fill-rule=\"evenodd\" fill-opacity=\"1\" /><path clip-path=\"url(#clip430)\" d=\"M 0 0 M9.29164 736.551 L10.6762 736.551 Q10.3579 737.172 10.1987 737.84 Q10.0396 738.509 10.0396 739.225 Q10.0396 740.315 10.3738 740.864 Q10.708 741.405 11.3764 741.405 Q11.8857 741.405 12.1801 741.015 Q12.4665 740.625 12.7291 739.448 L12.8405 738.947 Q13.1747 737.387 13.7874 736.734 Q14.3922 736.074 15.4823 736.074 Q16.7236 736.074 17.4477 737.061 Q18.1718 738.039 18.1718 739.758 Q18.1718 740.474 18.0286 741.254 Q17.8933 742.026 17.6148 742.885 L16.1029 742.885 Q16.5247 742.074 16.7395 741.286 Q16.9464 740.498 16.9464 739.726 Q16.9464 738.692 16.5963 738.135 Q16.2382 737.578 15.5937 737.578 Q14.9969 737.578 14.6786 737.984 Q14.3603 738.382 14.0659 739.742 L13.9466 740.251 Q13.6601 741.612 13.0713 742.217 Q12.4745 742.822 11.4401 742.822 Q10.1828 742.822 9.49852 741.93 Q8.81421 741.039 8.81421 739.4 Q8.81421 738.588 8.93356 737.872 Q9.05292 737.156 9.29164 736.551 Z\" fill=\"#000000\" fill-rule=\"evenodd\" fill-opacity=\"1\" /><path clip-path=\"url(#clip430)\" d=\"M 0 0 M15.9199 734.164 L15.9199 732.485 L17.2886 732.485 L19.8348 733.79 L19.8348 734.817 L17.2886 734.164 L15.9199 734.164 Z\" fill=\"#000000\" fill-rule=\"evenodd\" fill-opacity=\"1\" /><path clip-path=\"url(#clip430)\" d=\"M 0 0 M7.64451 721.735 L13.5567 723.915 L13.5567 719.547 L7.64451 721.735 M6.06104 722.642 L6.06104 720.82 L17.941 716.293 L17.941 717.964 L14.8935 719.046 L14.8935 724.401 L17.941 725.483 L17.941 727.178 L6.06104 722.642 Z\" fill=\"#000000\" fill-rule=\"evenodd\" fill-opacity=\"1\" /><path clip-path=\"url(#clip430)\" d=\"M 0 0 M9.29164 709.075 L10.6762 709.075 Q10.3579 709.696 10.1987 710.364 Q10.0396 711.033 10.0396 711.749 Q10.0396 712.839 10.3738 713.388 Q10.708 713.929 11.3764 713.929 Q11.8857 713.929 12.1801 713.539 Q12.4665 713.149 12.7291 711.972 L12.8405 711.471 Q13.1747 709.911 13.7874 709.258 Q14.3922 708.598 15.4823 708.598 Q16.7236 708.598 17.4477 709.585 Q18.1718 710.563 18.1718 712.282 Q18.1718 712.998 18.0286 713.778 Q17.8933 714.55 17.6148 715.409 L16.1029 715.409 Q16.5247 714.598 16.7395 713.81 Q16.9464 713.022 16.9464 712.25 Q16.9464 711.216 16.5963 710.659 Q16.2382 710.102 15.5937 710.102 Q14.9969 710.102 14.6786 710.508 Q14.3603 710.906 14.0659 712.266 L13.9466 712.775 Q13.6601 714.136 13.0713 714.741 Q12.4745 715.346 11.4401 715.346 Q10.1828 715.346 9.49852 714.454 Q8.81421 713.563 8.81421 711.924 Q8.81421 711.112 8.93356 710.396 Q9.05292 709.68 9.29164 709.075 Z\" fill=\"#000000\" fill-rule=\"evenodd\" fill-opacity=\"1\" /><path clip-path=\"url(#clip430)\" d=\"M 0 0 M9.29164 701.381 L10.6762 701.381 Q10.3579 702.002 10.1987 702.67 Q10.0396 703.338 10.0396 704.054 Q10.0396 705.145 10.3738 705.694 Q10.708 706.235 11.3764 706.235 Q11.8857 706.235 12.1801 705.845 Q12.4665 705.455 12.7291 704.277 L12.8405 703.776 Q13.1747 702.216 13.7874 701.564 Q14.3922 700.903 15.4823 700.903 Q16.7236 700.903 17.4477 701.89 Q18.1718 702.869 18.1718 704.588 Q18.1718 705.304 18.0286 706.084 Q17.8933 706.855 17.6148 707.715 L16.1029 707.715 Q16.5247 706.903 16.7395 706.115 Q16.9464 705.328 16.9464 704.556 Q16.9464 703.521 16.5963 702.964 Q16.2382 702.407 15.5937 702.407 Q14.9969 702.407 14.6786 702.813 Q14.3603 703.211 14.0659 704.572 L13.9466 705.081 Q13.6601 706.442 13.0713 707.046 Q12.4745 707.651 11.4401 707.651 Q10.1828 707.651 9.49852 706.76 Q8.81421 705.869 8.81421 704.23 Q8.81421 703.418 8.93356 702.702 Q9.05292 701.986 9.29164 701.381 Z\" fill=\"#000000\" fill-rule=\"evenodd\" fill-opacity=\"1\" /><path clip-path=\"url(#clip430)\" d=\"M 0 0 M13.4612 695.318 Q13.4612 697.092 13.867 697.776 Q14.2728 698.461 15.2515 698.461 Q16.0313 698.461 16.4928 697.951 Q16.9464 697.434 16.9464 696.551 Q16.9464 695.333 16.087 694.601 Q15.2197 693.861 13.7874 693.861 L13.4612 693.861 L13.4612 695.318 M12.8564 692.397 L17.941 692.397 L17.941 693.861 L16.5883 693.861 Q17.4 694.363 17.7899 695.111 Q18.1718 695.859 18.1718 696.941 Q18.1718 698.309 17.4079 699.121 Q16.6361 699.925 15.347 699.925 Q13.8431 699.925 13.0792 698.922 Q12.3153 697.912 12.3153 695.914 L12.3153 693.861 L12.1721 693.861 Q11.1616 693.861 10.6125 694.53 Q10.0555 695.19 10.0555 696.392 Q10.0555 697.156 10.2385 697.88 Q10.4215 698.604 10.7876 699.272 L9.43486 699.272 Q9.12454 698.469 8.97335 697.713 Q8.81421 696.957 8.81421 696.241 Q8.81421 694.307 9.81681 693.352 Q10.8194 692.397 12.8564 692.397 Z\" fill=\"#000000\" fill-rule=\"evenodd\" fill-opacity=\"1\" /><path clip-path=\"url(#clip430)\" d=\"M 0 0 M14.424 691.013 L9.02905 691.013 L9.02905 689.549 L14.3683 689.549 Q15.6335 689.549 16.27 689.055 Q16.8987 688.562 16.8987 687.575 Q16.8987 686.39 16.1427 685.705 Q15.3868 685.013 14.0818 685.013 L9.02905 685.013 L9.02905 683.549 L17.941 683.549 L17.941 685.013 L16.5724 685.013 Q17.384 685.546 17.7819 686.254 Q18.1718 686.955 18.1718 687.886 Q18.1718 689.421 17.2169 690.217 Q16.2621 691.013 14.424 691.013 M8.81421 687.329 L8.81421 687.329 Z\" fill=\"#000000\" fill-rule=\"evenodd\" fill-opacity=\"1\" /><path clip-path=\"url(#clip430)\" d=\"M 0 0 M5.55974 682.013 L5.55974 680.549 L17.941 680.549 L17.941 682.013 L5.55974 682.013 Z\" fill=\"#000000\" fill-rule=\"evenodd\" fill-opacity=\"1\" /><path clip-path=\"url(#clip430)\" d=\"M 0 0 M6.49868 677.565 L9.02905 677.565 L9.02905 674.549 L10.1669 674.549 L10.1669 677.565 L15.0049 677.565 Q16.095 677.565 16.4053 677.271 Q16.7156 676.968 16.7156 676.053 L16.7156 674.549 L17.941 674.549 L17.941 676.053 Q17.941 677.748 17.3124 678.393 Q16.6759 679.037 15.0049 679.037 L10.1669 679.037 L10.1669 680.111 L9.02905 680.111 L9.02905 679.037 L6.49868 679.037 L6.49868 677.565 Z\" fill=\"#000000\" fill-rule=\"evenodd\" fill-opacity=\"1\" /><path clip-path=\"url(#clip430)\" d=\"M 0 0 M5.57565 673.244 L5.57565 671.971 Q7.45354 670.778 9.25185 670.189 Q11.0502 669.592 12.8246 669.592 Q14.607 669.592 16.4133 670.189 Q18.2195 670.778 20.0895 671.971 L20.0895 673.244 Q18.2673 672.186 16.469 671.669 Q14.6627 671.144 12.8246 671.144 Q10.9865 671.144 9.19615 671.669 Q7.40579 672.186 5.57565 673.244 Z\" fill=\"#000000\" fill-rule=\"evenodd\" fill-opacity=\"1\" /><polyline clip-path=\"url(#clip432)\" style=\"stroke:#000000; stroke-width:1; stroke-opacity:1; fill:none\" points=\"\n",
       "  509.843,237.961 775.206,237.961 \n",
       "  \"/>\n",
       "<polyline clip-path=\"url(#clip432)\" style=\"stroke:#000000; stroke-width:1; stroke-opacity:1; fill:none\" points=\"\n",
       "  143.796,1463.71 407.005,1463.71 \n",
       "  \"/>\n",
       "<line clip-path=\"url(#clip432)\" x1=\"509.843\" y1=\"245.961\" x2=\"509.843\" y2=\"229.961\" style=\"stroke:#000000; stroke-width:3.2; stroke-opacity:1\"/>\n",
       "<line clip-path=\"url(#clip432)\" x1=\"775.206\" y1=\"245.961\" x2=\"775.206\" y2=\"229.961\" style=\"stroke:#000000; stroke-width:3.2; stroke-opacity:1\"/>\n",
       "<line clip-path=\"url(#clip432)\" x1=\"143.796\" y1=\"1471.71\" x2=\"143.796\" y2=\"1455.71\" style=\"stroke:#000000; stroke-width:3.2; stroke-opacity:1\"/>\n",
       "<line clip-path=\"url(#clip432)\" x1=\"407.005\" y1=\"1471.71\" x2=\"407.005\" y2=\"1455.71\" style=\"stroke:#000000; stroke-width:3.2; stroke-opacity:1\"/>\n",
       "<circle clip-path=\"url(#clip432)\" cx=\"642.525\" cy=\"237.961\" r=\"7\" fill=\"#009af9\" fill-rule=\"evenodd\" fill-opacity=\"1\" stroke=\"#000000\" stroke-opacity=\"1\" stroke-width=\"3.2\"/>\n",
       "<circle clip-path=\"url(#clip432)\" cx=\"275.401\" cy=\"1463.71\" r=\"7\" fill=\"#009af9\" fill-rule=\"evenodd\" fill-opacity=\"1\" stroke=\"#000000\" stroke-opacity=\"1\" stroke-width=\"3.2\"/>\n",
       "<polyline clip-path=\"url(#clip432)\" style=\"stroke:#000000; stroke-width:1; stroke-opacity:1; fill:none\" points=\"\n",
       "  726.898,54.0992 928.382,54.0992 \n",
       "  \"/>\n",
       "<polyline clip-path=\"url(#clip432)\" style=\"stroke:#000000; stroke-width:1; stroke-opacity:1; fill:none\" points=\"\n",
       "  325.749,1279.84 524.36,1279.84 \n",
       "  \"/>\n",
       "<line clip-path=\"url(#clip432)\" x1=\"726.898\" y1=\"62.0992\" x2=\"726.898\" y2=\"46.0992\" style=\"stroke:#000000; stroke-width:3.2; stroke-opacity:1\"/>\n",
       "<line clip-path=\"url(#clip432)\" x1=\"928.382\" y1=\"62.0992\" x2=\"928.382\" y2=\"46.0992\" style=\"stroke:#000000; stroke-width:3.2; stroke-opacity:1\"/>\n",
       "<line clip-path=\"url(#clip432)\" x1=\"325.749\" y1=\"1287.84\" x2=\"325.749\" y2=\"1271.84\" style=\"stroke:#000000; stroke-width:3.2; stroke-opacity:1\"/>\n",
       "<line clip-path=\"url(#clip432)\" x1=\"524.36\" y1=\"1287.84\" x2=\"524.36\" y2=\"1271.84\" style=\"stroke:#000000; stroke-width:3.2; stroke-opacity:1\"/>\n",
       "<circle clip-path=\"url(#clip432)\" cx=\"827.64\" cy=\"54.0992\" r=\"7\" fill=\"#e26f46\" fill-rule=\"evenodd\" fill-opacity=\"1\" stroke=\"#000000\" stroke-opacity=\"1\" stroke-width=\"3.2\"/>\n",
       "<circle clip-path=\"url(#clip432)\" cx=\"425.055\" cy=\"1279.84\" r=\"7\" fill=\"#e26f46\" fill-rule=\"evenodd\" fill-opacity=\"1\" stroke=\"#000000\" stroke-opacity=\"1\" stroke-width=\"3.2\"/>\n",
       "<polyline clip-path=\"url(#clip432)\" style=\"stroke:#000000; stroke-width:2; stroke-opacity:1; fill:none\" stroke-dasharray=\"8, 5\" points=\"\n",
       "  1516.13,3000.18 1516.13,-1482.37 \n",
       "  \"/>\n",
       "<path clip-path=\"url(#clip430)\" d=\"\n",
       "M125.426 792.923 L473.286 792.923 L473.286 690.863 L125.426 690.863  Z\n",
       "  \" fill=\"#ffffff\" fill-rule=\"evenodd\" fill-opacity=\"1\"/>\n",
       "<polyline clip-path=\"url(#clip430)\" style=\"stroke:#000000; stroke-width:1; stroke-opacity:1; fill:none\" points=\"\n",
       "  125.426,792.923 473.286,792.923 473.286,690.863 125.426,690.863 125.426,792.923 \n",
       "  \"/>\n",
       "<circle clip-path=\"url(#clip430)\" cx=\"192.68\" cy=\"724.883\" r=\"12\" fill=\"#009af9\" fill-rule=\"evenodd\" fill-opacity=\"1\" stroke=\"#000000\" stroke-opacity=\"1\" stroke-width=\"5.76\"/>\n",
       "<path clip-path=\"url(#clip430)\" d=\"M 0 0 M272.446 715.801 L272.446 718.366 Q270.949 717.65 269.621 717.298 Q268.293 716.947 267.056 716.947 Q264.907 716.947 263.735 717.78 Q262.577 718.613 262.577 720.15 Q262.577 721.439 263.345 722.103 Q264.126 722.754 266.288 723.158 L267.876 723.483 Q270.819 724.043 272.212 725.462 Q273.618 726.869 273.618 729.238 Q273.618 732.064 271.717 733.522 Q269.829 734.981 266.17 734.981 Q264.79 734.981 263.228 734.668 Q261.678 734.356 260.012 733.744 L260.012 731.035 Q261.613 731.934 263.15 732.389 Q264.686 732.845 266.17 732.845 Q268.423 732.845 269.647 731.96 Q270.871 731.074 270.871 729.434 Q270.871 728.001 269.985 727.194 Q269.113 726.387 267.108 725.983 L265.506 725.671 Q262.564 725.085 261.248 723.835 Q259.933 722.585 259.933 720.358 Q259.933 717.78 261.743 716.296 Q263.566 714.811 266.756 714.811 Q268.123 714.811 269.543 715.059 Q270.962 715.306 272.446 715.801 Z\" fill=\"#000000\" fill-rule=\"evenodd\" fill-opacity=\"1\" /><path clip-path=\"url(#clip430)\" d=\"M 0 0 M282.759 727.272 Q279.855 727.272 278.735 727.936 Q277.616 728.6 277.616 730.202 Q277.616 731.478 278.449 732.233 Q279.295 732.975 280.741 732.975 Q282.733 732.975 283.931 731.569 Q285.142 730.15 285.142 727.806 L285.142 727.272 L282.759 727.272 M287.537 726.283 L287.537 734.603 L285.142 734.603 L285.142 732.389 Q284.321 733.718 283.097 734.356 Q281.873 734.981 280.103 734.981 Q277.863 734.981 276.535 733.731 Q275.22 732.468 275.22 730.358 Q275.22 727.897 276.86 726.647 Q278.514 725.397 281.782 725.397 L285.142 725.397 L285.142 725.163 Q285.142 723.509 284.048 722.611 Q282.967 721.699 281.001 721.699 Q279.751 721.699 278.566 721.999 Q277.381 722.298 276.287 722.897 L276.287 720.684 Q277.603 720.176 278.84 719.929 Q280.077 719.668 281.248 719.668 Q284.412 719.668 285.975 721.309 Q287.537 722.949 287.537 726.283 Z\" fill=\"#000000\" fill-rule=\"evenodd\" fill-opacity=\"1\" /><path clip-path=\"url(#clip430)\" d=\"M 0 0 M301.405 722.819 Q302.303 721.205 303.553 720.436 Q304.803 719.668 306.496 719.668 Q308.774 719.668 310.011 721.27 Q311.248 722.858 311.248 725.801 L311.248 734.603 L308.839 734.603 L308.839 725.879 Q308.839 723.783 308.097 722.767 Q307.355 721.751 305.832 721.751 Q303.97 721.751 302.889 722.988 Q301.808 724.225 301.808 726.361 L301.808 734.603 L299.399 734.603 L299.399 725.879 Q299.399 723.77 298.657 722.767 Q297.915 721.751 296.365 721.751 Q294.53 721.751 293.449 723.001 Q292.368 724.238 292.368 726.361 L292.368 734.603 L289.959 734.603 L289.959 720.02 L292.368 720.02 L292.368 722.285 Q293.188 720.944 294.334 720.306 Q295.48 719.668 297.056 719.668 Q298.644 719.668 299.751 720.475 Q300.871 721.283 301.405 722.819 Z\" fill=\"#000000\" fill-rule=\"evenodd\" fill-opacity=\"1\" /><path clip-path=\"url(#clip430)\" d=\"M 0 0 M326.235 726.712 L326.235 727.884 L315.22 727.884 Q315.376 730.358 316.704 731.66 Q318.045 732.949 320.428 732.949 Q321.808 732.949 323.097 732.611 Q324.399 732.272 325.675 731.595 L325.675 733.861 Q324.386 734.408 323.032 734.694 Q321.678 734.981 320.285 734.981 Q316.795 734.981 314.751 732.949 Q312.72 730.918 312.72 727.455 Q312.72 723.874 314.647 721.778 Q316.587 719.668 319.868 719.668 Q322.811 719.668 324.516 721.569 Q326.235 723.457 326.235 726.712 M323.839 726.009 Q323.813 724.043 322.733 722.871 Q321.665 721.699 319.894 721.699 Q317.889 721.699 316.678 722.832 Q315.48 723.965 315.298 726.022 L323.839 726.009 Z\" fill=\"#000000\" fill-rule=\"evenodd\" fill-opacity=\"1\" /><path clip-path=\"url(#clip430)\" d=\"M 0 0 M339.542 732.416 L339.542 740.15 L337.133 740.15 L337.133 720.02 L339.542 720.02 L339.542 722.233 Q340.298 720.931 341.443 720.306 Q342.602 719.668 344.204 719.668 Q346.86 719.668 348.514 721.778 Q350.18 723.887 350.18 727.324 Q350.18 730.762 348.514 732.871 Q346.86 734.981 344.204 734.981 Q342.602 734.981 341.443 734.356 Q340.298 733.718 339.542 732.416 M347.693 727.324 Q347.693 724.681 346.6 723.184 Q345.519 721.673 343.618 721.673 Q341.717 721.673 340.623 723.184 Q339.542 724.681 339.542 727.324 Q339.542 729.968 340.623 731.478 Q341.717 732.975 343.618 732.975 Q345.519 732.975 346.6 731.478 Q347.693 729.968 347.693 727.324 Z\" fill=\"#000000\" fill-rule=\"evenodd\" fill-opacity=\"1\" /><path clip-path=\"url(#clip430)\" d=\"M 0 0 M359.321 727.272 Q356.417 727.272 355.297 727.936 Q354.178 728.6 354.178 730.202 Q354.178 731.478 355.011 732.233 Q355.857 732.975 357.303 732.975 Q359.295 732.975 360.493 731.569 Q361.704 730.15 361.704 727.806 L361.704 727.272 L359.321 727.272 M364.099 726.283 L364.099 734.603 L361.704 734.603 L361.704 732.389 Q360.883 733.718 359.659 734.356 Q358.435 734.981 356.665 734.981 Q354.425 734.981 353.097 733.731 Q351.782 732.468 351.782 730.358 Q351.782 727.897 353.422 726.647 Q355.076 725.397 358.344 725.397 L361.704 725.397 L361.704 725.163 Q361.704 723.509 360.61 722.611 Q359.529 721.699 357.563 721.699 Q356.313 721.699 355.128 721.999 Q353.943 722.298 352.85 722.897 L352.85 720.684 Q354.165 720.176 355.402 719.929 Q356.639 719.668 357.81 719.668 Q360.975 719.668 362.537 721.309 Q364.099 722.949 364.099 726.283 Z\" fill=\"#000000\" fill-rule=\"evenodd\" fill-opacity=\"1\" /><path clip-path=\"url(#clip430)\" d=\"M 0 0 M375.063 722.259 Q374.659 722.025 374.178 721.921 Q373.709 721.804 373.136 721.804 Q371.105 721.804 370.011 723.132 Q368.93 724.447 368.93 726.921 L368.93 734.603 L366.521 734.603 L366.521 720.02 L368.93 720.02 L368.93 722.285 Q369.685 720.957 370.896 720.319 Q372.107 719.668 373.839 719.668 Q374.086 719.668 374.386 719.707 Q374.685 719.733 375.05 719.798 L375.063 722.259 Z\" fill=\"#000000\" fill-rule=\"evenodd\" fill-opacity=\"1\" /><path clip-path=\"url(#clip430)\" d=\"M 0 0 M379.946 715.879 L379.946 720.02 L384.881 720.02 L384.881 721.882 L379.946 721.882 L379.946 729.798 Q379.946 731.582 380.428 732.09 Q380.922 732.598 382.42 732.598 L384.881 732.598 L384.881 734.603 L382.42 734.603 Q379.646 734.603 378.592 733.574 Q377.537 732.533 377.537 729.798 L377.537 721.882 L375.779 721.882 L375.779 720.02 L377.537 720.02 L377.537 715.879 L379.946 715.879 Z\" fill=\"#000000\" fill-rule=\"evenodd\" fill-opacity=\"1\" /><path clip-path=\"url(#clip430)\" d=\"M 0 0 M393.461 735.957 Q392.446 738.561 391.482 739.356 Q390.519 740.15 388.904 740.15 L386.99 740.15 L386.99 738.145 L388.396 738.145 Q389.386 738.145 389.933 737.676 Q390.48 737.207 391.144 735.462 L391.573 734.369 L385.675 720.02 L388.214 720.02 L392.771 731.426 L397.328 720.02 L399.868 720.02 L393.461 735.957 Z\" fill=\"#000000\" fill-rule=\"evenodd\" fill-opacity=\"1\" /><circle clip-path=\"url(#clip430)\" cx=\"192.68\" cy=\"758.903\" r=\"12\" fill=\"#e26f46\" fill-rule=\"evenodd\" fill-opacity=\"1\" stroke=\"#000000\" stroke-opacity=\"1\" stroke-width=\"5.76\"/>\n",
       "<path clip-path=\"url(#clip430)\" d=\"M 0 0 M268.944 750.967 Q266.079 750.967 264.386 753.102 Q262.707 755.238 262.707 758.923 Q262.707 762.594 264.386 764.73 Q266.079 766.865 268.944 766.865 Q271.808 766.865 273.475 764.73 Q275.155 762.594 275.155 758.923 Q275.155 755.238 273.475 753.102 Q271.808 750.967 268.944 750.967 M268.944 748.831 Q273.032 748.831 275.48 751.579 Q277.928 754.313 277.928 758.923 Q277.928 763.519 275.48 766.266 Q273.032 769.001 268.944 769.001 Q264.842 769.001 262.381 766.266 Q259.933 763.532 259.933 758.923 Q259.933 754.313 262.381 751.579 Q264.842 748.831 268.944 748.831 Z\" fill=\"#000000\" fill-rule=\"evenodd\" fill-opacity=\"1\" /><path clip-path=\"url(#clip430)\" d=\"M 0 0 M282.759 766.436 L282.759 774.17 L280.35 774.17 L280.35 754.04 L282.759 754.04 L282.759 756.253 Q283.514 754.951 284.66 754.326 Q285.819 753.688 287.42 753.688 Q290.076 753.688 291.73 755.798 Q293.397 757.907 293.397 761.344 Q293.397 764.782 291.73 766.891 Q290.076 769.001 287.42 769.001 Q285.819 769.001 284.66 768.376 Q283.514 767.738 282.759 766.436 M290.91 761.344 Q290.91 758.701 289.816 757.204 Q288.735 755.693 286.834 755.693 Q284.933 755.693 283.84 757.204 Q282.759 758.701 282.759 761.344 Q282.759 763.988 283.84 765.498 Q284.933 766.995 286.834 766.995 Q288.735 766.995 289.816 765.498 Q290.91 763.988 290.91 761.344 Z\" fill=\"#000000\" fill-rule=\"evenodd\" fill-opacity=\"1\" /><path clip-path=\"url(#clip430)\" d=\"M 0 0 M298.227 766.436 L298.227 774.17 L295.819 774.17 L295.819 754.04 L298.227 754.04 L298.227 756.253 Q298.983 754.951 300.128 754.326 Q301.287 753.688 302.889 753.688 Q305.545 753.688 307.199 755.798 Q308.865 757.907 308.865 761.344 Q308.865 764.782 307.199 766.891 Q305.545 769.001 302.889 769.001 Q301.287 769.001 300.128 768.376 Q298.983 767.738 298.227 766.436 M306.378 761.344 Q306.378 758.701 305.285 757.204 Q304.204 755.693 302.303 755.693 Q300.402 755.693 299.308 757.204 Q298.227 758.701 298.227 761.344 Q298.227 763.988 299.308 765.498 Q300.402 766.995 302.303 766.995 Q304.204 766.995 305.285 765.498 Q306.378 763.988 306.378 761.344 Z\" fill=\"#000000\" fill-rule=\"evenodd\" fill-opacity=\"1\" /><path clip-path=\"url(#clip430)\" d=\"M 0 0 M317.029 755.719 Q315.102 755.719 313.983 757.23 Q312.863 758.727 312.863 761.344 Q312.863 763.962 313.97 765.472 Q315.089 766.969 317.029 766.969 Q318.943 766.969 320.063 765.459 Q321.183 763.949 321.183 761.344 Q321.183 758.753 320.063 757.243 Q318.943 755.719 317.029 755.719 M317.029 753.688 Q320.154 753.688 321.938 755.719 Q323.722 757.751 323.722 761.344 Q323.722 764.925 321.938 766.969 Q320.154 769.001 317.029 769.001 Q313.891 769.001 312.108 766.969 Q310.337 764.925 310.337 761.344 Q310.337 757.751 312.108 755.719 Q313.891 753.688 317.029 753.688 Z\" fill=\"#000000\" fill-rule=\"evenodd\" fill-opacity=\"1\" /><path clip-path=\"url(#clip430)\" d=\"M 0 0 M335.532 754.469 L335.532 756.735 Q334.516 756.214 333.423 755.954 Q332.329 755.693 331.157 755.693 Q329.373 755.693 328.475 756.24 Q327.589 756.787 327.589 757.881 Q327.589 758.714 328.227 759.196 Q328.865 759.665 330.792 760.094 L331.613 760.277 Q334.165 760.824 335.232 761.826 Q336.313 762.816 336.313 764.6 Q336.313 766.631 334.699 767.816 Q333.097 769.001 330.285 769.001 Q329.113 769.001 327.837 768.766 Q326.574 768.545 325.167 768.089 L325.167 765.615 Q326.496 766.305 327.785 766.657 Q329.074 766.995 330.337 766.995 Q332.029 766.995 332.941 766.422 Q333.852 765.837 333.852 764.782 Q333.852 763.805 333.188 763.284 Q332.537 762.764 330.311 762.282 L329.477 762.087 Q327.251 761.618 326.261 760.654 Q325.272 759.678 325.272 757.985 Q325.272 755.928 326.73 754.808 Q328.188 753.688 330.871 753.688 Q332.199 753.688 333.37 753.883 Q334.542 754.079 335.532 754.469 Z\" fill=\"#000000\" fill-rule=\"evenodd\" fill-opacity=\"1\" /><path clip-path=\"url(#clip430)\" d=\"M 0 0 M338.826 754.04 L341.222 754.04 L341.222 768.623 L338.826 768.623 L338.826 754.04 M338.826 748.363 L341.222 748.363 L341.222 751.397 L338.826 751.397 L338.826 748.363 Z\" fill=\"#000000\" fill-rule=\"evenodd\" fill-opacity=\"1\" /><path clip-path=\"url(#clip430)\" d=\"M 0 0 M346.105 749.899 L346.105 754.04 L351.04 754.04 L351.04 755.902 L346.105 755.902 L346.105 763.818 Q346.105 765.602 346.587 766.11 Q347.081 766.618 348.579 766.618 L351.04 766.618 L351.04 768.623 L348.579 768.623 Q345.805 768.623 344.751 767.594 Q343.696 766.553 343.696 763.818 L343.696 755.902 L341.938 755.902 L341.938 754.04 L343.696 754.04 L343.696 749.899 L346.105 749.899 Z\" fill=\"#000000\" fill-rule=\"evenodd\" fill-opacity=\"1\" /><path clip-path=\"url(#clip430)\" d=\"M 0 0 M366.027 760.732 L366.027 761.904 L355.011 761.904 Q355.167 764.378 356.495 765.68 Q357.837 766.969 360.219 766.969 Q361.6 766.969 362.889 766.631 Q364.191 766.292 365.467 765.615 L365.467 767.881 Q364.178 768.428 362.823 768.714 Q361.469 769.001 360.076 769.001 Q356.587 769.001 354.542 766.969 Q352.511 764.938 352.511 761.475 Q352.511 757.894 354.438 755.798 Q356.378 753.688 359.659 753.688 Q362.602 753.688 364.308 755.589 Q366.027 757.477 366.027 760.732 M363.631 760.029 Q363.605 758.063 362.524 756.891 Q361.456 755.719 359.685 755.719 Q357.68 755.719 356.469 756.852 Q355.271 757.985 355.089 760.042 L363.631 760.029 Z\" fill=\"#000000\" fill-rule=\"evenodd\" fill-opacity=\"1\" /><path clip-path=\"url(#clip430)\" d=\"M 0 0 M379.334 766.436 L379.334 774.17 L376.925 774.17 L376.925 754.04 L379.334 754.04 L379.334 756.253 Q380.089 754.951 381.235 754.326 Q382.394 753.688 383.995 753.688 Q386.651 753.688 388.305 755.798 Q389.972 757.907 389.972 761.344 Q389.972 764.782 388.305 766.891 Q386.651 769.001 383.995 769.001 Q382.394 769.001 381.235 768.376 Q380.089 767.738 379.334 766.436 M387.485 761.344 Q387.485 758.701 386.391 757.204 Q385.31 755.693 383.409 755.693 Q381.508 755.693 380.415 757.204 Q379.334 758.701 379.334 761.344 Q379.334 763.988 380.415 765.498 Q381.508 766.995 383.409 766.995 Q385.31 766.995 386.391 765.498 Q387.485 763.988 387.485 761.344 Z\" fill=\"#000000\" fill-rule=\"evenodd\" fill-opacity=\"1\" /><path clip-path=\"url(#clip430)\" d=\"M 0 0 M399.112 761.292 Q396.209 761.292 395.089 761.956 Q393.969 762.62 393.969 764.222 Q393.969 765.498 394.802 766.253 Q395.649 766.995 397.094 766.995 Q399.086 766.995 400.284 765.589 Q401.495 764.17 401.495 761.826 L401.495 761.292 L399.112 761.292 M403.891 760.303 L403.891 768.623 L401.495 768.623 L401.495 766.409 Q400.675 767.738 399.451 768.376 Q398.227 769.001 396.456 769.001 Q394.217 769.001 392.888 767.751 Q391.573 766.488 391.573 764.378 Q391.573 761.917 393.214 760.667 Q394.868 759.417 398.136 759.417 L401.495 759.417 L401.495 759.183 Q401.495 757.529 400.401 756.631 Q399.321 755.719 397.355 755.719 Q396.105 755.719 394.92 756.019 Q393.735 756.318 392.641 756.917 L392.641 754.704 Q393.956 754.196 395.193 753.949 Q396.43 753.688 397.602 753.688 Q400.766 753.688 402.328 755.329 Q403.891 756.969 403.891 760.303 Z\" fill=\"#000000\" fill-rule=\"evenodd\" fill-opacity=\"1\" /><path clip-path=\"url(#clip430)\" d=\"M 0 0 M414.854 756.279 Q414.451 756.045 413.969 755.941 Q413.5 755.824 412.927 755.824 Q410.896 755.824 409.802 757.152 Q408.722 758.467 408.722 760.941 L408.722 768.623 L406.313 768.623 L406.313 754.04 L408.722 754.04 L408.722 756.305 Q409.477 754.977 410.688 754.339 Q411.899 753.688 413.63 753.688 Q413.878 753.688 414.177 753.727 Q414.477 753.753 414.841 753.818 L414.854 756.279 Z\" fill=\"#000000\" fill-rule=\"evenodd\" fill-opacity=\"1\" /><path clip-path=\"url(#clip430)\" d=\"M 0 0 M419.737 749.899 L419.737 754.04 L424.672 754.04 L424.672 755.902 L419.737 755.902 L419.737 763.818 Q419.737 765.602 420.219 766.11 Q420.714 766.618 422.211 766.618 L424.672 766.618 L424.672 768.623 L422.211 768.623 Q419.438 768.623 418.383 767.594 Q417.328 766.553 417.328 763.818 L417.328 755.902 L415.571 755.902 L415.571 754.04 L417.328 754.04 L417.328 749.899 L419.737 749.899 Z\" fill=\"#000000\" fill-rule=\"evenodd\" fill-opacity=\"1\" /><path clip-path=\"url(#clip430)\" d=\"M 0 0 M433.253 769.977 Q432.237 772.581 431.274 773.376 Q430.31 774.17 428.696 774.17 L426.781 774.17 L426.781 772.165 L428.188 772.165 Q429.177 772.165 429.724 771.696 Q430.271 771.227 430.935 769.482 L431.365 768.389 L425.466 754.04 L428.005 754.04 L432.563 765.446 L437.12 754.04 L439.659 754.04 L433.253 769.977 Z\" fill=\"#000000\" fill-rule=\"evenodd\" fill-opacity=\"1\" /><path clip-path=\"url(#clip430)\" d=\"M 0 0 M1309.42 1335.59 L1306.65 1343.11 L1312.21 1343.11 L1309.42 1335.59 M1308.27 1333.57 L1310.59 1333.57 L1316.35 1348.69 L1314.23 1348.69 L1312.85 1344.81 L1306.03 1344.81 L1304.65 1348.69 L1302.5 1348.69 L1308.27 1333.57 Z\" fill=\"#000000\" fill-rule=\"evenodd\" fill-opacity=\"1\" /><path clip-path=\"url(#clip430)\" d=\"M 0 0 M1325.54 1337.68 L1325.54 1339.45 Q1324.75 1339.04 1323.9 1338.84 Q1323.05 1338.64 1322.13 1338.64 Q1320.75 1338.64 1320.05 1339.06 Q1319.36 1339.49 1319.36 1340.34 Q1319.36 1340.99 1319.86 1341.36 Q1320.35 1341.72 1321.85 1342.06 L1322.49 1342.2 Q1324.47 1342.63 1325.3 1343.41 Q1326.14 1344.18 1326.14 1345.56 Q1326.14 1347.14 1324.89 1348.06 Q1323.64 1348.99 1321.46 1348.99 Q1320.54 1348.99 1319.55 1348.8 Q1318.57 1348.63 1317.48 1348.28 L1317.48 1346.35 Q1318.51 1346.89 1319.51 1347.16 Q1320.51 1347.43 1321.5 1347.43 Q1322.81 1347.43 1323.52 1346.98 Q1324.23 1346.52 1324.23 1345.7 Q1324.23 1344.95 1323.71 1344.54 Q1323.21 1344.13 1321.48 1343.76 L1320.83 1343.61 Q1319.1 1343.24 1318.33 1342.49 Q1317.56 1341.73 1317.56 1340.42 Q1317.56 1338.82 1318.69 1337.95 Q1319.83 1337.08 1321.91 1337.08 Q1322.94 1337.08 1323.86 1337.23 Q1324.77 1337.38 1325.54 1337.68 Z\" fill=\"#000000\" fill-rule=\"evenodd\" fill-opacity=\"1\" /><path clip-path=\"url(#clip430)\" d=\"M 0 0 M1335.33 1337.68 L1335.33 1339.45 Q1334.54 1339.04 1333.69 1338.84 Q1332.84 1338.64 1331.93 1338.64 Q1330.54 1338.64 1329.84 1339.06 Q1329.15 1339.49 1329.15 1340.34 Q1329.15 1340.99 1329.65 1341.36 Q1330.15 1341.72 1331.64 1342.06 L1332.28 1342.2 Q1334.27 1342.63 1335.1 1343.41 Q1335.94 1344.18 1335.94 1345.56 Q1335.94 1347.14 1334.68 1348.06 Q1333.44 1348.99 1331.25 1348.99 Q1330.34 1348.99 1329.35 1348.8 Q1328.36 1348.63 1327.27 1348.28 L1327.27 1346.35 Q1328.3 1346.89 1329.3 1347.16 Q1330.31 1347.43 1331.29 1347.43 Q1332.61 1347.43 1333.31 1346.98 Q1334.02 1346.52 1334.02 1345.7 Q1334.02 1344.95 1333.51 1344.54 Q1333 1344.13 1331.27 1343.76 L1330.62 1343.61 Q1328.89 1343.24 1328.12 1342.49 Q1327.35 1341.73 1327.35 1340.42 Q1327.35 1338.82 1328.48 1337.95 Q1329.62 1337.08 1331.7 1337.08 Q1332.74 1337.08 1333.65 1337.23 Q1334.56 1337.38 1335.33 1337.68 Z\" fill=\"#000000\" fill-rule=\"evenodd\" fill-opacity=\"1\" /><path clip-path=\"url(#clip430)\" d=\"M 0 0 M1343.05 1342.99 Q1340.79 1342.99 1339.92 1343.51 Q1339.05 1344.02 1339.05 1345.27 Q1339.05 1346.26 1339.7 1346.85 Q1340.35 1347.43 1341.48 1347.43 Q1343.03 1347.43 1343.96 1346.33 Q1344.9 1345.23 1344.9 1343.41 L1344.9 1342.99 L1343.05 1342.99 M1346.76 1342.22 L1346.76 1348.69 L1344.9 1348.69 L1344.9 1346.97 Q1344.26 1348 1343.31 1348.5 Q1342.36 1348.99 1340.98 1348.99 Q1339.24 1348.99 1338.21 1348.01 Q1337.18 1347.03 1337.18 1345.39 Q1337.18 1343.48 1338.46 1342.5 Q1339.75 1341.53 1342.29 1341.53 L1344.9 1341.53 L1344.9 1341.35 Q1344.9 1340.06 1344.05 1339.36 Q1343.21 1338.66 1341.68 1338.66 Q1340.71 1338.66 1339.79 1338.89 Q1338.86 1339.12 1338.01 1339.59 L1338.01 1337.87 Q1339.04 1337.47 1340 1337.28 Q1340.96 1337.08 1341.87 1337.08 Q1344.33 1337.08 1345.55 1338.35 Q1346.76 1339.63 1346.76 1342.22 Z\" fill=\"#000000\" fill-rule=\"evenodd\" fill-opacity=\"1\" /><path clip-path=\"url(#clip430)\" d=\"M 0 0 M1348.53 1344.22 L1348.53 1337.35 L1350.39 1337.35 L1350.39 1344.15 Q1350.39 1345.76 1351.02 1346.57 Q1351.65 1347.37 1352.9 1347.37 Q1354.41 1347.37 1355.28 1346.4 Q1356.16 1345.44 1356.16 1343.78 L1356.16 1337.35 L1358.03 1337.35 L1358.03 1348.69 L1356.16 1348.69 L1356.16 1346.95 Q1355.48 1347.98 1354.58 1348.49 Q1353.69 1348.99 1352.51 1348.99 Q1350.55 1348.99 1349.54 1347.77 Q1348.53 1346.56 1348.53 1344.22 M1353.22 1337.08 L1353.22 1337.08 Z\" fill=\"#000000\" fill-rule=\"evenodd\" fill-opacity=\"1\" /><path clip-path=\"url(#clip430)\" d=\"M 0 0 M1359.98 1332.93 L1361.84 1332.93 L1361.84 1348.69 L1359.98 1348.69 L1359.98 1332.93 Z\" fill=\"#000000\" fill-rule=\"evenodd\" fill-opacity=\"1\" /><path clip-path=\"url(#clip430)\" d=\"M 0 0 M1365.64 1334.13 L1365.64 1337.35 L1369.48 1337.35 L1369.48 1338.8 L1365.64 1338.8 L1365.64 1344.96 Q1365.64 1346.34 1366.02 1346.74 Q1366.4 1347.13 1367.57 1347.13 L1369.48 1347.13 L1369.48 1348.69 L1367.57 1348.69 Q1365.41 1348.69 1364.59 1347.89 Q1363.77 1347.08 1363.77 1344.96 L1363.77 1338.8 L1362.4 1338.8 L1362.4 1337.35 L1363.77 1337.35 L1363.77 1334.13 L1365.64 1334.13 Z\" fill=\"#000000\" fill-rule=\"evenodd\" fill-opacity=\"1\" /><path clip-path=\"url(#clip430)\" d=\"M 0 0 M1314.41 107.827 L1316.46 107.827 L1316.46 121.893 Q1316.46 124.628 1315.42 125.863 Q1314.38 127.099 1312.08 127.099 L1311.3 127.099 L1311.3 125.377 L1311.94 125.377 Q1313.3 125.377 1313.86 124.618 Q1314.41 123.858 1314.41 121.893 L1314.41 107.827 Z\" fill=\"#000000\" fill-rule=\"evenodd\" fill-opacity=\"1\" /><path clip-path=\"url(#clip430)\" d=\"M 0 0 M1322.81 112.91 Q1321.31 112.91 1320.44 114.085 Q1319.57 115.25 1319.57 117.285 Q1319.57 119.321 1320.43 120.496 Q1321.3 121.66 1322.81 121.66 Q1324.3 121.66 1325.17 120.486 Q1326.04 119.311 1326.04 117.285 Q1326.04 115.27 1325.17 114.095 Q1324.3 112.91 1322.81 112.91 M1322.81 111.331 Q1325.24 111.331 1326.63 112.91 Q1328.01 114.49 1328.01 117.285 Q1328.01 120.07 1326.63 121.66 Q1325.24 123.24 1322.81 123.24 Q1320.37 123.24 1318.98 121.66 Q1317.6 120.07 1317.6 117.285 Q1317.6 114.49 1318.98 112.91 Q1320.37 111.331 1322.81 111.331 Z\" fill=\"#000000\" fill-rule=\"evenodd\" fill-opacity=\"1\" /><path clip-path=\"url(#clip430)\" d=\"M 0 0 M1329.9 107.189 L1331.77 107.189 L1331.77 116.495 L1337.33 111.604 L1339.71 111.604 L1333.69 116.911 L1339.96 122.947 L1337.53 122.947 L1331.77 117.407 L1331.77 122.947 L1329.9 122.947 L1329.9 107.189 Z\" fill=\"#000000\" fill-rule=\"evenodd\" fill-opacity=\"1\" /><path clip-path=\"url(#clip430)\" d=\"M 0 0 M1350.88 116.809 L1350.88 117.721 L1342.31 117.721 Q1342.43 119.645 1343.47 120.658 Q1344.51 121.66 1346.36 121.66 Q1347.44 121.66 1348.44 121.397 Q1349.45 121.134 1350.45 120.607 L1350.45 122.369 Q1349.44 122.795 1348.39 123.017 Q1347.34 123.24 1346.25 123.24 Q1343.54 123.24 1341.95 121.66 Q1340.37 120.081 1340.37 117.387 Q1340.37 114.602 1341.87 112.971 Q1343.38 111.331 1345.93 111.331 Q1348.22 111.331 1349.54 112.809 Q1350.88 114.278 1350.88 116.809 M1349.02 116.263 Q1349 114.733 1348.16 113.822 Q1347.33 112.91 1345.95 112.91 Q1344.39 112.91 1343.45 113.791 Q1342.52 114.673 1342.37 116.273 L1349.02 116.263 Z\" fill=\"#000000\" fill-rule=\"evenodd\" fill-opacity=\"1\" /><path clip-path=\"url(#clip430)\" d=\"M 0 0 M1360.07 111.938 L1360.07 113.7 Q1359.28 113.295 1358.43 113.093 Q1357.57 112.89 1356.66 112.89 Q1355.28 112.89 1354.58 113.316 Q1353.89 113.741 1353.89 114.592 Q1353.89 115.24 1354.38 115.614 Q1354.88 115.979 1356.38 116.313 L1357.02 116.455 Q1359 116.88 1359.83 117.66 Q1360.67 118.43 1360.67 119.817 Q1360.67 121.397 1359.42 122.319 Q1358.17 123.24 1355.98 123.24 Q1355.07 123.24 1354.08 123.058 Q1353.1 122.886 1352 122.531 L1352 120.607 Q1353.04 121.144 1354.04 121.417 Q1355.04 121.681 1356.03 121.681 Q1357.34 121.681 1358.05 121.235 Q1358.76 120.779 1358.76 119.959 Q1358.76 119.199 1358.24 118.794 Q1357.74 118.389 1356.01 118.015 L1355.36 117.863 Q1353.63 117.498 1352.86 116.749 Q1352.09 115.989 1352.09 114.673 Q1352.09 113.072 1353.22 112.202 Q1354.35 111.331 1356.44 111.331 Q1357.47 111.331 1358.38 111.482 Q1359.3 111.634 1360.07 111.938 Z\" fill=\"#000000\" fill-rule=\"evenodd\" fill-opacity=\"1\" /></svg>\n"
      ]
     },
     "execution_count": 78,
     "metadata": {},
     "output_type": "execute_result"
    }
   ],
   "source": [
    "# switch to make horizontal, matching layout in publication\n",
    "plot(coefdf.coef1, int(CategoricalArray(coefdf.name), type=Int), seriestype = :scatter, xerror=1.96*coefdf.err1,\n",
    "    markersize=8,\n",
    "    xtickfontsize=18,\n",
    "    #ytickfontsize=18,\n",
    "    #tickfontcolor = false,\n",
    "    #yshowaxis=false,\n",
    "    xlabel=\"average treatment effect\",\n",
    "    xguidefontsize=18,\n",
    "    xlim = (-40,2),\n",
    "    ylabel=\"condition (Jokes, Assault)\",\n",
    "    #yguidefontsize=18,\n",
    "    label = (\"Same party\"),\n",
    "    legendfontsize=18,\n",
    "    #ytickfontcolor = \"white\",\n",
    "    ytickfontsize = 1, # eliminates tick labels\n",
    "    size=(1600,1600),\n",
    "    #legend=false,\n",
    "        legend = :left #:outertopleft\n",
    "       )\n",
    "plot!(coefdf.coef2, int(CategoricalArray(coefdf.name), type=Int).+.15, seriestype = :scatter, label = (\"Opposite party\"), \n",
    "            xerror=1.96*coefdf.err2, \n",
    "            markersize=8\n",
    "       )\n",
    "vline!([0], seriestype = \"vline\", lw=2, ls=:dash, lc=\"black\", label = false)\n",
    "annotate!(-5, 1.1, \"Assault\", :black)\n",
    "annotate!(-5, 2.1, \"Jokes\", :black)"
   ]
  },
  {
   "cell_type": "code",
   "execution_count": 79,
   "metadata": {},
   "outputs": [],
   "source": [
    "savefig(\"./figures/fig1.png\") "
   ]
  },
  {
   "cell_type": "code",
   "execution_count": null,
   "metadata": {},
   "outputs": [],
   "source": [
    "# Figure 2"
   ]
  },
  {
   "cell_type": "code",
   "execution_count": 80,
   "metadata": {},
   "outputs": [
    {
     "data": {
      "text/plain": [
       "StatsModels.TableRegressionModel{LinearModel{GLM.LmResp{Array{Float64,1}},GLM.DensePredChol{Float64,LinearAlgebra.Cholesky{Float64,Array{Float64,2}}}},Array{Float64,2}}\n",
       "\n",
       "perchange_vote ~ 1 + condition2\n",
       "\n",
       "Coefficients:\n",
       "──────────────────────────────────────────────────────────────────────────────────\n",
       "                         Coef.  Std. Error       t  Pr(>|t|)  Lower 95%  Upper 95%\n",
       "──────────────────────────────────────────────────────────────────────────────────\n",
       "(Intercept)            5.72054     1.6092     3.55    0.0004    2.56436    8.87672\n",
       "condition2: Jokes    -19.1207      2.28271   -8.38    <1e-15  -23.5978   -14.6435\n",
       "condition2: Assault  -28.0746      2.26418  -12.40    <1e-33  -32.5154   -23.6338\n",
       "──────────────────────────────────────────────────────────────────────────────────"
      ]
     },
     "execution_count": 80,
     "metadata": {},
     "output_type": "execute_result"
    }
   ],
   "source": [
    "m2a = lm(@formula(perchange_vote ~ condition2), samepartydat)\n",
    "m2b = lm(@formula(perchange_vote ~ condition2), opppartydat)\n",
    "m2a"
   ]
  },
  {
   "cell_type": "code",
   "execution_count": 81,
   "metadata": {},
   "outputs": [
    {
     "data": {
      "text/plain": [
       "StatsModels.TableRegressionModel{LinearModel{GLM.LmResp{Array{Float64,1}},GLM.DensePredChol{Float64,LinearAlgebra.Cholesky{Float64,Array{Float64,2}}}},Array{Float64,2}}\n",
       "\n",
       "perchange_vote ~ 1 + condition2\n",
       "\n",
       "Coefficients:\n",
       "───────────────────────────────────────────────────────────────────────────────────\n",
       "                         Coef.  Std. Error       t  Pr(>|t|)   Lower 95%  Upper 95%\n",
       "───────────────────────────────────────────────────────────────────────────────────\n",
       "(Intercept)            3.61004     1.33628    2.70    0.0070    0.989138    6.23095\n",
       "condition2: Jokes    -17.595       1.90162   -9.25    <1e-19  -21.3248    -13.8653\n",
       "condition2: Assault  -27.849       1.87451  -14.86    <1e-46  -31.5256    -24.1725\n",
       "───────────────────────────────────────────────────────────────────────────────────"
      ]
     },
     "execution_count": 81,
     "metadata": {},
     "output_type": "execute_result"
    }
   ],
   "source": [
    "m2b"
   ]
  },
  {
   "cell_type": "code",
   "execution_count": 82,
   "metadata": {},
   "outputs": [
    {
     "data": {
      "text/html": [
       "<table class=\"data-frame\"><thead><tr><th></th><th>name</th><th>nameb</th><th>coef1</th><th>err1</th><th>upper1</th><th>lower1</th><th>coef2</th><th>err2</th></tr><tr><th></th><th>String</th><th>String</th><th>Float64</th><th>Float64</th><th>Float64</th><th>Float64</th><th>Float64</th><th>Float64</th></tr></thead><tbody><p>2 rows × 10 columns (omitted printing of 2 columns)</p><tr><th>1</th><td>condition2: Jokes</td><td>Jokes</td><td>-19.1207</td><td>2.28271</td><td>-14.6465</td><td>-23.5948</td><td>-17.595</td><td>1.90162</td></tr><tr><th>2</th><td>condition2: Assault</td><td>Assault</td><td>-28.0746</td><td>2.26418</td><td>-23.6368</td><td>-32.5124</td><td>-27.849</td><td>1.87451</td></tr></tbody></table>"
      ],
      "text/latex": [
       "\\begin{tabular}{r|ccccccccc}\n",
       "\t& name & nameb & coef1 & err1 & upper1 & lower1 & coef2 & err2 & \\\\\n",
       "\t\\hline\n",
       "\t& String & String & Float64 & Float64 & Float64 & Float64 & Float64 & Float64 & \\\\\n",
       "\t\\hline\n",
       "\t1 & condition2: Jokes & Jokes & -19.1207 & 2.28271 & -14.6465 & -23.5948 & -17.595 & 1.90162 & $\\dots$ \\\\\n",
       "\t2 & condition2: Assault & Assault & -28.0746 & 2.26418 & -23.6368 & -32.5124 & -27.849 & 1.87451 & $\\dots$ \\\\\n",
       "\\end{tabular}\n"
      ],
      "text/plain": [
       "2×10 DataFrame. Omitted printing of 5 columns\n",
       "│ Row │ name                │ nameb   │ coef1    │ err1    │ upper1   │\n",
       "│     │ \u001b[90mString\u001b[39m              │ \u001b[90mString\u001b[39m  │ \u001b[90mFloat64\u001b[39m  │ \u001b[90mFloat64\u001b[39m │ \u001b[90mFloat64\u001b[39m  │\n",
       "├─────┼─────────────────────┼─────────┼──────────┼─────────┼──────────┤\n",
       "│ 1   │ condition2: Jokes   │ Jokes   │ -19.1207 │ 2.28271 │ -14.6465 │\n",
       "│ 2   │ condition2: Assault │ Assault │ -28.0746 │ 2.26418 │ -23.6368 │"
      ]
     },
     "execution_count": 82,
     "metadata": {},
     "output_type": "execute_result"
    }
   ],
   "source": [
    "coefdf = DataFrame()\n",
    "coefdf.name = coefnames(m2a)[2:end] # no intercept\n",
    "coefdf.nameb = [\"Jokes\", \"Assault\"]\n",
    "coefdf.coef1 = coef(m2a)[2:end]\n",
    "coefdf.err1 = stderror(m2a)[2:end]\n",
    "coefdf.upper1 = coefdf.coef1 + 1.96*coefdf.err1\n",
    "coefdf.lower1 = coefdf.coef1 - 1.96*coefdf.err1\n",
    "coefdf.coef2 = coef(m2b)[2:end]\n",
    "coefdf.err2 = stderror(m2b)[2:end]\n",
    "coefdf.upper2 = coefdf.coef2 + 1.96*coefdf.err2\n",
    "coefdf.lower2 = coefdf.coef2 - 1.96*coefdf.err2\n",
    "\n",
    "coefdf"
   ]
  },
  {
   "cell_type": "code",
   "execution_count": 83,
   "metadata": {},
   "outputs": [
    {
     "data": {
      "image/svg+xml": [
       "<?xml version=\"1.0\" encoding=\"utf-8\"?>\n",
       "<svg xmlns=\"http://www.w3.org/2000/svg\" xmlns:xlink=\"http://www.w3.org/1999/xlink\" width=\"400\" height=\"400\" viewBox=\"0 0 1600 1600\">\n",
       "<defs>\n",
       "  <clipPath id=\"clip480\">\n",
       "    <rect x=\"0\" y=\"0\" width=\"1600\" height=\"1600\"/>\n",
       "  </clipPath>\n",
       "</defs>\n",
       "<path clip-path=\"url(#clip480)\" d=\"\n",
       "M0 1600 L1600 1600 L1600 0 L0 0  Z\n",
       "  \" fill=\"#ffffff\" fill-rule=\"evenodd\" fill-opacity=\"1\"/>\n",
       "<defs>\n",
       "  <clipPath id=\"clip481\">\n",
       "    <rect x=\"320\" y=\"160\" width=\"1121\" height=\"1121\"/>\n",
       "  </clipPath>\n",
       "</defs>\n",
       "<path clip-path=\"url(#clip480)\" d=\"\n",
       "M74.9864 1505.99 L1588.19 1505.99 L1588.19 11.811 L74.9864 11.811  Z\n",
       "  \" fill=\"#ffffff\" fill-rule=\"evenodd\" fill-opacity=\"1\"/>\n",
       "<defs>\n",
       "  <clipPath id=\"clip482\">\n",
       "    <rect x=\"74\" y=\"11\" width=\"1514\" height=\"1495\"/>\n",
       "  </clipPath>\n",
       "</defs>\n",
       "<polyline clip-path=\"url(#clip482)\" style=\"stroke:#000000; stroke-width:0.5; stroke-opacity:0.1; fill:none\" points=\"\n",
       "  74.9864,1505.99 74.9864,11.811 \n",
       "  \"/>\n",
       "<polyline clip-path=\"url(#clip482)\" style=\"stroke:#000000; stroke-width:0.5; stroke-opacity:0.1; fill:none\" points=\"\n",
       "  435.273,1505.99 435.273,11.811 \n",
       "  \"/>\n",
       "<polyline clip-path=\"url(#clip482)\" style=\"stroke:#000000; stroke-width:0.5; stroke-opacity:0.1; fill:none\" points=\"\n",
       "  795.559,1505.99 795.559,11.811 \n",
       "  \"/>\n",
       "<polyline clip-path=\"url(#clip482)\" style=\"stroke:#000000; stroke-width:0.5; stroke-opacity:0.1; fill:none\" points=\"\n",
       "  1155.85,1505.99 1155.85,11.811 \n",
       "  \"/>\n",
       "<polyline clip-path=\"url(#clip482)\" style=\"stroke:#000000; stroke-width:0.5; stroke-opacity:0.1; fill:none\" points=\"\n",
       "  1516.13,1505.99 1516.13,11.811 \n",
       "  \"/>\n",
       "<polyline clip-path=\"url(#clip480)\" style=\"stroke:#000000; stroke-width:1; stroke-opacity:1; fill:none\" points=\"\n",
       "  74.9864,1505.99 1588.19,1505.99 \n",
       "  \"/>\n",
       "<polyline clip-path=\"url(#clip480)\" style=\"stroke:#000000; stroke-width:1; stroke-opacity:1; fill:none\" points=\"\n",
       "  74.9864,1505.99 74.9864,1488.06 \n",
       "  \"/>\n",
       "<polyline clip-path=\"url(#clip480)\" style=\"stroke:#000000; stroke-width:1; stroke-opacity:1; fill:none\" points=\"\n",
       "  435.273,1505.99 435.273,1488.06 \n",
       "  \"/>\n",
       "<polyline clip-path=\"url(#clip480)\" style=\"stroke:#000000; stroke-width:1; stroke-opacity:1; fill:none\" points=\"\n",
       "  795.559,1505.99 795.559,1488.06 \n",
       "  \"/>\n",
       "<polyline clip-path=\"url(#clip480)\" style=\"stroke:#000000; stroke-width:1; stroke-opacity:1; fill:none\" points=\"\n",
       "  1155.85,1505.99 1155.85,1488.06 \n",
       "  \"/>\n",
       "<polyline clip-path=\"url(#clip480)\" style=\"stroke:#000000; stroke-width:1; stroke-opacity:1; fill:none\" points=\"\n",
       "  1516.13,1505.99 1516.13,1488.06 \n",
       "  \"/>\n",
       "<path clip-path=\"url(#clip480)\" d=\"M 0 0 M51.3081 1532.66 L68.0008 1532.66 L68.0008 1534.87 L51.3081 1534.87 L51.3081 1532.66 Z\" fill=\"#000000\" fill-rule=\"evenodd\" fill-opacity=\"1\" /><path clip-path=\"url(#clip480)\" d=\"M 0 0 M78.0788 1524.97 L71.4382 1535.35 L78.0788 1535.35 L78.0788 1524.97 M77.3887 1522.68 L80.696 1522.68 L80.696 1535.35 L83.4694 1535.35 L83.4694 1537.54 L80.696 1537.54 L80.696 1542.12 L78.0788 1542.12 L78.0788 1537.54 L69.3028 1537.54 L69.3028 1535 L77.3887 1522.68 Z\" fill=\"#000000\" fill-rule=\"evenodd\" fill-opacity=\"1\" /><path clip-path=\"url(#clip480)\" d=\"M 0 0 M91.946 1524.41 Q89.9147 1524.41 88.8861 1526.42 Q87.8705 1528.41 87.8705 1532.42 Q87.8705 1536.42 88.8861 1538.43 Q89.9147 1540.42 91.946 1540.42 Q93.9902 1540.42 95.0058 1538.43 Q96.0345 1536.42 96.0345 1532.42 Q96.0345 1528.41 95.0058 1526.42 Q93.9902 1524.41 91.946 1524.41 M91.946 1522.33 Q95.2142 1522.33 96.9329 1524.92 Q98.6647 1527.5 98.6647 1532.42 Q98.6647 1537.33 96.9329 1539.92 Q95.2142 1542.5 91.946 1542.5 Q88.6777 1542.5 86.946 1539.92 Q85.2272 1537.33 85.2272 1532.42 Q85.2272 1527.5 86.946 1524.92 Q88.6777 1522.33 91.946 1522.33 Z\" fill=\"#000000\" fill-rule=\"evenodd\" fill-opacity=\"1\" /><path clip-path=\"url(#clip480)\" d=\"M 0 0 M411.913 1532.66 L428.606 1532.66 L428.606 1534.87 L411.913 1534.87 L411.913 1532.66 Z\" fill=\"#000000\" fill-rule=\"evenodd\" fill-opacity=\"1\" /><path clip-path=\"url(#clip480)\" d=\"M 0 0 M439.426 1531.64 Q441.314 1532.04 442.369 1533.32 Q443.437 1534.6 443.437 1536.47 Q443.437 1539.35 441.458 1540.93 Q439.478 1542.5 435.833 1542.5 Q434.609 1542.5 433.307 1542.25 Q432.018 1542.02 430.637 1541.54 L430.637 1539 Q431.731 1539.64 433.033 1539.96 Q434.335 1540.29 435.755 1540.29 Q438.228 1540.29 439.518 1539.31 Q440.82 1538.33 440.82 1536.47 Q440.82 1534.75 439.609 1533.79 Q438.411 1532.81 436.262 1532.81 L433.997 1532.81 L433.997 1530.65 L436.366 1530.65 Q438.307 1530.65 439.335 1529.88 Q440.364 1529.1 440.364 1527.64 Q440.364 1526.15 439.296 1525.35 Q438.241 1524.54 436.262 1524.54 Q435.182 1524.54 433.945 1524.78 Q432.708 1525.01 431.223 1525.51 L431.223 1523.16 Q432.721 1522.75 434.023 1522.54 Q435.338 1522.33 436.497 1522.33 Q439.491 1522.33 441.236 1523.7 Q442.981 1525.05 442.981 1527.37 Q442.981 1528.99 442.057 1530.1 Q441.132 1531.21 439.426 1531.64 Z\" fill=\"#000000\" fill-rule=\"evenodd\" fill-opacity=\"1\" /><path clip-path=\"url(#clip480)\" d=\"M 0 0 M451.913 1524.41 Q449.882 1524.41 448.853 1526.42 Q447.838 1528.41 447.838 1532.42 Q447.838 1536.42 448.853 1538.43 Q449.882 1540.42 451.913 1540.42 Q453.958 1540.42 454.973 1538.43 Q456.002 1536.42 456.002 1532.42 Q456.002 1528.41 454.973 1526.42 Q453.958 1524.41 451.913 1524.41 M451.913 1522.33 Q455.181 1522.33 456.9 1524.92 Q458.632 1527.5 458.632 1532.42 Q458.632 1537.33 456.9 1539.92 Q455.181 1542.5 451.913 1542.5 Q448.645 1542.5 446.913 1539.92 Q445.195 1537.33 445.195 1532.42 Q445.195 1527.5 446.913 1524.92 Q448.645 1522.33 451.913 1522.33 Z\" fill=\"#000000\" fill-rule=\"evenodd\" fill-opacity=\"1\" /><path clip-path=\"url(#clip480)\" d=\"M 0 0 M772.467 1532.66 L789.159 1532.66 L789.159 1534.87 L772.467 1534.87 L772.467 1532.66 Z\" fill=\"#000000\" fill-rule=\"evenodd\" fill-opacity=\"1\" /><path clip-path=\"url(#clip480)\" d=\"M 0 0 M794.277 1539.91 L803.456 1539.91 L803.456 1542.12 L791.112 1542.12 L791.112 1539.91 Q792.61 1538.36 795.188 1535.76 Q797.779 1533.14 798.443 1532.38 Q799.706 1530.96 800.201 1529.99 Q800.709 1529 800.709 1528.05 Q800.709 1526.5 799.615 1525.52 Q798.534 1524.54 796.79 1524.54 Q795.553 1524.54 794.172 1524.97 Q792.805 1525.4 791.243 1526.28 L791.243 1523.62 Q792.831 1522.98 794.211 1522.66 Q795.592 1522.33 796.737 1522.33 Q799.758 1522.33 801.555 1523.84 Q803.352 1525.35 803.352 1527.88 Q803.352 1529.08 802.896 1530.16 Q802.454 1531.22 801.269 1532.68 Q800.943 1533.06 799.198 1534.87 Q797.454 1536.67 794.277 1539.91 Z\" fill=\"#000000\" fill-rule=\"evenodd\" fill-opacity=\"1\" /><path clip-path=\"url(#clip480)\" d=\"M 0 0 M811.933 1524.41 Q809.901 1524.41 808.873 1526.42 Q807.857 1528.41 807.857 1532.42 Q807.857 1536.42 808.873 1538.43 Q809.901 1540.42 811.933 1540.42 Q813.977 1540.42 814.993 1538.43 Q816.021 1536.42 816.021 1532.42 Q816.021 1528.41 814.993 1526.42 Q813.977 1524.41 811.933 1524.41 M811.933 1522.33 Q815.201 1522.33 816.92 1524.92 Q818.651 1527.5 818.651 1532.42 Q818.651 1537.33 816.92 1539.92 Q815.201 1542.5 811.933 1542.5 Q808.664 1542.5 806.933 1539.92 Q805.214 1537.33 805.214 1532.42 Q805.214 1527.5 806.933 1524.92 Q808.664 1522.33 811.933 1522.33 Z\" fill=\"#000000\" fill-rule=\"evenodd\" fill-opacity=\"1\" /><path clip-path=\"url(#clip480)\" d=\"M 0 0 M1132.65 1532.66 L1149.34 1532.66 L1149.34 1534.87 L1132.65 1534.87 L1132.65 1532.66 Z\" fill=\"#000000\" fill-rule=\"evenodd\" fill-opacity=\"1\" /><path clip-path=\"url(#clip480)\" d=\"M 0 0 M1152.65 1539.91 L1156.95 1539.91 L1156.95 1525.08 L1152.27 1526.02 L1152.27 1523.62 L1156.92 1522.68 L1159.55 1522.68 L1159.55 1539.91 L1163.85 1539.91 L1163.85 1542.12 L1152.65 1542.12 L1152.65 1539.91 Z\" fill=\"#000000\" fill-rule=\"evenodd\" fill-opacity=\"1\" /><path clip-path=\"url(#clip480)\" d=\"M 0 0 M1172.32 1524.41 Q1170.29 1524.41 1169.26 1526.42 Q1168.25 1528.41 1168.25 1532.42 Q1168.25 1536.42 1169.26 1538.43 Q1170.29 1540.42 1172.32 1540.42 Q1174.37 1540.42 1175.38 1538.43 Q1176.41 1536.42 1176.41 1532.42 Q1176.41 1528.41 1175.38 1526.42 Q1174.37 1524.41 1172.32 1524.41 M1172.32 1522.33 Q1175.59 1522.33 1177.31 1524.92 Q1179.04 1527.5 1179.04 1532.42 Q1179.04 1537.33 1177.31 1539.92 Q1175.59 1542.5 1172.32 1542.5 Q1169.05 1542.5 1167.32 1539.92 Q1165.6 1537.33 1165.6 1532.42 Q1165.6 1527.5 1167.32 1524.92 Q1169.05 1522.33 1172.32 1522.33 Z\" fill=\"#000000\" fill-rule=\"evenodd\" fill-opacity=\"1\" /><path clip-path=\"url(#clip480)\" d=\"M 0 0 M1516.13 1524.41 Q1514.1 1524.41 1513.07 1526.42 Q1512.06 1528.41 1512.06 1532.42 Q1512.06 1536.42 1513.07 1538.43 Q1514.1 1540.42 1516.13 1540.42 Q1518.18 1540.42 1519.19 1538.43 Q1520.22 1536.42 1520.22 1532.42 Q1520.22 1528.41 1519.19 1526.42 Q1518.18 1524.41 1516.13 1524.41 M1516.13 1522.33 Q1519.4 1522.33 1521.12 1524.92 Q1522.85 1527.5 1522.85 1532.42 Q1522.85 1537.33 1521.12 1539.92 Q1519.4 1542.5 1516.13 1542.5 Q1512.86 1542.5 1511.13 1539.92 Q1509.41 1537.33 1509.41 1532.42 Q1509.41 1527.5 1511.13 1524.92 Q1512.86 1522.33 1516.13 1522.33 Z\" fill=\"#000000\" fill-rule=\"evenodd\" fill-opacity=\"1\" /><path clip-path=\"url(#clip480)\" d=\"M 0 0 M684.987 1567.15 Q682.083 1567.15 680.963 1567.82 Q679.844 1568.48 679.844 1570.08 Q679.844 1571.36 680.677 1572.11 Q681.523 1572.86 682.969 1572.86 Q684.961 1572.86 686.159 1571.45 Q687.37 1570.03 687.37 1567.69 L687.37 1567.15 L684.987 1567.15 M689.766 1566.16 L689.766 1574.48 L687.37 1574.48 L687.37 1572.27 Q686.549 1573.6 685.325 1574.24 Q684.102 1574.86 682.331 1574.86 Q680.091 1574.86 678.763 1573.61 Q677.448 1572.35 677.448 1570.24 Q677.448 1567.78 679.089 1566.53 Q680.742 1565.28 684.01 1565.28 L687.37 1565.28 L687.37 1565.04 Q687.37 1563.39 686.276 1562.49 Q685.195 1561.58 683.229 1561.58 Q681.979 1561.58 680.794 1561.88 Q679.609 1562.18 678.516 1562.78 L678.516 1560.56 Q679.831 1560.06 681.068 1559.81 Q682.305 1559.55 683.477 1559.55 Q686.641 1559.55 688.203 1561.19 Q689.766 1562.83 689.766 1566.16 Z\" fill=\"#000000\" fill-rule=\"evenodd\" fill-opacity=\"1\" /><path clip-path=\"url(#clip480)\" d=\"M 0 0 M690.56 1559.9 L693.099 1559.9 L697.656 1572.14 L702.213 1559.9 L704.752 1559.9 L699.284 1574.48 L696.029 1574.48 L690.56 1559.9 Z\" fill=\"#000000\" fill-rule=\"evenodd\" fill-opacity=\"1\" /><path clip-path=\"url(#clip480)\" d=\"M 0 0 M719.739 1566.59 L719.739 1567.76 L708.724 1567.76 Q708.88 1570.24 710.208 1571.54 Q711.549 1572.83 713.932 1572.83 Q715.312 1572.83 716.601 1572.49 Q717.903 1572.15 719.179 1571.48 L719.179 1573.74 Q717.89 1574.29 716.536 1574.57 Q715.182 1574.86 713.789 1574.86 Q710.299 1574.86 708.255 1572.83 Q706.224 1570.8 706.224 1567.33 Q706.224 1563.75 708.151 1561.66 Q710.091 1559.55 713.372 1559.55 Q716.315 1559.55 718.021 1561.45 Q719.739 1563.34 719.739 1566.59 M717.344 1565.89 Q717.317 1563.92 716.237 1562.75 Q715.169 1561.58 713.398 1561.58 Q711.393 1561.58 710.182 1562.71 Q708.984 1563.84 708.802 1565.9 L717.344 1565.89 Z\" fill=\"#000000\" fill-rule=\"evenodd\" fill-opacity=\"1\" /><path clip-path=\"url(#clip480)\" d=\"M 0 0 M730.703 1562.14 Q730.299 1561.9 729.817 1561.8 Q729.349 1561.68 728.776 1561.68 Q726.745 1561.68 725.651 1563.01 Q724.57 1564.33 724.57 1566.8 L724.57 1574.48 L722.161 1574.48 L722.161 1559.9 L724.57 1559.9 L724.57 1562.17 Q725.325 1560.84 726.536 1560.2 Q727.747 1559.55 729.479 1559.55 Q729.726 1559.55 730.026 1559.59 Q730.325 1559.61 730.69 1559.68 L730.703 1562.14 Z\" fill=\"#000000\" fill-rule=\"evenodd\" fill-opacity=\"1\" /><path clip-path=\"url(#clip480)\" d=\"M 0 0 M739.843 1567.15 Q736.94 1567.15 735.82 1567.82 Q734.7 1568.48 734.7 1570.08 Q734.7 1571.36 735.534 1572.11 Q736.38 1572.86 737.825 1572.86 Q739.817 1572.86 741.015 1571.45 Q742.226 1570.03 742.226 1567.69 L742.226 1567.15 L739.843 1567.15 M744.622 1566.16 L744.622 1574.48 L742.226 1574.48 L742.226 1572.27 Q741.406 1573.6 740.182 1574.24 Q738.958 1574.86 737.187 1574.86 Q734.948 1574.86 733.619 1573.61 Q732.304 1572.35 732.304 1570.24 Q732.304 1567.78 733.945 1566.53 Q735.599 1565.28 738.867 1565.28 L742.226 1565.28 L742.226 1565.04 Q742.226 1563.39 741.132 1562.49 Q740.052 1561.58 738.086 1561.58 Q736.836 1561.58 735.651 1561.88 Q734.466 1562.18 733.372 1562.78 L733.372 1560.56 Q734.687 1560.06 735.924 1559.81 Q737.161 1559.55 738.333 1559.55 Q741.497 1559.55 743.06 1561.19 Q744.622 1562.83 744.622 1566.16 Z\" fill=\"#000000\" fill-rule=\"evenodd\" fill-opacity=\"1\" /><path clip-path=\"url(#clip480)\" d=\"M 0 0 M756.731 1567.02 Q756.731 1564.42 755.651 1562.99 Q754.583 1561.55 752.643 1561.55 Q750.716 1561.55 749.635 1562.99 Q748.567 1564.42 748.567 1567.02 Q748.567 1569.61 749.635 1571.05 Q750.716 1572.48 752.643 1572.48 Q754.583 1572.48 755.651 1571.05 Q756.731 1569.61 756.731 1567.02 M759.127 1572.67 Q759.127 1576.4 757.474 1578.21 Q755.82 1580.03 752.408 1580.03 Q751.145 1580.03 750.026 1579.83 Q748.906 1579.65 747.851 1579.26 L747.851 1576.93 Q748.906 1577.5 749.934 1577.78 Q750.963 1578.05 752.031 1578.05 Q754.388 1578.05 755.559 1576.81 Q756.731 1575.59 756.731 1573.1 L756.731 1571.92 Q755.989 1573.21 754.83 1573.84 Q753.671 1574.48 752.057 1574.48 Q749.375 1574.48 747.734 1572.44 Q746.093 1570.39 746.093 1567.02 Q746.093 1563.64 747.734 1561.59 Q749.375 1559.55 752.057 1559.55 Q753.671 1559.55 754.83 1560.19 Q755.989 1560.82 756.731 1562.11 L756.731 1559.9 L759.127 1559.9 L759.127 1572.67 Z\" fill=\"#000000\" fill-rule=\"evenodd\" fill-opacity=\"1\" /><path clip-path=\"url(#clip480)\" d=\"M 0 0 M774.114 1566.59 L774.114 1567.76 L763.098 1567.76 Q763.255 1570.24 764.583 1571.54 Q765.924 1572.83 768.307 1572.83 Q769.687 1572.83 770.976 1572.49 Q772.278 1572.15 773.554 1571.48 L773.554 1573.74 Q772.265 1574.29 770.911 1574.57 Q769.557 1574.86 768.164 1574.86 Q764.674 1574.86 762.63 1572.83 Q760.598 1570.8 760.598 1567.33 Q760.598 1563.75 762.526 1561.66 Q764.466 1559.55 767.747 1559.55 Q770.69 1559.55 772.395 1561.45 Q774.114 1563.34 774.114 1566.59 M771.718 1565.89 Q771.692 1563.92 770.611 1562.75 Q769.544 1561.58 767.773 1561.58 Q765.768 1561.58 764.557 1562.71 Q763.359 1563.84 763.177 1565.9 L771.718 1565.89 Z\" fill=\"#000000\" fill-rule=\"evenodd\" fill-opacity=\"1\" /><path clip-path=\"url(#clip480)\" d=\"M 0 0 M787.473 1555.76 L787.473 1559.9 L792.408 1559.9 L792.408 1561.76 L787.473 1561.76 L787.473 1569.68 Q787.473 1571.46 787.955 1571.97 Q788.45 1572.48 789.947 1572.48 L792.408 1572.48 L792.408 1574.48 L789.947 1574.48 Q787.174 1574.48 786.119 1573.45 Q785.065 1572.41 785.065 1569.68 L785.065 1561.76 L783.307 1561.76 L783.307 1559.9 L785.065 1559.9 L785.065 1555.76 L787.473 1555.76 Z\" fill=\"#000000\" fill-rule=\"evenodd\" fill-opacity=\"1\" /><path clip-path=\"url(#clip480)\" d=\"M 0 0 M803.372 1562.14 Q802.968 1561.9 802.486 1561.8 Q802.018 1561.68 801.445 1561.68 Q799.413 1561.68 798.32 1563.01 Q797.239 1564.33 797.239 1566.8 L797.239 1574.48 L794.83 1574.48 L794.83 1559.9 L797.239 1559.9 L797.239 1562.17 Q797.994 1560.84 799.205 1560.2 Q800.416 1559.55 802.148 1559.55 Q802.395 1559.55 802.695 1559.59 Q802.994 1559.61 803.359 1559.68 L803.372 1562.14 Z\" fill=\"#000000\" fill-rule=\"evenodd\" fill-opacity=\"1\" /><path clip-path=\"url(#clip480)\" d=\"M 0 0 M817.773 1566.59 L817.773 1567.76 L806.757 1567.76 Q806.913 1570.24 808.241 1571.54 Q809.583 1572.83 811.965 1572.83 Q813.346 1572.83 814.635 1572.49 Q815.937 1572.15 817.213 1571.48 L817.213 1573.74 Q815.924 1574.29 814.57 1574.57 Q813.215 1574.86 811.822 1574.86 Q808.333 1574.86 806.288 1572.83 Q804.257 1570.8 804.257 1567.33 Q804.257 1563.75 806.184 1561.66 Q808.124 1559.55 811.406 1559.55 Q814.348 1559.55 816.054 1561.45 Q817.773 1563.34 817.773 1566.59 M815.377 1565.89 Q815.351 1563.92 814.27 1562.75 Q813.202 1561.58 811.432 1561.58 Q809.426 1561.58 808.215 1562.71 Q807.018 1563.84 806.835 1565.9 L815.377 1565.89 Z\" fill=\"#000000\" fill-rule=\"evenodd\" fill-opacity=\"1\" /><path clip-path=\"url(#clip480)\" d=\"M 0 0 M826.913 1567.15 Q824.01 1567.15 822.89 1567.82 Q821.77 1568.48 821.77 1570.08 Q821.77 1571.36 822.603 1572.11 Q823.45 1572.86 824.895 1572.86 Q826.887 1572.86 828.085 1571.45 Q829.296 1570.03 829.296 1567.69 L829.296 1567.15 L826.913 1567.15 M831.692 1566.16 L831.692 1574.48 L829.296 1574.48 L829.296 1572.27 Q828.476 1573.6 827.252 1574.24 Q826.028 1574.86 824.257 1574.86 Q822.017 1574.86 820.689 1573.61 Q819.374 1572.35 819.374 1570.24 Q819.374 1567.78 821.015 1566.53 Q822.668 1565.28 825.937 1565.28 L829.296 1565.28 L829.296 1565.04 Q829.296 1563.39 828.202 1562.49 Q827.122 1561.58 825.155 1561.58 Q823.905 1561.58 822.721 1561.88 Q821.536 1562.18 820.442 1562.78 L820.442 1560.56 Q821.757 1560.06 822.994 1559.81 Q824.231 1559.55 825.403 1559.55 Q828.567 1559.55 830.129 1561.19 Q831.692 1562.83 831.692 1566.16 Z\" fill=\"#000000\" fill-rule=\"evenodd\" fill-opacity=\"1\" /><path clip-path=\"url(#clip480)\" d=\"M 0 0 M836.575 1555.76 L836.575 1559.9 L841.51 1559.9 L841.51 1561.76 L836.575 1561.76 L836.575 1569.68 Q836.575 1571.46 837.056 1571.97 Q837.551 1572.48 839.049 1572.48 L841.51 1572.48 L841.51 1574.48 L839.049 1574.48 Q836.275 1574.48 835.22 1573.45 Q834.166 1572.41 834.166 1569.68 L834.166 1561.76 L832.408 1561.76 L832.408 1559.9 L834.166 1559.9 L834.166 1555.76 L836.575 1555.76 Z\" fill=\"#000000\" fill-rule=\"evenodd\" fill-opacity=\"1\" /><path clip-path=\"url(#clip480)\" d=\"M 0 0 M855.377 1562.7 Q856.275 1561.08 857.525 1560.32 Q858.775 1559.55 860.468 1559.55 Q862.746 1559.55 863.983 1561.15 Q865.22 1562.74 865.22 1565.68 L865.22 1574.48 L862.811 1574.48 L862.811 1565.76 Q862.811 1563.66 862.069 1562.65 Q861.327 1561.63 859.804 1561.63 Q857.942 1561.63 856.861 1562.87 Q855.78 1564.11 855.78 1566.24 L855.78 1574.48 L853.371 1574.48 L853.371 1565.76 Q853.371 1563.65 852.629 1562.65 Q851.887 1561.63 850.338 1561.63 Q848.502 1561.63 847.421 1562.88 Q846.34 1564.12 846.34 1566.24 L846.34 1574.48 L843.931 1574.48 L843.931 1559.9 L846.34 1559.9 L846.34 1562.17 Q847.161 1560.82 848.306 1560.19 Q849.452 1559.55 851.028 1559.55 Q852.616 1559.55 853.723 1560.36 Q854.843 1561.16 855.377 1562.7 Z\" fill=\"#000000\" fill-rule=\"evenodd\" fill-opacity=\"1\" /><path clip-path=\"url(#clip480)\" d=\"M 0 0 M880.207 1566.59 L880.207 1567.76 L869.192 1567.76 Q869.348 1570.24 870.676 1571.54 Q872.017 1572.83 874.4 1572.83 Q875.78 1572.83 877.069 1572.49 Q878.371 1572.15 879.647 1571.48 L879.647 1573.74 Q878.358 1574.29 877.004 1574.57 Q875.65 1574.86 874.257 1574.86 Q870.767 1574.86 868.723 1572.83 Q866.692 1570.8 866.692 1567.33 Q866.692 1563.75 868.619 1561.66 Q870.559 1559.55 873.84 1559.55 Q876.783 1559.55 878.488 1561.45 Q880.207 1563.34 880.207 1566.59 M877.811 1565.89 Q877.785 1563.92 876.705 1562.75 Q875.637 1561.58 873.866 1561.58 Q871.861 1561.58 870.65 1562.71 Q869.452 1563.84 869.27 1565.9 L877.811 1565.89 Z\" fill=\"#000000\" fill-rule=\"evenodd\" fill-opacity=\"1\" /><path clip-path=\"url(#clip480)\" d=\"M 0 0 M894.843 1565.68 L894.843 1574.48 L892.447 1574.48 L892.447 1565.76 Q892.447 1563.69 891.639 1562.66 Q890.832 1561.63 889.218 1561.63 Q887.277 1561.63 886.158 1562.87 Q885.038 1564.11 885.038 1566.24 L885.038 1574.48 L882.629 1574.48 L882.629 1559.9 L885.038 1559.9 L885.038 1562.17 Q885.897 1560.85 887.056 1560.2 Q888.228 1559.55 889.751 1559.55 Q892.264 1559.55 893.554 1561.11 Q894.843 1562.66 894.843 1565.68 Z\" fill=\"#000000\" fill-rule=\"evenodd\" fill-opacity=\"1\" /><path clip-path=\"url(#clip480)\" d=\"M 0 0 M899.725 1555.76 L899.725 1559.9 L904.66 1559.9 L904.66 1561.76 L899.725 1561.76 L899.725 1569.68 Q899.725 1571.46 900.207 1571.97 Q900.702 1572.48 902.199 1572.48 L904.66 1572.48 L904.66 1574.48 L902.199 1574.48 Q899.426 1574.48 898.371 1573.45 Q897.317 1572.41 897.317 1569.68 L897.317 1561.76 L895.559 1561.76 L895.559 1559.9 L897.317 1559.9 L897.317 1555.76 L899.725 1555.76 Z\" fill=\"#000000\" fill-rule=\"evenodd\" fill-opacity=\"1\" /><path clip-path=\"url(#clip480)\" d=\"M 0 0 M928.124 1566.59 L928.124 1567.76 L917.108 1567.76 Q917.264 1570.24 918.592 1571.54 Q919.934 1572.83 922.316 1572.83 Q923.697 1572.83 924.986 1572.49 Q926.288 1572.15 927.564 1571.48 L927.564 1573.74 Q926.275 1574.29 924.921 1574.57 Q923.566 1574.86 922.173 1574.86 Q918.684 1574.86 916.639 1572.83 Q914.608 1570.8 914.608 1567.33 Q914.608 1563.75 916.535 1561.66 Q918.475 1559.55 921.756 1559.55 Q924.699 1559.55 926.405 1561.45 Q928.124 1563.34 928.124 1566.59 M925.728 1565.89 Q925.702 1563.92 924.621 1562.75 Q923.553 1561.58 921.783 1561.58 Q919.777 1561.58 918.566 1562.71 Q917.368 1563.84 917.186 1565.9 L925.728 1565.89 Z\" fill=\"#000000\" fill-rule=\"evenodd\" fill-opacity=\"1\" /><path clip-path=\"url(#clip480)\" d=\"M 0 0 M938.019 1554.22 L938.019 1556.21 L935.728 1556.21 Q934.439 1556.21 933.931 1556.74 Q933.436 1557.26 933.436 1558.61 L933.436 1559.9 L937.381 1559.9 L937.381 1561.76 L933.436 1561.76 L933.436 1574.48 L931.027 1574.48 L931.027 1561.76 L928.736 1561.76 L928.736 1559.9 L931.027 1559.9 L931.027 1558.88 Q931.027 1556.45 932.16 1555.34 Q933.293 1554.22 935.754 1554.22 L938.019 1554.22 Z\" fill=\"#000000\" fill-rule=\"evenodd\" fill-opacity=\"1\" /><path clip-path=\"url(#clip480)\" d=\"M 0 0 M947.915 1554.22 L947.915 1556.21 L945.624 1556.21 Q944.334 1556.21 943.827 1556.74 Q943.332 1557.26 943.332 1558.61 L943.332 1559.9 L947.277 1559.9 L947.277 1561.76 L943.332 1561.76 L943.332 1574.48 L940.923 1574.48 L940.923 1561.76 L938.631 1561.76 L938.631 1559.9 L940.923 1559.9 L940.923 1558.88 Q940.923 1556.45 942.056 1555.34 Q943.189 1554.22 945.65 1554.22 L947.915 1554.22 Z\" fill=\"#000000\" fill-rule=\"evenodd\" fill-opacity=\"1\" /><path clip-path=\"url(#clip480)\" d=\"M 0 0 M962.902 1566.59 L962.902 1567.76 L951.887 1567.76 Q952.043 1570.24 953.371 1571.54 Q954.712 1572.83 957.095 1572.83 Q958.475 1572.83 959.764 1572.49 Q961.066 1572.15 962.342 1571.48 L962.342 1573.74 Q961.053 1574.29 959.699 1574.57 Q958.345 1574.86 956.952 1574.86 Q953.462 1574.86 951.418 1572.83 Q949.387 1570.8 949.387 1567.33 Q949.387 1563.75 951.314 1561.66 Q953.254 1559.55 956.535 1559.55 Q959.478 1559.55 961.183 1561.45 Q962.902 1563.34 962.902 1566.59 M960.506 1565.89 Q960.48 1563.92 959.4 1562.75 Q958.332 1561.58 956.561 1561.58 Q954.556 1561.58 953.345 1562.71 Q952.147 1563.84 951.965 1565.9 L960.506 1565.89 Z\" fill=\"#000000\" fill-rule=\"evenodd\" fill-opacity=\"1\" /><path clip-path=\"url(#clip480)\" d=\"M 0 0 M975.91 1560.46 L975.91 1562.7 Q974.894 1562.14 973.866 1561.87 Q972.85 1561.58 971.808 1561.58 Q969.478 1561.58 968.189 1563.06 Q966.899 1564.54 966.899 1567.2 Q966.899 1569.87 968.189 1571.36 Q969.478 1572.83 971.808 1572.83 Q972.85 1572.83 973.866 1572.56 Q974.894 1572.27 975.91 1571.71 L975.91 1573.92 Q974.907 1574.39 973.827 1574.63 Q972.759 1574.86 971.548 1574.86 Q968.254 1574.86 966.314 1572.79 Q964.373 1570.72 964.373 1567.2 Q964.373 1563.64 966.327 1561.59 Q968.293 1559.55 971.704 1559.55 Q972.811 1559.55 973.866 1559.78 Q974.92 1560 975.91 1560.46 Z\" fill=\"#000000\" fill-rule=\"evenodd\" fill-opacity=\"1\" /><path clip-path=\"url(#clip480)\" d=\"M 0 0 M980.793 1555.76 L980.793 1559.9 L985.727 1559.9 L985.727 1561.76 L980.793 1561.76 L980.793 1569.68 Q980.793 1571.46 981.274 1571.97 Q981.769 1572.48 983.267 1572.48 L985.727 1572.48 L985.727 1574.48 L983.267 1574.48 Q980.493 1574.48 979.438 1573.45 Q978.384 1572.41 978.384 1569.68 L978.384 1561.76 L976.626 1561.76 L976.626 1559.9 L978.384 1559.9 L978.384 1555.76 L980.793 1555.76 Z\" fill=\"#000000\" fill-rule=\"evenodd\" fill-opacity=\"1\" /><polyline clip-path=\"url(#clip482)\" style=\"stroke:#000000; stroke-width:0.5; stroke-opacity:0.1; fill:none\" points=\"\n",
       "  74.9864,1463.71 1588.19,1463.71 \n",
       "  \"/>\n",
       "<polyline clip-path=\"url(#clip482)\" style=\"stroke:#000000; stroke-width:0.5; stroke-opacity:0.1; fill:none\" points=\"\n",
       "  74.9864,1157.27 1588.19,1157.27 \n",
       "  \"/>\n",
       "<polyline clip-path=\"url(#clip482)\" style=\"stroke:#000000; stroke-width:0.5; stroke-opacity:0.1; fill:none\" points=\"\n",
       "  74.9864,850.834 1588.19,850.834 \n",
       "  \"/>\n",
       "<polyline clip-path=\"url(#clip482)\" style=\"stroke:#000000; stroke-width:0.5; stroke-opacity:0.1; fill:none\" points=\"\n",
       "  74.9864,544.398 1588.19,544.398 \n",
       "  \"/>\n",
       "<polyline clip-path=\"url(#clip482)\" style=\"stroke:#000000; stroke-width:0.5; stroke-opacity:0.1; fill:none\" points=\"\n",
       "  74.9864,237.961 1588.19,237.961 \n",
       "  \"/>\n",
       "<polyline clip-path=\"url(#clip480)\" style=\"stroke:#000000; stroke-width:1; stroke-opacity:1; fill:none\" points=\"\n",
       "  74.9864,1505.99 74.9864,11.811 \n",
       "  \"/>\n",
       "<polyline clip-path=\"url(#clip480)\" style=\"stroke:#000000; stroke-width:1; stroke-opacity:1; fill:none\" points=\"\n",
       "  74.9864,1463.71 93.1448,1463.71 \n",
       "  \"/>\n",
       "<polyline clip-path=\"url(#clip480)\" style=\"stroke:#000000; stroke-width:1; stroke-opacity:1; fill:none\" points=\"\n",
       "  74.9864,1157.27 93.1448,1157.27 \n",
       "  \"/>\n",
       "<polyline clip-path=\"url(#clip480)\" style=\"stroke:#000000; stroke-width:1; stroke-opacity:1; fill:none\" points=\"\n",
       "  74.9864,850.834 93.1448,850.834 \n",
       "  \"/>\n",
       "<polyline clip-path=\"url(#clip480)\" style=\"stroke:#000000; stroke-width:1; stroke-opacity:1; fill:none\" points=\"\n",
       "  74.9864,544.398 93.1448,544.398 \n",
       "  \"/>\n",
       "<polyline clip-path=\"url(#clip480)\" style=\"stroke:#000000; stroke-width:1; stroke-opacity:1; fill:none\" points=\"\n",
       "  74.9864,237.961 93.1448,237.961 \n",
       "  \"/>\n",
       "<path clip-path=\"url(#clip480)\" d=\"M 0 0 M30.0143 1467.04 L31.924 1467.04 L31.924 1460.45 L29.8465 1460.87 L29.8465 1459.8 L31.9124 1459.39 L33.0814 1459.39 L33.0814 1467.04 L34.9911 1467.04 L34.9911 1468.03 L30.0143 1468.03 L30.0143 1467.04 Z\" fill=\"#000000\" fill-rule=\"evenodd\" fill-opacity=\"1\" /><path clip-path=\"url(#clip480)\" d=\"M 0 0 M36.2585 1466.56 L37.4795 1466.56 L37.4795 1468.03 L36.2585 1468.03 L36.2585 1466.56 Z\" fill=\"#000000\" fill-rule=\"evenodd\" fill-opacity=\"1\" /><path clip-path=\"url(#clip480)\" d=\"M 0 0 M41.2469 1460.16 Q40.3441 1460.16 39.8869 1461.05 Q39.4355 1461.93 39.4355 1463.72 Q39.4355 1465.49 39.8869 1466.38 Q40.3441 1467.27 41.2469 1467.27 Q42.1554 1467.27 42.6068 1466.38 Q43.064 1465.49 43.064 1463.72 Q43.064 1461.93 42.6068 1461.05 Q42.1554 1460.16 41.2469 1460.16 M41.2469 1459.23 Q42.6994 1459.23 43.4633 1460.38 Q44.233 1461.53 44.233 1463.72 Q44.233 1465.9 43.4633 1467.05 Q42.6994 1468.19 41.2469 1468.19 Q39.7943 1468.19 39.0247 1467.05 Q38.2608 1465.9 38.2608 1463.72 Q38.2608 1461.53 39.0247 1460.38 Q39.7943 1459.23 41.2469 1459.23 Z\" fill=\"#000000\" fill-rule=\"evenodd\" fill-opacity=\"1\" /><path clip-path=\"url(#clip480)\" d=\"M 0 0 M48.0003 1460.16 Q47.0975 1460.16 46.6404 1461.05 Q46.189 1461.93 46.189 1463.72 Q46.189 1465.49 46.6404 1466.38 Q47.0975 1467.27 48.0003 1467.27 Q48.9089 1467.27 49.3603 1466.38 Q49.8174 1465.49 49.8174 1463.72 Q49.8174 1461.93 49.3603 1461.05 Q48.9089 1460.16 48.0003 1460.16 M48.0003 1459.23 Q49.4528 1459.23 50.2167 1460.38 Q50.9864 1461.53 50.9864 1463.72 Q50.9864 1465.9 50.2167 1467.05 Q49.4528 1468.19 48.0003 1468.19 Q46.5478 1468.19 45.7781 1467.05 Q45.0142 1465.9 45.0142 1463.72 Q45.0142 1461.53 45.7781 1460.38 Q46.5478 1459.23 48.0003 1459.23 Z\" fill=\"#000000\" fill-rule=\"evenodd\" fill-opacity=\"1\" /><path clip-path=\"url(#clip480)\" d=\"M 0 0 M30.6624 1160.61 L32.5722 1160.61 L32.5722 1154.02 L30.4946 1154.43 L30.4946 1153.37 L32.5606 1152.95 L33.7296 1152.95 L33.7296 1160.61 L35.6393 1160.61 L35.6393 1161.59 L30.6624 1161.59 L30.6624 1160.61 Z\" fill=\"#000000\" fill-rule=\"evenodd\" fill-opacity=\"1\" /><path clip-path=\"url(#clip480)\" d=\"M 0 0 M36.9066 1160.12 L38.1277 1160.12 L38.1277 1161.59 L36.9066 1161.59 L36.9066 1160.12 Z\" fill=\"#000000\" fill-rule=\"evenodd\" fill-opacity=\"1\" /><path clip-path=\"url(#clip480)\" d=\"M 0 0 M40.402 1160.61 L44.4818 1160.61 L44.4818 1161.59 L38.9957 1161.59 L38.9957 1160.61 Q39.6612 1159.92 40.8071 1158.76 Q41.9587 1157.6 42.2538 1157.26 Q42.8152 1156.63 43.0351 1156.2 Q43.2608 1155.76 43.2608 1155.33 Q43.2608 1154.65 42.7746 1154.21 Q42.2943 1153.78 41.5189 1153.78 Q40.9691 1153.78 40.3557 1153.97 Q39.748 1154.16 39.0536 1154.55 L39.0536 1153.37 Q39.7596 1153.08 40.373 1152.94 Q40.9865 1152.79 41.4957 1152.79 Q42.8383 1152.79 43.6369 1153.47 Q44.4355 1154.14 44.4355 1155.26 Q44.4355 1155.79 44.233 1156.27 Q44.0362 1156.75 43.5096 1157.39 Q43.3649 1157.56 42.5895 1158.37 Q41.814 1159.17 40.402 1160.61 Z\" fill=\"#000000\" fill-rule=\"evenodd\" fill-opacity=\"1\" /><path clip-path=\"url(#clip480)\" d=\"M 0 0 M45.7607 1152.95 L50.3498 1152.95 L50.3498 1153.93 L46.8313 1153.93 L46.8313 1156.05 Q47.086 1155.97 47.3406 1155.92 Q47.5952 1155.88 47.8498 1155.88 Q49.2966 1155.88 50.1415 1156.67 Q50.9864 1157.46 50.9864 1158.82 Q50.9864 1160.21 50.1184 1160.99 Q49.2503 1161.76 47.6705 1161.76 Q47.1265 1161.76 46.5593 1161.67 Q45.998 1161.57 45.3962 1161.39 L45.3962 1160.21 Q45.917 1160.5 46.4725 1160.64 Q47.0281 1160.77 47.6473 1160.77 Q48.6485 1160.77 49.2329 1160.25 Q49.8174 1159.72 49.8174 1158.82 Q49.8174 1157.92 49.2329 1157.39 Q48.6485 1156.86 47.6473 1156.86 Q47.1786 1156.86 46.7098 1156.97 Q46.2468 1157.07 45.7607 1157.29 L45.7607 1152.95 Z\" fill=\"#000000\" fill-rule=\"evenodd\" fill-opacity=\"1\" /><path clip-path=\"url(#clip480)\" d=\"M 0 0 M30.2631 854.17 L32.1728 854.17 L32.1728 847.579 L30.0953 847.995 L30.0953 846.931 L32.1613 846.514 L33.3303 846.514 L33.3303 854.17 L35.24 854.17 L35.24 855.154 L30.2631 855.154 L30.2631 854.17 Z\" fill=\"#000000\" fill-rule=\"evenodd\" fill-opacity=\"1\" /><path clip-path=\"url(#clip480)\" d=\"M 0 0 M36.5073 853.684 L37.7284 853.684 L37.7284 855.154 L36.5073 855.154 L36.5073 853.684 Z\" fill=\"#000000\" fill-rule=\"evenodd\" fill-opacity=\"1\" /><path clip-path=\"url(#clip480)\" d=\"M 0 0 M39.0073 846.514 L43.5964 846.514 L43.5964 847.498 L40.0779 847.498 L40.0779 849.616 Q40.3325 849.529 40.5872 849.488 Q40.8418 849.442 41.0964 849.442 Q42.5432 849.442 43.3881 850.235 Q44.233 851.028 44.233 852.382 Q44.233 853.777 43.3649 854.552 Q42.4969 855.322 40.917 855.322 Q40.373 855.322 39.8059 855.229 Q39.2446 855.137 38.6427 854.951 L38.6427 853.777 Q39.1636 854.06 39.7191 854.199 Q40.2747 854.338 40.8939 854.338 Q41.895 854.338 42.4795 853.811 Q43.064 853.285 43.064 852.382 Q43.064 851.479 42.4795 850.953 Q41.895 850.426 40.8939 850.426 Q40.4251 850.426 39.9564 850.53 Q39.4934 850.634 39.0073 850.854 L39.0073 846.514 Z\" fill=\"#000000\" fill-rule=\"evenodd\" fill-opacity=\"1\" /><path clip-path=\"url(#clip480)\" d=\"M 0 0 M48.0003 847.284 Q47.0975 847.284 46.6404 848.175 Q46.189 849.06 46.189 850.843 Q46.189 852.619 46.6404 853.51 Q47.0975 854.396 48.0003 854.396 Q48.9089 854.396 49.3603 853.51 Q49.8174 852.619 49.8174 850.843 Q49.8174 849.06 49.3603 848.175 Q48.9089 847.284 48.0003 847.284 M48.0003 846.358 Q49.4528 846.358 50.2167 847.509 Q50.9864 848.655 50.9864 850.843 Q50.9864 853.024 50.2167 854.176 Q49.4528 855.322 48.0003 855.322 Q46.5478 855.322 45.7781 854.176 Q45.0142 853.024 45.0142 850.843 Q45.0142 848.655 45.7781 847.509 Q46.5478 846.358 48.0003 846.358 Z\" fill=\"#000000\" fill-rule=\"evenodd\" fill-opacity=\"1\" /><path clip-path=\"url(#clip480)\" d=\"M 0 0 M30.4888 547.734 L32.3985 547.734 L32.3985 541.142 L30.321 541.559 L30.321 540.494 L32.387 540.078 L33.5559 540.078 L33.5559 547.734 L35.4657 547.734 L35.4657 548.718 L30.4888 548.718 L30.4888 547.734 Z\" fill=\"#000000\" fill-rule=\"evenodd\" fill-opacity=\"1\" /><path clip-path=\"url(#clip480)\" d=\"M 0 0 M36.733 547.248 L37.9541 547.248 L37.9541 548.718 L36.733 548.718 L36.733 547.248 Z\" fill=\"#000000\" fill-rule=\"evenodd\" fill-opacity=\"1\" /><path clip-path=\"url(#clip480)\" d=\"M 0 0 M38.9263 540.078 L44.4818 540.078 L44.4818 540.575 L41.3453 548.718 L40.1242 548.718 L43.0756 541.061 L38.9263 541.061 L38.9263 540.078 Z\" fill=\"#000000\" fill-rule=\"evenodd\" fill-opacity=\"1\" /><path clip-path=\"url(#clip480)\" d=\"M 0 0 M45.7607 540.078 L50.3498 540.078 L50.3498 541.061 L46.8313 541.061 L46.8313 543.179 Q47.086 543.093 47.3406 543.052 Q47.5952 543.006 47.8498 543.006 Q49.2966 543.006 50.1415 543.799 Q50.9864 544.591 50.9864 545.946 Q50.9864 547.34 50.1184 548.116 Q49.2503 548.885 47.6705 548.885 Q47.1265 548.885 46.5593 548.793 Q45.998 548.7 45.3962 548.515 L45.3962 547.34 Q45.917 547.624 46.4725 547.763 Q47.0281 547.902 47.6473 547.902 Q48.6485 547.902 49.2329 547.375 Q49.8174 546.848 49.8174 545.946 Q49.8174 545.043 49.2329 544.516 Q48.6485 543.99 47.6473 543.99 Q47.1786 543.99 46.7098 544.094 Q46.2468 544.198 45.7607 544.418 L45.7607 540.078 Z\" fill=\"#000000\" fill-rule=\"evenodd\" fill-opacity=\"1\" /><path clip-path=\"url(#clip480)\" d=\"M 0 0 M30.9113 241.297 L34.9911 241.297 L34.9911 242.281 L29.505 242.281 L29.505 241.297 Q30.1705 240.609 31.3164 239.451 Q32.468 238.288 32.7631 237.952 Q33.3245 237.322 33.5444 236.888 Q33.7701 236.448 33.7701 236.025 Q33.7701 235.337 33.284 234.903 Q32.8036 234.469 32.0282 234.469 Q31.4784 234.469 30.865 234.66 Q30.2574 234.851 29.5629 235.238 L29.5629 234.058 Q30.2689 233.774 30.8823 233.63 Q31.4958 233.485 32.005 233.485 Q33.3476 233.485 34.1462 234.156 Q34.9448 234.827 34.9448 235.95 Q34.9448 236.483 34.7423 236.963 Q34.5455 237.437 34.0189 238.086 Q33.8742 238.253 33.0988 239.058 Q32.3233 239.856 30.9113 241.297 Z\" fill=\"#000000\" fill-rule=\"evenodd\" fill-opacity=\"1\" /><path clip-path=\"url(#clip480)\" d=\"M 0 0 M36.2585 240.811 L37.4795 240.811 L37.4795 242.281 L36.2585 242.281 L36.2585 240.811 Z\" fill=\"#000000\" fill-rule=\"evenodd\" fill-opacity=\"1\" /><path clip-path=\"url(#clip480)\" d=\"M 0 0 M41.2469 234.411 Q40.3441 234.411 39.8869 235.302 Q39.4355 236.187 39.4355 237.97 Q39.4355 239.746 39.8869 240.638 Q40.3441 241.523 41.2469 241.523 Q42.1554 241.523 42.6068 240.638 Q43.064 239.746 43.064 237.97 Q43.064 236.187 42.6068 235.302 Q42.1554 234.411 41.2469 234.411 M41.2469 233.485 Q42.6994 233.485 43.4633 234.636 Q44.233 235.782 44.233 237.97 Q44.233 240.151 43.4633 241.303 Q42.6994 242.449 41.2469 242.449 Q39.7943 242.449 39.0247 241.303 Q38.2608 240.151 38.2608 237.97 Q38.2608 235.782 39.0247 234.636 Q39.7943 233.485 41.2469 233.485 Z\" fill=\"#000000\" fill-rule=\"evenodd\" fill-opacity=\"1\" /><path clip-path=\"url(#clip480)\" d=\"M 0 0 M48.0003 234.411 Q47.0975 234.411 46.6404 235.302 Q46.189 236.187 46.189 237.97 Q46.189 239.746 46.6404 240.638 Q47.0975 241.523 48.0003 241.523 Q48.9089 241.523 49.3603 240.638 Q49.8174 239.746 49.8174 237.97 Q49.8174 236.187 49.3603 235.302 Q48.9089 234.411 48.0003 234.411 M48.0003 233.485 Q49.4528 233.485 50.2167 234.636 Q50.9864 235.782 50.9864 237.97 Q50.9864 240.151 50.2167 241.303 Q49.4528 242.449 48.0003 242.449 Q46.5478 242.449 45.7781 241.303 Q45.0142 240.151 45.0142 237.97 Q45.0142 235.782 45.7781 234.636 Q46.5478 233.485 48.0003 233.485 Z\" fill=\"#000000\" fill-rule=\"evenodd\" fill-opacity=\"1\" /><path clip-path=\"url(#clip480)\" d=\"M 0 0 M9.37121 841.164 L10.7398 841.164 Q10.3977 841.784 10.2306 842.413 Q10.0555 843.034 10.0555 843.67 Q10.0555 845.095 10.9626 845.882 Q11.8618 846.67 13.493 846.67 Q15.1242 846.67 16.0313 845.882 Q16.9305 845.095 16.9305 843.67 Q16.9305 843.034 16.7634 842.413 Q16.5883 841.784 16.2462 841.164 L17.5989 841.164 Q17.8853 841.777 18.0286 842.437 Q18.1718 843.089 18.1718 843.829 Q18.1718 845.843 16.9066 847.028 Q15.6414 848.214 13.493 848.214 Q11.3127 848.214 10.0635 847.02 Q8.81421 845.819 8.81421 843.734 Q8.81421 843.058 8.95744 842.413 Q9.09271 841.769 9.37121 841.164 Z\" fill=\"#000000\" fill-rule=\"evenodd\" fill-opacity=\"1\" /><path clip-path=\"url(#clip480)\" d=\"M 0 0 M10.0555 836.175 Q10.0555 837.352 10.9785 838.037 Q11.8936 838.721 13.493 838.721 Q15.0924 838.721 16.0154 838.045 Q16.9305 837.36 16.9305 836.175 Q16.9305 835.005 16.0075 834.321 Q15.0844 833.636 13.493 833.636 Q11.9095 833.636 10.9865 834.321 Q10.0555 835.005 10.0555 836.175 M8.81421 836.175 Q8.81421 834.265 10.0555 833.175 Q11.2968 832.085 13.493 832.085 Q15.6812 832.085 16.9305 833.175 Q18.1718 834.265 18.1718 836.175 Q18.1718 838.092 16.9305 839.183 Q15.6812 840.265 13.493 840.265 Q11.2968 840.265 10.0555 839.183 Q8.81421 838.092 8.81421 836.175 Z\" fill=\"#000000\" fill-rule=\"evenodd\" fill-opacity=\"1\" /><path clip-path=\"url(#clip480)\" d=\"M 0 0 M12.562 823.141 L17.941 823.141 L17.941 824.605 L12.6098 824.605 Q11.3446 824.605 10.716 825.098 Q10.0873 825.592 10.0873 826.578 Q10.0873 827.764 10.8433 828.448 Q11.5992 829.133 12.9042 829.133 L17.941 829.133 L17.941 830.605 L9.02905 830.605 L9.02905 829.133 L10.4136 829.133 Q9.60992 828.607 9.21206 827.899 Q8.81421 827.183 8.81421 826.252 Q8.81421 824.716 9.76906 823.929 Q10.716 823.141 12.562 823.141 Z\" fill=\"#000000\" fill-rule=\"evenodd\" fill-opacity=\"1\" /><path clip-path=\"url(#clip480)\" d=\"M 0 0 M10.3818 815.741 L5.55974 815.741 L5.55974 814.277 L17.941 814.277 L17.941 815.741 L16.6042 815.741 Q17.4 816.202 17.7899 816.91 Q18.1718 817.611 18.1718 818.597 Q18.1718 820.213 16.8827 821.231 Q15.5937 822.242 13.493 822.242 Q11.3923 822.242 10.1033 821.231 Q8.81421 820.213 8.81421 818.597 Q8.81421 817.611 9.20411 816.91 Q9.58605 816.202 10.3818 815.741 M13.493 820.73 Q15.1083 820.73 16.0313 820.069 Q16.9464 819.401 16.9464 818.239 Q16.9464 817.078 16.0313 816.409 Q15.1083 815.741 13.493 815.741 Q11.8777 815.741 10.9626 816.409 Q10.0396 817.078 10.0396 818.239 Q10.0396 819.401 10.9626 820.069 Q11.8777 820.73 13.493 820.73 Z\" fill=\"#000000\" fill-rule=\"evenodd\" fill-opacity=\"1\" /><path clip-path=\"url(#clip480)\" d=\"M 0 0 M9.02905 812.741 L9.02905 811.277 L17.941 811.277 L17.941 812.741 L9.02905 812.741 M5.55974 812.741 L5.55974 811.277 L7.41375 811.277 L7.41375 812.741 L5.55974 812.741 Z\" fill=\"#000000\" fill-rule=\"evenodd\" fill-opacity=\"1\" /><path clip-path=\"url(#clip480)\" d=\"M 0 0 M6.49868 808.293 L9.02905 808.293 L9.02905 805.277 L10.1669 805.277 L10.1669 808.293 L15.0049 808.293 Q16.095 808.293 16.4053 807.999 Q16.7156 807.696 16.7156 806.781 L16.7156 805.277 L17.941 805.277 L17.941 806.781 Q17.941 808.476 17.3124 809.12 Q16.6759 809.765 15.0049 809.765 L10.1669 809.765 L10.1669 810.839 L9.02905 810.839 L9.02905 809.765 L6.49868 809.765 L6.49868 808.293 Z\" fill=\"#000000\" fill-rule=\"evenodd\" fill-opacity=\"1\" /><path clip-path=\"url(#clip480)\" d=\"M 0 0 M9.02905 803.741 L9.02905 802.277 L17.941 802.277 L17.941 803.741 L9.02905 803.741 M5.55974 803.741 L5.55974 802.277 L7.41375 802.277 L7.41375 803.741 L5.55974 803.741 Z\" fill=\"#000000\" fill-rule=\"evenodd\" fill-opacity=\"1\" /><path clip-path=\"url(#clip480)\" d=\"M 0 0 M10.0555 797.288 Q10.0555 798.466 10.9785 799.15 Q11.8936 799.834 13.493 799.834 Q15.0924 799.834 16.0154 799.158 Q16.9305 798.474 16.9305 797.288 Q16.9305 796.119 16.0075 795.434 Q15.0844 794.75 13.493 794.75 Q11.9095 794.75 10.9865 795.434 Q10.0555 796.119 10.0555 797.288 M8.81421 797.288 Q8.81421 795.378 10.0555 794.288 Q11.2968 793.198 13.493 793.198 Q15.6812 793.198 16.9305 794.288 Q18.1718 795.378 18.1718 797.288 Q18.1718 799.206 16.9305 800.296 Q15.6812 801.378 13.493 801.378 Q11.2968 801.378 10.0555 800.296 Q8.81421 799.206 8.81421 797.288 Z\" fill=\"#000000\" fill-rule=\"evenodd\" fill-opacity=\"1\" /><path clip-path=\"url(#clip480)\" d=\"M 0 0 M12.562 784.254 L17.941 784.254 L17.941 785.719 L12.6098 785.719 Q11.3446 785.719 10.716 786.212 Q10.0873 786.705 10.0873 787.692 Q10.0873 788.878 10.8433 789.562 Q11.5992 790.246 12.9042 790.246 L17.941 790.246 L17.941 791.718 L9.02905 791.718 L9.02905 790.246 L10.4136 790.246 Q9.60992 789.721 9.21206 789.013 Q8.81421 788.297 8.81421 787.366 Q8.81421 785.83 9.76906 785.042 Q10.716 784.254 12.562 784.254 Z\" fill=\"#000000\" fill-rule=\"evenodd\" fill-opacity=\"1\" /><path clip-path=\"url(#clip480)\" d=\"M 0 0 M5.57565 774.022 Q7.40579 775.088 9.19615 775.605 Q10.9865 776.122 12.8246 776.122 Q14.6627 776.122 16.469 775.605 Q18.2673 775.08 20.0895 774.022 L20.0895 775.295 Q18.2195 776.488 16.4133 777.085 Q14.607 777.674 12.8246 777.674 Q11.0502 777.674 9.25185 777.085 Q7.45354 776.496 5.57565 775.295 L5.57565 774.022 Z\" fill=\"#000000\" fill-rule=\"evenodd\" fill-opacity=\"1\" /><path clip-path=\"url(#clip480)\" d=\"M 0 0 M6.06104 772.422 L6.06104 770.815 L17.1135 770.815 Q19.2619 770.815 20.2327 771.634 Q21.2035 772.446 21.2035 774.252 L21.2035 774.865 L19.8508 774.865 L19.8508 774.364 Q19.8508 773.297 19.254 772.86 Q18.6572 772.422 17.1135 772.422 L6.06104 772.422 Z\" fill=\"#000000\" fill-rule=\"evenodd\" fill-opacity=\"1\" /><path clip-path=\"url(#clip480)\" d=\"M 0 0 M10.0555 765.826 Q10.0555 767.003 10.9785 767.688 Q11.8936 768.372 13.493 768.372 Q15.0924 768.372 16.0154 767.696 Q16.9305 767.011 16.9305 765.826 Q16.9305 764.656 16.0075 763.972 Q15.0844 763.287 13.493 763.287 Q11.9095 763.287 10.9865 763.972 Q10.0555 764.656 10.0555 765.826 M8.81421 765.826 Q8.81421 763.916 10.0555 762.826 Q11.2968 761.736 13.493 761.736 Q15.6812 761.736 16.9305 762.826 Q18.1718 763.916 18.1718 765.826 Q18.1718 767.743 16.9305 768.833 Q15.6812 769.916 13.493 769.916 Q11.2968 769.916 10.0555 768.833 Q8.81421 767.743 8.81421 765.826 Z\" fill=\"#000000\" fill-rule=\"evenodd\" fill-opacity=\"1\" /><path clip-path=\"url(#clip480)\" d=\"M 0 0 M5.55974 760.256 L5.55974 758.784 L12.8723 758.784 L9.02905 754.415 L9.02905 752.545 L13.1986 757.272 L17.941 752.346 L17.941 754.256 L13.5885 758.784 L17.941 758.784 L17.941 760.256 L5.55974 760.256 Z\" fill=\"#000000\" fill-rule=\"evenodd\" fill-opacity=\"1\" /><path clip-path=\"url(#clip480)\" d=\"M 0 0 M13.119 743.769 L13.8352 743.769 L13.8352 750.5 Q15.347 750.405 16.1427 749.593 Q16.9305 748.774 16.9305 747.317 Q16.9305 746.474 16.7236 745.686 Q16.5167 744.89 16.1029 744.111 L17.4875 744.111 Q17.8217 744.898 17.9967 745.726 Q18.1718 746.554 18.1718 747.405 Q18.1718 749.537 16.9305 750.787 Q15.6892 752.028 13.5726 752.028 Q11.3844 752.028 10.1033 750.85 Q8.81421 749.665 8.81421 747.66 Q8.81421 745.861 9.97595 744.819 Q11.1297 743.769 13.119 743.769 M12.6893 745.233 Q11.4878 745.249 10.7717 745.909 Q10.0555 746.561 10.0555 747.644 Q10.0555 748.869 10.7478 749.609 Q11.4401 750.341 12.6973 750.453 L12.6893 745.233 Z\" fill=\"#000000\" fill-rule=\"evenodd\" fill-opacity=\"1\" /><path clip-path=\"url(#clip480)\" d=\"M 0 0 M9.29164 736.551 L10.6762 736.551 Q10.3579 737.172 10.1987 737.84 Q10.0396 738.509 10.0396 739.225 Q10.0396 740.315 10.3738 740.864 Q10.708 741.405 11.3764 741.405 Q11.8857 741.405 12.1801 741.015 Q12.4665 740.625 12.7291 739.448 L12.8405 738.947 Q13.1747 737.387 13.7874 736.734 Q14.3922 736.074 15.4823 736.074 Q16.7236 736.074 17.4477 737.061 Q18.1718 738.039 18.1718 739.758 Q18.1718 740.474 18.0286 741.254 Q17.8933 742.026 17.6148 742.885 L16.1029 742.885 Q16.5247 742.074 16.7395 741.286 Q16.9464 740.498 16.9464 739.726 Q16.9464 738.692 16.5963 738.135 Q16.2382 737.578 15.5937 737.578 Q14.9969 737.578 14.6786 737.984 Q14.3603 738.382 14.0659 739.742 L13.9466 740.251 Q13.6601 741.612 13.0713 742.217 Q12.4745 742.822 11.4401 742.822 Q10.1828 742.822 9.49852 741.93 Q8.81421 741.039 8.81421 739.4 Q8.81421 738.588 8.93356 737.872 Q9.05292 737.156 9.29164 736.551 Z\" fill=\"#000000\" fill-rule=\"evenodd\" fill-opacity=\"1\" /><path clip-path=\"url(#clip480)\" d=\"M 0 0 M15.9199 734.164 L15.9199 732.485 L17.2886 732.485 L19.8348 733.79 L19.8348 734.817 L17.2886 734.164 L15.9199 734.164 Z\" fill=\"#000000\" fill-rule=\"evenodd\" fill-opacity=\"1\" /><path clip-path=\"url(#clip480)\" d=\"M 0 0 M7.64451 721.735 L13.5567 723.915 L13.5567 719.547 L7.64451 721.735 M6.06104 722.642 L6.06104 720.82 L17.941 716.293 L17.941 717.964 L14.8935 719.046 L14.8935 724.401 L17.941 725.483 L17.941 727.178 L6.06104 722.642 Z\" fill=\"#000000\" fill-rule=\"evenodd\" fill-opacity=\"1\" /><path clip-path=\"url(#clip480)\" d=\"M 0 0 M9.29164 709.075 L10.6762 709.075 Q10.3579 709.696 10.1987 710.364 Q10.0396 711.033 10.0396 711.749 Q10.0396 712.839 10.3738 713.388 Q10.708 713.929 11.3764 713.929 Q11.8857 713.929 12.1801 713.539 Q12.4665 713.149 12.7291 711.972 L12.8405 711.471 Q13.1747 709.911 13.7874 709.258 Q14.3922 708.598 15.4823 708.598 Q16.7236 708.598 17.4477 709.585 Q18.1718 710.563 18.1718 712.282 Q18.1718 712.998 18.0286 713.778 Q17.8933 714.55 17.6148 715.409 L16.1029 715.409 Q16.5247 714.598 16.7395 713.81 Q16.9464 713.022 16.9464 712.25 Q16.9464 711.216 16.5963 710.659 Q16.2382 710.102 15.5937 710.102 Q14.9969 710.102 14.6786 710.508 Q14.3603 710.906 14.0659 712.266 L13.9466 712.775 Q13.6601 714.136 13.0713 714.741 Q12.4745 715.346 11.4401 715.346 Q10.1828 715.346 9.49852 714.454 Q8.81421 713.563 8.81421 711.924 Q8.81421 711.112 8.93356 710.396 Q9.05292 709.68 9.29164 709.075 Z\" fill=\"#000000\" fill-rule=\"evenodd\" fill-opacity=\"1\" /><path clip-path=\"url(#clip480)\" d=\"M 0 0 M9.29164 701.381 L10.6762 701.381 Q10.3579 702.002 10.1987 702.67 Q10.0396 703.338 10.0396 704.054 Q10.0396 705.145 10.3738 705.694 Q10.708 706.235 11.3764 706.235 Q11.8857 706.235 12.1801 705.845 Q12.4665 705.455 12.7291 704.277 L12.8405 703.776 Q13.1747 702.216 13.7874 701.564 Q14.3922 700.903 15.4823 700.903 Q16.7236 700.903 17.4477 701.89 Q18.1718 702.869 18.1718 704.588 Q18.1718 705.304 18.0286 706.084 Q17.8933 706.855 17.6148 707.715 L16.1029 707.715 Q16.5247 706.903 16.7395 706.115 Q16.9464 705.328 16.9464 704.556 Q16.9464 703.521 16.5963 702.964 Q16.2382 702.407 15.5937 702.407 Q14.9969 702.407 14.6786 702.813 Q14.3603 703.211 14.0659 704.572 L13.9466 705.081 Q13.6601 706.442 13.0713 707.046 Q12.4745 707.651 11.4401 707.651 Q10.1828 707.651 9.49852 706.76 Q8.81421 705.869 8.81421 704.23 Q8.81421 703.418 8.93356 702.702 Q9.05292 701.986 9.29164 701.381 Z\" fill=\"#000000\" fill-rule=\"evenodd\" fill-opacity=\"1\" /><path clip-path=\"url(#clip480)\" d=\"M 0 0 M13.4612 695.318 Q13.4612 697.092 13.867 697.776 Q14.2728 698.461 15.2515 698.461 Q16.0313 698.461 16.4928 697.951 Q16.9464 697.434 16.9464 696.551 Q16.9464 695.333 16.087 694.601 Q15.2197 693.861 13.7874 693.861 L13.4612 693.861 L13.4612 695.318 M12.8564 692.397 L17.941 692.397 L17.941 693.861 L16.5883 693.861 Q17.4 694.363 17.7899 695.111 Q18.1718 695.859 18.1718 696.941 Q18.1718 698.309 17.4079 699.121 Q16.6361 699.925 15.347 699.925 Q13.8431 699.925 13.0792 698.922 Q12.3153 697.912 12.3153 695.914 L12.3153 693.861 L12.1721 693.861 Q11.1616 693.861 10.6125 694.53 Q10.0555 695.19 10.0555 696.392 Q10.0555 697.156 10.2385 697.88 Q10.4215 698.604 10.7876 699.272 L9.43486 699.272 Q9.12454 698.469 8.97335 697.713 Q8.81421 696.957 8.81421 696.241 Q8.81421 694.307 9.81681 693.352 Q10.8194 692.397 12.8564 692.397 Z\" fill=\"#000000\" fill-rule=\"evenodd\" fill-opacity=\"1\" /><path clip-path=\"url(#clip480)\" d=\"M 0 0 M14.424 691.013 L9.02905 691.013 L9.02905 689.549 L14.3683 689.549 Q15.6335 689.549 16.27 689.055 Q16.8987 688.562 16.8987 687.575 Q16.8987 686.39 16.1427 685.705 Q15.3868 685.013 14.0818 685.013 L9.02905 685.013 L9.02905 683.549 L17.941 683.549 L17.941 685.013 L16.5724 685.013 Q17.384 685.546 17.7819 686.254 Q18.1718 686.955 18.1718 687.886 Q18.1718 689.421 17.2169 690.217 Q16.2621 691.013 14.424 691.013 M8.81421 687.329 L8.81421 687.329 Z\" fill=\"#000000\" fill-rule=\"evenodd\" fill-opacity=\"1\" /><path clip-path=\"url(#clip480)\" d=\"M 0 0 M5.55974 682.013 L5.55974 680.549 L17.941 680.549 L17.941 682.013 L5.55974 682.013 Z\" fill=\"#000000\" fill-rule=\"evenodd\" fill-opacity=\"1\" /><path clip-path=\"url(#clip480)\" d=\"M 0 0 M6.49868 677.565 L9.02905 677.565 L9.02905 674.549 L10.1669 674.549 L10.1669 677.565 L15.0049 677.565 Q16.095 677.565 16.4053 677.271 Q16.7156 676.968 16.7156 676.053 L16.7156 674.549 L17.941 674.549 L17.941 676.053 Q17.941 677.748 17.3124 678.393 Q16.6759 679.037 15.0049 679.037 L10.1669 679.037 L10.1669 680.111 L9.02905 680.111 L9.02905 679.037 L6.49868 679.037 L6.49868 677.565 Z\" fill=\"#000000\" fill-rule=\"evenodd\" fill-opacity=\"1\" /><path clip-path=\"url(#clip480)\" d=\"M 0 0 M5.57565 673.244 L5.57565 671.971 Q7.45354 670.778 9.25185 670.189 Q11.0502 669.592 12.8246 669.592 Q14.607 669.592 16.4133 670.189 Q18.2195 670.778 20.0895 671.971 L20.0895 673.244 Q18.2673 672.186 16.469 671.669 Q14.6627 671.144 12.8246 671.144 Q10.9865 671.144 9.19615 671.669 Q7.40579 672.186 5.57565 673.244 Z\" fill=\"#000000\" fill-rule=\"evenodd\" fill-opacity=\"1\" /><polyline clip-path=\"url(#clip482)\" style=\"stroke:#000000; stroke-width:1; stroke-opacity:1; fill:none\" points=\"\n",
       "  666.045,237.961 988.437,237.961 \n",
       "  \"/>\n",
       "<polyline clip-path=\"url(#clip482)\" style=\"stroke:#000000; stroke-width:1; stroke-opacity:1; fill:none\" points=\"\n",
       "  344.755,1463.71 664.53,1463.71 \n",
       "  \"/>\n",
       "<line clip-path=\"url(#clip482)\" x1=\"666.045\" y1=\"245.961\" x2=\"666.045\" y2=\"229.961\" style=\"stroke:#000000; stroke-width:3.2; stroke-opacity:1\"/>\n",
       "<line clip-path=\"url(#clip482)\" x1=\"988.437\" y1=\"245.961\" x2=\"988.437\" y2=\"229.961\" style=\"stroke:#000000; stroke-width:3.2; stroke-opacity:1\"/>\n",
       "<line clip-path=\"url(#clip482)\" x1=\"344.755\" y1=\"1471.71\" x2=\"344.755\" y2=\"1455.71\" style=\"stroke:#000000; stroke-width:3.2; stroke-opacity:1\"/>\n",
       "<line clip-path=\"url(#clip482)\" x1=\"664.53\" y1=\"1471.71\" x2=\"664.53\" y2=\"1455.71\" style=\"stroke:#000000; stroke-width:3.2; stroke-opacity:1\"/>\n",
       "<circle clip-path=\"url(#clip482)\" cx=\"827.241\" cy=\"237.961\" r=\"7\" fill=\"#009af9\" fill-rule=\"evenodd\" fill-opacity=\"1\" stroke=\"#000000\" stroke-opacity=\"1\" stroke-width=\"3.2\"/>\n",
       "<circle clip-path=\"url(#clip482)\" cx=\"504.643\" cy=\"1463.71\" r=\"7\" fill=\"#009af9\" fill-rule=\"evenodd\" fill-opacity=\"1\" stroke=\"#000000\" stroke-opacity=\"1\" stroke-width=\"3.2\"/>\n",
       "<polyline clip-path=\"url(#clip482)\" style=\"stroke:#000000; stroke-width:1; stroke-opacity:1; fill:none\" points=\"\n",
       "  747.922,54.0992 1016.49,54.0992 \n",
       "  \"/>\n",
       "<polyline clip-path=\"url(#clip482)\" style=\"stroke:#000000; stroke-width:1; stroke-opacity:1; fill:none\" points=\"\n",
       "  380.398,1279.84 645.139,1279.84 \n",
       "  \"/>\n",
       "<line clip-path=\"url(#clip482)\" x1=\"747.922\" y1=\"62.0992\" x2=\"747.922\" y2=\"46.0992\" style=\"stroke:#000000; stroke-width:3.2; stroke-opacity:1\"/>\n",
       "<line clip-path=\"url(#clip482)\" x1=\"1016.49\" y1=\"62.0992\" x2=\"1016.49\" y2=\"46.0992\" style=\"stroke:#000000; stroke-width:3.2; stroke-opacity:1\"/>\n",
       "<line clip-path=\"url(#clip482)\" x1=\"380.398\" y1=\"1287.84\" x2=\"380.398\" y2=\"1271.84\" style=\"stroke:#000000; stroke-width:3.2; stroke-opacity:1\"/>\n",
       "<line clip-path=\"url(#clip482)\" x1=\"645.139\" y1=\"1287.84\" x2=\"645.139\" y2=\"1271.84\" style=\"stroke:#000000; stroke-width:3.2; stroke-opacity:1\"/>\n",
       "<circle clip-path=\"url(#clip482)\" cx=\"882.207\" cy=\"54.0992\" r=\"7\" fill=\"#e26f46\" fill-rule=\"evenodd\" fill-opacity=\"1\" stroke=\"#000000\" stroke-opacity=\"1\" stroke-width=\"3.2\"/>\n",
       "<circle clip-path=\"url(#clip482)\" cx=\"512.769\" cy=\"1279.84\" r=\"7\" fill=\"#e26f46\" fill-rule=\"evenodd\" fill-opacity=\"1\" stroke=\"#000000\" stroke-opacity=\"1\" stroke-width=\"3.2\"/>\n",
       "<polyline clip-path=\"url(#clip482)\" style=\"stroke:#000000; stroke-width:2; stroke-opacity:1; fill:none\" stroke-dasharray=\"8, 5\" points=\"\n",
       "  1516.13,3000.18 1516.13,-1482.37 \n",
       "  \"/>\n",
       "<path clip-path=\"url(#clip480)\" d=\"\n",
       "M125.426 792.923 L473.286 792.923 L473.286 690.863 L125.426 690.863  Z\n",
       "  \" fill=\"#ffffff\" fill-rule=\"evenodd\" fill-opacity=\"1\"/>\n",
       "<polyline clip-path=\"url(#clip480)\" style=\"stroke:#000000; stroke-width:1; stroke-opacity:1; fill:none\" points=\"\n",
       "  125.426,792.923 473.286,792.923 473.286,690.863 125.426,690.863 125.426,792.923 \n",
       "  \"/>\n",
       "<circle clip-path=\"url(#clip480)\" cx=\"192.68\" cy=\"724.883\" r=\"12\" fill=\"#009af9\" fill-rule=\"evenodd\" fill-opacity=\"1\" stroke=\"#000000\" stroke-opacity=\"1\" stroke-width=\"5.76\"/>\n",
       "<path clip-path=\"url(#clip480)\" d=\"M 0 0 M272.446 715.801 L272.446 718.366 Q270.949 717.65 269.621 717.298 Q268.293 716.947 267.056 716.947 Q264.907 716.947 263.735 717.78 Q262.577 718.613 262.577 720.15 Q262.577 721.439 263.345 722.103 Q264.126 722.754 266.288 723.158 L267.876 723.483 Q270.819 724.043 272.212 725.462 Q273.618 726.869 273.618 729.238 Q273.618 732.064 271.717 733.522 Q269.829 734.981 266.17 734.981 Q264.79 734.981 263.228 734.668 Q261.678 734.356 260.012 733.744 L260.012 731.035 Q261.613 731.934 263.15 732.389 Q264.686 732.845 266.17 732.845 Q268.423 732.845 269.647 731.96 Q270.871 731.074 270.871 729.434 Q270.871 728.001 269.985 727.194 Q269.113 726.387 267.108 725.983 L265.506 725.671 Q262.564 725.085 261.248 723.835 Q259.933 722.585 259.933 720.358 Q259.933 717.78 261.743 716.296 Q263.566 714.811 266.756 714.811 Q268.123 714.811 269.543 715.059 Q270.962 715.306 272.446 715.801 Z\" fill=\"#000000\" fill-rule=\"evenodd\" fill-opacity=\"1\" /><path clip-path=\"url(#clip480)\" d=\"M 0 0 M282.759 727.272 Q279.855 727.272 278.735 727.936 Q277.616 728.6 277.616 730.202 Q277.616 731.478 278.449 732.233 Q279.295 732.975 280.741 732.975 Q282.733 732.975 283.931 731.569 Q285.142 730.15 285.142 727.806 L285.142 727.272 L282.759 727.272 M287.537 726.283 L287.537 734.603 L285.142 734.603 L285.142 732.389 Q284.321 733.718 283.097 734.356 Q281.873 734.981 280.103 734.981 Q277.863 734.981 276.535 733.731 Q275.22 732.468 275.22 730.358 Q275.22 727.897 276.86 726.647 Q278.514 725.397 281.782 725.397 L285.142 725.397 L285.142 725.163 Q285.142 723.509 284.048 722.611 Q282.967 721.699 281.001 721.699 Q279.751 721.699 278.566 721.999 Q277.381 722.298 276.287 722.897 L276.287 720.684 Q277.603 720.176 278.84 719.929 Q280.077 719.668 281.248 719.668 Q284.412 719.668 285.975 721.309 Q287.537 722.949 287.537 726.283 Z\" fill=\"#000000\" fill-rule=\"evenodd\" fill-opacity=\"1\" /><path clip-path=\"url(#clip480)\" d=\"M 0 0 M301.405 722.819 Q302.303 721.205 303.553 720.436 Q304.803 719.668 306.496 719.668 Q308.774 719.668 310.011 721.27 Q311.248 722.858 311.248 725.801 L311.248 734.603 L308.839 734.603 L308.839 725.879 Q308.839 723.783 308.097 722.767 Q307.355 721.751 305.832 721.751 Q303.97 721.751 302.889 722.988 Q301.808 724.225 301.808 726.361 L301.808 734.603 L299.399 734.603 L299.399 725.879 Q299.399 723.77 298.657 722.767 Q297.915 721.751 296.365 721.751 Q294.53 721.751 293.449 723.001 Q292.368 724.238 292.368 726.361 L292.368 734.603 L289.959 734.603 L289.959 720.02 L292.368 720.02 L292.368 722.285 Q293.188 720.944 294.334 720.306 Q295.48 719.668 297.056 719.668 Q298.644 719.668 299.751 720.475 Q300.871 721.283 301.405 722.819 Z\" fill=\"#000000\" fill-rule=\"evenodd\" fill-opacity=\"1\" /><path clip-path=\"url(#clip480)\" d=\"M 0 0 M326.235 726.712 L326.235 727.884 L315.22 727.884 Q315.376 730.358 316.704 731.66 Q318.045 732.949 320.428 732.949 Q321.808 732.949 323.097 732.611 Q324.399 732.272 325.675 731.595 L325.675 733.861 Q324.386 734.408 323.032 734.694 Q321.678 734.981 320.285 734.981 Q316.795 734.981 314.751 732.949 Q312.72 730.918 312.72 727.455 Q312.72 723.874 314.647 721.778 Q316.587 719.668 319.868 719.668 Q322.811 719.668 324.516 721.569 Q326.235 723.457 326.235 726.712 M323.839 726.009 Q323.813 724.043 322.733 722.871 Q321.665 721.699 319.894 721.699 Q317.889 721.699 316.678 722.832 Q315.48 723.965 315.298 726.022 L323.839 726.009 Z\" fill=\"#000000\" fill-rule=\"evenodd\" fill-opacity=\"1\" /><path clip-path=\"url(#clip480)\" d=\"M 0 0 M339.542 732.416 L339.542 740.15 L337.133 740.15 L337.133 720.02 L339.542 720.02 L339.542 722.233 Q340.298 720.931 341.443 720.306 Q342.602 719.668 344.204 719.668 Q346.86 719.668 348.514 721.778 Q350.18 723.887 350.18 727.324 Q350.18 730.762 348.514 732.871 Q346.86 734.981 344.204 734.981 Q342.602 734.981 341.443 734.356 Q340.298 733.718 339.542 732.416 M347.693 727.324 Q347.693 724.681 346.6 723.184 Q345.519 721.673 343.618 721.673 Q341.717 721.673 340.623 723.184 Q339.542 724.681 339.542 727.324 Q339.542 729.968 340.623 731.478 Q341.717 732.975 343.618 732.975 Q345.519 732.975 346.6 731.478 Q347.693 729.968 347.693 727.324 Z\" fill=\"#000000\" fill-rule=\"evenodd\" fill-opacity=\"1\" /><path clip-path=\"url(#clip480)\" d=\"M 0 0 M359.321 727.272 Q356.417 727.272 355.297 727.936 Q354.178 728.6 354.178 730.202 Q354.178 731.478 355.011 732.233 Q355.857 732.975 357.303 732.975 Q359.295 732.975 360.493 731.569 Q361.704 730.15 361.704 727.806 L361.704 727.272 L359.321 727.272 M364.099 726.283 L364.099 734.603 L361.704 734.603 L361.704 732.389 Q360.883 733.718 359.659 734.356 Q358.435 734.981 356.665 734.981 Q354.425 734.981 353.097 733.731 Q351.782 732.468 351.782 730.358 Q351.782 727.897 353.422 726.647 Q355.076 725.397 358.344 725.397 L361.704 725.397 L361.704 725.163 Q361.704 723.509 360.61 722.611 Q359.529 721.699 357.563 721.699 Q356.313 721.699 355.128 721.999 Q353.943 722.298 352.85 722.897 L352.85 720.684 Q354.165 720.176 355.402 719.929 Q356.639 719.668 357.81 719.668 Q360.975 719.668 362.537 721.309 Q364.099 722.949 364.099 726.283 Z\" fill=\"#000000\" fill-rule=\"evenodd\" fill-opacity=\"1\" /><path clip-path=\"url(#clip480)\" d=\"M 0 0 M375.063 722.259 Q374.659 722.025 374.178 721.921 Q373.709 721.804 373.136 721.804 Q371.105 721.804 370.011 723.132 Q368.93 724.447 368.93 726.921 L368.93 734.603 L366.521 734.603 L366.521 720.02 L368.93 720.02 L368.93 722.285 Q369.685 720.957 370.896 720.319 Q372.107 719.668 373.839 719.668 Q374.086 719.668 374.386 719.707 Q374.685 719.733 375.05 719.798 L375.063 722.259 Z\" fill=\"#000000\" fill-rule=\"evenodd\" fill-opacity=\"1\" /><path clip-path=\"url(#clip480)\" d=\"M 0 0 M379.946 715.879 L379.946 720.02 L384.881 720.02 L384.881 721.882 L379.946 721.882 L379.946 729.798 Q379.946 731.582 380.428 732.09 Q380.922 732.598 382.42 732.598 L384.881 732.598 L384.881 734.603 L382.42 734.603 Q379.646 734.603 378.592 733.574 Q377.537 732.533 377.537 729.798 L377.537 721.882 L375.779 721.882 L375.779 720.02 L377.537 720.02 L377.537 715.879 L379.946 715.879 Z\" fill=\"#000000\" fill-rule=\"evenodd\" fill-opacity=\"1\" /><path clip-path=\"url(#clip480)\" d=\"M 0 0 M393.461 735.957 Q392.446 738.561 391.482 739.356 Q390.519 740.15 388.904 740.15 L386.99 740.15 L386.99 738.145 L388.396 738.145 Q389.386 738.145 389.933 737.676 Q390.48 737.207 391.144 735.462 L391.573 734.369 L385.675 720.02 L388.214 720.02 L392.771 731.426 L397.328 720.02 L399.868 720.02 L393.461 735.957 Z\" fill=\"#000000\" fill-rule=\"evenodd\" fill-opacity=\"1\" /><circle clip-path=\"url(#clip480)\" cx=\"192.68\" cy=\"758.903\" r=\"12\" fill=\"#e26f46\" fill-rule=\"evenodd\" fill-opacity=\"1\" stroke=\"#000000\" stroke-opacity=\"1\" stroke-width=\"5.76\"/>\n",
       "<path clip-path=\"url(#clip480)\" d=\"M 0 0 M268.944 750.967 Q266.079 750.967 264.386 753.102 Q262.707 755.238 262.707 758.923 Q262.707 762.594 264.386 764.73 Q266.079 766.865 268.944 766.865 Q271.808 766.865 273.475 764.73 Q275.155 762.594 275.155 758.923 Q275.155 755.238 273.475 753.102 Q271.808 750.967 268.944 750.967 M268.944 748.831 Q273.032 748.831 275.48 751.579 Q277.928 754.313 277.928 758.923 Q277.928 763.519 275.48 766.266 Q273.032 769.001 268.944 769.001 Q264.842 769.001 262.381 766.266 Q259.933 763.532 259.933 758.923 Q259.933 754.313 262.381 751.579 Q264.842 748.831 268.944 748.831 Z\" fill=\"#000000\" fill-rule=\"evenodd\" fill-opacity=\"1\" /><path clip-path=\"url(#clip480)\" d=\"M 0 0 M282.759 766.436 L282.759 774.17 L280.35 774.17 L280.35 754.04 L282.759 754.04 L282.759 756.253 Q283.514 754.951 284.66 754.326 Q285.819 753.688 287.42 753.688 Q290.076 753.688 291.73 755.798 Q293.397 757.907 293.397 761.344 Q293.397 764.782 291.73 766.891 Q290.076 769.001 287.42 769.001 Q285.819 769.001 284.66 768.376 Q283.514 767.738 282.759 766.436 M290.91 761.344 Q290.91 758.701 289.816 757.204 Q288.735 755.693 286.834 755.693 Q284.933 755.693 283.84 757.204 Q282.759 758.701 282.759 761.344 Q282.759 763.988 283.84 765.498 Q284.933 766.995 286.834 766.995 Q288.735 766.995 289.816 765.498 Q290.91 763.988 290.91 761.344 Z\" fill=\"#000000\" fill-rule=\"evenodd\" fill-opacity=\"1\" /><path clip-path=\"url(#clip480)\" d=\"M 0 0 M298.227 766.436 L298.227 774.17 L295.819 774.17 L295.819 754.04 L298.227 754.04 L298.227 756.253 Q298.983 754.951 300.128 754.326 Q301.287 753.688 302.889 753.688 Q305.545 753.688 307.199 755.798 Q308.865 757.907 308.865 761.344 Q308.865 764.782 307.199 766.891 Q305.545 769.001 302.889 769.001 Q301.287 769.001 300.128 768.376 Q298.983 767.738 298.227 766.436 M306.378 761.344 Q306.378 758.701 305.285 757.204 Q304.204 755.693 302.303 755.693 Q300.402 755.693 299.308 757.204 Q298.227 758.701 298.227 761.344 Q298.227 763.988 299.308 765.498 Q300.402 766.995 302.303 766.995 Q304.204 766.995 305.285 765.498 Q306.378 763.988 306.378 761.344 Z\" fill=\"#000000\" fill-rule=\"evenodd\" fill-opacity=\"1\" /><path clip-path=\"url(#clip480)\" d=\"M 0 0 M317.029 755.719 Q315.102 755.719 313.983 757.23 Q312.863 758.727 312.863 761.344 Q312.863 763.962 313.97 765.472 Q315.089 766.969 317.029 766.969 Q318.943 766.969 320.063 765.459 Q321.183 763.949 321.183 761.344 Q321.183 758.753 320.063 757.243 Q318.943 755.719 317.029 755.719 M317.029 753.688 Q320.154 753.688 321.938 755.719 Q323.722 757.751 323.722 761.344 Q323.722 764.925 321.938 766.969 Q320.154 769.001 317.029 769.001 Q313.891 769.001 312.108 766.969 Q310.337 764.925 310.337 761.344 Q310.337 757.751 312.108 755.719 Q313.891 753.688 317.029 753.688 Z\" fill=\"#000000\" fill-rule=\"evenodd\" fill-opacity=\"1\" /><path clip-path=\"url(#clip480)\" d=\"M 0 0 M335.532 754.469 L335.532 756.735 Q334.516 756.214 333.423 755.954 Q332.329 755.693 331.157 755.693 Q329.373 755.693 328.475 756.24 Q327.589 756.787 327.589 757.881 Q327.589 758.714 328.227 759.196 Q328.865 759.665 330.792 760.094 L331.613 760.277 Q334.165 760.824 335.232 761.826 Q336.313 762.816 336.313 764.6 Q336.313 766.631 334.699 767.816 Q333.097 769.001 330.285 769.001 Q329.113 769.001 327.837 768.766 Q326.574 768.545 325.167 768.089 L325.167 765.615 Q326.496 766.305 327.785 766.657 Q329.074 766.995 330.337 766.995 Q332.029 766.995 332.941 766.422 Q333.852 765.837 333.852 764.782 Q333.852 763.805 333.188 763.284 Q332.537 762.764 330.311 762.282 L329.477 762.087 Q327.251 761.618 326.261 760.654 Q325.272 759.678 325.272 757.985 Q325.272 755.928 326.73 754.808 Q328.188 753.688 330.871 753.688 Q332.199 753.688 333.37 753.883 Q334.542 754.079 335.532 754.469 Z\" fill=\"#000000\" fill-rule=\"evenodd\" fill-opacity=\"1\" /><path clip-path=\"url(#clip480)\" d=\"M 0 0 M338.826 754.04 L341.222 754.04 L341.222 768.623 L338.826 768.623 L338.826 754.04 M338.826 748.363 L341.222 748.363 L341.222 751.397 L338.826 751.397 L338.826 748.363 Z\" fill=\"#000000\" fill-rule=\"evenodd\" fill-opacity=\"1\" /><path clip-path=\"url(#clip480)\" d=\"M 0 0 M346.105 749.899 L346.105 754.04 L351.04 754.04 L351.04 755.902 L346.105 755.902 L346.105 763.818 Q346.105 765.602 346.587 766.11 Q347.081 766.618 348.579 766.618 L351.04 766.618 L351.04 768.623 L348.579 768.623 Q345.805 768.623 344.751 767.594 Q343.696 766.553 343.696 763.818 L343.696 755.902 L341.938 755.902 L341.938 754.04 L343.696 754.04 L343.696 749.899 L346.105 749.899 Z\" fill=\"#000000\" fill-rule=\"evenodd\" fill-opacity=\"1\" /><path clip-path=\"url(#clip480)\" d=\"M 0 0 M366.027 760.732 L366.027 761.904 L355.011 761.904 Q355.167 764.378 356.495 765.68 Q357.837 766.969 360.219 766.969 Q361.6 766.969 362.889 766.631 Q364.191 766.292 365.467 765.615 L365.467 767.881 Q364.178 768.428 362.823 768.714 Q361.469 769.001 360.076 769.001 Q356.587 769.001 354.542 766.969 Q352.511 764.938 352.511 761.475 Q352.511 757.894 354.438 755.798 Q356.378 753.688 359.659 753.688 Q362.602 753.688 364.308 755.589 Q366.027 757.477 366.027 760.732 M363.631 760.029 Q363.605 758.063 362.524 756.891 Q361.456 755.719 359.685 755.719 Q357.68 755.719 356.469 756.852 Q355.271 757.985 355.089 760.042 L363.631 760.029 Z\" fill=\"#000000\" fill-rule=\"evenodd\" fill-opacity=\"1\" /><path clip-path=\"url(#clip480)\" d=\"M 0 0 M379.334 766.436 L379.334 774.17 L376.925 774.17 L376.925 754.04 L379.334 754.04 L379.334 756.253 Q380.089 754.951 381.235 754.326 Q382.394 753.688 383.995 753.688 Q386.651 753.688 388.305 755.798 Q389.972 757.907 389.972 761.344 Q389.972 764.782 388.305 766.891 Q386.651 769.001 383.995 769.001 Q382.394 769.001 381.235 768.376 Q380.089 767.738 379.334 766.436 M387.485 761.344 Q387.485 758.701 386.391 757.204 Q385.31 755.693 383.409 755.693 Q381.508 755.693 380.415 757.204 Q379.334 758.701 379.334 761.344 Q379.334 763.988 380.415 765.498 Q381.508 766.995 383.409 766.995 Q385.31 766.995 386.391 765.498 Q387.485 763.988 387.485 761.344 Z\" fill=\"#000000\" fill-rule=\"evenodd\" fill-opacity=\"1\" /><path clip-path=\"url(#clip480)\" d=\"M 0 0 M399.112 761.292 Q396.209 761.292 395.089 761.956 Q393.969 762.62 393.969 764.222 Q393.969 765.498 394.802 766.253 Q395.649 766.995 397.094 766.995 Q399.086 766.995 400.284 765.589 Q401.495 764.17 401.495 761.826 L401.495 761.292 L399.112 761.292 M403.891 760.303 L403.891 768.623 L401.495 768.623 L401.495 766.409 Q400.675 767.738 399.451 768.376 Q398.227 769.001 396.456 769.001 Q394.217 769.001 392.888 767.751 Q391.573 766.488 391.573 764.378 Q391.573 761.917 393.214 760.667 Q394.868 759.417 398.136 759.417 L401.495 759.417 L401.495 759.183 Q401.495 757.529 400.401 756.631 Q399.321 755.719 397.355 755.719 Q396.105 755.719 394.92 756.019 Q393.735 756.318 392.641 756.917 L392.641 754.704 Q393.956 754.196 395.193 753.949 Q396.43 753.688 397.602 753.688 Q400.766 753.688 402.328 755.329 Q403.891 756.969 403.891 760.303 Z\" fill=\"#000000\" fill-rule=\"evenodd\" fill-opacity=\"1\" /><path clip-path=\"url(#clip480)\" d=\"M 0 0 M414.854 756.279 Q414.451 756.045 413.969 755.941 Q413.5 755.824 412.927 755.824 Q410.896 755.824 409.802 757.152 Q408.722 758.467 408.722 760.941 L408.722 768.623 L406.313 768.623 L406.313 754.04 L408.722 754.04 L408.722 756.305 Q409.477 754.977 410.688 754.339 Q411.899 753.688 413.63 753.688 Q413.878 753.688 414.177 753.727 Q414.477 753.753 414.841 753.818 L414.854 756.279 Z\" fill=\"#000000\" fill-rule=\"evenodd\" fill-opacity=\"1\" /><path clip-path=\"url(#clip480)\" d=\"M 0 0 M419.737 749.899 L419.737 754.04 L424.672 754.04 L424.672 755.902 L419.737 755.902 L419.737 763.818 Q419.737 765.602 420.219 766.11 Q420.714 766.618 422.211 766.618 L424.672 766.618 L424.672 768.623 L422.211 768.623 Q419.438 768.623 418.383 767.594 Q417.328 766.553 417.328 763.818 L417.328 755.902 L415.571 755.902 L415.571 754.04 L417.328 754.04 L417.328 749.899 L419.737 749.899 Z\" fill=\"#000000\" fill-rule=\"evenodd\" fill-opacity=\"1\" /><path clip-path=\"url(#clip480)\" d=\"M 0 0 M433.253 769.977 Q432.237 772.581 431.274 773.376 Q430.31 774.17 428.696 774.17 L426.781 774.17 L426.781 772.165 L428.188 772.165 Q429.177 772.165 429.724 771.696 Q430.271 771.227 430.935 769.482 L431.365 768.389 L425.466 754.04 L428.005 754.04 L432.563 765.446 L437.12 754.04 L439.659 754.04 L433.253 769.977 Z\" fill=\"#000000\" fill-rule=\"evenodd\" fill-opacity=\"1\" /><path clip-path=\"url(#clip480)\" d=\"M 0 0 M1309.42 1335.59 L1306.65 1343.11 L1312.21 1343.11 L1309.42 1335.59 M1308.27 1333.57 L1310.59 1333.57 L1316.35 1348.69 L1314.23 1348.69 L1312.85 1344.81 L1306.03 1344.81 L1304.65 1348.69 L1302.5 1348.69 L1308.27 1333.57 Z\" fill=\"#000000\" fill-rule=\"evenodd\" fill-opacity=\"1\" /><path clip-path=\"url(#clip480)\" d=\"M 0 0 M1325.54 1337.68 L1325.54 1339.45 Q1324.75 1339.04 1323.9 1338.84 Q1323.05 1338.64 1322.13 1338.64 Q1320.75 1338.64 1320.05 1339.06 Q1319.36 1339.49 1319.36 1340.34 Q1319.36 1340.99 1319.86 1341.36 Q1320.35 1341.72 1321.85 1342.06 L1322.49 1342.2 Q1324.47 1342.63 1325.3 1343.41 Q1326.14 1344.18 1326.14 1345.56 Q1326.14 1347.14 1324.89 1348.06 Q1323.64 1348.99 1321.46 1348.99 Q1320.54 1348.99 1319.55 1348.8 Q1318.57 1348.63 1317.48 1348.28 L1317.48 1346.35 Q1318.51 1346.89 1319.51 1347.16 Q1320.51 1347.43 1321.5 1347.43 Q1322.81 1347.43 1323.52 1346.98 Q1324.23 1346.52 1324.23 1345.7 Q1324.23 1344.95 1323.71 1344.54 Q1323.21 1344.13 1321.48 1343.76 L1320.83 1343.61 Q1319.1 1343.24 1318.33 1342.49 Q1317.56 1341.73 1317.56 1340.42 Q1317.56 1338.82 1318.69 1337.95 Q1319.83 1337.08 1321.91 1337.08 Q1322.94 1337.08 1323.86 1337.23 Q1324.77 1337.38 1325.54 1337.68 Z\" fill=\"#000000\" fill-rule=\"evenodd\" fill-opacity=\"1\" /><path clip-path=\"url(#clip480)\" d=\"M 0 0 M1335.33 1337.68 L1335.33 1339.45 Q1334.54 1339.04 1333.69 1338.84 Q1332.84 1338.64 1331.93 1338.64 Q1330.54 1338.64 1329.84 1339.06 Q1329.15 1339.49 1329.15 1340.34 Q1329.15 1340.99 1329.65 1341.36 Q1330.15 1341.72 1331.64 1342.06 L1332.28 1342.2 Q1334.27 1342.63 1335.1 1343.41 Q1335.94 1344.18 1335.94 1345.56 Q1335.94 1347.14 1334.68 1348.06 Q1333.44 1348.99 1331.25 1348.99 Q1330.34 1348.99 1329.35 1348.8 Q1328.36 1348.63 1327.27 1348.28 L1327.27 1346.35 Q1328.3 1346.89 1329.3 1347.16 Q1330.31 1347.43 1331.29 1347.43 Q1332.61 1347.43 1333.31 1346.98 Q1334.02 1346.52 1334.02 1345.7 Q1334.02 1344.95 1333.51 1344.54 Q1333 1344.13 1331.27 1343.76 L1330.62 1343.61 Q1328.89 1343.24 1328.12 1342.49 Q1327.35 1341.73 1327.35 1340.42 Q1327.35 1338.82 1328.48 1337.95 Q1329.62 1337.08 1331.7 1337.08 Q1332.74 1337.08 1333.65 1337.23 Q1334.56 1337.38 1335.33 1337.68 Z\" fill=\"#000000\" fill-rule=\"evenodd\" fill-opacity=\"1\" /><path clip-path=\"url(#clip480)\" d=\"M 0 0 M1343.05 1342.99 Q1340.79 1342.99 1339.92 1343.51 Q1339.05 1344.02 1339.05 1345.27 Q1339.05 1346.26 1339.7 1346.85 Q1340.35 1347.43 1341.48 1347.43 Q1343.03 1347.43 1343.96 1346.33 Q1344.9 1345.23 1344.9 1343.41 L1344.9 1342.99 L1343.05 1342.99 M1346.76 1342.22 L1346.76 1348.69 L1344.9 1348.69 L1344.9 1346.97 Q1344.26 1348 1343.31 1348.5 Q1342.36 1348.99 1340.98 1348.99 Q1339.24 1348.99 1338.21 1348.01 Q1337.18 1347.03 1337.18 1345.39 Q1337.18 1343.48 1338.46 1342.5 Q1339.75 1341.53 1342.29 1341.53 L1344.9 1341.53 L1344.9 1341.35 Q1344.9 1340.06 1344.05 1339.36 Q1343.21 1338.66 1341.68 1338.66 Q1340.71 1338.66 1339.79 1338.89 Q1338.86 1339.12 1338.01 1339.59 L1338.01 1337.87 Q1339.04 1337.47 1340 1337.28 Q1340.96 1337.08 1341.87 1337.08 Q1344.33 1337.08 1345.55 1338.35 Q1346.76 1339.63 1346.76 1342.22 Z\" fill=\"#000000\" fill-rule=\"evenodd\" fill-opacity=\"1\" /><path clip-path=\"url(#clip480)\" d=\"M 0 0 M1348.53 1344.22 L1348.53 1337.35 L1350.39 1337.35 L1350.39 1344.15 Q1350.39 1345.76 1351.02 1346.57 Q1351.65 1347.37 1352.9 1347.37 Q1354.41 1347.37 1355.28 1346.4 Q1356.16 1345.44 1356.16 1343.78 L1356.16 1337.35 L1358.03 1337.35 L1358.03 1348.69 L1356.16 1348.69 L1356.16 1346.95 Q1355.48 1347.98 1354.58 1348.49 Q1353.69 1348.99 1352.51 1348.99 Q1350.55 1348.99 1349.54 1347.77 Q1348.53 1346.56 1348.53 1344.22 M1353.22 1337.08 L1353.22 1337.08 Z\" fill=\"#000000\" fill-rule=\"evenodd\" fill-opacity=\"1\" /><path clip-path=\"url(#clip480)\" d=\"M 0 0 M1359.98 1332.93 L1361.84 1332.93 L1361.84 1348.69 L1359.98 1348.69 L1359.98 1332.93 Z\" fill=\"#000000\" fill-rule=\"evenodd\" fill-opacity=\"1\" /><path clip-path=\"url(#clip480)\" d=\"M 0 0 M1365.64 1334.13 L1365.64 1337.35 L1369.48 1337.35 L1369.48 1338.8 L1365.64 1338.8 L1365.64 1344.96 Q1365.64 1346.34 1366.02 1346.74 Q1366.4 1347.13 1367.57 1347.13 L1369.48 1347.13 L1369.48 1348.69 L1367.57 1348.69 Q1365.41 1348.69 1364.59 1347.89 Q1363.77 1347.08 1363.77 1344.96 L1363.77 1338.8 L1362.4 1338.8 L1362.4 1337.35 L1363.77 1337.35 L1363.77 1334.13 L1365.64 1334.13 Z\" fill=\"#000000\" fill-rule=\"evenodd\" fill-opacity=\"1\" /><path clip-path=\"url(#clip480)\" d=\"M 0 0 M1314.41 107.827 L1316.46 107.827 L1316.46 121.893 Q1316.46 124.628 1315.42 125.863 Q1314.38 127.099 1312.08 127.099 L1311.3 127.099 L1311.3 125.377 L1311.94 125.377 Q1313.3 125.377 1313.86 124.618 Q1314.41 123.858 1314.41 121.893 L1314.41 107.827 Z\" fill=\"#000000\" fill-rule=\"evenodd\" fill-opacity=\"1\" /><path clip-path=\"url(#clip480)\" d=\"M 0 0 M1322.81 112.91 Q1321.31 112.91 1320.44 114.085 Q1319.57 115.25 1319.57 117.285 Q1319.57 119.321 1320.43 120.496 Q1321.3 121.66 1322.81 121.66 Q1324.3 121.66 1325.17 120.486 Q1326.04 119.311 1326.04 117.285 Q1326.04 115.27 1325.17 114.095 Q1324.3 112.91 1322.81 112.91 M1322.81 111.331 Q1325.24 111.331 1326.63 112.91 Q1328.01 114.49 1328.01 117.285 Q1328.01 120.07 1326.63 121.66 Q1325.24 123.24 1322.81 123.24 Q1320.37 123.24 1318.98 121.66 Q1317.6 120.07 1317.6 117.285 Q1317.6 114.49 1318.98 112.91 Q1320.37 111.331 1322.81 111.331 Z\" fill=\"#000000\" fill-rule=\"evenodd\" fill-opacity=\"1\" /><path clip-path=\"url(#clip480)\" d=\"M 0 0 M1329.9 107.189 L1331.77 107.189 L1331.77 116.495 L1337.33 111.604 L1339.71 111.604 L1333.69 116.911 L1339.96 122.947 L1337.53 122.947 L1331.77 117.407 L1331.77 122.947 L1329.9 122.947 L1329.9 107.189 Z\" fill=\"#000000\" fill-rule=\"evenodd\" fill-opacity=\"1\" /><path clip-path=\"url(#clip480)\" d=\"M 0 0 M1350.88 116.809 L1350.88 117.721 L1342.31 117.721 Q1342.43 119.645 1343.47 120.658 Q1344.51 121.66 1346.36 121.66 Q1347.44 121.66 1348.44 121.397 Q1349.45 121.134 1350.45 120.607 L1350.45 122.369 Q1349.44 122.795 1348.39 123.017 Q1347.34 123.24 1346.25 123.24 Q1343.54 123.24 1341.95 121.66 Q1340.37 120.081 1340.37 117.387 Q1340.37 114.602 1341.87 112.971 Q1343.38 111.331 1345.93 111.331 Q1348.22 111.331 1349.54 112.809 Q1350.88 114.278 1350.88 116.809 M1349.02 116.263 Q1349 114.733 1348.16 113.822 Q1347.33 112.91 1345.95 112.91 Q1344.39 112.91 1343.45 113.791 Q1342.52 114.673 1342.37 116.273 L1349.02 116.263 Z\" fill=\"#000000\" fill-rule=\"evenodd\" fill-opacity=\"1\" /><path clip-path=\"url(#clip480)\" d=\"M 0 0 M1360.07 111.938 L1360.07 113.7 Q1359.28 113.295 1358.43 113.093 Q1357.57 112.89 1356.66 112.89 Q1355.28 112.89 1354.58 113.316 Q1353.89 113.741 1353.89 114.592 Q1353.89 115.24 1354.38 115.614 Q1354.88 115.979 1356.38 116.313 L1357.02 116.455 Q1359 116.88 1359.83 117.66 Q1360.67 118.43 1360.67 119.817 Q1360.67 121.397 1359.42 122.319 Q1358.17 123.24 1355.98 123.24 Q1355.07 123.24 1354.08 123.058 Q1353.1 122.886 1352 122.531 L1352 120.607 Q1353.04 121.144 1354.04 121.417 Q1355.04 121.681 1356.03 121.681 Q1357.34 121.681 1358.05 121.235 Q1358.76 120.779 1358.76 119.959 Q1358.76 119.199 1358.24 118.794 Q1357.74 118.389 1356.01 118.015 L1355.36 117.863 Q1353.63 117.498 1352.86 116.749 Q1352.09 115.989 1352.09 114.673 Q1352.09 113.072 1353.22 112.202 Q1354.35 111.331 1356.44 111.331 Q1357.47 111.331 1358.38 111.482 Q1359.3 111.634 1360.07 111.938 Z\" fill=\"#000000\" fill-rule=\"evenodd\" fill-opacity=\"1\" /></svg>\n"
      ]
     },
     "execution_count": 83,
     "metadata": {},
     "output_type": "execute_result"
    }
   ],
   "source": [
    "plot(coefdf.coef1, int(CategoricalArray(coefdf.name), type=Int), seriestype = :scatter, xerror=1.96*coefdf.err1,\n",
    "    markersize=8,\n",
    "    xtickfontsize=18,\n",
    "    #ytickfontsize=18,\n",
    "    #tickfontcolor = false,\n",
    "    #yshowaxis=false,\n",
    "    xlabel=\"average treatment effect\",\n",
    "    xguidefontsize=18,\n",
    "    xlim = (-40,2),\n",
    "    ylabel=\"condition (Jokes, Assault)\",\n",
    "    #yguidefontsize=18,\n",
    "    label = (\"Same party\"),\n",
    "    legendfontsize=18,\n",
    "    #ytickfontcolor = \"white\",\n",
    "    ytickfontsize = 1,\n",
    "    size=(1600,1600),\n",
    "    #legend=false,\n",
    "        legend = :left #:outertopleft\n",
    "       )\n",
    "plot!(coefdf.coef2, int(CategoricalArray(coefdf.name), type=Int).+.15, seriestype = :scatter, label = (\"Opposite party\"), \n",
    "            xerror=1.96*coefdf.err2, \n",
    "            markersize=8\n",
    "       )\n",
    "vline!([0], seriestype = \"vline\", lw=2, ls=:dash, lc=\"black\", label = false)\n",
    "annotate!(-5, 1.1, \"Assault\", :black)\n",
    "annotate!(-5, 2.1, \"Jokes\", :black)"
   ]
  },
  {
   "cell_type": "code",
   "execution_count": 84,
   "metadata": {},
   "outputs": [],
   "source": [
    "savefig(\"./figures/fig2.png\") "
   ]
  },
  {
   "cell_type": "code",
   "execution_count": null,
   "metadata": {},
   "outputs": [],
   "source": [
    "# Figure 3"
   ]
  },
  {
   "cell_type": "code",
   "execution_count": 86,
   "metadata": {},
   "outputs": [
    {
     "data": {
      "text/plain": [
       "StatsModels.TableRegressionModel{LinearModel{GLM.LmResp{Array{Float64,1}},GLM.DensePredChol{Float64,LinearAlgebra.Cholesky{Float64,Array{Float64,2}}}},Array{Float64,2}}\n",
       "\n",
       "perchange_sexism ~ 1 + condition2\n",
       "\n",
       "Coefficients:\n",
       "──────────────────────────────────────────────────────────────────────────────────\n",
       "                         Coef.  Std. Error      t  Pr(>|t|)   Lower 95%  Upper 95%\n",
       "──────────────────────────────────────────────────────────────────────────────────\n",
       "(Intercept)          -0.23347      0.41674  -0.56    0.5754  -1.05083     0.583894\n",
       "condition2: Jokes     1.23334      0.59116   2.09    0.0371   0.0738784   2.3928\n",
       "condition2: Assault   0.119715     0.58636   0.20    0.8382  -1.03033     1.26976\n",
       "──────────────────────────────────────────────────────────────────────────────────"
      ]
     },
     "execution_count": 86,
     "metadata": {},
     "output_type": "execute_result"
    }
   ],
   "source": [
    "m3a = lm(@formula(perchange_sexism ~ condition2), samepartydat)\n",
    "m3b = lm(@formula(perchange_sexism ~ condition2), opppartydat)\n",
    "m3a"
   ]
  },
  {
   "cell_type": "code",
   "execution_count": null,
   "metadata": {},
   "outputs": [],
   "source": [
    "m3b"
   ]
  },
  {
   "cell_type": "code",
   "execution_count": 87,
   "metadata": {},
   "outputs": [
    {
     "data": {
      "text/html": [
       "<table class=\"data-frame\"><thead><tr><th></th><th>name</th><th>nameb</th><th>coef1</th><th>err1</th><th>upper1</th><th>lower1</th><th>coef2</th><th>err2</th></tr><tr><th></th><th>String</th><th>String</th><th>Float64</th><th>Float64</th><th>Float64</th><th>Float64</th><th>Float64</th><th>Float64</th></tr></thead><tbody><p>2 rows × 10 columns (omitted printing of 2 columns)</p><tr><th>1</th><td>condition2: Jokes</td><td>Jokes</td><td>1.23334</td><td>0.59116</td><td>2.39201</td><td>0.0746641</td><td>1.93285</td><td>0.59341</td></tr><tr><th>2</th><td>condition2: Assault</td><td>Assault</td><td>0.119715</td><td>0.58636</td><td>1.26898</td><td>-1.02955</td><td>0.843948</td><td>0.584949</td></tr></tbody></table>"
      ],
      "text/latex": [
       "\\begin{tabular}{r|ccccccccc}\n",
       "\t& name & nameb & coef1 & err1 & upper1 & lower1 & coef2 & err2 & \\\\\n",
       "\t\\hline\n",
       "\t& String & String & Float64 & Float64 & Float64 & Float64 & Float64 & Float64 & \\\\\n",
       "\t\\hline\n",
       "\t1 & condition2: Jokes & Jokes & 1.23334 & 0.59116 & 2.39201 & 0.0746641 & 1.93285 & 0.59341 & $\\dots$ \\\\\n",
       "\t2 & condition2: Assault & Assault & 0.119715 & 0.58636 & 1.26898 & -1.02955 & 0.843948 & 0.584949 & $\\dots$ \\\\\n",
       "\\end{tabular}\n"
      ],
      "text/plain": [
       "2×10 DataFrame. Omitted printing of 5 columns\n",
       "│ Row │ name                │ nameb   │ coef1    │ err1    │ upper1  │\n",
       "│     │ \u001b[90mString\u001b[39m              │ \u001b[90mString\u001b[39m  │ \u001b[90mFloat64\u001b[39m  │ \u001b[90mFloat64\u001b[39m │ \u001b[90mFloat64\u001b[39m │\n",
       "├─────┼─────────────────────┼─────────┼──────────┼─────────┼─────────┤\n",
       "│ 1   │ condition2: Jokes   │ Jokes   │ 1.23334  │ 0.59116 │ 2.39201 │\n",
       "│ 2   │ condition2: Assault │ Assault │ 0.119715 │ 0.58636 │ 1.26898 │"
      ]
     },
     "execution_count": 87,
     "metadata": {},
     "output_type": "execute_result"
    }
   ],
   "source": [
    "# juts need to change first two lines\n",
    "m1 = m3a\n",
    "m2 = m3b\n",
    "#\n",
    "coefdf = DataFrame()\n",
    "coefdf.name = coefnames(m1)[2:end] # no intercept\n",
    "coefdf.nameb = [\"Jokes\", \"Assault\"]\n",
    "coefdf.coef1 = coef(m1)[2:end]\n",
    "coefdf.err1 = stderror(m1)[2:end]\n",
    "coefdf.upper1 = coefdf.coef1 + 1.96*coefdf.err1\n",
    "coefdf.lower1 = coefdf.coef1 - 1.96*coefdf.err1\n",
    "coefdf.coef2 = coef(m2)[2:end]\n",
    "coefdf.err2 = stderror(m2)[2:end]\n",
    "coefdf.upper2 = coefdf.coef2 + 1.96*coefdf.err2\n",
    "coefdf.lower2 = coefdf.coef2 - 1.96*coefdf.err2\n",
    "\n",
    "coefdf"
   ]
  },
  {
   "cell_type": "code",
   "execution_count": 96,
   "metadata": {},
   "outputs": [
    {
     "data": {
      "image/svg+xml": [
       "<?xml version=\"1.0\" encoding=\"utf-8\"?>\n",
       "<svg xmlns=\"http://www.w3.org/2000/svg\" xmlns:xlink=\"http://www.w3.org/1999/xlink\" width=\"400\" height=\"400\" viewBox=\"0 0 1600 1600\">\n",
       "<defs>\n",
       "  <clipPath id=\"clip810\">\n",
       "    <rect x=\"0\" y=\"0\" width=\"1600\" height=\"1600\"/>\n",
       "  </clipPath>\n",
       "</defs>\n",
       "<path clip-path=\"url(#clip810)\" d=\"\n",
       "M0 1600 L1600 1600 L1600 0 L0 0  Z\n",
       "  \" fill=\"#ffffff\" fill-rule=\"evenodd\" fill-opacity=\"1\"/>\n",
       "<defs>\n",
       "  <clipPath id=\"clip811\">\n",
       "    <rect x=\"320\" y=\"160\" width=\"1121\" height=\"1121\"/>\n",
       "  </clipPath>\n",
       "</defs>\n",
       "<path clip-path=\"url(#clip810)\" d=\"\n",
       "M67.5302 1505.99 L1588.19 1505.99 L1588.19 11.811 L67.5302 11.811  Z\n",
       "  \" fill=\"#ffffff\" fill-rule=\"evenodd\" fill-opacity=\"1\"/>\n",
       "<defs>\n",
       "  <clipPath id=\"clip812\">\n",
       "    <rect x=\"67\" y=\"11\" width=\"1522\" height=\"1495\"/>\n",
       "  </clipPath>\n",
       "</defs>\n",
       "<polyline clip-path=\"url(#clip812)\" style=\"stroke:#000000; stroke-width:0.5; stroke-opacity:0.1; fill:none\" points=\"\n",
       "  67.5302,1505.99 67.5302,11.811 \n",
       "  \"/>\n",
       "<polyline clip-path=\"url(#clip812)\" style=\"stroke:#000000; stroke-width:0.5; stroke-opacity:0.1; fill:none\" points=\"\n",
       "  447.695,1505.99 447.695,11.811 \n",
       "  \"/>\n",
       "<polyline clip-path=\"url(#clip812)\" style=\"stroke:#000000; stroke-width:0.5; stroke-opacity:0.1; fill:none\" points=\"\n",
       "  827.86,1505.99 827.86,11.811 \n",
       "  \"/>\n",
       "<polyline clip-path=\"url(#clip812)\" style=\"stroke:#000000; stroke-width:0.5; stroke-opacity:0.1; fill:none\" points=\"\n",
       "  1208.02,1505.99 1208.02,11.811 \n",
       "  \"/>\n",
       "<polyline clip-path=\"url(#clip812)\" style=\"stroke:#000000; stroke-width:0.5; stroke-opacity:0.1; fill:none\" points=\"\n",
       "  1588.19,1505.99 1588.19,11.811 \n",
       "  \"/>\n",
       "<polyline clip-path=\"url(#clip810)\" style=\"stroke:#000000; stroke-width:1; stroke-opacity:1; fill:none\" points=\"\n",
       "  67.5302,1505.99 1588.19,1505.99 \n",
       "  \"/>\n",
       "<polyline clip-path=\"url(#clip810)\" style=\"stroke:#000000; stroke-width:1; stroke-opacity:1; fill:none\" points=\"\n",
       "  67.5302,1505.99 67.5302,1488.06 \n",
       "  \"/>\n",
       "<polyline clip-path=\"url(#clip810)\" style=\"stroke:#000000; stroke-width:1; stroke-opacity:1; fill:none\" points=\"\n",
       "  447.695,1505.99 447.695,1488.06 \n",
       "  \"/>\n",
       "<polyline clip-path=\"url(#clip810)\" style=\"stroke:#000000; stroke-width:1; stroke-opacity:1; fill:none\" points=\"\n",
       "  827.86,1505.99 827.86,1488.06 \n",
       "  \"/>\n",
       "<polyline clip-path=\"url(#clip810)\" style=\"stroke:#000000; stroke-width:1; stroke-opacity:1; fill:none\" points=\"\n",
       "  1208.02,1505.99 1208.02,1488.06 \n",
       "  \"/>\n",
       "<polyline clip-path=\"url(#clip810)\" style=\"stroke:#000000; stroke-width:1; stroke-opacity:1; fill:none\" points=\"\n",
       "  1588.19,1505.99 1588.19,1488.06 \n",
       "  \"/>\n",
       "<path clip-path=\"url(#clip810)\" d=\"M 0 0 M41.4692 1532.66 L58.1618 1532.66 L58.1618 1534.87 L41.4692 1534.87 L41.4692 1532.66 Z\" fill=\"#000000\" fill-rule=\"evenodd\" fill-opacity=\"1\" /><path clip-path=\"url(#clip810)\" d=\"M 0 0 M61.0394 1522.68 L71.3648 1522.68 L71.3648 1524.9 L63.4482 1524.9 L63.4482 1529.66 Q64.0211 1529.47 64.594 1529.38 Q65.1669 1529.27 65.7399 1529.27 Q68.995 1529.27 70.8961 1531.06 Q72.7971 1532.84 72.7971 1535.89 Q72.7971 1539.02 70.844 1540.77 Q68.8909 1542.5 65.3362 1542.5 Q64.1123 1542.5 62.8362 1542.29 Q61.5732 1542.08 60.2191 1541.67 L60.2191 1539.02 Q61.3909 1539.66 62.6409 1539.97 Q63.8909 1540.29 65.2841 1540.29 Q67.5367 1540.29 68.8518 1539.1 Q70.1669 1537.92 70.1669 1535.89 Q70.1669 1533.85 68.8518 1532.67 Q67.5367 1531.48 65.2841 1531.48 Q64.2294 1531.48 63.1748 1531.72 Q62.1331 1531.95 61.0394 1532.45 L61.0394 1522.68 Z\" fill=\"#000000\" fill-rule=\"evenodd\" fill-opacity=\"1\" /><path clip-path=\"url(#clip810)\" d=\"M 0 0 M75.6487 1538.82 L78.396 1538.82 L78.396 1542.12 L75.6487 1542.12 L75.6487 1538.82 Z\" fill=\"#000000\" fill-rule=\"evenodd\" fill-opacity=\"1\" /><path clip-path=\"url(#clip810)\" d=\"M 0 0 M86.8726 1524.41 Q84.8413 1524.41 83.8127 1526.42 Q82.7971 1528.41 82.7971 1532.42 Q82.7971 1536.42 83.8127 1538.43 Q84.8413 1540.42 86.8726 1540.42 Q88.9168 1540.42 89.9324 1538.43 Q90.9611 1536.42 90.9611 1532.42 Q90.9611 1528.41 89.9324 1526.42 Q88.9168 1524.41 86.8726 1524.41 M86.8726 1522.33 Q90.1408 1522.33 91.8595 1524.92 Q93.5913 1527.5 93.5913 1532.42 Q93.5913 1537.33 91.8595 1539.92 Q90.1408 1542.5 86.8726 1542.5 Q83.6043 1542.5 81.8726 1539.92 Q80.1538 1537.33 80.1538 1532.42 Q80.1538 1527.5 81.8726 1524.92 Q83.6043 1522.33 86.8726 1522.33 Z\" fill=\"#000000\" fill-rule=\"evenodd\" fill-opacity=\"1\" /><path clip-path=\"url(#clip810)\" d=\"M 0 0 M422.083 1532.66 L438.776 1532.66 L438.776 1534.87 L422.083 1534.87 L422.083 1532.66 Z\" fill=\"#000000\" fill-rule=\"evenodd\" fill-opacity=\"1\" /><path clip-path=\"url(#clip810)\" d=\"M 0 0 M443.893 1539.91 L453.072 1539.91 L453.072 1542.12 L440.729 1542.12 L440.729 1539.91 Q442.226 1538.36 444.804 1535.76 Q447.395 1533.14 448.059 1532.38 Q449.322 1530.96 449.817 1529.99 Q450.325 1529 450.325 1528.05 Q450.325 1526.5 449.231 1525.52 Q448.151 1524.54 446.406 1524.54 Q445.169 1524.54 443.789 1524.97 Q442.421 1525.4 440.859 1526.28 L440.859 1523.62 Q442.448 1522.98 443.828 1522.66 Q445.208 1522.33 446.354 1522.33 Q449.375 1522.33 451.171 1523.84 Q452.968 1525.35 452.968 1527.88 Q452.968 1529.08 452.513 1530.16 Q452.07 1531.22 450.885 1532.68 Q450.559 1533.06 448.815 1534.87 Q447.07 1536.67 443.893 1539.91 Z\" fill=\"#000000\" fill-rule=\"evenodd\" fill-opacity=\"1\" /><path clip-path=\"url(#clip810)\" d=\"M 0 0 M455.924 1538.82 L458.671 1538.82 L458.671 1542.12 L455.924 1542.12 L455.924 1538.82 Z\" fill=\"#000000\" fill-rule=\"evenodd\" fill-opacity=\"1\" /><path clip-path=\"url(#clip810)\" d=\"M 0 0 M461.549 1522.68 L471.874 1522.68 L471.874 1524.9 L463.958 1524.9 L463.958 1529.66 Q464.531 1529.47 465.104 1529.38 Q465.677 1529.27 466.249 1529.27 Q469.505 1529.27 471.406 1531.06 Q473.307 1532.84 473.307 1535.89 Q473.307 1539.02 471.354 1540.77 Q469.401 1542.5 465.846 1542.5 Q464.622 1542.5 463.346 1542.29 Q462.083 1542.08 460.729 1541.67 L460.729 1539.02 Q461.901 1539.66 463.151 1539.97 Q464.401 1540.29 465.794 1540.29 Q468.046 1540.29 469.361 1539.1 Q470.677 1537.92 470.677 1535.89 Q470.677 1533.85 469.361 1532.67 Q468.046 1531.48 465.794 1531.48 Q464.739 1531.48 463.684 1531.72 Q462.643 1531.95 461.549 1532.45 L461.549 1522.68 Z\" fill=\"#000000\" fill-rule=\"evenodd\" fill-opacity=\"1\" /><path clip-path=\"url(#clip810)\" d=\"M 0 0 M817.463 1524.41 Q815.431 1524.41 814.403 1526.42 Q813.387 1528.41 813.387 1532.42 Q813.387 1536.42 814.403 1538.43 Q815.431 1540.42 817.463 1540.42 Q819.507 1540.42 820.522 1538.43 Q821.551 1536.42 821.551 1532.42 Q821.551 1528.41 820.522 1526.42 Q819.507 1524.41 817.463 1524.41 M817.463 1522.33 Q820.731 1522.33 822.449 1524.92 Q824.181 1527.5 824.181 1532.42 Q824.181 1537.33 822.449 1539.92 Q820.731 1542.5 817.463 1542.5 Q814.194 1542.5 812.463 1539.92 Q810.744 1537.33 810.744 1532.42 Q810.744 1527.5 812.463 1524.92 Q814.194 1522.33 817.463 1522.33 Z\" fill=\"#000000\" fill-rule=\"evenodd\" fill-opacity=\"1\" /><path clip-path=\"url(#clip810)\" d=\"M 0 0 M827.033 1538.82 L829.78 1538.82 L829.78 1542.12 L827.033 1542.12 L827.033 1538.82 Z\" fill=\"#000000\" fill-rule=\"evenodd\" fill-opacity=\"1\" /><path clip-path=\"url(#clip810)\" d=\"M 0 0 M838.257 1524.41 Q836.225 1524.41 835.197 1526.42 Q834.181 1528.41 834.181 1532.42 Q834.181 1536.42 835.197 1538.43 Q836.225 1540.42 838.257 1540.42 Q840.301 1540.42 841.317 1538.43 Q842.345 1536.42 842.345 1532.42 Q842.345 1528.41 841.317 1526.42 Q840.301 1524.41 838.257 1524.41 M838.257 1522.33 Q841.525 1522.33 843.244 1524.92 Q844.975 1527.5 844.975 1532.42 Q844.975 1537.33 843.244 1539.92 Q841.525 1542.5 838.257 1542.5 Q834.988 1542.5 833.257 1539.92 Q831.538 1537.33 831.538 1532.42 Q831.538 1527.5 833.257 1524.92 Q834.988 1522.33 838.257 1522.33 Z\" fill=\"#000000\" fill-rule=\"evenodd\" fill-opacity=\"1\" /><path clip-path=\"url(#clip810)\" d=\"M 0 0 M1194.9 1539.91 L1204.08 1539.91 L1204.08 1542.12 L1191.74 1542.12 L1191.74 1539.91 Q1193.23 1538.36 1195.81 1535.76 Q1198.4 1533.14 1199.07 1532.38 Q1200.33 1530.96 1200.82 1529.99 Q1201.33 1529 1201.33 1528.05 Q1201.33 1526.5 1200.24 1525.52 Q1199.16 1524.54 1197.41 1524.54 Q1196.18 1524.54 1194.8 1524.97 Q1193.43 1525.4 1191.87 1526.28 L1191.87 1523.62 Q1193.45 1522.98 1194.83 1522.66 Q1196.21 1522.33 1197.36 1522.33 Q1200.38 1522.33 1202.18 1523.84 Q1203.97 1525.35 1203.97 1527.88 Q1203.97 1529.08 1203.52 1530.16 Q1203.08 1531.22 1201.89 1532.68 Q1201.57 1533.06 1199.82 1534.87 Q1198.08 1536.67 1194.9 1539.91 Z\" fill=\"#000000\" fill-rule=\"evenodd\" fill-opacity=\"1\" /><path clip-path=\"url(#clip810)\" d=\"M 0 0 M1206.93 1538.82 L1209.68 1538.82 L1209.68 1542.12 L1206.93 1542.12 L1206.93 1538.82 Z\" fill=\"#000000\" fill-rule=\"evenodd\" fill-opacity=\"1\" /><path clip-path=\"url(#clip810)\" d=\"M 0 0 M1212.56 1522.68 L1222.88 1522.68 L1222.88 1524.9 L1214.96 1524.9 L1214.96 1529.66 Q1215.54 1529.47 1216.11 1529.38 Q1216.68 1529.27 1217.26 1529.27 Q1220.51 1529.27 1222.41 1531.06 Q1224.31 1532.84 1224.31 1535.89 Q1224.31 1539.02 1222.36 1540.77 Q1220.41 1542.5 1216.85 1542.5 Q1215.63 1542.5 1214.35 1542.29 Q1213.09 1542.08 1211.74 1541.67 L1211.74 1539.02 Q1212.91 1539.66 1214.16 1539.97 Q1215.41 1540.29 1216.8 1540.29 Q1219.05 1540.29 1220.37 1539.1 Q1221.68 1537.92 1221.68 1535.89 Q1221.68 1533.85 1220.37 1532.67 Q1219.05 1531.48 1216.8 1531.48 Q1215.75 1531.48 1214.69 1531.72 Q1213.65 1531.95 1212.56 1532.45 L1212.56 1522.68 Z\" fill=\"#000000\" fill-rule=\"evenodd\" fill-opacity=\"1\" /><path clip-path=\"url(#clip810)\" d=\"M 0 0 M1572.32 1522.68 L1582.65 1522.68 L1582.65 1524.9 L1574.73 1524.9 L1574.73 1529.66 Q1575.3 1529.47 1575.88 1529.38 Q1576.45 1529.27 1577.02 1529.27 Q1580.28 1529.27 1582.18 1531.06 Q1584.08 1532.84 1584.08 1535.89 Q1584.08 1539.02 1582.13 1540.77 Q1580.17 1542.5 1576.62 1542.5 Q1575.4 1542.5 1574.12 1542.29 Q1572.86 1542.08 1571.5 1541.67 L1571.5 1539.02 Q1572.67 1539.66 1573.92 1539.97 Q1575.17 1540.29 1576.57 1540.29 Q1578.82 1540.29 1580.14 1539.1 Q1581.45 1537.92 1581.45 1535.89 Q1581.45 1533.85 1580.14 1532.67 Q1578.82 1531.48 1576.57 1531.48 Q1575.51 1531.48 1574.46 1531.72 Q1573.42 1531.95 1572.32 1532.45 L1572.32 1522.68 Z\" fill=\"#000000\" fill-rule=\"evenodd\" fill-opacity=\"1\" /><path clip-path=\"url(#clip810)\" d=\"M 0 0 M1586.93 1538.82 L1589.68 1538.82 L1589.68 1542.12 L1586.93 1542.12 L1586.93 1538.82 Z\" fill=\"#000000\" fill-rule=\"evenodd\" fill-opacity=\"1\" /><path clip-path=\"url(#clip810)\" d=\"M 0 0 M1598.16 1524.41 Q1596.13 1524.41 1595.1 1526.42 Q1594.08 1528.41 1594.08 1532.42 Q1594.08 1536.42 1595.1 1538.43 Q1596.13 1540.42 1598.16 1540.42 Q1600.2 1540.42 1601.22 1538.43 Q1602.24 1536.42 1602.24 1532.42 Q1602.24 1528.41 1601.22 1526.42 Q1600.2 1524.41 1598.16 1524.41 M1598.16 1522.33 Q1601.42 1522.33 1603.14 1524.92 Q1604.88 1527.5 1604.88 1532.42 Q1604.88 1537.33 1603.14 1539.92 Q1601.42 1542.5 1598.16 1542.5 Q1594.89 1542.5 1593.16 1539.92 Q1591.44 1537.33 1591.44 1532.42 Q1591.44 1527.5 1593.16 1524.92 Q1594.89 1522.33 1598.16 1522.33 Z\" fill=\"#000000\" fill-rule=\"evenodd\" fill-opacity=\"1\" /><path clip-path=\"url(#clip810)\" d=\"M 0 0 M681.259 1567.15 Q678.355 1567.15 677.235 1567.82 Q676.116 1568.48 676.116 1570.08 Q676.116 1571.36 676.949 1572.11 Q677.795 1572.86 679.241 1572.86 Q681.233 1572.86 682.431 1571.45 Q683.642 1570.03 683.642 1567.69 L683.642 1567.15 L681.259 1567.15 M686.037 1566.16 L686.037 1574.48 L683.642 1574.48 L683.642 1572.27 Q682.821 1573.6 681.597 1574.24 Q680.373 1574.86 678.603 1574.86 Q676.363 1574.86 675.035 1573.61 Q673.72 1572.35 673.72 1570.24 Q673.72 1567.78 675.36 1566.53 Q677.014 1565.28 680.282 1565.28 L683.642 1565.28 L683.642 1565.04 Q683.642 1563.39 682.548 1562.49 Q681.467 1561.58 679.501 1561.58 Q678.251 1561.58 677.066 1561.88 Q675.881 1562.18 674.787 1562.78 L674.787 1560.56 Q676.103 1560.06 677.34 1559.81 Q678.577 1559.55 679.748 1559.55 Q682.912 1559.55 684.475 1561.19 Q686.037 1562.83 686.037 1566.16 Z\" fill=\"#000000\" fill-rule=\"evenodd\" fill-opacity=\"1\" /><path clip-path=\"url(#clip810)\" d=\"M 0 0 M686.832 1559.9 L689.371 1559.9 L693.928 1572.14 L698.485 1559.9 L701.024 1559.9 L695.556 1574.48 L692.3 1574.48 L686.832 1559.9 Z\" fill=\"#000000\" fill-rule=\"evenodd\" fill-opacity=\"1\" /><path clip-path=\"url(#clip810)\" d=\"M 0 0 M716.011 1566.59 L716.011 1567.76 L704.996 1567.76 Q705.152 1570.24 706.48 1571.54 Q707.821 1572.83 710.204 1572.83 Q711.584 1572.83 712.873 1572.49 Q714.175 1572.15 715.451 1571.48 L715.451 1573.74 Q714.162 1574.29 712.808 1574.57 Q711.454 1574.86 710.061 1574.86 Q706.571 1574.86 704.527 1572.83 Q702.496 1570.8 702.496 1567.33 Q702.496 1563.75 704.423 1561.66 Q706.363 1559.55 709.644 1559.55 Q712.587 1559.55 714.292 1561.45 Q716.011 1563.34 716.011 1566.59 M713.615 1565.89 Q713.589 1563.92 712.509 1562.75 Q711.441 1561.58 709.67 1561.58 Q707.665 1561.58 706.454 1562.71 Q705.256 1563.84 705.074 1565.9 L713.615 1565.89 Z\" fill=\"#000000\" fill-rule=\"evenodd\" fill-opacity=\"1\" /><path clip-path=\"url(#clip810)\" d=\"M 0 0 M726.975 1562.14 Q726.571 1561.9 726.089 1561.8 Q725.621 1561.68 725.048 1561.68 Q723.016 1561.68 721.923 1563.01 Q720.842 1564.33 720.842 1566.8 L720.842 1574.48 L718.433 1574.48 L718.433 1559.9 L720.842 1559.9 L720.842 1562.17 Q721.597 1560.84 722.808 1560.2 Q724.019 1559.55 725.751 1559.55 Q725.998 1559.55 726.298 1559.59 Q726.597 1559.61 726.962 1559.68 L726.975 1562.14 Z\" fill=\"#000000\" fill-rule=\"evenodd\" fill-opacity=\"1\" /><path clip-path=\"url(#clip810)\" d=\"M 0 0 M736.115 1567.15 Q733.212 1567.15 732.092 1567.82 Q730.972 1568.48 730.972 1570.08 Q730.972 1571.36 731.805 1572.11 Q732.652 1572.86 734.097 1572.86 Q736.089 1572.86 737.287 1571.45 Q738.498 1570.03 738.498 1567.69 L738.498 1567.15 L736.115 1567.15 M740.894 1566.16 L740.894 1574.48 L738.498 1574.48 L738.498 1572.27 Q737.678 1573.6 736.454 1574.24 Q735.23 1574.86 733.459 1574.86 Q731.219 1574.86 729.891 1573.61 Q728.576 1572.35 728.576 1570.24 Q728.576 1567.78 730.217 1566.53 Q731.871 1565.28 735.139 1565.28 L738.498 1565.28 L738.498 1565.04 Q738.498 1563.39 737.404 1562.49 Q736.324 1561.58 734.357 1561.58 Q733.107 1561.58 731.923 1561.88 Q730.738 1562.18 729.644 1562.78 L729.644 1560.56 Q730.959 1560.06 732.196 1559.81 Q733.433 1559.55 734.605 1559.55 Q737.769 1559.55 739.331 1561.19 Q740.894 1562.83 740.894 1566.16 Z\" fill=\"#000000\" fill-rule=\"evenodd\" fill-opacity=\"1\" /><path clip-path=\"url(#clip810)\" d=\"M 0 0 M753.003 1567.02 Q753.003 1564.42 751.923 1562.99 Q750.855 1561.55 748.915 1561.55 Q746.988 1561.55 745.907 1562.99 Q744.839 1564.42 744.839 1567.02 Q744.839 1569.61 745.907 1571.05 Q746.988 1572.48 748.915 1572.48 Q750.855 1572.48 751.923 1571.05 Q753.003 1569.61 753.003 1567.02 M755.399 1572.67 Q755.399 1576.4 753.745 1578.21 Q752.092 1580.03 748.68 1580.03 Q747.417 1580.03 746.298 1579.83 Q745.178 1579.65 744.123 1579.26 L744.123 1576.93 Q745.178 1577.5 746.206 1577.78 Q747.235 1578.05 748.303 1578.05 Q750.659 1578.05 751.831 1576.81 Q753.003 1575.59 753.003 1573.1 L753.003 1571.92 Q752.261 1573.21 751.102 1573.84 Q749.943 1574.48 748.329 1574.48 Q745.646 1574.48 744.006 1572.44 Q742.365 1570.39 742.365 1567.02 Q742.365 1563.64 744.006 1561.59 Q745.646 1559.55 748.329 1559.55 Q749.943 1559.55 751.102 1560.19 Q752.261 1560.82 753.003 1562.11 L753.003 1559.9 L755.399 1559.9 L755.399 1572.67 Z\" fill=\"#000000\" fill-rule=\"evenodd\" fill-opacity=\"1\" /><path clip-path=\"url(#clip810)\" d=\"M 0 0 M770.386 1566.59 L770.386 1567.76 L759.37 1567.76 Q759.527 1570.24 760.855 1571.54 Q762.196 1572.83 764.579 1572.83 Q765.959 1572.83 767.248 1572.49 Q768.55 1572.15 769.826 1571.48 L769.826 1573.74 Q768.537 1574.29 767.183 1574.57 Q765.829 1574.86 764.435 1574.86 Q760.946 1574.86 758.902 1572.83 Q756.87 1570.8 756.87 1567.33 Q756.87 1563.75 758.797 1561.66 Q760.738 1559.55 764.019 1559.55 Q766.961 1559.55 768.667 1561.45 Q770.386 1563.34 770.386 1566.59 M767.99 1565.89 Q767.964 1563.92 766.883 1562.75 Q765.816 1561.58 764.045 1561.58 Q762.04 1561.58 760.829 1562.71 Q759.631 1563.84 759.449 1565.9 L767.99 1565.89 Z\" fill=\"#000000\" fill-rule=\"evenodd\" fill-opacity=\"1\" /><path clip-path=\"url(#clip810)\" d=\"M 0 0 M783.745 1555.76 L783.745 1559.9 L788.68 1559.9 L788.68 1561.76 L783.745 1561.76 L783.745 1569.68 Q783.745 1571.46 784.227 1571.97 Q784.722 1572.48 786.219 1572.48 L788.68 1572.48 L788.68 1574.48 L786.219 1574.48 Q783.446 1574.48 782.391 1573.45 Q781.336 1572.41 781.336 1569.68 L781.336 1561.76 L779.579 1561.76 L779.579 1559.9 L781.336 1559.9 L781.336 1555.76 L783.745 1555.76 Z\" fill=\"#000000\" fill-rule=\"evenodd\" fill-opacity=\"1\" /><path clip-path=\"url(#clip810)\" d=\"M 0 0 M799.644 1562.14 Q799.24 1561.9 798.758 1561.8 Q798.289 1561.68 797.717 1561.68 Q795.685 1561.68 794.592 1563.01 Q793.511 1564.33 793.511 1566.8 L793.511 1574.48 L791.102 1574.48 L791.102 1559.9 L793.511 1559.9 L793.511 1562.17 Q794.266 1560.84 795.477 1560.2 Q796.688 1559.55 798.42 1559.55 Q798.667 1559.55 798.967 1559.59 Q799.266 1559.61 799.631 1559.68 L799.644 1562.14 Z\" fill=\"#000000\" fill-rule=\"evenodd\" fill-opacity=\"1\" /><path clip-path=\"url(#clip810)\" d=\"M 0 0 M814.045 1566.59 L814.045 1567.76 L803.029 1567.76 Q803.185 1570.24 804.513 1571.54 Q805.855 1572.83 808.237 1572.83 Q809.618 1572.83 810.907 1572.49 Q812.209 1572.15 813.485 1571.48 L813.485 1573.74 Q812.196 1574.29 810.841 1574.57 Q809.487 1574.86 808.094 1574.86 Q804.605 1574.86 802.56 1572.83 Q800.529 1570.8 800.529 1567.33 Q800.529 1563.75 802.456 1561.66 Q804.396 1559.55 807.677 1559.55 Q810.62 1559.55 812.326 1561.45 Q814.045 1563.34 814.045 1566.59 M811.649 1565.89 Q811.623 1563.92 810.542 1562.75 Q809.474 1561.58 807.703 1561.58 Q805.698 1561.58 804.487 1562.71 Q803.289 1563.84 803.107 1565.9 L811.649 1565.89 Z\" fill=\"#000000\" fill-rule=\"evenodd\" fill-opacity=\"1\" /><path clip-path=\"url(#clip810)\" d=\"M 0 0 M823.185 1567.15 Q820.282 1567.15 819.162 1567.82 Q818.042 1568.48 818.042 1570.08 Q818.042 1571.36 818.875 1572.11 Q819.722 1572.86 821.167 1572.86 Q823.159 1572.86 824.357 1571.45 Q825.568 1570.03 825.568 1567.69 L825.568 1567.15 L823.185 1567.15 M827.964 1566.16 L827.964 1574.48 L825.568 1574.48 L825.568 1572.27 Q824.748 1573.6 823.524 1574.24 Q822.3 1574.86 820.529 1574.86 Q818.289 1574.86 816.961 1573.61 Q815.646 1572.35 815.646 1570.24 Q815.646 1567.78 817.287 1566.53 Q818.94 1565.28 822.209 1565.28 L825.568 1565.28 L825.568 1565.04 Q825.568 1563.39 824.474 1562.49 Q823.393 1561.58 821.427 1561.58 Q820.177 1561.58 818.992 1561.88 Q817.808 1562.18 816.714 1562.78 L816.714 1560.56 Q818.029 1560.06 819.266 1559.81 Q820.503 1559.55 821.675 1559.55 Q824.839 1559.55 826.401 1561.19 Q827.964 1562.83 827.964 1566.16 Z\" fill=\"#000000\" fill-rule=\"evenodd\" fill-opacity=\"1\" /><path clip-path=\"url(#clip810)\" d=\"M 0 0 M832.847 1555.76 L832.847 1559.9 L837.781 1559.9 L837.781 1561.76 L832.847 1561.76 L832.847 1569.68 Q832.847 1571.46 833.328 1571.97 Q833.823 1572.48 835.32 1572.48 L837.781 1572.48 L837.781 1574.48 L835.32 1574.48 Q832.547 1574.48 831.492 1573.45 Q830.438 1572.41 830.438 1569.68 L830.438 1561.76 L828.68 1561.76 L828.68 1559.9 L830.438 1559.9 L830.438 1555.76 L832.847 1555.76 Z\" fill=\"#000000\" fill-rule=\"evenodd\" fill-opacity=\"1\" /><path clip-path=\"url(#clip810)\" d=\"M 0 0 M851.649 1562.7 Q852.547 1561.08 853.797 1560.32 Q855.047 1559.55 856.74 1559.55 Q859.018 1559.55 860.255 1561.15 Q861.492 1562.74 861.492 1565.68 L861.492 1574.48 L859.083 1574.48 L859.083 1565.76 Q859.083 1563.66 858.341 1562.65 Q857.599 1561.63 856.076 1561.63 Q854.214 1561.63 853.133 1562.87 Q852.052 1564.11 852.052 1566.24 L852.052 1574.48 L849.643 1574.48 L849.643 1565.76 Q849.643 1563.65 848.901 1562.65 Q848.159 1561.63 846.609 1561.63 Q844.774 1561.63 843.693 1562.88 Q842.612 1564.12 842.612 1566.24 L842.612 1574.48 L840.203 1574.48 L840.203 1559.9 L842.612 1559.9 L842.612 1562.17 Q843.432 1560.82 844.578 1560.19 Q845.724 1559.55 847.3 1559.55 Q848.888 1559.55 849.995 1560.36 Q851.115 1561.16 851.649 1562.7 Z\" fill=\"#000000\" fill-rule=\"evenodd\" fill-opacity=\"1\" /><path clip-path=\"url(#clip810)\" d=\"M 0 0 M876.479 1566.59 L876.479 1567.76 L865.464 1567.76 Q865.62 1570.24 866.948 1571.54 Q868.289 1572.83 870.672 1572.83 Q872.052 1572.83 873.341 1572.49 Q874.643 1572.15 875.919 1571.48 L875.919 1573.74 Q874.63 1574.29 873.276 1574.57 Q871.922 1574.86 870.529 1574.86 Q867.039 1574.86 864.995 1572.83 Q862.964 1570.8 862.964 1567.33 Q862.964 1563.75 864.891 1561.66 Q866.831 1559.55 870.112 1559.55 Q873.055 1559.55 874.76 1561.45 Q876.479 1563.34 876.479 1566.59 M874.083 1565.89 Q874.057 1563.92 872.977 1562.75 Q871.909 1561.58 870.138 1561.58 Q868.133 1561.58 866.922 1562.71 Q865.724 1563.84 865.542 1565.9 L874.083 1565.89 Z\" fill=\"#000000\" fill-rule=\"evenodd\" fill-opacity=\"1\" /><path clip-path=\"url(#clip810)\" d=\"M 0 0 M891.114 1565.68 L891.114 1574.48 L888.719 1574.48 L888.719 1565.76 Q888.719 1563.69 887.911 1562.66 Q887.104 1561.63 885.489 1561.63 Q883.549 1561.63 882.43 1562.87 Q881.31 1564.11 881.31 1566.24 L881.31 1574.48 L878.901 1574.48 L878.901 1559.9 L881.31 1559.9 L881.31 1562.17 Q882.169 1560.85 883.328 1560.2 Q884.5 1559.55 886.023 1559.55 Q888.536 1559.55 889.825 1561.11 Q891.114 1562.66 891.114 1565.68 Z\" fill=\"#000000\" fill-rule=\"evenodd\" fill-opacity=\"1\" /><path clip-path=\"url(#clip810)\" d=\"M 0 0 M895.997 1555.76 L895.997 1559.9 L900.932 1559.9 L900.932 1561.76 L895.997 1561.76 L895.997 1569.68 Q895.997 1571.46 896.479 1571.97 Q896.974 1572.48 898.471 1572.48 L900.932 1572.48 L900.932 1574.48 L898.471 1574.48 Q895.698 1574.48 894.643 1573.45 Q893.588 1572.41 893.588 1569.68 L893.588 1561.76 L891.831 1561.76 L891.831 1559.9 L893.588 1559.9 L893.588 1555.76 L895.997 1555.76 Z\" fill=\"#000000\" fill-rule=\"evenodd\" fill-opacity=\"1\" /><path clip-path=\"url(#clip810)\" d=\"M 0 0 M924.396 1566.59 L924.396 1567.76 L913.38 1567.76 Q913.536 1570.24 914.864 1571.54 Q916.205 1572.83 918.588 1572.83 Q919.968 1572.83 921.258 1572.49 Q922.56 1572.15 923.836 1571.48 L923.836 1573.74 Q922.547 1574.29 921.192 1574.57 Q919.838 1574.86 918.445 1574.86 Q914.955 1574.86 912.911 1572.83 Q910.88 1570.8 910.88 1567.33 Q910.88 1563.75 912.807 1561.66 Q914.747 1559.55 918.028 1559.55 Q920.971 1559.55 922.677 1561.45 Q924.396 1563.34 924.396 1566.59 M922 1565.89 Q921.974 1563.92 920.893 1562.75 Q919.825 1561.58 918.054 1561.58 Q916.049 1561.58 914.838 1562.71 Q913.64 1563.84 913.458 1565.9 L922 1565.89 Z\" fill=\"#000000\" fill-rule=\"evenodd\" fill-opacity=\"1\" /><path clip-path=\"url(#clip810)\" d=\"M 0 0 M934.291 1554.22 L934.291 1556.21 L932 1556.21 Q930.711 1556.21 930.203 1556.74 Q929.708 1557.26 929.708 1558.61 L929.708 1559.9 L933.653 1559.9 L933.653 1561.76 L929.708 1561.76 L929.708 1574.48 L927.299 1574.48 L927.299 1561.76 L925.008 1561.76 L925.008 1559.9 L927.299 1559.9 L927.299 1558.88 Q927.299 1556.45 928.432 1555.34 Q929.565 1554.22 932.026 1554.22 L934.291 1554.22 Z\" fill=\"#000000\" fill-rule=\"evenodd\" fill-opacity=\"1\" /><path clip-path=\"url(#clip810)\" d=\"M 0 0 M944.187 1554.22 L944.187 1556.21 L941.895 1556.21 Q940.606 1556.21 940.099 1556.74 Q939.604 1557.26 939.604 1558.61 L939.604 1559.9 L943.549 1559.9 L943.549 1561.76 L939.604 1561.76 L939.604 1574.48 L937.195 1574.48 L937.195 1561.76 L934.903 1561.76 L934.903 1559.9 L937.195 1559.9 L937.195 1558.88 Q937.195 1556.45 938.328 1555.34 Q939.461 1554.22 941.921 1554.22 L944.187 1554.22 Z\" fill=\"#000000\" fill-rule=\"evenodd\" fill-opacity=\"1\" /><path clip-path=\"url(#clip810)\" d=\"M 0 0 M959.174 1566.59 L959.174 1567.76 L948.158 1567.76 Q948.315 1570.24 949.643 1571.54 Q950.984 1572.83 953.367 1572.83 Q954.747 1572.83 956.036 1572.49 Q957.338 1572.15 958.614 1571.48 L958.614 1573.74 Q957.325 1574.29 955.971 1574.57 Q954.617 1574.86 953.224 1574.86 Q949.734 1574.86 947.69 1572.83 Q945.658 1570.8 945.658 1567.33 Q945.658 1563.75 947.586 1561.66 Q949.526 1559.55 952.807 1559.55 Q955.75 1559.55 957.455 1561.45 Q959.174 1563.34 959.174 1566.59 M956.778 1565.89 Q956.752 1563.92 955.671 1562.75 Q954.604 1561.58 952.833 1561.58 Q950.828 1561.58 949.617 1562.71 Q948.419 1563.84 948.237 1565.9 L956.778 1565.89 Z\" fill=\"#000000\" fill-rule=\"evenodd\" fill-opacity=\"1\" /><path clip-path=\"url(#clip810)\" d=\"M 0 0 M972.182 1560.46 L972.182 1562.7 Q971.166 1562.14 970.137 1561.87 Q969.122 1561.58 968.08 1561.58 Q965.749 1561.58 964.46 1563.06 Q963.171 1564.54 963.171 1567.2 Q963.171 1569.87 964.46 1571.36 Q965.749 1572.83 968.08 1572.83 Q969.122 1572.83 970.137 1572.56 Q971.166 1572.27 972.182 1571.71 L972.182 1573.92 Q971.179 1574.39 970.098 1574.63 Q969.031 1574.86 967.82 1574.86 Q964.526 1574.86 962.585 1572.79 Q960.645 1570.72 960.645 1567.2 Q960.645 1563.64 962.598 1561.59 Q964.565 1559.55 967.976 1559.55 Q969.083 1559.55 970.137 1559.78 Q971.192 1560 972.182 1560.46 Z\" fill=\"#000000\" fill-rule=\"evenodd\" fill-opacity=\"1\" /><path clip-path=\"url(#clip810)\" d=\"M 0 0 M977.065 1555.76 L977.065 1559.9 L981.999 1559.9 L981.999 1561.76 L977.065 1561.76 L977.065 1569.68 Q977.065 1571.46 977.546 1571.97 Q978.041 1572.48 979.538 1572.48 L981.999 1572.48 L981.999 1574.48 L979.538 1574.48 Q976.765 1574.48 975.71 1573.45 Q974.656 1572.41 974.656 1569.68 L974.656 1561.76 L972.898 1561.76 L972.898 1559.9 L974.656 1559.9 L974.656 1555.76 L977.065 1555.76 Z\" fill=\"#000000\" fill-rule=\"evenodd\" fill-opacity=\"1\" /><polyline clip-path=\"url(#clip812)\" style=\"stroke:#000000; stroke-width:0.5; stroke-opacity:0.1; fill:none\" points=\"\n",
       "  67.5302,1463.71 1588.19,1463.71 \n",
       "  \"/>\n",
       "<polyline clip-path=\"url(#clip812)\" style=\"stroke:#000000; stroke-width:0.5; stroke-opacity:0.1; fill:none\" points=\"\n",
       "  67.5302,1157.27 1588.19,1157.27 \n",
       "  \"/>\n",
       "<polyline clip-path=\"url(#clip812)\" style=\"stroke:#000000; stroke-width:0.5; stroke-opacity:0.1; fill:none\" points=\"\n",
       "  67.5302,850.834 1588.19,850.834 \n",
       "  \"/>\n",
       "<polyline clip-path=\"url(#clip812)\" style=\"stroke:#000000; stroke-width:0.5; stroke-opacity:0.1; fill:none\" points=\"\n",
       "  67.5302,544.398 1588.19,544.398 \n",
       "  \"/>\n",
       "<polyline clip-path=\"url(#clip812)\" style=\"stroke:#000000; stroke-width:0.5; stroke-opacity:0.1; fill:none\" points=\"\n",
       "  67.5302,237.961 1588.19,237.961 \n",
       "  \"/>\n",
       "<polyline clip-path=\"url(#clip810)\" style=\"stroke:#000000; stroke-width:1; stroke-opacity:1; fill:none\" points=\"\n",
       "  67.5302,1505.99 67.5302,11.811 \n",
       "  \"/>\n",
       "<polyline clip-path=\"url(#clip810)\" style=\"stroke:#000000; stroke-width:1; stroke-opacity:1; fill:none\" points=\"\n",
       "  67.5302,1463.71 85.7781,1463.71 \n",
       "  \"/>\n",
       "<polyline clip-path=\"url(#clip810)\" style=\"stroke:#000000; stroke-width:1; stroke-opacity:1; fill:none\" points=\"\n",
       "  67.5302,1157.27 85.7781,1157.27 \n",
       "  \"/>\n",
       "<polyline clip-path=\"url(#clip810)\" style=\"stroke:#000000; stroke-width:1; stroke-opacity:1; fill:none\" points=\"\n",
       "  67.5302,850.834 85.7781,850.834 \n",
       "  \"/>\n",
       "<polyline clip-path=\"url(#clip810)\" style=\"stroke:#000000; stroke-width:1; stroke-opacity:1; fill:none\" points=\"\n",
       "  67.5302,544.398 85.7781,544.398 \n",
       "  \"/>\n",
       "<polyline clip-path=\"url(#clip810)\" style=\"stroke:#000000; stroke-width:1; stroke-opacity:1; fill:none\" points=\"\n",
       "  67.5302,237.961 85.7781,237.961 \n",
       "  \"/>\n",
       "<path clip-path=\"url(#clip810)\" d=\"M 0 0 M40.9087 1464.12 L41.1474 1464.12 L41.1474 1463.3 L40.8877 1463.35 L40.8877 1463.22 L41.146 1463.17 L41.2921 1463.17 L41.2921 1464.12 L41.5308 1464.12 L41.5308 1464.25 L40.9087 1464.25 L40.9087 1464.12 Z\" fill=\"#000000\" fill-rule=\"evenodd\" fill-opacity=\"1\" /><path clip-path=\"url(#clip810)\" d=\"M 0 0 M41.6892 1464.06 L41.8419 1464.06 L41.8419 1464.25 L41.6892 1464.25 L41.6892 1464.06 Z\" fill=\"#000000\" fill-rule=\"evenodd\" fill-opacity=\"1\" /><path clip-path=\"url(#clip810)\" d=\"M 0 0 M42.3128 1463.26 Q42.1999 1463.26 42.1428 1463.37 Q42.0864 1463.49 42.0864 1463.71 Q42.0864 1463.93 42.1428 1464.04 Q42.1999 1464.15 42.3128 1464.15 Q42.4263 1464.15 42.4828 1464.04 Q42.5399 1463.93 42.5399 1463.71 Q42.5399 1463.49 42.4828 1463.37 Q42.4263 1463.26 42.3128 1463.26 M42.3128 1463.15 Q42.4943 1463.15 42.5898 1463.29 Q42.686 1463.43 42.686 1463.71 Q42.686 1463.98 42.5898 1464.12 Q42.4943 1464.27 42.3128 1464.27 Q42.1312 1464.27 42.035 1464.12 Q41.9395 1463.98 41.9395 1463.71 Q41.9395 1463.43 42.035 1463.29 Q42.1312 1463.15 42.3128 1463.15 Z\" fill=\"#000000\" fill-rule=\"evenodd\" fill-opacity=\"1\" /><path clip-path=\"url(#clip810)\" d=\"M 0 0 M43.1569 1463.26 Q43.0441 1463.26 42.987 1463.37 Q42.9305 1463.49 42.9305 1463.71 Q42.9305 1463.93 42.987 1464.04 Q43.0441 1464.15 43.1569 1464.15 Q43.2705 1464.15 43.3269 1464.04 Q43.3841 1463.93 43.3841 1463.71 Q43.3841 1463.49 43.3269 1463.37 Q43.2705 1463.26 43.1569 1463.26 M43.1569 1463.15 Q43.3385 1463.15 43.434 1463.29 Q43.5302 1463.43 43.5302 1463.71 Q43.5302 1463.98 43.434 1464.12 Q43.3385 1464.27 43.1569 1464.27 Q42.9754 1464.27 42.8792 1464.12 Q42.7837 1463.98 42.7837 1463.71 Q42.7837 1463.43 42.8792 1463.29 Q42.9754 1463.15 43.1569 1463.15 Z\" fill=\"#000000\" fill-rule=\"evenodd\" fill-opacity=\"1\" /><path clip-path=\"url(#clip810)\" d=\"M 0 0 M40.9897 1157.69 L41.2284 1157.69 L41.2284 1156.86 L40.9687 1156.92 L40.9687 1156.78 L41.227 1156.73 L41.3731 1156.73 L41.3731 1157.69 L41.6118 1157.69 L41.6118 1157.81 L40.9897 1157.81 L40.9897 1157.69 Z\" fill=\"#000000\" fill-rule=\"evenodd\" fill-opacity=\"1\" /><path clip-path=\"url(#clip810)\" d=\"M 0 0 M41.7702 1157.63 L41.9229 1157.63 L41.9229 1157.81 L41.7702 1157.81 L41.7702 1157.63 Z\" fill=\"#000000\" fill-rule=\"evenodd\" fill-opacity=\"1\" /><path clip-path=\"url(#clip810)\" d=\"M 0 0 M42.2072 1157.69 L42.7171 1157.69 L42.7171 1157.81 L42.0314 1157.81 L42.0314 1157.69 Q42.1146 1157.6 42.2578 1157.46 Q42.4017 1157.31 42.4386 1157.27 Q42.5088 1157.19 42.5363 1157.14 Q42.5645 1157.08 42.5645 1157.03 Q42.5645 1156.94 42.5037 1156.89 Q42.4437 1156.83 42.3468 1156.83 Q42.278 1156.83 42.2014 1156.86 Q42.1254 1156.88 42.0386 1156.93 L42.0386 1156.78 Q42.1269 1156.75 42.2035 1156.73 Q42.2802 1156.71 42.3439 1156.71 Q42.5117 1156.71 42.6115 1156.79 Q42.7113 1156.88 42.7113 1157.02 Q42.7113 1157.09 42.686 1157.15 Q42.6614 1157.2 42.5956 1157.29 Q42.5775 1157.31 42.4806 1157.41 Q42.3837 1157.51 42.2072 1157.69 Z\" fill=\"#000000\" fill-rule=\"evenodd\" fill-opacity=\"1\" /><path clip-path=\"url(#clip810)\" d=\"M 0 0 M42.877 1156.73 L43.4506 1156.73 L43.4506 1156.85 L43.0108 1156.85 L43.0108 1157.12 Q43.0427 1157.11 43.0745 1157.1 Q43.1063 1157.1 43.1381 1157.1 Q43.319 1157.1 43.4246 1157.2 Q43.5302 1157.29 43.5302 1157.46 Q43.5302 1157.64 43.4217 1157.74 Q43.3132 1157.83 43.1157 1157.83 Q43.0477 1157.83 42.9768 1157.82 Q42.9067 1157.81 42.8314 1157.79 L42.8314 1157.64 Q42.8965 1157.67 42.966 1157.69 Q43.0354 1157.71 43.1128 1157.71 Q43.238 1157.71 43.311 1157.64 Q43.3841 1157.58 43.3841 1157.46 Q43.3841 1157.35 43.311 1157.29 Q43.238 1157.22 43.1128 1157.22 Q43.0542 1157.22 42.9956 1157.23 Q42.9378 1157.25 42.877 1157.27 L42.877 1156.73 Z\" fill=\"#000000\" fill-rule=\"evenodd\" fill-opacity=\"1\" /><path clip-path=\"url(#clip810)\" d=\"M 0 0 M40.9398 851.251 L41.1785 851.251 L41.1785 850.427 L40.9188 850.479 L40.9188 850.346 L41.1771 850.294 L41.3232 850.294 L41.3232 851.251 L41.5619 851.251 L41.5619 851.374 L40.9398 851.374 L40.9398 851.251 Z\" fill=\"#000000\" fill-rule=\"evenodd\" fill-opacity=\"1\" /><path clip-path=\"url(#clip810)\" d=\"M 0 0 M41.7203 851.19 L41.873 851.19 L41.873 851.374 L41.7203 851.374 L41.7203 851.19 Z\" fill=\"#000000\" fill-rule=\"evenodd\" fill-opacity=\"1\" /><path clip-path=\"url(#clip810)\" d=\"M 0 0 M42.0328 850.294 L42.6065 850.294 L42.6065 850.417 L42.1666 850.417 L42.1666 850.682 Q42.1985 850.671 42.2303 850.666 Q42.2621 850.66 42.294 850.66 Q42.4748 850.66 42.5804 850.759 Q42.686 850.858 42.686 851.027 Q42.686 851.202 42.5775 851.299 Q42.469 851.395 42.2715 851.395 Q42.2035 851.395 42.1326 851.383 Q42.0625 851.372 41.9872 851.349 L41.9872 851.202 Q42.0524 851.237 42.1218 851.255 Q42.1912 851.272 42.2686 851.272 Q42.3938 851.272 42.4668 851.206 Q42.5399 851.14 42.5399 851.027 Q42.5399 850.915 42.4668 850.849 Q42.3938 850.783 42.2686 850.783 Q42.21 850.783 42.1515 850.796 Q42.0936 850.809 42.0328 850.836 L42.0328 850.294 Z\" fill=\"#000000\" fill-rule=\"evenodd\" fill-opacity=\"1\" /><path clip-path=\"url(#clip810)\" d=\"M 0 0 M43.1569 850.39 Q43.0441 850.39 42.987 850.502 Q42.9305 850.612 42.9305 850.835 Q42.9305 851.057 42.987 851.168 Q43.0441 851.279 43.1569 851.279 Q43.2705 851.279 43.3269 851.168 Q43.3841 851.057 43.3841 850.835 Q43.3841 850.612 43.3269 850.502 Q43.2705 850.39 43.1569 850.39 M43.1569 850.274 Q43.3385 850.274 43.434 850.418 Q43.5302 850.562 43.5302 850.835 Q43.5302 851.108 43.434 851.252 Q43.3385 851.395 43.1569 851.395 Q42.9754 851.395 42.8792 851.252 Q42.7837 851.108 42.7837 850.835 Q42.7837 850.562 42.8792 850.418 Q42.9754 850.274 43.1569 850.274 Z\" fill=\"#000000\" fill-rule=\"evenodd\" fill-opacity=\"1\" /><path clip-path=\"url(#clip810)\" d=\"M 0 0 M40.968 544.815 L41.2067 544.815 L41.2067 543.991 L40.947 544.043 L40.947 543.91 L41.2053 543.858 L41.3514 543.858 L41.3514 544.815 L41.5901 544.815 L41.5901 544.938 L40.968 544.938 L40.968 544.815 Z\" fill=\"#000000\" fill-rule=\"evenodd\" fill-opacity=\"1\" /><path clip-path=\"url(#clip810)\" d=\"M 0 0 M41.7485 544.754 L41.9012 544.754 L41.9012 544.938 L41.7485 544.938 L41.7485 544.754 Z\" fill=\"#000000\" fill-rule=\"evenodd\" fill-opacity=\"1\" /><path clip-path=\"url(#clip810)\" d=\"M 0 0 M42.0227 543.858 L42.7171 543.858 L42.7171 543.92 L42.3251 544.938 L42.1724 544.938 L42.5414 543.98 L42.0227 543.98 L42.0227 543.858 Z\" fill=\"#000000\" fill-rule=\"evenodd\" fill-opacity=\"1\" /><path clip-path=\"url(#clip810)\" d=\"M 0 0 M42.877 543.858 L43.4506 543.858 L43.4506 543.98 L43.0108 543.98 L43.0108 544.245 Q43.0427 544.234 43.0745 544.229 Q43.1063 544.224 43.1381 544.224 Q43.319 544.224 43.4246 544.323 Q43.5302 544.422 43.5302 544.591 Q43.5302 544.765 43.4217 544.862 Q43.3132 544.958 43.1157 544.958 Q43.0477 544.958 42.9768 544.947 Q42.9067 544.935 42.8314 544.912 L42.8314 544.765 Q42.8965 544.801 42.966 544.818 Q43.0354 544.836 43.1128 544.836 Q43.238 544.836 43.311 544.77 Q43.3841 544.704 43.3841 544.591 Q43.3841 544.478 43.311 544.412 Q43.238 544.347 43.1128 544.347 Q43.0542 544.347 42.9956 544.36 Q42.9378 544.373 42.877 544.4 L42.877 543.858 Z\" fill=\"#000000\" fill-rule=\"evenodd\" fill-opacity=\"1\" /><path clip-path=\"url(#clip810)\" d=\"M 0 0 M41.0208 238.378 L41.5308 238.378 L41.5308 238.501 L40.845 238.501 L40.845 238.378 Q40.9282 238.292 41.0715 238.147 Q41.2154 238.002 41.2523 237.96 Q41.3225 237.881 41.35 237.827 Q41.3782 237.772 41.3782 237.719 Q41.3782 237.633 41.3174 237.579 Q41.2574 237.525 41.1604 237.525 Q41.0917 237.525 41.015 237.548 Q40.9391 237.572 40.8523 237.621 L40.8523 237.473 Q40.9405 237.438 41.0172 237.42 Q41.0939 237.402 41.1575 237.402 Q41.3254 237.402 41.4252 237.485 Q41.525 237.569 41.525 237.71 Q41.525 237.776 41.4997 237.836 Q41.4751 237.896 41.4093 237.977 Q41.3912 237.998 41.2943 238.098 Q41.1973 238.198 41.0208 238.378 Z\" fill=\"#000000\" fill-rule=\"evenodd\" fill-opacity=\"1\" /><path clip-path=\"url(#clip810)\" d=\"M 0 0 M41.6892 238.317 L41.8419 238.317 L41.8419 238.501 L41.6892 238.501 L41.6892 238.317 Z\" fill=\"#000000\" fill-rule=\"evenodd\" fill-opacity=\"1\" /><path clip-path=\"url(#clip810)\" d=\"M 0 0 M42.3128 237.517 Q42.1999 237.517 42.1428 237.629 Q42.0864 237.739 42.0864 237.962 Q42.0864 238.184 42.1428 238.296 Q42.1999 238.406 42.3128 238.406 Q42.4263 238.406 42.4828 238.296 Q42.5399 238.184 42.5399 237.962 Q42.5399 237.739 42.4828 237.629 Q42.4263 237.517 42.3128 237.517 M42.3128 237.402 Q42.4943 237.402 42.5898 237.546 Q42.686 237.689 42.686 237.962 Q42.686 238.235 42.5898 238.379 Q42.4943 238.522 42.3128 238.522 Q42.1312 238.522 42.035 238.379 Q41.9395 238.235 41.9395 237.962 Q41.9395 237.689 42.035 237.546 Q42.1312 237.402 42.3128 237.402 Z\" fill=\"#000000\" fill-rule=\"evenodd\" fill-opacity=\"1\" /><path clip-path=\"url(#clip810)\" d=\"M 0 0 M43.1569 237.517 Q43.0441 237.517 42.987 237.629 Q42.9305 237.739 42.9305 237.962 Q42.9305 238.184 42.987 238.296 Q43.0441 238.406 43.1569 238.406 Q43.2705 238.406 43.3269 238.296 Q43.3841 238.184 43.3841 237.962 Q43.3841 237.739 43.3269 237.629 Q43.2705 237.517 43.1569 237.517 M43.1569 237.402 Q43.3385 237.402 43.434 237.546 Q43.5302 237.689 43.5302 237.962 Q43.5302 238.235 43.434 238.379 Q43.3385 238.522 43.1569 238.522 Q42.9754 238.522 42.8792 238.379 Q42.7837 238.235 42.7837 237.962 Q42.7837 237.689 42.8792 237.546 Q42.9754 237.402 43.1569 237.402 Z\" fill=\"#000000\" fill-rule=\"evenodd\" fill-opacity=\"1\" /><path clip-path=\"url(#clip810)\" d=\"M 0 0 M12.9897 893.512 L15.2292 893.512 Q14.6694 894.527 14.3959 895.556 Q14.1095 896.572 14.1095 897.613 Q14.1095 899.944 15.5938 901.233 Q17.0652 902.522 19.7344 902.522 Q22.4037 902.522 23.8881 901.233 Q25.3594 899.944 25.3594 897.613 Q25.3594 896.572 25.086 895.556 Q24.7995 894.527 24.2396 893.512 L26.4531 893.512 Q26.9219 894.514 27.1563 895.595 Q27.3906 896.663 27.3906 897.874 Q27.3906 901.168 25.3203 903.108 Q23.25 905.048 19.7344 905.048 Q16.1667 905.048 14.1225 903.095 Q12.0782 901.129 12.0782 897.717 Q12.0782 896.611 12.3126 895.556 Q12.534 894.501 12.9897 893.512 Z\" fill=\"#000000\" fill-rule=\"evenodd\" fill-opacity=\"1\" /><path clip-path=\"url(#clip810)\" d=\"M 0 0 M14.1095 885.348 Q14.1095 887.275 15.6199 888.394 Q17.1173 889.514 19.7344 889.514 Q22.3516 889.514 23.862 888.408 Q25.3594 887.288 25.3594 885.348 Q25.3594 883.434 23.849 882.314 Q22.3386 881.194 19.7344 881.194 Q17.1433 881.194 15.6329 882.314 Q14.1095 883.434 14.1095 885.348 M12.0782 885.348 Q12.0782 882.223 14.1095 880.439 Q16.1407 878.655 19.7344 878.655 Q23.3151 878.655 25.3594 880.439 Q27.3906 882.223 27.3906 885.348 Q27.3906 888.486 25.3594 890.269 Q23.3151 892.04 19.7344 892.04 Q16.1407 892.04 14.1095 890.269 Q12.0782 888.486 12.0782 885.348 Z\" fill=\"#000000\" fill-rule=\"evenodd\" fill-opacity=\"1\" /><path clip-path=\"url(#clip810)\" d=\"M 0 0 M18.211 864.02 L27.013 864.02 L27.013 866.415 L18.2891 866.415 Q16.2188 866.415 15.1902 867.223 Q14.1615 868.03 14.1615 869.645 Q14.1615 871.585 15.3985 872.704 Q16.6355 873.824 18.7709 873.824 L27.013 873.824 L27.013 876.233 L12.4298 876.233 L12.4298 873.824 L14.6954 873.824 Q13.3803 872.965 12.7293 871.806 Q12.0782 870.634 12.0782 869.111 Q12.0782 866.598 13.6407 865.309 Q15.1902 864.02 18.211 864.02 Z\" fill=\"#000000\" fill-rule=\"evenodd\" fill-opacity=\"1\" /><path clip-path=\"url(#clip810)\" d=\"M 0 0 M14.6433 851.91 L6.75273 851.91 L6.75273 849.514 L27.013 849.514 L27.013 851.91 L24.8256 851.91 Q26.1276 852.666 26.7656 853.824 Q27.3906 854.97 27.3906 856.585 Q27.3906 859.228 25.2813 860.895 Q23.1719 862.548 19.7344 862.548 Q16.297 862.548 14.1876 860.895 Q12.0782 859.228 12.0782 856.585 Q12.0782 854.97 12.7162 853.824 Q13.3412 852.666 14.6433 851.91 M19.7344 860.074 Q22.3776 860.074 23.8881 858.994 Q25.3854 857.9 25.3854 855.999 Q25.3854 854.098 23.8881 853.004 Q22.3776 851.91 19.7344 851.91 Q17.0912 851.91 15.5938 853.004 Q14.0834 854.098 14.0834 855.999 Q14.0834 857.9 15.5938 858.994 Q17.0912 860.074 19.7344 860.074 Z\" fill=\"#000000\" fill-rule=\"evenodd\" fill-opacity=\"1\" /><path clip-path=\"url(#clip810)\" d=\"M 0 0 M12.4298 847.001 L12.4298 844.606 L27.013 844.606 L27.013 847.001 L12.4298 847.001 M6.75273 847.001 L6.75273 844.606 L9.78657 844.606 L9.78657 847.001 L6.75273 847.001 Z\" fill=\"#000000\" fill-rule=\"evenodd\" fill-opacity=\"1\" /><path clip-path=\"url(#clip810)\" d=\"M 0 0 M8.28918 839.723 L12.4298 839.723 L12.4298 834.788 L14.2918 834.788 L14.2918 839.723 L22.2084 839.723 Q23.9922 839.723 24.5 839.241 Q25.0078 838.746 25.0078 837.249 L25.0078 834.788 L27.013 834.788 L27.013 837.249 Q27.013 840.022 25.9844 841.077 Q24.9427 842.132 22.2084 842.132 L14.2918 842.132 L14.2918 843.89 L12.4298 843.89 L12.4298 842.132 L8.28918 842.132 L8.28918 839.723 Z\" fill=\"#000000\" fill-rule=\"evenodd\" fill-opacity=\"1\" /><path clip-path=\"url(#clip810)\" d=\"M 0 0 M12.4298 832.275 L12.4298 829.879 L27.013 829.879 L27.013 832.275 L12.4298 832.275 M6.75273 832.275 L6.75273 829.879 L9.78657 829.879 L9.78657 832.275 L6.75273 832.275 Z\" fill=\"#000000\" fill-rule=\"evenodd\" fill-opacity=\"1\" /><path clip-path=\"url(#clip810)\" d=\"M 0 0 M14.1095 821.715 Q14.1095 823.642 15.6199 824.762 Q17.1173 825.882 19.7344 825.882 Q22.3516 825.882 23.862 824.775 Q25.3594 823.655 25.3594 821.715 Q25.3594 819.801 23.849 818.681 Q22.3386 817.562 19.7344 817.562 Q17.1433 817.562 15.6329 818.681 Q14.1095 819.801 14.1095 821.715 M12.0782 821.715 Q12.0782 818.59 14.1095 816.806 Q16.1407 815.022 19.7344 815.022 Q23.3151 815.022 25.3594 816.806 Q27.3906 818.59 27.3906 821.715 Q27.3906 824.853 25.3594 826.637 Q23.3151 828.408 19.7344 828.408 Q16.1407 828.408 14.1095 826.637 Q12.0782 824.853 12.0782 821.715 Z\" fill=\"#000000\" fill-rule=\"evenodd\" fill-opacity=\"1\" /><path clip-path=\"url(#clip810)\" d=\"M 0 0 M18.211 800.387 L27.013 800.387 L27.013 802.783 L18.2891 802.783 Q16.2188 802.783 15.1902 803.59 Q14.1615 804.398 14.1615 806.012 Q14.1615 807.952 15.3985 809.072 Q16.6355 810.192 18.7709 810.192 L27.013 810.192 L27.013 812.601 L12.4298 812.601 L12.4298 810.192 L14.6954 810.192 Q13.3803 809.332 12.7293 808.174 Q12.0782 807.002 12.0782 805.478 Q12.0782 802.965 13.6407 801.676 Q15.1902 800.387 18.211 800.387 Z\" fill=\"#000000\" fill-rule=\"evenodd\" fill-opacity=\"1\" /><path clip-path=\"url(#clip810)\" d=\"M 0 0 M6.77877 783.642 Q9.77355 785.387 12.7032 786.234 Q15.6329 787.08 18.6407 787.08 Q21.6485 787.08 24.6042 786.234 Q27.5469 785.374 30.5286 783.642 L30.5286 785.726 Q27.4688 787.679 24.5131 788.655 Q21.5573 789.619 18.6407 789.619 Q15.7371 789.619 12.7944 788.655 Q9.85167 787.692 6.77877 785.726 L6.77877 783.642 Z\" fill=\"#000000\" fill-rule=\"evenodd\" fill-opacity=\"1\" /><path clip-path=\"url(#clip810)\" d=\"M 0 0 M7.57304 781.025 L7.57304 778.395 L25.6589 778.395 Q29.1745 778.395 30.763 779.736 Q32.3516 781.064 32.3516 784.02 L32.3516 785.023 L30.138 785.023 L30.138 784.202 Q30.138 782.458 29.1615 781.741 Q28.1849 781.025 25.6589 781.025 L7.57304 781.025 Z\" fill=\"#000000\" fill-rule=\"evenodd\" fill-opacity=\"1\" /><path clip-path=\"url(#clip810)\" d=\"M 0 0 M14.1095 770.231 Q14.1095 772.158 15.6199 773.278 Q17.1173 774.398 19.7344 774.398 Q22.3516 774.398 23.862 773.291 Q25.3594 772.171 25.3594 770.231 Q25.3594 768.317 23.849 767.197 Q22.3386 766.077 19.7344 766.077 Q17.1433 766.077 15.6329 767.197 Q14.1095 768.317 14.1095 770.231 M12.0782 770.231 Q12.0782 767.106 14.1095 765.322 Q16.1407 763.538 19.7344 763.538 Q23.3151 763.538 25.3594 765.322 Q27.3906 767.106 27.3906 770.231 Q27.3906 773.369 25.3594 775.153 Q23.3151 776.924 19.7344 776.924 Q16.1407 776.924 14.1095 775.153 Q12.0782 773.369 12.0782 770.231 Z\" fill=\"#000000\" fill-rule=\"evenodd\" fill-opacity=\"1\" /><path clip-path=\"url(#clip810)\" d=\"M 0 0 M6.75273 761.117 L6.75273 758.708 L18.7188 758.708 L12.4298 751.559 L12.4298 748.499 L19.2527 756.234 L27.013 748.174 L27.013 751.299 L19.8907 758.708 L27.013 758.708 L27.013 761.117 L6.75273 761.117 Z\" fill=\"#000000\" fill-rule=\"evenodd\" fill-opacity=\"1\" /><path clip-path=\"url(#clip810)\" d=\"M 0 0 M19.1225 734.137 L20.2943 734.137 L20.2943 745.153 Q22.7683 744.997 24.0703 743.669 Q25.3594 742.328 25.3594 739.945 Q25.3594 738.565 25.0209 737.276 Q24.6823 735.973 24.0052 734.697 L26.2709 734.697 Q26.8177 735.986 27.1042 737.341 Q27.3906 738.695 27.3906 740.088 Q27.3906 743.578 25.3594 745.622 Q23.3282 747.653 19.8646 747.653 Q16.2839 747.653 14.1876 745.726 Q12.0782 743.786 12.0782 740.505 Q12.0782 737.562 13.9793 735.856 Q15.8673 734.137 19.1225 734.137 M18.4193 736.533 Q16.4532 736.559 15.2813 737.64 Q14.1095 738.708 14.1095 740.479 Q14.1095 742.484 15.2423 743.695 Q16.3751 744.893 18.4324 745.075 L18.4193 736.533 Z\" fill=\"#000000\" fill-rule=\"evenodd\" fill-opacity=\"1\" /><path clip-path=\"url(#clip810)\" d=\"M 0 0 M12.8595 722.328 L15.1251 722.328 Q14.6043 723.343 14.3438 724.437 Q14.0834 725.531 14.0834 726.703 Q14.0834 728.486 14.6303 729.385 Q15.1772 730.27 16.2709 730.27 Q17.1042 730.27 17.586 729.632 Q18.0548 728.994 18.4844 727.067 L18.6667 726.247 Q19.2136 723.695 20.2162 722.627 Q21.2058 721.546 22.9896 721.546 Q25.0209 721.546 26.2058 723.161 Q27.3906 724.763 27.3906 727.575 Q27.3906 728.747 27.1563 730.023 Q26.9349 731.286 26.4792 732.692 L24.0052 732.692 Q24.6953 731.364 25.0469 730.075 Q25.3854 728.786 25.3854 727.523 Q25.3854 725.83 24.8125 724.919 Q24.2266 724.007 23.1719 724.007 Q22.1954 724.007 21.6745 724.671 Q21.1537 725.322 20.6719 727.549 L20.4766 728.382 Q20.0079 730.609 19.0443 731.598 Q18.0678 732.588 16.3751 732.588 Q14.3178 732.588 13.198 731.13 Q12.0782 729.671 12.0782 726.989 Q12.0782 725.661 12.2735 724.489 Q12.4688 723.317 12.8595 722.328 Z\" fill=\"#000000\" fill-rule=\"evenodd\" fill-opacity=\"1\" /><path clip-path=\"url(#clip810)\" d=\"M 0 0 M23.7058 718.421 L23.7058 715.674 L25.9453 715.674 L30.112 717.809 L30.112 719.489 L25.9453 718.421 L23.7058 718.421 Z\" fill=\"#000000\" fill-rule=\"evenodd\" fill-opacity=\"1\" /><path clip-path=\"url(#clip810)\" d=\"M 0 0 M10.1642 698.083 L19.8386 701.651 L19.8386 694.502 L10.1642 698.083 M7.57304 699.567 L7.57304 696.586 L27.013 689.177 L27.013 691.911 L22.0261 693.682 L22.0261 702.445 L27.013 704.216 L27.013 706.989 L7.57304 699.567 Z\" fill=\"#000000\" fill-rule=\"evenodd\" fill-opacity=\"1\" /><path clip-path=\"url(#clip810)\" d=\"M 0 0 M12.8595 677.367 L15.1251 677.367 Q14.6043 678.383 14.3438 679.476 Q14.0834 680.57 14.0834 681.742 Q14.0834 683.526 14.6303 684.424 Q15.1772 685.31 16.2709 685.31 Q17.1042 685.31 17.586 684.672 Q18.0548 684.034 18.4844 682.107 L18.6667 681.286 Q19.2136 678.734 20.2162 677.666 Q21.2058 676.586 22.9896 676.586 Q25.0209 676.586 26.2058 678.2 Q27.3906 679.802 27.3906 682.614 Q27.3906 683.786 27.1563 685.062 Q26.9349 686.325 26.4792 687.731 L24.0052 687.731 Q24.6953 686.403 25.0469 685.114 Q25.3854 683.825 25.3854 682.562 Q25.3854 680.87 24.8125 679.958 Q24.2266 679.047 23.1719 679.047 Q22.1954 679.047 21.6745 679.711 Q21.1537 680.362 20.6719 682.588 L20.4766 683.422 Q20.0079 685.648 19.0443 686.638 Q18.0678 687.627 16.3751 687.627 Q14.3178 687.627 13.198 686.169 Q12.0782 684.711 12.0782 682.028 Q12.0782 680.7 12.2735 679.528 Q12.4688 678.357 12.8595 677.367 Z\" fill=\"#000000\" fill-rule=\"evenodd\" fill-opacity=\"1\" /><path clip-path=\"url(#clip810)\" d=\"M 0 0 M12.8595 664.776 L15.1251 664.776 Q14.6043 665.792 14.3438 666.885 Q14.0834 667.979 14.0834 669.151 Q14.0834 670.935 14.6303 671.833 Q15.1772 672.719 16.2709 672.719 Q17.1042 672.719 17.586 672.081 Q18.0548 671.443 18.4844 669.515 L18.6667 668.695 Q19.2136 666.143 20.2162 665.075 Q21.2058 663.995 22.9896 663.995 Q25.0209 663.995 26.2058 665.609 Q27.3906 667.211 27.3906 670.023 Q27.3906 671.195 27.1563 672.471 Q26.9349 673.734 26.4792 675.14 L24.0052 675.14 Q24.6953 673.812 25.0469 672.523 Q25.3854 671.234 25.3854 669.971 Q25.3854 668.278 24.8125 667.367 Q24.2266 666.456 23.1719 666.456 Q22.1954 666.456 21.6745 667.12 Q21.1537 667.771 20.6719 669.997 L20.4766 670.831 Q20.0079 673.057 19.0443 674.047 Q18.0678 675.036 16.3751 675.036 Q14.3178 675.036 13.198 673.578 Q12.0782 672.12 12.0782 669.437 Q12.0782 668.109 12.2735 666.937 Q12.4688 665.765 12.8595 664.776 Z\" fill=\"#000000\" fill-rule=\"evenodd\" fill-opacity=\"1\" /><path clip-path=\"url(#clip810)\" d=\"M 0 0 M19.6823 654.854 Q19.6823 657.758 20.3464 658.877 Q21.0105 659.997 22.612 659.997 Q23.8881 659.997 24.6433 659.164 Q25.3854 658.318 25.3854 656.872 Q25.3854 654.88 23.9792 653.682 Q22.5599 652.471 20.2162 652.471 L19.6823 652.471 L19.6823 654.854 M18.6928 650.075 L27.013 650.075 L27.013 652.471 L24.7995 652.471 Q26.1276 653.292 26.7656 654.516 Q27.3906 655.739 27.3906 657.51 Q27.3906 659.75 26.1406 661.078 Q24.8776 662.393 22.7683 662.393 Q20.3073 662.393 19.0574 660.752 Q17.8074 659.099 17.8074 655.831 L17.8074 652.471 L17.573 652.471 Q15.9193 652.471 15.0209 653.565 Q14.1095 654.646 14.1095 656.612 Q14.1095 657.862 14.4089 659.047 Q14.7084 660.232 15.3074 661.325 L13.0938 661.325 Q12.586 660.01 12.3386 658.773 Q12.0782 657.536 12.0782 656.364 Q12.0782 653.2 13.7188 651.638 Q15.3595 650.075 18.6928 650.075 Z\" fill=\"#000000\" fill-rule=\"evenodd\" fill-opacity=\"1\" /><path clip-path=\"url(#clip810)\" d=\"M 0 0 M21.2579 647.81 L12.4298 647.81 L12.4298 645.414 L21.1667 645.414 Q23.237 645.414 24.2787 644.607 Q25.3073 643.799 25.3073 642.185 Q25.3073 640.245 24.0703 639.125 Q22.8334 637.992 20.698 637.992 L12.4298 637.992 L12.4298 635.596 L27.013 635.596 L27.013 637.992 L24.7735 637.992 Q26.1016 638.865 26.7526 640.023 Q27.3906 641.169 27.3906 642.693 Q27.3906 645.206 25.8281 646.508 Q24.2657 647.81 21.2579 647.81 M12.0782 641.781 L12.0782 641.781 Z\" fill=\"#000000\" fill-rule=\"evenodd\" fill-opacity=\"1\" /><path clip-path=\"url(#clip810)\" d=\"M 0 0 M6.75273 633.083 L6.75273 630.688 L27.013 630.688 L27.013 633.083 L6.75273 633.083 Z\" fill=\"#000000\" fill-rule=\"evenodd\" fill-opacity=\"1\" /><path clip-path=\"url(#clip810)\" d=\"M 0 0 M8.28918 625.805 L12.4298 625.805 L12.4298 620.87 L14.2918 620.87 L14.2918 625.805 L22.2084 625.805 Q23.9922 625.805 24.5 625.323 Q25.0078 624.828 25.0078 623.331 L25.0078 620.87 L27.013 620.87 L27.013 623.331 Q27.013 626.104 25.9844 627.159 Q24.9427 628.214 22.2084 628.214 L14.2918 628.214 L14.2918 629.971 L12.4298 629.971 L12.4298 628.214 L8.28918 628.214 L8.28918 625.805 Z\" fill=\"#000000\" fill-rule=\"evenodd\" fill-opacity=\"1\" /><path clip-path=\"url(#clip810)\" d=\"M 0 0 M6.77877 618.734 L6.77877 616.651 Q9.85167 614.698 12.7944 613.734 Q15.7371 612.758 18.6407 612.758 Q21.5573 612.758 24.5131 613.734 Q27.4688 614.698 30.5286 616.651 L30.5286 618.734 Q27.5469 617.003 24.6042 616.156 Q21.6485 615.297 18.6407 615.297 Q15.6329 615.297 12.7032 616.156 Q9.77355 617.003 6.77877 618.734 Z\" fill=\"#000000\" fill-rule=\"evenodd\" fill-opacity=\"1\" /><polyline clip-path=\"url(#clip812)\" style=\"stroke:#000000; stroke-width:1; stroke-opacity:1; fill:none\" points=\"\n",
       "  839.213,237.961 1191.6,237.961 \n",
       "  \"/>\n",
       "<polyline clip-path=\"url(#clip812)\" style=\"stroke:#000000; stroke-width:1; stroke-opacity:1; fill:none\" points=\"\n",
       "  671.3,1463.71 1020.83,1463.71 \n",
       "  \"/>\n",
       "<line clip-path=\"url(#clip812)\" x1=\"839.213\" y1=\"245.961\" x2=\"839.213\" y2=\"229.961\" style=\"stroke:#000000; stroke-width:3.2; stroke-opacity:1\"/>\n",
       "<line clip-path=\"url(#clip812)\" x1=\"1191.6\" y1=\"245.961\" x2=\"1191.6\" y2=\"229.961\" style=\"stroke:#000000; stroke-width:3.2; stroke-opacity:1\"/>\n",
       "<line clip-path=\"url(#clip812)\" x1=\"671.3\" y1=\"1471.71\" x2=\"671.3\" y2=\"1455.71\" style=\"stroke:#000000; stroke-width:3.2; stroke-opacity:1\"/>\n",
       "<line clip-path=\"url(#clip812)\" x1=\"1020.83\" y1=\"1471.71\" x2=\"1020.83\" y2=\"1455.71\" style=\"stroke:#000000; stroke-width:3.2; stroke-opacity:1\"/>\n",
       "<circle clip-path=\"url(#clip812)\" cx=\"1015.41\" cy=\"237.961\" r=\"7\" fill=\"#009af9\" fill-rule=\"evenodd\" fill-opacity=\"1\" stroke=\"#000000\" stroke-opacity=\"1\" stroke-width=\"3.2\"/>\n",
       "<circle clip-path=\"url(#clip812)\" cx=\"846.064\" cy=\"1463.71\" r=\"7\" fill=\"#009af9\" fill-rule=\"evenodd\" fill-opacity=\"1\" stroke=\"#000000\" stroke-opacity=\"1\" stroke-width=\"3.2\"/>\n",
       "<polyline clip-path=\"url(#clip812)\" style=\"stroke:#000000; stroke-width:1; stroke-opacity:1; fill:none\" points=\"\n",
       "  944.915,54.0992 1298.65,54.0992 \n",
       "  \"/>\n",
       "<polyline clip-path=\"url(#clip812)\" style=\"stroke:#000000; stroke-width:1; stroke-opacity:1; fill:none\" points=\"\n",
       "  781.852,1279.84 1130.54,1279.84 \n",
       "  \"/>\n",
       "<line clip-path=\"url(#clip812)\" x1=\"944.915\" y1=\"62.0992\" x2=\"944.915\" y2=\"46.0992\" style=\"stroke:#000000; stroke-width:3.2; stroke-opacity:1\"/>\n",
       "<line clip-path=\"url(#clip812)\" x1=\"1298.65\" y1=\"62.0992\" x2=\"1298.65\" y2=\"46.0992\" style=\"stroke:#000000; stroke-width:3.2; stroke-opacity:1\"/>\n",
       "<line clip-path=\"url(#clip812)\" x1=\"781.852\" y1=\"1287.84\" x2=\"781.852\" y2=\"1271.84\" style=\"stroke:#000000; stroke-width:3.2; stroke-opacity:1\"/>\n",
       "<line clip-path=\"url(#clip812)\" x1=\"1130.54\" y1=\"1287.84\" x2=\"1130.54\" y2=\"1271.84\" style=\"stroke:#000000; stroke-width:3.2; stroke-opacity:1\"/>\n",
       "<circle clip-path=\"url(#clip812)\" cx=\"1121.78\" cy=\"54.0992\" r=\"7\" fill=\"#e26f46\" fill-rule=\"evenodd\" fill-opacity=\"1\" stroke=\"#000000\" stroke-opacity=\"1\" stroke-width=\"3.2\"/>\n",
       "<circle clip-path=\"url(#clip812)\" cx=\"956.195\" cy=\"1279.84\" r=\"7\" fill=\"#e26f46\" fill-rule=\"evenodd\" fill-opacity=\"1\" stroke=\"#000000\" stroke-opacity=\"1\" stroke-width=\"3.2\"/>\n",
       "<polyline clip-path=\"url(#clip812)\" style=\"stroke:#000000; stroke-width:2; stroke-opacity:1; fill:none\" stroke-dasharray=\"8, 5\" points=\"\n",
       "  827.86,3000.18 827.86,-1482.37 \n",
       "  \"/>\n",
       "<path clip-path=\"url(#clip810)\" d=\"\n",
       "M118.219 792.923 L466.907 792.923 L466.907 690.863 L118.219 690.863  Z\n",
       "  \" fill=\"#ffffff\" fill-rule=\"evenodd\" fill-opacity=\"1\"/>\n",
       "<polyline clip-path=\"url(#clip810)\" style=\"stroke:#000000; stroke-width:1; stroke-opacity:1; fill:none\" points=\"\n",
       "  118.219,792.923 466.907,792.923 466.907,690.863 118.219,690.863 118.219,792.923 \n",
       "  \"/>\n",
       "<circle clip-path=\"url(#clip810)\" cx=\"185.804\" cy=\"724.883\" r=\"12\" fill=\"#009af9\" fill-rule=\"evenodd\" fill-opacity=\"1\" stroke=\"#000000\" stroke-opacity=\"1\" stroke-width=\"5.76\"/>\n",
       "<path clip-path=\"url(#clip810)\" d=\"M 0 0 M265.901 715.801 L265.901 718.366 Q264.404 717.65 263.076 717.298 Q261.748 716.947 260.511 716.947 Q258.362 716.947 257.191 717.78 Q256.032 718.613 256.032 720.15 Q256.032 721.439 256.8 722.103 Q257.581 722.754 259.743 723.158 L261.331 723.483 Q264.274 724.043 265.667 725.462 Q267.073 726.869 267.073 729.238 Q267.073 732.064 265.172 733.522 Q263.284 734.981 259.625 734.981 Q258.245 734.981 256.683 734.668 Q255.133 734.356 253.467 733.744 L253.467 731.035 Q255.068 731.934 256.605 732.389 Q258.141 732.845 259.625 732.845 Q261.878 732.845 263.102 731.96 Q264.326 731.074 264.326 729.434 Q264.326 728.001 263.441 727.194 Q262.568 726.387 260.563 725.983 L258.961 725.671 Q256.019 725.085 254.704 723.835 Q253.389 722.585 253.389 720.358 Q253.389 717.78 255.198 716.296 Q257.021 714.811 260.211 714.811 Q261.579 714.811 262.998 715.059 Q264.417 715.306 265.901 715.801 Z\" fill=\"#000000\" fill-rule=\"evenodd\" fill-opacity=\"1\" /><path clip-path=\"url(#clip810)\" d=\"M 0 0 M276.214 727.272 Q273.31 727.272 272.19 727.936 Q271.071 728.6 271.071 730.202 Q271.071 731.478 271.904 732.233 Q272.75 732.975 274.196 732.975 Q276.188 732.975 277.386 731.569 Q278.597 730.15 278.597 727.806 L278.597 727.272 L276.214 727.272 M280.993 726.283 L280.993 734.603 L278.597 734.603 L278.597 732.389 Q277.776 733.718 276.552 734.356 Q275.328 734.981 273.558 734.981 Q271.318 734.981 269.99 733.731 Q268.675 732.468 268.675 730.358 Q268.675 727.897 270.315 726.647 Q271.969 725.397 275.237 725.397 L278.597 725.397 L278.597 725.163 Q278.597 723.509 277.503 722.611 Q276.422 721.699 274.456 721.699 Q273.206 721.699 272.021 721.999 Q270.836 722.298 269.743 722.897 L269.743 720.684 Q271.058 720.176 272.295 719.929 Q273.532 719.668 274.703 719.668 Q277.868 719.668 279.43 721.309 Q280.993 722.949 280.993 726.283 Z\" fill=\"#000000\" fill-rule=\"evenodd\" fill-opacity=\"1\" /><path clip-path=\"url(#clip810)\" d=\"M 0 0 M294.86 722.819 Q295.758 721.205 297.008 720.436 Q298.258 719.668 299.951 719.668 Q302.229 719.668 303.466 721.27 Q304.703 722.858 304.703 725.801 L304.703 734.603 L302.294 734.603 L302.294 725.879 Q302.294 723.783 301.552 722.767 Q300.81 721.751 299.287 721.751 Q297.425 721.751 296.344 722.988 Q295.263 724.225 295.263 726.361 L295.263 734.603 L292.854 734.603 L292.854 725.879 Q292.854 723.77 292.112 722.767 Q291.37 721.751 289.821 721.751 Q287.985 721.751 286.904 723.001 Q285.823 724.238 285.823 726.361 L285.823 734.603 L283.414 734.603 L283.414 720.02 L285.823 720.02 L285.823 722.285 Q286.644 720.944 287.789 720.306 Q288.935 719.668 290.511 719.668 Q292.099 719.668 293.206 720.475 Q294.326 721.283 294.86 722.819 Z\" fill=\"#000000\" fill-rule=\"evenodd\" fill-opacity=\"1\" /><path clip-path=\"url(#clip810)\" d=\"M 0 0 M319.69 726.712 L319.69 727.884 L308.675 727.884 Q308.831 730.358 310.159 731.66 Q311.5 732.949 313.883 732.949 Q315.263 732.949 316.552 732.611 Q317.854 732.272 319.13 731.595 L319.13 733.861 Q317.841 734.408 316.487 734.694 Q315.133 734.981 313.74 734.981 Q310.25 734.981 308.206 732.949 Q306.175 730.918 306.175 727.455 Q306.175 723.874 308.102 721.778 Q310.042 719.668 313.323 719.668 Q316.266 719.668 317.971 721.569 Q319.69 723.457 319.69 726.712 M317.294 726.009 Q317.268 724.043 316.188 722.871 Q315.12 721.699 313.349 721.699 Q311.344 721.699 310.133 722.832 Q308.935 723.965 308.753 726.022 L317.294 726.009 Z\" fill=\"#000000\" fill-rule=\"evenodd\" fill-opacity=\"1\" /><path clip-path=\"url(#clip810)\" d=\"M 0 0 M332.997 732.416 L332.997 740.15 L330.589 740.15 L330.589 720.02 L332.997 720.02 L332.997 722.233 Q333.753 720.931 334.898 720.306 Q336.057 719.668 337.659 719.668 Q340.315 719.668 341.969 721.778 Q343.635 723.887 343.635 727.324 Q343.635 730.762 341.969 732.871 Q340.315 734.981 337.659 734.981 Q336.057 734.981 334.898 734.356 Q333.753 733.718 332.997 732.416 M341.148 727.324 Q341.148 724.681 340.055 723.184 Q338.974 721.673 337.073 721.673 Q335.172 721.673 334.078 723.184 Q332.997 724.681 332.997 727.324 Q332.997 729.968 334.078 731.478 Q335.172 732.975 337.073 732.975 Q338.974 732.975 340.055 731.478 Q341.148 729.968 341.148 727.324 Z\" fill=\"#000000\" fill-rule=\"evenodd\" fill-opacity=\"1\" /><path clip-path=\"url(#clip810)\" d=\"M 0 0 M352.776 727.272 Q349.872 727.272 348.753 727.936 Q347.633 728.6 347.633 730.202 Q347.633 731.478 348.466 732.233 Q349.312 732.975 350.758 732.975 Q352.75 732.975 353.948 731.569 Q355.159 730.15 355.159 727.806 L355.159 727.272 L352.776 727.272 M357.555 726.283 L357.555 734.603 L355.159 734.603 L355.159 732.389 Q354.338 733.718 353.115 734.356 Q351.891 734.981 350.12 734.981 Q347.88 734.981 346.552 733.731 Q345.237 732.468 345.237 730.358 Q345.237 727.897 346.878 726.647 Q348.531 725.397 351.799 725.397 L355.159 725.397 L355.159 725.163 Q355.159 723.509 354.065 722.611 Q352.984 721.699 351.018 721.699 Q349.768 721.699 348.583 721.999 Q347.398 722.298 346.305 722.897 L346.305 720.684 Q347.62 720.176 348.857 719.929 Q350.094 719.668 351.266 719.668 Q354.43 719.668 355.992 721.309 Q357.555 722.949 357.555 726.283 Z\" fill=\"#000000\" fill-rule=\"evenodd\" fill-opacity=\"1\" /><path clip-path=\"url(#clip810)\" d=\"M 0 0 M368.518 722.259 Q368.114 722.025 367.633 721.921 Q367.164 721.804 366.591 721.804 Q364.56 721.804 363.466 723.132 Q362.385 724.447 362.385 726.921 L362.385 734.603 L359.976 734.603 L359.976 720.02 L362.385 720.02 L362.385 722.285 Q363.141 720.957 364.351 720.319 Q365.562 719.668 367.294 719.668 Q367.542 719.668 367.841 719.707 Q368.14 719.733 368.505 719.798 L368.518 722.259 Z\" fill=\"#000000\" fill-rule=\"evenodd\" fill-opacity=\"1\" /><path clip-path=\"url(#clip810)\" d=\"M 0 0 M373.401 715.879 L373.401 720.02 L378.336 720.02 L378.336 721.882 L373.401 721.882 L373.401 729.798 Q373.401 731.582 373.883 732.09 Q374.377 732.598 375.875 732.598 L378.336 732.598 L378.336 734.603 L375.875 734.603 Q373.101 734.603 372.047 733.574 Q370.992 732.533 370.992 729.798 L370.992 721.882 L369.234 721.882 L369.234 720.02 L370.992 720.02 L370.992 715.879 L373.401 715.879 Z\" fill=\"#000000\" fill-rule=\"evenodd\" fill-opacity=\"1\" /><path clip-path=\"url(#clip810)\" d=\"M 0 0 M386.916 735.957 Q385.901 738.561 384.937 739.356 Q383.974 740.15 382.359 740.15 L380.445 740.15 L380.445 738.145 L381.851 738.145 Q382.841 738.145 383.388 737.676 Q383.935 737.207 384.599 735.462 L385.028 734.369 L379.13 720.02 L381.669 720.02 L386.226 731.426 L390.784 720.02 L393.323 720.02 L386.916 735.957 Z\" fill=\"#000000\" fill-rule=\"evenodd\" fill-opacity=\"1\" /><circle clip-path=\"url(#clip810)\" cx=\"185.804\" cy=\"758.903\" r=\"12\" fill=\"#e26f46\" fill-rule=\"evenodd\" fill-opacity=\"1\" stroke=\"#000000\" stroke-opacity=\"1\" stroke-width=\"5.76\"/>\n",
       "<path clip-path=\"url(#clip810)\" d=\"M 0 0 M262.399 750.967 Q259.534 750.967 257.842 753.102 Q256.162 755.238 256.162 758.923 Q256.162 762.594 257.842 764.73 Q259.534 766.865 262.399 766.865 Q265.263 766.865 266.93 764.73 Q268.61 762.594 268.61 758.923 Q268.61 755.238 266.93 753.102 Q265.263 750.967 262.399 750.967 M262.399 748.831 Q266.487 748.831 268.935 751.579 Q271.383 754.313 271.383 758.923 Q271.383 763.519 268.935 766.266 Q266.487 769.001 262.399 769.001 Q258.297 769.001 255.836 766.266 Q253.389 763.532 253.389 758.923 Q253.389 754.313 255.836 751.579 Q258.297 748.831 262.399 748.831 Z\" fill=\"#000000\" fill-rule=\"evenodd\" fill-opacity=\"1\" /><path clip-path=\"url(#clip810)\" d=\"M 0 0 M276.214 766.436 L276.214 774.17 L273.805 774.17 L273.805 754.04 L276.214 754.04 L276.214 756.253 Q276.969 754.951 278.115 754.326 Q279.274 753.688 280.875 753.688 Q283.532 753.688 285.185 755.798 Q286.852 757.907 286.852 761.344 Q286.852 764.782 285.185 766.891 Q283.532 769.001 280.875 769.001 Q279.274 769.001 278.115 768.376 Q276.969 767.738 276.214 766.436 M284.365 761.344 Q284.365 758.701 283.271 757.204 Q282.19 755.693 280.289 755.693 Q278.388 755.693 277.295 757.204 Q276.214 758.701 276.214 761.344 Q276.214 763.988 277.295 765.498 Q278.388 766.995 280.289 766.995 Q282.19 766.995 283.271 765.498 Q284.365 763.988 284.365 761.344 Z\" fill=\"#000000\" fill-rule=\"evenodd\" fill-opacity=\"1\" /><path clip-path=\"url(#clip810)\" d=\"M 0 0 M291.683 766.436 L291.683 774.17 L289.274 774.17 L289.274 754.04 L291.683 754.04 L291.683 756.253 Q292.438 754.951 293.584 754.326 Q294.742 753.688 296.344 753.688 Q299 753.688 300.654 755.798 Q302.321 757.907 302.321 761.344 Q302.321 764.782 300.654 766.891 Q299 769.001 296.344 769.001 Q294.742 769.001 293.584 768.376 Q292.438 767.738 291.683 766.436 M299.834 761.344 Q299.834 758.701 298.74 757.204 Q297.659 755.693 295.758 755.693 Q293.857 755.693 292.763 757.204 Q291.683 758.701 291.683 761.344 Q291.683 763.988 292.763 765.498 Q293.857 766.995 295.758 766.995 Q297.659 766.995 298.74 765.498 Q299.834 763.988 299.834 761.344 Z\" fill=\"#000000\" fill-rule=\"evenodd\" fill-opacity=\"1\" /><path clip-path=\"url(#clip810)\" d=\"M 0 0 M310.485 755.719 Q308.557 755.719 307.438 757.23 Q306.318 758.727 306.318 761.344 Q306.318 763.962 307.425 765.472 Q308.544 766.969 310.485 766.969 Q312.399 766.969 313.518 765.459 Q314.638 763.949 314.638 761.344 Q314.638 758.753 313.518 757.243 Q312.399 755.719 310.485 755.719 M310.485 753.688 Q313.61 753.688 315.393 755.719 Q317.177 757.751 317.177 761.344 Q317.177 764.925 315.393 766.969 Q313.61 769.001 310.485 769.001 Q307.347 769.001 305.563 766.969 Q303.792 764.925 303.792 761.344 Q303.792 757.751 305.563 755.719 Q307.347 753.688 310.485 753.688 Z\" fill=\"#000000\" fill-rule=\"evenodd\" fill-opacity=\"1\" /><path clip-path=\"url(#clip810)\" d=\"M 0 0 M328.987 754.469 L328.987 756.735 Q327.971 756.214 326.878 755.954 Q325.784 755.693 324.612 755.693 Q322.828 755.693 321.93 756.24 Q321.044 756.787 321.044 757.881 Q321.044 758.714 321.682 759.196 Q322.32 759.665 324.247 760.094 L325.068 760.277 Q327.62 760.824 328.688 761.826 Q329.768 762.816 329.768 764.6 Q329.768 766.631 328.154 767.816 Q326.552 769.001 323.74 769.001 Q322.568 769.001 321.292 768.766 Q320.029 768.545 318.623 768.089 L318.623 765.615 Q319.951 766.305 321.24 766.657 Q322.529 766.995 323.792 766.995 Q325.484 766.995 326.396 766.422 Q327.307 765.837 327.307 764.782 Q327.307 763.805 326.643 763.284 Q325.992 762.764 323.766 762.282 L322.932 762.087 Q320.706 761.618 319.716 760.654 Q318.727 759.678 318.727 757.985 Q318.727 755.928 320.185 754.808 Q321.643 753.688 324.326 753.688 Q325.654 753.688 326.826 753.883 Q327.997 754.079 328.987 754.469 Z\" fill=\"#000000\" fill-rule=\"evenodd\" fill-opacity=\"1\" /><path clip-path=\"url(#clip810)\" d=\"M 0 0 M332.281 754.04 L334.677 754.04 L334.677 768.623 L332.281 768.623 L332.281 754.04 M332.281 748.363 L334.677 748.363 L334.677 751.397 L332.281 751.397 L332.281 748.363 Z\" fill=\"#000000\" fill-rule=\"evenodd\" fill-opacity=\"1\" /><path clip-path=\"url(#clip810)\" d=\"M 0 0 M339.56 749.899 L339.56 754.04 L344.495 754.04 L344.495 755.902 L339.56 755.902 L339.56 763.818 Q339.56 765.602 340.042 766.11 Q340.536 766.618 342.034 766.618 L344.495 766.618 L344.495 768.623 L342.034 768.623 Q339.26 768.623 338.206 767.594 Q337.151 766.553 337.151 763.818 L337.151 755.902 L335.393 755.902 L335.393 754.04 L337.151 754.04 L337.151 749.899 L339.56 749.899 Z\" fill=\"#000000\" fill-rule=\"evenodd\" fill-opacity=\"1\" /><path clip-path=\"url(#clip810)\" d=\"M 0 0 M359.482 760.732 L359.482 761.904 L348.466 761.904 Q348.622 764.378 349.95 765.68 Q351.292 766.969 353.674 766.969 Q355.055 766.969 356.344 766.631 Q357.646 766.292 358.922 765.615 L358.922 767.881 Q357.633 768.428 356.279 768.714 Q354.924 769.001 353.531 769.001 Q350.042 769.001 347.997 766.969 Q345.966 764.938 345.966 761.475 Q345.966 757.894 347.893 755.798 Q349.833 753.688 353.115 753.688 Q356.057 753.688 357.763 755.589 Q359.482 757.477 359.482 760.732 M357.086 760.029 Q357.06 758.063 355.979 756.891 Q354.911 755.719 353.141 755.719 Q351.135 755.719 349.924 756.852 Q348.727 757.985 348.544 760.042 L357.086 760.029 Z\" fill=\"#000000\" fill-rule=\"evenodd\" fill-opacity=\"1\" /><path clip-path=\"url(#clip810)\" d=\"M 0 0 M372.789 766.436 L372.789 774.17 L370.38 774.17 L370.38 754.04 L372.789 754.04 L372.789 756.253 Q373.544 754.951 374.69 754.326 Q375.849 753.688 377.45 753.688 Q380.107 753.688 381.76 755.798 Q383.427 757.907 383.427 761.344 Q383.427 764.782 381.76 766.891 Q380.107 769.001 377.45 769.001 Q375.849 769.001 374.69 768.376 Q373.544 767.738 372.789 766.436 M380.94 761.344 Q380.94 758.701 379.846 757.204 Q378.765 755.693 376.864 755.693 Q374.963 755.693 373.87 757.204 Q372.789 758.701 372.789 761.344 Q372.789 763.988 373.87 765.498 Q374.963 766.995 376.864 766.995 Q378.765 766.995 379.846 765.498 Q380.94 763.988 380.94 761.344 Z\" fill=\"#000000\" fill-rule=\"evenodd\" fill-opacity=\"1\" /><path clip-path=\"url(#clip810)\" d=\"M 0 0 M392.567 761.292 Q389.664 761.292 388.544 761.956 Q387.424 762.62 387.424 764.222 Q387.424 765.498 388.258 766.253 Q389.104 766.995 390.549 766.995 Q392.541 766.995 393.739 765.589 Q394.95 764.17 394.95 761.826 L394.95 761.292 L392.567 761.292 M397.346 760.303 L397.346 768.623 L394.95 768.623 L394.95 766.409 Q394.13 767.738 392.906 768.376 Q391.682 769.001 389.911 769.001 Q387.672 769.001 386.344 767.751 Q385.028 766.488 385.028 764.378 Q385.028 761.917 386.669 760.667 Q388.323 759.417 391.591 759.417 L394.95 759.417 L394.95 759.183 Q394.95 757.529 393.857 756.631 Q392.776 755.719 390.81 755.719 Q389.56 755.719 388.375 756.019 Q387.19 756.318 386.096 756.917 L386.096 754.704 Q387.411 754.196 388.648 753.949 Q389.885 753.688 391.057 753.688 Q394.221 753.688 395.784 755.329 Q397.346 756.969 397.346 760.303 Z\" fill=\"#000000\" fill-rule=\"evenodd\" fill-opacity=\"1\" /><path clip-path=\"url(#clip810)\" d=\"M 0 0 M408.31 756.279 Q407.906 756.045 407.424 755.941 Q406.955 755.824 406.382 755.824 Q404.351 755.824 403.257 757.152 Q402.177 758.467 402.177 760.941 L402.177 768.623 L399.768 768.623 L399.768 754.04 L402.177 754.04 L402.177 756.305 Q402.932 754.977 404.143 754.339 Q405.354 753.688 407.086 753.688 Q407.333 753.688 407.632 753.727 Q407.932 753.753 408.297 753.818 L408.31 756.279 Z\" fill=\"#000000\" fill-rule=\"evenodd\" fill-opacity=\"1\" /><path clip-path=\"url(#clip810)\" d=\"M 0 0 M413.192 749.899 L413.192 754.04 L418.127 754.04 L418.127 755.902 L413.192 755.902 L413.192 763.818 Q413.192 765.602 413.674 766.11 Q414.169 766.618 415.666 766.618 L418.127 766.618 L418.127 768.623 L415.666 768.623 Q412.893 768.623 411.838 767.594 Q410.783 766.553 410.783 763.818 L410.783 755.902 L409.026 755.902 L409.026 754.04 L410.783 754.04 L410.783 749.899 L413.192 749.899 Z\" fill=\"#000000\" fill-rule=\"evenodd\" fill-opacity=\"1\" /><path clip-path=\"url(#clip810)\" d=\"M 0 0 M426.708 769.977 Q425.692 772.581 424.729 773.376 Q423.765 774.17 422.151 774.17 L420.237 774.17 L420.237 772.165 L421.643 772.165 Q422.632 772.165 423.179 771.696 Q423.726 771.227 424.39 769.482 L424.82 768.389 L418.921 754.04 L421.461 754.04 L426.018 765.446 L430.575 754.04 L433.114 754.04 L426.708 769.977 Z\" fill=\"#000000\" fill-rule=\"evenodd\" fill-opacity=\"1\" /><path clip-path=\"url(#clip810)\" d=\"M 0 0 M1409.56 1335.59 L1406.78 1343.11 L1412.34 1343.11 L1409.56 1335.59 M1408.4 1333.57 L1410.72 1333.57 L1416.49 1348.69 L1414.36 1348.69 L1412.98 1344.81 L1406.17 1344.81 L1404.79 1348.69 L1402.63 1348.69 L1408.4 1333.57 Z\" fill=\"#000000\" fill-rule=\"evenodd\" fill-opacity=\"1\" /><path clip-path=\"url(#clip810)\" d=\"M 0 0 M1425.67 1337.68 L1425.67 1339.45 Q1424.88 1339.04 1424.03 1338.84 Q1423.18 1338.64 1422.27 1338.64 Q1420.88 1338.64 1420.18 1339.06 Q1419.49 1339.49 1419.49 1340.34 Q1419.49 1340.99 1419.99 1341.36 Q1420.49 1341.72 1421.99 1342.06 L1422.62 1342.2 Q1424.61 1342.63 1425.44 1343.41 Q1426.28 1344.18 1426.28 1345.56 Q1426.28 1347.14 1425.02 1348.06 Q1423.78 1348.99 1421.59 1348.99 Q1420.68 1348.99 1419.69 1348.8 Q1418.7 1348.63 1417.61 1348.28 L1417.61 1346.35 Q1418.64 1346.89 1419.65 1347.16 Q1420.65 1347.43 1421.63 1347.43 Q1422.95 1347.43 1423.66 1346.98 Q1424.37 1346.52 1424.37 1345.7 Q1424.37 1344.95 1423.85 1344.54 Q1423.34 1344.13 1421.61 1343.76 L1420.96 1343.61 Q1419.23 1343.24 1418.46 1342.49 Q1417.69 1341.73 1417.69 1340.42 Q1417.69 1338.82 1418.83 1337.95 Q1419.96 1337.08 1422.05 1337.08 Q1423.08 1337.08 1423.99 1337.23 Q1424.9 1337.38 1425.67 1337.68 Z\" fill=\"#000000\" fill-rule=\"evenodd\" fill-opacity=\"1\" /><path clip-path=\"url(#clip810)\" d=\"M 0 0 M1435.46 1337.68 L1435.46 1339.45 Q1434.67 1339.04 1433.82 1338.84 Q1432.97 1338.64 1432.06 1338.64 Q1430.67 1338.64 1429.98 1339.06 Q1429.29 1339.49 1429.29 1340.34 Q1429.29 1340.99 1429.78 1341.36 Q1430.28 1341.72 1431.78 1342.06 L1432.42 1342.2 Q1434.4 1342.63 1435.23 1343.41 Q1436.07 1344.18 1436.07 1345.56 Q1436.07 1347.14 1434.82 1348.06 Q1433.57 1348.99 1431.38 1348.99 Q1430.47 1348.99 1429.48 1348.8 Q1428.5 1348.63 1427.4 1348.28 L1427.4 1346.35 Q1428.44 1346.89 1429.44 1347.16 Q1430.44 1347.43 1431.42 1347.43 Q1432.74 1347.43 1433.45 1346.98 Q1434.16 1346.52 1434.16 1345.7 Q1434.16 1344.95 1433.64 1344.54 Q1433.14 1344.13 1431.4 1343.76 L1430.76 1343.61 Q1429.02 1343.24 1428.25 1342.49 Q1427.48 1341.73 1427.48 1340.42 Q1427.48 1338.82 1428.62 1337.95 Q1429.75 1337.08 1431.84 1337.08 Q1432.87 1337.08 1433.78 1337.23 Q1434.7 1337.38 1435.46 1337.68 Z\" fill=\"#000000\" fill-rule=\"evenodd\" fill-opacity=\"1\" /><path clip-path=\"url(#clip810)\" d=\"M 0 0 M1443.18 1342.99 Q1440.92 1342.99 1440.05 1343.51 Q1439.18 1344.02 1439.18 1345.27 Q1439.18 1346.26 1439.83 1346.85 Q1440.49 1347.43 1441.61 1347.43 Q1443.16 1347.43 1444.09 1346.33 Q1445.04 1345.23 1445.04 1343.41 L1445.04 1342.99 L1443.18 1342.99 M1446.9 1342.22 L1446.9 1348.69 L1445.04 1348.69 L1445.04 1346.97 Q1444.4 1348 1443.45 1348.5 Q1442.49 1348.99 1441.12 1348.99 Q1439.37 1348.99 1438.34 1348.01 Q1437.32 1347.03 1437.32 1345.39 Q1437.32 1343.48 1438.59 1342.5 Q1439.88 1341.53 1442.42 1341.53 L1445.04 1341.53 L1445.04 1341.35 Q1445.04 1340.06 1444.18 1339.36 Q1443.34 1338.66 1441.81 1338.66 Q1440.84 1338.66 1439.92 1338.89 Q1439 1339.12 1438.15 1339.59 L1438.15 1337.87 Q1439.17 1337.47 1440.13 1337.28 Q1441.1 1337.08 1442.01 1337.08 Q1444.47 1337.08 1445.68 1338.35 Q1446.9 1339.63 1446.9 1342.22 Z\" fill=\"#000000\" fill-rule=\"evenodd\" fill-opacity=\"1\" /><path clip-path=\"url(#clip810)\" d=\"M 0 0 M1448.66 1344.22 L1448.66 1337.35 L1450.52 1337.35 L1450.52 1344.15 Q1450.52 1345.76 1451.15 1346.57 Q1451.78 1347.37 1453.04 1347.37 Q1454.54 1347.37 1455.42 1346.4 Q1456.3 1345.44 1456.3 1343.78 L1456.3 1337.35 L1458.16 1337.35 L1458.16 1348.69 L1456.3 1348.69 L1456.3 1346.95 Q1455.62 1347.98 1454.72 1348.49 Q1453.83 1348.99 1452.64 1348.99 Q1450.69 1348.99 1449.67 1347.77 Q1448.66 1346.56 1448.66 1344.22 M1453.35 1337.08 L1453.35 1337.08 Z\" fill=\"#000000\" fill-rule=\"evenodd\" fill-opacity=\"1\" /><path clip-path=\"url(#clip810)\" d=\"M 0 0 M1460.11 1332.93 L1461.98 1332.93 L1461.98 1348.69 L1460.11 1348.69 L1460.11 1332.93 Z\" fill=\"#000000\" fill-rule=\"evenodd\" fill-opacity=\"1\" /><path clip-path=\"url(#clip810)\" d=\"M 0 0 M1465.78 1334.13 L1465.78 1337.35 L1469.61 1337.35 L1469.61 1338.8 L1465.78 1338.8 L1465.78 1344.96 Q1465.78 1346.34 1466.15 1346.74 Q1466.54 1347.13 1467.7 1347.13 L1469.61 1347.13 L1469.61 1348.69 L1467.7 1348.69 Q1465.54 1348.69 1464.72 1347.89 Q1463.9 1347.08 1463.9 1344.96 L1463.9 1338.8 L1462.53 1338.8 L1462.53 1337.35 L1463.9 1337.35 L1463.9 1334.13 L1465.78 1334.13 Z\" fill=\"#000000\" fill-rule=\"evenodd\" fill-opacity=\"1\" /><path clip-path=\"url(#clip810)\" d=\"M 0 0 M1414.55 107.827 L1416.59 107.827 L1416.59 121.893 Q1416.59 124.628 1415.55 125.863 Q1414.52 127.099 1412.22 127.099 L1411.44 127.099 L1411.44 125.377 L1412.08 125.377 Q1413.43 125.377 1413.99 124.618 Q1414.55 123.858 1414.55 121.893 L1414.55 107.827 Z\" fill=\"#000000\" fill-rule=\"evenodd\" fill-opacity=\"1\" /><path clip-path=\"url(#clip810)\" d=\"M 0 0 M1422.94 112.91 Q1421.44 112.91 1420.57 114.085 Q1419.7 115.25 1419.7 117.285 Q1419.7 119.321 1420.56 120.496 Q1421.43 121.66 1422.94 121.66 Q1424.43 121.66 1425.3 120.486 Q1426.17 119.311 1426.17 117.285 Q1426.17 115.27 1425.3 114.095 Q1424.43 112.91 1422.94 112.91 M1422.94 111.331 Q1425.37 111.331 1426.76 112.91 Q1428.15 114.49 1428.15 117.285 Q1428.15 120.07 1426.76 121.66 Q1425.37 123.24 1422.94 123.24 Q1420.5 123.24 1419.11 121.66 Q1417.74 120.07 1417.74 117.285 Q1417.74 114.49 1419.11 112.91 Q1420.5 111.331 1422.94 111.331 Z\" fill=\"#000000\" fill-rule=\"evenodd\" fill-opacity=\"1\" /><path clip-path=\"url(#clip810)\" d=\"M 0 0 M1430.03 107.189 L1431.91 107.189 L1431.91 116.495 L1437.46 111.604 L1439.84 111.604 L1433.83 116.911 L1440.1 122.947 L1437.67 122.947 L1431.91 117.407 L1431.91 122.947 L1430.03 122.947 L1430.03 107.189 Z\" fill=\"#000000\" fill-rule=\"evenodd\" fill-opacity=\"1\" /><path clip-path=\"url(#clip810)\" d=\"M 0 0 M1451.02 116.809 L1451.02 117.721 L1442.45 117.721 Q1442.57 119.645 1443.6 120.658 Q1444.65 121.66 1446.5 121.66 Q1447.57 121.66 1448.57 121.397 Q1449.59 121.134 1450.58 120.607 L1450.58 122.369 Q1449.58 122.795 1448.52 123.017 Q1447.47 123.24 1446.39 123.24 Q1443.67 123.24 1442.08 121.66 Q1440.5 120.081 1440.5 117.387 Q1440.5 114.602 1442 112.971 Q1443.51 111.331 1446.06 111.331 Q1448.35 111.331 1449.68 112.809 Q1451.02 114.278 1451.02 116.809 M1449.15 116.263 Q1449.13 114.733 1448.29 113.822 Q1447.46 112.91 1446.08 112.91 Q1444.52 112.91 1443.58 113.791 Q1442.65 114.673 1442.51 116.273 L1449.15 116.263 Z\" fill=\"#000000\" fill-rule=\"evenodd\" fill-opacity=\"1\" /><path clip-path=\"url(#clip810)\" d=\"M 0 0 M1460.2 111.938 L1460.2 113.7 Q1459.41 113.295 1458.56 113.093 Q1457.71 112.89 1456.8 112.89 Q1455.41 112.89 1454.71 113.316 Q1454.02 113.741 1454.02 114.592 Q1454.02 115.24 1454.52 115.614 Q1455.02 115.979 1456.51 116.313 L1457.15 116.455 Q1459.14 116.88 1459.97 117.66 Q1460.81 118.43 1460.81 119.817 Q1460.81 121.397 1459.55 122.319 Q1458.31 123.24 1456.12 123.24 Q1455.21 123.24 1454.22 123.058 Q1453.23 122.886 1452.14 122.531 L1452.14 120.607 Q1453.17 121.144 1454.17 121.417 Q1455.18 121.681 1456.16 121.681 Q1457.48 121.681 1458.19 121.235 Q1458.89 120.779 1458.89 119.959 Q1458.89 119.199 1458.38 118.794 Q1457.87 118.389 1456.14 118.015 L1455.49 117.863 Q1453.76 117.498 1452.99 116.749 Q1452.22 115.989 1452.22 114.673 Q1452.22 113.072 1453.35 112.202 Q1454.49 111.331 1456.58 111.331 Q1457.61 111.331 1458.52 111.482 Q1459.43 111.634 1460.2 111.938 Z\" fill=\"#000000\" fill-rule=\"evenodd\" fill-opacity=\"1\" /></svg>\n"
      ]
     },
     "execution_count": 96,
     "metadata": {},
     "output_type": "execute_result"
    }
   ],
   "source": [
    "plot(coefdf.coef1, int(CategoricalArray(coefdf.name), type=Int), seriestype = :scatter, xerror=1.96*coefdf.err1,\n",
    "    markersize=8,\n",
    "    xtickfontsize=18,\n",
    "    #ytickfontsize=18,\n",
    "    #tickfontcolor = false,\n",
    "    #yshowaxis=false,\n",
    "    xlabel=\"average treatment effect\",\n",
    "    xguidefontsize=18,\n",
    "    xlim = (-5,5),\n",
    "    ylabel=\"condition (Jokes, Assault)\",\n",
    "    yguidefontsize=18,\n",
    "    label = (\"Same party\"),\n",
    "    legendfontsize=18,\n",
    "    #ytickfontcolor = \"white\",\n",
    "    ytickfontsize = 1,\n",
    "    size=(1600,1600),\n",
    "    #legend=false,\n",
    "        legend = :left #:outertopleft\n",
    "       )\n",
    "plot!(coefdf.coef2, int(CategoricalArray(coefdf.name), type=Int).+.15, seriestype = :scatter, label = (\"Opposite party\"), \n",
    "            xerror=1.96*coefdf.err2, \n",
    "            markersize=8\n",
    "       )\n",
    "vline!([0], seriestype = \"vline\", lw=2, ls=:dash, lc=\"black\", label = false)\n",
    "annotate!(4, 1.1, \"Assault\", :black)\n",
    "annotate!(4, 2.1, \"Jokes\", :black)"
   ]
  },
  {
   "cell_type": "code",
   "execution_count": null,
   "metadata": {},
   "outputs": [],
   "source": []
  },
  {
   "cell_type": "code",
   "execution_count": null,
   "metadata": {},
   "outputs": [],
   "source": []
  },
  {
   "cell_type": "code",
   "execution_count": null,
   "metadata": {},
   "outputs": [],
   "source": []
  },
  {
   "cell_type": "code",
   "execution_count": 23,
   "metadata": {},
   "outputs": [],
   "source": [
    "# diagnostics"
   ]
  },
  {
   "cell_type": "code",
   "execution_count": 53,
   "metadata": {},
   "outputs": [],
   "source": [
    "#using StatPlots, Plots"
   ]
  },
  {
   "cell_type": "code",
   "execution_count": 55,
   "metadata": {},
   "outputs": [
    {
     "data": {
      "image/svg+xml": [
       "<?xml version=\"1.0\" encoding=\"utf-8\"?>\n",
       "<svg xmlns=\"http://www.w3.org/2000/svg\" xmlns:xlink=\"http://www.w3.org/1999/xlink\" width=\"600\" height=\"400\" viewBox=\"0 0 2400 1600\">\n",
       "<defs>\n",
       "  <clipPath id=\"clip1400\">\n",
       "    <rect x=\"0\" y=\"0\" width=\"2000\" height=\"2000\"/>\n",
       "  </clipPath>\n",
       "</defs>\n",
       "<defs>\n",
       "  <clipPath id=\"clip1401\">\n",
       "    <rect x=\"0\" y=\"0\" width=\"2400\" height=\"1600\"/>\n",
       "  </clipPath>\n",
       "</defs>\n",
       "<polygon clip-path=\"url(#clip1401)\" points=\"\n",
       "0,1600 2400,1600 2400,0 0,0 \n",
       "  \" fill=\"#ffffff\" fill-rule=\"evenodd\" fill-opacity=\"1\"/>\n",
       "<defs>\n",
       "  <clipPath id=\"clip1402\">\n",
       "    <rect x=\"480\" y=\"0\" width=\"1681\" height=\"1600\"/>\n",
       "  </clipPath>\n",
       "</defs>\n",
       "<polygon clip-path=\"url(#clip1401)\" points=\"\n",
       "211.005,671.979 1179.52,671.979 1179.52,47.2441 211.005,47.2441 \n",
       "  \" fill=\"#ffffff\" fill-rule=\"evenodd\" fill-opacity=\"1\"/>\n",
       "<defs>\n",
       "  <clipPath id=\"clip1403\">\n",
       "    <rect x=\"211\" y=\"47\" width=\"970\" height=\"626\"/>\n",
       "  </clipPath>\n",
       "</defs>\n",
       "<polyline clip-path=\"url(#clip1401)\" style=\"stroke:#000000; stroke-width:4; stroke-opacity:0; fill:none\" points=\"\n",
       "  211.005,671.979 1179.52,671.979 \n",
       "  \"/>\n",
       "<polyline clip-path=\"url(#clip1401)\" style=\"stroke:#000000; stroke-width:4; stroke-opacity:0; fill:none\" points=\"\n",
       "  211.005,671.979 211.005,47.2441 \n",
       "  \"/>\n",
       "<polyline clip-path=\"url(#clip1401)\" style=\"stroke:#000000; stroke-width:4; stroke-opacity:1; fill:none\" points=\"\n",
       "  264.275,671.979 264.275,662.608 \n",
       "  \"/>\n",
       "<polyline clip-path=\"url(#clip1401)\" style=\"stroke:#000000; stroke-width:4; stroke-opacity:1; fill:none\" points=\"\n",
       "  455.825,671.979 455.825,662.608 \n",
       "  \"/>\n",
       "<polyline clip-path=\"url(#clip1401)\" style=\"stroke:#000000; stroke-width:4; stroke-opacity:1; fill:none\" points=\"\n",
       "  647.374,671.979 647.374,662.608 \n",
       "  \"/>\n",
       "<polyline clip-path=\"url(#clip1401)\" style=\"stroke:#000000; stroke-width:4; stroke-opacity:1; fill:none\" points=\"\n",
       "  838.924,671.979 838.924,662.608 \n",
       "  \"/>\n",
       "<polyline clip-path=\"url(#clip1401)\" style=\"stroke:#000000; stroke-width:4; stroke-opacity:1; fill:none\" points=\"\n",
       "  1030.47,671.979 1030.47,662.608 \n",
       "  \"/>\n",
       "<polyline clip-path=\"url(#clip1401)\" style=\"stroke:#000000; stroke-width:4; stroke-opacity:1; fill:none\" points=\"\n",
       "  211.005,654.297 225.533,654.297 \n",
       "  \"/>\n",
       "<polyline clip-path=\"url(#clip1401)\" style=\"stroke:#000000; stroke-width:4; stroke-opacity:1; fill:none\" points=\"\n",
       "  211.005,545.154 225.533,545.154 \n",
       "  \"/>\n",
       "<polyline clip-path=\"url(#clip1401)\" style=\"stroke:#000000; stroke-width:4; stroke-opacity:1; fill:none\" points=\"\n",
       "  211.005,436.011 225.533,436.011 \n",
       "  \"/>\n",
       "<polyline clip-path=\"url(#clip1401)\" style=\"stroke:#000000; stroke-width:4; stroke-opacity:1; fill:none\" points=\"\n",
       "  211.005,326.868 225.533,326.868 \n",
       "  \"/>\n",
       "<polyline clip-path=\"url(#clip1401)\" style=\"stroke:#000000; stroke-width:4; stroke-opacity:1; fill:none\" points=\"\n",
       "  211.005,217.725 225.533,217.725 \n",
       "  \"/>\n",
       "<polyline clip-path=\"url(#clip1401)\" style=\"stroke:#000000; stroke-width:4; stroke-opacity:1; fill:none\" points=\"\n",
       "  211.005,108.582 225.533,108.582 \n",
       "  \"/>\n",
       "<g clip-path=\"url(#clip1401)\">\n",
       "<text style=\"fill:#000000; fill-opacity:1; font-family:Arial,Helvetica Neue,Helvetica,sans-serif; font-size:48px; text-anchor:middle;\" transform=\"rotate(0, 264.275, 725.979)\" x=\"264.275\" y=\"725.979\"></text>\n",
       "</g>\n",
       "<g clip-path=\"url(#clip1401)\">\n",
       "<text style=\"fill:#000000; fill-opacity:1; font-family:Arial,Helvetica Neue,Helvetica,sans-serif; font-size:48px; text-anchor:middle;\" transform=\"rotate(0, 455.825, 725.979)\" x=\"455.825\" y=\"725.979\"></text>\n",
       "</g>\n",
       "<g clip-path=\"url(#clip1401)\">\n",
       "<text style=\"fill:#000000; fill-opacity:1; font-family:Arial,Helvetica Neue,Helvetica,sans-serif; font-size:48px; text-anchor:middle;\" transform=\"rotate(0, 647.374, 725.979)\" x=\"647.374\" y=\"725.979\"></text>\n",
       "</g>\n",
       "<g clip-path=\"url(#clip1401)\">\n",
       "<text style=\"fill:#000000; fill-opacity:1; font-family:Arial,Helvetica Neue,Helvetica,sans-serif; font-size:48px; text-anchor:middle;\" transform=\"rotate(0, 838.924, 725.979)\" x=\"838.924\" y=\"725.979\"></text>\n",
       "</g>\n",
       "<g clip-path=\"url(#clip1401)\">\n",
       "<text style=\"fill:#000000; fill-opacity:1; font-family:Arial,Helvetica Neue,Helvetica,sans-serif; font-size:48px; text-anchor:middle;\" transform=\"rotate(0, 1030.47, 725.979)\" x=\"1030.47\" y=\"725.979\"></text>\n",
       "</g>\n",
       "<g clip-path=\"url(#clip1401)\">\n",
       "<text style=\"fill:#000000; fill-opacity:1; font-family:Arial,Helvetica Neue,Helvetica,sans-serif; font-size:48px; text-anchor:end;\" transform=\"rotate(0, 187.005, 671.797)\" x=\"187.005\" y=\"671.797\">0</text>\n",
       "</g>\n",
       "<g clip-path=\"url(#clip1401)\">\n",
       "<text style=\"fill:#000000; fill-opacity:1; font-family:Arial,Helvetica Neue,Helvetica,sans-serif; font-size:48px; text-anchor:end;\" transform=\"rotate(0, 187.005, 562.654)\" x=\"187.005\" y=\"562.654\">5</text>\n",
       "</g>\n",
       "<g clip-path=\"url(#clip1401)\">\n",
       "<text style=\"fill:#000000; fill-opacity:1; font-family:Arial,Helvetica Neue,Helvetica,sans-serif; font-size:48px; text-anchor:end;\" transform=\"rotate(0, 187.005, 453.511)\" x=\"187.005\" y=\"453.511\">10</text>\n",
       "</g>\n",
       "<g clip-path=\"url(#clip1401)\">\n",
       "<text style=\"fill:#000000; fill-opacity:1; font-family:Arial,Helvetica Neue,Helvetica,sans-serif; font-size:48px; text-anchor:end;\" transform=\"rotate(0, 187.005, 344.368)\" x=\"187.005\" y=\"344.368\">15</text>\n",
       "</g>\n",
       "<g clip-path=\"url(#clip1401)\">\n",
       "<text style=\"fill:#000000; fill-opacity:1; font-family:Arial,Helvetica Neue,Helvetica,sans-serif; font-size:48px; text-anchor:end;\" transform=\"rotate(0, 187.005, 235.225)\" x=\"187.005\" y=\"235.225\">20</text>\n",
       "</g>\n",
       "<g clip-path=\"url(#clip1401)\">\n",
       "<text style=\"fill:#000000; fill-opacity:1; font-family:Arial,Helvetica Neue,Helvetica,sans-serif; font-size:48px; text-anchor:end;\" transform=\"rotate(0, 187.005, 126.082)\" x=\"187.005\" y=\"126.082\">25</text>\n",
       "</g>\n",
       "<g clip-path=\"url(#clip1401)\">\n",
       "<text style=\"fill:#000000; fill-opacity:1; font-family:Arial,Helvetica Neue,Helvetica,sans-serif; font-size:66px; text-anchor:middle;\" transform=\"rotate(-90, 57.6, 359.611)\" x=\"57.6\" y=\"359.611\">lnbdb</text>\n",
       "</g>\n",
       "<polygon clip-path=\"url(#clip1403)\" points=\"\n",
       "264.275,436.011 264.275,654.297 360.05,654.297 360.05,436.011 264.275,436.011 264.275,436.011 \n",
       "  \" fill=\"#000000\" fill-rule=\"evenodd\" fill-opacity=\"1\"/>\n",
       "<polyline clip-path=\"url(#clip1403)\" style=\"stroke:#000000; stroke-width:4; stroke-opacity:1; fill:none\" points=\"\n",
       "  264.275,436.011 264.275,654.297 360.05,654.297 360.05,436.011 264.275,436.011 \n",
       "  \"/>\n",
       "<polygon clip-path=\"url(#clip1403)\" points=\"\n",
       "360.05,326.868 360.05,654.297 455.825,654.297 455.825,326.868 360.05,326.868 360.05,326.868 \n",
       "  \" fill=\"#000000\" fill-rule=\"evenodd\" fill-opacity=\"1\"/>\n",
       "<polyline clip-path=\"url(#clip1403)\" style=\"stroke:#000000; stroke-width:4; stroke-opacity:1; fill:none\" points=\"\n",
       "  360.05,326.868 360.05,654.297 455.825,654.297 455.825,326.868 360.05,326.868 \n",
       "  \"/>\n",
       "<polygon clip-path=\"url(#clip1403)\" points=\"\n",
       "455.825,64.9253 455.825,654.297 551.599,654.297 551.599,64.9253 455.825,64.9253 455.825,64.9253 \n",
       "  \" fill=\"#000000\" fill-rule=\"evenodd\" fill-opacity=\"1\"/>\n",
       "<polyline clip-path=\"url(#clip1403)\" style=\"stroke:#000000; stroke-width:4; stroke-opacity:1; fill:none\" points=\"\n",
       "  455.825,64.9253 455.825,654.297 551.599,654.297 551.599,64.9253 455.825,64.9253 \n",
       "  \"/>\n",
       "<polygon clip-path=\"url(#clip1403)\" points=\"\n",
       "551.599,261.383 551.599,654.297 647.374,654.297 647.374,261.383 551.599,261.383 551.599,261.383 \n",
       "  \" fill=\"#000000\" fill-rule=\"evenodd\" fill-opacity=\"1\"/>\n",
       "<polyline clip-path=\"url(#clip1403)\" style=\"stroke:#000000; stroke-width:4; stroke-opacity:1; fill:none\" points=\"\n",
       "  551.599,261.383 551.599,654.297 647.374,654.297 647.374,261.383 551.599,261.383 \n",
       "  \"/>\n",
       "<polygon clip-path=\"url(#clip1403)\" points=\"\n",
       "647.374,130.411 647.374,654.297 743.149,654.297 743.149,130.411 647.374,130.411 647.374,130.411 \n",
       "  \" fill=\"#000000\" fill-rule=\"evenodd\" fill-opacity=\"1\"/>\n",
       "<polyline clip-path=\"url(#clip1403)\" style=\"stroke:#000000; stroke-width:4; stroke-opacity:1; fill:none\" points=\"\n",
       "  647.374,130.411 647.374,654.297 743.149,654.297 743.149,130.411 647.374,130.411 \n",
       "  \"/>\n",
       "<polygon clip-path=\"url(#clip1403)\" points=\"\n",
       "743.149,348.697 743.149,654.297 838.924,654.297 838.924,348.697 743.149,348.697 743.149,348.697 \n",
       "  \" fill=\"#000000\" fill-rule=\"evenodd\" fill-opacity=\"1\"/>\n",
       "<polyline clip-path=\"url(#clip1403)\" style=\"stroke:#000000; stroke-width:4; stroke-opacity:1; fill:none\" points=\"\n",
       "  743.149,348.697 743.149,654.297 838.924,654.297 838.924,348.697 743.149,348.697 \n",
       "  \"/>\n",
       "<polygon clip-path=\"url(#clip1403)\" points=\"\n",
       "838.924,588.812 838.924,654.297 934.699,654.297 934.699,588.812 838.924,588.812 838.924,588.812 \n",
       "  \" fill=\"#000000\" fill-rule=\"evenodd\" fill-opacity=\"1\"/>\n",
       "<polyline clip-path=\"url(#clip1403)\" style=\"stroke:#000000; stroke-width:4; stroke-opacity:1; fill:none\" points=\"\n",
       "  838.924,588.812 838.924,654.297 934.699,654.297 934.699,588.812 838.924,588.812 \n",
       "  \"/>\n",
       "<polygon clip-path=\"url(#clip1403)\" points=\"\n",
       "934.699,610.64 934.699,654.297 1030.47,654.297 1030.47,610.64 934.699,610.64 934.699,610.64 \n",
       "  \" fill=\"#000000\" fill-rule=\"evenodd\" fill-opacity=\"1\"/>\n",
       "<polyline clip-path=\"url(#clip1403)\" style=\"stroke:#000000; stroke-width:4; stroke-opacity:1; fill:none\" points=\"\n",
       "  934.699,610.64 934.699,654.297 1030.47,654.297 1030.47,610.64 934.699,610.64 \n",
       "  \"/>\n",
       "<polygon clip-path=\"url(#clip1403)\" points=\"\n",
       "1030.47,632.469 1030.47,654.297 1126.25,654.297 1126.25,632.469 1030.47,632.469 1030.47,632.469 \n",
       "  \" fill=\"#000000\" fill-rule=\"evenodd\" fill-opacity=\"1\"/>\n",
       "<polyline clip-path=\"url(#clip1403)\" style=\"stroke:#000000; stroke-width:4; stroke-opacity:1; fill:none\" points=\"\n",
       "  1030.47,632.469 1030.47,654.297 1126.25,654.297 1126.25,632.469 1030.47,632.469 \n",
       "  \"/>\n",
       "<polygon clip-path=\"url(#clip1401)\" points=\"\n",
       "1352.75,671.979 2321.26,671.979 2321.26,47.2441 1352.75,47.2441 \n",
       "  \" fill=\"#ffffff\" fill-rule=\"evenodd\" fill-opacity=\"1\"/>\n",
       "<defs>\n",
       "  <clipPath id=\"clip1404\">\n",
       "    <rect x=\"1352\" y=\"47\" width=\"970\" height=\"626\"/>\n",
       "  </clipPath>\n",
       "</defs>\n",
       "<polyline clip-path=\"url(#clip1401)\" style=\"stroke:#000000; stroke-width:4; stroke-opacity:0; fill:none\" points=\"\n",
       "  1352.75,671.979 2321.26,671.979 \n",
       "  \"/>\n",
       "<polyline clip-path=\"url(#clip1401)\" style=\"stroke:#000000; stroke-width:4; stroke-opacity:0; fill:none\" points=\"\n",
       "  1352.75,671.979 1352.75,47.2441 \n",
       "  \"/>\n",
       "<polyline clip-path=\"url(#clip1401)\" style=\"stroke:#000000; stroke-width:4; stroke-opacity:1; fill:none\" points=\"\n",
       "  1406.02,671.979 1406.02,662.608 \n",
       "  \"/>\n",
       "<polyline clip-path=\"url(#clip1401)\" style=\"stroke:#000000; stroke-width:4; stroke-opacity:1; fill:none\" points=\"\n",
       "  1578.41,671.979 1578.41,662.608 \n",
       "  \"/>\n",
       "<polyline clip-path=\"url(#clip1401)\" style=\"stroke:#000000; stroke-width:4; stroke-opacity:1; fill:none\" points=\"\n",
       "  1750.81,671.979 1750.81,662.608 \n",
       "  \"/>\n",
       "<polyline clip-path=\"url(#clip1401)\" style=\"stroke:#000000; stroke-width:4; stroke-opacity:1; fill:none\" points=\"\n",
       "  1923.2,671.979 1923.2,662.608 \n",
       "  \"/>\n",
       "<polyline clip-path=\"url(#clip1401)\" style=\"stroke:#000000; stroke-width:4; stroke-opacity:1; fill:none\" points=\"\n",
       "  2095.6,671.979 2095.6,662.608 \n",
       "  \"/>\n",
       "<polyline clip-path=\"url(#clip1401)\" style=\"stroke:#000000; stroke-width:4; stroke-opacity:1; fill:none\" points=\"\n",
       "  2267.99,671.979 2267.99,662.608 \n",
       "  \"/>\n",
       "<polyline clip-path=\"url(#clip1401)\" style=\"stroke:#000000; stroke-width:4; stroke-opacity:1; fill:none\" points=\"\n",
       "  1352.75,671.979 1367.27,671.979 \n",
       "  \"/>\n",
       "<polyline clip-path=\"url(#clip1401)\" style=\"stroke:#000000; stroke-width:4; stroke-opacity:1; fill:none\" points=\"\n",
       "  1352.75,547.032 1367.27,547.032 \n",
       "  \"/>\n",
       "<polyline clip-path=\"url(#clip1401)\" style=\"stroke:#000000; stroke-width:4; stroke-opacity:1; fill:none\" points=\"\n",
       "  1352.75,422.085 1367.27,422.085 \n",
       "  \"/>\n",
       "<polyline clip-path=\"url(#clip1401)\" style=\"stroke:#000000; stroke-width:4; stroke-opacity:1; fill:none\" points=\"\n",
       "  1352.75,297.138 1367.27,297.138 \n",
       "  \"/>\n",
       "<polyline clip-path=\"url(#clip1401)\" style=\"stroke:#000000; stroke-width:4; stroke-opacity:1; fill:none\" points=\"\n",
       "  1352.75,172.191 1367.27,172.191 \n",
       "  \"/>\n",
       "<polyline clip-path=\"url(#clip1401)\" style=\"stroke:#000000; stroke-width:4; stroke-opacity:1; fill:none\" points=\"\n",
       "  1352.75,47.2441 1367.27,47.2441 \n",
       "  \"/>\n",
       "<g clip-path=\"url(#clip1401)\">\n",
       "<text style=\"fill:#000000; fill-opacity:1; font-family:Arial,Helvetica Neue,Helvetica,sans-serif; font-size:48px; text-anchor:middle;\" transform=\"rotate(0, 1406.02, 725.979)\" x=\"1406.02\" y=\"725.979\"></text>\n",
       "</g>\n",
       "<g clip-path=\"url(#clip1401)\">\n",
       "<text style=\"fill:#000000; fill-opacity:1; font-family:Arial,Helvetica Neue,Helvetica,sans-serif; font-size:48px; text-anchor:middle;\" transform=\"rotate(0, 1578.41, 725.979)\" x=\"1578.41\" y=\"725.979\"></text>\n",
       "</g>\n",
       "<g clip-path=\"url(#clip1401)\">\n",
       "<text style=\"fill:#000000; fill-opacity:1; font-family:Arial,Helvetica Neue,Helvetica,sans-serif; font-size:48px; text-anchor:middle;\" transform=\"rotate(0, 1750.81, 725.979)\" x=\"1750.81\" y=\"725.979\"></text>\n",
       "</g>\n",
       "<g clip-path=\"url(#clip1401)\">\n",
       "<text style=\"fill:#000000; fill-opacity:1; font-family:Arial,Helvetica Neue,Helvetica,sans-serif; font-size:48px; text-anchor:middle;\" transform=\"rotate(0, 1923.2, 725.979)\" x=\"1923.2\" y=\"725.979\"></text>\n",
       "</g>\n",
       "<g clip-path=\"url(#clip1401)\">\n",
       "<text style=\"fill:#000000; fill-opacity:1; font-family:Arial,Helvetica Neue,Helvetica,sans-serif; font-size:48px; text-anchor:middle;\" transform=\"rotate(0, 2095.6, 725.979)\" x=\"2095.6\" y=\"725.979\"></text>\n",
       "</g>\n",
       "<g clip-path=\"url(#clip1401)\">\n",
       "<text style=\"fill:#000000; fill-opacity:1; font-family:Arial,Helvetica Neue,Helvetica,sans-serif; font-size:48px; text-anchor:middle;\" transform=\"rotate(0, 2267.99, 725.979)\" x=\"2267.99\" y=\"725.979\"></text>\n",
       "</g>\n",
       "<g clip-path=\"url(#clip1401)\">\n",
       "<text style=\"fill:#000000; fill-opacity:1; font-family:Arial,Helvetica Neue,Helvetica,sans-serif; font-size:48px; text-anchor:end;\" transform=\"rotate(0, 1328.75, 689.479)\" x=\"1328.75\" y=\"689.479\"></text>\n",
       "</g>\n",
       "<g clip-path=\"url(#clip1401)\">\n",
       "<text style=\"fill:#000000; fill-opacity:1; font-family:Arial,Helvetica Neue,Helvetica,sans-serif; font-size:48px; text-anchor:end;\" transform=\"rotate(0, 1328.75, 564.532)\" x=\"1328.75\" y=\"564.532\"></text>\n",
       "</g>\n",
       "<g clip-path=\"url(#clip1401)\">\n",
       "<text style=\"fill:#000000; fill-opacity:1; font-family:Arial,Helvetica Neue,Helvetica,sans-serif; font-size:48px; text-anchor:end;\" transform=\"rotate(0, 1328.75, 439.585)\" x=\"1328.75\" y=\"439.585\"></text>\n",
       "</g>\n",
       "<g clip-path=\"url(#clip1401)\">\n",
       "<text style=\"fill:#000000; fill-opacity:1; font-family:Arial,Helvetica Neue,Helvetica,sans-serif; font-size:48px; text-anchor:end;\" transform=\"rotate(0, 1328.75, 314.638)\" x=\"1328.75\" y=\"314.638\"></text>\n",
       "</g>\n",
       "<g clip-path=\"url(#clip1401)\">\n",
       "<text style=\"fill:#000000; fill-opacity:1; font-family:Arial,Helvetica Neue,Helvetica,sans-serif; font-size:48px; text-anchor:end;\" transform=\"rotate(0, 1328.75, 189.691)\" x=\"1328.75\" y=\"189.691\"></text>\n",
       "</g>\n",
       "<g clip-path=\"url(#clip1401)\">\n",
       "<text style=\"fill:#000000; fill-opacity:1; font-family:Arial,Helvetica Neue,Helvetica,sans-serif; font-size:48px; text-anchor:end;\" transform=\"rotate(0, 1328.75, 64.7441)\" x=\"1328.75\" y=\"64.7441\"></text>\n",
       "</g>\n",
       "<g clip-path=\"url(#clip1404)\">\n",
       "<image width=\"862\" height=\"625\" xlink:href=\"data:image/png;base64,\n",
       "iVBORw0KGgoAAAANSUhEUgAAA14AAAJxCAYAAABSVWOlAAAOKElEQVR4nO3ZMWoVARSGUUceIuIO\n",
       "JJAtCC7AyiVIIHuwtU9nWiv7VFmCiI1bSJPKInuwiA8mnfVM8XHxcc4K/vJ+3OUZAMA/h3V6AWx3\n",
       "XKYXwFbPpwcAAACcOuEFAAAQE14AAAAx4QUAABATXgAAADHhBQAAEBNeAAAAMeEFAAAQE14AAAAx\n",
       "4QUAABATXgAAADHhBQAAEBNeAAAAMeEFAAAQE14AAAAx4QUAABATXgAAADHhBQAAEBNeAAAAMeEF\n",
       "AAAQE14AAAAx4QUAABATXgAAADHhBQAAEBNeAAAAMeEFAAAQE14AAAAx4QUAABATXgAAADHhBQAA\n",
       "EBNeAAAAMeEFAAAQE14AAAAx4QUAABATXgAAADHhBQAAEBNeAAAAMeEFAAAQE14AAAAx4QUAABAT\n",
       "XgAAADHhBQAAEBNeAAAAMeEFAAAQE14AAAAx4QUAABATXgAAADHhBQAAEBNeAAAAMeEFAAAQE14A\n",
       "AAAx4QUAABATXgAAADHhBQAAEBNeAAAAMeEFAAAQE14AAAAx4QUAABATXgAAADHhBQAAEBNeAAAA\n",
       "MeEFAAAQE14AAAAx4QUAABATXgAAADHhBQAAEBNeAAAAMeEFAAAQE14AAAAx4QUAABATXgAAADHh\n",
       "BQAAEBNeAAAAMeEFAAAQE14AAAAx4QUAABATXgAAADHhBQAAEBNeAAAAMeEFAAAQE14AAAAx4QUA\n",
       "ABATXgAAADHhBQAAEBNeAAAAMeEFAAAQE14AAAAx4QUAABATXgAAADHhBQAAEBNeAAAAMeEFAAAQ\n",
       "E14AAAAx4QUAABATXgAAADHhBQAAEBNeAAAAMeEFAAAQE14AAAAx4QUAABATXgAAADHhBQAAEBNe\n",
       "AAAAMeEFAAAQE14AAAAx4QUAABATXgAAADHhBQAAEBNeAAAAMeEFAAAQE14AAAAx4QUAABATXgAA\n",
       "ADHhBQAAEBNeAAAAMeEFAAAQE14AAAAx4QUAABATXgAAADHhBQAAEBNeAAAAMeEFAAAQE14AAAAx\n",
       "4QUAABA7TA+A/Q7r9ALY6tWLs+kJACfrz+Pv6QmwmY8XAABATHgBAADEhBcAAEBMeAEAAMSEFwAA\n",
       "QEx4AQAAxIQXAABATHgBAADEhBcAAEBMeAEAAMSEFwAAQEx4AQAAxIQXAABATHgBAADEhBcAAEBM\n",
       "eAEAAMSEFwAAQEx4AQAAxIQXAABATHgBAADEhBcAAEBMeAEAAMSEFwAAQEx4AQAAxIQXAABATHgB\n",
       "AADEhBcAAEBMeAEAAMSEFwAAQEx4AQAAxIQXAABATHgBAADEhBcAAEBMeAEAAMSEFwAAQEx4AQAA\n",
       "xIQXAABATHgBAADEhBcAAEBMeAEAAMSEFwAAQEx4AQAAxIQXAABATHgBAADEhBcAAEBMeAEAAMSE\n",
       "FwAAQEx4AQAAxIQXAABATHgBAADEhBcAAEBMeAEAAMSEFwAAQEx4AQAAxIQXAABATHgBAADEhBcA\n",
       "AEBMeAEAAMSEFwAAQEx4AQAAxIQXAABATHgBAADEhBcAAEBMeAEAAMSEFwAAQEx4AQAAxIQXAABA\n",
       "THgBAADEhBcAAEBMeAEAAMSEFwAAQEx4AQAAxIQXAABATHgBAADEhBcAAEBMeAEAAMSEFwAAQEx4\n",
       "AQAAxIQXAABATHgBAADEhBcAAEBMeAEAAMSEFwAAQEx4AQAAxIQXAABATHgBAADEhBcAAEBMeAEA\n",
       "AMSEFwAAQEx4AQAAxIQXAABATHgBAADEhBcAAEBMeAEAAMSEFwAAQEx4AQAAxIQXAABATHgBAADE\n",
       "hBcAAEBMeAEAAMSEFwAAQEx4AQAAxIQXAABATHgBAADEhBcAAEBMeAEAAMSEFwAAQEx4AQAAxIQX\n",
       "AABATHgBAADEhBcAAEBMeAEAAMSEFwAAQEx4AQAAxIQXAABATHgBAADEhBcAAEBMeAEAAMSEFwAA\n",
       "QEx4AQAAxIQXAABATHgBAADEhBcAAEBMeAEAAMQOb16/X6dHwB7X5+fTE2Czj1++T0+AXW4/f5ie\n",
       "AJtd3j24Y/lv+HgBAADEhBcAAEBMeAEAAMSEFwAAQEx4AQAAxIQXAABATHgBAADEhBcAAEBMeAEA\n",
       "AMSEFwAAQEx4AQAAxIQXAABATHgBAADEhBcAAEBMeAEAAMSEFwAAQEx4AQAAxIQXAABATHgBAADE\n",
       "hBcAAEBMeAEAAMSEFwAAQEx4AQAAxIQXAABATHgBAADEhBcAAEBMeAEAAMSEFwAAQEx4AQAAxIQX\n",
       "AABATHgBAADEhBcAAEBMeAEAAMSEFwAAQEx4AQAAxIQXAABATHgBAADEhBcAAEBMeAEAAMSEFwAA\n",
       "QEx4AQAAxIQXAABATHgBAADEhBcAAEBMeAEAAMSEFwAAQEx4AQAAxIQXAABATHgBAADEhBcAAEBM\n",
       "eAEAAMSEFwAAQEx4AQAAxIQXAABATHgBAADEhBcAAEBMeAEAAMSEFwAAQEx4AQAAxIQXAABATHgB\n",
       "AADEhBcAAEBMeAEAAMSEFwAAQEx4AQAAxIQXAABATHgBAADEhBcAAEBMeAEAAMSEFwAAQEx4AQAA\n",
       "xIQXAABATHgBAADEhBcAAEBMeAEAAMSEFwAAQEx4AQAAxIQXAABATHgBAADEhBcAAEBMeAEAAMSE\n",
       "FwAAQEx4AQAAxIQXAABATHgBAADEhBcAAEBMeAEAAMSEFwAAQEx4AQAAxIQXAABATHgBAADEhBcA\n",
       "AEBMeAEAAMSEFwAAQEx4AQAAxIQXAABATHgBAADEhBcAAEBMeAEAAMSEFwAAQEx4AQAAxIQXAABA\n",
       "THgBAADEhBcAAEBMeAEAAMSEFwAAQEx4AQAAxIQXAABATHgBAADEhBcAAEBMeAEAAMSEFwAAQEx4\n",
       "AQAAxIQXAABATHgBAADEhBcAAEBMeAEAAMSEFwAAQEx4AQAAxIQXAABATHgBAADEhBcAAEBMeAEA\n",
       "AMSEFwAAQGw5rjfr9AjY4/Hq0/QE2Oz+17vpCbDL2x8/pyfADsdlegFs5eMFAAAQE14AAAAx4QUA\n",
       "ABATXgAAADHhBQAAEBNeAAAAMeEFAAAQE14AAAAx4QUAABATXgAAADHhBQAAEBNeAAAAMeEFAAAQ\n",
       "E14AAAAx4QUAABATXgAAADHhBQAAEBNeAAAAMeEFAAAQE14AAAAx4QUAABATXgAAADHhBQAAEBNe\n",
       "AAAAMeEFAAAQE14AAAAx4QUAABATXgAAADHhBQAAEBNeAAAAMeEFAAAQE14AAAAx4QUAABATXgAA\n",
       "ADHhBQAAEBNeAAAAMeEFAAAQE14AAAAx4QUAABATXgAAADHhBQAAEBNeAAAAMeEFAAAQE14AAAAx\n",
       "4QUAABATXgAAADHhBQAAEBNeAAAAMeEFAAAQE14AAAAx4QUAABATXgAAADHhBQAAEBNeAAAAMeEF\n",
       "AAAQE14AAAAx4QUAABATXgAAADHhBQAAEBNeAAAAMeEFAAAQE14AAAAx4QUAABATXgAAADHhBQAA\n",
       "EBNeAAAAMeEFAAAQE14AAAAx4QUAABATXgAAADHhBQAAEBNeAAAAMeEFAAAQE14AAAAx4QUAABAT\n",
       "XgAAADHhBQAAEBNeAAAAMeEFAAAQE14AAAAx4QUAABATXgAAADHhBQAAEBNeAAAAMeEFAAAQE14A\n",
       "AAAx4QUAABATXgAAADHhBQAAEBNeAAAAMeEFAAAQE14AAAAx4QUAABATXgAAADHhBQAAEBNeAAAA\n",
       "MeEFAAAQE14AAAAx4QUAABATXgAAADHhBQAAEBNeAAAAMeEFAAAQE14AAAAx4QUAABATXgAAADHh\n",
       "BQAAEBNeAAAAMeEFAAAQE14AAAAx4QUAABATXgAAADHhBQAAEBNeAAAAMeEFAAAQE14AAAAx4QUA\n",
       "ABATXgAAADHhBQAAEBNeAAAAMeEFAAAQE14AAAAx4QUAABATXgAAALHl77eX6/QI2OP268X0BNjs\n",
       "8u5megLsdFymFwCcIh8vAACAmPACAACICS8AAICY8AIAAIgJLwAAgJjwAgAAiAkvAACAmPACAACI\n",
       "CS8AAICY8AIAAIgJLwAAgJjwAgAAiAkvAACAmPACAACICS8AAICY8AIAAIgJLwAAgJjwAgAAiAkv\n",
       "AACAmPACAACICS8AAICY8AIAAIgJLwAAgJjwAgAAiAkvAACAmPACAACICS8AAICY8AIAAIgJLwAA\n",
       "gJjwAgAAiAkvAACAmPACAACICS8AAICY8AIAAIgJLwAAgJjwAgAAiAkvAACAmPACAACICS8AAICY\n",
       "8AIAAIgJLwAAgJjwAgAAiAkvAACAmPACAACICS8AAICY8AIAAIgJLwAAgJjwAgAAiAkvAACAmPAC\n",
       "AACICS8AAICY8AIAAIgJLwAAgJjwAgAAiAkvAACAmPACAACICS8AAICY8AIAAIgJLwAAgJjwAgAA\n",
       "iAkvAACAmPACAACICS8AAICY8AIAAIgJLwAAgJjwAgAAiAkvAACAmPACAACICS8AAICY8AIAAIgJ\n",
       "LwAAgJjwAgAAiAkvAACAmPACAACICS8AAICY8AIAAIgJLwAAgJjwAgAAiAkvAACAmPACAACICS8A\n",
       "AICY8AIAAIgJLwAAgJjwAgAAiAkvAACAmPACAACICS8AAICY8AIAAIgJLwAAgJjwAgAAiAkvAACA\n",
       "mPACAACICS8AAICY8AIAAIgJLwAAgJjwAgAAiAkvAACAmPACAACICS8AAICY8AIAAIgJLwAAgJjw\n",
       "AgAAiAkvAACAmPACAACICS8AAICY8AIAAIgJLwAAgJjwAgAAiAkvAACAmPACAACICS8AAICY8AIA\n",
       "AIgJLwAAgJjwAgAAiAkvAACAmPACAACICS8AAICY8AIAAIgJLwAAgJjwAgAAiAkvAACAmPACAACI\n",
       "CS8AAICY8AIAAIg9AeWhJCSL1656AAAAAElFTkSuQmCC\n",
       "\" transform=\"translate(1406, 47)\"/>\n",
       "</g>\n",
       "<polygon clip-path=\"url(#clip1401)\" points=\"\n",
       "211.005,1440.48 1179.52,1440.48 1179.52,815.748 211.005,815.748 \n",
       "  \" fill=\"#ffffff\" fill-rule=\"evenodd\" fill-opacity=\"1\"/>\n",
       "<defs>\n",
       "  <clipPath id=\"clip1405\">\n",
       "    <rect x=\"211\" y=\"815\" width=\"970\" height=\"626\"/>\n",
       "  </clipPath>\n",
       "</defs>\n",
       "<polyline clip-path=\"url(#clip1401)\" style=\"stroke:#000000; stroke-width:4; stroke-opacity:0; fill:none\" points=\"\n",
       "  211.005,1440.48 1179.52,1440.48 \n",
       "  \"/>\n",
       "<polyline clip-path=\"url(#clip1401)\" style=\"stroke:#000000; stroke-width:4; stroke-opacity:0; fill:none\" points=\"\n",
       "  211.005,1440.48 211.005,815.748 \n",
       "  \"/>\n",
       "<polyline clip-path=\"url(#clip1401)\" style=\"stroke:#000000; stroke-width:4; stroke-opacity:1; fill:none\" points=\"\n",
       "  264.275,1440.48 264.275,1431.11 \n",
       "  \"/>\n",
       "<polyline clip-path=\"url(#clip1401)\" style=\"stroke:#000000; stroke-width:4; stroke-opacity:1; fill:none\" points=\"\n",
       "  455.825,1440.48 455.825,1431.11 \n",
       "  \"/>\n",
       "<polyline clip-path=\"url(#clip1401)\" style=\"stroke:#000000; stroke-width:4; stroke-opacity:1; fill:none\" points=\"\n",
       "  647.374,1440.48 647.374,1431.11 \n",
       "  \"/>\n",
       "<polyline clip-path=\"url(#clip1401)\" style=\"stroke:#000000; stroke-width:4; stroke-opacity:1; fill:none\" points=\"\n",
       "  838.924,1440.48 838.924,1431.11 \n",
       "  \"/>\n",
       "<polyline clip-path=\"url(#clip1401)\" style=\"stroke:#000000; stroke-width:4; stroke-opacity:1; fill:none\" points=\"\n",
       "  1030.47,1440.48 1030.47,1431.11 \n",
       "  \"/>\n",
       "<polyline clip-path=\"url(#clip1401)\" style=\"stroke:#000000; stroke-width:4; stroke-opacity:1; fill:none\" points=\"\n",
       "  211.005,1422.8 225.533,1422.8 \n",
       "  \"/>\n",
       "<polyline clip-path=\"url(#clip1401)\" style=\"stroke:#000000; stroke-width:4; stroke-opacity:1; fill:none\" points=\"\n",
       "  211.005,1275.73 225.533,1275.73 \n",
       "  \"/>\n",
       "<polyline clip-path=\"url(#clip1401)\" style=\"stroke:#000000; stroke-width:4; stroke-opacity:1; fill:none\" points=\"\n",
       "  211.005,1128.65 225.533,1128.65 \n",
       "  \"/>\n",
       "<polyline clip-path=\"url(#clip1401)\" style=\"stroke:#000000; stroke-width:4; stroke-opacity:1; fill:none\" points=\"\n",
       "  211.005,981.581 225.533,981.581 \n",
       "  \"/>\n",
       "<polyline clip-path=\"url(#clip1401)\" style=\"stroke:#000000; stroke-width:4; stroke-opacity:1; fill:none\" points=\"\n",
       "  211.005,834.508 225.533,834.508 \n",
       "  \"/>\n",
       "<g clip-path=\"url(#clip1401)\">\n",
       "<text style=\"fill:#000000; fill-opacity:1; font-family:Arial,Helvetica Neue,Helvetica,sans-serif; font-size:48px; text-anchor:middle;\" transform=\"rotate(0, 264.275, 1494.48)\" x=\"264.275\" y=\"1494.48\">6</text>\n",
       "</g>\n",
       "<g clip-path=\"url(#clip1401)\">\n",
       "<text style=\"fill:#000000; fill-opacity:1; font-family:Arial,Helvetica Neue,Helvetica,sans-serif; font-size:48px; text-anchor:middle;\" transform=\"rotate(0, 455.825, 1494.48)\" x=\"455.825\" y=\"1494.48\">8</text>\n",
       "</g>\n",
       "<g clip-path=\"url(#clip1401)\">\n",
       "<text style=\"fill:#000000; fill-opacity:1; font-family:Arial,Helvetica Neue,Helvetica,sans-serif; font-size:48px; text-anchor:middle;\" transform=\"rotate(0, 647.374, 1494.48)\" x=\"647.374\" y=\"1494.48\">10</text>\n",
       "</g>\n",
       "<g clip-path=\"url(#clip1401)\">\n",
       "<text style=\"fill:#000000; fill-opacity:1; font-family:Arial,Helvetica Neue,Helvetica,sans-serif; font-size:48px; text-anchor:middle;\" transform=\"rotate(0, 838.924, 1494.48)\" x=\"838.924\" y=\"1494.48\">12</text>\n",
       "</g>\n",
       "<g clip-path=\"url(#clip1401)\">\n",
       "<text style=\"fill:#000000; fill-opacity:1; font-family:Arial,Helvetica Neue,Helvetica,sans-serif; font-size:48px; text-anchor:middle;\" transform=\"rotate(0, 1030.47, 1494.48)\" x=\"1030.47\" y=\"1494.48\">14</text>\n",
       "</g>\n",
       "<g clip-path=\"url(#clip1401)\">\n",
       "<text style=\"fill:#000000; fill-opacity:1; font-family:Arial,Helvetica Neue,Helvetica,sans-serif; font-size:48px; text-anchor:end;\" transform=\"rotate(0, 187.005, 1440.3)\" x=\"187.005\" y=\"1440.3\">0</text>\n",
       "</g>\n",
       "<g clip-path=\"url(#clip1401)\">\n",
       "<text style=\"fill:#000000; fill-opacity:1; font-family:Arial,Helvetica Neue,Helvetica,sans-serif; font-size:48px; text-anchor:end;\" transform=\"rotate(0, 187.005, 1293.23)\" x=\"187.005\" y=\"1293.23\">1</text>\n",
       "</g>\n",
       "<g clip-path=\"url(#clip1401)\">\n",
       "<text style=\"fill:#000000; fill-opacity:1; font-family:Arial,Helvetica Neue,Helvetica,sans-serif; font-size:48px; text-anchor:end;\" transform=\"rotate(0, 187.005, 1146.15)\" x=\"187.005\" y=\"1146.15\">2</text>\n",
       "</g>\n",
       "<g clip-path=\"url(#clip1401)\">\n",
       "<text style=\"fill:#000000; fill-opacity:1; font-family:Arial,Helvetica Neue,Helvetica,sans-serif; font-size:48px; text-anchor:end;\" transform=\"rotate(0, 187.005, 999.081)\" x=\"187.005\" y=\"999.081\">3</text>\n",
       "</g>\n",
       "<g clip-path=\"url(#clip1401)\">\n",
       "<text style=\"fill:#000000; fill-opacity:1; font-family:Arial,Helvetica Neue,Helvetica,sans-serif; font-size:48px; text-anchor:end;\" transform=\"rotate(0, 187.005, 852.008)\" x=\"187.005\" y=\"852.008\">4</text>\n",
       "</g>\n",
       "<g clip-path=\"url(#clip1401)\">\n",
       "<text style=\"fill:#000000; fill-opacity:1; font-family:Arial,Helvetica Neue,Helvetica,sans-serif; font-size:66px; text-anchor:middle;\" transform=\"rotate(0, 695.262, 1590.4)\" x=\"695.262\" y=\"1590.4\">lnbdb</text>\n",
       "</g>\n",
       "<g clip-path=\"url(#clip1401)\">\n",
       "<text style=\"fill:#000000; fill-opacity:1; font-family:Arial,Helvetica Neue,Helvetica,sans-serif; font-size:66px; text-anchor:middle;\" transform=\"rotate(-90, 57.6, 1128.12)\" x=\"57.6\" y=\"1128.12\">lnduration</text>\n",
       "</g>\n",
       "<circle clip-path=\"url(#clip1405)\" style=\"fill:#fa9707; stroke:none; fill-opacity:0.4\" cx=\"341.124\" cy=\"1261.22\" r=\"14\"/>\n",
       "<circle clip-path=\"url(#clip1405)\" style=\"fill:#fa9707; stroke:none; fill-opacity:0.4\" cx=\"341.124\" cy=\"1422.8\" r=\"14\"/>\n",
       "<circle clip-path=\"url(#clip1405)\" style=\"fill:#fa9707; stroke:none; fill-opacity:0.4\" cx=\"342.077\" cy=\"1422.8\" r=\"14\"/>\n",
       "<circle clip-path=\"url(#clip1405)\" style=\"fill:#fa9707; stroke:none; fill-opacity:0.4\" cx=\"346.302\" cy=\"1218.91\" r=\"14\"/>\n",
       "<circle clip-path=\"url(#clip1405)\" style=\"fill:#fa9707; stroke:none; fill-opacity:0.4\" cx=\"346.302\" cy=\"1422.8\" r=\"14\"/>\n",
       "<circle clip-path=\"url(#clip1405)\" style=\"fill:#fa9707; stroke:none; fill-opacity:0.4\" cx=\"346.705\" cy=\"1159.28\" r=\"14\"/>\n",
       "<circle clip-path=\"url(#clip1405)\" style=\"fill:#fa9707; stroke:none; fill-opacity:0.4\" cx=\"349.28\" cy=\"1218.91\" r=\"14\"/>\n",
       "<circle clip-path=\"url(#clip1405)\" style=\"fill:#fa9707; stroke:none; fill-opacity:0.4\" cx=\"351.215\" cy=\"1422.8\" r=\"14\"/>\n",
       "<circle clip-path=\"url(#clip1405)\" style=\"fill:#fa9707; stroke:none; fill-opacity:0.4\" cx=\"351.215\" cy=\"1422.8\" r=\"14\"/>\n",
       "<circle clip-path=\"url(#clip1405)\" style=\"fill:#fa9707; stroke:none; fill-opacity:0.4\" cx=\"351.215\" cy=\"1422.8\" r=\"14\"/>\n",
       "<circle clip-path=\"url(#clip1405)\" style=\"fill:#fa9707; stroke:none; fill-opacity:0.4\" cx=\"360.343\" cy=\"1320.86\" r=\"14\"/>\n",
       "<circle clip-path=\"url(#clip1405)\" style=\"fill:#fa9707; stroke:none; fill-opacity:0.4\" cx=\"370.808\" cy=\"989.753\" r=\"14\"/>\n",
       "<circle clip-path=\"url(#clip1405)\" style=\"fill:#fa9707; stroke:none; fill-opacity:0.4\" cx=\"379.744\" cy=\"1136.61\" r=\"14\"/>\n",
       "<circle clip-path=\"url(#clip1405)\" style=\"fill:#fa9707; stroke:none; fill-opacity:0.4\" cx=\"383.441\" cy=\"1422.8\" r=\"14\"/>\n",
       "<circle clip-path=\"url(#clip1405)\" style=\"fill:#fa9707; stroke:none; fill-opacity:0.4\" cx=\"389.215\" cy=\"1218.91\" r=\"14\"/>\n",
       "<circle clip-path=\"url(#clip1405)\" style=\"fill:#fa9707; stroke:none; fill-opacity:0.4\" cx=\"389.664\" cy=\"1136.61\" r=\"14\"/>\n",
       "<circle clip-path=\"url(#clip1405)\" style=\"fill:#fa9707; stroke:none; fill-opacity:0.4\" cx=\"398.009\" cy=\"1422.8\" r=\"14\"/>\n",
       "<circle clip-path=\"url(#clip1405)\" style=\"fill:#fa9707; stroke:none; fill-opacity:0.4\" cx=\"404.812\" cy=\"1261.22\" r=\"14\"/>\n",
       "<circle clip-path=\"url(#clip1405)\" style=\"fill:#fa9707; stroke:none; fill-opacity:0.4\" cx=\"417.601\" cy=\"1422.8\" r=\"14\"/>\n",
       "<circle clip-path=\"url(#clip1405)\" style=\"fill:#fa9707; stroke:none; fill-opacity:0.4\" cx=\"417.601\" cy=\"1422.8\" r=\"14\"/>\n",
       "<circle clip-path=\"url(#clip1405)\" style=\"fill:#fa9707; stroke:none; fill-opacity:0.4\" cx=\"417.601\" cy=\"1218.91\" r=\"14\"/>\n",
       "<circle clip-path=\"url(#clip1405)\" style=\"fill:#fa9707; stroke:none; fill-opacity:0.4\" cx=\"422.046\" cy=\"1422.8\" r=\"14\"/>\n",
       "<circle clip-path=\"url(#clip1405)\" style=\"fill:#fa9707; stroke:none; fill-opacity:0.4\" cx=\"433.047\" cy=\"1320.86\" r=\"14\"/>\n",
       "<circle clip-path=\"url(#clip1405)\" style=\"fill:#fa9707; stroke:none; fill-opacity:0.4\" cx=\"438.973\" cy=\"1320.86\" r=\"14\"/>\n",
       "<circle clip-path=\"url(#clip1405)\" style=\"fill:#fa9707; stroke:none; fill-opacity:0.4\" cx=\"449.827\" cy=\"1320.86\" r=\"14\"/>\n",
       "<circle clip-path=\"url(#clip1405)\" style=\"fill:#fa9707; stroke:none; fill-opacity:0.4\" cx=\"455.922\" cy=\"1186.1\" r=\"14\"/>\n",
       "<circle clip-path=\"url(#clip1405)\" style=\"fill:#fa9707; stroke:none; fill-opacity:0.4\" cx=\"456.402\" cy=\"1186.1\" r=\"14\"/>\n",
       "<circle clip-path=\"url(#clip1405)\" style=\"fill:#fa9707; stroke:none; fill-opacity:0.4\" cx=\"456.434\" cy=\"1320.86\" r=\"14\"/>\n",
       "<circle clip-path=\"url(#clip1405)\" style=\"fill:#fa9707; stroke:none; fill-opacity:0.4\" cx=\"461.774\" cy=\"1034.67\" r=\"14\"/>\n",
       "<circle clip-path=\"url(#clip1405)\" style=\"fill:#fa9707; stroke:none; fill-opacity:0.4\" cx=\"464.717\" cy=\"961.654\" r=\"14\"/>\n",
       "<circle clip-path=\"url(#clip1405)\" style=\"fill:#fa9707; stroke:none; fill-opacity:0.4\" cx=\"464.981\" cy=\"1422.8\" r=\"14\"/>\n",
       "<circle clip-path=\"url(#clip1405)\" style=\"fill:#fa9707; stroke:none; fill-opacity:0.4\" cx=\"471.198\" cy=\"1261.22\" r=\"14\"/>\n",
       "<circle clip-path=\"url(#clip1405)\" style=\"fill:#fa9707; stroke:none; fill-opacity:0.4\" cx=\"480.252\" cy=\"1320.86\" r=\"14\"/>\n",
       "<circle clip-path=\"url(#clip1405)\" style=\"fill:#fa9707; stroke:none; fill-opacity:0.4\" cx=\"480.327\" cy=\"1116.97\" r=\"14\"/>\n",
       "<circle clip-path=\"url(#clip1405)\" style=\"fill:#fa9707; stroke:none; fill-opacity:0.4\" cx=\"482.976\" cy=\"1186.1\" r=\"14\"/>\n",
       "<circle clip-path=\"url(#clip1405)\" style=\"fill:#fa9707; stroke:none; fill-opacity:0.4\" cx=\"483.987\" cy=\"1320.86\" r=\"14\"/>\n",
       "<circle clip-path=\"url(#clip1405)\" style=\"fill:#fa9707; stroke:none; fill-opacity:0.4\" cx=\"483.987\" cy=\"1422.8\" r=\"14\"/>\n",
       "<circle clip-path=\"url(#clip1405)\" style=\"fill:#fa9707; stroke:none; fill-opacity:0.4\" cx=\"483.987\" cy=\"1422.8\" r=\"14\"/>\n",
       "<circle clip-path=\"url(#clip1405)\" style=\"fill:#fa9707; stroke:none; fill-opacity:0.4\" cx=\"483.987\" cy=\"1320.86\" r=\"14\"/>\n",
       "<circle clip-path=\"url(#clip1405)\" style=\"fill:#fa9707; stroke:none; fill-opacity:0.4\" cx=\"483.987\" cy=\"1422.8\" r=\"14\"/>\n",
       "<circle clip-path=\"url(#clip1405)\" style=\"fill:#fa9707; stroke:none; fill-opacity:0.4\" cx=\"486.352\" cy=\"1159.28\" r=\"14\"/>\n",
       "<circle clip-path=\"url(#clip1405)\" style=\"fill:#fa9707; stroke:none; fill-opacity:0.4\" cx=\"495.268\" cy=\"1099.65\" r=\"14\"/>\n",
       "<circle clip-path=\"url(#clip1405)\" style=\"fill:#fa9707; stroke:none; fill-opacity:0.4\" cx=\"495.268\" cy=\"1320.86\" r=\"14\"/>\n",
       "<circle clip-path=\"url(#clip1405)\" style=\"fill:#fa9707; stroke:none; fill-opacity:0.4\" cx=\"505.359\" cy=\"1422.8\" r=\"14\"/>\n",
       "<circle clip-path=\"url(#clip1405)\" style=\"fill:#fa9707; stroke:none; fill-opacity:0.4\" cx=\"505.359\" cy=\"1422.8\" r=\"14\"/>\n",
       "<circle clip-path=\"url(#clip1405)\" style=\"fill:#fa9707; stroke:none; fill-opacity:0.4\" cx=\"505.359\" cy=\"1320.86\" r=\"14\"/>\n",
       "<circle clip-path=\"url(#clip1405)\" style=\"fill:#fa9707; stroke:none; fill-opacity:0.4\" cx=\"514.487\" cy=\"1186.1\" r=\"14\"/>\n",
       "<circle clip-path=\"url(#clip1405)\" style=\"fill:#fa9707; stroke:none; fill-opacity:0.4\" cx=\"514.487\" cy=\"1422.8\" r=\"14\"/>\n",
       "<circle clip-path=\"url(#clip1405)\" style=\"fill:#fa9707; stroke:none; fill-opacity:0.4\" cx=\"519.574\" cy=\"1422.8\" r=\"14\"/>\n",
       "<circle clip-path=\"url(#clip1405)\" style=\"fill:#fa9707; stroke:none; fill-opacity:0.4\" cx=\"522.82\" cy=\"1116.97\" r=\"14\"/>\n",
       "<circle clip-path=\"url(#clip1405)\" style=\"fill:#fa9707; stroke:none; fill-opacity:0.4\" cx=\"532.007\" cy=\"1045.57\" r=\"14\"/>\n",
       "<circle clip-path=\"url(#clip1405)\" style=\"fill:#fa9707; stroke:none; fill-opacity:0.4\" cx=\"537.584\" cy=\"1422.8\" r=\"14\"/>\n",
       "<circle clip-path=\"url(#clip1405)\" style=\"fill:#fa9707; stroke:none; fill-opacity:0.4\" cx=\"556.179\" cy=\"1261.22\" r=\"14\"/>\n",
       "<circle clip-path=\"url(#clip1405)\" style=\"fill:#fa9707; stroke:none; fill-opacity:0.4\" cx=\"557.522\" cy=\"1261.22\" r=\"14\"/>\n",
       "<circle clip-path=\"url(#clip1405)\" style=\"fill:#fa9707; stroke:none; fill-opacity:0.4\" cx=\"559.501\" cy=\"1218.91\" r=\"14\"/>\n",
       "<circle clip-path=\"url(#clip1405)\" style=\"fill:#fa9707; stroke:none; fill-opacity:0.4\" cx=\"561.654\" cy=\"1099.65\" r=\"14\"/>\n",
       "<circle clip-path=\"url(#clip1405)\" style=\"fill:#fa9707; stroke:none; fill-opacity:0.4\" cx=\"562.184\" cy=\"1422.8\" r=\"14\"/>\n",
       "<circle clip-path=\"url(#clip1405)\" style=\"fill:#fa9707; stroke:none; fill-opacity:0.4\" cx=\"571.745\" cy=\"1320.86\" r=\"14\"/>\n",
       "<circle clip-path=\"url(#clip1405)\" style=\"fill:#fa9707; stroke:none; fill-opacity:0.4\" cx=\"573.923\" cy=\"1136.61\" r=\"14\"/>\n",
       "<circle clip-path=\"url(#clip1405)\" style=\"fill:#fa9707; stroke:none; fill-opacity:0.4\" cx=\"596.851\" cy=\"1084.15\" r=\"14\"/>\n",
       "<circle clip-path=\"url(#clip1405)\" style=\"fill:#fa9707; stroke:none; fill-opacity:0.4\" cx=\"596.873\" cy=\"1024.52\" r=\"14\"/>\n",
       "<circle clip-path=\"url(#clip1405)\" style=\"fill:#fa9707; stroke:none; fill-opacity:0.4\" cx=\"596.873\" cy=\"1422.8\" r=\"14\"/>\n",
       "<circle clip-path=\"url(#clip1405)\" style=\"fill:#fa9707; stroke:none; fill-opacity:0.4\" cx=\"613.409\" cy=\"1218.91\" r=\"14\"/>\n",
       "<circle clip-path=\"url(#clip1405)\" style=\"fill:#fa9707; stroke:none; fill-opacity:0.4\" cx=\"616.759\" cy=\"1015.03\" r=\"14\"/>\n",
       "<circle clip-path=\"url(#clip1405)\" style=\"fill:#fa9707; stroke:none; fill-opacity:0.4\" cx=\"621.004\" cy=\"1186.1\" r=\"14\"/>\n",
       "<circle clip-path=\"url(#clip1405)\" style=\"fill:#fa9707; stroke:none; fill-opacity:0.4\" cx=\"626.803\" cy=\"1186.1\" r=\"14\"/>\n",
       "<circle clip-path=\"url(#clip1405)\" style=\"fill:#fa9707; stroke:none; fill-opacity:0.4\" cx=\"632.586\" cy=\"1070.13\" r=\"14\"/>\n",
       "<circle clip-path=\"url(#clip1405)\" style=\"fill:#fa9707; stroke:none; fill-opacity:0.4\" cx=\"638.131\" cy=\"1084.15\" r=\"14\"/>\n",
       "<circle clip-path=\"url(#clip1405)\" style=\"fill:#fa9707; stroke:none; fill-opacity:0.4\" cx=\"638.131\" cy=\"1218.91\" r=\"14\"/>\n",
       "<circle clip-path=\"url(#clip1405)\" style=\"fill:#fa9707; stroke:none; fill-opacity:0.4\" cx=\"638.131\" cy=\"1422.8\" r=\"14\"/>\n",
       "<circle clip-path=\"url(#clip1405)\" style=\"fill:#fa9707; stroke:none; fill-opacity:0.4\" cx=\"652.959\" cy=\"1116.97\" r=\"14\"/>\n",
       "<circle clip-path=\"url(#clip1405)\" style=\"fill:#fa9707; stroke:none; fill-opacity:0.4\" cx=\"656.821\" cy=\"1034.67\" r=\"14\"/>\n",
       "<circle clip-path=\"url(#clip1405)\" style=\"fill:#fa9707; stroke:none; fill-opacity:0.4\" cx=\"657.176\" cy=\"955.394\" r=\"14\"/>\n",
       "<circle clip-path=\"url(#clip1405)\" style=\"fill:#fa9707; stroke:none; fill-opacity:0.4\" cx=\"658.652\" cy=\"887.809\" r=\"14\"/>\n",
       "<circle clip-path=\"url(#clip1405)\" style=\"fill:#fa9707; stroke:none; fill-opacity:0.4\" cx=\"663.258\" cy=\"1070.13\" r=\"14\"/>\n",
       "<circle clip-path=\"url(#clip1405)\" style=\"fill:#fa9707; stroke:none; fill-opacity:0.4\" cx=\"666.873\" cy=\"1116.97\" r=\"14\"/>\n",
       "<circle clip-path=\"url(#clip1405)\" style=\"fill:#fa9707; stroke:none; fill-opacity:0.4\" cx=\"676.853\" cy=\"1320.86\" r=\"14\"/>\n",
       "<circle clip-path=\"url(#clip1405)\" style=\"fill:#fa9707; stroke:none; fill-opacity:0.4\" cx=\"679.91\" cy=\"982.209\" r=\"14\"/>\n",
       "<circle clip-path=\"url(#clip1405)\" style=\"fill:#fa9707; stroke:none; fill-opacity:0.4\" cx=\"681.713\" cy=\"1261.22\" r=\"14\"/>\n",
       "<circle clip-path=\"url(#clip1405)\" style=\"fill:#fa9707; stroke:none; fill-opacity:0.4\" cx=\"683.486\" cy=\"1099.65\" r=\"14\"/>\n",
       "<circle clip-path=\"url(#clip1405)\" style=\"fill:#fa9707; stroke:none; fill-opacity:0.4\" cx=\"687.373\" cy=\"1218.91\" r=\"14\"/>\n",
       "<circle clip-path=\"url(#clip1405)\" style=\"fill:#fa9707; stroke:none; fill-opacity:0.4\" cx=\"687.604\" cy=\"955.394\" r=\"14\"/>\n",
       "<circle clip-path=\"url(#clip1405)\" style=\"fill:#fa9707; stroke:none; fill-opacity:0.4\" cx=\"691.176\" cy=\"922.576\" r=\"14\"/>\n",
       "<circle clip-path=\"url(#clip1405)\" style=\"fill:#fa9707; stroke:none; fill-opacity:0.4\" cx=\"693.14\" cy=\"989.753\" r=\"14\"/>\n",
       "<circle clip-path=\"url(#clip1405)\" style=\"fill:#fa9707; stroke:none; fill-opacity:0.4\" cx=\"699.604\" cy=\"1099.65\" r=\"14\"/>\n",
       "<circle clip-path=\"url(#clip1405)\" style=\"fill:#fa9707; stroke:none; fill-opacity:0.4\" cx=\"707.58\" cy=\"1186.1\" r=\"14\"/>\n",
       "<circle clip-path=\"url(#clip1405)\" style=\"fill:#fa9707; stroke:none; fill-opacity:0.4\" cx=\"716.856\" cy=\"1261.22\" r=\"14\"/>\n",
       "<circle clip-path=\"url(#clip1405)\" style=\"fill:#fa9707; stroke:none; fill-opacity:0.4\" cx=\"718.525\" cy=\"917.753\" r=\"14\"/>\n",
       "<circle clip-path=\"url(#clip1405)\" style=\"fill:#fa9707; stroke:none; fill-opacity:0.4\" cx=\"719.144\" cy=\"1218.91\" r=\"14\"/>\n",
       "<circle clip-path=\"url(#clip1405)\" style=\"fill:#fa9707; stroke:none; fill-opacity:0.4\" cx=\"725.888\" cy=\"1099.65\" r=\"14\"/>\n",
       "<circle clip-path=\"url(#clip1405)\" style=\"fill:#fa9707; stroke:none; fill-opacity:0.4\" cx=\"735.017\" cy=\"1045.57\" r=\"14\"/>\n",
       "<circle clip-path=\"url(#clip1405)\" style=\"fill:#fa9707; stroke:none; fill-opacity:0.4\" cx=\"735.017\" cy=\"1218.91\" r=\"14\"/>\n",
       "<circle clip-path=\"url(#clip1405)\" style=\"fill:#fa9707; stroke:none; fill-opacity:0.4\" cx=\"735.884\" cy=\"982.209\" r=\"14\"/>\n",
       "<circle clip-path=\"url(#clip1405)\" style=\"fill:#fa9707; stroke:none; fill-opacity:0.4\" cx=\"739.191\" cy=\"989.753\" r=\"14\"/>\n",
       "<circle clip-path=\"url(#clip1405)\" style=\"fill:#fa9707; stroke:none; fill-opacity:0.4\" cx=\"745.283\" cy=\"1422.8\" r=\"14\"/>\n",
       "<circle clip-path=\"url(#clip1405)\" style=\"fill:#fa9707; stroke:none; fill-opacity:0.4\" cx=\"753.561\" cy=\"1015.03\" r=\"14\"/>\n",
       "<circle clip-path=\"url(#clip1405)\" style=\"fill:#fa9707; stroke:none; fill-opacity:0.4\" cx=\"753.919\" cy=\"1422.8\" r=\"14\"/>\n",
       "<circle clip-path=\"url(#clip1405)\" style=\"fill:#fa9707; stroke:none; fill-opacity:0.4\" cx=\"760.349\" cy=\"908.558\" r=\"14\"/>\n",
       "<circle clip-path=\"url(#clip1405)\" style=\"fill:#fa9707; stroke:none; fill-opacity:0.4\" cx=\"764.721\" cy=\"1218.91\" r=\"14\"/>\n",
       "<circle clip-path=\"url(#clip1405)\" style=\"fill:#fa9707; stroke:none; fill-opacity:0.4\" cx=\"765.126\" cy=\"833.429\" r=\"14\"/>\n",
       "<circle clip-path=\"url(#clip1405)\" style=\"fill:#fa9707; stroke:none; fill-opacity:0.4\" cx=\"771.559\" cy=\"922.576\" r=\"14\"/>\n",
       "<circle clip-path=\"url(#clip1405)\" style=\"fill:#fa9707; stroke:none; fill-opacity:0.4\" cx=\"782.396\" cy=\"1057.34\" r=\"14\"/>\n",
       "<circle clip-path=\"url(#clip1405)\" style=\"fill:#fa9707; stroke:none; fill-opacity:0.4\" cx=\"784.418\" cy=\"975.033\" r=\"14\"/>\n",
       "<circle clip-path=\"url(#clip1405)\" style=\"fill:#fa9707; stroke:none; fill-opacity:0.4\" cx=\"799.601\" cy=\"1070.13\" r=\"14\"/>\n",
       "<circle clip-path=\"url(#clip1405)\" style=\"fill:#fa9707; stroke:none; fill-opacity:0.4\" cx=\"817.917\" cy=\"1015.03\" r=\"14\"/>\n",
       "<circle clip-path=\"url(#clip1405)\" style=\"fill:#fa9707; stroke:none; fill-opacity:0.4\" cx=\"827.198\" cy=\"975.033\" r=\"14\"/>\n",
       "<circle clip-path=\"url(#clip1405)\" style=\"fill:#fa9707; stroke:none; fill-opacity:0.4\" cx=\"827.861\" cy=\"1218.91\" r=\"14\"/>\n",
       "<circle clip-path=\"url(#clip1405)\" style=\"fill:#fa9707; stroke:none; fill-opacity:0.4\" cx=\"833.628\" cy=\"1218.91\" r=\"14\"/>\n",
       "<circle clip-path=\"url(#clip1405)\" style=\"fill:#fa9707; stroke:none; fill-opacity:0.4\" cx=\"845.652\" cy=\"1006.11\" r=\"14\"/>\n",
       "<circle clip-path=\"url(#clip1405)\" style=\"fill:#fa9707; stroke:none; fill-opacity:0.4\" cx=\"858.66\" cy=\"922.576\" r=\"14\"/>\n",
       "<circle clip-path=\"url(#clip1405)\" style=\"fill:#fa9707; stroke:none; fill-opacity:0.4\" cx=\"880.032\" cy=\"1099.65\" r=\"14\"/>\n",
       "<circle clip-path=\"url(#clip1405)\" style=\"fill:#fa9707; stroke:none; fill-opacity:0.4\" cx=\"956.585\" cy=\"961.654\" r=\"14\"/>\n",
       "<circle clip-path=\"url(#clip1405)\" style=\"fill:#fa9707; stroke:none; fill-opacity:0.4\" cx=\"1030.27\" cy=\"1218.91\" r=\"14\"/>\n",
       "<circle clip-path=\"url(#clip1405)\" style=\"fill:#fa9707; stroke:none; fill-opacity:0.4\" cx=\"1083.76\" cy=\"975.033\" r=\"14\"/>\n",
       "<polyline clip-path=\"url(#clip1405)\" style=\"stroke:#000000; stroke-width:4; stroke-opacity:1; fill:none\" points=\"\n",
       "  341.124,1330.74 1083.76,915.886 \n",
       "  \"/>\n",
       "<polygon clip-path=\"url(#clip1401)\" points=\"\n",
       "1352.75,1440.48 2321.26,1440.48 2321.26,815.748 1352.75,815.748 \n",
       "  \" fill=\"#ffffff\" fill-rule=\"evenodd\" fill-opacity=\"1\"/>\n",
       "<defs>\n",
       "  <clipPath id=\"clip1406\">\n",
       "    <rect x=\"1352\" y=\"815\" width=\"970\" height=\"626\"/>\n",
       "  </clipPath>\n",
       "</defs>\n",
       "<polyline clip-path=\"url(#clip1401)\" style=\"stroke:#000000; stroke-width:4; stroke-opacity:0; fill:none\" points=\"\n",
       "  1352.75,1440.48 2321.26,1440.48 \n",
       "  \"/>\n",
       "<polyline clip-path=\"url(#clip1401)\" style=\"stroke:#000000; stroke-width:4; stroke-opacity:0; fill:none\" points=\"\n",
       "  1352.75,1440.48 1352.75,815.748 \n",
       "  \"/>\n",
       "<polyline clip-path=\"url(#clip1401)\" style=\"stroke:#000000; stroke-width:4; stroke-opacity:1; fill:none\" points=\"\n",
       "  1406.02,1440.48 1406.02,1431.11 \n",
       "  \"/>\n",
       "<polyline clip-path=\"url(#clip1401)\" style=\"stroke:#000000; stroke-width:4; stroke-opacity:1; fill:none\" points=\"\n",
       "  1578.41,1440.48 1578.41,1431.11 \n",
       "  \"/>\n",
       "<polyline clip-path=\"url(#clip1401)\" style=\"stroke:#000000; stroke-width:4; stroke-opacity:1; fill:none\" points=\"\n",
       "  1750.81,1440.48 1750.81,1431.11 \n",
       "  \"/>\n",
       "<polyline clip-path=\"url(#clip1401)\" style=\"stroke:#000000; stroke-width:4; stroke-opacity:1; fill:none\" points=\"\n",
       "  1923.2,1440.48 1923.2,1431.11 \n",
       "  \"/>\n",
       "<polyline clip-path=\"url(#clip1401)\" style=\"stroke:#000000; stroke-width:4; stroke-opacity:1; fill:none\" points=\"\n",
       "  2095.6,1440.48 2095.6,1431.11 \n",
       "  \"/>\n",
       "<polyline clip-path=\"url(#clip1401)\" style=\"stroke:#000000; stroke-width:4; stroke-opacity:1; fill:none\" points=\"\n",
       "  2267.99,1440.48 2267.99,1431.11 \n",
       "  \"/>\n",
       "<polyline clip-path=\"url(#clip1401)\" style=\"stroke:#000000; stroke-width:4; stroke-opacity:1; fill:none\" points=\"\n",
       "  1352.75,1422.8 1367.27,1422.8 \n",
       "  \"/>\n",
       "<polyline clip-path=\"url(#clip1401)\" style=\"stroke:#000000; stroke-width:4; stroke-opacity:1; fill:none\" points=\"\n",
       "  1352.75,1263.51 1367.27,1263.51 \n",
       "  \"/>\n",
       "<polyline clip-path=\"url(#clip1401)\" style=\"stroke:#000000; stroke-width:4; stroke-opacity:1; fill:none\" points=\"\n",
       "  1352.75,1104.22 1367.27,1104.22 \n",
       "  \"/>\n",
       "<polyline clip-path=\"url(#clip1401)\" style=\"stroke:#000000; stroke-width:4; stroke-opacity:1; fill:none\" points=\"\n",
       "  1352.75,944.932 1367.27,944.932 \n",
       "  \"/>\n",
       "<g clip-path=\"url(#clip1401)\">\n",
       "<text style=\"fill:#000000; fill-opacity:1; font-family:Arial,Helvetica Neue,Helvetica,sans-serif; font-size:48px; text-anchor:middle;\" transform=\"rotate(0, 1406.02, 1494.48)\" x=\"1406.02\" y=\"1494.48\">0</text>\n",
       "</g>\n",
       "<g clip-path=\"url(#clip1401)\">\n",
       "<text style=\"fill:#000000; fill-opacity:1; font-family:Arial,Helvetica Neue,Helvetica,sans-serif; font-size:48px; text-anchor:middle;\" transform=\"rotate(0, 1578.41, 1494.48)\" x=\"1578.41\" y=\"1494.48\">1</text>\n",
       "</g>\n",
       "<g clip-path=\"url(#clip1401)\">\n",
       "<text style=\"fill:#000000; fill-opacity:1; font-family:Arial,Helvetica Neue,Helvetica,sans-serif; font-size:48px; text-anchor:middle;\" transform=\"rotate(0, 1750.81, 1494.48)\" x=\"1750.81\" y=\"1494.48\">2</text>\n",
       "</g>\n",
       "<g clip-path=\"url(#clip1401)\">\n",
       "<text style=\"fill:#000000; fill-opacity:1; font-family:Arial,Helvetica Neue,Helvetica,sans-serif; font-size:48px; text-anchor:middle;\" transform=\"rotate(0, 1923.2, 1494.48)\" x=\"1923.2\" y=\"1494.48\">3</text>\n",
       "</g>\n",
       "<g clip-path=\"url(#clip1401)\">\n",
       "<text style=\"fill:#000000; fill-opacity:1; font-family:Arial,Helvetica Neue,Helvetica,sans-serif; font-size:48px; text-anchor:middle;\" transform=\"rotate(0, 2095.6, 1494.48)\" x=\"2095.6\" y=\"1494.48\">4</text>\n",
       "</g>\n",
       "<g clip-path=\"url(#clip1401)\">\n",
       "<text style=\"fill:#000000; fill-opacity:1; font-family:Arial,Helvetica Neue,Helvetica,sans-serif; font-size:48px; text-anchor:middle;\" transform=\"rotate(0, 2267.99, 1494.48)\" x=\"2267.99\" y=\"1494.48\">5</text>\n",
       "</g>\n",
       "<g clip-path=\"url(#clip1401)\">\n",
       "<text style=\"fill:#000000; fill-opacity:1; font-family:Arial,Helvetica Neue,Helvetica,sans-serif; font-size:48px; text-anchor:end;\" transform=\"rotate(0, 1328.75, 1440.3)\" x=\"1328.75\" y=\"1440.3\"></text>\n",
       "</g>\n",
       "<g clip-path=\"url(#clip1401)\">\n",
       "<text style=\"fill:#000000; fill-opacity:1; font-family:Arial,Helvetica Neue,Helvetica,sans-serif; font-size:48px; text-anchor:end;\" transform=\"rotate(0, 1328.75, 1281.01)\" x=\"1328.75\" y=\"1281.01\"></text>\n",
       "</g>\n",
       "<g clip-path=\"url(#clip1401)\">\n",
       "<text style=\"fill:#000000; fill-opacity:1; font-family:Arial,Helvetica Neue,Helvetica,sans-serif; font-size:48px; text-anchor:end;\" transform=\"rotate(0, 1328.75, 1121.72)\" x=\"1328.75\" y=\"1121.72\"></text>\n",
       "</g>\n",
       "<g clip-path=\"url(#clip1401)\">\n",
       "<text style=\"fill:#000000; fill-opacity:1; font-family:Arial,Helvetica Neue,Helvetica,sans-serif; font-size:48px; text-anchor:end;\" transform=\"rotate(0, 1328.75, 962.432)\" x=\"1328.75\" y=\"962.432\"></text>\n",
       "</g>\n",
       "<g clip-path=\"url(#clip1401)\">\n",
       "<text style=\"fill:#000000; fill-opacity:1; font-family:Arial,Helvetica Neue,Helvetica,sans-serif; font-size:66px; text-anchor:middle;\" transform=\"rotate(0, 1837, 1590.4)\" x=\"1837\" y=\"1590.4\">lnduration</text>\n",
       "</g>\n",
       "<polygon clip-path=\"url(#clip1406)\" points=\"\n",
       "1406.02,833.429 1406.02,1422.8 1578.41,1422.8 1578.41,833.429 1406.02,833.429 1406.02,833.429 \n",
       "  \" fill=\"#000000\" fill-rule=\"evenodd\" fill-opacity=\"1\"/>\n",
       "<polyline clip-path=\"url(#clip1406)\" style=\"stroke:#000000; stroke-width:4; stroke-opacity:1; fill:none\" points=\"\n",
       "  1406.02,833.429 1406.02,1422.8 1578.41,1422.8 1578.41,833.429 1406.02,833.429 \n",
       "  \"/>\n",
       "<polygon clip-path=\"url(#clip1406)\" points=\"\n",
       "1578.41,897.145 1578.41,1422.8 1750.81,1422.8 1750.81,897.145 1578.41,897.145 1578.41,897.145 \n",
       "  \" fill=\"#000000\" fill-rule=\"evenodd\" fill-opacity=\"1\"/>\n",
       "<polyline clip-path=\"url(#clip1406)\" style=\"stroke:#000000; stroke-width:4; stroke-opacity:1; fill:none\" points=\"\n",
       "  1578.41,897.145 1578.41,1422.8 1750.81,1422.8 1750.81,897.145 1578.41,897.145 \n",
       "  \"/>\n",
       "<polygon clip-path=\"url(#clip1406)\" points=\"\n",
       "1750.81,944.932 1750.81,1422.8 1923.2,1422.8 1923.2,944.932 1750.81,944.932 1750.81,944.932 \n",
       "  \" fill=\"#000000\" fill-rule=\"evenodd\" fill-opacity=\"1\"/>\n",
       "<polyline clip-path=\"url(#clip1406)\" style=\"stroke:#000000; stroke-width:4; stroke-opacity:1; fill:none\" points=\"\n",
       "  1750.81,944.932 1750.81,1422.8 1923.2,1422.8 1923.2,944.932 1750.81,944.932 \n",
       "  \"/>\n",
       "<polygon clip-path=\"url(#clip1406)\" points=\"\n",
       "1923.2,1215.72 1923.2,1422.8 2095.6,1422.8 2095.6,1215.72 1923.2,1215.72 1923.2,1215.72 \n",
       "  \" fill=\"#000000\" fill-rule=\"evenodd\" fill-opacity=\"1\"/>\n",
       "<polyline clip-path=\"url(#clip1406)\" style=\"stroke:#000000; stroke-width:4; stroke-opacity:1; fill:none\" points=\"\n",
       "  1923.2,1215.72 1923.2,1422.8 2095.6,1422.8 2095.6,1215.72 1923.2,1215.72 \n",
       "  \"/>\n",
       "<polygon clip-path=\"url(#clip1406)\" points=\"\n",
       "2095.6,1406.87 2095.6,1422.8 2267.99,1422.8 2267.99,1406.87 2095.6,1406.87 2095.6,1406.87 \n",
       "  \" fill=\"#000000\" fill-rule=\"evenodd\" fill-opacity=\"1\"/>\n",
       "<polyline clip-path=\"url(#clip1406)\" style=\"stroke:#000000; stroke-width:4; stroke-opacity:1; fill:none\" points=\"\n",
       "  2095.6,1406.87 2095.6,1422.8 2267.99,1422.8 2267.99,1406.87 2095.6,1406.87 \n",
       "  \"/>\n",
       "</svg>\n"
      ]
     },
     "execution_count": 55,
     "metadata": {},
     "output_type": "execute_result"
    }
   ],
   "source": [
    "@df df2 corrplot([:condition2 :pre_sexism :meanpunishment :post_vote], grid = false)"
   ]
  },
  {
   "cell_type": "code",
   "execution_count": null,
   "metadata": {},
   "outputs": [],
   "source": []
  }
 ],
 "metadata": {
  "kernelspec": {
   "display_name": "Julia 1.5.3",
   "language": "julia",
   "name": "julia-1.5"
  },
  "language_info": {
   "file_extension": ".jl",
   "mimetype": "application/julia",
   "name": "julia",
   "version": "1.5.3"
  }
 },
 "nbformat": 4,
 "nbformat_minor": 2
}
