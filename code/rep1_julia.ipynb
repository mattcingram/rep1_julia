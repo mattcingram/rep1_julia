{
 "cells": [
  {
   "cell_type": "markdown",
   "metadata": {},
   "source": [
    "# Setup"
   ]
  },
  {
   "cell_type": "code",
   "execution_count": 1,
   "metadata": {},
   "outputs": [],
   "source": [
    "# LOAD PACKAGES\n",
    "using Pkg"
   ]
  },
  {
   "cell_type": "code",
   "execution_count": 2,
   "metadata": {},
   "outputs": [
    {
     "name": "stderr",
     "output_type": "stream",
     "text": [
      "\u001b[32m\u001b[1m   Updating\u001b[22m\u001b[39m registry at `/srv/julia/pkg/registries/General`\n",
      "######################################################################### 100.0%\n",
      "\u001b[32m\u001b[1m  Resolving\u001b[22m\u001b[39m package versions...\n",
      "\u001b[32m\u001b[1m  Installed\u001b[22m\u001b[39m Tables ────────────────────── v1.2.2\n",
      "\u001b[32m\u001b[1m  Installed\u001b[22m\u001b[39m PooledArrays ──────────────── v0.5.3\n",
      "\u001b[32m\u001b[1m  Installed\u001b[22m\u001b[39m DataValueInterfaces ───────── v1.0.0\n",
      "\u001b[32m\u001b[1m  Installed\u001b[22m\u001b[39m DataAPI ───────────────────── v1.4.0\n",
      "\u001b[32m\u001b[1m  Installed\u001b[22m\u001b[39m TableTraits ───────────────── v1.0.0\n",
      "\u001b[32m\u001b[1m  Installed\u001b[22m\u001b[39m SentinelArrays ────────────── v1.2.16\n",
      "\u001b[32m\u001b[1m  Installed\u001b[22m\u001b[39m IteratorInterfaceExtensions ─ v1.0.0\n",
      "\u001b[32m\u001b[1m  Installed\u001b[22m\u001b[39m CSV ───────────────────────── v0.8.2\n",
      "\u001b[32m\u001b[1mUpdating\u001b[22m\u001b[39m `~/Project.toml`\n",
      " \u001b[90m [336ed68f] \u001b[39m\u001b[92m+ CSV v0.8.2\u001b[39m\n",
      "\u001b[32m\u001b[1mUpdating\u001b[22m\u001b[39m `~/Manifest.toml`\n",
      " \u001b[90m [336ed68f] \u001b[39m\u001b[92m+ CSV v0.8.2\u001b[39m\n",
      " \u001b[90m [9a962f9c] \u001b[39m\u001b[92m+ DataAPI v1.4.0\u001b[39m\n",
      " \u001b[90m [e2d170a0] \u001b[39m\u001b[92m+ DataValueInterfaces v1.0.0\u001b[39m\n",
      " \u001b[90m [82899510] \u001b[39m\u001b[92m+ IteratorInterfaceExtensions v1.0.0\u001b[39m\n",
      " \u001b[90m [69de0a69] \u001b[39m\u001b[92m+ Parsers v1.0.15\u001b[39m\n",
      " \u001b[90m [2dfb63ee] \u001b[39m\u001b[92m+ PooledArrays v0.5.3\u001b[39m\n",
      " \u001b[90m [91c51154] \u001b[39m\u001b[92m+ SentinelArrays v1.2.16\u001b[39m\n",
      " \u001b[90m [3783bdb8] \u001b[39m\u001b[92m+ TableTraits v1.0.0\u001b[39m\n",
      " \u001b[90m [bd369af6] \u001b[39m\u001b[92m+ Tables v1.2.2\u001b[39m\n",
      " \u001b[90m [2a0f44e3] \u001b[39m\u001b[92m+ Base64\u001b[39m\n",
      " \u001b[90m [ade2ca70] \u001b[39m\u001b[92m+ Dates\u001b[39m\n",
      " \u001b[90m [8ba89e20] \u001b[39m\u001b[92m+ Distributed\u001b[39m\n",
      " \u001b[90m [b77e0a4c] \u001b[39m\u001b[92m+ InteractiveUtils\u001b[39m\n",
      " \u001b[90m [8f399da3] \u001b[39m\u001b[92m+ Libdl\u001b[39m\n",
      " \u001b[90m [37e2e46d] \u001b[39m\u001b[92m+ LinearAlgebra\u001b[39m\n",
      " \u001b[90m [56ddb016] \u001b[39m\u001b[92m+ Logging\u001b[39m\n",
      " \u001b[90m [d6f4376e] \u001b[39m\u001b[92m+ Markdown\u001b[39m\n",
      " \u001b[90m [a63ad114] \u001b[39m\u001b[92m+ Mmap\u001b[39m\n",
      " \u001b[90m [de0858da] \u001b[39m\u001b[92m+ Printf\u001b[39m\n",
      " \u001b[90m [9a3f8284] \u001b[39m\u001b[92m+ Random\u001b[39m\n",
      " \u001b[90m [9e88b42a] \u001b[39m\u001b[92m+ Serialization\u001b[39m\n",
      " \u001b[90m [6462fe0b] \u001b[39m\u001b[92m+ Sockets\u001b[39m\n",
      " \u001b[90m [8dfed614] \u001b[39m\u001b[92m+ Test\u001b[39m\n",
      " \u001b[90m [4ec0a83e] \u001b[39m\u001b[92m+ Unicode\u001b[39m\n",
      "\u001b[32m\u001b[1m  Resolving\u001b[22m\u001b[39m package versions...\n",
      "\u001b[32m\u001b[1m  Installed\u001b[22m\u001b[39m InvertedIndices ──── v1.0.0\n",
      "\u001b[32m\u001b[1m  Installed\u001b[22m\u001b[39m FreqTables ───────── v0.4.2\n",
      "\u001b[32m\u001b[1m  Installed\u001b[22m\u001b[39m NamedArrays ──────── v0.9.4\n",
      "\u001b[32m\u001b[1m  Installed\u001b[22m\u001b[39m OrderedCollections ─ v1.3.2\n",
      "\u001b[32m\u001b[1m  Installed\u001b[22m\u001b[39m StructTypes ──────── v1.2.1\n",
      "\u001b[32m\u001b[1m  Installed\u001b[22m\u001b[39m Compat ───────────── v3.25.0\n",
      "\u001b[32m\u001b[1m  Installed\u001b[22m\u001b[39m Requires ─────────── v1.1.2\n",
      "\u001b[32m\u001b[1m  Installed\u001b[22m\u001b[39m DataStructures ───── v0.18.8\n",
      "\u001b[32m\u001b[1m  Installed\u001b[22m\u001b[39m Missings ─────────── v0.4.4\n",
      "\u001b[32m\u001b[1m  Installed\u001b[22m\u001b[39m CategoricalArrays ── v0.9.0\n",
      "\u001b[32m\u001b[1m  Installed\u001b[22m\u001b[39m Combinatorics ────── v1.0.2\n",
      "\u001b[32m\u001b[1mUpdating\u001b[22m\u001b[39m `~/Project.toml`\n",
      " \u001b[90m [da1fdf0e] \u001b[39m\u001b[92m+ FreqTables v0.4.2\u001b[39m\n",
      "\u001b[32m\u001b[1mUpdating\u001b[22m\u001b[39m `~/Manifest.toml`\n",
      " \u001b[90m [324d7699] \u001b[39m\u001b[92m+ CategoricalArrays v0.9.0\u001b[39m\n",
      " \u001b[90m [861a8166] \u001b[39m\u001b[92m+ Combinatorics v1.0.2\u001b[39m\n",
      " \u001b[90m [34da2185] \u001b[39m\u001b[92m+ Compat v3.25.0\u001b[39m\n",
      " \u001b[90m [864edb3b] \u001b[39m\u001b[92m+ DataStructures v0.18.8\u001b[39m\n",
      " \u001b[90m [da1fdf0e] \u001b[39m\u001b[92m+ FreqTables v0.4.2\u001b[39m\n",
      " \u001b[90m [41ab1584] \u001b[39m\u001b[92m+ InvertedIndices v1.0.0\u001b[39m\n",
      " \u001b[90m [682c06a0] \u001b[39m\u001b[92m+ JSON v0.21.1\u001b[39m\n",
      " \u001b[90m [e1d29d7a] \u001b[39m\u001b[92m+ Missings v0.4.4\u001b[39m\n",
      " \u001b[90m [86f7a689] \u001b[39m\u001b[92m+ NamedArrays v0.9.4\u001b[39m\n",
      " \u001b[90m [bac558e1] \u001b[39m\u001b[92m+ OrderedCollections v1.3.2\u001b[39m\n",
      " \u001b[90m [ae029012] \u001b[39m\u001b[92m+ Requires v1.1.2\u001b[39m\n",
      " \u001b[90m [856f2bd8] \u001b[39m\u001b[92m+ StructTypes v1.2.1\u001b[39m\n",
      " \u001b[90m [8bb1440f] \u001b[39m\u001b[92m+ DelimitedFiles\u001b[39m\n",
      " \u001b[90m [9fa8497b] \u001b[39m\u001b[92m+ Future\u001b[39m\n",
      " \u001b[90m [76f85450] \u001b[39m\u001b[92m+ LibGit2\u001b[39m\n",
      " \u001b[90m [44cfe95a] \u001b[39m\u001b[92m+ Pkg\u001b[39m\n",
      " \u001b[90m [3fa0cd96] \u001b[39m\u001b[92m+ REPL\u001b[39m\n",
      " \u001b[90m [ea8e919c] \u001b[39m\u001b[92m+ SHA\u001b[39m\n",
      " \u001b[90m [1a1011a3] \u001b[39m\u001b[92m+ SharedArrays\u001b[39m\n",
      " \u001b[90m [2f01184e] \u001b[39m\u001b[92m+ SparseArrays\u001b[39m\n",
      " \u001b[90m [10745b16] \u001b[39m\u001b[92m+ Statistics\u001b[39m\n",
      " \u001b[90m [cf7118a7] \u001b[39m\u001b[92m+ UUIDs\u001b[39m\n",
      "\u001b[32m\u001b[1m  Resolving\u001b[22m\u001b[39m package versions...\n",
      "\u001b[32m\u001b[1m  Installed\u001b[22m\u001b[39m IniFile ─ v0.5.0\n",
      "\u001b[32m\u001b[1m  Installed\u001b[22m\u001b[39m HTTP ──── v0.9.2\n",
      "\u001b[32m\u001b[1m  Installed\u001b[22m\u001b[39m URIs ──── v1.1.0\n",
      "\u001b[32m\u001b[1mUpdating\u001b[22m\u001b[39m `~/Project.toml`\n",
      " \u001b[90m [cd3eb016] \u001b[39m\u001b[92m+ HTTP v0.9.2\u001b[39m\n",
      "\u001b[32m\u001b[1mUpdating\u001b[22m\u001b[39m `~/Manifest.toml`\n",
      " \u001b[90m [56f22d72] \u001b[39m\u001b[92m+ Artifacts v1.3.0\u001b[39m\n",
      " \u001b[90m [cd3eb016] \u001b[39m\u001b[92m+ HTTP v0.9.2\u001b[39m\n",
      " \u001b[90m [83e8ac13] \u001b[39m\u001b[92m+ IniFile v0.5.0\u001b[39m\n",
      " \u001b[90m [692b3bcd] \u001b[39m\u001b[92m+ JLLWrappers v1.1.4\u001b[39m\n",
      " \u001b[90m [739be429] \u001b[39m\u001b[92m+ MbedTLS v1.0.3\u001b[39m\n",
      " \u001b[90m [c8ffd9c3] \u001b[39m\u001b[92m+ MbedTLS_jll v2.16.8+1\u001b[39m\n",
      " \u001b[90m [5c2747f8] \u001b[39m\u001b[92m+ URIs v1.1.0\u001b[39m\n",
      "\u001b[32m\u001b[1m  Resolving\u001b[22m\u001b[39m package versions...\n",
      "\u001b[32m\u001b[1mUpdating\u001b[22m\u001b[39m `~/Project.toml`\n",
      " \u001b[90m [e1d29d7a] \u001b[39m\u001b[92m+ Missings v0.4.4\u001b[39m\n",
      "\u001b[32m\u001b[1mNo Changes\u001b[22m\u001b[39m to `~/Manifest.toml`\n",
      "\u001b[32m\u001b[1m  Resolving\u001b[22m\u001b[39m package versions...\n",
      "\u001b[32m\u001b[1m  Installed\u001b[22m\u001b[39m SortingAlgorithms ──────────── v0.3.1\n",
      "\u001b[32m\u001b[1m  Installed\u001b[22m\u001b[39m Rmath_jll ──────────────────── v0.2.2+1\n",
      "\u001b[32m\u001b[1m  Installed\u001b[22m\u001b[39m DataFrames ─────────────────── v0.21.8\n",
      "\u001b[32m\u001b[1m  Installed\u001b[22m\u001b[39m StatsKit ───────────────────── v0.3.0\n",
      "\u001b[32m\u001b[1m  Installed\u001b[22m\u001b[39m KernelDensity ──────────────── v0.6.2\n",
      "\u001b[32m\u001b[1m  Installed\u001b[22m\u001b[39m StatsFuns ──────────────────── v0.9.6\n",
      "\u001b[32m\u001b[1m  Installed\u001b[22m\u001b[39m OffsetArrays ───────────────── v1.5.0\n",
      "\u001b[32m\u001b[1m  Installed\u001b[22m\u001b[39m NearestNeighbors ───────────── v0.4.8\n",
      "\u001b[32m\u001b[1m  Installed\u001b[22m\u001b[39m Reexport ───────────────────── v0.2.0\n",
      "\u001b[32m\u001b[1m  Installed\u001b[22m\u001b[39m GLM ────────────────────────── v1.3.11\n",
      "\u001b[32m\u001b[1m  Installed\u001b[22m\u001b[39m MKL_jll ────────────────────── v2020.2.254+0\n",
      "\u001b[32m\u001b[1m  Installed\u001b[22m\u001b[39m Bootstrap ──────────────────── v2.3.1\n",
      "\u001b[32m\u001b[1m  Installed\u001b[22m\u001b[39m OpenSpecFun_jll ────────────── v0.5.3+4\n",
      "\u001b[32m\u001b[1m  Installed\u001b[22m\u001b[39m PDMats ─────────────────────── v0.10.1\n",
      "\u001b[32m\u001b[1m  Installed\u001b[22m\u001b[39m DocStringExtensions ────────── v0.8.3\n",
      "\u001b[32m\u001b[1m  Installed\u001b[22m\u001b[39m StaticArrays ───────────────── v0.12.5\n",
      "\u001b[32m\u001b[1m  Installed\u001b[22m\u001b[39m StatsModels ────────────────── v0.6.18\n",
      "\u001b[32m\u001b[1m  Installed\u001b[22m\u001b[39m StatsBase ──────────────────── v0.33.2\n",
      "\u001b[32m\u001b[1m  Installed\u001b[22m\u001b[39m CSV ────────────────────────── v0.7.10\n",
      "\u001b[32m\u001b[1m  Installed\u001b[22m\u001b[39m Distributions ──────────────── v0.23.12\n",
      "\u001b[32m\u001b[1m  Installed\u001b[22m\u001b[39m Ratios ─────────────────────── v0.4.0\n",
      "\u001b[32m\u001b[1m  Installed\u001b[22m\u001b[39m OpenBLAS_jll ───────────────── v0.3.9+5\n",
      "\u001b[32m\u001b[1m  Installed\u001b[22m\u001b[39m TimeSeries ─────────────────── v0.19.1\n",
      "\u001b[32m\u001b[1m  Installed\u001b[22m\u001b[39m Roots ──────────────────────── v1.0.7\n",
      "\u001b[32m\u001b[1m  Installed\u001b[22m\u001b[39m AbstractFFTs ───────────────── v1.0.0\n",
      "\u001b[32m\u001b[1m  Installed\u001b[22m\u001b[39m Rmath ──────────────────────── v0.6.1\n",
      "\u001b[32m\u001b[1m  Installed\u001b[22m\u001b[39m FillArrays ─────────────────── v0.9.7\n",
      "\u001b[32m\u001b[1m  Installed\u001b[22m\u001b[39m Clustering ─────────────────── v0.14.2\n",
      "\u001b[32m\u001b[1m  Installed\u001b[22m\u001b[39m ShiftedArrays ──────────────── v1.0.0\n",
      "\u001b[32m\u001b[1m  Installed\u001b[22m\u001b[39m QuadGK ─────────────────────── v2.4.1\n",
      "\u001b[32m\u001b[1m  Installed\u001b[22m\u001b[39m Loess ──────────────────────── v0.5.3\n",
      "\u001b[32m\u001b[1m  Installed\u001b[22m\u001b[39m RecipesBase ────────────────── v1.1.1\n",
      "\u001b[32m\u001b[1m  Installed\u001b[22m\u001b[39m CompilerSupportLibraries_jll ─ v0.3.4+0\n",
      "\u001b[32m\u001b[1m  Installed\u001b[22m\u001b[39m HypothesisTests ────────────── v0.10.2\n",
      "\u001b[32m\u001b[1m  Installed\u001b[22m\u001b[39m AxisAlgorithms ─────────────── v1.0.0\n",
      "\u001b[32m\u001b[1m  Installed\u001b[22m\u001b[39m Distances ──────────────────── v0.9.2\n",
      "\u001b[32m\u001b[1m  Installed\u001b[22m\u001b[39m Adapt ──────────────────────── v2.4.0\n",
      "\u001b[32m\u001b[1m  Installed\u001b[22m\u001b[39m Arpack ─────────────────────── v0.4.0\n",
      "\u001b[32m\u001b[1m  Installed\u001b[22m\u001b[39m CategoricalArrays ──────────── v0.8.3\n",
      "\u001b[32m\u001b[1m  Installed\u001b[22m\u001b[39m Arpack_jll ─────────────────── v3.5.0+3\n",
      "\u001b[32m\u001b[1m  Installed\u001b[22m\u001b[39m MultivariateStats ──────────── v0.7.0\n",
      "\u001b[32m\u001b[1m  Installed\u001b[22m\u001b[39m SpecialFunctions ───────────── v0.10.3\n",
      "\u001b[32m\u001b[1m  Installed\u001b[22m\u001b[39m FFTW_jll ───────────────────── v3.3.9+7\n",
      "\u001b[32m\u001b[1m  Installed\u001b[22m\u001b[39m FFTW ───────────────────────── v1.3.1\n",
      "\u001b[32m\u001b[1m  Installed\u001b[22m\u001b[39m IntelOpenMP_jll ────────────── v2018.0.3+0\n",
      "\u001b[32m\u001b[1m  Installed\u001b[22m\u001b[39m WoodburyMatrices ───────────── v0.5.3\n",
      "\u001b[32m\u001b[1m  Installed\u001b[22m\u001b[39m Interpolations ─────────────── v0.13.1\n",
      "\u001b[32m\u001b[1mUpdating\u001b[22m\u001b[39m `~/Project.toml`\n",
      " \u001b[90m [336ed68f] \u001b[39m\u001b[95m↓ CSV v0.8.2 ⇒ v0.7.10\u001b[39m\n",
      " \u001b[90m [2cb19f9e] \u001b[39m\u001b[92m+ StatsKit v0.3.0\u001b[39m\n",
      "\u001b[32m\u001b[1mUpdating\u001b[22m\u001b[39m `~/Manifest.toml`\n",
      " \u001b[90m [621f4979] \u001b[39m\u001b[92m+ AbstractFFTs v1.0.0\u001b[39m\n",
      " \u001b[90m [79e6a3ab] \u001b[39m\u001b[92m+ Adapt v2.4.0\u001b[39m\n",
      " \u001b[90m [7d9fca2a] \u001b[39m\u001b[92m+ Arpack v0.4.0\u001b[39m\n",
      " \u001b[90m [68821587] \u001b[39m\u001b[92m+ Arpack_jll v3.5.0+3\u001b[39m\n",
      " \u001b[90m [13072b0f] \u001b[39m\u001b[92m+ AxisAlgorithms v1.0.0\u001b[39m\n",
      " \u001b[90m [e28b5b4c] \u001b[39m\u001b[92m+ Bootstrap v2.3.1\u001b[39m\n",
      " \u001b[90m [336ed68f] \u001b[39m\u001b[95m↓ CSV v0.8.2 ⇒ v0.7.10\u001b[39m\n",
      " \u001b[90m [324d7699] \u001b[39m\u001b[95m↓ CategoricalArrays v0.9.0 ⇒ v0.8.3\u001b[39m\n",
      " \u001b[90m [aaaa29a8] \u001b[39m\u001b[92m+ Clustering v0.14.2\u001b[39m\n",
      " \u001b[90m [e66e0078] \u001b[39m\u001b[92m+ CompilerSupportLibraries_jll v0.3.4+0\u001b[39m\n",
      " \u001b[90m [a93c6f00] \u001b[39m\u001b[92m+ DataFrames v0.21.8\u001b[39m\n",
      " \u001b[90m [b4f34e82] \u001b[39m\u001b[92m+ Distances v0.9.2\u001b[39m\n",
      " \u001b[90m [31c24e10] \u001b[39m\u001b[92m+ Distributions v0.23.12\u001b[39m\n",
      " \u001b[90m [ffbed154] \u001b[39m\u001b[92m+ DocStringExtensions v0.8.3\u001b[39m\n",
      " \u001b[90m [7a1cc6ca] \u001b[39m\u001b[92m+ FFTW v1.3.1\u001b[39m\n",
      " \u001b[90m [f5851436] \u001b[39m\u001b[92m+ FFTW_jll v3.3.9+7\u001b[39m\n",
      " \u001b[90m [1a297f60] \u001b[39m\u001b[92m+ FillArrays v0.9.7\u001b[39m\n",
      " \u001b[90m [38e38edf] \u001b[39m\u001b[92m+ GLM v1.3.11\u001b[39m\n",
      " \u001b[90m [09f84164] \u001b[39m\u001b[92m+ HypothesisTests v0.10.2\u001b[39m\n",
      " \u001b[90m [1d5cc7b8] \u001b[39m\u001b[92m+ IntelOpenMP_jll v2018.0.3+0\u001b[39m\n",
      " \u001b[90m [a98d9a8b] \u001b[39m\u001b[92m+ Interpolations v0.13.1\u001b[39m\n",
      " \u001b[90m [5ab0869b] \u001b[39m\u001b[92m+ KernelDensity v0.6.2\u001b[39m\n",
      " \u001b[90m [4345ca2d] \u001b[39m\u001b[92m+ Loess v0.5.3\u001b[39m\n",
      " \u001b[90m [856f044c] \u001b[39m\u001b[92m+ MKL_jll v2020.2.254+0\u001b[39m\n",
      " \u001b[90m [6f286f6a] \u001b[39m\u001b[92m+ MultivariateStats v0.7.0\u001b[39m\n",
      " \u001b[90m [b8a86587] \u001b[39m\u001b[92m+ NearestNeighbors v0.4.8\u001b[39m\n",
      " \u001b[90m [6fe1bfb0] \u001b[39m\u001b[92m+ OffsetArrays v1.5.0\u001b[39m\n",
      " \u001b[90m [4536629a] \u001b[39m\u001b[92m+ OpenBLAS_jll v0.3.9+5\u001b[39m\n",
      " \u001b[90m [efe28fd5] \u001b[39m\u001b[92m+ OpenSpecFun_jll v0.5.3+4\u001b[39m\n",
      " \u001b[90m [90014a1f] \u001b[39m\u001b[92m+ PDMats v0.10.1\u001b[39m\n",
      " \u001b[90m [1fd47b50] \u001b[39m\u001b[92m+ QuadGK v2.4.1\u001b[39m\n",
      " \u001b[90m [c84ed2f1] \u001b[39m\u001b[92m+ Ratios v0.4.0\u001b[39m\n",
      " \u001b[90m [3cdcf5f2] \u001b[39m\u001b[92m+ RecipesBase v1.1.1\u001b[39m\n",
      " \u001b[90m [189a3867] \u001b[39m\u001b[92m+ Reexport v0.2.0\u001b[39m\n",
      " \u001b[90m [79098fc4] \u001b[39m\u001b[92m+ Rmath v0.6.1\u001b[39m\n",
      " \u001b[90m [f50d1b31] \u001b[39m\u001b[92m+ Rmath_jll v0.2.2+1\u001b[39m\n",
      " \u001b[90m [f2b01f46] \u001b[39m\u001b[92m+ Roots v1.0.7\u001b[39m\n",
      " \u001b[90m [1277b4bf] \u001b[39m\u001b[92m+ ShiftedArrays v1.0.0\u001b[39m\n",
      " \u001b[90m [a2af1166] \u001b[39m\u001b[92m+ SortingAlgorithms v0.3.1\u001b[39m\n",
      " \u001b[90m [276daf66] \u001b[39m\u001b[92m+ SpecialFunctions v0.10.3\u001b[39m\n",
      " \u001b[90m [90137ffa] \u001b[39m\u001b[92m+ StaticArrays v0.12.5\u001b[39m\n",
      " \u001b[90m [2913bbd2] \u001b[39m\u001b[92m+ StatsBase v0.33.2\u001b[39m\n",
      " \u001b[90m [4c63d2b9] \u001b[39m\u001b[92m+ StatsFuns v0.9.6\u001b[39m\n",
      " \u001b[90m [2cb19f9e] \u001b[39m\u001b[92m+ StatsKit v0.3.0\u001b[39m\n",
      " \u001b[90m [3eaba693] \u001b[39m\u001b[92m+ StatsModels v0.6.18\u001b[39m\n",
      " \u001b[90m [9e3dc215] \u001b[39m\u001b[92m+ TimeSeries v0.19.1\u001b[39m\n",
      " \u001b[90m [efce3f68] \u001b[39m\u001b[92m+ WoodburyMatrices v0.5.3\u001b[39m\n",
      " \u001b[90m [4607b0f0] \u001b[39m\u001b[92m+ SuiteSparse\u001b[39m\n",
      "\u001b[32m\u001b[1m   Building\u001b[22m\u001b[39m FFTW → `/srv/julia/pkg/packages/FFTW/eADNB/deps/build.log`\n"
     ]
    }
   ],
   "source": [
    "Pkg.add(\"CSV\")\n",
    "Pkg.add(\"FreqTables\")\n",
    "Pkg.add(\"HTTP\")\n",
    "Pkg.add(\"Missings\")\n",
    "Pkg.add(\"StatsKit\") # meta-package that loads packages associated with JuliaStats, including DataFrames, GLM, HypothesisTests,\n",
    "#and MultivariateStats"
   ]
  },
  {
   "cell_type": "code",
   "execution_count": 3,
   "metadata": {},
   "outputs": [
    {
     "name": "stderr",
     "output_type": "stream",
     "text": [
      "┌ Info: Precompiling CSV [336ed68f-0bac-5ca0-87d4-7b16caf5d00b]\n",
      "└ @ Base loading.jl:1278\n",
      "┌ Info: Precompiling FreqTables [da1fdf0e-e0ff-5433-a45f-9bb5ff651cb1]\n",
      "└ @ Base loading.jl:1278\n",
      "┌ Info: Precompiling HTTP [cd3eb016-35fb-5094-929b-558a96fad6f3]\n",
      "└ @ Base loading.jl:1278\n",
      "┌ Info: Precompiling StatsKit [2cb19f9e-ec4d-5c53-8573-a4542a68d3f0]\n",
      "└ @ Base loading.jl:1278\n"
     ]
    }
   ],
   "source": [
    "## Open installed packages\n",
    "using CSV, FreqTables, HTTP, Missings, StatsKit"
   ]
  },
  {
   "cell_type": "code",
   "execution_count": 4,
   "metadata": {},
   "outputs": [
    {
     "data": {
      "text/plain": [
       "v\"1.5.3\""
      ]
     },
     "execution_count": 4,
     "metadata": {},
     "output_type": "execute_result"
    }
   ],
   "source": [
    "# check julia version\n",
    "VERSION"
   ]
  },
  {
   "cell_type": "markdown",
   "metadata": {},
   "source": [
    "# Set Directory Structure"
   ]
  },
  {
   "cell_type": "code",
   "execution_count": 5,
   "metadata": {},
   "outputs": [
    {
     "data": {
      "text/plain": [
       "\"/home/jovyan/code\""
      ]
     },
     "execution_count": 5,
     "metadata": {},
     "output_type": "execute_result"
    }
   ],
   "source": [
    "pwd()"
   ]
  },
  {
   "cell_type": "code",
   "execution_count": 5,
   "metadata": {},
   "outputs": [],
   "source": [
    "path = \"/home/jovyan/\"\n",
    "cd(path)\n",
    "# or cd(\"..\")"
   ]
  },
  {
   "cell_type": "code",
   "execution_count": 6,
   "metadata": {
    "scrolled": true
   },
   "outputs": [
    {
     "data": {
      "text/plain": [
       "\"/home/jovyan\""
      ]
     },
     "execution_count": 6,
     "metadata": {},
     "output_type": "execute_result"
    }
   ],
   "source": [
    "pwd()"
   ]
  },
  {
   "cell_type": "markdown",
   "metadata": {},
   "source": [
    "## Make Sub-directories"
   ]
  },
  {
   "cell_type": "code",
   "execution_count": 9,
   "metadata": {},
   "outputs": [
    {
     "ename": "LoadError",
     "evalue": "IOError: mkdir: file already exists (EEXIST)",
     "output_type": "error",
     "traceback": [
      "IOError: mkdir: file already exists (EEXIST)",
      "",
      "Stacktrace:",
      " [1] uv_error at ./libuv.jl:97 [inlined]",
      " [2] mkdir(::String; mode::UInt16) at ./file.jl:177",
      " [3] mkdir(::String) at ./file.jl:170",
      " [4] top-level scope at In[9]:1",
      " [5] include_string(::Function, ::Module, ::String, ::String) at ./loading.jl:1091"
     ]
    }
   ],
   "source": [
    "mkdir(\"./code\")"
   ]
  },
  {
   "cell_type": "code",
   "execution_count": 9,
   "metadata": {},
   "outputs": [
    {
     "ename": "LoadError",
     "evalue": "IOError: mkdir: file already exists (EEXIST)",
     "output_type": "error",
     "traceback": [
      "IOError: mkdir: file already exists (EEXIST)",
      "",
      "Stacktrace:",
      " [1] uv_error at ./libuv.jl:97 [inlined]",
      " [2] mkdir(::String; mode::UInt16) at ./file.jl:177",
      " [3] mkdir(::String) at ./file.jl:170",
      " [4] top-level scope at In[9]:1",
      " [5] include_string(::Function, ::Module, ::String, ::String) at ./loading.jl:1091"
     ]
    }
   ],
   "source": [
    "mkdir(\"./data\")"
   ]
  },
  {
   "cell_type": "code",
   "execution_count": 7,
   "metadata": {},
   "outputs": [
    {
     "data": {
      "text/plain": [
       "\"./figures\""
      ]
     },
     "execution_count": 7,
     "metadata": {},
     "output_type": "execute_result"
    }
   ],
   "source": [
    "mkdir(\"./figures\")"
   ]
  },
  {
   "cell_type": "code",
   "execution_count": 8,
   "metadata": {},
   "outputs": [
    {
     "data": {
      "text/plain": [
       "\"./tables\""
      ]
     },
     "execution_count": 8,
     "metadata": {},
     "output_type": "execute_result"
    }
   ],
   "source": [
    "mkdir(\"./tables\")"
   ]
  },
  {
   "cell_type": "code",
   "execution_count": 13,
   "metadata": {},
   "outputs": [
    {
     "data": {
      "text/plain": [
       "16-element Array{String,1}:\n",
       " \".bash_logout\"\n",
       " \".bashrc\"\n",
       " \".cache\"\n",
       " \".config\"\n",
       " \".git\"\n",
       " \".jupyter\"\n",
       " \".npm\"\n",
       " \".profile\"\n",
       " \"Manifest.toml\"\n",
       " \"Project.toml\"\n",
       " \"README.md\"\n",
       " \"code\"\n",
       " \"data\"\n",
       " \"figures\"\n",
       " \"julia\"\n",
       " \"tables\""
      ]
     },
     "execution_count": 13,
     "metadata": {},
     "output_type": "execute_result"
    }
   ],
   "source": [
    "readdir()"
   ]
  },
  {
   "cell_type": "markdown",
   "metadata": {},
   "source": [
    "# Load Data"
   ]
  },
  {
   "cell_type": "code",
   "execution_count": 9,
   "metadata": {},
   "outputs": [
    {
     "data": {
      "text/html": [
       "<table class=\"data-frame\"><thead><tr><th></th><th>id</th><th>senator_party</th><th>condition</th><th>pid7</th><th>pre_sexism_1</th></tr><tr><th></th><th>Int64</th><th>String</th><th>Int64</th><th>String</th><th>String</th></tr></thead><tbody><p>2,806 rows × 24 columns (omitted printing of 19 columns)</p><tr><th>1</th><td>1</td><td>Democrat</td><td>2</td><td>Strong Republican</td><td>Agree strongly</td></tr><tr><th>2</th><td>2</td><td>Republican</td><td>2</td><td>Not very strong Democrat</td><td>Disagree somewhat</td></tr><tr><th>3</th><td>3</td><td>Republican</td><td>2</td><td>Strong Democrat</td><td>Disagree strongly</td></tr><tr><th>4</th><td>4</td><td>Republican</td><td>1</td><td>Independent</td><td>Agree somewhat</td></tr><tr><th>5</th><td>5</td><td>Democrat</td><td>3</td><td>Strong Democrat</td><td>Disagree strongly</td></tr><tr><th>6</th><td>6</td><td>Republican</td><td>2</td><td>Lean Republican</td><td>Neither disagree nor agree</td></tr><tr><th>7</th><td>7</td><td>Republican</td><td>3</td><td>Strong Democrat</td><td>Neither disagree nor agree</td></tr><tr><th>8</th><td>8</td><td>Republican</td><td>3</td><td>Not very strong Republican</td><td>Agree strongly</td></tr><tr><th>9</th><td>9</td><td>Democrat</td><td>2</td><td>Not very strong Democrat</td><td>Disagree strongly</td></tr><tr><th>10</th><td>10</td><td>Democrat</td><td>3</td><td>Strong Democrat</td><td>Disagree strongly</td></tr><tr><th>11</th><td>11</td><td>Republican</td><td>3</td><td>Strong Democrat</td><td>Disagree strongly</td></tr><tr><th>12</th><td>12</td><td>Republican</td><td>1</td><td>Not very strong Democrat</td><td>Agree somewhat</td></tr><tr><th>13</th><td>13</td><td>Republican</td><td>1</td><td>Independent</td><td>Agree somewhat</td></tr><tr><th>14</th><td>14</td><td>Republican</td><td>1</td><td>Not very strong Republican</td><td>Agree somewhat</td></tr><tr><th>15</th><td>15</td><td>Republican</td><td>3</td><td>Lean Republican</td><td>Disagree somewhat</td></tr><tr><th>16</th><td>16</td><td>Democrat</td><td>3</td><td>Strong Democrat</td><td>Disagree somewhat</td></tr><tr><th>17</th><td>17</td><td>Republican</td><td>3</td><td>Independent</td><td>Disagree somewhat</td></tr><tr><th>18</th><td>18</td><td>Democrat</td><td>2</td><td>Strong Democrat</td><td>Disagree strongly</td></tr><tr><th>19</th><td>19</td><td>Democrat</td><td>3</td><td>Not very strong Republican</td><td>Disagree somewhat</td></tr><tr><th>20</th><td>20</td><td>Democrat</td><td>2</td><td>Strong Democrat</td><td>Agree somewhat</td></tr><tr><th>21</th><td>21</td><td>Democrat</td><td>3</td><td>Not very strong Republican</td><td>Agree somewhat</td></tr><tr><th>22</th><td>22</td><td>Republican</td><td>3</td><td>Independent</td><td>Disagree strongly</td></tr><tr><th>23</th><td>23</td><td>Republican</td><td>3</td><td>Independent</td><td>Agree somewhat</td></tr><tr><th>24</th><td>24</td><td>Democrat</td><td>3</td><td>Lean Republican</td><td>Agree somewhat</td></tr><tr><th>25</th><td>25</td><td>Democrat</td><td>2</td><td>Strong Democrat</td><td>Disagree strongly</td></tr><tr><th>26</th><td>26</td><td>Democrat</td><td>1</td><td>Independent</td><td>Agree somewhat</td></tr><tr><th>27</th><td>27</td><td>Republican</td><td>2</td><td>Strong Democrat</td><td>Disagree strongly</td></tr><tr><th>28</th><td>28</td><td>Republican</td><td>2</td><td>Lean Democrat</td><td>Neither disagree nor agree</td></tr><tr><th>29</th><td>29</td><td>Democrat</td><td>3</td><td>Strong Democrat</td><td>Disagree strongly</td></tr><tr><th>30</th><td>30</td><td>Republican</td><td>2</td><td>Independent</td><td>Disagree somewhat</td></tr><tr><th>&vellip;</th><td>&vellip;</td><td>&vellip;</td><td>&vellip;</td><td>&vellip;</td><td>&vellip;</td></tr></tbody></table>"
      ],
      "text/latex": [
       "\\begin{tabular}{r|cccccc}\n",
       "\t& id & senator\\_party & condition & pid7 & pre\\_sexism\\_1 & \\\\\n",
       "\t\\hline\n",
       "\t& Int64 & String & Int64 & String & String & \\\\\n",
       "\t\\hline\n",
       "\t1 & 1 & Democrat & 2 & Strong Republican & Agree strongly & $\\dots$ \\\\\n",
       "\t2 & 2 & Republican & 2 & Not very strong Democrat & Disagree somewhat & $\\dots$ \\\\\n",
       "\t3 & 3 & Republican & 2 & Strong Democrat & Disagree strongly & $\\dots$ \\\\\n",
       "\t4 & 4 & Republican & 1 & Independent & Agree somewhat & $\\dots$ \\\\\n",
       "\t5 & 5 & Democrat & 3 & Strong Democrat & Disagree strongly & $\\dots$ \\\\\n",
       "\t6 & 6 & Republican & 2 & Lean Republican & Neither disagree nor agree & $\\dots$ \\\\\n",
       "\t7 & 7 & Republican & 3 & Strong Democrat & Neither disagree nor agree & $\\dots$ \\\\\n",
       "\t8 & 8 & Republican & 3 & Not very strong Republican & Agree strongly & $\\dots$ \\\\\n",
       "\t9 & 9 & Democrat & 2 & Not very strong Democrat & Disagree strongly & $\\dots$ \\\\\n",
       "\t10 & 10 & Democrat & 3 & Strong Democrat & Disagree strongly & $\\dots$ \\\\\n",
       "\t11 & 11 & Republican & 3 & Strong Democrat & Disagree strongly & $\\dots$ \\\\\n",
       "\t12 & 12 & Republican & 1 & Not very strong Democrat & Agree somewhat & $\\dots$ \\\\\n",
       "\t13 & 13 & Republican & 1 & Independent & Agree somewhat & $\\dots$ \\\\\n",
       "\t14 & 14 & Republican & 1 & Not very strong Republican & Agree somewhat & $\\dots$ \\\\\n",
       "\t15 & 15 & Republican & 3 & Lean Republican & Disagree somewhat & $\\dots$ \\\\\n",
       "\t16 & 16 & Democrat & 3 & Strong Democrat & Disagree somewhat & $\\dots$ \\\\\n",
       "\t17 & 17 & Republican & 3 & Independent & Disagree somewhat & $\\dots$ \\\\\n",
       "\t18 & 18 & Democrat & 2 & Strong Democrat & Disagree strongly & $\\dots$ \\\\\n",
       "\t19 & 19 & Democrat & 3 & Not very strong Republican & Disagree somewhat & $\\dots$ \\\\\n",
       "\t20 & 20 & Democrat & 2 & Strong Democrat & Agree somewhat & $\\dots$ \\\\\n",
       "\t21 & 21 & Democrat & 3 & Not very strong Republican & Agree somewhat & $\\dots$ \\\\\n",
       "\t22 & 22 & Republican & 3 & Independent & Disagree strongly & $\\dots$ \\\\\n",
       "\t23 & 23 & Republican & 3 & Independent & Agree somewhat & $\\dots$ \\\\\n",
       "\t24 & 24 & Democrat & 3 & Lean Republican & Agree somewhat & $\\dots$ \\\\\n",
       "\t25 & 25 & Democrat & 2 & Strong Democrat & Disagree strongly & $\\dots$ \\\\\n",
       "\t26 & 26 & Democrat & 1 & Independent & Agree somewhat & $\\dots$ \\\\\n",
       "\t27 & 27 & Republican & 2 & Strong Democrat & Disagree strongly & $\\dots$ \\\\\n",
       "\t28 & 28 & Republican & 2 & Lean Democrat & Neither disagree nor agree & $\\dots$ \\\\\n",
       "\t29 & 29 & Democrat & 3 & Strong Democrat & Disagree strongly & $\\dots$ \\\\\n",
       "\t30 & 30 & Republican & 2 & Independent & Disagree somewhat & $\\dots$ \\\\\n",
       "\t$\\dots$ & $\\dots$ & $\\dots$ & $\\dots$ & $\\dots$ & $\\dots$ &  \\\\\n",
       "\\end{tabular}\n"
      ],
      "text/plain": [
       "2806×24 DataFrame. Omitted printing of 20 columns\n",
       "│ Row  │ id    │ senator_party │ condition │ pid7                       │\n",
       "│      │ \u001b[90mInt64\u001b[39m │ \u001b[90mString\u001b[39m        │ \u001b[90mInt64\u001b[39m     │ \u001b[90mString\u001b[39m                     │\n",
       "├──────┼───────┼───────────────┼───────────┼────────────────────────────┤\n",
       "│ 1    │ 1     │ Democrat      │ 2         │ Strong Republican          │\n",
       "│ 2    │ 2     │ Republican    │ 2         │ Not very strong Democrat   │\n",
       "│ 3    │ 3     │ Republican    │ 2         │ Strong Democrat            │\n",
       "│ 4    │ 4     │ Republican    │ 1         │ Independent                │\n",
       "│ 5    │ 5     │ Democrat      │ 3         │ Strong Democrat            │\n",
       "│ 6    │ 6     │ Republican    │ 2         │ Lean Republican            │\n",
       "│ 7    │ 7     │ Republican    │ 3         │ Strong Democrat            │\n",
       "│ 8    │ 8     │ Republican    │ 3         │ Not very strong Republican │\n",
       "│ 9    │ 9     │ Democrat      │ 2         │ Not very strong Democrat   │\n",
       "│ 10   │ 10    │ Democrat      │ 3         │ Strong Democrat            │\n",
       "⋮\n",
       "│ 2796 │ 2797  │ Republican    │ 2         │ Strong Democrat            │\n",
       "│ 2797 │ 2798  │ Republican    │ 2         │ Strong Republican          │\n",
       "│ 2798 │ 2799  │ Democrat      │ 3         │ Independent                │\n",
       "│ 2799 │ 2800  │ Republican    │ 2         │ Strong Republican          │\n",
       "│ 2800 │ 2801  │ Republican    │ 3         │ Strong Democrat            │\n",
       "│ 2801 │ 2802  │ Democrat      │ 2         │ Strong Democrat            │\n",
       "│ 2802 │ 2803  │ Democrat      │ 1         │ Strong Republican          │\n",
       "│ 2803 │ 2804  │ Republican    │ 2         │ Strong Republican          │\n",
       "│ 2804 │ 2805  │ Republican    │ 2         │ Not very strong Democrat   │\n",
       "│ 2805 │ 2806  │ Republican    │ 3         │ Strong Democrat            │\n",
       "│ 2806 │ 2807  │ Republican    │ 1         │ Lean Republican            │"
      ]
     },
     "execution_count": 9,
     "metadata": {},
     "output_type": "execute_result"
    }
   ],
   "source": [
    "# if loading from file in data folder (use CSV and DataFrame together)\n",
    "df1 = CSV.read(\"./data/original/metoo_data.csv\", DataFrame)"
   ]
  },
  {
   "cell_type": "code",
   "execution_count": 28,
   "metadata": {},
   "outputs": [
    {
     "data": {
      "text/html": [
       "<p>DataFrameRow (24 columns)</p><table class=\"data-frame\"><thead><tr><th></th><th>id</th><th>senator_party</th><th>condition</th><th>pid7</th><th>pre_sexism_1</th><th>pre_sexism_2</th></tr><tr><th></th><th>Int64</th><th>String</th><th>Int64</th><th>String</th><th>String</th><th>String</th></tr></thead><tbody><tr><th>1</th><td>1</td><td>Democrat</td><td>2</td><td>Strong Republican</td><td>Agree strongly</td><td>Disagree strongly</td></tr></tbody></table>"
      ],
      "text/latex": [
       "\\begin{tabular}{r|ccccccc}\n",
       "\t& id & senator\\_party & condition & pid7 & pre\\_sexism\\_1 & pre\\_sexism\\_2 & \\\\\n",
       "\t\\hline\n",
       "\t& Int64 & String & Int64 & String & String & String & \\\\\n",
       "\t\\hline\n",
       "\t1 & 1 & Democrat & 2 & Strong Republican & Agree strongly & Disagree strongly & $\\dots$ \\\\\n",
       "\\end{tabular}\n"
      ],
      "text/plain": [
       "DataFrameRow. Omitted printing of 19 columns\n",
       "│ Row │ id    │ senator_party │ condition │ pid7              │ pre_sexism_1   │\n",
       "│     │ \u001b[90mInt64\u001b[39m │ \u001b[90mString\u001b[39m        │ \u001b[90mInt64\u001b[39m     │ \u001b[90mString\u001b[39m            │ \u001b[90mString\u001b[39m         │\n",
       "├─────┼───────┼───────────────┼───────────┼───────────────────┼────────────────┤\n",
       "│ 1   │ 1     │ Democrat      │ 2         │ Strong Republican │ Agree strongly │"
      ]
     },
     "execution_count": 28,
     "metadata": {},
     "output_type": "execute_result"
    }
   ],
   "source": [
    "# can index within DataFrame\n",
    "# e.g., \n",
    "# row = df1[1,:]"
   ]
  },
  {
   "cell_type": "code",
   "execution_count": 16,
   "metadata": {},
   "outputs": [
    {
     "data": {
      "text/html": [
       "<table class=\"data-frame\"><thead><tr><th></th><th>id</th><th>senator_party</th><th>condition</th></tr><tr><th></th><th>Int64</th><th>String</th><th>Int64</th></tr></thead><tbody><p>5 rows × 3 columns</p><tr><th>1</th><td>1</td><td>Democrat</td><td>2</td></tr><tr><th>2</th><td>2</td><td>Republican</td><td>2</td></tr><tr><th>3</th><td>3</td><td>Republican</td><td>2</td></tr><tr><th>4</th><td>4</td><td>Republican</td><td>1</td></tr><tr><th>5</th><td>5</td><td>Democrat</td><td>3</td></tr></tbody></table>"
      ],
      "text/latex": [
       "\\begin{tabular}{r|ccc}\n",
       "\t& id & senator\\_party & condition\\\\\n",
       "\t\\hline\n",
       "\t& Int64 & String & Int64\\\\\n",
       "\t\\hline\n",
       "\t1 & 1 & Democrat & 2 \\\\\n",
       "\t2 & 2 & Republican & 2 \\\\\n",
       "\t3 & 3 & Republican & 2 \\\\\n",
       "\t4 & 4 & Republican & 1 \\\\\n",
       "\t5 & 5 & Democrat & 3 \\\\\n",
       "\\end{tabular}\n"
      ],
      "text/plain": [
       "5×3 DataFrame\n",
       "│ Row │ id    │ senator_party │ condition │\n",
       "│     │ \u001b[90mInt64\u001b[39m │ \u001b[90mString\u001b[39m        │ \u001b[90mInt64\u001b[39m     │\n",
       "├─────┼───────┼───────────────┼───────────┤\n",
       "│ 1   │ 1     │ Democrat      │ 2         │\n",
       "│ 2   │ 2     │ Republican    │ 2         │\n",
       "│ 3   │ 3     │ Republican    │ 2         │\n",
       "│ 4   │ 4     │ Republican    │ 1         │\n",
       "│ 5   │ 5     │ Democrat      │ 3         │"
      ]
     },
     "execution_count": 16,
     "metadata": {},
     "output_type": "execute_result"
    }
   ],
   "source": [
    "# inspect first 5 rows and first 3 cols\n",
    "df1[1:5,1:3]"
   ]
  },
  {
   "cell_type": "markdown",
   "metadata": {},
   "source": [
    "# Summary Statistics"
   ]
  },
  {
   "cell_type": "code",
   "execution_count": 18,
   "metadata": {},
   "outputs": [
    {
     "data": {
      "text/html": [
       "<table class=\"data-frame\"><thead><tr><th></th><th>variable</th><th>mean</th><th>min</th><th>median</th><th>max</th></tr><tr><th></th><th>Symbol</th><th>Union…</th><th>Any</th><th>Union…</th><th>Any</th></tr></thead><tbody><p>24 rows × 8 columns (omitted printing of 3 columns)</p><tr><th>1</th><td>id</td><td>1404.17</td><td>1</td><td>1404.5</td><td>2807</td></tr><tr><th>2</th><td>senator_party</td><td></td><td>Democrat</td><td></td><td>Republican</td></tr><tr><th>3</th><td>condition</td><td>2.00641</td><td>1</td><td>2.0</td><td>3</td></tr><tr><th>4</th><td>pid7</td><td></td><td>Independent</td><td></td><td>Strong Republican</td></tr><tr><th>5</th><td>pre_sexism_1</td><td></td><td>Agree somewhat</td><td></td><td>Neither disagree nor agree</td></tr><tr><th>6</th><td>pre_sexism_2</td><td></td><td>Agree somewhat</td><td></td><td>Neither disagree nor agree</td></tr><tr><th>7</th><td>pre_sexism_3</td><td></td><td>Agree somewhat</td><td></td><td>Neither disagree nor agree</td></tr><tr><th>8</th><td>pre_sexism_4</td><td></td><td>Agree somewhat</td><td></td><td>Neither disagree nor agree</td></tr><tr><th>9</th><td>pre_favorability</td><td>6.93158</td><td>0</td><td>7.0</td><td>10</td></tr><tr><th>10</th><td>pre_vote</td><td>5.98824</td><td>0</td><td>6.0</td><td>10</td></tr><tr><th>11</th><td>gender</td><td></td><td>Man</td><td></td><td>Woman</td></tr><tr><th>12</th><td>age</td><td></td><td>18-24</td><td></td><td>65 or over</td></tr><tr><th>13</th><td>newsinterest</td><td></td><td>Don't know</td><td></td><td>Some of the time</td></tr><tr><th>14</th><td>post_favorability</td><td>5.60763</td><td>0</td><td>6.0</td><td>10</td></tr><tr><th>15</th><td>post_vote</td><td>5.00499</td><td>0</td><td>5.0</td><td>10</td></tr><tr><th>16</th><td>punishment_1</td><td></td><td>Agree somewhat</td><td></td><td>Neither disagree nor agree</td></tr><tr><th>17</th><td>punishment_2</td><td></td><td>Agree somewhat</td><td></td><td>Neither disagree nor agree</td></tr><tr><th>18</th><td>punishment_3</td><td></td><td>Agree somewhat</td><td></td><td>Neither disagree nor agree</td></tr><tr><th>19</th><td>punishment_4</td><td></td><td>Agree somewhat</td><td></td><td>Neither disagree nor agree</td></tr><tr><th>20</th><td>punishment_5</td><td></td><td>Agree somewhat</td><td></td><td>Neither disagree nor agree</td></tr><tr><th>21</th><td>post_sexism_1</td><td></td><td>Agree somewhat</td><td></td><td>Neither disagree nor agree</td></tr><tr><th>22</th><td>post_sexism_2</td><td></td><td>Agree somewhat</td><td></td><td>Neither disagree nor agree</td></tr><tr><th>23</th><td>post_sexism_3</td><td></td><td>Agree somewhat</td><td></td><td>Neither disagree nor agree</td></tr><tr><th>24</th><td>post_sexism_4</td><td></td><td>Agree somewhat</td><td></td><td>Neither disagree nor agree</td></tr></tbody></table>"
      ],
      "text/latex": [
       "\\begin{tabular}{r|cccccc}\n",
       "\t& variable & mean & min & median & max & \\\\\n",
       "\t\\hline\n",
       "\t& Symbol & Union… & Any & Union… & Any & \\\\\n",
       "\t\\hline\n",
       "\t1 & id & 1404.17 & 1 & 1404.5 & 2807 & $\\dots$ \\\\\n",
       "\t2 & senator\\_party &  & Democrat &  & Republican & $\\dots$ \\\\\n",
       "\t3 & condition & 2.00641 & 1 & 2.0 & 3 & $\\dots$ \\\\\n",
       "\t4 & pid7 &  & Independent &  & Strong Republican & $\\dots$ \\\\\n",
       "\t5 & pre\\_sexism\\_1 &  & Agree somewhat &  & Neither disagree nor agree & $\\dots$ \\\\\n",
       "\t6 & pre\\_sexism\\_2 &  & Agree somewhat &  & Neither disagree nor agree & $\\dots$ \\\\\n",
       "\t7 & pre\\_sexism\\_3 &  & Agree somewhat &  & Neither disagree nor agree & $\\dots$ \\\\\n",
       "\t8 & pre\\_sexism\\_4 &  & Agree somewhat &  & Neither disagree nor agree & $\\dots$ \\\\\n",
       "\t9 & pre\\_favorability & 6.93158 & 0 & 7.0 & 10 & $\\dots$ \\\\\n",
       "\t10 & pre\\_vote & 5.98824 & 0 & 6.0 & 10 & $\\dots$ \\\\\n",
       "\t11 & gender &  & Man &  & Woman & $\\dots$ \\\\\n",
       "\t12 & age &  & 18-24 &  & 65 or over & $\\dots$ \\\\\n",
       "\t13 & newsinterest &  & Don't know &  & Some of the time & $\\dots$ \\\\\n",
       "\t14 & post\\_favorability & 5.60763 & 0 & 6.0 & 10 & $\\dots$ \\\\\n",
       "\t15 & post\\_vote & 5.00499 & 0 & 5.0 & 10 & $\\dots$ \\\\\n",
       "\t16 & punishment\\_1 &  & Agree somewhat &  & Neither disagree nor agree & $\\dots$ \\\\\n",
       "\t17 & punishment\\_2 &  & Agree somewhat &  & Neither disagree nor agree & $\\dots$ \\\\\n",
       "\t18 & punishment\\_3 &  & Agree somewhat &  & Neither disagree nor agree & $\\dots$ \\\\\n",
       "\t19 & punishment\\_4 &  & Agree somewhat &  & Neither disagree nor agree & $\\dots$ \\\\\n",
       "\t20 & punishment\\_5 &  & Agree somewhat &  & Neither disagree nor agree & $\\dots$ \\\\\n",
       "\t21 & post\\_sexism\\_1 &  & Agree somewhat &  & Neither disagree nor agree & $\\dots$ \\\\\n",
       "\t22 & post\\_sexism\\_2 &  & Agree somewhat &  & Neither disagree nor agree & $\\dots$ \\\\\n",
       "\t23 & post\\_sexism\\_3 &  & Agree somewhat &  & Neither disagree nor agree & $\\dots$ \\\\\n",
       "\t24 & post\\_sexism\\_4 &  & Agree somewhat &  & Neither disagree nor agree & $\\dots$ \\\\\n",
       "\\end{tabular}\n"
      ],
      "text/plain": [
       "24×8 DataFrame. Omitted printing of 4 columns\n",
       "│ Row │ variable          │ mean    │ min            │ median │\n",
       "│     │ \u001b[90mSymbol\u001b[39m            │ \u001b[90mUnion…\u001b[39m  │ \u001b[90mAny\u001b[39m            │ \u001b[90mUnion…\u001b[39m │\n",
       "├─────┼───────────────────┼─────────┼────────────────┼────────┤\n",
       "│ 1   │ id                │ 1404.17 │ 1              │ 1404.5 │\n",
       "│ 2   │ senator_party     │         │ Democrat       │        │\n",
       "│ 3   │ condition         │ 2.00641 │ 1              │ 2.0    │\n",
       "│ 4   │ pid7              │         │ Independent    │        │\n",
       "│ 5   │ pre_sexism_1      │         │ Agree somewhat │        │\n",
       "│ 6   │ pre_sexism_2      │         │ Agree somewhat │        │\n",
       "│ 7   │ pre_sexism_3      │         │ Agree somewhat │        │\n",
       "│ 8   │ pre_sexism_4      │         │ Agree somewhat │        │\n",
       "│ 9   │ pre_favorability  │ 6.93158 │ 0              │ 7.0    │\n",
       "│ 10  │ pre_vote          │ 5.98824 │ 0              │ 6.0    │\n",
       "⋮\n",
       "│ 14  │ post_favorability │ 5.60763 │ 0              │ 6.0    │\n",
       "│ 15  │ post_vote         │ 5.00499 │ 0              │ 5.0    │\n",
       "│ 16  │ punishment_1      │         │ Agree somewhat │        │\n",
       "│ 17  │ punishment_2      │         │ Agree somewhat │        │\n",
       "│ 18  │ punishment_3      │         │ Agree somewhat │        │\n",
       "│ 19  │ punishment_4      │         │ Agree somewhat │        │\n",
       "│ 20  │ punishment_5      │         │ Agree somewhat │        │\n",
       "│ 21  │ post_sexism_1     │         │ Agree somewhat │        │\n",
       "│ 22  │ post_sexism_2     │         │ Agree somewhat │        │\n",
       "│ 23  │ post_sexism_3     │         │ Agree somewhat │        │\n",
       "│ 24  │ post_sexism_4     │         │ Agree somewhat │        │"
      ]
     },
     "execution_count": 18,
     "metadata": {},
     "output_type": "execute_result"
    }
   ],
   "source": [
    "describe(df1)"
   ]
  },
  {
   "cell_type": "markdown",
   "metadata": {},
   "source": [
    "# Data Processing"
   ]
  },
  {
   "cell_type": "code",
   "execution_count": 10,
   "metadata": {},
   "outputs": [
    {
     "data": {
      "text/plain": [
       "\"\""
      ]
     },
     "execution_count": 10,
     "metadata": {},
     "output_type": "execute_result"
    }
   ],
   "source": [
    "# create and transform new var condition2\n",
    "df1.condition2 = \"\""
   ]
  },
  {
   "cell_type": "code",
   "execution_count": 11,
   "metadata": {},
   "outputs": [
    {
     "data": {
      "text/plain": [
       "\"Control\""
      ]
     },
     "execution_count": 11,
     "metadata": {},
     "output_type": "execute_result"
    }
   ],
   "source": [
    "df1[(df1[:condition] .== 1),:condition2]=\"Jokes\"\n",
    "df1[(df1[:condition] .== 2),:condition2]=\"Assault\"\n",
    "df1[(df1[:condition] .== 3),:condition2]=\"Control\""
   ]
  },
  {
   "cell_type": "code",
   "execution_count": 30,
   "metadata": {},
   "outputs": [
    {
     "data": {
      "text/plain": [
       "5-element Array{String,1}:\n",
       " \"Assault\"\n",
       " \"Assault\"\n",
       " \"Assault\"\n",
       " \"Jokes\"\n",
       " \"Control\""
      ]
     },
     "execution_count": 30,
     "metadata": {},
     "output_type": "execute_result"
    }
   ],
   "source": [
    "df1[1:5,:condition2]"
   ]
  },
  {
   "cell_type": "code",
   "execution_count": 12,
   "metadata": {},
   "outputs": [
    {
     "data": {
      "text/plain": [
       "2806-element CategoricalArray{String,1,UInt32}:\n",
       " \"Assault\"\n",
       " \"Assault\"\n",
       " \"Assault\"\n",
       " \"Jokes\"\n",
       " \"Control\"\n",
       " \"Assault\"\n",
       " \"Control\"\n",
       " \"Control\"\n",
       " \"Assault\"\n",
       " \"Control\"\n",
       " \"Control\"\n",
       " \"Jokes\"\n",
       " \"Jokes\"\n",
       " ⋮\n",
       " \"Jokes\"\n",
       " \"Assault\"\n",
       " \"Assault\"\n",
       " \"Control\"\n",
       " \"Assault\"\n",
       " \"Control\"\n",
       " \"Assault\"\n",
       " \"Jokes\"\n",
       " \"Assault\"\n",
       " \"Assault\"\n",
       " \"Control\"\n",
       " \"Jokes\""
      ]
     },
     "execution_count": 12,
     "metadata": {},
     "output_type": "execute_result"
    }
   ],
   "source": [
    "# make categorical\n",
    "df1[:condition2] = CategoricalArray(df1[:condition2])"
   ]
  },
  {
   "cell_type": "code",
   "execution_count": 33,
   "metadata": {},
   "outputs": [
    {
     "data": {
      "text/plain": [
       "3-element Array{String,1}:\n",
       " \"Assault\"\n",
       " \"Control\"\n",
       " \"Jokes\""
      ]
     },
     "execution_count": 33,
     "metadata": {},
     "output_type": "execute_result"
    }
   ],
   "source": [
    "# check levels\n",
    "levels(df1[:condition2])"
   ]
  },
  {
   "cell_type": "code",
   "execution_count": 13,
   "metadata": {},
   "outputs": [
    {
     "data": {
      "text/plain": [
       "2806-element CategoricalArray{String,1,UInt32}:\n",
       " \"Assault\"\n",
       " \"Assault\"\n",
       " \"Assault\"\n",
       " \"Jokes\"\n",
       " \"Control\"\n",
       " \"Assault\"\n",
       " \"Control\"\n",
       " \"Control\"\n",
       " \"Assault\"\n",
       " \"Control\"\n",
       " \"Control\"\n",
       " \"Jokes\"\n",
       " \"Jokes\"\n",
       " ⋮\n",
       " \"Jokes\"\n",
       " \"Assault\"\n",
       " \"Assault\"\n",
       " \"Control\"\n",
       " \"Assault\"\n",
       " \"Control\"\n",
       " \"Assault\"\n",
       " \"Jokes\"\n",
       " \"Assault\"\n",
       " \"Assault\"\n",
       " \"Control\"\n",
       " \"Jokes\""
      ]
     },
     "execution_count": 13,
     "metadata": {},
     "output_type": "execute_result"
    }
   ],
   "source": [
    "# reorder levels\n",
    "levels!(df1[:condition2], [\"Control\", \"Jokes\", \"Assault\"])"
   ]
  },
  {
   "cell_type": "code",
   "execution_count": 14,
   "metadata": {},
   "outputs": [
    {
     "data": {
      "text/plain": [
       "3-element Array{String,1}:\n",
       " \"Control\"\n",
       " \"Jokes\"\n",
       " \"Assault\""
      ]
     },
     "execution_count": 14,
     "metadata": {},
     "output_type": "execute_result"
    }
   ],
   "source": [
    "# recheck levels\n",
    "levels(df1[:condition2])"
   ]
  },
  {
   "cell_type": "code",
   "execution_count": 15,
   "metadata": {},
   "outputs": [
    {
     "data": {
      "text/plain": [
       "8-element Named Array{Int64,1}\n",
       "Dim1                       │ \n",
       "───────────────────────────┼────\n",
       "Independent                │ 631\n",
       "Lean Democrat              │ 377\n",
       "Lean Republican            │ 269\n",
       "Not sure                   │  23\n",
       "Not very strong Democrat   │ 359\n",
       "Not very strong Republican │ 200\n",
       "Strong Democrat            │ 629\n",
       "Strong Republican          │ 318"
      ]
     },
     "execution_count": 15,
     "metadata": {},
     "output_type": "execute_result"
    }
   ],
   "source": [
    "# create and transform new var pid3\n",
    "# check tabulation (values)\n",
    "freqtable(df1.pid7)"
   ]
  },
  {
   "cell_type": "code",
   "execution_count": 16,
   "metadata": {},
   "outputs": [
    {
     "data": {
      "text/plain": [
       "2806-element CategoricalArray{String,1,UInt32}:\n",
       " \"Republican\"\n",
       " \"Democrat\"\n",
       " \"Democrat\"\n",
       " \"Independent\"\n",
       " \"Democrat\"\n",
       " \"Republican\"\n",
       " \"Democrat\"\n",
       " \"Republican\"\n",
       " \"Democrat\"\n",
       " \"Democrat\"\n",
       " \"Democrat\"\n",
       " \"Democrat\"\n",
       " \"Independent\"\n",
       " ⋮\n",
       " \"Independent\"\n",
       " \"Democrat\"\n",
       " \"Republican\"\n",
       " \"Independent\"\n",
       " \"Republican\"\n",
       " \"Democrat\"\n",
       " \"Democrat\"\n",
       " \"Republican\"\n",
       " \"Republican\"\n",
       " \"Democrat\"\n",
       " \"Democrat\"\n",
       " \"Republican\""
      ]
     },
     "execution_count": 16,
     "metadata": {},
     "output_type": "execute_result"
    }
   ],
   "source": [
    "df1.pid3 = \"\"\n",
    "df1[(df1[:pid7] .== \"Lean Democrat\"),:pid3]=\"Democrat\"\n",
    "df1[(df1[:pid7] .== \"Strong Democrat\"),:pid3]=\"Democrat\"\n",
    "df1[(df1[:pid7] .== \"Not very strong Democrat\"),:pid3]=\"Democrat\"\n",
    "\n",
    "df1[(df1[:pid7] .== \"Lean Republican\"),:pid3]=\"Republican\"\n",
    "df1[(df1[:pid7] .== \"Strong Republican\"),:pid3]=\"Republican\"\n",
    "df1[(df1[:pid7] .== \"Not very strong Republican\"),:pid3]=\"Republican\"\n",
    "\n",
    "df1[(df1[:pid7] .== \"Independent\"),:pid3]=\"Independent\"\n",
    "df1[(df1[:pid7] .== \"Not sure\"),:pid3]=\"Independent\"\n",
    "\n",
    "# make categorical\n",
    "df1[:pid3] = CategoricalArray(df1[:pid3])"
   ]
  },
  {
   "cell_type": "code",
   "execution_count": 53,
   "metadata": {},
   "outputs": [
    {
     "data": {
      "text/html": [
       "<table class=\"data-frame\"><thead><tr><th></th><th>variable</th><th>mean</th><th>min</th><th>median</th><th>max</th></tr><tr><th></th><th>Symbol</th><th>Union…</th><th>Any</th><th>Union…</th><th>Any</th></tr></thead><tbody><p>27 rows × 8 columns (omitted printing of 3 columns)</p><tr><th>1</th><td>id</td><td>1404.17</td><td>1</td><td>1404.5</td><td>2807</td></tr><tr><th>2</th><td>senator_party</td><td></td><td>Democrat</td><td></td><td>Republican</td></tr><tr><th>3</th><td>condition</td><td>2.00641</td><td>1</td><td>2.0</td><td>3</td></tr><tr><th>4</th><td>pid7</td><td></td><td>Independent</td><td></td><td>Strong Republican</td></tr><tr><th>5</th><td>pre_sexism_1</td><td></td><td>Agree somewhat</td><td></td><td>Neither disagree nor agree</td></tr><tr><th>6</th><td>pre_sexism_2</td><td></td><td>Agree somewhat</td><td></td><td>Neither disagree nor agree</td></tr><tr><th>7</th><td>pre_sexism_3</td><td></td><td>Agree somewhat</td><td></td><td>Neither disagree nor agree</td></tr><tr><th>8</th><td>pre_sexism_4</td><td></td><td>Agree somewhat</td><td></td><td>Neither disagree nor agree</td></tr><tr><th>9</th><td>pre_favorability</td><td>6.93158</td><td>0</td><td>7.0</td><td>10</td></tr><tr><th>10</th><td>pre_vote</td><td>5.98824</td><td>0</td><td>6.0</td><td>10</td></tr><tr><th>11</th><td>gender</td><td></td><td>Man</td><td></td><td>Woman</td></tr><tr><th>12</th><td>age</td><td></td><td>18-24</td><td></td><td>65 or over</td></tr><tr><th>13</th><td>newsinterest</td><td></td><td>Don't know</td><td></td><td>Some of the time</td></tr><tr><th>14</th><td>post_favorability</td><td>5.60763</td><td>0</td><td>6.0</td><td>10</td></tr><tr><th>15</th><td>post_vote</td><td>5.00499</td><td>0</td><td>5.0</td><td>10</td></tr><tr><th>16</th><td>punishment_1</td><td></td><td>Agree somewhat</td><td></td><td>Neither disagree nor agree</td></tr><tr><th>17</th><td>punishment_2</td><td></td><td>Agree somewhat</td><td></td><td>Neither disagree nor agree</td></tr><tr><th>18</th><td>punishment_3</td><td></td><td>Agree somewhat</td><td></td><td>Neither disagree nor agree</td></tr><tr><th>19</th><td>punishment_4</td><td></td><td>Agree somewhat</td><td></td><td>Neither disagree nor agree</td></tr><tr><th>20</th><td>punishment_5</td><td></td><td>Agree somewhat</td><td></td><td>Neither disagree nor agree</td></tr><tr><th>21</th><td>post_sexism_1</td><td></td><td>Agree somewhat</td><td></td><td>Neither disagree nor agree</td></tr><tr><th>22</th><td>post_sexism_2</td><td></td><td>Agree somewhat</td><td></td><td>Neither disagree nor agree</td></tr><tr><th>23</th><td>post_sexism_3</td><td></td><td>Agree somewhat</td><td></td><td>Neither disagree nor agree</td></tr><tr><th>24</th><td>post_sexism_4</td><td></td><td>Agree somewhat</td><td></td><td>Neither disagree nor agree</td></tr><tr><th>25</th><td>condition2</td><td></td><td>Control</td><td></td><td>Assault</td></tr><tr><th>26</th><td>pid3</td><td></td><td>Democrat</td><td></td><td>Republican</td></tr><tr><th>27</th><td>needmoreevidence</td><td>0.0</td><td>0</td><td>0.0</td><td>0</td></tr></tbody></table>"
      ],
      "text/latex": [
       "\\begin{tabular}{r|cccccc}\n",
       "\t& variable & mean & min & median & max & \\\\\n",
       "\t\\hline\n",
       "\t& Symbol & Union… & Any & Union… & Any & \\\\\n",
       "\t\\hline\n",
       "\t1 & id & 1404.17 & 1 & 1404.5 & 2807 & $\\dots$ \\\\\n",
       "\t2 & senator\\_party &  & Democrat &  & Republican & $\\dots$ \\\\\n",
       "\t3 & condition & 2.00641 & 1 & 2.0 & 3 & $\\dots$ \\\\\n",
       "\t4 & pid7 &  & Independent &  & Strong Republican & $\\dots$ \\\\\n",
       "\t5 & pre\\_sexism\\_1 &  & Agree somewhat &  & Neither disagree nor agree & $\\dots$ \\\\\n",
       "\t6 & pre\\_sexism\\_2 &  & Agree somewhat &  & Neither disagree nor agree & $\\dots$ \\\\\n",
       "\t7 & pre\\_sexism\\_3 &  & Agree somewhat &  & Neither disagree nor agree & $\\dots$ \\\\\n",
       "\t8 & pre\\_sexism\\_4 &  & Agree somewhat &  & Neither disagree nor agree & $\\dots$ \\\\\n",
       "\t9 & pre\\_favorability & 6.93158 & 0 & 7.0 & 10 & $\\dots$ \\\\\n",
       "\t10 & pre\\_vote & 5.98824 & 0 & 6.0 & 10 & $\\dots$ \\\\\n",
       "\t11 & gender &  & Man &  & Woman & $\\dots$ \\\\\n",
       "\t12 & age &  & 18-24 &  & 65 or over & $\\dots$ \\\\\n",
       "\t13 & newsinterest &  & Don't know &  & Some of the time & $\\dots$ \\\\\n",
       "\t14 & post\\_favorability & 5.60763 & 0 & 6.0 & 10 & $\\dots$ \\\\\n",
       "\t15 & post\\_vote & 5.00499 & 0 & 5.0 & 10 & $\\dots$ \\\\\n",
       "\t16 & punishment\\_1 &  & Agree somewhat &  & Neither disagree nor agree & $\\dots$ \\\\\n",
       "\t17 & punishment\\_2 &  & Agree somewhat &  & Neither disagree nor agree & $\\dots$ \\\\\n",
       "\t18 & punishment\\_3 &  & Agree somewhat &  & Neither disagree nor agree & $\\dots$ \\\\\n",
       "\t19 & punishment\\_4 &  & Agree somewhat &  & Neither disagree nor agree & $\\dots$ \\\\\n",
       "\t20 & punishment\\_5 &  & Agree somewhat &  & Neither disagree nor agree & $\\dots$ \\\\\n",
       "\t21 & post\\_sexism\\_1 &  & Agree somewhat &  & Neither disagree nor agree & $\\dots$ \\\\\n",
       "\t22 & post\\_sexism\\_2 &  & Agree somewhat &  & Neither disagree nor agree & $\\dots$ \\\\\n",
       "\t23 & post\\_sexism\\_3 &  & Agree somewhat &  & Neither disagree nor agree & $\\dots$ \\\\\n",
       "\t24 & post\\_sexism\\_4 &  & Agree somewhat &  & Neither disagree nor agree & $\\dots$ \\\\\n",
       "\t25 & condition2 &  & Control &  & Assault & $\\dots$ \\\\\n",
       "\t26 & pid3 &  & Democrat &  & Republican & $\\dots$ \\\\\n",
       "\t27 & needmoreevidence & 0.0 & 0 & 0.0 & 0 & $\\dots$ \\\\\n",
       "\\end{tabular}\n"
      ],
      "text/plain": [
       "27×8 DataFrame. Omitted printing of 4 columns\n",
       "│ Row │ variable         │ mean    │ min            │ median │\n",
       "│     │ \u001b[90mSymbol\u001b[39m           │ \u001b[90mUnion…\u001b[39m  │ \u001b[90mAny\u001b[39m            │ \u001b[90mUnion…\u001b[39m │\n",
       "├─────┼──────────────────┼─────────┼────────────────┼────────┤\n",
       "│ 1   │ id               │ 1404.17 │ 1              │ 1404.5 │\n",
       "│ 2   │ senator_party    │         │ Democrat       │        │\n",
       "│ 3   │ condition        │ 2.00641 │ 1              │ 2.0    │\n",
       "│ 4   │ pid7             │         │ Independent    │        │\n",
       "│ 5   │ pre_sexism_1     │         │ Agree somewhat │        │\n",
       "│ 6   │ pre_sexism_2     │         │ Agree somewhat │        │\n",
       "│ 7   │ pre_sexism_3     │         │ Agree somewhat │        │\n",
       "│ 8   │ pre_sexism_4     │         │ Agree somewhat │        │\n",
       "│ 9   │ pre_favorability │ 6.93158 │ 0              │ 7.0    │\n",
       "│ 10  │ pre_vote         │ 5.98824 │ 0              │ 6.0    │\n",
       "⋮\n",
       "│ 17  │ punishment_2     │         │ Agree somewhat │        │\n",
       "│ 18  │ punishment_3     │         │ Agree somewhat │        │\n",
       "│ 19  │ punishment_4     │         │ Agree somewhat │        │\n",
       "│ 20  │ punishment_5     │         │ Agree somewhat │        │\n",
       "│ 21  │ post_sexism_1    │         │ Agree somewhat │        │\n",
       "│ 22  │ post_sexism_2    │         │ Agree somewhat │        │\n",
       "│ 23  │ post_sexism_3    │         │ Agree somewhat │        │\n",
       "│ 24  │ post_sexism_4    │         │ Agree somewhat │        │\n",
       "│ 25  │ condition2       │         │ Control        │        │\n",
       "│ 26  │ pid3             │         │ Democrat       │        │\n",
       "│ 27  │ needmoreevidence │ 0.0     │ 0              │ 0.0    │"
      ]
     },
     "execution_count": 53,
     "metadata": {},
     "output_type": "execute_result"
    }
   ],
   "source": [
    "describe(df1)"
   ]
  },
  {
   "cell_type": "code",
   "execution_count": 17,
   "metadata": {},
   "outputs": [
    {
     "data": {
      "text/plain": [
       "6-element Named Array{Int64,1}\n",
       "Dim1                       │ \n",
       "───────────────────────────┼────\n",
       "Agree somewhat             │ 560\n",
       "Agree strongly             │ 329\n",
       "Disagree somewhat          │ 415\n",
       "Disagree strongly          │ 276\n",
       "Neither disagree nor agree │ 290\n",
       "missing                    │ 936"
      ]
     },
     "execution_count": 17,
     "metadata": {},
     "output_type": "execute_result"
    }
   ],
   "source": [
    "# recode: punishment \n",
    "\n",
    "# punishment 1\n",
    "freqtable(df1.punishment_1)"
   ]
  },
  {
   "cell_type": "code",
   "execution_count": 18,
   "metadata": {},
   "outputs": [
    {
     "data": {
      "text/plain": [
       "Missings.EachReplaceMissing{PooledArrays.PooledArray{Union{Missing, String},UInt32,1,Array{UInt32,1}},String}(Union{Missing, String}[\"Neither disagree nor agree\", \"Disagree somewhat\", \"Disagree strongly\", \"Neither disagree nor agree\", missing, \"Disagree somewhat\", missing, missing, \"Agree somewhat\", missing  …  \"Agree strongly\", missing, \"Disagree strongly\", missing, \"Disagree somewhat\", \"Agree strongly\", \"Agree strongly\", \"Neither disagree nor agree\", missing, \"Neither disagree nor agree\"], \"\")"
      ]
     },
     "execution_count": 18,
     "metadata": {},
     "output_type": "execute_result"
    }
   ],
   "source": [
    "# var contains 'missing', which will not process in ==/> kind of functions, so need to recode missing first as \"\"\n",
    "df1.punishment_1b = df1.punishment_1\n",
    "df1.punishment_1b = Missings.replace(df1.punishment_1b, \"\")"
   ]
  },
  {
   "cell_type": "code",
   "execution_count": 19,
   "metadata": {},
   "outputs": [
    {
     "data": {
      "text/plain": [
       "6×6 Named Array{Int64,2}\n",
       "Dim1 ╲ Dim2 │             Agree somewhat  …                     missing\n",
       "────────────┼──────────────────────────────────────────────────────────\n",
       "1           │                          0  …                           0\n",
       "2           │                          0                              0\n",
       "3           │                          0                              0\n",
       "4           │                        560                              0\n",
       "5           │                          0                              0\n",
       "missing     │                          0  …                         936"
      ]
     },
     "execution_count": 19,
     "metadata": {},
     "output_type": "execute_result"
    }
   ],
   "source": [
    "# recode: punishment \n",
    "\n",
    "# punishment 1\n",
    "df1.needmoreevidence = 999\n",
    "df1[(df1[:punishment_1b] .== \"Agree strongly\"),:needmoreevidence]=5\n",
    "df1[(df1[:punishment_1b] .== \"Agree somewhat\"),:needmoreevidence]=4\n",
    "df1[(df1[:punishment_1b] .== \"Neither disagree nor agree\"),:needmoreevidence]=3\n",
    "df1[(df1[:punishment_1b] .== \"Disagree somewhat\"),:needmoreevidence]=2\n",
    "df1[(df1[:punishment_1b] .== \"Disagree strongly\"),:needmoreevidence]=1\n",
    "\n",
    "# now recode 999 as missing so future fxn will skip over\n",
    "df1[:needmoreevidence] = recode(df1[:needmoreevidence], 999=>missing)\n",
    "\n",
    "freqtable(df1.needmoreevidence, df1.punishment_1)"
   ]
  },
  {
   "cell_type": "code",
   "execution_count": 93,
   "metadata": {},
   "outputs": [
    {
     "data": {
      "text/plain": [
       "6-element Named Array{Int64,1}\n",
       "Dim1                       │ \n",
       "───────────────────────────┼────\n",
       "Agree somewhat             │ 352\n",
       "Agree strongly             │ 258\n",
       "Disagree somewhat          │ 360\n",
       "Disagree strongly          │ 342\n",
       "Neither disagree nor agree │ 558\n",
       "missing                    │ 936"
      ]
     },
     "execution_count": 93,
     "metadata": {},
     "output_type": "execute_result"
    }
   ],
   "source": [
    "# punishment 2 (to 'apology')\n",
    "freqtable(df1.punishment_2)"
   ]
  },
  {
   "cell_type": "code",
   "execution_count": 20,
   "metadata": {},
   "outputs": [
    {
     "data": {
      "text/plain": [
       "6×6 Named Array{Int64,2}\n",
       "Dim1 ╲ Dim2 │             Agree somewhat  …                     missing\n",
       "────────────┼──────────────────────────────────────────────────────────\n",
       "1           │                          0  …                           0\n",
       "2           │                          0                              0\n",
       "3           │                          0                              0\n",
       "4           │                        352                              0\n",
       "5           │                          0                              0\n",
       "missing     │                          0  …                         936"
      ]
     },
     "execution_count": 20,
     "metadata": {},
     "output_type": "execute_result"
    }
   ],
   "source": [
    "# var contains 'missing', which will not process in ==/> kind of functions, so need to recode missing first as \"\"\n",
    "df1.punishment_2b = df1.punishment_2\n",
    "df1.punishment_2b = Missings.replace(df1.punishment_2b, \"\")\n",
    "\n",
    "df1.apology = 999\n",
    "df1[(df1[:punishment_2b] .== \"Agree strongly\"),:apology]=5\n",
    "df1[(df1[:punishment_2b] .== \"Agree somewhat\"),:apology]=4\n",
    "df1[(df1[:punishment_2b] .== \"Neither disagree nor agree\"),:apology]=3\n",
    "df1[(df1[:punishment_2b] .== \"Disagree somewhat\"),:apology]=2\n",
    "df1[(df1[:punishment_2b] .== \"Disagree strongly\"),:apology]=1\n",
    "\n",
    "# recode 999 as missing\n",
    "df1[:apology] = recode(df1[:apology], 999=>missing)\n",
    "freqtable(df1.apology, df1.punishment_2)"
   ]
  },
  {
   "cell_type": "code",
   "execution_count": 95,
   "metadata": {},
   "outputs": [
    {
     "data": {
      "text/plain": [
       "6-element Named Array{Int64,1}\n",
       "Dim1                       │ \n",
       "───────────────────────────┼────\n",
       "Agree somewhat             │ 395\n",
       "Agree strongly             │ 243\n",
       "Disagree somewhat          │ 372\n",
       "Disagree strongly          │ 570\n",
       "Neither disagree nor agree │ 290\n",
       "missing                    │ 936"
      ]
     },
     "execution_count": 95,
     "metadata": {},
     "output_type": "execute_result"
    }
   ],
   "source": [
    "# punishment 3 (to 'longtimeago')\n",
    "freqtable(df1.punishment_3)"
   ]
  },
  {
   "cell_type": "code",
   "execution_count": 21,
   "metadata": {},
   "outputs": [
    {
     "data": {
      "text/plain": [
       "6×6 Named Array{Int64,2}\n",
       "Dim1 ╲ Dim2 │             Agree somewhat  …                     missing\n",
       "────────────┼──────────────────────────────────────────────────────────\n",
       "1           │                          0  …                           0\n",
       "2           │                          0                              0\n",
       "3           │                          0                              0\n",
       "4           │                        395                              0\n",
       "5           │                          0                              0\n",
       "missing     │                          0  …                         936"
      ]
     },
     "execution_count": 21,
     "metadata": {},
     "output_type": "execute_result"
    }
   ],
   "source": [
    "# var contains 'missing', which will not process in ==/> kind of functions, so need to recode missing first as \"\"\n",
    "df1.punishment_3b = df1.punishment_3\n",
    "df1.punishment_3b = Missings.replace(df1.punishment_3b, \"\")\n",
    "\n",
    "df1.longtimeago = 999\n",
    "df1[(df1[:punishment_3b] .== \"Agree strongly\"),:longtimeago]=5\n",
    "df1[(df1[:punishment_3b] .== \"Agree somewhat\"),:longtimeago]=4\n",
    "df1[(df1[:punishment_3b] .== \"Neither disagree nor agree\"),:longtimeago]=3\n",
    "df1[(df1[:punishment_3b] .== \"Disagree somewhat\"),:longtimeago]=2\n",
    "df1[(df1[:punishment_3b] .== \"Disagree strongly\"),:longtimeago]=1\n",
    "\n",
    "# recode 999 as missing\n",
    "df1[:longtimeago] = recode(df1[:longtimeago], 999=>missing)\n",
    "freqtable(df1.longtimeago, df1.punishment_3)"
   ]
  },
  {
   "cell_type": "code",
   "execution_count": 97,
   "metadata": {},
   "outputs": [
    {
     "data": {
      "text/plain": [
       "6-element Named Array{Int64,1}\n",
       "Dim1                       │ \n",
       "───────────────────────────┼────\n",
       "Agree somewhat             │ 219\n",
       "Agree strongly             │ 172\n",
       "Disagree somewhat          │ 393\n",
       "Disagree strongly          │ 679\n",
       "Neither disagree nor agree │ 407\n",
       "missing                    │ 936"
      ]
     },
     "execution_count": 97,
     "metadata": {},
     "output_type": "execute_result"
    }
   ],
   "source": [
    "# punishment 4 (to 'resign')\n",
    "freqtable(df1.punishment_4)"
   ]
  },
  {
   "cell_type": "code",
   "execution_count": 22,
   "metadata": {},
   "outputs": [
    {
     "data": {
      "text/plain": [
       "6×6 Named Array{Int64,2}\n",
       "Dim1 ╲ Dim2 │             Agree somewhat  …                     missing\n",
       "────────────┼──────────────────────────────────────────────────────────\n",
       "1           │                          0  …                           0\n",
       "2           │                          0                              0\n",
       "3           │                          0                              0\n",
       "4           │                        219                              0\n",
       "5           │                          0                              0\n",
       "missing     │                          0  …                         936"
      ]
     },
     "execution_count": 22,
     "metadata": {},
     "output_type": "execute_result"
    }
   ],
   "source": [
    "# var contains 'missing', which will not process in ==/> kind of functions, so need to recode missing first as \"\"\n",
    "df1.punishment_4b = df1.punishment_4\n",
    "df1.punishment_4b = Missings.replace(df1.punishment_4b, \"\")\n",
    "\n",
    "df1.resign = 999\n",
    "df1[(df1[:punishment_4b] .== \"Agree strongly\"),:resign]=5\n",
    "df1[(df1[:punishment_4b] .== \"Agree somewhat\"),:resign]=4\n",
    "df1[(df1[:punishment_4b] .== \"Neither disagree nor agree\"),:resign]=3\n",
    "df1[(df1[:punishment_4b] .== \"Disagree somewhat\"),:resign]=2\n",
    "df1[(df1[:punishment_4b] .== \"Disagree strongly\"),:resign]=1\n",
    "\n",
    "# recode 999 as missing\n",
    "df1[:resign] = recode(df1[:resign], 999=>missing)\n",
    "freqtable(df1.resign, df1.punishment_4)"
   ]
  },
  {
   "cell_type": "code",
   "execution_count": 99,
   "metadata": {},
   "outputs": [
    {
     "data": {
      "text/plain": [
       "6-element Named Array{Int64,1}\n",
       "Dim1                       │ \n",
       "───────────────────────────┼────\n",
       "Agree somewhat             │ 360\n",
       "Agree strongly             │ 170\n",
       "Disagree somewhat          │ 360\n",
       "Disagree strongly          │ 385\n",
       "Neither disagree nor agree │ 595\n",
       "missing                    │ 936"
      ]
     },
     "execution_count": 99,
     "metadata": {},
     "output_type": "execute_result"
    }
   ],
   "source": [
    "# punishment 5 (to 'elitecues')\n",
    "freqtable(df1.punishment_5)"
   ]
  },
  {
   "cell_type": "code",
   "execution_count": 23,
   "metadata": {},
   "outputs": [
    {
     "data": {
      "text/plain": [
       "6×6 Named Array{Int64,2}\n",
       "Dim1 ╲ Dim2 │             Agree somewhat  …                     missing\n",
       "────────────┼──────────────────────────────────────────────────────────\n",
       "1           │                          0  …                           0\n",
       "2           │                          0                              0\n",
       "3           │                          0                              0\n",
       "4           │                        360                              0\n",
       "5           │                          0                              0\n",
       "missing     │                          0  …                         936"
      ]
     },
     "execution_count": 23,
     "metadata": {},
     "output_type": "execute_result"
    }
   ],
   "source": [
    "# var contains 'missing', which will not process in ==/> kind of functions, so need to recode missing first as \"\"\n",
    "df1.punishment_5b = df1.punishment_5\n",
    "df1.punishment_5b = Missings.replace(df1.punishment_5b, \"\")\n",
    "\n",
    "df1.elitecues = 999\n",
    "df1[(df1[:punishment_5b] .== \"Agree strongly\"),:elitecues]=5\n",
    "df1[(df1[:punishment_5b] .== \"Agree somewhat\"),:elitecues]=4\n",
    "df1[(df1[:punishment_5b] .== \"Neither disagree nor agree\"),:elitecues]=3\n",
    "df1[(df1[:punishment_5b] .== \"Disagree somewhat\"),:elitecues]=2\n",
    "df1[(df1[:punishment_5b] .== \"Disagree strongly\"),:elitecues]=1\n",
    "\n",
    "# recode 999 as missing\n",
    "df1[:elitecues] = recode(df1[:elitecues], 999=>missing)\n",
    "freqtable(df1.elitecues, df1.punishment_5)"
   ]
  },
  {
   "cell_type": "code",
   "execution_count": 24,
   "metadata": {},
   "outputs": [
    {
     "data": {
      "text/plain": [
       "6×6 Named Array{Int64,2}\n",
       "Dim1 ╲ Dim2 │             Agree somewhat  …                     missing\n",
       "────────────┼──────────────────────────────────────────────────────────\n",
       "1           │                          0  …                           0\n",
       "2           │                        560                              0\n",
       "3           │                          0                              0\n",
       "4           │                          0                              0\n",
       "5           │                          0                              0\n",
       "missing     │                          0  …                         936"
      ]
     },
     "execution_count": 24,
     "metadata": {},
     "output_type": "execute_result"
    }
   ],
   "source": [
    "#############################\n",
    "# recode punishment: reverse codes\n",
    "#############################\n",
    "\n",
    "# need more evidence\n",
    "df1.needmoreevidence_reverse = 999\n",
    "df1[(df1[:punishment_1b] .== \"Agree strongly\"),:needmoreevidence_reverse]=1\n",
    "df1[(df1[:punishment_1b] .== \"Agree somewhat\"),:needmoreevidence_reverse]=2\n",
    "df1[(df1[:punishment_1b] .== \"Neither disagree nor agree\"),:needmoreevidence_reverse]=3\n",
    "df1[(df1[:punishment_1b] .== \"Disagree somewhat\"),:needmoreevidence_reverse]=4\n",
    "df1[(df1[:punishment_1b] .== \"Disagree strongly\"),:needmoreevidence_reverse]=5\n",
    "\n",
    "# now recode 999 as missing so future fxn will skip over\n",
    "df1[:needmoreevidence_reverse] = recode(df1[:needmoreevidence_reverse], 999=>missing)\n",
    "\n",
    "freqtable(df1.needmoreevidence_reverse, df1.punishment_1)"
   ]
  },
  {
   "cell_type": "code",
   "execution_count": 25,
   "metadata": {},
   "outputs": [
    {
     "data": {
      "text/plain": [
       "6×6 Named Array{Int64,2}\n",
       "Dim1 ╲ Dim2 │             Agree somewhat  …                     missing\n",
       "────────────┼──────────────────────────────────────────────────────────\n",
       "1           │                          0  …                           0\n",
       "2           │                        395                              0\n",
       "3           │                          0                              0\n",
       "4           │                          0                              0\n",
       "5           │                          0                              0\n",
       "missing     │                          0  …                         936"
      ]
     },
     "execution_count": 25,
     "metadata": {},
     "output_type": "execute_result"
    }
   ],
   "source": [
    "# long time ago\n",
    "df1.longtimeago_reverse = 999\n",
    "df1[(df1[:punishment_3b] .== \"Agree strongly\"),:longtimeago_reverse]=1\n",
    "df1[(df1[:punishment_3b] .== \"Agree somewhat\"),:longtimeago_reverse]=2\n",
    "df1[(df1[:punishment_3b] .== \"Neither disagree nor agree\"),:longtimeago_reverse]=3\n",
    "df1[(df1[:punishment_3b] .== \"Disagree somewhat\"),:longtimeago_reverse]=4\n",
    "df1[(df1[:punishment_3b] .== \"Disagree strongly\"),:longtimeago_reverse]=5\n",
    "\n",
    "# recode 999 as missing\n",
    "df1[:longtimeago_reverse] = recode(df1[:longtimeago_reverse], 999=>missing)\n",
    "freqtable(df1.longtimeago_reverse, df1.punishment_3)"
   ]
  },
  {
   "cell_type": "code",
   "execution_count": 26,
   "metadata": {},
   "outputs": [
    {
     "data": {
      "text/plain": [
       "2806-element Array{Union{Missing, Float64},1}:\n",
       " 3.25\n",
       " 3.75\n",
       " 5.0\n",
       " 3.0\n",
       "  missing\n",
       " 3.5\n",
       "  missing\n",
       "  missing\n",
       " 2.25\n",
       "  missing\n",
       "  missing\n",
       " 3.75\n",
       " 3.25\n",
       " ⋮\n",
       " 1.75\n",
       " 3.5\n",
       " 1.5\n",
       "  missing\n",
       " 5.0\n",
       "  missing\n",
       " 3.25\n",
       " 2.0\n",
       " 1.0\n",
       " 3.5\n",
       "  missing\n",
       " 3.0"
      ]
     },
     "execution_count": 26,
     "metadata": {},
     "output_type": "execute_result"
    }
   ],
   "source": [
    "# new variable: mean punitiveness score ####\n",
    "df1[:meanpunishment] = ((df1[:apology]+df1[:resign]+df1[:needmoreevidence_reverse]+df1[:longtimeago_reverse])/4)"
   ]
  },
  {
   "cell_type": "code",
   "execution_count": 28,
   "metadata": {},
   "outputs": [
    {
     "name": "stdout",
     "output_type": "stream",
     "text": [
      "Summary Stats:\n",
      "Length:         2806\n",
      "Missing Count:  936\n",
      "Mean:           2.868449\n",
      "Minimum:        1.000000\n",
      "1st Quartile:   2.000000\n",
      "Median:         3.000000\n",
      "3rd Quartile:   3.500000\n",
      "Maximum:        5.000000\n",
      "Type:           Union{Missing, Float64}\n"
     ]
    }
   ],
   "source": [
    "describe(df1.meanpunishment)"
   ]
  },
  {
   "cell_type": "code",
   "execution_count": 29,
   "metadata": {},
   "outputs": [
    {
     "data": {
      "text/plain": [
       "2×2 Named Array{Int64,2}\n",
       "Dim1 ╲ Dim2 │   Democrat  Republican\n",
       "────────────┼───────────────────────\n",
       "Democrat    │       1407           0\n",
       "Republican  │          0        1399"
      ]
     },
     "execution_count": 29,
     "metadata": {},
     "output_type": "execute_result"
    }
   ],
   "source": [
    "## new variable: same party as legislator####\n",
    "freqtable(df1.senator_party, df1.senator_party)"
   ]
  },
  {
   "cell_type": "code",
   "execution_count": 59,
   "metadata": {},
   "outputs": [
    {
     "data": {
      "text/plain": [
       "2806-element CategoricalArray{String,1,UInt32}:\n",
       " \"Opposite party\"\n",
       " \"Opposite party\"\n",
       " \"Opposite party\"\n",
       " \"Independents/Not sures\"\n",
       " \"Same party\"\n",
       " \"Same party\"\n",
       " \"Opposite party\"\n",
       " \"Same party\"\n",
       " \"Same party\"\n",
       " \"Same party\"\n",
       " \"Opposite party\"\n",
       " \"Opposite party\"\n",
       " \"Independents/Not sures\"\n",
       " ⋮\n",
       " \"Independents/Not sures\"\n",
       " \"Opposite party\"\n",
       " \"Same party\"\n",
       " \"Independents/Not sures\"\n",
       " \"Same party\"\n",
       " \"Opposite party\"\n",
       " \"Same party\"\n",
       " \"Opposite party\"\n",
       " \"Same party\"\n",
       " \"Opposite party\"\n",
       " \"Opposite party\"\n",
       " \"Same party\""
      ]
     },
     "execution_count": 59,
     "metadata": {},
     "output_type": "execute_result"
    }
   ],
   "source": [
    "df1.sameparty = \"\"\n",
    "df1[( (df1[:pid3] .== \"Democrat\") .& (df1[:senator_party] .== \"Democrat\") ) .|\n",
    "    ( (df1[:pid3] .== \"Republican\") .& (df1[:senator_party] .== \"Republican\") ),:sameparty] =\"Same party\"\n",
    "\n",
    "df1[( (df1[:pid3] .== \"Democrat\") .& (df1[:senator_party] .== \"Republican\") ) .|\n",
    "    ( (df1[:pid3] .== \"Republican\") .& (df1[:senator_party] .== \"Democrat\") ),:sameparty] =\"Opposite party\"\n",
    "\n",
    "df1[(df1[:pid3] .== \"Independent\"),:sameparty] = \"Independents/Not sures\" \n",
    "\n",
    "#make categorical\n",
    "df1[:sameparty] = CategoricalArray(df1[:sameparty])"
   ]
  },
  {
   "cell_type": "code",
   "execution_count": 60,
   "metadata": {},
   "outputs": [
    {
     "data": {
      "text/plain": [
       "3-element Named Array{Int64,1}\n",
       "Dim1                                                     │ \n",
       "─────────────────────────────────────────────────────────┼─────\n",
       "CategoricalValue{String,UInt32} \"Independents/Not sures\" │  654\n",
       "CategoricalValue{String,UInt32} \"Opposite party\"         │ 1088\n",
       "CategoricalValue{String,UInt32} \"Same party\"             │ 1064"
      ]
     },
     "execution_count": 60,
     "metadata": {},
     "output_type": "execute_result"
    }
   ],
   "source": [
    "freqtable(df1.sameparty)"
   ]
  },
  {
   "cell_type": "code",
   "execution_count": 83,
   "metadata": {},
   "outputs": [
    {
     "data": {
      "text/plain": [
       "5-element Named Array{Int64,1}\n",
       "Dim1  │ \n",
       "──────┼────\n",
       "1     │ 905\n",
       "2     │ 793\n",
       "3     │ 459\n",
       "4     │ 493\n",
       "5     │ 156"
      ]
     },
     "execution_count": 83,
     "metadata": {},
     "output_type": "execute_result"
    }
   ],
   "source": [
    "# recode: pre sexism ####\n",
    "# sexism_1,2,4 reverse coded\n",
    "# see original R code from authors\n",
    "\n",
    "# tried using recode and dictionaries, but could not get it to work\n",
    "# instead, generated simple numeric based on values of pre_sexism_#\n",
    "\n",
    "#df1.pre_sexism_1new = recode(df1.pre_sexism_1, \n",
    "#    5=>\"Agree strongly\",\n",
    "#    4=>\"Agree somewhat\",\n",
    "#    3=>\"Neither disagree nor agree\",\n",
    "#    2=>\"Disagree somewhat\",\n",
    "#    1=>\"Disagree strongly\")\n",
    "\n",
    "# alt: could use dictionary: A = Categorical([1 2;2 1;2 2;1 1], Dict(1=>\"male\", 2=>\"female\"))\n",
    "\n",
    "df1.pre_sexism_1new = 999\n",
    "df1[ (df1[:pre_sexism_1] .== \"Agree strongly\"),:pre_sexism_1new] =5\n",
    "df1[ (df1[:pre_sexism_1] .== \"Agree somewhat\"),:pre_sexism_1new] =4\n",
    "df1[ (df1[:pre_sexism_1] .== \"Neither disagree nor agree\"),:pre_sexism_1new] =3\n",
    "df1[ (df1[:pre_sexism_1] .== \"Disagree somewhat\"),:pre_sexism_1new] =2\n",
    "df1[ (df1[:pre_sexism_1] .== \"Disagree strongly\"),:pre_sexism_1new] =1\n",
    "freqtable(df1.pre_sexism_1new)"
   ]
  },
  {
   "cell_type": "code",
   "execution_count": 85,
   "metadata": {},
   "outputs": [
    {
     "data": {
      "text/plain": [
       "5-element Named Array{Int64,1}\n",
       "Dim1  │ \n",
       "──────┼────\n",
       "1     │ 919\n",
       "2     │ 661\n",
       "3     │ 437\n",
       "4     │ 556\n",
       "5     │ 233"
      ]
     },
     "execution_count": 85,
     "metadata": {},
     "output_type": "execute_result"
    }
   ],
   "source": [
    "df1.pre_sexism_2new = 999\n",
    "df1[ (df1[:pre_sexism_2] .== \"Agree strongly\"),:pre_sexism_2new] =5\n",
    "df1[ (df1[:pre_sexism_2] .== \"Agree somewhat\"),:pre_sexism_2new] =4\n",
    "df1[ (df1[:pre_sexism_2] .== \"Neither disagree nor agree\"),:pre_sexism_2new] =3\n",
    "df1[ (df1[:pre_sexism_2] .== \"Disagree somewhat\"),:pre_sexism_2new] =2\n",
    "df1[ (df1[:pre_sexism_2] .== \"Disagree strongly\"),:pre_sexism_2new] =1\n",
    "freqtable(df1.pre_sexism_2new)"
   ]
  },
  {
   "cell_type": "code",
   "execution_count": 86,
   "metadata": {},
   "outputs": [
    {
     "data": {
      "text/plain": [
       "5-element Named Array{Int64,1}\n",
       "Dim1  │ \n",
       "──────┼────\n",
       "1     │ 940\n",
       "2     │ 684\n",
       "3     │ 445\n",
       "4     │ 552\n",
       "5     │ 185"
      ]
     },
     "execution_count": 86,
     "metadata": {},
     "output_type": "execute_result"
    }
   ],
   "source": [
    "df1.pre_sexism_4new = 999\n",
    "df1[ (df1[:pre_sexism_4] .== \"Agree strongly\"),:pre_sexism_4new] =5\n",
    "df1[ (df1[:pre_sexism_4] .== \"Agree somewhat\"),:pre_sexism_4new] =4\n",
    "df1[ (df1[:pre_sexism_4] .== \"Neither disagree nor agree\"),:pre_sexism_4new] =3\n",
    "df1[ (df1[:pre_sexism_4] .== \"Disagree somewhat\"),:pre_sexism_4new] =2\n",
    "df1[ (df1[:pre_sexism_4] .== \"Disagree strongly\"),:pre_sexism_4new] =1\n",
    "freqtable(df1.pre_sexism_4new)"
   ]
  },
  {
   "cell_type": "code",
   "execution_count": 87,
   "metadata": {},
   "outputs": [
    {
     "data": {
      "text/plain": [
       "5-element Named Array{Int64,1}\n",
       "Dim1  │ \n",
       "──────┼────\n",
       "1     │ 925\n",
       "2     │ 825\n",
       "3     │ 504\n",
       "4     │ 339\n",
       "5     │ 213"
      ]
     },
     "execution_count": 87,
     "metadata": {},
     "output_type": "execute_result"
    }
   ],
   "source": [
    "df1.pre_sexism_3new = 999\n",
    "df1[ (df1[:pre_sexism_3] .== \"Agree strongly\"),:pre_sexism_3new] =1\n",
    "df1[ (df1[:pre_sexism_3] .== \"Agree somewhat\"),:pre_sexism_3new] =2\n",
    "df1[ (df1[:pre_sexism_3] .== \"Neither disagree nor agree\"),:pre_sexism_3new] =3\n",
    "df1[ (df1[:pre_sexism_3] .== \"Disagree somewhat\"),:pre_sexism_3new] =4\n",
    "df1[ (df1[:pre_sexism_3] .== \"Disagree strongly\"),:pre_sexism_3new] =5\n",
    "freqtable(df1.pre_sexism_3new)"
   ]
  },
  {
   "cell_type": "code",
   "execution_count": 88,
   "metadata": {},
   "outputs": [
    {
     "data": {
      "text/plain": [
       "2806-element Array{Float64,1}:\n",
       " 3.75\n",
       " 2.75\n",
       " 2.0\n",
       " 3.25\n",
       " 1.0\n",
       " 3.0\n",
       " 3.0\n",
       " 4.0\n",
       " 1.0\n",
       " 1.5\n",
       " 2.0\n",
       " 4.25\n",
       " 3.0\n",
       " ⋮\n",
       " 3.75\n",
       " 1.5\n",
       " 2.5\n",
       " 2.25\n",
       " 1.0\n",
       " 1.0\n",
       " 1.75\n",
       " 4.0\n",
       " 3.0\n",
       " 3.5\n",
       " 1.0\n",
       " 3.0"
      ]
     },
     "execution_count": 88,
     "metadata": {},
     "output_type": "execute_result"
    }
   ],
   "source": [
    "# new variable: pre_sexism ####\n",
    "df1[:pre_sexism] = ((df1[:pre_sexism_1new] + df1[:pre_sexism_2new] + df1[:pre_sexism_3new] + df1[:pre_sexism_4new])/4)"
   ]
  },
  {
   "cell_type": "code",
   "execution_count": null,
   "metadata": {},
   "outputs": [],
   "source": []
  },
  {
   "cell_type": "code",
   "execution_count": null,
   "metadata": {},
   "outputs": [],
   "source": []
  },
  {
   "cell_type": "code",
   "execution_count": null,
   "metadata": {},
   "outputs": [],
   "source": []
  },
  {
   "cell_type": "code",
   "execution_count": null,
   "metadata": {},
   "outputs": [],
   "source": []
  },
  {
   "cell_type": "code",
   "execution_count": null,
   "metadata": {},
   "outputs": [],
   "source": []
  },
  {
   "cell_type": "markdown",
   "metadata": {},
   "source": [
    "## T-tests"
   ]
  },
  {
   "cell_type": "code",
   "execution_count": null,
   "metadata": {},
   "outputs": [],
   "source": [
    "EqualVarianceTTest(df1[(df1[:condition2==\"Control\"]),:post_favorability], df1[(df1[:condition2==\"Assault\"]),:post_favorability])"
   ]
  },
  {
   "cell_type": "markdown",
   "metadata": {},
   "source": [
    "# Histogram of outcome of interest"
   ]
  },
  {
   "cell_type": "code",
   "execution_count": 42,
   "metadata": {},
   "outputs": [
    {
     "data": {
      "image/png": "[encoded data removed]",
      "text/plain": [
       "Figure(PyObject <Figure size 640x480 with 1 Axes>)"
      ]
     },
     "metadata": {},
     "output_type": "display_data"
    },
    {
     "data": {
      "text/plain": [
       "PyObject Text(0.5, 1.0, 'Histogram')"
      ]
     },
     "execution_count": 42,
     "metadata": {},
     "output_type": "execute_result"
    }
   ],
   "source": [
    "#ioff()\n",
    "h = plt[:hist](df1[:battledeadbest],10) # Histogram, PyPlot.plt required to differentiate with conflicting hist command\n",
    "\n",
    "grid(\"on\")\n",
    "xlabel(\"battledeadbst\")\n",
    "ylabel(\"freq\")\n",
    "title(\"Histogram\")\n",
    "\n",
    "#gcf() # Needed for IJulia to plot inline"
   ]
  },
  {
   "cell_type": "code",
   "execution_count": 43,
   "metadata": {},
   "outputs": [
    {
     "data": {
      "image/png": "[encoded data removed]",
      "text/plain": [
       "Figure(PyObject <Figure size 640x480 with 1 Axes>)"
      ]
     },
     "metadata": {},
     "output_type": "display_data"
    },
    {
     "data": {
      "text/plain": [
       "PyObject Text(0.5, 1.0, 'Histogram')"
      ]
     },
     "execution_count": 43,
     "metadata": {},
     "output_type": "execute_result"
    }
   ],
   "source": [
    "#ioff()\n",
    "h = plt[:hist](df1[:lnbdb],10) # Histogram, PyPlot.plt required to differentiate with conflicting hist command\n",
    "\n",
    "grid(\"on\")\n",
    "xlabel(\"lnbdb\")\n",
    "ylabel(\"freq\")\n",
    "title(\"Histogram\")\n",
    "#gcf()"
   ]
  },
  {
   "cell_type": "markdown",
   "metadata": {},
   "source": [
    "# Linear Regression"
   ]
  },
  {
   "cell_type": "markdown",
   "metadata": {},
   "source": [
    "## OLS estimation with StatsModels"
   ]
  },
  {
   "cell_type": "code",
   "execution_count": 21,
   "metadata": {},
   "outputs": [
    {
     "data": {
      "text/plain": [
       "StatsModels.DataFrameRegressionModel{LinearModel{LmResp{Array{Float64,1}},DensePredChol{Float64,LinearAlgebra.Cholesky{Float64,Array{Float64,2}}}},Array{Float64,2}}\n",
       "\n",
       "Formula: lnbdb ~ 1 + lnduration + lnpop + lnmilqual + lngdp + cw + lnmountain + democ + ethnicpolar + relpolar\n",
       "\n",
       "Coefficients:\n",
       "               Estimate Std.Error   t value Pr(>|t|)\n",
       "(Intercept)     9.54259   1.97523   4.83113    <1e-5\n",
       "lnduration     0.807215  0.119085   6.77849    <1e-8\n",
       "lnpop        -0.0444459 0.0806522 -0.551082   0.5829\n",
       "lnmilqual      0.100535  0.119599  0.840602   0.4027\n",
       "lngdp         -0.190762  0.175242  -1.08857   0.2791\n",
       "cw             0.666635  0.313273   2.12797   0.0359\n",
       "lnmountain     0.101181  0.119736  0.845036   0.4002\n",
       "democ         -0.870604  0.357806  -2.43317   0.0168\n",
       "ethnicpolar   -0.980459  0.338806  -2.89386   0.0047\n",
       "relpolar       0.118726  0.323089  0.367471   0.7141\n"
      ]
     },
     "execution_count": 21,
     "metadata": {},
     "output_type": "execute_result"
    }
   ],
   "source": [
    "# Figure 1\n",
    "# using StatsModels\n",
    "m1a = fit(LinearModel, @formula(perchange_favorability ~ condition2), samepartydat)\n",
    "m1b = fit(LinearModel, @formula(perchange_favorability ~ condition2), opppartydat)\n",
    "\n",
    "m1a"
   ]
  },
  {
   "cell_type": "code",
   "execution_count": 22,
   "metadata": {},
   "outputs": [
    {
     "data": {
      "text/plain": [
       "StatsModels.DataFrameRegressionModel{LinearModel{LmResp{Array{Float64,1}},DensePredChol{Float64,LinearAlgebra.Cholesky{Float64,Array{Float64,2}}}},Array{Float64,2}}\n",
       "\n",
       "Formula: lnbdb ~ 1 + lnduration + lnpop + lnmilqual + lngdp + cw + lnmountain + democ + ethnicpolar + relpolar\n",
       "\n",
       "Coefficients:\n",
       "               Estimate Std.Error   t value Pr(>|t|)\n",
       "(Intercept)     9.54259   1.97523   4.83113    <1e-5\n",
       "lnduration     0.807215  0.119085   6.77849    <1e-8\n",
       "lnpop        -0.0444459 0.0806522 -0.551082   0.5829\n",
       "lnmilqual      0.100535  0.119599  0.840602   0.4027\n",
       "lngdp         -0.190762  0.175242  -1.08857   0.2791\n",
       "cw             0.666635  0.313273   2.12797   0.0359\n",
       "lnmountain     0.101181  0.119736  0.845036   0.4002\n",
       "democ         -0.870604  0.357806  -2.43317   0.0168\n",
       "ethnicpolar   -0.980459  0.338806  -2.89386   0.0047\n",
       "relpolar       0.118726  0.323089  0.367471   0.7141\n"
      ]
     },
     "execution_count": 22,
     "metadata": {},
     "output_type": "execute_result"
    }
   ],
   "source": [
    "m1b"
   ]
  },
  {
   "cell_type": "code",
   "execution_count": 23,
   "metadata": {},
   "outputs": [],
   "source": [
    "# diagnostics"
   ]
  },
  {
   "cell_type": "code",
   "execution_count": 52,
   "metadata": {},
   "outputs": [
    {
     "name": "stdout",
     "output_type": "stream",
     "text": [
      "\u001b[32m\u001b[1m Resolving\u001b[22m\u001b[39m package versions...\n",
      "\u001b[32m\u001b[1m  Updating\u001b[22m\u001b[39m `~/.julia/environments/v1.0/Project.toml`\n",
      "\u001b[90m [no changes]\u001b[39m\n",
      "\u001b[32m\u001b[1m  Updating\u001b[22m\u001b[39m `~/.julia/environments/v1.0/Manifest.toml`\n",
      "\u001b[90m [no changes]\u001b[39m\n",
      "\u001b[32m\u001b[1m Resolving\u001b[22m\u001b[39m package versions...\n",
      "\u001b[32m\u001b[1m  Updating\u001b[22m\u001b[39m `~/.julia/environments/v1.0/Project.toml`\n",
      "\u001b[90m [no changes]\u001b[39m\n",
      "\u001b[32m\u001b[1m  Updating\u001b[22m\u001b[39m `~/.julia/environments/v1.0/Manifest.toml`\n",
      "\u001b[90m [no changes]\u001b[39m\n"
     ]
    }
   ],
   "source": [
    "Pkg.add(\"StatPlots\")\n",
    "Pkg.add(\"Plots\")"
   ]
  },
  {
   "cell_type": "code",
   "execution_count": 53,
   "metadata": {},
   "outputs": [],
   "source": [
    "using StatPlots, Plots"
   ]
  },
  {
   "cell_type": "code",
   "execution_count": 55,
   "metadata": {},
   "outputs": [
    {
     "data": {
      "image/svg+xml": [
       "<?xml version=\"1.0\" encoding=\"utf-8\"?>\n",
       "<svg xmlns=\"http://www.w3.org/2000/svg\" xmlns:xlink=\"http://www.w3.org/1999/xlink\" width=\"600\" height=\"400\" viewBox=\"0 0 2400 1600\">\n",
       "<defs>\n",
       "  <clipPath id=\"clip1400\">\n",
       "    <rect x=\"0\" y=\"0\" width=\"2000\" height=\"2000\"/>\n",
       "  </clipPath>\n",
       "</defs>\n",
       "<defs>\n",
       "  <clipPath id=\"clip1401\">\n",
       "    <rect x=\"0\" y=\"0\" width=\"2400\" height=\"1600\"/>\n",
       "  </clipPath>\n",
       "</defs>\n",
       "<polygon clip-path=\"url(#clip1401)\" points=\"\n",
       "0,1600 2400,1600 2400,0 0,0 \n",
       "  \" fill=\"#ffffff\" fill-rule=\"evenodd\" fill-opacity=\"1\"/>\n",
       "<defs>\n",
       "  <clipPath id=\"clip1402\">\n",
       "    <rect x=\"480\" y=\"0\" width=\"1681\" height=\"1600\"/>\n",
       "  </clipPath>\n",
       "</defs>\n",
       "<polygon clip-path=\"url(#clip1401)\" points=\"\n",
       "211.005,671.979 1179.52,671.979 1179.52,47.2441 211.005,47.2441 \n",
       "  \" fill=\"#ffffff\" fill-rule=\"evenodd\" fill-opacity=\"1\"/>\n",
       "<defs>\n",
       "  <clipPath id=\"clip1403\">\n",
       "    <rect x=\"211\" y=\"47\" width=\"970\" height=\"626\"/>\n",
       "  </clipPath>\n",
       "</defs>\n",
       "<polyline clip-path=\"url(#clip1401)\" style=\"stroke:#000000; stroke-width:4; stroke-opacity:0; fill:none\" points=\"\n",
       "  211.005,671.979 1179.52,671.979 \n",
       "  \"/>\n",
       "<polyline clip-path=\"url(#clip1401)\" style=\"stroke:#000000; stroke-width:4; stroke-opacity:0; fill:none\" points=\"\n",
       "  211.005,671.979 211.005,47.2441 \n",
       "  \"/>\n",
       "<polyline clip-path=\"url(#clip1401)\" style=\"stroke:#000000; stroke-width:4; stroke-opacity:1; fill:none\" points=\"\n",
       "  264.275,671.979 264.275,662.608 \n",
       "  \"/>\n",
       "<polyline clip-path=\"url(#clip1401)\" style=\"stroke:#000000; stroke-width:4; stroke-opacity:1; fill:none\" points=\"\n",
       "  455.825,671.979 455.825,662.608 \n",
       "  \"/>\n",
       "<polyline clip-path=\"url(#clip1401)\" style=\"stroke:#000000; stroke-width:4; stroke-opacity:1; fill:none\" points=\"\n",
       "  647.374,671.979 647.374,662.608 \n",
       "  \"/>\n",
       "<polyline clip-path=\"url(#clip1401)\" style=\"stroke:#000000; stroke-width:4; stroke-opacity:1; fill:none\" points=\"\n",
       "  838.924,671.979 838.924,662.608 \n",
       "  \"/>\n",
       "<polyline clip-path=\"url(#clip1401)\" style=\"stroke:#000000; stroke-width:4; stroke-opacity:1; fill:none\" points=\"\n",
       "  1030.47,671.979 1030.47,662.608 \n",
       "  \"/>\n",
       "<polyline clip-path=\"url(#clip1401)\" style=\"stroke:#000000; stroke-width:4; stroke-opacity:1; fill:none\" points=\"\n",
       "  211.005,654.297 225.533,654.297 \n",
       "  \"/>\n",
       "<polyline clip-path=\"url(#clip1401)\" style=\"stroke:#000000; stroke-width:4; stroke-opacity:1; fill:none\" points=\"\n",
       "  211.005,545.154 225.533,545.154 \n",
       "  \"/>\n",
       "<polyline clip-path=\"url(#clip1401)\" style=\"stroke:#000000; stroke-width:4; stroke-opacity:1; fill:none\" points=\"\n",
       "  211.005,436.011 225.533,436.011 \n",
       "  \"/>\n",
       "<polyline clip-path=\"url(#clip1401)\" style=\"stroke:#000000; stroke-width:4; stroke-opacity:1; fill:none\" points=\"\n",
       "  211.005,326.868 225.533,326.868 \n",
       "  \"/>\n",
       "<polyline clip-path=\"url(#clip1401)\" style=\"stroke:#000000; stroke-width:4; stroke-opacity:1; fill:none\" points=\"\n",
       "  211.005,217.725 225.533,217.725 \n",
       "  \"/>\n",
       "<polyline clip-path=\"url(#clip1401)\" style=\"stroke:#000000; stroke-width:4; stroke-opacity:1; fill:none\" points=\"\n",
       "  211.005,108.582 225.533,108.582 \n",
       "  \"/>\n",
       "<g clip-path=\"url(#clip1401)\">\n",
       "<text style=\"fill:#000000; fill-opacity:1; font-family:Arial,Helvetica Neue,Helvetica,sans-serif; font-size:48px; text-anchor:middle;\" transform=\"rotate(0, 264.275, 725.979)\" x=\"264.275\" y=\"725.979\"></text>\n",
       "</g>\n",
       "<g clip-path=\"url(#clip1401)\">\n",
       "<text style=\"fill:#000000; fill-opacity:1; font-family:Arial,Helvetica Neue,Helvetica,sans-serif; font-size:48px; text-anchor:middle;\" transform=\"rotate(0, 455.825, 725.979)\" x=\"455.825\" y=\"725.979\"></text>\n",
       "</g>\n",
       "<g clip-path=\"url(#clip1401)\">\n",
       "<text style=\"fill:#000000; fill-opacity:1; font-family:Arial,Helvetica Neue,Helvetica,sans-serif; font-size:48px; text-anchor:middle;\" transform=\"rotate(0, 647.374, 725.979)\" x=\"647.374\" y=\"725.979\"></text>\n",
       "</g>\n",
       "<g clip-path=\"url(#clip1401)\">\n",
       "<text style=\"fill:#000000; fill-opacity:1; font-family:Arial,Helvetica Neue,Helvetica,sans-serif; font-size:48px; text-anchor:middle;\" transform=\"rotate(0, 838.924, 725.979)\" x=\"838.924\" y=\"725.979\"></text>\n",
       "</g>\n",
       "<g clip-path=\"url(#clip1401)\">\n",
       "<text style=\"fill:#000000; fill-opacity:1; font-family:Arial,Helvetica Neue,Helvetica,sans-serif; font-size:48px; text-anchor:middle;\" transform=\"rotate(0, 1030.47, 725.979)\" x=\"1030.47\" y=\"725.979\"></text>\n",
       "</g>\n",
       "<g clip-path=\"url(#clip1401)\">\n",
       "<text style=\"fill:#000000; fill-opacity:1; font-family:Arial,Helvetica Neue,Helvetica,sans-serif; font-size:48px; text-anchor:end;\" transform=\"rotate(0, 187.005, 671.797)\" x=\"187.005\" y=\"671.797\">0</text>\n",
       "</g>\n",
       "<g clip-path=\"url(#clip1401)\">\n",
       "<text style=\"fill:#000000; fill-opacity:1; font-family:Arial,Helvetica Neue,Helvetica,sans-serif; font-size:48px; text-anchor:end;\" transform=\"rotate(0, 187.005, 562.654)\" x=\"187.005\" y=\"562.654\">5</text>\n",
       "</g>\n",
       "<g clip-path=\"url(#clip1401)\">\n",
       "<text style=\"fill:#000000; fill-opacity:1; font-family:Arial,Helvetica Neue,Helvetica,sans-serif; font-size:48px; text-anchor:end;\" transform=\"rotate(0, 187.005, 453.511)\" x=\"187.005\" y=\"453.511\">10</text>\n",
       "</g>\n",
       "<g clip-path=\"url(#clip1401)\">\n",
       "<text style=\"fill:#000000; fill-opacity:1; font-family:Arial,Helvetica Neue,Helvetica,sans-serif; font-size:48px; text-anchor:end;\" transform=\"rotate(0, 187.005, 344.368)\" x=\"187.005\" y=\"344.368\">15</text>\n",
       "</g>\n",
       "<g clip-path=\"url(#clip1401)\">\n",
       "<text style=\"fill:#000000; fill-opacity:1; font-family:Arial,Helvetica Neue,Helvetica,sans-serif; font-size:48px; text-anchor:end;\" transform=\"rotate(0, 187.005, 235.225)\" x=\"187.005\" y=\"235.225\">20</text>\n",
       "</g>\n",
       "<g clip-path=\"url(#clip1401)\">\n",
       "<text style=\"fill:#000000; fill-opacity:1; font-family:Arial,Helvetica Neue,Helvetica,sans-serif; font-size:48px; text-anchor:end;\" transform=\"rotate(0, 187.005, 126.082)\" x=\"187.005\" y=\"126.082\">25</text>\n",
       "</g>\n",
       "<g clip-path=\"url(#clip1401)\">\n",
       "<text style=\"fill:#000000; fill-opacity:1; font-family:Arial,Helvetica Neue,Helvetica,sans-serif; font-size:66px; text-anchor:middle;\" transform=\"rotate(-90, 57.6, 359.611)\" x=\"57.6\" y=\"359.611\">lnbdb</text>\n",
       "</g>\n",
       "<polygon clip-path=\"url(#clip1403)\" points=\"\n",
       "264.275,436.011 264.275,654.297 360.05,654.297 360.05,436.011 264.275,436.011 264.275,436.011 \n",
       "  \" fill=\"#000000\" fill-rule=\"evenodd\" fill-opacity=\"1\"/>\n",
       "<polyline clip-path=\"url(#clip1403)\" style=\"stroke:#000000; stroke-width:4; stroke-opacity:1; fill:none\" points=\"\n",
       "  264.275,436.011 264.275,654.297 360.05,654.297 360.05,436.011 264.275,436.011 \n",
       "  \"/>\n",
       "<polygon clip-path=\"url(#clip1403)\" points=\"\n",
       "360.05,326.868 360.05,654.297 455.825,654.297 455.825,326.868 360.05,326.868 360.05,326.868 \n",
       "  \" fill=\"#000000\" fill-rule=\"evenodd\" fill-opacity=\"1\"/>\n",
       "<polyline clip-path=\"url(#clip1403)\" style=\"stroke:#000000; stroke-width:4; stroke-opacity:1; fill:none\" points=\"\n",
       "  360.05,326.868 360.05,654.297 455.825,654.297 455.825,326.868 360.05,326.868 \n",
       "  \"/>\n",
       "<polygon clip-path=\"url(#clip1403)\" points=\"\n",
       "455.825,64.9253 455.825,654.297 551.599,654.297 551.599,64.9253 455.825,64.9253 455.825,64.9253 \n",
       "  \" fill=\"#000000\" fill-rule=\"evenodd\" fill-opacity=\"1\"/>\n",
       "<polyline clip-path=\"url(#clip1403)\" style=\"stroke:#000000; stroke-width:4; stroke-opacity:1; fill:none\" points=\"\n",
       "  455.825,64.9253 455.825,654.297 551.599,654.297 551.599,64.9253 455.825,64.9253 \n",
       "  \"/>\n",
       "<polygon clip-path=\"url(#clip1403)\" points=\"\n",
       "551.599,261.383 551.599,654.297 647.374,654.297 647.374,261.383 551.599,261.383 551.599,261.383 \n",
       "  \" fill=\"#000000\" fill-rule=\"evenodd\" fill-opacity=\"1\"/>\n",
       "<polyline clip-path=\"url(#clip1403)\" style=\"stroke:#000000; stroke-width:4; stroke-opacity:1; fill:none\" points=\"\n",
       "  551.599,261.383 551.599,654.297 647.374,654.297 647.374,261.383 551.599,261.383 \n",
       "  \"/>\n",
       "<polygon clip-path=\"url(#clip1403)\" points=\"\n",
       "647.374,130.411 647.374,654.297 743.149,654.297 743.149,130.411 647.374,130.411 647.374,130.411 \n",
       "  \" fill=\"#000000\" fill-rule=\"evenodd\" fill-opacity=\"1\"/>\n",
       "<polyline clip-path=\"url(#clip1403)\" style=\"stroke:#000000; stroke-width:4; stroke-opacity:1; fill:none\" points=\"\n",
       "  647.374,130.411 647.374,654.297 743.149,654.297 743.149,130.411 647.374,130.411 \n",
       "  \"/>\n",
       "<polygon clip-path=\"url(#clip1403)\" points=\"\n",
       "743.149,348.697 743.149,654.297 838.924,654.297 838.924,348.697 743.149,348.697 743.149,348.697 \n",
       "  \" fill=\"#000000\" fill-rule=\"evenodd\" fill-opacity=\"1\"/>\n",
       "<polyline clip-path=\"url(#clip1403)\" style=\"stroke:#000000; stroke-width:4; stroke-opacity:1; fill:none\" points=\"\n",
       "  743.149,348.697 743.149,654.297 838.924,654.297 838.924,348.697 743.149,348.697 \n",
       "  \"/>\n",
       "<polygon clip-path=\"url(#clip1403)\" points=\"\n",
       "838.924,588.812 838.924,654.297 934.699,654.297 934.699,588.812 838.924,588.812 838.924,588.812 \n",
       "  \" fill=\"#000000\" fill-rule=\"evenodd\" fill-opacity=\"1\"/>\n",
       "<polyline clip-path=\"url(#clip1403)\" style=\"stroke:#000000; stroke-width:4; stroke-opacity:1; fill:none\" points=\"\n",
       "  838.924,588.812 838.924,654.297 934.699,654.297 934.699,588.812 838.924,588.812 \n",
       "  \"/>\n",
       "<polygon clip-path=\"url(#clip1403)\" points=\"\n",
       "934.699,610.64 934.699,654.297 1030.47,654.297 1030.47,610.64 934.699,610.64 934.699,610.64 \n",
       "  \" fill=\"#000000\" fill-rule=\"evenodd\" fill-opacity=\"1\"/>\n",
       "<polyline clip-path=\"url(#clip1403)\" style=\"stroke:#000000; stroke-width:4; stroke-opacity:1; fill:none\" points=\"\n",
       "  934.699,610.64 934.699,654.297 1030.47,654.297 1030.47,610.64 934.699,610.64 \n",
       "  \"/>\n",
       "<polygon clip-path=\"url(#clip1403)\" points=\"\n",
       "1030.47,632.469 1030.47,654.297 1126.25,654.297 1126.25,632.469 1030.47,632.469 1030.47,632.469 \n",
       "  \" fill=\"#000000\" fill-rule=\"evenodd\" fill-opacity=\"1\"/>\n",
       "<polyline clip-path=\"url(#clip1403)\" style=\"stroke:#000000; stroke-width:4; stroke-opacity:1; fill:none\" points=\"\n",
       "  1030.47,632.469 1030.47,654.297 1126.25,654.297 1126.25,632.469 1030.47,632.469 \n",
       "  \"/>\n",
       "<polygon clip-path=\"url(#clip1401)\" points=\"\n",
       "1352.75,671.979 2321.26,671.979 2321.26,47.2441 1352.75,47.2441 \n",
       "  \" fill=\"#ffffff\" fill-rule=\"evenodd\" fill-opacity=\"1\"/>\n",
       "<defs>\n",
       "  <clipPath id=\"clip1404\">\n",
       "    <rect x=\"1352\" y=\"47\" width=\"970\" height=\"626\"/>\n",
       "  </clipPath>\n",
       "</defs>\n",
       "<polyline clip-path=\"url(#clip1401)\" style=\"stroke:#000000; stroke-width:4; stroke-opacity:0; fill:none\" points=\"\n",
       "  1352.75,671.979 2321.26,671.979 \n",
       "  \"/>\n",
       "<polyline clip-path=\"url(#clip1401)\" style=\"stroke:#000000; stroke-width:4; stroke-opacity:0; fill:none\" points=\"\n",
       "  1352.75,671.979 1352.75,47.2441 \n",
       "  \"/>\n",
       "<polyline clip-path=\"url(#clip1401)\" style=\"stroke:#000000; stroke-width:4; stroke-opacity:1; fill:none\" points=\"\n",
       "  1406.02,671.979 1406.02,662.608 \n",
       "  \"/>\n",
       "<polyline clip-path=\"url(#clip1401)\" style=\"stroke:#000000; stroke-width:4; stroke-opacity:1; fill:none\" points=\"\n",
       "  1578.41,671.979 1578.41,662.608 \n",
       "  \"/>\n",
       "<polyline clip-path=\"url(#clip1401)\" style=\"stroke:#000000; stroke-width:4; stroke-opacity:1; fill:none\" points=\"\n",
       "  1750.81,671.979 1750.81,662.608 \n",
       "  \"/>\n",
       "<polyline clip-path=\"url(#clip1401)\" style=\"stroke:#000000; stroke-width:4; stroke-opacity:1; fill:none\" points=\"\n",
       "  1923.2,671.979 1923.2,662.608 \n",
       "  \"/>\n",
       "<polyline clip-path=\"url(#clip1401)\" style=\"stroke:#000000; stroke-width:4; stroke-opacity:1; fill:none\" points=\"\n",
       "  2095.6,671.979 2095.6,662.608 \n",
       "  \"/>\n",
       "<polyline clip-path=\"url(#clip1401)\" style=\"stroke:#000000; stroke-width:4; stroke-opacity:1; fill:none\" points=\"\n",
       "  2267.99,671.979 2267.99,662.608 \n",
       "  \"/>\n",
       "<polyline clip-path=\"url(#clip1401)\" style=\"stroke:#000000; stroke-width:4; stroke-opacity:1; fill:none\" points=\"\n",
       "  1352.75,671.979 1367.27,671.979 \n",
       "  \"/>\n",
       "<polyline clip-path=\"url(#clip1401)\" style=\"stroke:#000000; stroke-width:4; stroke-opacity:1; fill:none\" points=\"\n",
       "  1352.75,547.032 1367.27,547.032 \n",
       "  \"/>\n",
       "<polyline clip-path=\"url(#clip1401)\" style=\"stroke:#000000; stroke-width:4; stroke-opacity:1; fill:none\" points=\"\n",
       "  1352.75,422.085 1367.27,422.085 \n",
       "  \"/>\n",
       "<polyline clip-path=\"url(#clip1401)\" style=\"stroke:#000000; stroke-width:4; stroke-opacity:1; fill:none\" points=\"\n",
       "  1352.75,297.138 1367.27,297.138 \n",
       "  \"/>\n",
       "<polyline clip-path=\"url(#clip1401)\" style=\"stroke:#000000; stroke-width:4; stroke-opacity:1; fill:none\" points=\"\n",
       "  1352.75,172.191 1367.27,172.191 \n",
       "  \"/>\n",
       "<polyline clip-path=\"url(#clip1401)\" style=\"stroke:#000000; stroke-width:4; stroke-opacity:1; fill:none\" points=\"\n",
       "  1352.75,47.2441 1367.27,47.2441 \n",
       "  \"/>\n",
       "<g clip-path=\"url(#clip1401)\">\n",
       "<text style=\"fill:#000000; fill-opacity:1; font-family:Arial,Helvetica Neue,Helvetica,sans-serif; font-size:48px; text-anchor:middle;\" transform=\"rotate(0, 1406.02, 725.979)\" x=\"1406.02\" y=\"725.979\"></text>\n",
       "</g>\n",
       "<g clip-path=\"url(#clip1401)\">\n",
       "<text style=\"fill:#000000; fill-opacity:1; font-family:Arial,Helvetica Neue,Helvetica,sans-serif; font-size:48px; text-anchor:middle;\" transform=\"rotate(0, 1578.41, 725.979)\" x=\"1578.41\" y=\"725.979\"></text>\n",
       "</g>\n",
       "<g clip-path=\"url(#clip1401)\">\n",
       "<text style=\"fill:#000000; fill-opacity:1; font-family:Arial,Helvetica Neue,Helvetica,sans-serif; font-size:48px; text-anchor:middle;\" transform=\"rotate(0, 1750.81, 725.979)\" x=\"1750.81\" y=\"725.979\"></text>\n",
       "</g>\n",
       "<g clip-path=\"url(#clip1401)\">\n",
       "<text style=\"fill:#000000; fill-opacity:1; font-family:Arial,Helvetica Neue,Helvetica,sans-serif; font-size:48px; text-anchor:middle;\" transform=\"rotate(0, 1923.2, 725.979)\" x=\"1923.2\" y=\"725.979\"></text>\n",
       "</g>\n",
       "<g clip-path=\"url(#clip1401)\">\n",
       "<text style=\"fill:#000000; fill-opacity:1; font-family:Arial,Helvetica Neue,Helvetica,sans-serif; font-size:48px; text-anchor:middle;\" transform=\"rotate(0, 2095.6, 725.979)\" x=\"2095.6\" y=\"725.979\"></text>\n",
       "</g>\n",
       "<g clip-path=\"url(#clip1401)\">\n",
       "<text style=\"fill:#000000; fill-opacity:1; font-family:Arial,Helvetica Neue,Helvetica,sans-serif; font-size:48px; text-anchor:middle;\" transform=\"rotate(0, 2267.99, 725.979)\" x=\"2267.99\" y=\"725.979\"></text>\n",
       "</g>\n",
       "<g clip-path=\"url(#clip1401)\">\n",
       "<text style=\"fill:#000000; fill-opacity:1; font-family:Arial,Helvetica Neue,Helvetica,sans-serif; font-size:48px; text-anchor:end;\" transform=\"rotate(0, 1328.75, 689.479)\" x=\"1328.75\" y=\"689.479\"></text>\n",
       "</g>\n",
       "<g clip-path=\"url(#clip1401)\">\n",
       "<text style=\"fill:#000000; fill-opacity:1; font-family:Arial,Helvetica Neue,Helvetica,sans-serif; font-size:48px; text-anchor:end;\" transform=\"rotate(0, 1328.75, 564.532)\" x=\"1328.75\" y=\"564.532\"></text>\n",
       "</g>\n",
       "<g clip-path=\"url(#clip1401)\">\n",
       "<text style=\"fill:#000000; fill-opacity:1; font-family:Arial,Helvetica Neue,Helvetica,sans-serif; font-size:48px; text-anchor:end;\" transform=\"rotate(0, 1328.75, 439.585)\" x=\"1328.75\" y=\"439.585\"></text>\n",
       "</g>\n",
       "<g clip-path=\"url(#clip1401)\">\n",
       "<text style=\"fill:#000000; fill-opacity:1; font-family:Arial,Helvetica Neue,Helvetica,sans-serif; font-size:48px; text-anchor:end;\" transform=\"rotate(0, 1328.75, 314.638)\" x=\"1328.75\" y=\"314.638\"></text>\n",
       "</g>\n",
       "<g clip-path=\"url(#clip1401)\">\n",
       "<text style=\"fill:#000000; fill-opacity:1; font-family:Arial,Helvetica Neue,Helvetica,sans-serif; font-size:48px; text-anchor:end;\" transform=\"rotate(0, 1328.75, 189.691)\" x=\"1328.75\" y=\"189.691\"></text>\n",
       "</g>\n",
       "<g clip-path=\"url(#clip1401)\">\n",
       "<text style=\"fill:#000000; fill-opacity:1; font-family:Arial,Helvetica Neue,Helvetica,sans-serif; font-size:48px; text-anchor:end;\" transform=\"rotate(0, 1328.75, 64.7441)\" x=\"1328.75\" y=\"64.7441\"></text>\n",
       "</g>\n",
       "<g clip-path=\"url(#clip1404)\">\n",
       "<image width=\"862\" height=\"625\" xlink:href=\"data:image/png;base64,\n",
       "iVBORw0KGgoAAAANSUhEUgAAA14AAAJxCAYAAABSVWOlAAAOKElEQVR4nO3ZMWoVARSGUUceIuIO\n",
       "JJAtCC7AyiVIIHuwtU9nWiv7VFmCiI1bSJPKInuwiA8mnfVM8XHxcc4K/vJ+3OUZAMA/h3V6AWx3\n",
       "XKYXwFbPpwcAAACcOuEFAAAQE14AAAAx4QUAABATXgAAADHhBQAAEBNeAAAAMeEFAAAQE14AAAAx\n",
       "4QUAABATXgAAADHhBQAAEBNeAAAAMeEFAAAQE14AAAAx4QUAABATXgAAADHhBQAAEBNeAAAAMeEF\n",
       "AAAQE14AAAAx4QUAABATXgAAADHhBQAAEBNeAAAAMeEFAAAQE14AAAAx4QUAABATXgAAADHhBQAA\n",
       "EBNeAAAAMeEFAAAQE14AAAAx4QUAABATXgAAADHhBQAAEBNeAAAAMeEFAAAQE14AAAAx4QUAABAT\n",
       "XgAAADHhBQAAEBNeAAAAMeEFAAAQE14AAAAx4QUAABATXgAAADHhBQAAEBNeAAAAMeEFAAAQE14A\n",
       "AAAx4QUAABATXgAAADHhBQAAEBNeAAAAMeEFAAAQE14AAAAx4QUAABATXgAAADHhBQAAEBNeAAAA\n",
       "MeEFAAAQE14AAAAx4QUAABATXgAAADHhBQAAEBNeAAAAMeEFAAAQE14AAAAx4QUAABATXgAAADHh\n",
       "BQAAEBNeAAAAMeEFAAAQE14AAAAx4QUAABATXgAAADHhBQAAEBNeAAAAMeEFAAAQE14AAAAx4QUA\n",
       "ABATXgAAADHhBQAAEBNeAAAAMeEFAAAQE14AAAAx4QUAABATXgAAADHhBQAAEBNeAAAAMeEFAAAQ\n",
       "E14AAAAx4QUAABATXgAAADHhBQAAEBNeAAAAMeEFAAAQE14AAAAx4QUAABATXgAAADHhBQAAEBNe\n",
       "AAAAMeEFAAAQE14AAAAx4QUAABATXgAAADHhBQAAEBNeAAAAMeEFAAAQE14AAAAx4QUAABATXgAA\n",
       "ADHhBQAAEBNeAAAAMeEFAAAQE14AAAAx4QUAABATXgAAADHhBQAAEBNeAAAAMeEFAAAQE14AAAAx\n",
       "4QUAABA7TA+A/Q7r9ALY6tWLs+kJACfrz+Pv6QmwmY8XAABATHgBAADEhBcAAEBMeAEAAMSEFwAA\n",
       "QEx4AQAAxIQXAABATHgBAADEhBcAAEBMeAEAAMSEFwAAQEx4AQAAxIQXAABATHgBAADEhBcAAEBM\n",
       "eAEAAMSEFwAAQEx4AQAAxIQXAABATHgBAADEhBcAAEBMeAEAAMSEFwAAQEx4AQAAxIQXAABATHgB\n",
       "AADEhBcAAEBMeAEAAMSEFwAAQEx4AQAAxIQXAABATHgBAADEhBcAAEBMeAEAAMSEFwAAQEx4AQAA\n",
       "xIQXAABATHgBAADEhBcAAEBMeAEAAMSEFwAAQEx4AQAAxIQXAABATHgBAADEhBcAAEBMeAEAAMSE\n",
       "FwAAQEx4AQAAxIQXAABATHgBAADEhBcAAEBMeAEAAMSEFwAAQEx4AQAAxIQXAABATHgBAADEhBcA\n",
       "AEBMeAEAAMSEFwAAQEx4AQAAxIQXAABATHgBAADEhBcAAEBMeAEAAMSEFwAAQEx4AQAAxIQXAABA\n",
       "THgBAADEhBcAAEBMeAEAAMSEFwAAQEx4AQAAxIQXAABATHgBAADEhBcAAEBMeAEAAMSEFwAAQEx4\n",
       "AQAAxIQXAABATHgBAADEhBcAAEBMeAEAAMSEFwAAQEx4AQAAxIQXAABATHgBAADEhBcAAEBMeAEA\n",
       "AMSEFwAAQEx4AQAAxIQXAABATHgBAADEhBcAAEBMeAEAAMSEFwAAQEx4AQAAxIQXAABATHgBAADE\n",
       "hBcAAEBMeAEAAMSEFwAAQEx4AQAAxIQXAABATHgBAADEhBcAAEBMeAEAAMSEFwAAQEx4AQAAxIQX\n",
       "AABATHgBAADEhBcAAEBMeAEAAMSEFwAAQEx4AQAAxIQXAABATHgBAADEhBcAAEBMeAEAAMSEFwAA\n",
       "QEx4AQAAxIQXAABATHgBAADEhBcAAEBMeAEAAMQOb16/X6dHwB7X5+fTE2Czj1++T0+AXW4/f5ie\n",
       "AJtd3j24Y/lv+HgBAADEhBcAAEBMeAEAAMSEFwAAQEx4AQAAxIQXAABATHgBAADEhBcAAEBMeAEA\n",
       "AMSEFwAAQEx4AQAAxIQXAABATHgBAADEhBcAAEBMeAEAAMSEFwAAQEx4AQAAxIQXAABATHgBAADE\n",
       "hBcAAEBMeAEAAMSEFwAAQEx4AQAAxIQXAABATHgBAADEhBcAAEBMeAEAAMSEFwAAQEx4AQAAxIQX\n",
       "AABATHgBAADEhBcAAEBMeAEAAMSEFwAAQEx4AQAAxIQXAABATHgBAADEhBcAAEBMeAEAAMSEFwAA\n",
       "QEx4AQAAxIQXAABATHgBAADEhBcAAEBMeAEAAMSEFwAAQEx4AQAAxIQXAABATHgBAADEhBcAAEBM\n",
       "eAEAAMSEFwAAQEx4AQAAxIQXAABATHgBAADEhBcAAEBMeAEAAMSEFwAAQEx4AQAAxIQXAABATHgB\n",
       "AADEhBcAAEBMeAEAAMSEFwAAQEx4AQAAxIQXAABATHgBAADEhBcAAEBMeAEAAMSEFwAAQEx4AQAA\n",
       "xIQXAABATHgBAADEhBcAAEBMeAEAAMSEFwAAQEx4AQAAxIQXAABATHgBAADEhBcAAEBMeAEAAMSE\n",
       "FwAAQEx4AQAAxIQXAABATHgBAADEhBcAAEBMeAEAAMSEFwAAQEx4AQAAxIQXAABATHgBAADEhBcA\n",
       "AEBMeAEAAMSEFwAAQEx4AQAAxIQXAABATHgBAADEhBcAAEBMeAEAAMSEFwAAQEx4AQAAxIQXAABA\n",
       "THgBAADEhBcAAEBMeAEAAMSEFwAAQEx4AQAAxIQXAABATHgBAADEhBcAAEBMeAEAAMSEFwAAQEx4\n",
       "AQAAxIQXAABATHgBAADEhBcAAEBMeAEAAMSEFwAAQEx4AQAAxIQXAABATHgBAADEhBcAAEBMeAEA\n",
       "AMSEFwAAQGw5rjfr9AjY4/Hq0/QE2Oz+17vpCbDL2x8/pyfADsdlegFs5eMFAAAQE14AAAAx4QUA\n",
       "ABATXgAAADHhBQAAEBNeAAAAMeEFAAAQE14AAAAx4QUAABATXgAAADHhBQAAEBNeAAAAMeEFAAAQ\n",
       "E14AAAAx4QUAABATXgAAADHhBQAAEBNeAAAAMeEFAAAQE14AAAAx4QUAABATXgAAADHhBQAAEBNe\n",
       "AAAAMeEFAAAQE14AAAAx4QUAABATXgAAADHhBQAAEBNeAAAAMeEFAAAQE14AAAAx4QUAABATXgAA\n",
       "ADHhBQAAEBNeAAAAMeEFAAAQE14AAAAx4QUAABATXgAAADHhBQAAEBNeAAAAMeEFAAAQE14AAAAx\n",
       "4QUAABATXgAAADHhBQAAEBNeAAAAMeEFAAAQE14AAAAx4QUAABATXgAAADHhBQAAEBNeAAAAMeEF\n",
       "AAAQE14AAAAx4QUAABATXgAAADHhBQAAEBNeAAAAMeEFAAAQE14AAAAx4QUAABATXgAAADHhBQAA\n",
       "EBNeAAAAMeEFAAAQE14AAAAx4QUAABATXgAAADHhBQAAEBNeAAAAMeEFAAAQE14AAAAx4QUAABAT\n",
       "XgAAADHhBQAAEBNeAAAAMeEFAAAQE14AAAAx4QUAABATXgAAADHhBQAAEBNeAAAAMeEFAAAQE14A\n",
       "AAAx4QUAABATXgAAADHhBQAAEBNeAAAAMeEFAAAQE14AAAAx4QUAABATXgAAADHhBQAAEBNeAAAA\n",
       "MeEFAAAQE14AAAAx4QUAABATXgAAADHhBQAAEBNeAAAAMeEFAAAQE14AAAAx4QUAABATXgAAADHh\n",
       "BQAAEBNeAAAAMeEFAAAQE14AAAAx4QUAABATXgAAADHhBQAAEBNeAAAAMeEFAAAQE14AAAAx4QUA\n",
       "ABATXgAAADHhBQAAEBNeAAAAMeEFAAAQE14AAAAx4QUAABATXgAAALHl77eX6/QI2OP268X0BNjs\n",
       "8u5megLsdFymFwCcIh8vAACAmPACAACICS8AAICY8AIAAIgJLwAAgJjwAgAAiAkvAACAmPACAACI\n",
       "CS8AAICY8AIAAIgJLwAAgJjwAgAAiAkvAACAmPACAACICS8AAICY8AIAAIgJLwAAgJjwAgAAiAkv\n",
       "AACAmPACAACICS8AAICY8AIAAIgJLwAAgJjwAgAAiAkvAACAmPACAACICS8AAICY8AIAAIgJLwAA\n",
       "gJjwAgAAiAkvAACAmPACAACICS8AAICY8AIAAIgJLwAAgJjwAgAAiAkvAACAmPACAACICS8AAICY\n",
       "8AIAAIgJLwAAgJjwAgAAiAkvAACAmPACAACICS8AAICY8AIAAIgJLwAAgJjwAgAAiAkvAACAmPAC\n",
       "AACICS8AAICY8AIAAIgJLwAAgJjwAgAAiAkvAACAmPACAACICS8AAICY8AIAAIgJLwAAgJjwAgAA\n",
       "iAkvAACAmPACAACICS8AAICY8AIAAIgJLwAAgJjwAgAAiAkvAACAmPACAACICS8AAICY8AIAAIgJ\n",
       "LwAAgJjwAgAAiAkvAACAmPACAACICS8AAICY8AIAAIgJLwAAgJjwAgAAiAkvAACAmPACAACICS8A\n",
       "AICY8AIAAIgJLwAAgJjwAgAAiAkvAACAmPACAACICS8AAICY8AIAAIgJLwAAgJjwAgAAiAkvAACA\n",
       "mPACAACICS8AAICY8AIAAIgJLwAAgJjwAgAAiAkvAACAmPACAACICS8AAICY8AIAAIgJLwAAgJjw\n",
       "AgAAiAkvAACAmPACAACICS8AAICY8AIAAIgJLwAAgJjwAgAAiAkvAACAmPACAACICS8AAICY8AIA\n",
       "AIgJLwAAgJjwAgAAiAkvAACAmPACAACICS8AAICY8AIAAIgJLwAAgJjwAgAAiAkvAACAmPACAACI\n",
       "CS8AAICY8AIAAIg9AeWhJCSL1656AAAAAElFTkSuQmCC\n",
       "\" transform=\"translate(1406, 47)\"/>\n",
       "</g>\n",
       "<polygon clip-path=\"url(#clip1401)\" points=\"\n",
       "211.005,1440.48 1179.52,1440.48 1179.52,815.748 211.005,815.748 \n",
       "  \" fill=\"#ffffff\" fill-rule=\"evenodd\" fill-opacity=\"1\"/>\n",
       "<defs>\n",
       "  <clipPath id=\"clip1405\">\n",
       "    <rect x=\"211\" y=\"815\" width=\"970\" height=\"626\"/>\n",
       "  </clipPath>\n",
       "</defs>\n",
       "<polyline clip-path=\"url(#clip1401)\" style=\"stroke:#000000; stroke-width:4; stroke-opacity:0; fill:none\" points=\"\n",
       "  211.005,1440.48 1179.52,1440.48 \n",
       "  \"/>\n",
       "<polyline clip-path=\"url(#clip1401)\" style=\"stroke:#000000; stroke-width:4; stroke-opacity:0; fill:none\" points=\"\n",
       "  211.005,1440.48 211.005,815.748 \n",
       "  \"/>\n",
       "<polyline clip-path=\"url(#clip1401)\" style=\"stroke:#000000; stroke-width:4; stroke-opacity:1; fill:none\" points=\"\n",
       "  264.275,1440.48 264.275,1431.11 \n",
       "  \"/>\n",
       "<polyline clip-path=\"url(#clip1401)\" style=\"stroke:#000000; stroke-width:4; stroke-opacity:1; fill:none\" points=\"\n",
       "  455.825,1440.48 455.825,1431.11 \n",
       "  \"/>\n",
       "<polyline clip-path=\"url(#clip1401)\" style=\"stroke:#000000; stroke-width:4; stroke-opacity:1; fill:none\" points=\"\n",
       "  647.374,1440.48 647.374,1431.11 \n",
       "  \"/>\n",
       "<polyline clip-path=\"url(#clip1401)\" style=\"stroke:#000000; stroke-width:4; stroke-opacity:1; fill:none\" points=\"\n",
       "  838.924,1440.48 838.924,1431.11 \n",
       "  \"/>\n",
       "<polyline clip-path=\"url(#clip1401)\" style=\"stroke:#000000; stroke-width:4; stroke-opacity:1; fill:none\" points=\"\n",
       "  1030.47,1440.48 1030.47,1431.11 \n",
       "  \"/>\n",
       "<polyline clip-path=\"url(#clip1401)\" style=\"stroke:#000000; stroke-width:4; stroke-opacity:1; fill:none\" points=\"\n",
       "  211.005,1422.8 225.533,1422.8 \n",
       "  \"/>\n",
       "<polyline clip-path=\"url(#clip1401)\" style=\"stroke:#000000; stroke-width:4; stroke-opacity:1; fill:none\" points=\"\n",
       "  211.005,1275.73 225.533,1275.73 \n",
       "  \"/>\n",
       "<polyline clip-path=\"url(#clip1401)\" style=\"stroke:#000000; stroke-width:4; stroke-opacity:1; fill:none\" points=\"\n",
       "  211.005,1128.65 225.533,1128.65 \n",
       "  \"/>\n",
       "<polyline clip-path=\"url(#clip1401)\" style=\"stroke:#000000; stroke-width:4; stroke-opacity:1; fill:none\" points=\"\n",
       "  211.005,981.581 225.533,981.581 \n",
       "  \"/>\n",
       "<polyline clip-path=\"url(#clip1401)\" style=\"stroke:#000000; stroke-width:4; stroke-opacity:1; fill:none\" points=\"\n",
       "  211.005,834.508 225.533,834.508 \n",
       "  \"/>\n",
       "<g clip-path=\"url(#clip1401)\">\n",
       "<text style=\"fill:#000000; fill-opacity:1; font-family:Arial,Helvetica Neue,Helvetica,sans-serif; font-size:48px; text-anchor:middle;\" transform=\"rotate(0, 264.275, 1494.48)\" x=\"264.275\" y=\"1494.48\">6</text>\n",
       "</g>\n",
       "<g clip-path=\"url(#clip1401)\">\n",
       "<text style=\"fill:#000000; fill-opacity:1; font-family:Arial,Helvetica Neue,Helvetica,sans-serif; font-size:48px; text-anchor:middle;\" transform=\"rotate(0, 455.825, 1494.48)\" x=\"455.825\" y=\"1494.48\">8</text>\n",
       "</g>\n",
       "<g clip-path=\"url(#clip1401)\">\n",
       "<text style=\"fill:#000000; fill-opacity:1; font-family:Arial,Helvetica Neue,Helvetica,sans-serif; font-size:48px; text-anchor:middle;\" transform=\"rotate(0, 647.374, 1494.48)\" x=\"647.374\" y=\"1494.48\">10</text>\n",
       "</g>\n",
       "<g clip-path=\"url(#clip1401)\">\n",
       "<text style=\"fill:#000000; fill-opacity:1; font-family:Arial,Helvetica Neue,Helvetica,sans-serif; font-size:48px; text-anchor:middle;\" transform=\"rotate(0, 838.924, 1494.48)\" x=\"838.924\" y=\"1494.48\">12</text>\n",
       "</g>\n",
       "<g clip-path=\"url(#clip1401)\">\n",
       "<text style=\"fill:#000000; fill-opacity:1; font-family:Arial,Helvetica Neue,Helvetica,sans-serif; font-size:48px; text-anchor:middle;\" transform=\"rotate(0, 1030.47, 1494.48)\" x=\"1030.47\" y=\"1494.48\">14</text>\n",
       "</g>\n",
       "<g clip-path=\"url(#clip1401)\">\n",
       "<text style=\"fill:#000000; fill-opacity:1; font-family:Arial,Helvetica Neue,Helvetica,sans-serif; font-size:48px; text-anchor:end;\" transform=\"rotate(0, 187.005, 1440.3)\" x=\"187.005\" y=\"1440.3\">0</text>\n",
       "</g>\n",
       "<g clip-path=\"url(#clip1401)\">\n",
       "<text style=\"fill:#000000; fill-opacity:1; font-family:Arial,Helvetica Neue,Helvetica,sans-serif; font-size:48px; text-anchor:end;\" transform=\"rotate(0, 187.005, 1293.23)\" x=\"187.005\" y=\"1293.23\">1</text>\n",
       "</g>\n",
       "<g clip-path=\"url(#clip1401)\">\n",
       "<text style=\"fill:#000000; fill-opacity:1; font-family:Arial,Helvetica Neue,Helvetica,sans-serif; font-size:48px; text-anchor:end;\" transform=\"rotate(0, 187.005, 1146.15)\" x=\"187.005\" y=\"1146.15\">2</text>\n",
       "</g>\n",
       "<g clip-path=\"url(#clip1401)\">\n",
       "<text style=\"fill:#000000; fill-opacity:1; font-family:Arial,Helvetica Neue,Helvetica,sans-serif; font-size:48px; text-anchor:end;\" transform=\"rotate(0, 187.005, 999.081)\" x=\"187.005\" y=\"999.081\">3</text>\n",
       "</g>\n",
       "<g clip-path=\"url(#clip1401)\">\n",
       "<text style=\"fill:#000000; fill-opacity:1; font-family:Arial,Helvetica Neue,Helvetica,sans-serif; font-size:48px; text-anchor:end;\" transform=\"rotate(0, 187.005, 852.008)\" x=\"187.005\" y=\"852.008\">4</text>\n",
       "</g>\n",
       "<g clip-path=\"url(#clip1401)\">\n",
       "<text style=\"fill:#000000; fill-opacity:1; font-family:Arial,Helvetica Neue,Helvetica,sans-serif; font-size:66px; text-anchor:middle;\" transform=\"rotate(0, 695.262, 1590.4)\" x=\"695.262\" y=\"1590.4\">lnbdb</text>\n",
       "</g>\n",
       "<g clip-path=\"url(#clip1401)\">\n",
       "<text style=\"fill:#000000; fill-opacity:1; font-family:Arial,Helvetica Neue,Helvetica,sans-serif; font-size:66px; text-anchor:middle;\" transform=\"rotate(-90, 57.6, 1128.12)\" x=\"57.6\" y=\"1128.12\">lnduration</text>\n",
       "</g>\n",
       "<circle clip-path=\"url(#clip1405)\" style=\"fill:#fa9707; stroke:none; fill-opacity:0.4\" cx=\"341.124\" cy=\"1261.22\" r=\"14\"/>\n",
       "<circle clip-path=\"url(#clip1405)\" style=\"fill:#fa9707; stroke:none; fill-opacity:0.4\" cx=\"341.124\" cy=\"1422.8\" r=\"14\"/>\n",
       "<circle clip-path=\"url(#clip1405)\" style=\"fill:#fa9707; stroke:none; fill-opacity:0.4\" cx=\"342.077\" cy=\"1422.8\" r=\"14\"/>\n",
       "<circle clip-path=\"url(#clip1405)\" style=\"fill:#fa9707; stroke:none; fill-opacity:0.4\" cx=\"346.302\" cy=\"1218.91\" r=\"14\"/>\n",
       "<circle clip-path=\"url(#clip1405)\" style=\"fill:#fa9707; stroke:none; fill-opacity:0.4\" cx=\"346.302\" cy=\"1422.8\" r=\"14\"/>\n",
       "<circle clip-path=\"url(#clip1405)\" style=\"fill:#fa9707; stroke:none; fill-opacity:0.4\" cx=\"346.705\" cy=\"1159.28\" r=\"14\"/>\n",
       "<circle clip-path=\"url(#clip1405)\" style=\"fill:#fa9707; stroke:none; fill-opacity:0.4\" cx=\"349.28\" cy=\"1218.91\" r=\"14\"/>\n",
       "<circle clip-path=\"url(#clip1405)\" style=\"fill:#fa9707; stroke:none; fill-opacity:0.4\" cx=\"351.215\" cy=\"1422.8\" r=\"14\"/>\n",
       "<circle clip-path=\"url(#clip1405)\" style=\"fill:#fa9707; stroke:none; fill-opacity:0.4\" cx=\"351.215\" cy=\"1422.8\" r=\"14\"/>\n",
       "<circle clip-path=\"url(#clip1405)\" style=\"fill:#fa9707; stroke:none; fill-opacity:0.4\" cx=\"351.215\" cy=\"1422.8\" r=\"14\"/>\n",
       "<circle clip-path=\"url(#clip1405)\" style=\"fill:#fa9707; stroke:none; fill-opacity:0.4\" cx=\"360.343\" cy=\"1320.86\" r=\"14\"/>\n",
       "<circle clip-path=\"url(#clip1405)\" style=\"fill:#fa9707; stroke:none; fill-opacity:0.4\" cx=\"370.808\" cy=\"989.753\" r=\"14\"/>\n",
       "<circle clip-path=\"url(#clip1405)\" style=\"fill:#fa9707; stroke:none; fill-opacity:0.4\" cx=\"379.744\" cy=\"1136.61\" r=\"14\"/>\n",
       "<circle clip-path=\"url(#clip1405)\" style=\"fill:#fa9707; stroke:none; fill-opacity:0.4\" cx=\"383.441\" cy=\"1422.8\" r=\"14\"/>\n",
       "<circle clip-path=\"url(#clip1405)\" style=\"fill:#fa9707; stroke:none; fill-opacity:0.4\" cx=\"389.215\" cy=\"1218.91\" r=\"14\"/>\n",
       "<circle clip-path=\"url(#clip1405)\" style=\"fill:#fa9707; stroke:none; fill-opacity:0.4\" cx=\"389.664\" cy=\"1136.61\" r=\"14\"/>\n",
       "<circle clip-path=\"url(#clip1405)\" style=\"fill:#fa9707; stroke:none; fill-opacity:0.4\" cx=\"398.009\" cy=\"1422.8\" r=\"14\"/>\n",
       "<circle clip-path=\"url(#clip1405)\" style=\"fill:#fa9707; stroke:none; fill-opacity:0.4\" cx=\"404.812\" cy=\"1261.22\" r=\"14\"/>\n",
       "<circle clip-path=\"url(#clip1405)\" style=\"fill:#fa9707; stroke:none; fill-opacity:0.4\" cx=\"417.601\" cy=\"1422.8\" r=\"14\"/>\n",
       "<circle clip-path=\"url(#clip1405)\" style=\"fill:#fa9707; stroke:none; fill-opacity:0.4\" cx=\"417.601\" cy=\"1422.8\" r=\"14\"/>\n",
       "<circle clip-path=\"url(#clip1405)\" style=\"fill:#fa9707; stroke:none; fill-opacity:0.4\" cx=\"417.601\" cy=\"1218.91\" r=\"14\"/>\n",
       "<circle clip-path=\"url(#clip1405)\" style=\"fill:#fa9707; stroke:none; fill-opacity:0.4\" cx=\"422.046\" cy=\"1422.8\" r=\"14\"/>\n",
       "<circle clip-path=\"url(#clip1405)\" style=\"fill:#fa9707; stroke:none; fill-opacity:0.4\" cx=\"433.047\" cy=\"1320.86\" r=\"14\"/>\n",
       "<circle clip-path=\"url(#clip1405)\" style=\"fill:#fa9707; stroke:none; fill-opacity:0.4\" cx=\"438.973\" cy=\"1320.86\" r=\"14\"/>\n",
       "<circle clip-path=\"url(#clip1405)\" style=\"fill:#fa9707; stroke:none; fill-opacity:0.4\" cx=\"449.827\" cy=\"1320.86\" r=\"14\"/>\n",
       "<circle clip-path=\"url(#clip1405)\" style=\"fill:#fa9707; stroke:none; fill-opacity:0.4\" cx=\"455.922\" cy=\"1186.1\" r=\"14\"/>\n",
       "<circle clip-path=\"url(#clip1405)\" style=\"fill:#fa9707; stroke:none; fill-opacity:0.4\" cx=\"456.402\" cy=\"1186.1\" r=\"14\"/>\n",
       "<circle clip-path=\"url(#clip1405)\" style=\"fill:#fa9707; stroke:none; fill-opacity:0.4\" cx=\"456.434\" cy=\"1320.86\" r=\"14\"/>\n",
       "<circle clip-path=\"url(#clip1405)\" style=\"fill:#fa9707; stroke:none; fill-opacity:0.4\" cx=\"461.774\" cy=\"1034.67\" r=\"14\"/>\n",
       "<circle clip-path=\"url(#clip1405)\" style=\"fill:#fa9707; stroke:none; fill-opacity:0.4\" cx=\"464.717\" cy=\"961.654\" r=\"14\"/>\n",
       "<circle clip-path=\"url(#clip1405)\" style=\"fill:#fa9707; stroke:none; fill-opacity:0.4\" cx=\"464.981\" cy=\"1422.8\" r=\"14\"/>\n",
       "<circle clip-path=\"url(#clip1405)\" style=\"fill:#fa9707; stroke:none; fill-opacity:0.4\" cx=\"471.198\" cy=\"1261.22\" r=\"14\"/>\n",
       "<circle clip-path=\"url(#clip1405)\" style=\"fill:#fa9707; stroke:none; fill-opacity:0.4\" cx=\"480.252\" cy=\"1320.86\" r=\"14\"/>\n",
       "<circle clip-path=\"url(#clip1405)\" style=\"fill:#fa9707; stroke:none; fill-opacity:0.4\" cx=\"480.327\" cy=\"1116.97\" r=\"14\"/>\n",
       "<circle clip-path=\"url(#clip1405)\" style=\"fill:#fa9707; stroke:none; fill-opacity:0.4\" cx=\"482.976\" cy=\"1186.1\" r=\"14\"/>\n",
       "<circle clip-path=\"url(#clip1405)\" style=\"fill:#fa9707; stroke:none; fill-opacity:0.4\" cx=\"483.987\" cy=\"1320.86\" r=\"14\"/>\n",
       "<circle clip-path=\"url(#clip1405)\" style=\"fill:#fa9707; stroke:none; fill-opacity:0.4\" cx=\"483.987\" cy=\"1422.8\" r=\"14\"/>\n",
       "<circle clip-path=\"url(#clip1405)\" style=\"fill:#fa9707; stroke:none; fill-opacity:0.4\" cx=\"483.987\" cy=\"1422.8\" r=\"14\"/>\n",
       "<circle clip-path=\"url(#clip1405)\" style=\"fill:#fa9707; stroke:none; fill-opacity:0.4\" cx=\"483.987\" cy=\"1320.86\" r=\"14\"/>\n",
       "<circle clip-path=\"url(#clip1405)\" style=\"fill:#fa9707; stroke:none; fill-opacity:0.4\" cx=\"483.987\" cy=\"1422.8\" r=\"14\"/>\n",
       "<circle clip-path=\"url(#clip1405)\" style=\"fill:#fa9707; stroke:none; fill-opacity:0.4\" cx=\"486.352\" cy=\"1159.28\" r=\"14\"/>\n",
       "<circle clip-path=\"url(#clip1405)\" style=\"fill:#fa9707; stroke:none; fill-opacity:0.4\" cx=\"495.268\" cy=\"1099.65\" r=\"14\"/>\n",
       "<circle clip-path=\"url(#clip1405)\" style=\"fill:#fa9707; stroke:none; fill-opacity:0.4\" cx=\"495.268\" cy=\"1320.86\" r=\"14\"/>\n",
       "<circle clip-path=\"url(#clip1405)\" style=\"fill:#fa9707; stroke:none; fill-opacity:0.4\" cx=\"505.359\" cy=\"1422.8\" r=\"14\"/>\n",
       "<circle clip-path=\"url(#clip1405)\" style=\"fill:#fa9707; stroke:none; fill-opacity:0.4\" cx=\"505.359\" cy=\"1422.8\" r=\"14\"/>\n",
       "<circle clip-path=\"url(#clip1405)\" style=\"fill:#fa9707; stroke:none; fill-opacity:0.4\" cx=\"505.359\" cy=\"1320.86\" r=\"14\"/>\n",
       "<circle clip-path=\"url(#clip1405)\" style=\"fill:#fa9707; stroke:none; fill-opacity:0.4\" cx=\"514.487\" cy=\"1186.1\" r=\"14\"/>\n",
       "<circle clip-path=\"url(#clip1405)\" style=\"fill:#fa9707; stroke:none; fill-opacity:0.4\" cx=\"514.487\" cy=\"1422.8\" r=\"14\"/>\n",
       "<circle clip-path=\"url(#clip1405)\" style=\"fill:#fa9707; stroke:none; fill-opacity:0.4\" cx=\"519.574\" cy=\"1422.8\" r=\"14\"/>\n",
       "<circle clip-path=\"url(#clip1405)\" style=\"fill:#fa9707; stroke:none; fill-opacity:0.4\" cx=\"522.82\" cy=\"1116.97\" r=\"14\"/>\n",
       "<circle clip-path=\"url(#clip1405)\" style=\"fill:#fa9707; stroke:none; fill-opacity:0.4\" cx=\"532.007\" cy=\"1045.57\" r=\"14\"/>\n",
       "<circle clip-path=\"url(#clip1405)\" style=\"fill:#fa9707; stroke:none; fill-opacity:0.4\" cx=\"537.584\" cy=\"1422.8\" r=\"14\"/>\n",
       "<circle clip-path=\"url(#clip1405)\" style=\"fill:#fa9707; stroke:none; fill-opacity:0.4\" cx=\"556.179\" cy=\"1261.22\" r=\"14\"/>\n",
       "<circle clip-path=\"url(#clip1405)\" style=\"fill:#fa9707; stroke:none; fill-opacity:0.4\" cx=\"557.522\" cy=\"1261.22\" r=\"14\"/>\n",
       "<circle clip-path=\"url(#clip1405)\" style=\"fill:#fa9707; stroke:none; fill-opacity:0.4\" cx=\"559.501\" cy=\"1218.91\" r=\"14\"/>\n",
       "<circle clip-path=\"url(#clip1405)\" style=\"fill:#fa9707; stroke:none; fill-opacity:0.4\" cx=\"561.654\" cy=\"1099.65\" r=\"14\"/>\n",
       "<circle clip-path=\"url(#clip1405)\" style=\"fill:#fa9707; stroke:none; fill-opacity:0.4\" cx=\"562.184\" cy=\"1422.8\" r=\"14\"/>\n",
       "<circle clip-path=\"url(#clip1405)\" style=\"fill:#fa9707; stroke:none; fill-opacity:0.4\" cx=\"571.745\" cy=\"1320.86\" r=\"14\"/>\n",
       "<circle clip-path=\"url(#clip1405)\" style=\"fill:#fa9707; stroke:none; fill-opacity:0.4\" cx=\"573.923\" cy=\"1136.61\" r=\"14\"/>\n",
       "<circle clip-path=\"url(#clip1405)\" style=\"fill:#fa9707; stroke:none; fill-opacity:0.4\" cx=\"596.851\" cy=\"1084.15\" r=\"14\"/>\n",
       "<circle clip-path=\"url(#clip1405)\" style=\"fill:#fa9707; stroke:none; fill-opacity:0.4\" cx=\"596.873\" cy=\"1024.52\" r=\"14\"/>\n",
       "<circle clip-path=\"url(#clip1405)\" style=\"fill:#fa9707; stroke:none; fill-opacity:0.4\" cx=\"596.873\" cy=\"1422.8\" r=\"14\"/>\n",
       "<circle clip-path=\"url(#clip1405)\" style=\"fill:#fa9707; stroke:none; fill-opacity:0.4\" cx=\"613.409\" cy=\"1218.91\" r=\"14\"/>\n",
       "<circle clip-path=\"url(#clip1405)\" style=\"fill:#fa9707; stroke:none; fill-opacity:0.4\" cx=\"616.759\" cy=\"1015.03\" r=\"14\"/>\n",
       "<circle clip-path=\"url(#clip1405)\" style=\"fill:#fa9707; stroke:none; fill-opacity:0.4\" cx=\"621.004\" cy=\"1186.1\" r=\"14\"/>\n",
       "<circle clip-path=\"url(#clip1405)\" style=\"fill:#fa9707; stroke:none; fill-opacity:0.4\" cx=\"626.803\" cy=\"1186.1\" r=\"14\"/>\n",
       "<circle clip-path=\"url(#clip1405)\" style=\"fill:#fa9707; stroke:none; fill-opacity:0.4\" cx=\"632.586\" cy=\"1070.13\" r=\"14\"/>\n",
       "<circle clip-path=\"url(#clip1405)\" style=\"fill:#fa9707; stroke:none; fill-opacity:0.4\" cx=\"638.131\" cy=\"1084.15\" r=\"14\"/>\n",
       "<circle clip-path=\"url(#clip1405)\" style=\"fill:#fa9707; stroke:none; fill-opacity:0.4\" cx=\"638.131\" cy=\"1218.91\" r=\"14\"/>\n",
       "<circle clip-path=\"url(#clip1405)\" style=\"fill:#fa9707; stroke:none; fill-opacity:0.4\" cx=\"638.131\" cy=\"1422.8\" r=\"14\"/>\n",
       "<circle clip-path=\"url(#clip1405)\" style=\"fill:#fa9707; stroke:none; fill-opacity:0.4\" cx=\"652.959\" cy=\"1116.97\" r=\"14\"/>\n",
       "<circle clip-path=\"url(#clip1405)\" style=\"fill:#fa9707; stroke:none; fill-opacity:0.4\" cx=\"656.821\" cy=\"1034.67\" r=\"14\"/>\n",
       "<circle clip-path=\"url(#clip1405)\" style=\"fill:#fa9707; stroke:none; fill-opacity:0.4\" cx=\"657.176\" cy=\"955.394\" r=\"14\"/>\n",
       "<circle clip-path=\"url(#clip1405)\" style=\"fill:#fa9707; stroke:none; fill-opacity:0.4\" cx=\"658.652\" cy=\"887.809\" r=\"14\"/>\n",
       "<circle clip-path=\"url(#clip1405)\" style=\"fill:#fa9707; stroke:none; fill-opacity:0.4\" cx=\"663.258\" cy=\"1070.13\" r=\"14\"/>\n",
       "<circle clip-path=\"url(#clip1405)\" style=\"fill:#fa9707; stroke:none; fill-opacity:0.4\" cx=\"666.873\" cy=\"1116.97\" r=\"14\"/>\n",
       "<circle clip-path=\"url(#clip1405)\" style=\"fill:#fa9707; stroke:none; fill-opacity:0.4\" cx=\"676.853\" cy=\"1320.86\" r=\"14\"/>\n",
       "<circle clip-path=\"url(#clip1405)\" style=\"fill:#fa9707; stroke:none; fill-opacity:0.4\" cx=\"679.91\" cy=\"982.209\" r=\"14\"/>\n",
       "<circle clip-path=\"url(#clip1405)\" style=\"fill:#fa9707; stroke:none; fill-opacity:0.4\" cx=\"681.713\" cy=\"1261.22\" r=\"14\"/>\n",
       "<circle clip-path=\"url(#clip1405)\" style=\"fill:#fa9707; stroke:none; fill-opacity:0.4\" cx=\"683.486\" cy=\"1099.65\" r=\"14\"/>\n",
       "<circle clip-path=\"url(#clip1405)\" style=\"fill:#fa9707; stroke:none; fill-opacity:0.4\" cx=\"687.373\" cy=\"1218.91\" r=\"14\"/>\n",
       "<circle clip-path=\"url(#clip1405)\" style=\"fill:#fa9707; stroke:none; fill-opacity:0.4\" cx=\"687.604\" cy=\"955.394\" r=\"14\"/>\n",
       "<circle clip-path=\"url(#clip1405)\" style=\"fill:#fa9707; stroke:none; fill-opacity:0.4\" cx=\"691.176\" cy=\"922.576\" r=\"14\"/>\n",
       "<circle clip-path=\"url(#clip1405)\" style=\"fill:#fa9707; stroke:none; fill-opacity:0.4\" cx=\"693.14\" cy=\"989.753\" r=\"14\"/>\n",
       "<circle clip-path=\"url(#clip1405)\" style=\"fill:#fa9707; stroke:none; fill-opacity:0.4\" cx=\"699.604\" cy=\"1099.65\" r=\"14\"/>\n",
       "<circle clip-path=\"url(#clip1405)\" style=\"fill:#fa9707; stroke:none; fill-opacity:0.4\" cx=\"707.58\" cy=\"1186.1\" r=\"14\"/>\n",
       "<circle clip-path=\"url(#clip1405)\" style=\"fill:#fa9707; stroke:none; fill-opacity:0.4\" cx=\"716.856\" cy=\"1261.22\" r=\"14\"/>\n",
       "<circle clip-path=\"url(#clip1405)\" style=\"fill:#fa9707; stroke:none; fill-opacity:0.4\" cx=\"718.525\" cy=\"917.753\" r=\"14\"/>\n",
       "<circle clip-path=\"url(#clip1405)\" style=\"fill:#fa9707; stroke:none; fill-opacity:0.4\" cx=\"719.144\" cy=\"1218.91\" r=\"14\"/>\n",
       "<circle clip-path=\"url(#clip1405)\" style=\"fill:#fa9707; stroke:none; fill-opacity:0.4\" cx=\"725.888\" cy=\"1099.65\" r=\"14\"/>\n",
       "<circle clip-path=\"url(#clip1405)\" style=\"fill:#fa9707; stroke:none; fill-opacity:0.4\" cx=\"735.017\" cy=\"1045.57\" r=\"14\"/>\n",
       "<circle clip-path=\"url(#clip1405)\" style=\"fill:#fa9707; stroke:none; fill-opacity:0.4\" cx=\"735.017\" cy=\"1218.91\" r=\"14\"/>\n",
       "<circle clip-path=\"url(#clip1405)\" style=\"fill:#fa9707; stroke:none; fill-opacity:0.4\" cx=\"735.884\" cy=\"982.209\" r=\"14\"/>\n",
       "<circle clip-path=\"url(#clip1405)\" style=\"fill:#fa9707; stroke:none; fill-opacity:0.4\" cx=\"739.191\" cy=\"989.753\" r=\"14\"/>\n",
       "<circle clip-path=\"url(#clip1405)\" style=\"fill:#fa9707; stroke:none; fill-opacity:0.4\" cx=\"745.283\" cy=\"1422.8\" r=\"14\"/>\n",
       "<circle clip-path=\"url(#clip1405)\" style=\"fill:#fa9707; stroke:none; fill-opacity:0.4\" cx=\"753.561\" cy=\"1015.03\" r=\"14\"/>\n",
       "<circle clip-path=\"url(#clip1405)\" style=\"fill:#fa9707; stroke:none; fill-opacity:0.4\" cx=\"753.919\" cy=\"1422.8\" r=\"14\"/>\n",
       "<circle clip-path=\"url(#clip1405)\" style=\"fill:#fa9707; stroke:none; fill-opacity:0.4\" cx=\"760.349\" cy=\"908.558\" r=\"14\"/>\n",
       "<circle clip-path=\"url(#clip1405)\" style=\"fill:#fa9707; stroke:none; fill-opacity:0.4\" cx=\"764.721\" cy=\"1218.91\" r=\"14\"/>\n",
       "<circle clip-path=\"url(#clip1405)\" style=\"fill:#fa9707; stroke:none; fill-opacity:0.4\" cx=\"765.126\" cy=\"833.429\" r=\"14\"/>\n",
       "<circle clip-path=\"url(#clip1405)\" style=\"fill:#fa9707; stroke:none; fill-opacity:0.4\" cx=\"771.559\" cy=\"922.576\" r=\"14\"/>\n",
       "<circle clip-path=\"url(#clip1405)\" style=\"fill:#fa9707; stroke:none; fill-opacity:0.4\" cx=\"782.396\" cy=\"1057.34\" r=\"14\"/>\n",
       "<circle clip-path=\"url(#clip1405)\" style=\"fill:#fa9707; stroke:none; fill-opacity:0.4\" cx=\"784.418\" cy=\"975.033\" r=\"14\"/>\n",
       "<circle clip-path=\"url(#clip1405)\" style=\"fill:#fa9707; stroke:none; fill-opacity:0.4\" cx=\"799.601\" cy=\"1070.13\" r=\"14\"/>\n",
       "<circle clip-path=\"url(#clip1405)\" style=\"fill:#fa9707; stroke:none; fill-opacity:0.4\" cx=\"817.917\" cy=\"1015.03\" r=\"14\"/>\n",
       "<circle clip-path=\"url(#clip1405)\" style=\"fill:#fa9707; stroke:none; fill-opacity:0.4\" cx=\"827.198\" cy=\"975.033\" r=\"14\"/>\n",
       "<circle clip-path=\"url(#clip1405)\" style=\"fill:#fa9707; stroke:none; fill-opacity:0.4\" cx=\"827.861\" cy=\"1218.91\" r=\"14\"/>\n",
       "<circle clip-path=\"url(#clip1405)\" style=\"fill:#fa9707; stroke:none; fill-opacity:0.4\" cx=\"833.628\" cy=\"1218.91\" r=\"14\"/>\n",
       "<circle clip-path=\"url(#clip1405)\" style=\"fill:#fa9707; stroke:none; fill-opacity:0.4\" cx=\"845.652\" cy=\"1006.11\" r=\"14\"/>\n",
       "<circle clip-path=\"url(#clip1405)\" style=\"fill:#fa9707; stroke:none; fill-opacity:0.4\" cx=\"858.66\" cy=\"922.576\" r=\"14\"/>\n",
       "<circle clip-path=\"url(#clip1405)\" style=\"fill:#fa9707; stroke:none; fill-opacity:0.4\" cx=\"880.032\" cy=\"1099.65\" r=\"14\"/>\n",
       "<circle clip-path=\"url(#clip1405)\" style=\"fill:#fa9707; stroke:none; fill-opacity:0.4\" cx=\"956.585\" cy=\"961.654\" r=\"14\"/>\n",
       "<circle clip-path=\"url(#clip1405)\" style=\"fill:#fa9707; stroke:none; fill-opacity:0.4\" cx=\"1030.27\" cy=\"1218.91\" r=\"14\"/>\n",
       "<circle clip-path=\"url(#clip1405)\" style=\"fill:#fa9707; stroke:none; fill-opacity:0.4\" cx=\"1083.76\" cy=\"975.033\" r=\"14\"/>\n",
       "<polyline clip-path=\"url(#clip1405)\" style=\"stroke:#000000; stroke-width:4; stroke-opacity:1; fill:none\" points=\"\n",
       "  341.124,1330.74 1083.76,915.886 \n",
       "  \"/>\n",
       "<polygon clip-path=\"url(#clip1401)\" points=\"\n",
       "1352.75,1440.48 2321.26,1440.48 2321.26,815.748 1352.75,815.748 \n",
       "  \" fill=\"#ffffff\" fill-rule=\"evenodd\" fill-opacity=\"1\"/>\n",
       "<defs>\n",
       "  <clipPath id=\"clip1406\">\n",
       "    <rect x=\"1352\" y=\"815\" width=\"970\" height=\"626\"/>\n",
       "  </clipPath>\n",
       "</defs>\n",
       "<polyline clip-path=\"url(#clip1401)\" style=\"stroke:#000000; stroke-width:4; stroke-opacity:0; fill:none\" points=\"\n",
       "  1352.75,1440.48 2321.26,1440.48 \n",
       "  \"/>\n",
       "<polyline clip-path=\"url(#clip1401)\" style=\"stroke:#000000; stroke-width:4; stroke-opacity:0; fill:none\" points=\"\n",
       "  1352.75,1440.48 1352.75,815.748 \n",
       "  \"/>\n",
       "<polyline clip-path=\"url(#clip1401)\" style=\"stroke:#000000; stroke-width:4; stroke-opacity:1; fill:none\" points=\"\n",
       "  1406.02,1440.48 1406.02,1431.11 \n",
       "  \"/>\n",
       "<polyline clip-path=\"url(#clip1401)\" style=\"stroke:#000000; stroke-width:4; stroke-opacity:1; fill:none\" points=\"\n",
       "  1578.41,1440.48 1578.41,1431.11 \n",
       "  \"/>\n",
       "<polyline clip-path=\"url(#clip1401)\" style=\"stroke:#000000; stroke-width:4; stroke-opacity:1; fill:none\" points=\"\n",
       "  1750.81,1440.48 1750.81,1431.11 \n",
       "  \"/>\n",
       "<polyline clip-path=\"url(#clip1401)\" style=\"stroke:#000000; stroke-width:4; stroke-opacity:1; fill:none\" points=\"\n",
       "  1923.2,1440.48 1923.2,1431.11 \n",
       "  \"/>\n",
       "<polyline clip-path=\"url(#clip1401)\" style=\"stroke:#000000; stroke-width:4; stroke-opacity:1; fill:none\" points=\"\n",
       "  2095.6,1440.48 2095.6,1431.11 \n",
       "  \"/>\n",
       "<polyline clip-path=\"url(#clip1401)\" style=\"stroke:#000000; stroke-width:4; stroke-opacity:1; fill:none\" points=\"\n",
       "  2267.99,1440.48 2267.99,1431.11 \n",
       "  \"/>\n",
       "<polyline clip-path=\"url(#clip1401)\" style=\"stroke:#000000; stroke-width:4; stroke-opacity:1; fill:none\" points=\"\n",
       "  1352.75,1422.8 1367.27,1422.8 \n",
       "  \"/>\n",
       "<polyline clip-path=\"url(#clip1401)\" style=\"stroke:#000000; stroke-width:4; stroke-opacity:1; fill:none\" points=\"\n",
       "  1352.75,1263.51 1367.27,1263.51 \n",
       "  \"/>\n",
       "<polyline clip-path=\"url(#clip1401)\" style=\"stroke:#000000; stroke-width:4; stroke-opacity:1; fill:none\" points=\"\n",
       "  1352.75,1104.22 1367.27,1104.22 \n",
       "  \"/>\n",
       "<polyline clip-path=\"url(#clip1401)\" style=\"stroke:#000000; stroke-width:4; stroke-opacity:1; fill:none\" points=\"\n",
       "  1352.75,944.932 1367.27,944.932 \n",
       "  \"/>\n",
       "<g clip-path=\"url(#clip1401)\">\n",
       "<text style=\"fill:#000000; fill-opacity:1; font-family:Arial,Helvetica Neue,Helvetica,sans-serif; font-size:48px; text-anchor:middle;\" transform=\"rotate(0, 1406.02, 1494.48)\" x=\"1406.02\" y=\"1494.48\">0</text>\n",
       "</g>\n",
       "<g clip-path=\"url(#clip1401)\">\n",
       "<text style=\"fill:#000000; fill-opacity:1; font-family:Arial,Helvetica Neue,Helvetica,sans-serif; font-size:48px; text-anchor:middle;\" transform=\"rotate(0, 1578.41, 1494.48)\" x=\"1578.41\" y=\"1494.48\">1</text>\n",
       "</g>\n",
       "<g clip-path=\"url(#clip1401)\">\n",
       "<text style=\"fill:#000000; fill-opacity:1; font-family:Arial,Helvetica Neue,Helvetica,sans-serif; font-size:48px; text-anchor:middle;\" transform=\"rotate(0, 1750.81, 1494.48)\" x=\"1750.81\" y=\"1494.48\">2</text>\n",
       "</g>\n",
       "<g clip-path=\"url(#clip1401)\">\n",
       "<text style=\"fill:#000000; fill-opacity:1; font-family:Arial,Helvetica Neue,Helvetica,sans-serif; font-size:48px; text-anchor:middle;\" transform=\"rotate(0, 1923.2, 1494.48)\" x=\"1923.2\" y=\"1494.48\">3</text>\n",
       "</g>\n",
       "<g clip-path=\"url(#clip1401)\">\n",
       "<text style=\"fill:#000000; fill-opacity:1; font-family:Arial,Helvetica Neue,Helvetica,sans-serif; font-size:48px; text-anchor:middle;\" transform=\"rotate(0, 2095.6, 1494.48)\" x=\"2095.6\" y=\"1494.48\">4</text>\n",
       "</g>\n",
       "<g clip-path=\"url(#clip1401)\">\n",
       "<text style=\"fill:#000000; fill-opacity:1; font-family:Arial,Helvetica Neue,Helvetica,sans-serif; font-size:48px; text-anchor:middle;\" transform=\"rotate(0, 2267.99, 1494.48)\" x=\"2267.99\" y=\"1494.48\">5</text>\n",
       "</g>\n",
       "<g clip-path=\"url(#clip1401)\">\n",
       "<text style=\"fill:#000000; fill-opacity:1; font-family:Arial,Helvetica Neue,Helvetica,sans-serif; font-size:48px; text-anchor:end;\" transform=\"rotate(0, 1328.75, 1440.3)\" x=\"1328.75\" y=\"1440.3\"></text>\n",
       "</g>\n",
       "<g clip-path=\"url(#clip1401)\">\n",
       "<text style=\"fill:#000000; fill-opacity:1; font-family:Arial,Helvetica Neue,Helvetica,sans-serif; font-size:48px; text-anchor:end;\" transform=\"rotate(0, 1328.75, 1281.01)\" x=\"1328.75\" y=\"1281.01\"></text>\n",
       "</g>\n",
       "<g clip-path=\"url(#clip1401)\">\n",
       "<text style=\"fill:#000000; fill-opacity:1; font-family:Arial,Helvetica Neue,Helvetica,sans-serif; font-size:48px; text-anchor:end;\" transform=\"rotate(0, 1328.75, 1121.72)\" x=\"1328.75\" y=\"1121.72\"></text>\n",
       "</g>\n",
       "<g clip-path=\"url(#clip1401)\">\n",
       "<text style=\"fill:#000000; fill-opacity:1; font-family:Arial,Helvetica Neue,Helvetica,sans-serif; font-size:48px; text-anchor:end;\" transform=\"rotate(0, 1328.75, 962.432)\" x=\"1328.75\" y=\"962.432\"></text>\n",
       "</g>\n",
       "<g clip-path=\"url(#clip1401)\">\n",
       "<text style=\"fill:#000000; fill-opacity:1; font-family:Arial,Helvetica Neue,Helvetica,sans-serif; font-size:66px; text-anchor:middle;\" transform=\"rotate(0, 1837, 1590.4)\" x=\"1837\" y=\"1590.4\">lnduration</text>\n",
       "</g>\n",
       "<polygon clip-path=\"url(#clip1406)\" points=\"\n",
       "1406.02,833.429 1406.02,1422.8 1578.41,1422.8 1578.41,833.429 1406.02,833.429 1406.02,833.429 \n",
       "  \" fill=\"#000000\" fill-rule=\"evenodd\" fill-opacity=\"1\"/>\n",
       "<polyline clip-path=\"url(#clip1406)\" style=\"stroke:#000000; stroke-width:4; stroke-opacity:1; fill:none\" points=\"\n",
       "  1406.02,833.429 1406.02,1422.8 1578.41,1422.8 1578.41,833.429 1406.02,833.429 \n",
       "  \"/>\n",
       "<polygon clip-path=\"url(#clip1406)\" points=\"\n",
       "1578.41,897.145 1578.41,1422.8 1750.81,1422.8 1750.81,897.145 1578.41,897.145 1578.41,897.145 \n",
       "  \" fill=\"#000000\" fill-rule=\"evenodd\" fill-opacity=\"1\"/>\n",
       "<polyline clip-path=\"url(#clip1406)\" style=\"stroke:#000000; stroke-width:4; stroke-opacity:1; fill:none\" points=\"\n",
       "  1578.41,897.145 1578.41,1422.8 1750.81,1422.8 1750.81,897.145 1578.41,897.145 \n",
       "  \"/>\n",
       "<polygon clip-path=\"url(#clip1406)\" points=\"\n",
       "1750.81,944.932 1750.81,1422.8 1923.2,1422.8 1923.2,944.932 1750.81,944.932 1750.81,944.932 \n",
       "  \" fill=\"#000000\" fill-rule=\"evenodd\" fill-opacity=\"1\"/>\n",
       "<polyline clip-path=\"url(#clip1406)\" style=\"stroke:#000000; stroke-width:4; stroke-opacity:1; fill:none\" points=\"\n",
       "  1750.81,944.932 1750.81,1422.8 1923.2,1422.8 1923.2,944.932 1750.81,944.932 \n",
       "  \"/>\n",
       "<polygon clip-path=\"url(#clip1406)\" points=\"\n",
       "1923.2,1215.72 1923.2,1422.8 2095.6,1422.8 2095.6,1215.72 1923.2,1215.72 1923.2,1215.72 \n",
       "  \" fill=\"#000000\" fill-rule=\"evenodd\" fill-opacity=\"1\"/>\n",
       "<polyline clip-path=\"url(#clip1406)\" style=\"stroke:#000000; stroke-width:4; stroke-opacity:1; fill:none\" points=\"\n",
       "  1923.2,1215.72 1923.2,1422.8 2095.6,1422.8 2095.6,1215.72 1923.2,1215.72 \n",
       "  \"/>\n",
       "<polygon clip-path=\"url(#clip1406)\" points=\"\n",
       "2095.6,1406.87 2095.6,1422.8 2267.99,1422.8 2267.99,1406.87 2095.6,1406.87 2095.6,1406.87 \n",
       "  \" fill=\"#000000\" fill-rule=\"evenodd\" fill-opacity=\"1\"/>\n",
       "<polyline clip-path=\"url(#clip1406)\" style=\"stroke:#000000; stroke-width:4; stroke-opacity:1; fill:none\" points=\"\n",
       "  2095.6,1406.87 2095.6,1422.8 2267.99,1422.8 2267.99,1406.87 2095.6,1406.87 \n",
       "  \"/>\n",
       "</svg>\n"
      ]
     },
     "execution_count": 55,
     "metadata": {},
     "output_type": "execute_result"
    }
   ],
   "source": [
    "@df df2 corrplot([:lnbdb :lnduration], grid = false)"
   ]
  },
  {
   "cell_type": "code",
   "execution_count": null,
   "metadata": {},
   "outputs": [],
   "source": []
  }
 ],
 "metadata": {
  "kernelspec": {
   "display_name": "Julia 1.5.3",
   "language": "julia",
   "name": "julia-1.5"
  },
  "language_info": {
   "file_extension": ".jl",
   "mimetype": "application/julia",
   "name": "julia",
   "version": "1.5.3"
  }
 },
 "nbformat": 4,
 "nbformat_minor": 2
}
