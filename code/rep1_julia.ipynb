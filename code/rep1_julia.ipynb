{
 "cells": [
  {
   "cell_type": "markdown",
   "metadata": {},
   "source": [
    "# Setup"
   ]
  },
  {
   "cell_type": "code",
   "execution_count": 1,
   "metadata": {},
   "outputs": [],
   "source": [
    "# LOAD PACKAGES\n",
    "using Pkg"
   ]
  },
  {
   "cell_type": "code",
   "execution_count": 2,
   "metadata": {},
   "outputs": [
    {
     "name": "stderr",
     "output_type": "stream",
     "text": [
      "\u001b[32m\u001b[1m   Updating\u001b[22m\u001b[39m registry at `/srv/julia/pkg/registries/General`\n",
      "\u001b[32m\u001b[1m  Resolving\u001b[22m\u001b[39m package versions...\n",
      "\u001b[32m\u001b[1m  Installed\u001b[22m\u001b[39m PooledArrays ──────────────── v0.5.3\n",
      "\u001b[32m\u001b[1m  Installed\u001b[22m\u001b[39m DataValueInterfaces ───────── v1.0.0\n",
      "\u001b[32m\u001b[1m  Installed\u001b[22m\u001b[39m IteratorInterfaceExtensions ─ v1.0.0\n",
      "\u001b[32m\u001b[1m  Installed\u001b[22m\u001b[39m SentinelArrays ────────────── v1.2.16\n",
      "\u001b[32m\u001b[1m  Installed\u001b[22m\u001b[39m DataAPI ───────────────────── v1.4.0\n",
      "\u001b[32m\u001b[1m  Installed\u001b[22m\u001b[39m Tables ────────────────────── v1.2.2\n",
      "\u001b[32m\u001b[1m  Installed\u001b[22m\u001b[39m CSV ───────────────────────── v0.8.2\n",
      "\u001b[32m\u001b[1m  Installed\u001b[22m\u001b[39m TableTraits ───────────────── v1.0.0\n",
      "\u001b[32m\u001b[1mUpdating\u001b[22m\u001b[39m `~/Project.toml`\n",
      " \u001b[90m [336ed68f] \u001b[39m\u001b[92m+ CSV v0.8.2\u001b[39m\n",
      "\u001b[32m\u001b[1mUpdating\u001b[22m\u001b[39m `~/Manifest.toml`\n",
      " \u001b[90m [336ed68f] \u001b[39m\u001b[92m+ CSV v0.8.2\u001b[39m\n",
      " \u001b[90m [9a962f9c] \u001b[39m\u001b[92m+ DataAPI v1.4.0\u001b[39m\n",
      " \u001b[90m [e2d170a0] \u001b[39m\u001b[92m+ DataValueInterfaces v1.0.0\u001b[39m\n",
      " \u001b[90m [82899510] \u001b[39m\u001b[92m+ IteratorInterfaceExtensions v1.0.0\u001b[39m\n",
      " \u001b[90m [69de0a69] \u001b[39m\u001b[92m+ Parsers v1.0.15\u001b[39m\n",
      " \u001b[90m [2dfb63ee] \u001b[39m\u001b[92m+ PooledArrays v0.5.3\u001b[39m\n",
      " \u001b[90m [91c51154] \u001b[39m\u001b[92m+ SentinelArrays v1.2.16\u001b[39m\n",
      " \u001b[90m [3783bdb8] \u001b[39m\u001b[92m+ TableTraits v1.0.0\u001b[39m\n",
      " \u001b[90m [bd369af6] \u001b[39m\u001b[92m+ Tables v1.2.2\u001b[39m\n",
      " \u001b[90m [2a0f44e3] \u001b[39m\u001b[92m+ Base64\u001b[39m\n",
      " \u001b[90m [ade2ca70] \u001b[39m\u001b[92m+ Dates\u001b[39m\n",
      " \u001b[90m [8ba89e20] \u001b[39m\u001b[92m+ Distributed\u001b[39m\n",
      " \u001b[90m [b77e0a4c] \u001b[39m\u001b[92m+ InteractiveUtils\u001b[39m\n",
      " \u001b[90m [8f399da3] \u001b[39m\u001b[92m+ Libdl\u001b[39m\n",
      " \u001b[90m [37e2e46d] \u001b[39m\u001b[92m+ LinearAlgebra\u001b[39m\n",
      " \u001b[90m [56ddb016] \u001b[39m\u001b[92m+ Logging\u001b[39m\n",
      " \u001b[90m [d6f4376e] \u001b[39m\u001b[92m+ Markdown\u001b[39m\n",
      " \u001b[90m [a63ad114] \u001b[39m\u001b[92m+ Mmap\u001b[39m\n",
      " \u001b[90m [de0858da] \u001b[39m\u001b[92m+ Printf\u001b[39m\n",
      " \u001b[90m [9a3f8284] \u001b[39m\u001b[92m+ Random\u001b[39m\n",
      " \u001b[90m [9e88b42a] \u001b[39m\u001b[92m+ Serialization\u001b[39m\n",
      " \u001b[90m [6462fe0b] \u001b[39m\u001b[92m+ Sockets\u001b[39m\n",
      " \u001b[90m [8dfed614] \u001b[39m\u001b[92m+ Test\u001b[39m\n",
      " \u001b[90m [4ec0a83e] \u001b[39m\u001b[92m+ Unicode\u001b[39m\n",
      "\u001b[32m\u001b[1m  Resolving\u001b[22m\u001b[39m package versions...\n",
      "\u001b[32m\u001b[1m  Installed\u001b[22m\u001b[39m FreqTables ───────── v0.4.2\n",
      "\u001b[32m\u001b[1m  Installed\u001b[22m\u001b[39m NamedArrays ──────── v0.9.4\n",
      "\u001b[32m\u001b[1m  Installed\u001b[22m\u001b[39m StructTypes ──────── v1.2.1\n",
      "\u001b[32m\u001b[1m  Installed\u001b[22m\u001b[39m OrderedCollections ─ v1.3.2\n",
      "\u001b[32m\u001b[1m  Installed\u001b[22m\u001b[39m InvertedIndices ──── v1.0.0\n",
      "\u001b[32m\u001b[1m  Installed\u001b[22m\u001b[39m Requires ─────────── v1.1.2\n",
      "\u001b[32m\u001b[1m  Installed\u001b[22m\u001b[39m Compat ───────────── v3.25.0\n",
      "\u001b[32m\u001b[1m  Installed\u001b[22m\u001b[39m Combinatorics ────── v1.0.2\n",
      "\u001b[32m\u001b[1m  Installed\u001b[22m\u001b[39m Missings ─────────── v0.4.4\n",
      "\u001b[32m\u001b[1m  Installed\u001b[22m\u001b[39m CategoricalArrays ── v0.9.0\n",
      "\u001b[32m\u001b[1m  Installed\u001b[22m\u001b[39m DataStructures ───── v0.18.8\n",
      "\u001b[32m\u001b[1mUpdating\u001b[22m\u001b[39m `~/Project.toml`\n",
      " \u001b[90m [da1fdf0e] \u001b[39m\u001b[92m+ FreqTables v0.4.2\u001b[39m\n",
      "\u001b[32m\u001b[1mUpdating\u001b[22m\u001b[39m `~/Manifest.toml`\n",
      " \u001b[90m [324d7699] \u001b[39m\u001b[92m+ CategoricalArrays v0.9.0\u001b[39m\n",
      " \u001b[90m [861a8166] \u001b[39m\u001b[92m+ Combinatorics v1.0.2\u001b[39m\n",
      " \u001b[90m [34da2185] \u001b[39m\u001b[92m+ Compat v3.25.0\u001b[39m\n",
      " \u001b[90m [864edb3b] \u001b[39m\u001b[92m+ DataStructures v0.18.8\u001b[39m\n",
      " \u001b[90m [da1fdf0e] \u001b[39m\u001b[92m+ FreqTables v0.4.2\u001b[39m\n",
      " \u001b[90m [41ab1584] \u001b[39m\u001b[92m+ InvertedIndices v1.0.0\u001b[39m\n",
      " \u001b[90m [682c06a0] \u001b[39m\u001b[92m+ JSON v0.21.1\u001b[39m\n",
      " \u001b[90m [e1d29d7a] \u001b[39m\u001b[92m+ Missings v0.4.4\u001b[39m\n",
      " \u001b[90m [86f7a689] \u001b[39m\u001b[92m+ NamedArrays v0.9.4\u001b[39m\n",
      " \u001b[90m [bac558e1] \u001b[39m\u001b[92m+ OrderedCollections v1.3.2\u001b[39m\n",
      " \u001b[90m [ae029012] \u001b[39m\u001b[92m+ Requires v1.1.2\u001b[39m\n",
      " \u001b[90m [856f2bd8] \u001b[39m\u001b[92m+ StructTypes v1.2.1\u001b[39m\n",
      " \u001b[90m [8bb1440f] \u001b[39m\u001b[92m+ DelimitedFiles\u001b[39m\n",
      " \u001b[90m [9fa8497b] \u001b[39m\u001b[92m+ Future\u001b[39m\n",
      " \u001b[90m [76f85450] \u001b[39m\u001b[92m+ LibGit2\u001b[39m\n",
      " \u001b[90m [44cfe95a] \u001b[39m\u001b[92m+ Pkg\u001b[39m\n",
      " \u001b[90m [3fa0cd96] \u001b[39m\u001b[92m+ REPL\u001b[39m\n",
      " \u001b[90m [ea8e919c] \u001b[39m\u001b[92m+ SHA\u001b[39m\n",
      " \u001b[90m [1a1011a3] \u001b[39m\u001b[92m+ SharedArrays\u001b[39m\n",
      " \u001b[90m [2f01184e] \u001b[39m\u001b[92m+ SparseArrays\u001b[39m\n",
      " \u001b[90m [10745b16] \u001b[39m\u001b[92m+ Statistics\u001b[39m\n",
      " \u001b[90m [cf7118a7] \u001b[39m\u001b[92m+ UUIDs\u001b[39m\n",
      "\u001b[32m\u001b[1m  Resolving\u001b[22m\u001b[39m package versions...\n",
      "\u001b[32m\u001b[1m  Installed\u001b[22m\u001b[39m URIs ──── v1.1.0\n",
      "\u001b[32m\u001b[1m  Installed\u001b[22m\u001b[39m IniFile ─ v0.5.0\n",
      "\u001b[32m\u001b[1m  Installed\u001b[22m\u001b[39m HTTP ──── v0.9.2\n",
      "\u001b[32m\u001b[1mUpdating\u001b[22m\u001b[39m `~/Project.toml`\n",
      " \u001b[90m [cd3eb016] \u001b[39m\u001b[92m+ HTTP v0.9.2\u001b[39m\n",
      "\u001b[32m\u001b[1mUpdating\u001b[22m\u001b[39m `~/Manifest.toml`\n",
      " \u001b[90m [56f22d72] \u001b[39m\u001b[92m+ Artifacts v1.3.0\u001b[39m\n",
      " \u001b[90m [cd3eb016] \u001b[39m\u001b[92m+ HTTP v0.9.2\u001b[39m\n",
      " \u001b[90m [83e8ac13] \u001b[39m\u001b[92m+ IniFile v0.5.0\u001b[39m\n",
      " \u001b[90m [692b3bcd] \u001b[39m\u001b[92m+ JLLWrappers v1.2.0\u001b[39m\n",
      " \u001b[90m [739be429] \u001b[39m\u001b[92m+ MbedTLS v1.0.3\u001b[39m\n",
      " \u001b[90m [c8ffd9c3] \u001b[39m\u001b[92m+ MbedTLS_jll v2.16.8+1\u001b[39m\n",
      " \u001b[90m [5c2747f8] \u001b[39m\u001b[92m+ URIs v1.1.0\u001b[39m\n",
      "\u001b[32m\u001b[1m  Resolving\u001b[22m\u001b[39m package versions...\n",
      "\u001b[32m\u001b[1mUpdating\u001b[22m\u001b[39m `~/Project.toml`\n",
      " \u001b[90m [e1d29d7a] \u001b[39m\u001b[92m+ Missings v0.4.4\u001b[39m\n",
      "\u001b[32m\u001b[1mNo Changes\u001b[22m\u001b[39m to `~/Manifest.toml`\n",
      "\u001b[32m\u001b[1m  Resolving\u001b[22m\u001b[39m package versions...\n",
      "\u001b[32m\u001b[1m  Installed\u001b[22m\u001b[39m StatsKit ───────────────────── v0.3.0\n",
      "\u001b[32m\u001b[1m  Installed\u001b[22m\u001b[39m SortingAlgorithms ──────────── v0.3.1\n",
      "\u001b[32m\u001b[1m  Installed\u001b[22m\u001b[39m KernelDensity ──────────────── v0.6.2\n",
      "\u001b[32m\u001b[1m  Installed\u001b[22m\u001b[39m StatsModels ────────────────── v0.6.18\n",
      "\u001b[32m\u001b[1m  Installed\u001b[22m\u001b[39m Rmath_jll ──────────────────── v0.2.2+1\n",
      "\u001b[32m\u001b[1m  Installed\u001b[22m\u001b[39m StatsFuns ──────────────────── v0.9.6\n",
      "\u001b[32m\u001b[1m  Installed\u001b[22m\u001b[39m DataFrames ─────────────────── v0.21.8\n",
      "\u001b[32m\u001b[1m  Installed\u001b[22m\u001b[39m OffsetArrays ───────────────── v1.5.0\n",
      "\u001b[32m\u001b[1m  Installed\u001b[22m\u001b[39m Reexport ───────────────────── v0.2.0\n",
      "\u001b[32m\u001b[1m  Installed\u001b[22m\u001b[39m NearestNeighbors ───────────── v0.4.8\n",
      "\u001b[32m\u001b[1m  Installed\u001b[22m\u001b[39m GLM ────────────────────────── v1.3.11\n",
      "\u001b[32m\u001b[1m  Installed\u001b[22m\u001b[39m MKL_jll ────────────────────── v2020.2.254+0\n",
      "\u001b[32m\u001b[1m  Installed\u001b[22m\u001b[39m Bootstrap ──────────────────── v2.3.1\n",
      "\u001b[32m\u001b[1m  Installed\u001b[22m\u001b[39m DocStringExtensions ────────── v0.8.3\n",
      "\u001b[32m\u001b[1m  Installed\u001b[22m\u001b[39m PDMats ─────────────────────── v0.10.1\n",
      "\u001b[32m\u001b[1m  Installed\u001b[22m\u001b[39m OpenSpecFun_jll ────────────── v0.5.3+4\n",
      "\u001b[32m\u001b[1m  Installed\u001b[22m\u001b[39m StaticArrays ───────────────── v0.12.5\n",
      "\u001b[32m\u001b[1m  Installed\u001b[22m\u001b[39m Distributions ──────────────── v0.23.12\n",
      "\u001b[32m\u001b[1m  Installed\u001b[22m\u001b[39m OpenBLAS_jll ───────────────── v0.3.9+5\n",
      "\u001b[32m\u001b[1m  Installed\u001b[22m\u001b[39m StatsBase ──────────────────── v0.33.2\n",
      "\u001b[32m\u001b[1m  Installed\u001b[22m\u001b[39m Ratios ─────────────────────── v0.4.0\n",
      "\u001b[32m\u001b[1m  Installed\u001b[22m\u001b[39m TimeSeries ─────────────────── v0.19.1\n",
      "\u001b[32m\u001b[1m  Installed\u001b[22m\u001b[39m CSV ────────────────────────── v0.7.10\n",
      "\u001b[32m\u001b[1m  Installed\u001b[22m\u001b[39m QuadGK ─────────────────────── v2.4.1\n",
      "\u001b[32m\u001b[1m  Installed\u001b[22m\u001b[39m FillArrays ─────────────────── v0.9.7\n",
      "\u001b[32m\u001b[1m  Installed\u001b[22m\u001b[39m Roots ──────────────────────── v1.0.7\n",
      "\u001b[32m\u001b[1m  Installed\u001b[22m\u001b[39m AbstractFFTs ───────────────── v1.0.0\n",
      "\u001b[32m\u001b[1m  Installed\u001b[22m\u001b[39m Loess ──────────────────────── v0.5.3\n",
      "\u001b[32m\u001b[1m  Installed\u001b[22m\u001b[39m Clustering ─────────────────── v0.14.2\n",
      "\u001b[32m\u001b[1m  Installed\u001b[22m\u001b[39m Rmath ──────────────────────── v0.6.1\n",
      "\u001b[32m\u001b[1m  Installed\u001b[22m\u001b[39m ShiftedArrays ──────────────── v1.0.0\n",
      "\u001b[32m\u001b[1m  Installed\u001b[22m\u001b[39m RecipesBase ────────────────── v1.1.1\n",
      "\u001b[32m\u001b[1m  Installed\u001b[22m\u001b[39m HypothesisTests ────────────── v0.10.2\n",
      "\u001b[32m\u001b[1m  Installed\u001b[22m\u001b[39m AxisAlgorithms ─────────────── v1.0.0\n",
      "\u001b[32m\u001b[1m  Installed\u001b[22m\u001b[39m Adapt ──────────────────────── v2.4.0\n",
      "\u001b[32m\u001b[1m  Installed\u001b[22m\u001b[39m Arpack ─────────────────────── v0.4.0\n",
      "\u001b[32m\u001b[1m  Installed\u001b[22m\u001b[39m Distances ──────────────────── v0.9.2\n",
      "\u001b[32m\u001b[1m  Installed\u001b[22m\u001b[39m SpecialFunctions ───────────── v0.10.3\n",
      "\u001b[32m\u001b[1m  Installed\u001b[22m\u001b[39m CategoricalArrays ──────────── v0.8.3\n",
      "\u001b[32m\u001b[1m  Installed\u001b[22m\u001b[39m IntelOpenMP_jll ────────────── v2018.0.3+0\n",
      "\u001b[32m\u001b[1m  Installed\u001b[22m\u001b[39m FFTW ───────────────────────── v1.3.1\n",
      "\u001b[32m\u001b[1m  Installed\u001b[22m\u001b[39m Arpack_jll ─────────────────── v3.5.0+3\n",
      "\u001b[32m\u001b[1m  Installed\u001b[22m\u001b[39m MultivariateStats ──────────── v0.7.0\n",
      "\u001b[32m\u001b[1m  Installed\u001b[22m\u001b[39m FFTW_jll ───────────────────── v3.3.9+7\n",
      "\u001b[32m\u001b[1m  Installed\u001b[22m\u001b[39m WoodburyMatrices ───────────── v0.5.3\n",
      "\u001b[32m\u001b[1m  Installed\u001b[22m\u001b[39m Interpolations ─────────────── v0.13.1\n",
      "\u001b[32m\u001b[1m  Installed\u001b[22m\u001b[39m CompilerSupportLibraries_jll ─ v0.3.4+0\n",
      "\u001b[32m\u001b[1mUpdating\u001b[22m\u001b[39m `~/Project.toml`\n",
      " \u001b[90m [336ed68f] \u001b[39m\u001b[95m↓ CSV v0.8.2 ⇒ v0.7.10\u001b[39m\n",
      " \u001b[90m [2cb19f9e] \u001b[39m\u001b[92m+ StatsKit v0.3.0\u001b[39m\n",
      "\u001b[32m\u001b[1mUpdating\u001b[22m\u001b[39m `~/Manifest.toml`\n",
      " \u001b[90m [621f4979] \u001b[39m\u001b[92m+ AbstractFFTs v1.0.0\u001b[39m\n",
      " \u001b[90m [79e6a3ab] \u001b[39m\u001b[92m+ Adapt v2.4.0\u001b[39m\n",
      " \u001b[90m [7d9fca2a] \u001b[39m\u001b[92m+ Arpack v0.4.0\u001b[39m\n",
      " \u001b[90m [68821587] \u001b[39m\u001b[92m+ Arpack_jll v3.5.0+3\u001b[39m\n",
      " \u001b[90m [13072b0f] \u001b[39m\u001b[92m+ AxisAlgorithms v1.0.0\u001b[39m\n",
      " \u001b[90m [e28b5b4c] \u001b[39m\u001b[92m+ Bootstrap v2.3.1\u001b[39m\n",
      " \u001b[90m [336ed68f] \u001b[39m\u001b[95m↓ CSV v0.8.2 ⇒ v0.7.10\u001b[39m\n",
      " \u001b[90m [324d7699] \u001b[39m\u001b[95m↓ CategoricalArrays v0.9.0 ⇒ v0.8.3\u001b[39m\n",
      " \u001b[90m [aaaa29a8] \u001b[39m\u001b[92m+ Clustering v0.14.2\u001b[39m\n",
      " \u001b[90m [e66e0078] \u001b[39m\u001b[92m+ CompilerSupportLibraries_jll v0.3.4+0\u001b[39m\n",
      " \u001b[90m [a93c6f00] \u001b[39m\u001b[92m+ DataFrames v0.21.8\u001b[39m\n",
      " \u001b[90m [b4f34e82] \u001b[39m\u001b[92m+ Distances v0.9.2\u001b[39m\n",
      " \u001b[90m [31c24e10] \u001b[39m\u001b[92m+ Distributions v0.23.12\u001b[39m\n",
      " \u001b[90m [ffbed154] \u001b[39m\u001b[92m+ DocStringExtensions v0.8.3\u001b[39m\n",
      " \u001b[90m [7a1cc6ca] \u001b[39m\u001b[92m+ FFTW v1.3.1\u001b[39m\n",
      " \u001b[90m [f5851436] \u001b[39m\u001b[92m+ FFTW_jll v3.3.9+7\u001b[39m\n",
      " \u001b[90m [1a297f60] \u001b[39m\u001b[92m+ FillArrays v0.9.7\u001b[39m\n",
      " \u001b[90m [38e38edf] \u001b[39m\u001b[92m+ GLM v1.3.11\u001b[39m\n",
      " \u001b[90m [09f84164] \u001b[39m\u001b[92m+ HypothesisTests v0.10.2\u001b[39m\n",
      " \u001b[90m [1d5cc7b8] \u001b[39m\u001b[92m+ IntelOpenMP_jll v2018.0.3+0\u001b[39m\n",
      " \u001b[90m [a98d9a8b] \u001b[39m\u001b[92m+ Interpolations v0.13.1\u001b[39m\n",
      " \u001b[90m [5ab0869b] \u001b[39m\u001b[92m+ KernelDensity v0.6.2\u001b[39m\n",
      " \u001b[90m [4345ca2d] \u001b[39m\u001b[92m+ Loess v0.5.3\u001b[39m\n",
      " \u001b[90m [856f044c] \u001b[39m\u001b[92m+ MKL_jll v2020.2.254+0\u001b[39m\n",
      " \u001b[90m [6f286f6a] \u001b[39m\u001b[92m+ MultivariateStats v0.7.0\u001b[39m\n",
      " \u001b[90m [b8a86587] \u001b[39m\u001b[92m+ NearestNeighbors v0.4.8\u001b[39m\n",
      " \u001b[90m [6fe1bfb0] \u001b[39m\u001b[92m+ OffsetArrays v1.5.0\u001b[39m\n",
      " \u001b[90m [4536629a] \u001b[39m\u001b[92m+ OpenBLAS_jll v0.3.9+5\u001b[39m\n",
      " \u001b[90m [efe28fd5] \u001b[39m\u001b[92m+ OpenSpecFun_jll v0.5.3+4\u001b[39m\n",
      " \u001b[90m [90014a1f] \u001b[39m\u001b[92m+ PDMats v0.10.1\u001b[39m\n",
      " \u001b[90m [1fd47b50] \u001b[39m\u001b[92m+ QuadGK v2.4.1\u001b[39m\n",
      " \u001b[90m [c84ed2f1] \u001b[39m\u001b[92m+ Ratios v0.4.0\u001b[39m\n",
      " \u001b[90m [3cdcf5f2] \u001b[39m\u001b[92m+ RecipesBase v1.1.1\u001b[39m\n",
      " \u001b[90m [189a3867] \u001b[39m\u001b[92m+ Reexport v0.2.0\u001b[39m\n",
      " \u001b[90m [79098fc4] \u001b[39m\u001b[92m+ Rmath v0.6.1\u001b[39m\n",
      " \u001b[90m [f50d1b31] \u001b[39m\u001b[92m+ Rmath_jll v0.2.2+1\u001b[39m\n",
      " \u001b[90m [f2b01f46] \u001b[39m\u001b[92m+ Roots v1.0.7\u001b[39m\n",
      " \u001b[90m [1277b4bf] \u001b[39m\u001b[92m+ ShiftedArrays v1.0.0\u001b[39m\n",
      " \u001b[90m [a2af1166] \u001b[39m\u001b[92m+ SortingAlgorithms v0.3.1\u001b[39m\n",
      " \u001b[90m [276daf66] \u001b[39m\u001b[92m+ SpecialFunctions v0.10.3\u001b[39m\n",
      " \u001b[90m [90137ffa] \u001b[39m\u001b[92m+ StaticArrays v0.12.5\u001b[39m\n",
      " \u001b[90m [2913bbd2] \u001b[39m\u001b[92m+ StatsBase v0.33.2\u001b[39m\n",
      " \u001b[90m [4c63d2b9] \u001b[39m\u001b[92m+ StatsFuns v0.9.6\u001b[39m\n",
      " \u001b[90m [2cb19f9e] \u001b[39m\u001b[92m+ StatsKit v0.3.0\u001b[39m\n",
      " \u001b[90m [3eaba693] \u001b[39m\u001b[92m+ StatsModels v0.6.18\u001b[39m\n",
      " \u001b[90m [9e3dc215] \u001b[39m\u001b[92m+ TimeSeries v0.19.1\u001b[39m\n",
      " \u001b[90m [efce3f68] \u001b[39m\u001b[92m+ WoodburyMatrices v0.5.3\u001b[39m\n",
      " \u001b[90m [4607b0f0] \u001b[39m\u001b[92m+ SuiteSparse\u001b[39m\n",
      "\u001b[32m\u001b[1m   Building\u001b[22m\u001b[39m FFTW → `/srv/julia/pkg/packages/FFTW/eADNB/deps/build.log`\n"
     ]
    }
   ],
   "source": [
    "Pkg.add(\"CSV\")\n",
    "Pkg.add(\"FreqTables\")\n",
    "Pkg.add(\"HTTP\")\n",
    "Pkg.add(\"HypothesisTests\")\n",
    "Pkg.add(\"MLJBase\")\n",
    "Pkg.add(\"Missings\")\n",
    "Pkg.add(\"StatsKit\") # meta-package that loads packages associated with JuliaStats, including DataFrames, GLM, HypothesisTests,\n",
    "#and MultivariateStats"
   ]
  },
  {
   "cell_type": "code",
   "execution_count": 3,
   "metadata": {},
   "outputs": [
    {
     "name": "stderr",
     "output_type": "stream",
     "text": [
      "┌ Info: Precompiling CSV [336ed68f-0bac-5ca0-87d4-7b16caf5d00b]\n",
      "└ @ Base loading.jl:1278\n",
      "┌ Info: Precompiling FreqTables [da1fdf0e-e0ff-5433-a45f-9bb5ff651cb1]\n",
      "└ @ Base loading.jl:1278\n",
      "┌ Info: Precompiling HTTP [cd3eb016-35fb-5094-929b-558a96fad6f3]\n",
      "└ @ Base loading.jl:1278\n",
      "┌ Info: Precompiling StatsKit [2cb19f9e-ec4d-5c53-8573-a4542a68d3f0]\n",
      "└ @ Base loading.jl:1278\n"
     ]
    }
   ],
   "source": [
    "## Open installed packages\n",
    "using CSV, FreqTables, HTTP, Missings, StatsKit"
   ]
  },
  {
   "cell_type": "code",
   "execution_count": 4,
   "metadata": {},
   "outputs": [
    {
     "data": {
      "text/plain": [
       "v\"1.5.3\""
      ]
     },
     "execution_count": 4,
     "metadata": {},
     "output_type": "execute_result"
    }
   ],
   "source": [
    "# check julia version\n",
    "VERSION"
   ]
  },
  {
   "cell_type": "markdown",
   "metadata": {},
   "source": [
    "# Set Directory Structure"
   ]
  },
  {
   "cell_type": "code",
   "execution_count": 5,
   "metadata": {},
   "outputs": [
    {
     "data": {
      "text/plain": [
       "\"/home/jovyan/code\""
      ]
     },
     "execution_count": 5,
     "metadata": {},
     "output_type": "execute_result"
    }
   ],
   "source": [
    "pwd()"
   ]
  },
  {
   "cell_type": "code",
   "execution_count": 6,
   "metadata": {},
   "outputs": [],
   "source": [
    "path = \"/home/jovyan/\"\n",
    "cd(path)\n",
    "# or cd(\"..\")"
   ]
  },
  {
   "cell_type": "code",
   "execution_count": 7,
   "metadata": {
    "scrolled": true
   },
   "outputs": [
    {
     "data": {
      "text/plain": [
       "\"/home/jovyan\""
      ]
     },
     "execution_count": 7,
     "metadata": {},
     "output_type": "execute_result"
    }
   ],
   "source": [
    "pwd()"
   ]
  },
  {
   "cell_type": "markdown",
   "metadata": {},
   "source": [
    "## Make Sub-directories"
   ]
  },
  {
   "cell_type": "code",
   "execution_count": 9,
   "metadata": {},
   "outputs": [
    {
     "ename": "LoadError",
     "evalue": "IOError: mkdir: file already exists (EEXIST)",
     "output_type": "error",
     "traceback": [
      "IOError: mkdir: file already exists (EEXIST)",
      "",
      "Stacktrace:",
      " [1] uv_error at ./libuv.jl:97 [inlined]",
      " [2] mkdir(::String; mode::UInt16) at ./file.jl:177",
      " [3] mkdir(::String) at ./file.jl:170",
      " [4] top-level scope at In[9]:1",
      " [5] include_string(::Function, ::Module, ::String, ::String) at ./loading.jl:1091"
     ]
    }
   ],
   "source": [
    "mkdir(\"./code\")"
   ]
  },
  {
   "cell_type": "code",
   "execution_count": 9,
   "metadata": {},
   "outputs": [
    {
     "ename": "LoadError",
     "evalue": "IOError: mkdir: file already exists (EEXIST)",
     "output_type": "error",
     "traceback": [
      "IOError: mkdir: file already exists (EEXIST)",
      "",
      "Stacktrace:",
      " [1] uv_error at ./libuv.jl:97 [inlined]",
      " [2] mkdir(::String; mode::UInt16) at ./file.jl:177",
      " [3] mkdir(::String) at ./file.jl:170",
      " [4] top-level scope at In[9]:1",
      " [5] include_string(::Function, ::Module, ::String, ::String) at ./loading.jl:1091"
     ]
    }
   ],
   "source": [
    "mkdir(\"./data\")"
   ]
  },
  {
   "cell_type": "code",
   "execution_count": 8,
   "metadata": {},
   "outputs": [
    {
     "data": {
      "text/plain": [
       "\"./figures\""
      ]
     },
     "execution_count": 8,
     "metadata": {},
     "output_type": "execute_result"
    }
   ],
   "source": [
    "mkdir(\"./figures\")"
   ]
  },
  {
   "cell_type": "code",
   "execution_count": 9,
   "metadata": {},
   "outputs": [
    {
     "data": {
      "text/plain": [
       "\"./tables\""
      ]
     },
     "execution_count": 9,
     "metadata": {},
     "output_type": "execute_result"
    }
   ],
   "source": [
    "mkdir(\"./tables\")"
   ]
  },
  {
   "cell_type": "code",
   "execution_count": 10,
   "metadata": {},
   "outputs": [
    {
     "data": {
      "text/plain": [
       "13-element Array{String,1}:\n",
       " \".bash_logout\"\n",
       " \".bashrc\"\n",
       " \".cache\"\n",
       " \".config\"\n",
       " \".git\"\n",
       " \".profile\"\n",
       " \"Manifest.toml\"\n",
       " \"Project.toml\"\n",
       " \"README.md\"\n",
       " \"code\"\n",
       " \"data\"\n",
       " \"figures\"\n",
       " \"tables\""
      ]
     },
     "execution_count": 10,
     "metadata": {},
     "output_type": "execute_result"
    }
   ],
   "source": [
    "readdir()"
   ]
  },
  {
   "cell_type": "markdown",
   "metadata": {},
   "source": [
    "# Load Data"
   ]
  },
  {
   "cell_type": "code",
   "execution_count": 11,
   "metadata": {},
   "outputs": [
    {
     "data": {
      "text/html": [
       "<table class=\"data-frame\"><thead><tr><th></th><th>id</th><th>senator_party</th><th>condition</th><th>pid7</th><th>pre_sexism_1</th></tr><tr><th></th><th>Int64</th><th>String</th><th>Int64</th><th>String</th><th>String</th></tr></thead><tbody><p>2,806 rows × 24 columns (omitted printing of 19 columns)</p><tr><th>1</th><td>1</td><td>Democrat</td><td>2</td><td>Strong Republican</td><td>Agree strongly</td></tr><tr><th>2</th><td>2</td><td>Republican</td><td>2</td><td>Not very strong Democrat</td><td>Disagree somewhat</td></tr><tr><th>3</th><td>3</td><td>Republican</td><td>2</td><td>Strong Democrat</td><td>Disagree strongly</td></tr><tr><th>4</th><td>4</td><td>Republican</td><td>1</td><td>Independent</td><td>Agree somewhat</td></tr><tr><th>5</th><td>5</td><td>Democrat</td><td>3</td><td>Strong Democrat</td><td>Disagree strongly</td></tr><tr><th>6</th><td>6</td><td>Republican</td><td>2</td><td>Lean Republican</td><td>Neither disagree nor agree</td></tr><tr><th>7</th><td>7</td><td>Republican</td><td>3</td><td>Strong Democrat</td><td>Neither disagree nor agree</td></tr><tr><th>8</th><td>8</td><td>Republican</td><td>3</td><td>Not very strong Republican</td><td>Agree strongly</td></tr><tr><th>9</th><td>9</td><td>Democrat</td><td>2</td><td>Not very strong Democrat</td><td>Disagree strongly</td></tr><tr><th>10</th><td>10</td><td>Democrat</td><td>3</td><td>Strong Democrat</td><td>Disagree strongly</td></tr><tr><th>11</th><td>11</td><td>Republican</td><td>3</td><td>Strong Democrat</td><td>Disagree strongly</td></tr><tr><th>12</th><td>12</td><td>Republican</td><td>1</td><td>Not very strong Democrat</td><td>Agree somewhat</td></tr><tr><th>13</th><td>13</td><td>Republican</td><td>1</td><td>Independent</td><td>Agree somewhat</td></tr><tr><th>14</th><td>14</td><td>Republican</td><td>1</td><td>Not very strong Republican</td><td>Agree somewhat</td></tr><tr><th>15</th><td>15</td><td>Republican</td><td>3</td><td>Lean Republican</td><td>Disagree somewhat</td></tr><tr><th>16</th><td>16</td><td>Democrat</td><td>3</td><td>Strong Democrat</td><td>Disagree somewhat</td></tr><tr><th>17</th><td>17</td><td>Republican</td><td>3</td><td>Independent</td><td>Disagree somewhat</td></tr><tr><th>18</th><td>18</td><td>Democrat</td><td>2</td><td>Strong Democrat</td><td>Disagree strongly</td></tr><tr><th>19</th><td>19</td><td>Democrat</td><td>3</td><td>Not very strong Republican</td><td>Disagree somewhat</td></tr><tr><th>20</th><td>20</td><td>Democrat</td><td>2</td><td>Strong Democrat</td><td>Agree somewhat</td></tr><tr><th>21</th><td>21</td><td>Democrat</td><td>3</td><td>Not very strong Republican</td><td>Agree somewhat</td></tr><tr><th>22</th><td>22</td><td>Republican</td><td>3</td><td>Independent</td><td>Disagree strongly</td></tr><tr><th>23</th><td>23</td><td>Republican</td><td>3</td><td>Independent</td><td>Agree somewhat</td></tr><tr><th>24</th><td>24</td><td>Democrat</td><td>3</td><td>Lean Republican</td><td>Agree somewhat</td></tr><tr><th>25</th><td>25</td><td>Democrat</td><td>2</td><td>Strong Democrat</td><td>Disagree strongly</td></tr><tr><th>26</th><td>26</td><td>Democrat</td><td>1</td><td>Independent</td><td>Agree somewhat</td></tr><tr><th>27</th><td>27</td><td>Republican</td><td>2</td><td>Strong Democrat</td><td>Disagree strongly</td></tr><tr><th>28</th><td>28</td><td>Republican</td><td>2</td><td>Lean Democrat</td><td>Neither disagree nor agree</td></tr><tr><th>29</th><td>29</td><td>Democrat</td><td>3</td><td>Strong Democrat</td><td>Disagree strongly</td></tr><tr><th>30</th><td>30</td><td>Republican</td><td>2</td><td>Independent</td><td>Disagree somewhat</td></tr><tr><th>&vellip;</th><td>&vellip;</td><td>&vellip;</td><td>&vellip;</td><td>&vellip;</td><td>&vellip;</td></tr></tbody></table>"
      ],
      "text/latex": [
       "\\begin{tabular}{r|cccccc}\n",
       "\t& id & senator\\_party & condition & pid7 & pre\\_sexism\\_1 & \\\\\n",
       "\t\\hline\n",
       "\t& Int64 & String & Int64 & String & String & \\\\\n",
       "\t\\hline\n",
       "\t1 & 1 & Democrat & 2 & Strong Republican & Agree strongly & $\\dots$ \\\\\n",
       "\t2 & 2 & Republican & 2 & Not very strong Democrat & Disagree somewhat & $\\dots$ \\\\\n",
       "\t3 & 3 & Republican & 2 & Strong Democrat & Disagree strongly & $\\dots$ \\\\\n",
       "\t4 & 4 & Republican & 1 & Independent & Agree somewhat & $\\dots$ \\\\\n",
       "\t5 & 5 & Democrat & 3 & Strong Democrat & Disagree strongly & $\\dots$ \\\\\n",
       "\t6 & 6 & Republican & 2 & Lean Republican & Neither disagree nor agree & $\\dots$ \\\\\n",
       "\t7 & 7 & Republican & 3 & Strong Democrat & Neither disagree nor agree & $\\dots$ \\\\\n",
       "\t8 & 8 & Republican & 3 & Not very strong Republican & Agree strongly & $\\dots$ \\\\\n",
       "\t9 & 9 & Democrat & 2 & Not very strong Democrat & Disagree strongly & $\\dots$ \\\\\n",
       "\t10 & 10 & Democrat & 3 & Strong Democrat & Disagree strongly & $\\dots$ \\\\\n",
       "\t11 & 11 & Republican & 3 & Strong Democrat & Disagree strongly & $\\dots$ \\\\\n",
       "\t12 & 12 & Republican & 1 & Not very strong Democrat & Agree somewhat & $\\dots$ \\\\\n",
       "\t13 & 13 & Republican & 1 & Independent & Agree somewhat & $\\dots$ \\\\\n",
       "\t14 & 14 & Republican & 1 & Not very strong Republican & Agree somewhat & $\\dots$ \\\\\n",
       "\t15 & 15 & Republican & 3 & Lean Republican & Disagree somewhat & $\\dots$ \\\\\n",
       "\t16 & 16 & Democrat & 3 & Strong Democrat & Disagree somewhat & $\\dots$ \\\\\n",
       "\t17 & 17 & Republican & 3 & Independent & Disagree somewhat & $\\dots$ \\\\\n",
       "\t18 & 18 & Democrat & 2 & Strong Democrat & Disagree strongly & $\\dots$ \\\\\n",
       "\t19 & 19 & Democrat & 3 & Not very strong Republican & Disagree somewhat & $\\dots$ \\\\\n",
       "\t20 & 20 & Democrat & 2 & Strong Democrat & Agree somewhat & $\\dots$ \\\\\n",
       "\t21 & 21 & Democrat & 3 & Not very strong Republican & Agree somewhat & $\\dots$ \\\\\n",
       "\t22 & 22 & Republican & 3 & Independent & Disagree strongly & $\\dots$ \\\\\n",
       "\t23 & 23 & Republican & 3 & Independent & Agree somewhat & $\\dots$ \\\\\n",
       "\t24 & 24 & Democrat & 3 & Lean Republican & Agree somewhat & $\\dots$ \\\\\n",
       "\t25 & 25 & Democrat & 2 & Strong Democrat & Disagree strongly & $\\dots$ \\\\\n",
       "\t26 & 26 & Democrat & 1 & Independent & Agree somewhat & $\\dots$ \\\\\n",
       "\t27 & 27 & Republican & 2 & Strong Democrat & Disagree strongly & $\\dots$ \\\\\n",
       "\t28 & 28 & Republican & 2 & Lean Democrat & Neither disagree nor agree & $\\dots$ \\\\\n",
       "\t29 & 29 & Democrat & 3 & Strong Democrat & Disagree strongly & $\\dots$ \\\\\n",
       "\t30 & 30 & Republican & 2 & Independent & Disagree somewhat & $\\dots$ \\\\\n",
       "\t$\\dots$ & $\\dots$ & $\\dots$ & $\\dots$ & $\\dots$ & $\\dots$ &  \\\\\n",
       "\\end{tabular}\n"
      ],
      "text/plain": [
       "2806×24 DataFrame. Omitted printing of 20 columns\n",
       "│ Row  │ id    │ senator_party │ condition │ pid7                       │\n",
       "│      │ \u001b[90mInt64\u001b[39m │ \u001b[90mString\u001b[39m        │ \u001b[90mInt64\u001b[39m     │ \u001b[90mString\u001b[39m                     │\n",
       "├──────┼───────┼───────────────┼───────────┼────────────────────────────┤\n",
       "│ 1    │ 1     │ Democrat      │ 2         │ Strong Republican          │\n",
       "│ 2    │ 2     │ Republican    │ 2         │ Not very strong Democrat   │\n",
       "│ 3    │ 3     │ Republican    │ 2         │ Strong Democrat            │\n",
       "│ 4    │ 4     │ Republican    │ 1         │ Independent                │\n",
       "│ 5    │ 5     │ Democrat      │ 3         │ Strong Democrat            │\n",
       "│ 6    │ 6     │ Republican    │ 2         │ Lean Republican            │\n",
       "│ 7    │ 7     │ Republican    │ 3         │ Strong Democrat            │\n",
       "│ 8    │ 8     │ Republican    │ 3         │ Not very strong Republican │\n",
       "│ 9    │ 9     │ Democrat      │ 2         │ Not very strong Democrat   │\n",
       "│ 10   │ 10    │ Democrat      │ 3         │ Strong Democrat            │\n",
       "⋮\n",
       "│ 2796 │ 2797  │ Republican    │ 2         │ Strong Democrat            │\n",
       "│ 2797 │ 2798  │ Republican    │ 2         │ Strong Republican          │\n",
       "│ 2798 │ 2799  │ Democrat      │ 3         │ Independent                │\n",
       "│ 2799 │ 2800  │ Republican    │ 2         │ Strong Republican          │\n",
       "│ 2800 │ 2801  │ Republican    │ 3         │ Strong Democrat            │\n",
       "│ 2801 │ 2802  │ Democrat      │ 2         │ Strong Democrat            │\n",
       "│ 2802 │ 2803  │ Democrat      │ 1         │ Strong Republican          │\n",
       "│ 2803 │ 2804  │ Republican    │ 2         │ Strong Republican          │\n",
       "│ 2804 │ 2805  │ Republican    │ 2         │ Not very strong Democrat   │\n",
       "│ 2805 │ 2806  │ Republican    │ 3         │ Strong Democrat            │\n",
       "│ 2806 │ 2807  │ Republican    │ 1         │ Lean Republican            │"
      ]
     },
     "execution_count": 11,
     "metadata": {},
     "output_type": "execute_result"
    }
   ],
   "source": [
    "# if loading from file in data folder (use CSV and DataFrame together)\n",
    "df1 = CSV.read(\"./data/original/metoo_data.csv\", DataFrame)"
   ]
  },
  {
   "cell_type": "code",
   "execution_count": 28,
   "metadata": {},
   "outputs": [
    {
     "data": {
      "text/html": [
       "<p>DataFrameRow (24 columns)</p><table class=\"data-frame\"><thead><tr><th></th><th>id</th><th>senator_party</th><th>condition</th><th>pid7</th><th>pre_sexism_1</th><th>pre_sexism_2</th></tr><tr><th></th><th>Int64</th><th>String</th><th>Int64</th><th>String</th><th>String</th><th>String</th></tr></thead><tbody><tr><th>1</th><td>1</td><td>Democrat</td><td>2</td><td>Strong Republican</td><td>Agree strongly</td><td>Disagree strongly</td></tr></tbody></table>"
      ],
      "text/latex": [
       "\\begin{tabular}{r|ccccccc}\n",
       "\t& id & senator\\_party & condition & pid7 & pre\\_sexism\\_1 & pre\\_sexism\\_2 & \\\\\n",
       "\t\\hline\n",
       "\t& Int64 & String & Int64 & String & String & String & \\\\\n",
       "\t\\hline\n",
       "\t1 & 1 & Democrat & 2 & Strong Republican & Agree strongly & Disagree strongly & $\\dots$ \\\\\n",
       "\\end{tabular}\n"
      ],
      "text/plain": [
       "DataFrameRow. Omitted printing of 19 columns\n",
       "│ Row │ id    │ senator_party │ condition │ pid7              │ pre_sexism_1   │\n",
       "│     │ \u001b[90mInt64\u001b[39m │ \u001b[90mString\u001b[39m        │ \u001b[90mInt64\u001b[39m     │ \u001b[90mString\u001b[39m            │ \u001b[90mString\u001b[39m         │\n",
       "├─────┼───────┼───────────────┼───────────┼───────────────────┼────────────────┤\n",
       "│ 1   │ 1     │ Democrat      │ 2         │ Strong Republican │ Agree strongly │"
      ]
     },
     "execution_count": 28,
     "metadata": {},
     "output_type": "execute_result"
    }
   ],
   "source": [
    "# can index within DataFrame\n",
    "# e.g., \n",
    "# row = df1[1,:]"
   ]
  },
  {
   "cell_type": "code",
   "execution_count": 16,
   "metadata": {},
   "outputs": [
    {
     "data": {
      "text/html": [
       "<table class=\"data-frame\"><thead><tr><th></th><th>id</th><th>senator_party</th><th>condition</th></tr><tr><th></th><th>Int64</th><th>String</th><th>Int64</th></tr></thead><tbody><p>5 rows × 3 columns</p><tr><th>1</th><td>1</td><td>Democrat</td><td>2</td></tr><tr><th>2</th><td>2</td><td>Republican</td><td>2</td></tr><tr><th>3</th><td>3</td><td>Republican</td><td>2</td></tr><tr><th>4</th><td>4</td><td>Republican</td><td>1</td></tr><tr><th>5</th><td>5</td><td>Democrat</td><td>3</td></tr></tbody></table>"
      ],
      "text/latex": [
       "\\begin{tabular}{r|ccc}\n",
       "\t& id & senator\\_party & condition\\\\\n",
       "\t\\hline\n",
       "\t& Int64 & String & Int64\\\\\n",
       "\t\\hline\n",
       "\t1 & 1 & Democrat & 2 \\\\\n",
       "\t2 & 2 & Republican & 2 \\\\\n",
       "\t3 & 3 & Republican & 2 \\\\\n",
       "\t4 & 4 & Republican & 1 \\\\\n",
       "\t5 & 5 & Democrat & 3 \\\\\n",
       "\\end{tabular}\n"
      ],
      "text/plain": [
       "5×3 DataFrame\n",
       "│ Row │ id    │ senator_party │ condition │\n",
       "│     │ \u001b[90mInt64\u001b[39m │ \u001b[90mString\u001b[39m        │ \u001b[90mInt64\u001b[39m     │\n",
       "├─────┼───────┼───────────────┼───────────┤\n",
       "│ 1   │ 1     │ Democrat      │ 2         │\n",
       "│ 2   │ 2     │ Republican    │ 2         │\n",
       "│ 3   │ 3     │ Republican    │ 2         │\n",
       "│ 4   │ 4     │ Republican    │ 1         │\n",
       "│ 5   │ 5     │ Democrat      │ 3         │"
      ]
     },
     "execution_count": 16,
     "metadata": {},
     "output_type": "execute_result"
    }
   ],
   "source": [
    "# inspect first 5 rows and first 3 cols\n",
    "df1[1:5,1:3]"
   ]
  },
  {
   "cell_type": "markdown",
   "metadata": {},
   "source": [
    "# Summary Statistics"
   ]
  },
  {
   "cell_type": "code",
   "execution_count": 18,
   "metadata": {},
   "outputs": [
    {
     "data": {
      "text/html": [
       "<table class=\"data-frame\"><thead><tr><th></th><th>variable</th><th>mean</th><th>min</th><th>median</th><th>max</th></tr><tr><th></th><th>Symbol</th><th>Union…</th><th>Any</th><th>Union…</th><th>Any</th></tr></thead><tbody><p>24 rows × 8 columns (omitted printing of 3 columns)</p><tr><th>1</th><td>id</td><td>1404.17</td><td>1</td><td>1404.5</td><td>2807</td></tr><tr><th>2</th><td>senator_party</td><td></td><td>Democrat</td><td></td><td>Republican</td></tr><tr><th>3</th><td>condition</td><td>2.00641</td><td>1</td><td>2.0</td><td>3</td></tr><tr><th>4</th><td>pid7</td><td></td><td>Independent</td><td></td><td>Strong Republican</td></tr><tr><th>5</th><td>pre_sexism_1</td><td></td><td>Agree somewhat</td><td></td><td>Neither disagree nor agree</td></tr><tr><th>6</th><td>pre_sexism_2</td><td></td><td>Agree somewhat</td><td></td><td>Neither disagree nor agree</td></tr><tr><th>7</th><td>pre_sexism_3</td><td></td><td>Agree somewhat</td><td></td><td>Neither disagree nor agree</td></tr><tr><th>8</th><td>pre_sexism_4</td><td></td><td>Agree somewhat</td><td></td><td>Neither disagree nor agree</td></tr><tr><th>9</th><td>pre_favorability</td><td>6.93158</td><td>0</td><td>7.0</td><td>10</td></tr><tr><th>10</th><td>pre_vote</td><td>5.98824</td><td>0</td><td>6.0</td><td>10</td></tr><tr><th>11</th><td>gender</td><td></td><td>Man</td><td></td><td>Woman</td></tr><tr><th>12</th><td>age</td><td></td><td>18-24</td><td></td><td>65 or over</td></tr><tr><th>13</th><td>newsinterest</td><td></td><td>Don't know</td><td></td><td>Some of the time</td></tr><tr><th>14</th><td>post_favorability</td><td>5.60763</td><td>0</td><td>6.0</td><td>10</td></tr><tr><th>15</th><td>post_vote</td><td>5.00499</td><td>0</td><td>5.0</td><td>10</td></tr><tr><th>16</th><td>punishment_1</td><td></td><td>Agree somewhat</td><td></td><td>Neither disagree nor agree</td></tr><tr><th>17</th><td>punishment_2</td><td></td><td>Agree somewhat</td><td></td><td>Neither disagree nor agree</td></tr><tr><th>18</th><td>punishment_3</td><td></td><td>Agree somewhat</td><td></td><td>Neither disagree nor agree</td></tr><tr><th>19</th><td>punishment_4</td><td></td><td>Agree somewhat</td><td></td><td>Neither disagree nor agree</td></tr><tr><th>20</th><td>punishment_5</td><td></td><td>Agree somewhat</td><td></td><td>Neither disagree nor agree</td></tr><tr><th>21</th><td>post_sexism_1</td><td></td><td>Agree somewhat</td><td></td><td>Neither disagree nor agree</td></tr><tr><th>22</th><td>post_sexism_2</td><td></td><td>Agree somewhat</td><td></td><td>Neither disagree nor agree</td></tr><tr><th>23</th><td>post_sexism_3</td><td></td><td>Agree somewhat</td><td></td><td>Neither disagree nor agree</td></tr><tr><th>24</th><td>post_sexism_4</td><td></td><td>Agree somewhat</td><td></td><td>Neither disagree nor agree</td></tr></tbody></table>"
      ],
      "text/latex": [
       "\\begin{tabular}{r|cccccc}\n",
       "\t& variable & mean & min & median & max & \\\\\n",
       "\t\\hline\n",
       "\t& Symbol & Union… & Any & Union… & Any & \\\\\n",
       "\t\\hline\n",
       "\t1 & id & 1404.17 & 1 & 1404.5 & 2807 & $\\dots$ \\\\\n",
       "\t2 & senator\\_party &  & Democrat &  & Republican & $\\dots$ \\\\\n",
       "\t3 & condition & 2.00641 & 1 & 2.0 & 3 & $\\dots$ \\\\\n",
       "\t4 & pid7 &  & Independent &  & Strong Republican & $\\dots$ \\\\\n",
       "\t5 & pre\\_sexism\\_1 &  & Agree somewhat &  & Neither disagree nor agree & $\\dots$ \\\\\n",
       "\t6 & pre\\_sexism\\_2 &  & Agree somewhat &  & Neither disagree nor agree & $\\dots$ \\\\\n",
       "\t7 & pre\\_sexism\\_3 &  & Agree somewhat &  & Neither disagree nor agree & $\\dots$ \\\\\n",
       "\t8 & pre\\_sexism\\_4 &  & Agree somewhat &  & Neither disagree nor agree & $\\dots$ \\\\\n",
       "\t9 & pre\\_favorability & 6.93158 & 0 & 7.0 & 10 & $\\dots$ \\\\\n",
       "\t10 & pre\\_vote & 5.98824 & 0 & 6.0 & 10 & $\\dots$ \\\\\n",
       "\t11 & gender &  & Man &  & Woman & $\\dots$ \\\\\n",
       "\t12 & age &  & 18-24 &  & 65 or over & $\\dots$ \\\\\n",
       "\t13 & newsinterest &  & Don't know &  & Some of the time & $\\dots$ \\\\\n",
       "\t14 & post\\_favorability & 5.60763 & 0 & 6.0 & 10 & $\\dots$ \\\\\n",
       "\t15 & post\\_vote & 5.00499 & 0 & 5.0 & 10 & $\\dots$ \\\\\n",
       "\t16 & punishment\\_1 &  & Agree somewhat &  & Neither disagree nor agree & $\\dots$ \\\\\n",
       "\t17 & punishment\\_2 &  & Agree somewhat &  & Neither disagree nor agree & $\\dots$ \\\\\n",
       "\t18 & punishment\\_3 &  & Agree somewhat &  & Neither disagree nor agree & $\\dots$ \\\\\n",
       "\t19 & punishment\\_4 &  & Agree somewhat &  & Neither disagree nor agree & $\\dots$ \\\\\n",
       "\t20 & punishment\\_5 &  & Agree somewhat &  & Neither disagree nor agree & $\\dots$ \\\\\n",
       "\t21 & post\\_sexism\\_1 &  & Agree somewhat &  & Neither disagree nor agree & $\\dots$ \\\\\n",
       "\t22 & post\\_sexism\\_2 &  & Agree somewhat &  & Neither disagree nor agree & $\\dots$ \\\\\n",
       "\t23 & post\\_sexism\\_3 &  & Agree somewhat &  & Neither disagree nor agree & $\\dots$ \\\\\n",
       "\t24 & post\\_sexism\\_4 &  & Agree somewhat &  & Neither disagree nor agree & $\\dots$ \\\\\n",
       "\\end{tabular}\n"
      ],
      "text/plain": [
       "24×8 DataFrame. Omitted printing of 4 columns\n",
       "│ Row │ variable          │ mean    │ min            │ median │\n",
       "│     │ \u001b[90mSymbol\u001b[39m            │ \u001b[90mUnion…\u001b[39m  │ \u001b[90mAny\u001b[39m            │ \u001b[90mUnion…\u001b[39m │\n",
       "├─────┼───────────────────┼─────────┼────────────────┼────────┤\n",
       "│ 1   │ id                │ 1404.17 │ 1              │ 1404.5 │\n",
       "│ 2   │ senator_party     │         │ Democrat       │        │\n",
       "│ 3   │ condition         │ 2.00641 │ 1              │ 2.0    │\n",
       "│ 4   │ pid7              │         │ Independent    │        │\n",
       "│ 5   │ pre_sexism_1      │         │ Agree somewhat │        │\n",
       "│ 6   │ pre_sexism_2      │         │ Agree somewhat │        │\n",
       "│ 7   │ pre_sexism_3      │         │ Agree somewhat │        │\n",
       "│ 8   │ pre_sexism_4      │         │ Agree somewhat │        │\n",
       "│ 9   │ pre_favorability  │ 6.93158 │ 0              │ 7.0    │\n",
       "│ 10  │ pre_vote          │ 5.98824 │ 0              │ 6.0    │\n",
       "⋮\n",
       "│ 14  │ post_favorability │ 5.60763 │ 0              │ 6.0    │\n",
       "│ 15  │ post_vote         │ 5.00499 │ 0              │ 5.0    │\n",
       "│ 16  │ punishment_1      │         │ Agree somewhat │        │\n",
       "│ 17  │ punishment_2      │         │ Agree somewhat │        │\n",
       "│ 18  │ punishment_3      │         │ Agree somewhat │        │\n",
       "│ 19  │ punishment_4      │         │ Agree somewhat │        │\n",
       "│ 20  │ punishment_5      │         │ Agree somewhat │        │\n",
       "│ 21  │ post_sexism_1     │         │ Agree somewhat │        │\n",
       "│ 22  │ post_sexism_2     │         │ Agree somewhat │        │\n",
       "│ 23  │ post_sexism_3     │         │ Agree somewhat │        │\n",
       "│ 24  │ post_sexism_4     │         │ Agree somewhat │        │"
      ]
     },
     "execution_count": 18,
     "metadata": {},
     "output_type": "execute_result"
    }
   ],
   "source": [
    "describe(df1)"
   ]
  },
  {
   "cell_type": "markdown",
   "metadata": {},
   "source": [
    "# Data Processing"
   ]
  },
  {
   "cell_type": "code",
   "execution_count": 12,
   "metadata": {},
   "outputs": [
    {
     "data": {
      "text/plain": [
       "\"\""
      ]
     },
     "execution_count": 12,
     "metadata": {},
     "output_type": "execute_result"
    }
   ],
   "source": [
    "# create and transform new var condition2\n",
    "df1.condition2 = \"\""
   ]
  },
  {
   "cell_type": "code",
   "execution_count": 13,
   "metadata": {},
   "outputs": [
    {
     "data": {
      "text/plain": [
       "\"Control\""
      ]
     },
     "execution_count": 13,
     "metadata": {},
     "output_type": "execute_result"
    }
   ],
   "source": [
    "df1[(df1[:condition] .== 1),:condition2]=\"Jokes\"\n",
    "df1[(df1[:condition] .== 2),:condition2]=\"Assault\"\n",
    "df1[(df1[:condition] .== 3),:condition2]=\"Control\""
   ]
  },
  {
   "cell_type": "code",
   "execution_count": 14,
   "metadata": {},
   "outputs": [
    {
     "data": {
      "text/plain": [
       "5-element Array{String,1}:\n",
       " \"Assault\"\n",
       " \"Assault\"\n",
       " \"Assault\"\n",
       " \"Jokes\"\n",
       " \"Control\""
      ]
     },
     "execution_count": 14,
     "metadata": {},
     "output_type": "execute_result"
    }
   ],
   "source": [
    "df1[1:5,:condition2]"
   ]
  },
  {
   "cell_type": "code",
   "execution_count": 15,
   "metadata": {},
   "outputs": [
    {
     "data": {
      "text/plain": [
       "2806-element CategoricalArray{String,1,UInt32}:\n",
       " \"Assault\"\n",
       " \"Assault\"\n",
       " \"Assault\"\n",
       " \"Jokes\"\n",
       " \"Control\"\n",
       " \"Assault\"\n",
       " \"Control\"\n",
       " \"Control\"\n",
       " \"Assault\"\n",
       " \"Control\"\n",
       " \"Control\"\n",
       " \"Jokes\"\n",
       " \"Jokes\"\n",
       " ⋮\n",
       " \"Jokes\"\n",
       " \"Assault\"\n",
       " \"Assault\"\n",
       " \"Control\"\n",
       " \"Assault\"\n",
       " \"Control\"\n",
       " \"Assault\"\n",
       " \"Jokes\"\n",
       " \"Assault\"\n",
       " \"Assault\"\n",
       " \"Control\"\n",
       " \"Jokes\""
      ]
     },
     "execution_count": 15,
     "metadata": {},
     "output_type": "execute_result"
    }
   ],
   "source": [
    "# make categorical\n",
    "df1[:condition2] = CategoricalArray(df1[:condition2])"
   ]
  },
  {
   "cell_type": "code",
   "execution_count": 16,
   "metadata": {},
   "outputs": [
    {
     "data": {
      "text/plain": [
       "3-element Array{String,1}:\n",
       " \"Assault\"\n",
       " \"Control\"\n",
       " \"Jokes\""
      ]
     },
     "execution_count": 16,
     "metadata": {},
     "output_type": "execute_result"
    }
   ],
   "source": [
    "# check levels\n",
    "levels(df1[:condition2])"
   ]
  },
  {
   "cell_type": "code",
   "execution_count": 17,
   "metadata": {},
   "outputs": [
    {
     "data": {
      "text/plain": [
       "2806-element CategoricalArray{String,1,UInt32}:\n",
       " \"Assault\"\n",
       " \"Assault\"\n",
       " \"Assault\"\n",
       " \"Jokes\"\n",
       " \"Control\"\n",
       " \"Assault\"\n",
       " \"Control\"\n",
       " \"Control\"\n",
       " \"Assault\"\n",
       " \"Control\"\n",
       " \"Control\"\n",
       " \"Jokes\"\n",
       " \"Jokes\"\n",
       " ⋮\n",
       " \"Jokes\"\n",
       " \"Assault\"\n",
       " \"Assault\"\n",
       " \"Control\"\n",
       " \"Assault\"\n",
       " \"Control\"\n",
       " \"Assault\"\n",
       " \"Jokes\"\n",
       " \"Assault\"\n",
       " \"Assault\"\n",
       " \"Control\"\n",
       " \"Jokes\""
      ]
     },
     "execution_count": 17,
     "metadata": {},
     "output_type": "execute_result"
    }
   ],
   "source": [
    "# reorder levels\n",
    "levels!(df1[:condition2], [\"Control\", \"Jokes\", \"Assault\"])"
   ]
  },
  {
   "cell_type": "code",
   "execution_count": 18,
   "metadata": {},
   "outputs": [
    {
     "data": {
      "text/plain": [
       "3-element Array{String,1}:\n",
       " \"Control\"\n",
       " \"Jokes\"\n",
       " \"Assault\""
      ]
     },
     "execution_count": 18,
     "metadata": {},
     "output_type": "execute_result"
    }
   ],
   "source": [
    "# recheck levels\n",
    "levels(df1[:condition2])"
   ]
  },
  {
   "cell_type": "code",
   "execution_count": 19,
   "metadata": {},
   "outputs": [
    {
     "data": {
      "text/plain": [
       "8-element Named Array{Int64,1}\n",
       "Dim1                       │ \n",
       "───────────────────────────┼────\n",
       "Independent                │ 631\n",
       "Lean Democrat              │ 377\n",
       "Lean Republican            │ 269\n",
       "Not sure                   │  23\n",
       "Not very strong Democrat   │ 359\n",
       "Not very strong Republican │ 200\n",
       "Strong Democrat            │ 629\n",
       "Strong Republican          │ 318"
      ]
     },
     "execution_count": 19,
     "metadata": {},
     "output_type": "execute_result"
    }
   ],
   "source": [
    "# create and transform new var pid3\n",
    "# check tabulation (values)\n",
    "freqtable(df1.pid7)"
   ]
  },
  {
   "cell_type": "code",
   "execution_count": 20,
   "metadata": {},
   "outputs": [
    {
     "data": {
      "text/plain": [
       "2806-element CategoricalArray{String,1,UInt32}:\n",
       " \"Republican\"\n",
       " \"Democrat\"\n",
       " \"Democrat\"\n",
       " \"Independent\"\n",
       " \"Democrat\"\n",
       " \"Republican\"\n",
       " \"Democrat\"\n",
       " \"Republican\"\n",
       " \"Democrat\"\n",
       " \"Democrat\"\n",
       " \"Democrat\"\n",
       " \"Democrat\"\n",
       " \"Independent\"\n",
       " ⋮\n",
       " \"Independent\"\n",
       " \"Democrat\"\n",
       " \"Republican\"\n",
       " \"Independent\"\n",
       " \"Republican\"\n",
       " \"Democrat\"\n",
       " \"Democrat\"\n",
       " \"Republican\"\n",
       " \"Republican\"\n",
       " \"Democrat\"\n",
       " \"Democrat\"\n",
       " \"Republican\""
      ]
     },
     "execution_count": 20,
     "metadata": {},
     "output_type": "execute_result"
    }
   ],
   "source": [
    "df1.pid3 = \"\"\n",
    "df1[(df1[:pid7] .== \"Lean Democrat\"),:pid3]=\"Democrat\"\n",
    "df1[(df1[:pid7] .== \"Strong Democrat\"),:pid3]=\"Democrat\"\n",
    "df1[(df1[:pid7] .== \"Not very strong Democrat\"),:pid3]=\"Democrat\"\n",
    "\n",
    "df1[(df1[:pid7] .== \"Lean Republican\"),:pid3]=\"Republican\"\n",
    "df1[(df1[:pid7] .== \"Strong Republican\"),:pid3]=\"Republican\"\n",
    "df1[(df1[:pid7] .== \"Not very strong Republican\"),:pid3]=\"Republican\"\n",
    "\n",
    "df1[(df1[:pid7] .== \"Independent\"),:pid3]=\"Independent\"\n",
    "df1[(df1[:pid7] .== \"Not sure\"),:pid3]=\"Independent\"\n",
    "\n",
    "# make categorical\n",
    "df1[:pid3] = CategoricalArray(df1[:pid3])"
   ]
  },
  {
   "cell_type": "code",
   "execution_count": 53,
   "metadata": {},
   "outputs": [
    {
     "data": {
      "text/html": [
       "<table class=\"data-frame\"><thead><tr><th></th><th>variable</th><th>mean</th><th>min</th><th>median</th><th>max</th></tr><tr><th></th><th>Symbol</th><th>Union…</th><th>Any</th><th>Union…</th><th>Any</th></tr></thead><tbody><p>27 rows × 8 columns (omitted printing of 3 columns)</p><tr><th>1</th><td>id</td><td>1404.17</td><td>1</td><td>1404.5</td><td>2807</td></tr><tr><th>2</th><td>senator_party</td><td></td><td>Democrat</td><td></td><td>Republican</td></tr><tr><th>3</th><td>condition</td><td>2.00641</td><td>1</td><td>2.0</td><td>3</td></tr><tr><th>4</th><td>pid7</td><td></td><td>Independent</td><td></td><td>Strong Republican</td></tr><tr><th>5</th><td>pre_sexism_1</td><td></td><td>Agree somewhat</td><td></td><td>Neither disagree nor agree</td></tr><tr><th>6</th><td>pre_sexism_2</td><td></td><td>Agree somewhat</td><td></td><td>Neither disagree nor agree</td></tr><tr><th>7</th><td>pre_sexism_3</td><td></td><td>Agree somewhat</td><td></td><td>Neither disagree nor agree</td></tr><tr><th>8</th><td>pre_sexism_4</td><td></td><td>Agree somewhat</td><td></td><td>Neither disagree nor agree</td></tr><tr><th>9</th><td>pre_favorability</td><td>6.93158</td><td>0</td><td>7.0</td><td>10</td></tr><tr><th>10</th><td>pre_vote</td><td>5.98824</td><td>0</td><td>6.0</td><td>10</td></tr><tr><th>11</th><td>gender</td><td></td><td>Man</td><td></td><td>Woman</td></tr><tr><th>12</th><td>age</td><td></td><td>18-24</td><td></td><td>65 or over</td></tr><tr><th>13</th><td>newsinterest</td><td></td><td>Don't know</td><td></td><td>Some of the time</td></tr><tr><th>14</th><td>post_favorability</td><td>5.60763</td><td>0</td><td>6.0</td><td>10</td></tr><tr><th>15</th><td>post_vote</td><td>5.00499</td><td>0</td><td>5.0</td><td>10</td></tr><tr><th>16</th><td>punishment_1</td><td></td><td>Agree somewhat</td><td></td><td>Neither disagree nor agree</td></tr><tr><th>17</th><td>punishment_2</td><td></td><td>Agree somewhat</td><td></td><td>Neither disagree nor agree</td></tr><tr><th>18</th><td>punishment_3</td><td></td><td>Agree somewhat</td><td></td><td>Neither disagree nor agree</td></tr><tr><th>19</th><td>punishment_4</td><td></td><td>Agree somewhat</td><td></td><td>Neither disagree nor agree</td></tr><tr><th>20</th><td>punishment_5</td><td></td><td>Agree somewhat</td><td></td><td>Neither disagree nor agree</td></tr><tr><th>21</th><td>post_sexism_1</td><td></td><td>Agree somewhat</td><td></td><td>Neither disagree nor agree</td></tr><tr><th>22</th><td>post_sexism_2</td><td></td><td>Agree somewhat</td><td></td><td>Neither disagree nor agree</td></tr><tr><th>23</th><td>post_sexism_3</td><td></td><td>Agree somewhat</td><td></td><td>Neither disagree nor agree</td></tr><tr><th>24</th><td>post_sexism_4</td><td></td><td>Agree somewhat</td><td></td><td>Neither disagree nor agree</td></tr><tr><th>25</th><td>condition2</td><td></td><td>Control</td><td></td><td>Assault</td></tr><tr><th>26</th><td>pid3</td><td></td><td>Democrat</td><td></td><td>Republican</td></tr><tr><th>27</th><td>needmoreevidence</td><td>0.0</td><td>0</td><td>0.0</td><td>0</td></tr></tbody></table>"
      ],
      "text/latex": [
       "\\begin{tabular}{r|cccccc}\n",
       "\t& variable & mean & min & median & max & \\\\\n",
       "\t\\hline\n",
       "\t& Symbol & Union… & Any & Union… & Any & \\\\\n",
       "\t\\hline\n",
       "\t1 & id & 1404.17 & 1 & 1404.5 & 2807 & $\\dots$ \\\\\n",
       "\t2 & senator\\_party &  & Democrat &  & Republican & $\\dots$ \\\\\n",
       "\t3 & condition & 2.00641 & 1 & 2.0 & 3 & $\\dots$ \\\\\n",
       "\t4 & pid7 &  & Independent &  & Strong Republican & $\\dots$ \\\\\n",
       "\t5 & pre\\_sexism\\_1 &  & Agree somewhat &  & Neither disagree nor agree & $\\dots$ \\\\\n",
       "\t6 & pre\\_sexism\\_2 &  & Agree somewhat &  & Neither disagree nor agree & $\\dots$ \\\\\n",
       "\t7 & pre\\_sexism\\_3 &  & Agree somewhat &  & Neither disagree nor agree & $\\dots$ \\\\\n",
       "\t8 & pre\\_sexism\\_4 &  & Agree somewhat &  & Neither disagree nor agree & $\\dots$ \\\\\n",
       "\t9 & pre\\_favorability & 6.93158 & 0 & 7.0 & 10 & $\\dots$ \\\\\n",
       "\t10 & pre\\_vote & 5.98824 & 0 & 6.0 & 10 & $\\dots$ \\\\\n",
       "\t11 & gender &  & Man &  & Woman & $\\dots$ \\\\\n",
       "\t12 & age &  & 18-24 &  & 65 or over & $\\dots$ \\\\\n",
       "\t13 & newsinterest &  & Don't know &  & Some of the time & $\\dots$ \\\\\n",
       "\t14 & post\\_favorability & 5.60763 & 0 & 6.0 & 10 & $\\dots$ \\\\\n",
       "\t15 & post\\_vote & 5.00499 & 0 & 5.0 & 10 & $\\dots$ \\\\\n",
       "\t16 & punishment\\_1 &  & Agree somewhat &  & Neither disagree nor agree & $\\dots$ \\\\\n",
       "\t17 & punishment\\_2 &  & Agree somewhat &  & Neither disagree nor agree & $\\dots$ \\\\\n",
       "\t18 & punishment\\_3 &  & Agree somewhat &  & Neither disagree nor agree & $\\dots$ \\\\\n",
       "\t19 & punishment\\_4 &  & Agree somewhat &  & Neither disagree nor agree & $\\dots$ \\\\\n",
       "\t20 & punishment\\_5 &  & Agree somewhat &  & Neither disagree nor agree & $\\dots$ \\\\\n",
       "\t21 & post\\_sexism\\_1 &  & Agree somewhat &  & Neither disagree nor agree & $\\dots$ \\\\\n",
       "\t22 & post\\_sexism\\_2 &  & Agree somewhat &  & Neither disagree nor agree & $\\dots$ \\\\\n",
       "\t23 & post\\_sexism\\_3 &  & Agree somewhat &  & Neither disagree nor agree & $\\dots$ \\\\\n",
       "\t24 & post\\_sexism\\_4 &  & Agree somewhat &  & Neither disagree nor agree & $\\dots$ \\\\\n",
       "\t25 & condition2 &  & Control &  & Assault & $\\dots$ \\\\\n",
       "\t26 & pid3 &  & Democrat &  & Republican & $\\dots$ \\\\\n",
       "\t27 & needmoreevidence & 0.0 & 0 & 0.0 & 0 & $\\dots$ \\\\\n",
       "\\end{tabular}\n"
      ],
      "text/plain": [
       "27×8 DataFrame. Omitted printing of 4 columns\n",
       "│ Row │ variable         │ mean    │ min            │ median │\n",
       "│     │ \u001b[90mSymbol\u001b[39m           │ \u001b[90mUnion…\u001b[39m  │ \u001b[90mAny\u001b[39m            │ \u001b[90mUnion…\u001b[39m │\n",
       "├─────┼──────────────────┼─────────┼────────────────┼────────┤\n",
       "│ 1   │ id               │ 1404.17 │ 1              │ 1404.5 │\n",
       "│ 2   │ senator_party    │         │ Democrat       │        │\n",
       "│ 3   │ condition        │ 2.00641 │ 1              │ 2.0    │\n",
       "│ 4   │ pid7             │         │ Independent    │        │\n",
       "│ 5   │ pre_sexism_1     │         │ Agree somewhat │        │\n",
       "│ 6   │ pre_sexism_2     │         │ Agree somewhat │        │\n",
       "│ 7   │ pre_sexism_3     │         │ Agree somewhat │        │\n",
       "│ 8   │ pre_sexism_4     │         │ Agree somewhat │        │\n",
       "│ 9   │ pre_favorability │ 6.93158 │ 0              │ 7.0    │\n",
       "│ 10  │ pre_vote         │ 5.98824 │ 0              │ 6.0    │\n",
       "⋮\n",
       "│ 17  │ punishment_2     │         │ Agree somewhat │        │\n",
       "│ 18  │ punishment_3     │         │ Agree somewhat │        │\n",
       "│ 19  │ punishment_4     │         │ Agree somewhat │        │\n",
       "│ 20  │ punishment_5     │         │ Agree somewhat │        │\n",
       "│ 21  │ post_sexism_1    │         │ Agree somewhat │        │\n",
       "│ 22  │ post_sexism_2    │         │ Agree somewhat │        │\n",
       "│ 23  │ post_sexism_3    │         │ Agree somewhat │        │\n",
       "│ 24  │ post_sexism_4    │         │ Agree somewhat │        │\n",
       "│ 25  │ condition2       │         │ Control        │        │\n",
       "│ 26  │ pid3             │         │ Democrat       │        │\n",
       "│ 27  │ needmoreevidence │ 0.0     │ 0              │ 0.0    │"
      ]
     },
     "execution_count": 53,
     "metadata": {},
     "output_type": "execute_result"
    }
   ],
   "source": [
    "describe(df1)"
   ]
  },
  {
   "cell_type": "code",
   "execution_count": 17,
   "metadata": {},
   "outputs": [
    {
     "data": {
      "text/plain": [
       "6-element Named Array{Int64,1}\n",
       "Dim1                       │ \n",
       "───────────────────────────┼────\n",
       "Agree somewhat             │ 560\n",
       "Agree strongly             │ 329\n",
       "Disagree somewhat          │ 415\n",
       "Disagree strongly          │ 276\n",
       "Neither disagree nor agree │ 290\n",
       "missing                    │ 936"
      ]
     },
     "execution_count": 17,
     "metadata": {},
     "output_type": "execute_result"
    }
   ],
   "source": [
    "# recode: punishment \n",
    "\n",
    "# punishment 1\n",
    "freqtable(df1.punishment_1)"
   ]
  },
  {
   "cell_type": "code",
   "execution_count": 21,
   "metadata": {},
   "outputs": [
    {
     "data": {
      "text/plain": [
       "Missings.EachReplaceMissing{PooledArrays.PooledArray{Union{Missing, String},UInt32,1,Array{UInt32,1}},String}(Union{Missing, String}[\"Neither disagree nor agree\", \"Disagree somewhat\", \"Disagree strongly\", \"Neither disagree nor agree\", missing, \"Disagree somewhat\", missing, missing, \"Agree somewhat\", missing  …  \"Agree strongly\", missing, \"Disagree strongly\", missing, \"Disagree somewhat\", \"Agree strongly\", \"Agree strongly\", \"Neither disagree nor agree\", missing, \"Neither disagree nor agree\"], \"\")"
      ]
     },
     "execution_count": 21,
     "metadata": {},
     "output_type": "execute_result"
    }
   ],
   "source": [
    "# var contains 'missing', which will not process in ==/> kind of functions, so need to recode missing first as \"\"\n",
    "df1.punishment_1b = df1.punishment_1\n",
    "df1.punishment_1b = Missings.replace(df1.punishment_1b, \"\")"
   ]
  },
  {
   "cell_type": "code",
   "execution_count": 22,
   "metadata": {},
   "outputs": [
    {
     "data": {
      "text/plain": [
       "6×6 Named Array{Int64,2}\n",
       "Dim1 ╲ Dim2 │             Agree somewhat  …                     missing\n",
       "────────────┼──────────────────────────────────────────────────────────\n",
       "1           │                          0  …                           0\n",
       "2           │                          0                              0\n",
       "3           │                          0                              0\n",
       "4           │                        560                              0\n",
       "5           │                          0                              0\n",
       "missing     │                          0  …                         936"
      ]
     },
     "execution_count": 22,
     "metadata": {},
     "output_type": "execute_result"
    }
   ],
   "source": [
    "# recode: punishment \n",
    "\n",
    "# punishment 1\n",
    "df1.needmoreevidence = 999\n",
    "df1[(df1[:punishment_1b] .== \"Agree strongly\"),:needmoreevidence]=5\n",
    "df1[(df1[:punishment_1b] .== \"Agree somewhat\"),:needmoreevidence]=4\n",
    "df1[(df1[:punishment_1b] .== \"Neither disagree nor agree\"),:needmoreevidence]=3\n",
    "df1[(df1[:punishment_1b] .== \"Disagree somewhat\"),:needmoreevidence]=2\n",
    "df1[(df1[:punishment_1b] .== \"Disagree strongly\"),:needmoreevidence]=1\n",
    "\n",
    "# now recode 999 as missing so future fxn will skip over\n",
    "df1[:needmoreevidence] = recode(df1[:needmoreevidence], 999=>missing)\n",
    "\n",
    "freqtable(df1.needmoreevidence, df1.punishment_1)"
   ]
  },
  {
   "cell_type": "code",
   "execution_count": 93,
   "metadata": {},
   "outputs": [
    {
     "data": {
      "text/plain": [
       "6-element Named Array{Int64,1}\n",
       "Dim1                       │ \n",
       "───────────────────────────┼────\n",
       "Agree somewhat             │ 352\n",
       "Agree strongly             │ 258\n",
       "Disagree somewhat          │ 360\n",
       "Disagree strongly          │ 342\n",
       "Neither disagree nor agree │ 558\n",
       "missing                    │ 936"
      ]
     },
     "execution_count": 93,
     "metadata": {},
     "output_type": "execute_result"
    }
   ],
   "source": [
    "# punishment 2 (to 'apology')\n",
    "freqtable(df1.punishment_2)"
   ]
  },
  {
   "cell_type": "code",
   "execution_count": 23,
   "metadata": {},
   "outputs": [
    {
     "data": {
      "text/plain": [
       "6×6 Named Array{Int64,2}\n",
       "Dim1 ╲ Dim2 │             Agree somewhat  …                     missing\n",
       "────────────┼──────────────────────────────────────────────────────────\n",
       "1           │                          0  …                           0\n",
       "2           │                          0                              0\n",
       "3           │                          0                              0\n",
       "4           │                        352                              0\n",
       "5           │                          0                              0\n",
       "missing     │                          0  …                         936"
      ]
     },
     "execution_count": 23,
     "metadata": {},
     "output_type": "execute_result"
    }
   ],
   "source": [
    "# var contains 'missing', which will not process in ==/> kind of functions, so need to recode missing first as \"\"\n",
    "df1.punishment_2b = df1.punishment_2\n",
    "df1.punishment_2b = Missings.replace(df1.punishment_2b, \"\")\n",
    "\n",
    "df1.apology = 999\n",
    "df1[(df1[:punishment_2b] .== \"Agree strongly\"),:apology]=5\n",
    "df1[(df1[:punishment_2b] .== \"Agree somewhat\"),:apology]=4\n",
    "df1[(df1[:punishment_2b] .== \"Neither disagree nor agree\"),:apology]=3\n",
    "df1[(df1[:punishment_2b] .== \"Disagree somewhat\"),:apology]=2\n",
    "df1[(df1[:punishment_2b] .== \"Disagree strongly\"),:apology]=1\n",
    "\n",
    "# recode 999 as missing\n",
    "df1[:apology] = recode(df1[:apology], 999=>missing)\n",
    "freqtable(df1.apology, df1.punishment_2)"
   ]
  },
  {
   "cell_type": "code",
   "execution_count": 95,
   "metadata": {},
   "outputs": [
    {
     "data": {
      "text/plain": [
       "6-element Named Array{Int64,1}\n",
       "Dim1                       │ \n",
       "───────────────────────────┼────\n",
       "Agree somewhat             │ 395\n",
       "Agree strongly             │ 243\n",
       "Disagree somewhat          │ 372\n",
       "Disagree strongly          │ 570\n",
       "Neither disagree nor agree │ 290\n",
       "missing                    │ 936"
      ]
     },
     "execution_count": 95,
     "metadata": {},
     "output_type": "execute_result"
    }
   ],
   "source": [
    "# punishment 3 (to 'longtimeago')\n",
    "freqtable(df1.punishment_3)"
   ]
  },
  {
   "cell_type": "code",
   "execution_count": 24,
   "metadata": {},
   "outputs": [
    {
     "data": {
      "text/plain": [
       "6×6 Named Array{Int64,2}\n",
       "Dim1 ╲ Dim2 │             Agree somewhat  …                     missing\n",
       "────────────┼──────────────────────────────────────────────────────────\n",
       "1           │                          0  …                           0\n",
       "2           │                          0                              0\n",
       "3           │                          0                              0\n",
       "4           │                        395                              0\n",
       "5           │                          0                              0\n",
       "missing     │                          0  …                         936"
      ]
     },
     "execution_count": 24,
     "metadata": {},
     "output_type": "execute_result"
    }
   ],
   "source": [
    "# var contains 'missing', which will not process in ==/> kind of functions, so need to recode missing first as \"\"\n",
    "df1.punishment_3b = df1.punishment_3\n",
    "df1.punishment_3b = Missings.replace(df1.punishment_3b, \"\")\n",
    "\n",
    "df1.longtimeago = 999\n",
    "df1[(df1[:punishment_3b] .== \"Agree strongly\"),:longtimeago]=5\n",
    "df1[(df1[:punishment_3b] .== \"Agree somewhat\"),:longtimeago]=4\n",
    "df1[(df1[:punishment_3b] .== \"Neither disagree nor agree\"),:longtimeago]=3\n",
    "df1[(df1[:punishment_3b] .== \"Disagree somewhat\"),:longtimeago]=2\n",
    "df1[(df1[:punishment_3b] .== \"Disagree strongly\"),:longtimeago]=1\n",
    "\n",
    "# recode 999 as missing\n",
    "df1[:longtimeago] = recode(df1[:longtimeago], 999=>missing)\n",
    "freqtable(df1.longtimeago, df1.punishment_3)"
   ]
  },
  {
   "cell_type": "code",
   "execution_count": 97,
   "metadata": {},
   "outputs": [
    {
     "data": {
      "text/plain": [
       "6-element Named Array{Int64,1}\n",
       "Dim1                       │ \n",
       "───────────────────────────┼────\n",
       "Agree somewhat             │ 219\n",
       "Agree strongly             │ 172\n",
       "Disagree somewhat          │ 393\n",
       "Disagree strongly          │ 679\n",
       "Neither disagree nor agree │ 407\n",
       "missing                    │ 936"
      ]
     },
     "execution_count": 97,
     "metadata": {},
     "output_type": "execute_result"
    }
   ],
   "source": [
    "# punishment 4 (to 'resign')\n",
    "freqtable(df1.punishment_4)"
   ]
  },
  {
   "cell_type": "code",
   "execution_count": 25,
   "metadata": {},
   "outputs": [
    {
     "data": {
      "text/plain": [
       "6×6 Named Array{Int64,2}\n",
       "Dim1 ╲ Dim2 │             Agree somewhat  …                     missing\n",
       "────────────┼──────────────────────────────────────────────────────────\n",
       "1           │                          0  …                           0\n",
       "2           │                          0                              0\n",
       "3           │                          0                              0\n",
       "4           │                        219                              0\n",
       "5           │                          0                              0\n",
       "missing     │                          0  …                         936"
      ]
     },
     "execution_count": 25,
     "metadata": {},
     "output_type": "execute_result"
    }
   ],
   "source": [
    "# var contains 'missing', which will not process in ==/> kind of functions, so need to recode missing first as \"\"\n",
    "df1.punishment_4b = df1.punishment_4\n",
    "df1.punishment_4b = Missings.replace(df1.punishment_4b, \"\")\n",
    "\n",
    "df1.resign = 999\n",
    "df1[(df1[:punishment_4b] .== \"Agree strongly\"),:resign]=5\n",
    "df1[(df1[:punishment_4b] .== \"Agree somewhat\"),:resign]=4\n",
    "df1[(df1[:punishment_4b] .== \"Neither disagree nor agree\"),:resign]=3\n",
    "df1[(df1[:punishment_4b] .== \"Disagree somewhat\"),:resign]=2\n",
    "df1[(df1[:punishment_4b] .== \"Disagree strongly\"),:resign]=1\n",
    "\n",
    "# recode 999 as missing\n",
    "df1[:resign] = recode(df1[:resign], 999=>missing)\n",
    "freqtable(df1.resign, df1.punishment_4)"
   ]
  },
  {
   "cell_type": "code",
   "execution_count": 26,
   "metadata": {},
   "outputs": [
    {
     "data": {
      "text/plain": [
       "6-element Named Array{Int64,1}\n",
       "Dim1                       │ \n",
       "───────────────────────────┼────\n",
       "Agree somewhat             │ 360\n",
       "Agree strongly             │ 170\n",
       "Disagree somewhat          │ 360\n",
       "Disagree strongly          │ 385\n",
       "Neither disagree nor agree │ 595\n",
       "missing                    │ 936"
      ]
     },
     "execution_count": 26,
     "metadata": {},
     "output_type": "execute_result"
    }
   ],
   "source": [
    "# punishment 5 (to 'elitecues')\n",
    "freqtable(df1.punishment_5)"
   ]
  },
  {
   "cell_type": "code",
   "execution_count": 27,
   "metadata": {},
   "outputs": [
    {
     "data": {
      "text/plain": [
       "6×6 Named Array{Int64,2}\n",
       "Dim1 ╲ Dim2 │             Agree somewhat  …                     missing\n",
       "────────────┼──────────────────────────────────────────────────────────\n",
       "1           │                          0  …                           0\n",
       "2           │                          0                              0\n",
       "3           │                          0                              0\n",
       "4           │                        360                              0\n",
       "5           │                          0                              0\n",
       "missing     │                          0  …                         936"
      ]
     },
     "execution_count": 27,
     "metadata": {},
     "output_type": "execute_result"
    }
   ],
   "source": [
    "# var contains 'missing', which will not process in ==/> kind of functions, so need to recode missing first as \"\"\n",
    "df1.punishment_5b = df1.punishment_5\n",
    "df1.punishment_5b = Missings.replace(df1.punishment_5b, \"\")\n",
    "\n",
    "df1.elitecues = 999\n",
    "df1[(df1[:punishment_5b] .== \"Agree strongly\"),:elitecues]=5\n",
    "df1[(df1[:punishment_5b] .== \"Agree somewhat\"),:elitecues]=4\n",
    "df1[(df1[:punishment_5b] .== \"Neither disagree nor agree\"),:elitecues]=3\n",
    "df1[(df1[:punishment_5b] .== \"Disagree somewhat\"),:elitecues]=2\n",
    "df1[(df1[:punishment_5b] .== \"Disagree strongly\"),:elitecues]=1\n",
    "\n",
    "# recode 999 as missing\n",
    "df1[:elitecues] = recode(df1[:elitecues], 999=>missing)\n",
    "freqtable(df1.elitecues, df1.punishment_5)"
   ]
  },
  {
   "cell_type": "code",
   "execution_count": 28,
   "metadata": {},
   "outputs": [
    {
     "data": {
      "text/plain": [
       "6×6 Named Array{Int64,2}\n",
       "Dim1 ╲ Dim2 │             Agree somewhat  …                     missing\n",
       "────────────┼──────────────────────────────────────────────────────────\n",
       "1           │                          0  …                           0\n",
       "2           │                        560                              0\n",
       "3           │                          0                              0\n",
       "4           │                          0                              0\n",
       "5           │                          0                              0\n",
       "missing     │                          0  …                         936"
      ]
     },
     "execution_count": 28,
     "metadata": {},
     "output_type": "execute_result"
    }
   ],
   "source": [
    "#############################\n",
    "# recode punishment: reverse codes\n",
    "#############################\n",
    "\n",
    "# need more evidence\n",
    "df1.needmoreevidence_reverse = 999\n",
    "df1[(df1[:punishment_1b] .== \"Agree strongly\"),:needmoreevidence_reverse]=1\n",
    "df1[(df1[:punishment_1b] .== \"Agree somewhat\"),:needmoreevidence_reverse]=2\n",
    "df1[(df1[:punishment_1b] .== \"Neither disagree nor agree\"),:needmoreevidence_reverse]=3\n",
    "df1[(df1[:punishment_1b] .== \"Disagree somewhat\"),:needmoreevidence_reverse]=4\n",
    "df1[(df1[:punishment_1b] .== \"Disagree strongly\"),:needmoreevidence_reverse]=5\n",
    "\n",
    "# now recode 999 as missing so future fxn will skip over\n",
    "df1[:needmoreevidence_reverse] = recode(df1[:needmoreevidence_reverse], 999=>missing)\n",
    "\n",
    "freqtable(df1.needmoreevidence_reverse, df1.punishment_1)"
   ]
  },
  {
   "cell_type": "code",
   "execution_count": 29,
   "metadata": {},
   "outputs": [
    {
     "data": {
      "text/plain": [
       "6×6 Named Array{Int64,2}\n",
       "Dim1 ╲ Dim2 │             Agree somewhat  …                     missing\n",
       "────────────┼──────────────────────────────────────────────────────────\n",
       "1           │                          0  …                           0\n",
       "2           │                        395                              0\n",
       "3           │                          0                              0\n",
       "4           │                          0                              0\n",
       "5           │                          0                              0\n",
       "missing     │                          0  …                         936"
      ]
     },
     "execution_count": 29,
     "metadata": {},
     "output_type": "execute_result"
    }
   ],
   "source": [
    "# long time ago\n",
    "df1.longtimeago_reverse = 999\n",
    "df1[(df1[:punishment_3b] .== \"Agree strongly\"),:longtimeago_reverse]=1\n",
    "df1[(df1[:punishment_3b] .== \"Agree somewhat\"),:longtimeago_reverse]=2\n",
    "df1[(df1[:punishment_3b] .== \"Neither disagree nor agree\"),:longtimeago_reverse]=3\n",
    "df1[(df1[:punishment_3b] .== \"Disagree somewhat\"),:longtimeago_reverse]=4\n",
    "df1[(df1[:punishment_3b] .== \"Disagree strongly\"),:longtimeago_reverse]=5\n",
    "\n",
    "# recode 999 as missing\n",
    "df1[:longtimeago_reverse] = recode(df1[:longtimeago_reverse], 999=>missing)\n",
    "freqtable(df1.longtimeago_reverse, df1.punishment_3)"
   ]
  },
  {
   "cell_type": "code",
   "execution_count": 30,
   "metadata": {},
   "outputs": [
    {
     "data": {
      "text/plain": [
       "2806-element Array{Union{Missing, Float64},1}:\n",
       " 3.25\n",
       " 3.75\n",
       " 5.0\n",
       " 3.0\n",
       "  missing\n",
       " 3.5\n",
       "  missing\n",
       "  missing\n",
       " 2.25\n",
       "  missing\n",
       "  missing\n",
       " 3.75\n",
       " 3.25\n",
       " ⋮\n",
       " 1.75\n",
       " 3.5\n",
       " 1.5\n",
       "  missing\n",
       " 5.0\n",
       "  missing\n",
       " 3.25\n",
       " 2.0\n",
       " 1.0\n",
       " 3.5\n",
       "  missing\n",
       " 3.0"
      ]
     },
     "execution_count": 30,
     "metadata": {},
     "output_type": "execute_result"
    }
   ],
   "source": [
    "# new variable: mean punitiveness score ####\n",
    "df1[:meanpunishment] = ((df1[:apology]+df1[:resign]+df1[:needmoreevidence_reverse]+df1[:longtimeago_reverse])/4)"
   ]
  },
  {
   "cell_type": "code",
   "execution_count": 31,
   "metadata": {},
   "outputs": [
    {
     "name": "stdout",
     "output_type": "stream",
     "text": [
      "Summary Stats:\n",
      "Length:         2806\n",
      "Missing Count:  936\n",
      "Mean:           2.868449\n",
      "Minimum:        1.000000\n",
      "1st Quartile:   2.000000\n",
      "Median:         3.000000\n",
      "3rd Quartile:   3.500000\n",
      "Maximum:        5.000000\n",
      "Type:           Union{Missing, Float64}\n"
     ]
    }
   ],
   "source": [
    "describe(df1.meanpunishment)"
   ]
  },
  {
   "cell_type": "code",
   "execution_count": 32,
   "metadata": {},
   "outputs": [
    {
     "data": {
      "text/plain": [
       "2×2 Named Array{Int64,2}\n",
       "Dim1 ╲ Dim2 │   Democrat  Republican\n",
       "────────────┼───────────────────────\n",
       "Democrat    │       1407           0\n",
       "Republican  │          0        1399"
      ]
     },
     "execution_count": 32,
     "metadata": {},
     "output_type": "execute_result"
    }
   ],
   "source": [
    "## new variable: same party as legislator####\n",
    "freqtable(df1.senator_party, df1.senator_party)"
   ]
  },
  {
   "cell_type": "code",
   "execution_count": 33,
   "metadata": {},
   "outputs": [
    {
     "data": {
      "text/plain": [
       "2806-element CategoricalArray{String,1,UInt32}:\n",
       " \"Opposite party\"\n",
       " \"Opposite party\"\n",
       " \"Opposite party\"\n",
       " \"Independents/Not sures\"\n",
       " \"Same party\"\n",
       " \"Same party\"\n",
       " \"Opposite party\"\n",
       " \"Same party\"\n",
       " \"Same party\"\n",
       " \"Same party\"\n",
       " \"Opposite party\"\n",
       " \"Opposite party\"\n",
       " \"Independents/Not sures\"\n",
       " ⋮\n",
       " \"Independents/Not sures\"\n",
       " \"Opposite party\"\n",
       " \"Same party\"\n",
       " \"Independents/Not sures\"\n",
       " \"Same party\"\n",
       " \"Opposite party\"\n",
       " \"Same party\"\n",
       " \"Opposite party\"\n",
       " \"Same party\"\n",
       " \"Opposite party\"\n",
       " \"Opposite party\"\n",
       " \"Same party\""
      ]
     },
     "execution_count": 33,
     "metadata": {},
     "output_type": "execute_result"
    }
   ],
   "source": [
    "df1.sameparty = \"\"\n",
    "df1[( (df1[:pid3] .== \"Democrat\") .& (df1[:senator_party] .== \"Democrat\") ) .|\n",
    "    ( (df1[:pid3] .== \"Republican\") .& (df1[:senator_party] .== \"Republican\") ),:sameparty] =\"Same party\"\n",
    "\n",
    "df1[( (df1[:pid3] .== \"Democrat\") .& (df1[:senator_party] .== \"Republican\") ) .|\n",
    "    ( (df1[:pid3] .== \"Republican\") .& (df1[:senator_party] .== \"Democrat\") ),:sameparty] =\"Opposite party\"\n",
    "\n",
    "df1[(df1[:pid3] .== \"Independent\"),:sameparty] = \"Independents/Not sures\" \n",
    "\n",
    "#make categorical\n",
    "df1[:sameparty] = CategoricalArray(df1[:sameparty])"
   ]
  },
  {
   "cell_type": "code",
   "execution_count": 34,
   "metadata": {},
   "outputs": [
    {
     "data": {
      "text/plain": [
       "3-element Named Array{Int64,1}\n",
       "Dim1                                                     │ \n",
       "─────────────────────────────────────────────────────────┼─────\n",
       "CategoricalValue{String,UInt32} \"Independents/Not sures\" │  654\n",
       "CategoricalValue{String,UInt32} \"Opposite party\"         │ 1088\n",
       "CategoricalValue{String,UInt32} \"Same party\"             │ 1064"
      ]
     },
     "execution_count": 34,
     "metadata": {},
     "output_type": "execute_result"
    }
   ],
   "source": [
    "freqtable(df1.sameparty)"
   ]
  },
  {
   "cell_type": "code",
   "execution_count": 35,
   "metadata": {},
   "outputs": [
    {
     "data": {
      "text/plain": [
       "5-element Named Array{Int64,1}\n",
       "Dim1  │ \n",
       "──────┼────\n",
       "1     │ 905\n",
       "2     │ 793\n",
       "3     │ 459\n",
       "4     │ 493\n",
       "5     │ 156"
      ]
     },
     "execution_count": 35,
     "metadata": {},
     "output_type": "execute_result"
    }
   ],
   "source": [
    "# recode: pre sexism ####\n",
    "# sexism_1,2,4 reverse coded\n",
    "# see original R code from authors\n",
    "\n",
    "# tried using recode and dictionaries, but could not get it to work\n",
    "# instead, generated simple numeric based on values of pre_sexism_#\n",
    "\n",
    "#df1.pre_sexism_1new = recode(df1.pre_sexism_1, \n",
    "#    5=>\"Agree strongly\",\n",
    "#    4=>\"Agree somewhat\",\n",
    "#    3=>\"Neither disagree nor agree\",\n",
    "#    2=>\"Disagree somewhat\",\n",
    "#    1=>\"Disagree strongly\")\n",
    "\n",
    "# alt: could use dictionary: A = Categorical([1 2;2 1;2 2;1 1], Dict(1=>\"male\", 2=>\"female\"))\n",
    "\n",
    "df1.pre_sexism_1new = 999\n",
    "df1[ (df1[:pre_sexism_1] .== \"Agree strongly\"),:pre_sexism_1new] =5\n",
    "df1[ (df1[:pre_sexism_1] .== \"Agree somewhat\"),:pre_sexism_1new] =4\n",
    "df1[ (df1[:pre_sexism_1] .== \"Neither disagree nor agree\"),:pre_sexism_1new] =3\n",
    "df1[ (df1[:pre_sexism_1] .== \"Disagree somewhat\"),:pre_sexism_1new] =2\n",
    "df1[ (df1[:pre_sexism_1] .== \"Disagree strongly\"),:pre_sexism_1new] =1\n",
    "freqtable(df1.pre_sexism_1new)"
   ]
  },
  {
   "cell_type": "code",
   "execution_count": 36,
   "metadata": {},
   "outputs": [
    {
     "data": {
      "text/plain": [
       "5-element Named Array{Int64,1}\n",
       "Dim1  │ \n",
       "──────┼────\n",
       "1     │ 919\n",
       "2     │ 661\n",
       "3     │ 437\n",
       "4     │ 556\n",
       "5     │ 233"
      ]
     },
     "execution_count": 36,
     "metadata": {},
     "output_type": "execute_result"
    }
   ],
   "source": [
    "df1.pre_sexism_2new = 999\n",
    "df1[ (df1[:pre_sexism_2] .== \"Agree strongly\"),:pre_sexism_2new] =5\n",
    "df1[ (df1[:pre_sexism_2] .== \"Agree somewhat\"),:pre_sexism_2new] =4\n",
    "df1[ (df1[:pre_sexism_2] .== \"Neither disagree nor agree\"),:pre_sexism_2new] =3\n",
    "df1[ (df1[:pre_sexism_2] .== \"Disagree somewhat\"),:pre_sexism_2new] =2\n",
    "df1[ (df1[:pre_sexism_2] .== \"Disagree strongly\"),:pre_sexism_2new] =1\n",
    "freqtable(df1.pre_sexism_2new)"
   ]
  },
  {
   "cell_type": "code",
   "execution_count": 37,
   "metadata": {},
   "outputs": [
    {
     "data": {
      "text/plain": [
       "5-element Named Array{Int64,1}\n",
       "Dim1  │ \n",
       "──────┼────\n",
       "1     │ 940\n",
       "2     │ 684\n",
       "3     │ 445\n",
       "4     │ 552\n",
       "5     │ 185"
      ]
     },
     "execution_count": 37,
     "metadata": {},
     "output_type": "execute_result"
    }
   ],
   "source": [
    "df1.pre_sexism_4new = 999\n",
    "df1[ (df1[:pre_sexism_4] .== \"Agree strongly\"),:pre_sexism_4new] =5\n",
    "df1[ (df1[:pre_sexism_4] .== \"Agree somewhat\"),:pre_sexism_4new] =4\n",
    "df1[ (df1[:pre_sexism_4] .== \"Neither disagree nor agree\"),:pre_sexism_4new] =3\n",
    "df1[ (df1[:pre_sexism_4] .== \"Disagree somewhat\"),:pre_sexism_4new] =2\n",
    "df1[ (df1[:pre_sexism_4] .== \"Disagree strongly\"),:pre_sexism_4new] =1\n",
    "freqtable(df1.pre_sexism_4new)"
   ]
  },
  {
   "cell_type": "code",
   "execution_count": 38,
   "metadata": {},
   "outputs": [
    {
     "data": {
      "text/plain": [
       "5-element Named Array{Int64,1}\n",
       "Dim1  │ \n",
       "──────┼────\n",
       "1     │ 925\n",
       "2     │ 825\n",
       "3     │ 504\n",
       "4     │ 339\n",
       "5     │ 213"
      ]
     },
     "execution_count": 38,
     "metadata": {},
     "output_type": "execute_result"
    }
   ],
   "source": [
    "df1.pre_sexism_3new = 999\n",
    "df1[ (df1[:pre_sexism_3] .== \"Agree strongly\"),:pre_sexism_3new] =1\n",
    "df1[ (df1[:pre_sexism_3] .== \"Agree somewhat\"),:pre_sexism_3new] =2\n",
    "df1[ (df1[:pre_sexism_3] .== \"Neither disagree nor agree\"),:pre_sexism_3new] =3\n",
    "df1[ (df1[:pre_sexism_3] .== \"Disagree somewhat\"),:pre_sexism_3new] =4\n",
    "df1[ (df1[:pre_sexism_3] .== \"Disagree strongly\"),:pre_sexism_3new] =5\n",
    "freqtable(df1.pre_sexism_3new)"
   ]
  },
  {
   "cell_type": "code",
   "execution_count": 39,
   "metadata": {},
   "outputs": [
    {
     "data": {
      "text/plain": [
       "2806-element Array{Float64,1}:\n",
       " 3.75\n",
       " 2.75\n",
       " 2.0\n",
       " 3.25\n",
       " 1.0\n",
       " 3.0\n",
       " 3.0\n",
       " 4.0\n",
       " 1.0\n",
       " 1.5\n",
       " 2.0\n",
       " 4.25\n",
       " 3.0\n",
       " ⋮\n",
       " 3.75\n",
       " 1.5\n",
       " 2.5\n",
       " 2.25\n",
       " 1.0\n",
       " 1.0\n",
       " 1.75\n",
       " 4.0\n",
       " 3.0\n",
       " 3.5\n",
       " 1.0\n",
       " 3.0"
      ]
     },
     "execution_count": 39,
     "metadata": {},
     "output_type": "execute_result"
    }
   ],
   "source": [
    "# new variable: pre_sexism ####\n",
    "df1[:pre_sexism] = ((df1[:pre_sexism_1new] + df1[:pre_sexism_2new] + df1[:pre_sexism_3new] + df1[:pre_sexism_4new])/4)"
   ]
  },
  {
   "cell_type": "code",
   "execution_count": 40,
   "metadata": {},
   "outputs": [
    {
     "data": {
      "text/plain": [
       "2806-element Array{Float64,1}:\n",
       " 2.0\n",
       " 3.25\n",
       " 1.75\n",
       " 4.0\n",
       " 1.0\n",
       " 3.0\n",
       " 3.25\n",
       " 4.0\n",
       " 1.0\n",
       " 1.25\n",
       " 2.0\n",
       " 4.0\n",
       " 3.75\n",
       " ⋮\n",
       " 4.0\n",
       " 1.0\n",
       " 2.5\n",
       " 2.25\n",
       " 1.0\n",
       " 1.0\n",
       " 1.75\n",
       " 5.0\n",
       " 3.0\n",
       " 3.25\n",
       " 1.0\n",
       " 3.0"
      ]
     },
     "execution_count": 40,
     "metadata": {},
     "output_type": "execute_result"
    }
   ],
   "source": [
    "# recode post_sexism\n",
    "# sexism_1,2,4 reverse coded (same as pre_sexism)\n",
    "# see original R code from authors\n",
    "\n",
    "df1.post_sexism_1new = 999\n",
    "df1[ (df1[:post_sexism_1] .== \"Agree strongly\"),:post_sexism_1new] =5\n",
    "df1[ (df1[:post_sexism_1] .== \"Agree somewhat\"),:post_sexism_1new] =4\n",
    "df1[ (df1[:post_sexism_1] .== \"Neither disagree nor agree\"),:post_sexism_1new] =3\n",
    "df1[ (df1[:post_sexism_1] .== \"Disagree somewhat\"),:post_sexism_1new] =2\n",
    "df1[ (df1[:post_sexism_1] .== \"Disagree strongly\"),:post_sexism_1new] =1\n",
    "\n",
    "df1.post_sexism_2new = 999\n",
    "df1[ (df1[:post_sexism_2] .== \"Agree strongly\"),:post_sexism_2new] =5\n",
    "df1[ (df1[:post_sexism_2] .== \"Agree somewhat\"),:post_sexism_2new] =4\n",
    "df1[ (df1[:post_sexism_2] .== \"Neither disagree nor agree\"),:post_sexism_2new] =3\n",
    "df1[ (df1[:post_sexism_2] .== \"Disagree somewhat\"),:post_sexism_2new] =2\n",
    "df1[ (df1[:post_sexism_2] .== \"Disagree strongly\"),:post_sexism_2new] =1\n",
    "\n",
    "df1.post_sexism_4new = 999\n",
    "df1[ (df1[:post_sexism_4] .== \"Agree strongly\"),:post_sexism_4new] =5\n",
    "df1[ (df1[:post_sexism_4] .== \"Agree somewhat\"),:post_sexism_4new] =4\n",
    "df1[ (df1[:post_sexism_4] .== \"Neither disagree nor agree\"),:post_sexism_4new] =3\n",
    "df1[ (df1[:post_sexism_4] .== \"Disagree somewhat\"),:post_sexism_4new] =2\n",
    "df1[ (df1[:post_sexism_4] .== \"Disagree strongly\"),:post_sexism_4new] =1\n",
    "\n",
    "df1.post_sexism_3new = 999\n",
    "df1[ (df1[:post_sexism_3] .== \"Agree strongly\"),:post_sexism_3new] =1\n",
    "df1[ (df1[:post_sexism_3] .== \"Agree somewhat\"),:post_sexism_3new] =2\n",
    "df1[ (df1[:post_sexism_3] .== \"Neither disagree nor agree\"),:post_sexism_3new] =3\n",
    "df1[ (df1[:post_sexism_3] .== \"Disagree somewhat\"),:post_sexism_3new] =4\n",
    "df1[ (df1[:post_sexism_3] .== \"Disagree strongly\"),:post_sexism_3new] =5\n",
    "\n",
    "# new variable: post_sexism ####\n",
    "df1[:post_sexism] = ((df1[:post_sexism_1new] + df1[:post_sexism_2new] + df1[:post_sexism_3new] + df1[:post_sexism_4new])/4)"
   ]
  },
  {
   "cell_type": "code",
   "execution_count": 41,
   "metadata": {},
   "outputs": [
    {
     "data": {
      "text/plain": [
       "2806-element Array{Int64,1}:\n",
       "  0\n",
       " -3\n",
       " -3\n",
       " -2\n",
       "  1\n",
       " -1\n",
       " -1\n",
       "  0\n",
       " -5\n",
       " -1\n",
       "  0\n",
       " -2\n",
       "  0\n",
       "  ⋮\n",
       "  1\n",
       " -2\n",
       "  0\n",
       "  1\n",
       " -9\n",
       "  0\n",
       " -2\n",
       "  3\n",
       " -1\n",
       " -2\n",
       "  0\n",
       " -3"
      ]
     },
     "execution_count": 41,
     "metadata": {},
     "output_type": "execute_result"
    }
   ],
   "source": [
    "### new variables: \n",
    "# raw change from pretest to posttest ####\n",
    "# favorability\n",
    "df1[:change_favorability] = (df1.post_favorability.+1) - (df1.pre_favorability.+1)"
   ]
  },
  {
   "cell_type": "code",
   "execution_count": 42,
   "metadata": {},
   "outputs": [
    {
     "data": {
      "text/plain": [
       "2806-element Array{Int64,1}:\n",
       "  4\n",
       " -1\n",
       "  0\n",
       "  1\n",
       "  0\n",
       "  0\n",
       "  2\n",
       "  0\n",
       " -4\n",
       " -2\n",
       "  0\n",
       " -1\n",
       "  0\n",
       "  ⋮\n",
       "  1\n",
       " -3\n",
       "  0\n",
       "  0\n",
       " -9\n",
       "  1\n",
       " -2\n",
       "  1\n",
       " -2\n",
       "  1\n",
       "  0\n",
       " -3"
      ]
     },
     "execution_count": 42,
     "metadata": {},
     "output_type": "execute_result"
    }
   ],
   "source": [
    "# vote\n",
    "df1[:change_vote] = (df1.post_vote) - (df1.pre_vote)"
   ]
  },
  {
   "cell_type": "code",
   "execution_count": 43,
   "metadata": {},
   "outputs": [
    {
     "data": {
      "text/plain": [
       "2806-element Array{Float64,1}:\n",
       " -1.75\n",
       "  0.5\n",
       " -0.25\n",
       "  0.75\n",
       "  0.0\n",
       "  0.0\n",
       "  0.25\n",
       "  0.0\n",
       "  0.0\n",
       " -0.25\n",
       "  0.0\n",
       " -0.25\n",
       "  0.75\n",
       "  ⋮\n",
       "  0.25\n",
       " -0.5\n",
       "  0.0\n",
       "  0.0\n",
       "  0.0\n",
       "  0.0\n",
       "  0.0\n",
       "  1.0\n",
       "  0.0\n",
       " -0.25\n",
       "  0.0\n",
       "  0.0"
      ]
     },
     "execution_count": 43,
     "metadata": {},
     "output_type": "execute_result"
    }
   ],
   "source": [
    "# sexism\n",
    "df1[:change_sexism] = (df1.post_sexism) - (df1.pre_sexism)"
   ]
  },
  {
   "cell_type": "code",
   "execution_count": 44,
   "metadata": {},
   "outputs": [
    {
     "data": {
      "text/plain": [
       "2806-element Array{Float64,1}:\n",
       "   0.0\n",
       " -50.0\n",
       " -50.0\n",
       " -25.0\n",
       "  14.285714285714285\n",
       " -12.5\n",
       " -12.5\n",
       "   0.0\n",
       " -45.45454545454545\n",
       " -11.11111111111111\n",
       "   0.0\n",
       " -50.0\n",
       "   0.0\n",
       "   ⋮\n",
       "  16.666666666666664\n",
       " -25.0\n",
       "   0.0\n",
       "  10.0\n",
       " -90.0\n",
       "   0.0\n",
       " -28.57142857142857\n",
       " 150.0\n",
       " -12.5\n",
       " -22.22222222222222\n",
       "   0.0\n",
       " -33.33333333333333"
      ]
     },
     "execution_count": 44,
     "metadata": {},
     "output_type": "execute_result"
    }
   ],
   "source": [
    "### new variables: \n",
    "# percent change from pretest to posttest ##### favorability\n",
    "df1[:perchange_favorability] = (((df1[:post_favorability].+1) - (df1[:pre_favorability].+1))./(df1[:pre_favorability].+1))*100"
   ]
  },
  {
   "cell_type": "code",
   "execution_count": 45,
   "metadata": {},
   "outputs": [
    {
     "data": {
      "text/plain": [
       "2806-element Array{Float64,1}:\n",
       " 100.0\n",
       " -25.0\n",
       "   0.0\n",
       "  14.285714285714285\n",
       "   0.0\n",
       "   0.0\n",
       "  28.57142857142857\n",
       "   0.0\n",
       " -36.36363636363637\n",
       " -20.0\n",
       "   0.0\n",
       " -33.33333333333333\n",
       "   0.0\n",
       "   ⋮\n",
       "  14.285714285714285\n",
       " -50.0\n",
       "   0.0\n",
       "   0.0\n",
       " -90.0\n",
       "  10.0\n",
       " -28.57142857142857\n",
       "  33.33333333333333\n",
       " -18.181818181818183\n",
       "  11.11111111111111\n",
       "   0.0\n",
       " -37.5"
      ]
     },
     "execution_count": 45,
     "metadata": {},
     "output_type": "execute_result"
    }
   ],
   "source": [
    "# vote\n",
    "df1[:perchange_vote] = (((df1.post_vote.+1) - (df1.pre_vote.+1))./(df1.pre_vote.+1))*100"
   ]
  },
  {
   "cell_type": "code",
   "execution_count": 46,
   "metadata": {},
   "outputs": [
    {
     "data": {
      "text/plain": [
       "2806-element Array{Float64,1}:\n",
       " -36.84210526315789\n",
       "  13.333333333333334\n",
       "  -8.333333333333332\n",
       "  17.647058823529413\n",
       "   0.0\n",
       "   0.0\n",
       "   6.25\n",
       "   0.0\n",
       "   0.0\n",
       " -10.0\n",
       "   0.0\n",
       "  -4.761904761904762\n",
       "  18.75\n",
       "   ⋮\n",
       "   5.263157894736842\n",
       " -20.0\n",
       "   0.0\n",
       "   0.0\n",
       "   0.0\n",
       "   0.0\n",
       "   0.0\n",
       "  20.0\n",
       "   0.0\n",
       "  -5.555555555555555\n",
       "   0.0\n",
       "   0.0"
      ]
     },
     "execution_count": 46,
     "metadata": {},
     "output_type": "execute_result"
    }
   ],
   "source": [
    "# sexism\n",
    "df1[:perchange_sexism] = (((df1[:post_sexism].+1) - (df1[:pre_sexism].+1))./(df1[:pre_sexism].+1))*100"
   ]
  },
  {
   "cell_type": "code",
   "execution_count": 47,
   "metadata": {},
   "outputs": [
    {
     "data": {
      "text/html": [
       "<table class=\"data-frame\"><thead><tr><th></th><th>id</th><th>senator_party</th><th>condition</th><th>pid7</th><th>pre_sexism_1</th></tr><tr><th></th><th>Int64</th><th>String</th><th>Int64</th><th>String</th><th>String</th></tr></thead><tbody><p>2,152 rows × 56 columns (omitted printing of 51 columns)</p><tr><th>1</th><td>1</td><td>Democrat</td><td>2</td><td>Strong Republican</td><td>Agree strongly</td></tr><tr><th>2</th><td>2</td><td>Republican</td><td>2</td><td>Not very strong Democrat</td><td>Disagree somewhat</td></tr><tr><th>3</th><td>3</td><td>Republican</td><td>2</td><td>Strong Democrat</td><td>Disagree strongly</td></tr><tr><th>4</th><td>5</td><td>Democrat</td><td>3</td><td>Strong Democrat</td><td>Disagree strongly</td></tr><tr><th>5</th><td>6</td><td>Republican</td><td>2</td><td>Lean Republican</td><td>Neither disagree nor agree</td></tr><tr><th>6</th><td>7</td><td>Republican</td><td>3</td><td>Strong Democrat</td><td>Neither disagree nor agree</td></tr><tr><th>7</th><td>8</td><td>Republican</td><td>3</td><td>Not very strong Republican</td><td>Agree strongly</td></tr><tr><th>8</th><td>9</td><td>Democrat</td><td>2</td><td>Not very strong Democrat</td><td>Disagree strongly</td></tr><tr><th>9</th><td>10</td><td>Democrat</td><td>3</td><td>Strong Democrat</td><td>Disagree strongly</td></tr><tr><th>10</th><td>11</td><td>Republican</td><td>3</td><td>Strong Democrat</td><td>Disagree strongly</td></tr><tr><th>11</th><td>12</td><td>Republican</td><td>1</td><td>Not very strong Democrat</td><td>Agree somewhat</td></tr><tr><th>12</th><td>14</td><td>Republican</td><td>1</td><td>Not very strong Republican</td><td>Agree somewhat</td></tr><tr><th>13</th><td>15</td><td>Republican</td><td>3</td><td>Lean Republican</td><td>Disagree somewhat</td></tr><tr><th>14</th><td>16</td><td>Democrat</td><td>3</td><td>Strong Democrat</td><td>Disagree somewhat</td></tr><tr><th>15</th><td>18</td><td>Democrat</td><td>2</td><td>Strong Democrat</td><td>Disagree strongly</td></tr><tr><th>16</th><td>19</td><td>Democrat</td><td>3</td><td>Not very strong Republican</td><td>Disagree somewhat</td></tr><tr><th>17</th><td>20</td><td>Democrat</td><td>2</td><td>Strong Democrat</td><td>Agree somewhat</td></tr><tr><th>18</th><td>21</td><td>Democrat</td><td>3</td><td>Not very strong Republican</td><td>Agree somewhat</td></tr><tr><th>19</th><td>24</td><td>Democrat</td><td>3</td><td>Lean Republican</td><td>Agree somewhat</td></tr><tr><th>20</th><td>25</td><td>Democrat</td><td>2</td><td>Strong Democrat</td><td>Disagree strongly</td></tr><tr><th>21</th><td>27</td><td>Republican</td><td>2</td><td>Strong Democrat</td><td>Disagree strongly</td></tr><tr><th>22</th><td>28</td><td>Republican</td><td>2</td><td>Lean Democrat</td><td>Neither disagree nor agree</td></tr><tr><th>23</th><td>29</td><td>Democrat</td><td>3</td><td>Strong Democrat</td><td>Disagree strongly</td></tr><tr><th>24</th><td>31</td><td>Democrat</td><td>3</td><td>Lean Democrat</td><td>Disagree strongly</td></tr><tr><th>25</th><td>33</td><td>Republican</td><td>2</td><td>Not very strong Democrat</td><td>Agree somewhat</td></tr><tr><th>26</th><td>34</td><td>Democrat</td><td>3</td><td>Strong Democrat</td><td>Disagree strongly</td></tr><tr><th>27</th><td>35</td><td>Democrat</td><td>3</td><td>Strong Democrat</td><td>Disagree somewhat</td></tr><tr><th>28</th><td>36</td><td>Democrat</td><td>1</td><td>Strong Republican</td><td>Disagree somewhat</td></tr><tr><th>29</th><td>37</td><td>Republican</td><td>3</td><td>Lean Republican</td><td>Agree somewhat</td></tr><tr><th>30</th><td>41</td><td>Republican</td><td>3</td><td>Strong Republican</td><td>Agree somewhat</td></tr><tr><th>&vellip;</th><td>&vellip;</td><td>&vellip;</td><td>&vellip;</td><td>&vellip;</td><td>&vellip;</td></tr></tbody></table>"
      ],
      "text/latex": [
       "\\begin{tabular}{r|cccccc}\n",
       "\t& id & senator\\_party & condition & pid7 & pre\\_sexism\\_1 & \\\\\n",
       "\t\\hline\n",
       "\t& Int64 & String & Int64 & String & String & \\\\\n",
       "\t\\hline\n",
       "\t1 & 1 & Democrat & 2 & Strong Republican & Agree strongly & $\\dots$ \\\\\n",
       "\t2 & 2 & Republican & 2 & Not very strong Democrat & Disagree somewhat & $\\dots$ \\\\\n",
       "\t3 & 3 & Republican & 2 & Strong Democrat & Disagree strongly & $\\dots$ \\\\\n",
       "\t4 & 5 & Democrat & 3 & Strong Democrat & Disagree strongly & $\\dots$ \\\\\n",
       "\t5 & 6 & Republican & 2 & Lean Republican & Neither disagree nor agree & $\\dots$ \\\\\n",
       "\t6 & 7 & Republican & 3 & Strong Democrat & Neither disagree nor agree & $\\dots$ \\\\\n",
       "\t7 & 8 & Republican & 3 & Not very strong Republican & Agree strongly & $\\dots$ \\\\\n",
       "\t8 & 9 & Democrat & 2 & Not very strong Democrat & Disagree strongly & $\\dots$ \\\\\n",
       "\t9 & 10 & Democrat & 3 & Strong Democrat & Disagree strongly & $\\dots$ \\\\\n",
       "\t10 & 11 & Republican & 3 & Strong Democrat & Disagree strongly & $\\dots$ \\\\\n",
       "\t11 & 12 & Republican & 1 & Not very strong Democrat & Agree somewhat & $\\dots$ \\\\\n",
       "\t12 & 14 & Republican & 1 & Not very strong Republican & Agree somewhat & $\\dots$ \\\\\n",
       "\t13 & 15 & Republican & 3 & Lean Republican & Disagree somewhat & $\\dots$ \\\\\n",
       "\t14 & 16 & Democrat & 3 & Strong Democrat & Disagree somewhat & $\\dots$ \\\\\n",
       "\t15 & 18 & Democrat & 2 & Strong Democrat & Disagree strongly & $\\dots$ \\\\\n",
       "\t16 & 19 & Democrat & 3 & Not very strong Republican & Disagree somewhat & $\\dots$ \\\\\n",
       "\t17 & 20 & Democrat & 2 & Strong Democrat & Agree somewhat & $\\dots$ \\\\\n",
       "\t18 & 21 & Democrat & 3 & Not very strong Republican & Agree somewhat & $\\dots$ \\\\\n",
       "\t19 & 24 & Democrat & 3 & Lean Republican & Agree somewhat & $\\dots$ \\\\\n",
       "\t20 & 25 & Democrat & 2 & Strong Democrat & Disagree strongly & $\\dots$ \\\\\n",
       "\t21 & 27 & Republican & 2 & Strong Democrat & Disagree strongly & $\\dots$ \\\\\n",
       "\t22 & 28 & Republican & 2 & Lean Democrat & Neither disagree nor agree & $\\dots$ \\\\\n",
       "\t23 & 29 & Democrat & 3 & Strong Democrat & Disagree strongly & $\\dots$ \\\\\n",
       "\t24 & 31 & Democrat & 3 & Lean Democrat & Disagree strongly & $\\dots$ \\\\\n",
       "\t25 & 33 & Republican & 2 & Not very strong Democrat & Agree somewhat & $\\dots$ \\\\\n",
       "\t26 & 34 & Democrat & 3 & Strong Democrat & Disagree strongly & $\\dots$ \\\\\n",
       "\t27 & 35 & Democrat & 3 & Strong Democrat & Disagree somewhat & $\\dots$ \\\\\n",
       "\t28 & 36 & Democrat & 1 & Strong Republican & Disagree somewhat & $\\dots$ \\\\\n",
       "\t29 & 37 & Republican & 3 & Lean Republican & Agree somewhat & $\\dots$ \\\\\n",
       "\t30 & 41 & Republican & 3 & Strong Republican & Agree somewhat & $\\dots$ \\\\\n",
       "\t$\\dots$ & $\\dots$ & $\\dots$ & $\\dots$ & $\\dots$ & $\\dots$ &  \\\\\n",
       "\\end{tabular}\n"
      ],
      "text/plain": [
       "2152×56 DataFrame. Omitted printing of 52 columns\n",
       "│ Row  │ id    │ senator_party │ condition │ pid7                       │\n",
       "│      │ \u001b[90mInt64\u001b[39m │ \u001b[90mString\u001b[39m        │ \u001b[90mInt64\u001b[39m     │ \u001b[90mString\u001b[39m                     │\n",
       "├──────┼───────┼───────────────┼───────────┼────────────────────────────┤\n",
       "│ 1    │ 1     │ Democrat      │ 2         │ Strong Republican          │\n",
       "│ 2    │ 2     │ Republican    │ 2         │ Not very strong Democrat   │\n",
       "│ 3    │ 3     │ Republican    │ 2         │ Strong Democrat            │\n",
       "│ 4    │ 5     │ Democrat      │ 3         │ Strong Democrat            │\n",
       "│ 5    │ 6     │ Republican    │ 2         │ Lean Republican            │\n",
       "│ 6    │ 7     │ Republican    │ 3         │ Strong Democrat            │\n",
       "│ 7    │ 8     │ Republican    │ 3         │ Not very strong Republican │\n",
       "│ 8    │ 9     │ Democrat      │ 2         │ Not very strong Democrat   │\n",
       "│ 9    │ 10    │ Democrat      │ 3         │ Strong Democrat            │\n",
       "│ 10   │ 11    │ Republican    │ 3         │ Strong Democrat            │\n",
       "⋮\n",
       "│ 2142 │ 2795  │ Republican    │ 2         │ Lean Democrat              │\n",
       "│ 2143 │ 2797  │ Republican    │ 2         │ Strong Democrat            │\n",
       "│ 2144 │ 2798  │ Republican    │ 2         │ Strong Republican          │\n",
       "│ 2145 │ 2800  │ Republican    │ 2         │ Strong Republican          │\n",
       "│ 2146 │ 2801  │ Republican    │ 3         │ Strong Democrat            │\n",
       "│ 2147 │ 2802  │ Democrat      │ 2         │ Strong Democrat            │\n",
       "│ 2148 │ 2803  │ Democrat      │ 1         │ Strong Republican          │\n",
       "│ 2149 │ 2804  │ Republican    │ 2         │ Strong Republican          │\n",
       "│ 2150 │ 2805  │ Republican    │ 2         │ Not very strong Democrat   │\n",
       "│ 2151 │ 2806  │ Republican    │ 3         │ Strong Democrat            │\n",
       "│ 2152 │ 2807  │ Republican    │ 1         │ Lean Republican            │"
      ]
     },
     "execution_count": 47,
     "metadata": {},
     "output_type": "execute_result"
    }
   ],
   "source": [
    "# subset: without independents/notsures \n",
    "partydat = df1[(df1[:sameparty] .!= \"Independents/Not sures\"),:]"
   ]
  },
  {
   "cell_type": "code",
   "execution_count": 48,
   "metadata": {},
   "outputs": [
    {
     "data": {
      "text/html": [
       "<table class=\"data-frame\"><thead><tr><th></th><th>id</th><th>senator_party</th><th>condition</th><th>pid7</th><th>pre_sexism_1</th></tr><tr><th></th><th>Int64</th><th>String</th><th>Int64</th><th>String</th><th>String</th></tr></thead><tbody><p>1,718 rows × 56 columns (omitted printing of 51 columns)</p><tr><th>1</th><td>4</td><td>Republican</td><td>1</td><td>Independent</td><td>Agree somewhat</td></tr><tr><th>2</th><td>5</td><td>Democrat</td><td>3</td><td>Strong Democrat</td><td>Disagree strongly</td></tr><tr><th>3</th><td>6</td><td>Republican</td><td>2</td><td>Lean Republican</td><td>Neither disagree nor agree</td></tr><tr><th>4</th><td>8</td><td>Republican</td><td>3</td><td>Not very strong Republican</td><td>Agree strongly</td></tr><tr><th>5</th><td>9</td><td>Democrat</td><td>2</td><td>Not very strong Democrat</td><td>Disagree strongly</td></tr><tr><th>6</th><td>10</td><td>Democrat</td><td>3</td><td>Strong Democrat</td><td>Disagree strongly</td></tr><tr><th>7</th><td>13</td><td>Republican</td><td>1</td><td>Independent</td><td>Agree somewhat</td></tr><tr><th>8</th><td>14</td><td>Republican</td><td>1</td><td>Not very strong Republican</td><td>Agree somewhat</td></tr><tr><th>9</th><td>15</td><td>Republican</td><td>3</td><td>Lean Republican</td><td>Disagree somewhat</td></tr><tr><th>10</th><td>16</td><td>Democrat</td><td>3</td><td>Strong Democrat</td><td>Disagree somewhat</td></tr><tr><th>11</th><td>17</td><td>Republican</td><td>3</td><td>Independent</td><td>Disagree somewhat</td></tr><tr><th>12</th><td>18</td><td>Democrat</td><td>2</td><td>Strong Democrat</td><td>Disagree strongly</td></tr><tr><th>13</th><td>20</td><td>Democrat</td><td>2</td><td>Strong Democrat</td><td>Agree somewhat</td></tr><tr><th>14</th><td>22</td><td>Republican</td><td>3</td><td>Independent</td><td>Disagree strongly</td></tr><tr><th>15</th><td>23</td><td>Republican</td><td>3</td><td>Independent</td><td>Agree somewhat</td></tr><tr><th>16</th><td>25</td><td>Democrat</td><td>2</td><td>Strong Democrat</td><td>Disagree strongly</td></tr><tr><th>17</th><td>26</td><td>Democrat</td><td>1</td><td>Independent</td><td>Agree somewhat</td></tr><tr><th>18</th><td>29</td><td>Democrat</td><td>3</td><td>Strong Democrat</td><td>Disagree strongly</td></tr><tr><th>19</th><td>30</td><td>Republican</td><td>2</td><td>Independent</td><td>Disagree somewhat</td></tr><tr><th>20</th><td>31</td><td>Democrat</td><td>3</td><td>Lean Democrat</td><td>Disagree strongly</td></tr><tr><th>21</th><td>32</td><td>Democrat</td><td>1</td><td>Independent</td><td>Neither disagree nor agree</td></tr><tr><th>22</th><td>34</td><td>Democrat</td><td>3</td><td>Strong Democrat</td><td>Disagree strongly</td></tr><tr><th>23</th><td>35</td><td>Democrat</td><td>3</td><td>Strong Democrat</td><td>Disagree somewhat</td></tr><tr><th>24</th><td>37</td><td>Republican</td><td>3</td><td>Lean Republican</td><td>Agree somewhat</td></tr><tr><th>25</th><td>38</td><td>Democrat</td><td>2</td><td>Independent</td><td>Agree somewhat</td></tr><tr><th>26</th><td>39</td><td>Democrat</td><td>1</td><td>Independent</td><td>Disagree strongly</td></tr><tr><th>27</th><td>40</td><td>Democrat</td><td>3</td><td>Independent</td><td>Disagree somewhat</td></tr><tr><th>28</th><td>41</td><td>Republican</td><td>3</td><td>Strong Republican</td><td>Agree somewhat</td></tr><tr><th>29</th><td>50</td><td>Republican</td><td>1</td><td>Independent</td><td>Disagree strongly</td></tr><tr><th>30</th><td>51</td><td>Democrat</td><td>2</td><td>Lean Democrat</td><td>Neither disagree nor agree</td></tr><tr><th>&vellip;</th><td>&vellip;</td><td>&vellip;</td><td>&vellip;</td><td>&vellip;</td><td>&vellip;</td></tr></tbody></table>"
      ],
      "text/latex": [
       "\\begin{tabular}{r|cccccc}\n",
       "\t& id & senator\\_party & condition & pid7 & pre\\_sexism\\_1 & \\\\\n",
       "\t\\hline\n",
       "\t& Int64 & String & Int64 & String & String & \\\\\n",
       "\t\\hline\n",
       "\t1 & 4 & Republican & 1 & Independent & Agree somewhat & $\\dots$ \\\\\n",
       "\t2 & 5 & Democrat & 3 & Strong Democrat & Disagree strongly & $\\dots$ \\\\\n",
       "\t3 & 6 & Republican & 2 & Lean Republican & Neither disagree nor agree & $\\dots$ \\\\\n",
       "\t4 & 8 & Republican & 3 & Not very strong Republican & Agree strongly & $\\dots$ \\\\\n",
       "\t5 & 9 & Democrat & 2 & Not very strong Democrat & Disagree strongly & $\\dots$ \\\\\n",
       "\t6 & 10 & Democrat & 3 & Strong Democrat & Disagree strongly & $\\dots$ \\\\\n",
       "\t7 & 13 & Republican & 1 & Independent & Agree somewhat & $\\dots$ \\\\\n",
       "\t8 & 14 & Republican & 1 & Not very strong Republican & Agree somewhat & $\\dots$ \\\\\n",
       "\t9 & 15 & Republican & 3 & Lean Republican & Disagree somewhat & $\\dots$ \\\\\n",
       "\t10 & 16 & Democrat & 3 & Strong Democrat & Disagree somewhat & $\\dots$ \\\\\n",
       "\t11 & 17 & Republican & 3 & Independent & Disagree somewhat & $\\dots$ \\\\\n",
       "\t12 & 18 & Democrat & 2 & Strong Democrat & Disagree strongly & $\\dots$ \\\\\n",
       "\t13 & 20 & Democrat & 2 & Strong Democrat & Agree somewhat & $\\dots$ \\\\\n",
       "\t14 & 22 & Republican & 3 & Independent & Disagree strongly & $\\dots$ \\\\\n",
       "\t15 & 23 & Republican & 3 & Independent & Agree somewhat & $\\dots$ \\\\\n",
       "\t16 & 25 & Democrat & 2 & Strong Democrat & Disagree strongly & $\\dots$ \\\\\n",
       "\t17 & 26 & Democrat & 1 & Independent & Agree somewhat & $\\dots$ \\\\\n",
       "\t18 & 29 & Democrat & 3 & Strong Democrat & Disagree strongly & $\\dots$ \\\\\n",
       "\t19 & 30 & Republican & 2 & Independent & Disagree somewhat & $\\dots$ \\\\\n",
       "\t20 & 31 & Democrat & 3 & Lean Democrat & Disagree strongly & $\\dots$ \\\\\n",
       "\t21 & 32 & Democrat & 1 & Independent & Neither disagree nor agree & $\\dots$ \\\\\n",
       "\t22 & 34 & Democrat & 3 & Strong Democrat & Disagree strongly & $\\dots$ \\\\\n",
       "\t23 & 35 & Democrat & 3 & Strong Democrat & Disagree somewhat & $\\dots$ \\\\\n",
       "\t24 & 37 & Republican & 3 & Lean Republican & Agree somewhat & $\\dots$ \\\\\n",
       "\t25 & 38 & Democrat & 2 & Independent & Agree somewhat & $\\dots$ \\\\\n",
       "\t26 & 39 & Democrat & 1 & Independent & Disagree strongly & $\\dots$ \\\\\n",
       "\t27 & 40 & Democrat & 3 & Independent & Disagree somewhat & $\\dots$ \\\\\n",
       "\t28 & 41 & Republican & 3 & Strong Republican & Agree somewhat & $\\dots$ \\\\\n",
       "\t29 & 50 & Republican & 1 & Independent & Disagree strongly & $\\dots$ \\\\\n",
       "\t30 & 51 & Democrat & 2 & Lean Democrat & Neither disagree nor agree & $\\dots$ \\\\\n",
       "\t$\\dots$ & $\\dots$ & $\\dots$ & $\\dots$ & $\\dots$ & $\\dots$ &  \\\\\n",
       "\\end{tabular}\n"
      ],
      "text/plain": [
       "1718×56 DataFrame. Omitted printing of 52 columns\n",
       "│ Row  │ id    │ senator_party │ condition │ pid7                       │\n",
       "│      │ \u001b[90mInt64\u001b[39m │ \u001b[90mString\u001b[39m        │ \u001b[90mInt64\u001b[39m     │ \u001b[90mString\u001b[39m                     │\n",
       "├──────┼───────┼───────────────┼───────────┼────────────────────────────┤\n",
       "│ 1    │ 4     │ Republican    │ 1         │ Independent                │\n",
       "│ 2    │ 5     │ Democrat      │ 3         │ Strong Democrat            │\n",
       "│ 3    │ 6     │ Republican    │ 2         │ Lean Republican            │\n",
       "│ 4    │ 8     │ Republican    │ 3         │ Not very strong Republican │\n",
       "│ 5    │ 9     │ Democrat      │ 2         │ Not very strong Democrat   │\n",
       "│ 6    │ 10    │ Democrat      │ 3         │ Strong Democrat            │\n",
       "│ 7    │ 13    │ Republican    │ 1         │ Independent                │\n",
       "│ 8    │ 14    │ Republican    │ 1         │ Not very strong Republican │\n",
       "│ 9    │ 15    │ Republican    │ 3         │ Lean Republican            │\n",
       "│ 10   │ 16    │ Democrat      │ 3         │ Strong Democrat            │\n",
       "⋮\n",
       "│ 1708 │ 2785  │ Democrat      │ 3         │ Strong Democrat            │\n",
       "│ 1709 │ 2786  │ Republican    │ 1         │ Not very strong Republican │\n",
       "│ 1710 │ 2790  │ Democrat      │ 2         │ Strong Democrat            │\n",
       "│ 1711 │ 2793  │ Democrat      │ 3         │ Strong Democrat            │\n",
       "│ 1712 │ 2796  │ Republican    │ 1         │ Independent                │\n",
       "│ 1713 │ 2798  │ Republican    │ 2         │ Strong Republican          │\n",
       "│ 1714 │ 2799  │ Democrat      │ 3         │ Independent                │\n",
       "│ 1715 │ 2800  │ Republican    │ 2         │ Strong Republican          │\n",
       "│ 1716 │ 2802  │ Democrat      │ 2         │ Strong Democrat            │\n",
       "│ 1717 │ 2804  │ Republican    │ 2         │ Strong Republican          │\n",
       "│ 1718 │ 2807  │ Republican    │ 1         │ Lean Republican            │"
      ]
     },
     "execution_count": 48,
     "metadata": {},
     "output_type": "execute_result"
    }
   ],
   "source": [
    "# subset: people that share party with senator, people that do not share party with senator\n",
    "samepartydat = df1[(df1[:sameparty] .!= \"Same party\"),:]\n",
    "opppartydat = df1[(df1[:sameparty] .!= \"Opposite party\"),:]"
   ]
  },
  {
   "cell_type": "markdown",
   "metadata": {},
   "source": [
    "## Means and T-tests"
   ]
  },
  {
   "cell_type": "code",
   "execution_count": 78,
   "metadata": {},
   "outputs": [
    {
     "name": "stdout",
     "output_type": "stream",
     "text": [
      "Summary Stats:\n",
      "Length:         936\n",
      "Missing Count:  0\n",
      "Mean:           7.112179\n",
      "Minimum:        0.000000\n",
      "1st Quartile:   6.000000\n",
      "Median:         7.000000\n",
      "3rd Quartile:   9.000000\n",
      "Maximum:        10.000000\n",
      "Type:           Int64\n"
     ]
    }
   ],
   "source": [
    "# Means\n",
    "describe(df1[:post_favorability][df1.condition2 .== \"Control\"])"
   ]
  },
  {
   "cell_type": "code",
   "execution_count": 79,
   "metadata": {},
   "outputs": [
    {
     "name": "stdout",
     "output_type": "stream",
     "text": [
      "Summary Stats:\n",
      "Length:         952\n",
      "Missing Count:  0\n",
      "Mean:           4.388655\n",
      "Minimum:        0.000000\n",
      "1st Quartile:   2.000000\n",
      "Median:         5.000000\n",
      "3rd Quartile:   6.000000\n",
      "Maximum:        10.000000\n",
      "Type:           Int64\n"
     ]
    }
   ],
   "source": [
    "describe(df1[:post_favorability][df1.condition2 .== \"Assault\"])"
   ]
  },
  {
   "cell_type": "code",
   "execution_count": 80,
   "metadata": {},
   "outputs": [
    {
     "name": "stdout",
     "output_type": "stream",
     "text": [
      "Summary Stats:\n",
      "Length:         918\n",
      "Missing Count:  0\n",
      "Mean:           5.337691\n",
      "Minimum:        0.000000\n",
      "1st Quartile:   4.000000\n",
      "Median:         5.000000\n",
      "3rd Quartile:   7.000000\n",
      "Maximum:        10.000000\n",
      "Type:           Int64\n"
     ]
    }
   ],
   "source": [
    "describe(df1[:post_favorability][df1.condition2 .== \"Jokes\"])"
   ]
  },
  {
   "cell_type": "code",
   "execution_count": 82,
   "metadata": {},
   "outputs": [
    {
     "name": "stdout",
     "output_type": "stream",
     "text": [
      "Summary Stats:\n",
      "Length:         936\n",
      "Missing Count:  0\n",
      "Mean:           6.168803\n",
      "Minimum:        0.000000\n",
      "1st Quartile:   5.000000\n",
      "Median:         7.000000\n",
      "3rd Quartile:   8.000000\n",
      "Maximum:        10.000000\n",
      "Type:           Int64\n"
     ]
    }
   ],
   "source": [
    "describe(df1[:post_vote][df1.condition2 .== \"Control\"])"
   ]
  },
  {
   "cell_type": "code",
   "execution_count": 83,
   "metadata": {},
   "outputs": [
    {
     "name": "stdout",
     "output_type": "stream",
     "text": [
      "Summary Stats:\n",
      "Length:         952\n",
      "Missing Count:  0\n",
      "Mean:           4.012605\n",
      "Minimum:        0.000000\n",
      "1st Quartile:   1.000000\n",
      "Median:         5.000000\n",
      "3rd Quartile:   6.000000\n",
      "Maximum:        10.000000\n",
      "Type:           Int64\n"
     ]
    }
   ],
   "source": [
    "describe(df1[:post_vote][df1.condition2 .== \"Assault\"])"
   ]
  },
  {
   "cell_type": "code",
   "execution_count": 84,
   "metadata": {},
   "outputs": [
    {
     "name": "stdout",
     "output_type": "stream",
     "text": [
      "Summary Stats:\n",
      "Length:         918\n",
      "Missing Count:  0\n",
      "Mean:           4.847495\n",
      "Minimum:        0.000000\n",
      "1st Quartile:   2.000000\n",
      "Median:         5.000000\n",
      "3rd Quartile:   7.000000\n",
      "Maximum:        10.000000\n",
      "Type:           Int64\n"
     ]
    }
   ],
   "source": [
    "describe(df1[:post_vote][df1.condition2 .== \"Jokes\"])"
   ]
  },
  {
   "cell_type": "code",
   "execution_count": 51,
   "metadata": {},
   "outputs": [
    {
     "name": "stderr",
     "output_type": "stream",
     "text": [
      "\u001b[32m\u001b[1m  Resolving\u001b[22m\u001b[39m package versions...\n",
      "\u001b[32m\u001b[1mUpdating\u001b[22m\u001b[39m `~/Project.toml`\n",
      " \u001b[90m [09f84164] \u001b[39m\u001b[92m+ HypothesisTests v0.10.2\u001b[39m\n",
      "\u001b[32m\u001b[1mNo Changes\u001b[22m\u001b[39m to `~/Manifest.toml`\n"
     ]
    },
    {
     "ename": "LoadError",
     "evalue": "MethodError: no method matching getindex(::DataFrame, ::Bool)\nClosest candidates are:\n  getindex(::DataFrame, ::Integer, !Matched::Union{Signed, Unsigned}) at /srv/julia/pkg/packages/DataFrames/GtZ1l/src/dataframe/dataframe.jl:383\n  getindex(::DataFrame, ::Integer, !Matched::Union{AbstractString, Symbol}) at /srv/julia/pkg/packages/DataFrames/GtZ1l/src/dataframe/dataframe.jl:398\n  getindex(::AbstractDataFrame, ::Integer, !Matched::Colon) at /srv/julia/pkg/packages/DataFrames/GtZ1l/src/dataframerow/dataframerow.jl:128\n  ...",
     "output_type": "error",
     "traceback": [
      "MethodError: no method matching getindex(::DataFrame, ::Bool)\nClosest candidates are:\n  getindex(::DataFrame, ::Integer, !Matched::Union{Signed, Unsigned}) at /srv/julia/pkg/packages/DataFrames/GtZ1l/src/dataframe/dataframe.jl:383\n  getindex(::DataFrame, ::Integer, !Matched::Union{AbstractString, Symbol}) at /srv/julia/pkg/packages/DataFrames/GtZ1l/src/dataframe/dataframe.jl:398\n  getindex(::AbstractDataFrame, ::Integer, !Matched::Colon) at /srv/julia/pkg/packages/DataFrames/GtZ1l/src/dataframerow/dataframerow.jl:128\n  ...",
      "",
      "Stacktrace:",
      " [1] top-level scope at In[51]:3",
      " [2] include_string(::Function, ::Module, ::String, ::String) at ./loading.jl:1091"
     ]
    }
   ],
   "source": [
    "Pkg.add(\"HypothesisTests\")\n",
    "using HypothesisTests"
   ]
  },
  {
   "cell_type": "code",
   "execution_count": 73,
   "metadata": {},
   "outputs": [
    {
     "data": {
      "text/plain": [
       "Two sample t-test (equal variance)\n",
       "----------------------------------\n",
       "Population details:\n",
       "    parameter of interest:   Mean difference\n",
       "    value under h_0:         0\n",
       "    point estimate:          2.72352\n",
       "    95% confidence interval: (2.5034, 2.9437)\n",
       "\n",
       "Test summary:\n",
       "    outcome with 95% confidence: reject h_0\n",
       "    two-sided p-value:           <1e-99\n",
       "\n",
       "Details:\n",
       "    number of observations:   [936,952]\n",
       "    t-statistic:              24.26329139391319\n",
       "    degrees of freedom:       1886\n",
       "    empirical standard error: 0.11224874567833158\n"
      ]
     },
     "execution_count": 73,
     "metadata": {},
     "output_type": "execute_result"
    }
   ],
   "source": [
    "EqualVarianceTTest(tempdf[:post_favorability][tempdf.condition2 .== \"Control\"],\n",
    "    tempdf[:post_favorability][tempdf.condition2 .== \"Assault\"])\n",
    "# shows mean difference of 2.7 (same as on p3 of publication), and p<0.001"
   ]
  },
  {
   "cell_type": "code",
   "execution_count": null,
   "metadata": {},
   "outputs": [],
   "source": []
  },
  {
   "cell_type": "markdown",
   "metadata": {},
   "source": [
    "# Histogram of outcome of interest"
   ]
  },
  {
   "cell_type": "code",
   "execution_count": 42,
   "metadata": {},
   "outputs": [
    {
     "data": {
      "image/png": "[encoded data removed]",
      "text/plain": [
       "Figure(PyObject <Figure size 640x480 with 1 Axes>)"
      ]
     },
     "metadata": {},
     "output_type": "display_data"
    },
    {
     "data": {
      "text/plain": [
       "PyObject Text(0.5, 1.0, 'Histogram')"
      ]
     },
     "execution_count": 42,
     "metadata": {},
     "output_type": "execute_result"
    }
   ],
   "source": [
    "#ioff()\n",
    "h = plt[:hist](df1[:battledeadbest],10) # Histogram, PyPlot.plt required to differentiate with conflicting hist command\n",
    "\n",
    "grid(\"on\")\n",
    "xlabel(\"battledeadbst\")\n",
    "ylabel(\"freq\")\n",
    "title(\"Histogram\")\n",
    "\n",
    "#gcf() # Needed for IJulia to plot inline"
   ]
  },
  {
   "cell_type": "code",
   "execution_count": 43,
   "metadata": {},
   "outputs": [
    {
     "data": {
      "image/png": "[encoded data removed]",
      "text/plain": [
       "Figure(PyObject <Figure size 640x480 with 1 Axes>)"
      ]
     },
     "metadata": {},
     "output_type": "display_data"
    },
    {
     "data": {
      "text/plain": [
       "PyObject Text(0.5, 1.0, 'Histogram')"
      ]
     },
     "execution_count": 43,
     "metadata": {},
     "output_type": "execute_result"
    }
   ],
   "source": [
    "#ioff()\n",
    "h = plt[:hist](df1[:lnbdb],10) # Histogram, PyPlot.plt required to differentiate with conflicting hist command\n",
    "\n",
    "grid(\"on\")\n",
    "xlabel(\"lnbdb\")\n",
    "ylabel(\"freq\")\n",
    "title(\"Histogram\")\n",
    "#gcf()"
   ]
  },
  {
   "cell_type": "markdown",
   "metadata": {},
   "source": [
    "# Linear Regression"
   ]
  },
  {
   "cell_type": "markdown",
   "metadata": {},
   "source": [
    "## OLS estimation with StatsModels"
   ]
  },
  {
   "cell_type": "code",
   "execution_count": 43,
   "metadata": {},
   "outputs": [
    {
     "data": {
      "text/plain": [
       "StatsModels.TableRegressionModel{LinearModel{GLM.LmResp{Array{Float64,1}},GLM.DensePredChol{Float64,LinearAlgebra.Cholesky{Float64,Array{Float64,2}}}},Array{Float64,2}}\n",
       "\n",
       "perchange_favorability ~ 1 + condition2\n",
       "\n",
       "Coefficients:\n",
       "──────────────────────────────────────────────────────────────────────────────────\n",
       "                         Coef.  Std. Error       t  Pr(>|t|)  Lower 95%  Upper 95%\n",
       "──────────────────────────────────────────────────────────────────────────────────\n",
       "(Intercept)            4.03311     1.32455    3.04    0.0024    1.43523    6.63098\n",
       "condition2: Jokes    -24.2476      1.87892  -12.91    <1e-35  -27.9328   -20.5624\n",
       "condition2: Assault  -34.4374      1.86366  -18.48    <1e-69  -38.0926   -30.7821\n",
       "──────────────────────────────────────────────────────────────────────────────────"
      ]
     },
     "execution_count": 43,
     "metadata": {},
     "output_type": "execute_result"
    }
   ],
   "source": [
    "# Figure 1\n",
    "# using StatsModels\n",
    "#m1a = fit(LinearModel, @formula(perchange_favorability ~ condition2), samepartydat)\n",
    "#m1b = fit(LinearModel, @formula(perchange_favorability ~ condition2), opppartydat)\n",
    "\n",
    "# using GLM\n",
    "\n",
    "m1a = lm(@formula(perchange_favorability ~ condition2), samepartydat)\n",
    "m1b = lm(@formula(perchange_favorability ~ condition2), opppartydat)\n",
    "m1a"
   ]
  },
  {
   "cell_type": "code",
   "execution_count": 44,
   "metadata": {},
   "outputs": [
    {
     "data": {
      "text/plain": [
       "StatsModels.TableRegressionModel{LinearModel{GLM.LmResp{Array{Float64,1}},GLM.DensePredChol{Float64,LinearAlgebra.Cholesky{Float64,Array{Float64,2}}}},Array{Float64,2}}\n",
       "\n",
       "perchange_favorability ~ 1 + condition2\n",
       "\n",
       "Coefficients:\n",
       "───────────────────────────────────────────────────────────────────────────────────\n",
       "                         Coef.  Std. Error       t  Pr(>|t|)   Lower 95%  Upper 95%\n",
       "───────────────────────────────────────────────────────────────────────────────────\n",
       "(Intercept)            2.52698     1.00249    2.52    0.0118    0.560748    4.49322\n",
       "condition2: Jokes    -19.1096      1.42662  -13.40    <1e-38  -21.9077    -16.3115\n",
       "condition2: Assault  -30.2836      1.40628  -21.53    <1e-90  -33.0418    -27.5254\n",
       "───────────────────────────────────────────────────────────────────────────────────"
      ]
     },
     "execution_count": 44,
     "metadata": {},
     "output_type": "execute_result"
    }
   ],
   "source": [
    "m1b"
   ]
  },
  {
   "cell_type": "code",
   "execution_count": 66,
   "metadata": {},
   "outputs": [
    {
     "data": {
      "text/plain": [
       "2-element Array{Float64,1}:\n",
       " 1.8789159656557712\n",
       " 1.8636609259645347"
      ]
     },
     "execution_count": 66,
     "metadata": {},
     "output_type": "execute_result"
    }
   ],
   "source": [
    "coefdf = DataFrame()\n",
    "coefdf.names = coefnames(m1a)[2:end] # no intercept\n",
    "coefdf.coefs = coef(m1a)[2:end]\n",
    "coefdf.err = stderror(m1a)[2:end]\n"
   ]
  },
  {
   "cell_type": "code",
   "execution_count": 67,
   "metadata": {},
   "outputs": [
    {
     "data": {
      "text/plain": [
       "coefplot (generic function with 1 method)"
      ]
     },
     "execution_count": 67,
     "metadata": {},
     "output_type": "execute_result"
    }
   ],
   "source": [
    "function coefplot(m)\n",
    "       n = coefnames(m)[2:end] # no intercept\n",
    "       vals = coef(m)[2:end]\n",
    "       errors = stderror(m)[2:end]\n",
    "       scatter(\n",
    "           n,\n",
    "           vals,\n",
    "           #seriestype = :scatter,\n",
    "           #legend = false,\n",
    "           yerror = 1.96 .* errors,\n",
    "           title = \"Coefficient plot\"\n",
    "       )\n",
    "end"
   ]
  },
  {
   "cell_type": "code",
   "execution_count": 62,
   "metadata": {},
   "outputs": [
    {
     "name": "stderr",
     "output_type": "stream",
     "text": [
      "\u001b[32m\u001b[1m  Resolving\u001b[22m\u001b[39m package versions...\n",
      "\u001b[32m\u001b[1m  Installed\u001b[22m\u001b[39m FFMPEG_jll ──────── v4.3.1+4\n",
      "\u001b[32m\u001b[1m  Installed\u001b[22m\u001b[39m Grisu ───────────── v1.0.0\n",
      "\u001b[32m\u001b[1m  Installed\u001b[22m\u001b[39m GeometryBasics ──── v0.3.5\n",
      "\u001b[32m\u001b[1m  Installed\u001b[22m\u001b[39m FixedPointNumbers ─ v0.8.4\n",
      "\u001b[32m\u001b[1m  Installed\u001b[22m\u001b[39m ColorTypes ──────── v0.10.9\n",
      "\u001b[32m\u001b[1m  Installed\u001b[22m\u001b[39m RecipesPipeline ─── v0.2.1\n",
      "\u001b[32m\u001b[1m  Installed\u001b[22m\u001b[39m LibVPX_jll ──────── v1.9.0+1\n",
      "\u001b[32m\u001b[1m  Installed\u001b[22m\u001b[39m OpenSSL_jll ─────── v1.1.1+6\n",
      "\u001b[32m\u001b[1m  Installed\u001b[22m\u001b[39m Ogg_jll ─────────── v1.3.4+2\n",
      "\u001b[32m\u001b[1m  Installed\u001b[22m\u001b[39m LaTeXStrings ────── v1.2.0\n",
      "\u001b[32m\u001b[1m  Installed\u001b[22m\u001b[39m EarCut_jll ──────── v2.1.5+1\n",
      "\u001b[32m\u001b[1m  Installed\u001b[22m\u001b[39m Measures ────────── v0.3.1\n",
      "\u001b[32m\u001b[1m  Installed\u001b[22m\u001b[39m FFMPEG ──────────── v0.4.0\n",
      "\u001b[32m\u001b[1m  Installed\u001b[22m\u001b[39m FreeType2_jll ───── v2.10.1+5\n",
      "\u001b[32m\u001b[1m  Installed\u001b[22m\u001b[39m Zlib_jll ────────── v1.2.11+18\n",
      "\u001b[32m\u001b[1m  Installed\u001b[22m\u001b[39m Plots ───────────── v1.10.1\n",
      "\u001b[32m\u001b[1m  Installed\u001b[22m\u001b[39m libvorbis_jll ───── v1.3.6+6\n",
      "\u001b[32m\u001b[1m  Installed\u001b[22m\u001b[39m x264_jll ────────── v2020.7.14+2\n",
      "\u001b[32m\u001b[1m  Installed\u001b[22m\u001b[39m Formatting ──────── v0.4.2\n",
      "\u001b[32m\u001b[1m  Installed\u001b[22m\u001b[39m Opus_jll ────────── v1.3.1+3\n",
      "\u001b[32m\u001b[1m  Installed\u001b[22m\u001b[39m FriBidi_jll ─────── v1.0.5+6\n",
      "\u001b[32m\u001b[1m  Installed\u001b[22m\u001b[39m Scratch ─────────── v1.0.3\n",
      "\u001b[32m\u001b[1m  Installed\u001b[22m\u001b[39m Contour ─────────── v0.5.7\n",
      "\u001b[32m\u001b[1m  Installed\u001b[22m\u001b[39m x265_jll ────────── v3.0.0+3\n",
      "\u001b[32m\u001b[1m  Installed\u001b[22m\u001b[39m NaNMath ─────────── v0.3.5\n",
      "\u001b[32m\u001b[1m  Installed\u001b[22m\u001b[39m StructArrays ────── v0.4.4\n",
      "\u001b[32m\u001b[1m  Installed\u001b[22m\u001b[39m libass_jll ──────── v0.14.0+4\n",
      "\u001b[32m\u001b[1m  Installed\u001b[22m\u001b[39m libfdk_aac_jll ──── v0.1.6+4\n",
      "\u001b[32m\u001b[1m  Installed\u001b[22m\u001b[39m Latexify ────────── v0.14.7\n",
      "\u001b[32m\u001b[1m  Installed\u001b[22m\u001b[39m IterTools ───────── v1.3.0\n",
      "\u001b[32m\u001b[1m  Installed\u001b[22m\u001b[39m PlotUtils ───────── v1.0.9\n",
      "\u001b[32m\u001b[1m  Installed\u001b[22m\u001b[39m LAME_jll ────────── v3.100.0+3\n",
      "\u001b[32m\u001b[1m  Installed\u001b[22m\u001b[39m Showoff ─────────── v0.3.2\n",
      "\u001b[32m\u001b[1m  Installed\u001b[22m\u001b[39m Bzip2_jll ───────── v1.0.6+5\n",
      "\u001b[32m\u001b[1m  Installed\u001b[22m\u001b[39m PlotThemes ──────── v2.0.0\n",
      "\u001b[32m\u001b[1m  Installed\u001b[22m\u001b[39m MacroTools ──────── v0.5.6\n",
      "\u001b[32m\u001b[1m  Installed\u001b[22m\u001b[39m ColorSchemes ────── v3.10.2\n",
      "\u001b[32m\u001b[1m  Installed\u001b[22m\u001b[39m GR ──────────────── v0.49.1\n",
      "\u001b[32m\u001b[1m  Installed\u001b[22m\u001b[39m Colors ──────────── v0.12.6\n",
      "\u001b[32m\u001b[1mUpdating\u001b[22m\u001b[39m `~/Project.toml`\n",
      " \u001b[90m [91a5bcdd] \u001b[39m\u001b[92m+ Plots v1.10.1\u001b[39m\n",
      "\u001b[32m\u001b[1mUpdating\u001b[22m\u001b[39m `~/Manifest.toml`\n",
      " \u001b[90m [6e34b625] \u001b[39m\u001b[92m+ Bzip2_jll v1.0.6+5\u001b[39m\n",
      " \u001b[90m [35d6a980] \u001b[39m\u001b[92m+ ColorSchemes v3.10.2\u001b[39m\n",
      " \u001b[90m [3da002f7] \u001b[39m\u001b[92m+ ColorTypes v0.10.9\u001b[39m\n",
      " \u001b[90m [5ae59095] \u001b[39m\u001b[92m+ Colors v0.12.6\u001b[39m\n",
      " \u001b[90m [d38c429a] \u001b[39m\u001b[92m+ Contour v0.5.7\u001b[39m\n",
      " \u001b[90m [5ae413db] \u001b[39m\u001b[92m+ EarCut_jll v2.1.5+1\u001b[39m\n",
      " \u001b[90m [c87230d0] \u001b[39m\u001b[92m+ FFMPEG v0.4.0\u001b[39m\n",
      " \u001b[90m [b22a6f82] \u001b[39m\u001b[92m+ FFMPEG_jll v4.3.1+4\u001b[39m\n",
      " \u001b[90m [53c48c17] \u001b[39m\u001b[92m+ FixedPointNumbers v0.8.4\u001b[39m\n",
      " \u001b[90m [59287772] \u001b[39m\u001b[92m+ Formatting v0.4.2\u001b[39m\n",
      " \u001b[90m [d7e528f0] \u001b[39m\u001b[92m+ FreeType2_jll v2.10.1+5\u001b[39m\n",
      " \u001b[90m [559328eb] \u001b[39m\u001b[92m+ FriBidi_jll v1.0.5+6\u001b[39m\n",
      " \u001b[90m [28b8d3ca] \u001b[39m\u001b[92m+ GR v0.49.1\u001b[39m\n",
      " \u001b[90m [5c1252a2] \u001b[39m\u001b[92m+ GeometryBasics v0.3.5\u001b[39m\n",
      " \u001b[90m [42e2da0e] \u001b[39m\u001b[92m+ Grisu v1.0.0\u001b[39m\n",
      " \u001b[90m [c8e1da08] \u001b[39m\u001b[92m+ IterTools v1.3.0\u001b[39m\n",
      " \u001b[90m [c1c5ebd0] \u001b[39m\u001b[92m+ LAME_jll v3.100.0+3\u001b[39m\n",
      " \u001b[90m [b964fa9f] \u001b[39m\u001b[92m+ LaTeXStrings v1.2.0\u001b[39m\n",
      " \u001b[90m [23fbe1c1] \u001b[39m\u001b[92m+ Latexify v0.14.7\u001b[39m\n",
      " \u001b[90m [dd192d2f] \u001b[39m\u001b[92m+ LibVPX_jll v1.9.0+1\u001b[39m\n",
      " \u001b[90m [1914dd2f] \u001b[39m\u001b[92m+ MacroTools v0.5.6\u001b[39m\n",
      " \u001b[90m [442fdcdd] \u001b[39m\u001b[92m+ Measures v0.3.1\u001b[39m\n",
      " \u001b[90m [77ba4419] \u001b[39m\u001b[92m+ NaNMath v0.3.5\u001b[39m\n",
      " \u001b[90m [e7412a2a] \u001b[39m\u001b[92m+ Ogg_jll v1.3.4+2\u001b[39m\n",
      " \u001b[90m [458c3c95] \u001b[39m\u001b[92m+ OpenSSL_jll v1.1.1+6\u001b[39m\n",
      " \u001b[90m [91d4177d] \u001b[39m\u001b[92m+ Opus_jll v1.3.1+3\u001b[39m\n",
      " \u001b[90m [ccf2f8ad] \u001b[39m\u001b[92m+ PlotThemes v2.0.0\u001b[39m\n",
      " \u001b[90m [995b91a9] \u001b[39m\u001b[92m+ PlotUtils v1.0.9\u001b[39m\n",
      " \u001b[90m [91a5bcdd] \u001b[39m\u001b[92m+ Plots v1.10.1\u001b[39m\n",
      " \u001b[90m [01d81517] \u001b[39m\u001b[92m+ RecipesPipeline v0.2.1\u001b[39m\n",
      " \u001b[90m [6c6a2e73] \u001b[39m\u001b[92m+ Scratch v1.0.3\u001b[39m\n",
      " \u001b[90m [992d4aef] \u001b[39m\u001b[92m+ Showoff v0.3.2\u001b[39m\n",
      " \u001b[90m [09ab397b] \u001b[39m\u001b[92m+ StructArrays v0.4.4\u001b[39m\n",
      " \u001b[90m [83775a58] \u001b[39m\u001b[92m+ Zlib_jll v1.2.11+18\u001b[39m\n",
      " \u001b[90m [0ac62f75] \u001b[39m\u001b[92m+ libass_jll v0.14.0+4\u001b[39m\n",
      " \u001b[90m [f638f0a6] \u001b[39m\u001b[92m+ libfdk_aac_jll v0.1.6+4\u001b[39m\n",
      " \u001b[90m [f27f6e37] \u001b[39m\u001b[92m+ libvorbis_jll v1.3.6+6\u001b[39m\n",
      " \u001b[90m [1270edf5] \u001b[39m\u001b[92m+ x264_jll v2020.7.14+2\u001b[39m\n",
      " \u001b[90m [dfaa095f] \u001b[39m\u001b[92m+ x265_jll v3.0.0+3\u001b[39m\n",
      "\u001b[32m\u001b[1m   Building\u001b[22m\u001b[39m GR → `/srv/julia/pkg/packages/GR/cRdXQ/deps/build.log`\n",
      "┌ Info: Precompiling Plots [91a5bcdd-55d7-5caf-9e0b-520d859cae80]\n",
      "└ @ Base loading.jl:1278\n"
     ]
    },
    {
     "data": {
      "image/svg+xml": [
       "<?xml version=\"1.0\" encoding=\"utf-8\"?>\n",
       "<svg xmlns=\"http://www.w3.org/2000/svg\" xmlns:xlink=\"http://www.w3.org/1999/xlink\" width=\"150\" height=\"100\" viewBox=\"0 0 600 400\">\n",
       "<defs>\n",
       "  <clipPath id=\"clip340\">\n",
       "    <rect x=\"0\" y=\"0\" width=\"600\" height=\"400\"/>\n",
       "  </clipPath>\n",
       "</defs>\n",
       "<path clip-path=\"url(#clip340)\" d=\"\n",
       "M0 400 L600 400 L600 0 L0 0  Z\n",
       "  \" fill=\"#ffffff\" fill-rule=\"evenodd\" fill-opacity=\"1\"/>\n",
       "<defs>\n",
       "  <clipPath id=\"clip341\">\n",
       "    <rect x=\"120\" y=\"0\" width=\"421\" height=\"400\"/>\n",
       "  </clipPath>\n",
       "</defs>\n",
       "<path clip-path=\"url(#clip340)\" d=\"\n",
       "M51.7537 371.612 L588.189 371.612 L588.189 30.868 L51.7537 30.868  Z\n",
       "  \" fill=\"#ffffff\" fill-rule=\"evenodd\" fill-opacity=\"1\"/>\n",
       "<defs>\n",
       "  <clipPath id=\"clip342\">\n",
       "    <rect x=\"51\" y=\"30\" width=\"537\" height=\"342\"/>\n",
       "  </clipPath>\n",
       "</defs>\n",
       "<polyline clip-path=\"url(#clip342)\" style=\"stroke:#000000; stroke-width:0.5; stroke-opacity:0.1; fill:none\" points=\"\n",
       "  66.9358,371.612 66.9358,30.868 \n",
       "  \"/>\n",
       "<polyline clip-path=\"url(#clip342)\" style=\"stroke:#000000; stroke-width:0.5; stroke-opacity:0.1; fill:none\" points=\"\n",
       "  573.007,371.612 573.007,30.868 \n",
       "  \"/>\n",
       "<polyline clip-path=\"url(#clip340)\" style=\"stroke:#000000; stroke-width:1; stroke-opacity:1; fill:none\" points=\"\n",
       "  51.7537,371.612 588.189,371.612 \n",
       "  \"/>\n",
       "<polyline clip-path=\"url(#clip340)\" style=\"stroke:#000000; stroke-width:1; stroke-opacity:1; fill:none\" points=\"\n",
       "  66.9358,371.612 66.9358,367.523 \n",
       "  \"/>\n",
       "<polyline clip-path=\"url(#clip340)\" style=\"stroke:#000000; stroke-width:1; stroke-opacity:1; fill:none\" points=\"\n",
       "  573.007,371.612 573.007,367.523 \n",
       "  \"/>\n",
       "<path clip-path=\"url(#clip340)\" d=\"M 0 0 M28.6403 380.547 L28.6403 381.543 Q28.1889 381.294 27.7317 381.172 Q27.2803 381.045 26.8174 381.045 Q25.7815 381.045 25.2086 381.705 Q24.6357 382.359 24.6357 383.545 Q24.6357 384.731 25.2086 385.391 Q25.7815 386.045 26.8174 386.045 Q27.2803 386.045 27.7317 385.923 Q28.1889 385.796 28.6403 385.547 L28.6403 386.531 Q28.1947 386.739 27.7144 386.844 Q27.2398 386.948 26.7016 386.948 Q25.2375 386.948 24.3753 386.028 Q23.513 385.108 23.513 383.545 Q23.513 381.959 24.381 381.051 Q25.2549 380.142 26.7711 380.142 Q27.263 380.142 27.7317 380.246 Q28.2005 380.345 28.6403 380.547 Z\" fill=\"#000000\" fill-rule=\"evenodd\" fill-opacity=\"1\" /><path clip-path=\"url(#clip340)\" d=\"M 0 0 M32.2687 381.045 Q31.4123 381.045 30.9146 381.716 Q30.4169 382.382 30.4169 383.545 Q30.4169 384.708 30.9088 385.38 Q31.4065 386.045 32.2687 386.045 Q33.1194 386.045 33.6171 385.374 Q34.1148 384.702 34.1148 383.545 Q34.1148 382.393 33.6171 381.722 Q33.1194 381.045 32.2687 381.045 M32.2687 380.142 Q33.6576 380.142 34.4504 381.045 Q35.2433 381.948 35.2433 383.545 Q35.2433 385.136 34.4504 386.045 Q33.6576 386.948 32.2687 386.948 Q30.8741 386.948 30.0812 386.045 Q29.2942 385.136 29.2942 383.545 Q29.2942 381.948 30.0812 381.045 Q30.8741 380.142 32.2687 380.142 Z\" fill=\"#000000\" fill-rule=\"evenodd\" fill-opacity=\"1\" /><path clip-path=\"url(#clip340)\" d=\"M 0 0 M41.7478 382.868 L41.7478 386.78 L40.683 386.78 L40.683 382.903 Q40.683 381.983 40.3242 381.525 Q39.9654 381.068 39.2479 381.068 Q38.3856 381.068 37.8879 381.618 Q37.3902 382.168 37.3902 383.117 L37.3902 386.78 L36.3196 386.78 L36.3196 380.299 L37.3902 380.299 L37.3902 381.305 Q37.7722 380.721 38.2872 380.432 Q38.808 380.142 39.4851 380.142 Q40.602 380.142 41.1749 380.837 Q41.7478 381.525 41.7478 382.868 Z\" fill=\"#000000\" fill-rule=\"evenodd\" fill-opacity=\"1\" /><path clip-path=\"url(#clip340)\" d=\"M 0 0 M47.1298 381.282 L47.1298 377.775 L48.1946 377.775 L48.1946 386.78 L47.1298 386.78 L47.1298 385.808 Q46.7941 386.386 46.2791 386.67 Q45.7698 386.948 45.0522 386.948 Q43.8775 386.948 43.1367 386.01 Q42.4018 385.073 42.4018 383.545 Q42.4018 382.017 43.1367 381.08 Q43.8775 380.142 45.0522 380.142 Q45.7698 380.142 46.2791 380.426 Q46.7941 380.704 47.1298 381.282 M43.5013 383.545 Q43.5013 384.72 43.9816 385.391 Q44.4677 386.057 45.3126 386.057 Q46.1575 386.057 46.6437 385.391 Q47.1298 384.72 47.1298 383.545 Q47.1298 382.37 46.6437 381.705 Q46.1575 381.033 45.3126 381.033 Q44.4677 381.033 43.9816 381.705 Q43.5013 382.37 43.5013 383.545 Z\" fill=\"#000000\" fill-rule=\"evenodd\" fill-opacity=\"1\" /><path clip-path=\"url(#clip340)\" d=\"M 0 0 M49.3115 380.299 L50.3763 380.299 L50.3763 386.78 L49.3115 386.78 L49.3115 380.299 M49.3115 377.775 L50.3763 377.775 L50.3763 379.124 L49.3115 379.124 L49.3115 377.775 Z\" fill=\"#000000\" fill-rule=\"evenodd\" fill-opacity=\"1\" /><path clip-path=\"url(#clip340)\" d=\"M 0 0 M52.5464 378.458 L52.5464 380.299 L54.7397 380.299 L54.7397 381.126 L52.5464 381.126 L52.5464 384.645 Q52.5464 385.437 52.7605 385.663 Q52.9804 385.889 53.6459 385.889 L54.7397 385.889 L54.7397 386.78 L53.6459 386.78 Q52.4133 386.78 51.9446 386.323 Q51.4758 385.86 51.4758 384.645 L51.4758 381.126 L50.6946 381.126 L50.6946 380.299 L51.4758 380.299 L51.4758 378.458 L52.5464 378.458 Z\" fill=\"#000000\" fill-rule=\"evenodd\" fill-opacity=\"1\" /><path clip-path=\"url(#clip340)\" d=\"M 0 0 M55.8566 380.299 L56.9214 380.299 L56.9214 386.78 L55.8566 386.78 L55.8566 380.299 M55.8566 377.775 L56.9214 377.775 L56.9214 379.124 L55.8566 379.124 L55.8566 377.775 Z\" fill=\"#000000\" fill-rule=\"evenodd\" fill-opacity=\"1\" /><path clip-path=\"url(#clip340)\" d=\"M 0 0 M60.5498 381.045 Q59.6934 381.045 59.1957 381.716 Q58.698 382.382 58.698 383.545 Q58.698 384.708 59.1899 385.38 Q59.6876 386.045 60.5498 386.045 Q61.4005 386.045 61.8982 385.374 Q62.3959 384.702 62.3959 383.545 Q62.3959 382.393 61.8982 381.722 Q61.4005 381.045 60.5498 381.045 M60.5498 380.142 Q61.9387 380.142 62.7315 381.045 Q63.5243 381.948 63.5243 383.545 Q63.5243 385.136 62.7315 386.045 Q61.9387 386.948 60.5498 386.948 Q59.1552 386.948 58.3623 386.045 Q57.5753 385.136 57.5753 383.545 Q57.5753 381.948 58.3623 381.045 Q59.1552 380.142 60.5498 380.142 Z\" fill=\"#000000\" fill-rule=\"evenodd\" fill-opacity=\"1\" /><path clip-path=\"url(#clip340)\" d=\"M 0 0 M70.0289 382.868 L70.0289 386.78 L68.9641 386.78 L68.9641 382.903 Q68.9641 381.983 68.6053 381.525 Q68.2465 381.068 67.529 381.068 Q66.6667 381.068 66.169 381.618 Q65.6713 382.168 65.6713 383.117 L65.6713 386.78 L64.6007 386.78 L64.6007 380.299 L65.6713 380.299 L65.6713 381.305 Q66.0533 380.721 66.5683 380.432 Q67.0891 380.142 67.7662 380.142 Q68.8831 380.142 69.456 380.837 Q70.0289 381.525 70.0289 382.868 Z\" fill=\"#000000\" fill-rule=\"evenodd\" fill-opacity=\"1\" /><path clip-path=\"url(#clip340)\" d=\"M 0 0 M72.3032 385.796 L76.3831 385.796 L76.3831 386.78 L70.897 386.78 L70.897 385.796 Q71.5625 385.108 72.7083 383.95 Q73.8599 382.787 74.1551 382.451 Q74.7164 381.821 74.9363 381.386 Q75.162 380.947 75.162 380.524 Q75.162 379.836 74.6759 379.402 Q74.1956 378.968 73.4201 378.968 Q72.8704 378.968 72.2569 379.158 Q71.6493 379.349 70.9549 379.737 L70.9549 378.557 Q71.6609 378.273 72.2743 378.128 Q72.8877 377.984 73.397 377.984 Q74.7396 377.984 75.5382 378.655 Q76.3368 379.326 76.3368 380.449 Q76.3368 380.981 76.1342 381.462 Q75.9375 381.936 75.4109 382.584 Q75.2662 382.752 74.4907 383.557 Q73.7153 384.355 72.3032 385.796 Z\" fill=\"#000000\" fill-rule=\"evenodd\" fill-opacity=\"1\" /><path clip-path=\"url(#clip340)\" d=\"M 0 0 M77.772 385.31 L78.993 385.31 L78.993 386.78 L77.772 386.78 L77.772 385.31 M77.772 380.652 L78.993 380.652 L78.993 382.121 L77.772 382.121 L77.772 380.652 Z\" fill=\"#000000\" fill-rule=\"evenodd\" fill-opacity=\"1\" /><path clip-path=\"url(#clip340)\" d=\"M 0 0 M83.9235 378.14 L85.0925 378.14 L85.0925 386.178 Q85.0925 387.741 84.4965 388.447 Q83.9062 389.153 82.5925 389.153 L82.1469 389.153 L82.1469 388.169 L82.5115 388.169 Q83.287 388.169 83.6053 387.735 Q83.9235 387.301 83.9235 386.178 L83.9235 378.14 Z\" fill=\"#000000\" fill-rule=\"evenodd\" fill-opacity=\"1\" /><path clip-path=\"url(#clip340)\" d=\"M 0 0 M88.721 381.045 Q87.8645 381.045 87.3668 381.716 Q86.8691 382.382 86.8691 383.545 Q86.8691 384.708 87.361 385.38 Q87.8587 386.045 88.721 386.045 Q89.5717 386.045 90.0693 385.374 Q90.567 384.702 90.567 383.545 Q90.567 382.393 90.0693 381.722 Q89.5717 381.045 88.721 381.045 M88.721 380.142 Q90.1099 380.142 90.9027 381.045 Q91.6955 381.948 91.6955 383.545 Q91.6955 385.136 90.9027 386.045 Q90.1099 386.948 88.721 386.948 Q87.3263 386.948 86.5335 386.045 Q85.7465 385.136 85.7465 383.545 Q85.7465 381.948 86.5335 381.045 Q87.3263 380.142 88.721 380.142 Z\" fill=\"#000000\" fill-rule=\"evenodd\" fill-opacity=\"1\" /><path clip-path=\"url(#clip340)\" d=\"M 0 0 M92.7719 377.775 L93.8425 377.775 L93.8425 383.094 L97.0195 380.299 L98.3795 380.299 L94.942 383.331 L98.5242 386.78 L97.1353 386.78 L93.8425 383.614 L93.8425 386.78 L92.7719 386.78 L92.7719 377.775 Z\" fill=\"#000000\" fill-rule=\"evenodd\" fill-opacity=\"1\" /><path clip-path=\"url(#clip340)\" d=\"M 0 0 M104.763 383.273 L104.763 383.794 L99.8667 383.794 Q99.9362 384.893 100.526 385.472 Q101.123 386.045 102.182 386.045 Q102.795 386.045 103.368 385.895 Q103.947 385.744 104.514 385.443 L104.514 386.45 Q103.941 386.693 103.339 386.82 Q102.737 386.948 102.118 386.948 Q100.567 386.948 99.6584 386.045 Q98.7556 385.142 98.7556 383.603 Q98.7556 382.011 99.6121 381.08 Q100.474 380.142 101.933 380.142 Q103.241 380.142 103.999 380.987 Q104.763 381.826 104.763 383.273 M103.698 382.961 Q103.686 382.087 103.206 381.566 Q102.731 381.045 101.944 381.045 Q101.053 381.045 100.515 381.549 Q99.9825 382.052 99.9015 382.966 L103.698 382.961 Z\" fill=\"#000000\" fill-rule=\"evenodd\" fill-opacity=\"1\" /><path clip-path=\"url(#clip340)\" d=\"M 0 0 M110.011 380.489 L110.011 381.496 Q109.56 381.265 109.074 381.149 Q108.588 381.033 108.067 381.033 Q107.274 381.033 106.875 381.277 Q106.481 381.52 106.481 382.006 Q106.481 382.376 106.765 382.59 Q107.048 382.799 107.905 382.989 L108.269 383.07 Q109.404 383.314 109.878 383.759 Q110.359 384.199 110.359 384.992 Q110.359 385.895 109.641 386.421 Q108.929 386.948 107.679 386.948 Q107.158 386.948 106.591 386.844 Q106.03 386.745 105.405 386.543 L105.405 385.443 Q105.995 385.75 106.568 385.906 Q107.141 386.057 107.702 386.057 Q108.455 386.057 108.86 385.802 Q109.265 385.542 109.265 385.073 Q109.265 384.639 108.97 384.407 Q108.68 384.176 107.691 383.962 L107.32 383.875 Q106.331 383.667 105.891 383.238 Q105.451 382.804 105.451 382.052 Q105.451 381.138 106.099 380.64 Q106.747 380.142 107.94 380.142 Q108.53 380.142 109.051 380.229 Q109.572 380.316 110.011 380.489 Z\" fill=\"#000000\" fill-rule=\"evenodd\" fill-opacity=\"1\" /><path clip-path=\"url(#clip340)\" d=\"M 0 0 M529.327 380.547 L529.327 381.543 Q528.875 381.294 528.418 381.172 Q527.967 381.045 527.504 381.045 Q526.468 381.045 525.895 381.705 Q525.322 382.359 525.322 383.545 Q525.322 384.731 525.895 385.391 Q526.468 386.045 527.504 386.045 Q527.967 386.045 528.418 385.923 Q528.875 385.796 529.327 385.547 L529.327 386.531 Q528.881 386.739 528.401 386.844 Q527.926 386.948 527.388 386.948 Q525.924 386.948 525.061 386.028 Q524.199 385.108 524.199 383.545 Q524.199 381.959 525.067 381.051 Q525.941 380.142 527.457 380.142 Q527.949 380.142 528.418 380.246 Q528.887 380.345 529.327 380.547 Z\" fill=\"#000000\" fill-rule=\"evenodd\" fill-opacity=\"1\" /><path clip-path=\"url(#clip340)\" d=\"M 0 0 M532.955 381.045 Q532.098 381.045 531.601 381.716 Q531.103 382.382 531.103 383.545 Q531.103 384.708 531.595 385.38 Q532.093 386.045 532.955 386.045 Q533.806 386.045 534.303 385.374 Q534.801 384.702 534.801 383.545 Q534.801 382.393 534.303 381.722 Q533.806 381.045 532.955 381.045 M532.955 380.142 Q534.344 380.142 535.137 381.045 Q535.929 381.948 535.929 383.545 Q535.929 385.136 535.137 386.045 Q534.344 386.948 532.955 386.948 Q531.56 386.948 530.767 386.045 Q529.98 385.136 529.98 383.545 Q529.98 381.948 530.767 381.045 Q531.56 380.142 532.955 380.142 Z\" fill=\"#000000\" fill-rule=\"evenodd\" fill-opacity=\"1\" /><path clip-path=\"url(#clip340)\" d=\"M 0 0 M542.434 382.868 L542.434 386.78 L541.369 386.78 L541.369 382.903 Q541.369 381.983 541.01 381.525 Q540.652 381.068 539.934 381.068 Q539.072 381.068 538.574 381.618 Q538.076 382.168 538.076 383.117 L538.076 386.78 L537.006 386.78 L537.006 380.299 L538.076 380.299 L538.076 381.305 Q538.458 380.721 538.973 380.432 Q539.494 380.142 540.171 380.142 Q541.288 380.142 541.861 380.837 Q542.434 381.525 542.434 382.868 Z\" fill=\"#000000\" fill-rule=\"evenodd\" fill-opacity=\"1\" /><path clip-path=\"url(#clip340)\" d=\"M 0 0 M547.816 381.282 L547.816 377.775 L548.881 377.775 L548.881 386.78 L547.816 386.78 L547.816 385.808 Q547.48 386.386 546.965 386.67 Q546.456 386.948 545.738 386.948 Q544.564 386.948 543.823 386.01 Q543.088 385.073 543.088 383.545 Q543.088 382.017 543.823 381.08 Q544.564 380.142 545.738 380.142 Q546.456 380.142 546.965 380.426 Q547.48 380.704 547.816 381.282 M544.188 383.545 Q544.188 384.72 544.668 385.391 Q545.154 386.057 545.999 386.057 Q546.844 386.057 547.33 385.391 Q547.816 384.72 547.816 383.545 Q547.816 382.37 547.33 381.705 Q546.844 381.033 545.999 381.033 Q545.154 381.033 544.668 381.705 Q544.188 382.37 544.188 383.545 Z\" fill=\"#000000\" fill-rule=\"evenodd\" fill-opacity=\"1\" /><path clip-path=\"url(#clip340)\" d=\"M 0 0 M549.998 380.299 L551.063 380.299 L551.063 386.78 L549.998 386.78 L549.998 380.299 M549.998 377.775 L551.063 377.775 L551.063 379.124 L549.998 379.124 L549.998 377.775 Z\" fill=\"#000000\" fill-rule=\"evenodd\" fill-opacity=\"1\" /><path clip-path=\"url(#clip340)\" d=\"M 0 0 M553.233 378.458 L553.233 380.299 L555.426 380.299 L555.426 381.126 L553.233 381.126 L553.233 384.645 Q553.233 385.437 553.447 385.663 Q553.667 385.889 554.332 385.889 L555.426 385.889 L555.426 386.78 L554.332 386.78 Q553.1 386.78 552.631 386.323 Q552.162 385.86 552.162 384.645 L552.162 381.126 L551.381 381.126 L551.381 380.299 L552.162 380.299 L552.162 378.458 L553.233 378.458 Z\" fill=\"#000000\" fill-rule=\"evenodd\" fill-opacity=\"1\" /><path clip-path=\"url(#clip340)\" d=\"M 0 0 M556.543 380.299 L557.608 380.299 L557.608 386.78 L556.543 386.78 L556.543 380.299 M556.543 377.775 L557.608 377.775 L557.608 379.124 L556.543 379.124 L556.543 377.775 Z\" fill=\"#000000\" fill-rule=\"evenodd\" fill-opacity=\"1\" /><path clip-path=\"url(#clip340)\" d=\"M 0 0 M561.236 381.045 Q560.38 381.045 559.882 381.716 Q559.384 382.382 559.384 383.545 Q559.384 384.708 559.876 385.38 Q560.374 386.045 561.236 386.045 Q562.087 386.045 562.584 385.374 Q563.082 384.702 563.082 383.545 Q563.082 382.393 562.584 381.722 Q562.087 381.045 561.236 381.045 M561.236 380.142 Q562.625 380.142 563.418 381.045 Q564.211 381.948 564.211 383.545 Q564.211 385.136 563.418 386.045 Q562.625 386.948 561.236 386.948 Q559.841 386.948 559.049 386.045 Q558.262 385.136 558.262 383.545 Q558.262 381.948 559.049 381.045 Q559.841 380.142 561.236 380.142 Z\" fill=\"#000000\" fill-rule=\"evenodd\" fill-opacity=\"1\" /><path clip-path=\"url(#clip340)\" d=\"M 0 0 M570.715 382.868 L570.715 386.78 L569.65 386.78 L569.65 382.903 Q569.65 381.983 569.292 381.525 Q568.933 381.068 568.215 381.068 Q567.353 381.068 566.855 381.618 Q566.358 382.168 566.358 383.117 L566.358 386.78 L565.287 386.78 L565.287 380.299 L566.358 380.299 L566.358 381.305 Q566.74 380.721 567.255 380.432 Q567.775 380.142 568.452 380.142 Q569.569 380.142 570.142 380.837 Q570.715 381.525 570.715 382.868 Z\" fill=\"#000000\" fill-rule=\"evenodd\" fill-opacity=\"1\" /><path clip-path=\"url(#clip340)\" d=\"M 0 0 M572.989 385.796 L577.069 385.796 L577.069 386.78 L571.583 386.78 L571.583 385.796 Q572.249 385.108 573.395 383.95 Q574.546 382.787 574.841 382.451 Q575.403 381.821 575.623 381.386 Q575.848 380.947 575.848 380.524 Q575.848 379.836 575.362 379.402 Q574.882 378.968 574.106 378.968 Q573.557 378.968 572.943 379.158 Q572.336 379.349 571.641 379.737 L571.641 378.557 Q572.347 378.273 572.961 378.128 Q573.574 377.984 574.083 377.984 Q575.426 377.984 576.224 378.655 Q577.023 379.326 577.023 380.449 Q577.023 380.981 576.82 381.462 Q576.624 381.936 576.097 382.584 Q575.952 382.752 575.177 383.557 Q574.402 384.355 572.989 385.796 Z\" fill=\"#000000\" fill-rule=\"evenodd\" fill-opacity=\"1\" /><path clip-path=\"url(#clip340)\" d=\"M 0 0 M578.458 385.31 L579.679 385.31 L579.679 386.78 L578.458 386.78 L578.458 385.31 M578.458 380.652 L579.679 380.652 L579.679 382.121 L578.458 382.121 L578.458 380.652 Z\" fill=\"#000000\" fill-rule=\"evenodd\" fill-opacity=\"1\" /><path clip-path=\"url(#clip340)\" d=\"M 0 0 M587.498 379.292 L585.912 383.591 L589.089 383.591 L587.498 379.292 M586.838 378.14 L588.163 378.14 L591.456 386.78 L590.241 386.78 L589.454 384.564 L585.559 384.564 L584.772 386.78 L583.539 386.78 L586.838 378.14 Z\" fill=\"#000000\" fill-rule=\"evenodd\" fill-opacity=\"1\" /><path clip-path=\"url(#clip340)\" d=\"M 0 0 M596.705 380.489 L596.705 381.496 Q596.253 381.265 595.767 381.149 Q595.281 381.033 594.76 381.033 Q593.967 381.033 593.568 381.277 Q593.175 381.52 593.175 382.006 Q593.175 382.376 593.458 382.59 Q593.742 382.799 594.598 382.989 L594.963 383.07 Q596.097 383.314 596.572 383.759 Q597.052 384.199 597.052 384.992 Q597.052 385.895 596.334 386.421 Q595.622 386.948 594.372 386.948 Q593.852 386.948 593.285 386.844 Q592.723 386.745 592.098 386.543 L592.098 385.443 Q592.688 385.75 593.261 385.906 Q593.834 386.057 594.396 386.057 Q595.148 386.057 595.553 385.802 Q595.958 385.542 595.958 385.073 Q595.958 384.639 595.663 384.407 Q595.374 384.176 594.384 383.962 L594.014 383.875 Q593.024 383.667 592.584 383.238 Q592.144 382.804 592.144 382.052 Q592.144 381.138 592.793 380.64 Q593.441 380.142 594.633 380.142 Q595.223 380.142 595.744 380.229 Q596.265 380.316 596.705 380.489 Z\" fill=\"#000000\" fill-rule=\"evenodd\" fill-opacity=\"1\" /><path clip-path=\"url(#clip340)\" d=\"M 0 0 M602.301 380.489 L602.301 381.496 Q601.849 381.265 601.363 381.149 Q600.877 381.033 600.356 381.033 Q599.563 381.033 599.164 381.277 Q598.771 381.52 598.771 382.006 Q598.771 382.376 599.054 382.59 Q599.338 382.799 600.194 382.989 L600.559 383.07 Q601.693 383.314 602.168 383.759 Q602.648 384.199 602.648 384.992 Q602.648 385.895 601.93 386.421 Q601.218 386.948 599.969 386.948 Q599.448 386.948 598.881 386.844 Q598.319 386.745 597.694 386.543 L597.694 385.443 Q598.284 385.75 598.857 385.906 Q599.43 386.057 599.992 386.057 Q600.744 386.057 601.149 385.802 Q601.554 385.542 601.554 385.073 Q601.554 384.639 601.259 384.407 Q600.97 384.176 599.98 383.962 L599.61 383.875 Q598.62 383.667 598.18 383.238 Q597.741 382.804 597.741 382.052 Q597.741 381.138 598.389 380.64 Q599.037 380.142 600.229 380.142 Q600.819 380.142 601.34 380.229 Q601.861 380.316 602.301 380.489 Z\" fill=\"#000000\" fill-rule=\"evenodd\" fill-opacity=\"1\" /><path clip-path=\"url(#clip340)\" d=\"M 0 0 M606.71 383.522 Q605.42 383.522 604.922 383.817 Q604.425 384.112 604.425 384.824 Q604.425 385.391 604.795 385.727 Q605.171 386.057 605.813 386.057 Q606.699 386.057 607.231 385.432 Q607.769 384.801 607.769 383.759 L607.769 383.522 L606.71 383.522 M608.834 383.082 L608.834 386.78 L607.769 386.78 L607.769 385.796 Q607.405 386.386 606.861 386.67 Q606.317 386.948 605.53 386.948 Q604.534 386.948 603.944 386.392 Q603.36 385.831 603.36 384.893 Q603.36 383.8 604.089 383.244 Q604.824 382.689 606.276 382.689 L607.769 382.689 L607.769 382.584 Q607.769 381.849 607.283 381.45 Q606.803 381.045 605.929 381.045 Q605.374 381.045 604.847 381.178 Q604.32 381.311 603.834 381.577 L603.834 380.594 Q604.419 380.368 604.968 380.258 Q605.518 380.142 606.039 380.142 Q607.445 380.142 608.14 380.871 Q608.834 381.601 608.834 383.082 Z\" fill=\"#000000\" fill-rule=\"evenodd\" fill-opacity=\"1\" /><path clip-path=\"url(#clip340)\" d=\"M 0 0 M609.841 384.222 L609.841 380.299 L610.906 380.299 L610.906 384.182 Q610.906 385.102 611.265 385.565 Q611.624 386.022 612.341 386.022 Q613.203 386.022 613.701 385.472 Q614.205 384.922 614.205 383.973 L614.205 380.299 L615.269 380.299 L615.269 386.78 L614.205 386.78 L614.205 385.785 Q613.817 386.375 613.302 386.664 Q612.793 386.948 612.115 386.948 Q610.999 386.948 610.42 386.253 Q609.841 385.559 609.841 384.222 M612.521 380.142 L612.521 380.142 Z\" fill=\"#000000\" fill-rule=\"evenodd\" fill-opacity=\"1\" /><path clip-path=\"url(#clip340)\" d=\"M 0 0 M616.386 377.775 L617.451 377.775 L617.451 386.78 L616.386 386.78 L616.386 377.775 Z\" fill=\"#000000\" fill-rule=\"evenodd\" fill-opacity=\"1\" /><path clip-path=\"url(#clip340)\" d=\"M 0 0 M619.621 378.458 L619.621 380.299 L621.814 380.299 L621.814 381.126 L619.621 381.126 L619.621 384.645 Q619.621 385.437 619.835 385.663 Q620.055 385.889 620.721 385.889 L621.814 385.889 L621.814 386.78 L620.721 386.78 Q619.488 386.78 619.019 386.323 Q618.551 385.86 618.551 384.645 L618.551 381.126 L617.769 381.126 L617.769 380.299 L618.551 380.299 L618.551 378.458 L619.621 378.458 Z\" fill=\"#000000\" fill-rule=\"evenodd\" fill-opacity=\"1\" /><polyline clip-path=\"url(#clip342)\" style=\"stroke:#000000; stroke-width:0.5; stroke-opacity:0.1; fill:none\" points=\"\n",
       "  51.7537,351.144 588.189,351.144 \n",
       "  \"/>\n",
       "<polyline clip-path=\"url(#clip342)\" style=\"stroke:#000000; stroke-width:0.5; stroke-opacity:0.1; fill:none\" points=\"\n",
       "  51.7537,305.288 588.189,305.288 \n",
       "  \"/>\n",
       "<polyline clip-path=\"url(#clip342)\" style=\"stroke:#000000; stroke-width:0.5; stroke-opacity:0.1; fill:none\" points=\"\n",
       "  51.7537,259.431 588.189,259.431 \n",
       "  \"/>\n",
       "<polyline clip-path=\"url(#clip342)\" style=\"stroke:#000000; stroke-width:0.5; stroke-opacity:0.1; fill:none\" points=\"\n",
       "  51.7537,213.575 588.189,213.575 \n",
       "  \"/>\n",
       "<polyline clip-path=\"url(#clip342)\" style=\"stroke:#000000; stroke-width:0.5; stroke-opacity:0.1; fill:none\" points=\"\n",
       "  51.7537,167.719 588.189,167.719 \n",
       "  \"/>\n",
       "<polyline clip-path=\"url(#clip342)\" style=\"stroke:#000000; stroke-width:0.5; stroke-opacity:0.1; fill:none\" points=\"\n",
       "  51.7537,121.863 588.189,121.863 \n",
       "  \"/>\n",
       "<polyline clip-path=\"url(#clip342)\" style=\"stroke:#000000; stroke-width:0.5; stroke-opacity:0.1; fill:none\" points=\"\n",
       "  51.7537,76.0063 588.189,76.0063 \n",
       "  \"/>\n",
       "<polyline clip-path=\"url(#clip340)\" style=\"stroke:#000000; stroke-width:1; stroke-opacity:1; fill:none\" points=\"\n",
       "  51.7537,371.612 51.7537,30.868 \n",
       "  \"/>\n",
       "<polyline clip-path=\"url(#clip340)\" style=\"stroke:#000000; stroke-width:1; stroke-opacity:1; fill:none\" points=\"\n",
       "  51.7537,351.144 58.1909,351.144 \n",
       "  \"/>\n",
       "<polyline clip-path=\"url(#clip340)\" style=\"stroke:#000000; stroke-width:1; stroke-opacity:1; fill:none\" points=\"\n",
       "  51.7537,305.288 58.1909,305.288 \n",
       "  \"/>\n",
       "<polyline clip-path=\"url(#clip340)\" style=\"stroke:#000000; stroke-width:1; stroke-opacity:1; fill:none\" points=\"\n",
       "  51.7537,259.431 58.1909,259.431 \n",
       "  \"/>\n",
       "<polyline clip-path=\"url(#clip340)\" style=\"stroke:#000000; stroke-width:1; stroke-opacity:1; fill:none\" points=\"\n",
       "  51.7537,213.575 58.1909,213.575 \n",
       "  \"/>\n",
       "<polyline clip-path=\"url(#clip340)\" style=\"stroke:#000000; stroke-width:1; stroke-opacity:1; fill:none\" points=\"\n",
       "  51.7537,167.719 58.1909,167.719 \n",
       "  \"/>\n",
       "<polyline clip-path=\"url(#clip340)\" style=\"stroke:#000000; stroke-width:1; stroke-opacity:1; fill:none\" points=\"\n",
       "  51.7537,121.863 58.1909,121.863 \n",
       "  \"/>\n",
       "<polyline clip-path=\"url(#clip340)\" style=\"stroke:#000000; stroke-width:1; stroke-opacity:1; fill:none\" points=\"\n",
       "  51.7537,76.0063 58.1909,76.0063 \n",
       "  \"/>\n",
       "<path clip-path=\"url(#clip340)\" d=\"M 0 0 M13.2226 351.257 L20.6415 351.257 L20.6415 352.24 L13.2226 352.24 L13.2226 351.257 Z\" fill=\"#000000\" fill-rule=\"evenodd\" fill-opacity=\"1\" /><path clip-path=\"url(#clip340)\" d=\"M 0 0 M25.4505 350.805 Q26.2896 350.985 26.7584 351.552 Q27.2329 352.119 27.2329 352.952 Q27.2329 354.231 26.3533 354.931 Q25.4737 355.632 23.8533 355.632 Q23.3093 355.632 22.7306 355.522 Q22.1577 355.417 21.5443 355.203 L21.5443 354.075 Q22.0304 354.358 22.6091 354.503 Q23.1878 354.648 23.8186 354.648 Q24.9181 354.648 25.491 354.214 Q26.0697 353.78 26.0697 352.952 Q26.0697 352.188 25.5315 351.76 Q24.9991 351.326 24.0443 351.326 L23.0373 351.326 L23.0373 350.365 L24.0906 350.365 Q24.9528 350.365 25.41 350.024 Q25.8672 349.677 25.8672 349.029 Q25.8672 348.363 25.3926 348.01 Q24.9239 347.651 24.0443 347.651 Q23.5639 347.651 23.0142 347.755 Q22.4644 347.86 21.8047 348.08 L21.8047 347.038 Q22.4702 346.853 23.0489 346.76 Q23.6334 346.668 24.1484 346.668 Q25.4794 346.668 26.2549 347.275 Q27.0304 347.877 27.0304 348.907 Q27.0304 349.625 26.6195 350.122 Q26.2086 350.614 25.4505 350.805 Z\" fill=\"#000000\" fill-rule=\"evenodd\" fill-opacity=\"1\" /><path clip-path=\"url(#clip340)\" d=\"M 0 0 M28.2051 346.824 L33.7607 346.824 L33.7607 347.321 L30.6241 355.464 L29.403 355.464 L32.3544 347.808 L28.2051 347.808 L28.2051 346.824 Z\" fill=\"#000000\" fill-rule=\"evenodd\" fill-opacity=\"1\" /><path clip-path=\"url(#clip340)\" d=\"M 0 0 M35.028 353.994 L36.2491 353.994 L36.2491 355.464 L35.028 355.464 L35.028 353.994 Z\" fill=\"#000000\" fill-rule=\"evenodd\" fill-opacity=\"1\" /><path clip-path=\"url(#clip340)\" d=\"M 0 0 M37.528 346.824 L42.1171 346.824 L42.1171 347.808 L38.5986 347.808 L38.5986 349.926 Q38.8532 349.839 39.1078 349.798 Q39.3625 349.752 39.6171 349.752 Q41.0639 349.752 41.9088 350.545 Q42.7537 351.338 42.7537 352.692 Q42.7537 354.086 41.8856 354.862 Q41.0176 355.632 39.4377 355.632 Q38.8937 355.632 38.3266 355.539 Q37.7653 355.446 37.1634 355.261 L37.1634 354.086 Q37.6842 354.37 38.2398 354.509 Q38.7953 354.648 39.4146 354.648 Q40.4157 354.648 41.0002 354.121 Q41.5847 353.595 41.5847 352.692 Q41.5847 351.789 41.0002 351.262 Q40.4157 350.736 39.4146 350.736 Q38.9458 350.736 38.4771 350.84 Q38.0141 350.944 37.528 351.164 L37.528 346.824 Z\" fill=\"#000000\" fill-rule=\"evenodd\" fill-opacity=\"1\" /><path clip-path=\"url(#clip340)\" d=\"M 0 0 M12.9969 305.4 L20.4158 305.4 L20.4158 306.384 L12.9969 306.384 L12.9969 305.4 Z\" fill=\"#000000\" fill-rule=\"evenodd\" fill-opacity=\"1\" /><path clip-path=\"url(#clip340)\" d=\"M 0 0 M25.2248 304.949 Q26.0639 305.128 26.5327 305.696 Q27.0072 306.263 27.0072 307.096 Q27.0072 308.375 26.1276 309.075 Q25.248 309.775 23.6276 309.775 Q23.0836 309.775 22.5049 309.665 Q21.932 309.561 21.3186 309.347 L21.3186 308.219 Q21.8047 308.502 22.3834 308.647 Q22.9621 308.792 23.5929 308.792 Q24.6924 308.792 25.2653 308.358 Q25.844 307.924 25.844 307.096 Q25.844 306.332 25.3058 305.904 Q24.7734 305.47 23.8186 305.47 L22.8116 305.47 L22.8116 304.509 L23.8649 304.509 Q24.7271 304.509 25.1843 304.168 Q25.6415 303.821 25.6415 303.172 Q25.6415 302.507 25.1669 302.154 Q24.6982 301.795 23.8186 301.795 Q23.3383 301.795 22.7885 301.899 Q22.2387 302.003 21.579 302.223 L21.579 301.182 Q22.2445 300.996 22.8232 300.904 Q23.4077 300.811 23.9227 300.811 Q25.2538 300.811 26.0292 301.419 Q26.8047 302.021 26.8047 303.051 Q26.8047 303.768 26.3938 304.266 Q25.9829 304.758 25.2248 304.949 Z\" fill=\"#000000\" fill-rule=\"evenodd\" fill-opacity=\"1\" /><path clip-path=\"url(#clip340)\" d=\"M 0 0 M28.2861 300.968 L32.8752 300.968 L32.8752 301.951 L29.3567 301.951 L29.3567 304.069 Q29.6114 303.983 29.866 303.942 Q30.1206 303.896 30.3753 303.896 Q31.822 303.896 32.6669 304.689 Q33.5118 305.481 33.5118 306.836 Q33.5118 308.23 32.6438 309.006 Q31.7757 309.775 30.1959 309.775 Q29.6519 309.775 29.0847 309.683 Q28.5234 309.59 27.9216 309.405 L27.9216 308.23 Q28.4424 308.514 28.9979 308.653 Q29.5535 308.792 30.1727 308.792 Q31.1739 308.792 31.7583 308.265 Q32.3428 307.738 32.3428 306.836 Q32.3428 305.933 31.7583 305.406 Q31.1739 304.88 30.1727 304.88 Q29.704 304.88 29.2352 304.984 Q28.7723 305.088 28.2861 305.308 L28.2861 300.968 Z\" fill=\"#000000\" fill-rule=\"evenodd\" fill-opacity=\"1\" /><path clip-path=\"url(#clip340)\" d=\"M 0 0 M34.7792 308.138 L36.0002 308.138 L36.0002 309.608 L34.7792 309.608 L34.7792 308.138 Z\" fill=\"#000000\" fill-rule=\"evenodd\" fill-opacity=\"1\" /><path clip-path=\"url(#clip340)\" d=\"M 0 0 M39.7676 301.737 Q38.8648 301.737 38.4076 302.628 Q37.9562 303.514 37.9562 305.296 Q37.9562 307.073 38.4076 307.964 Q38.8648 308.849 39.7676 308.849 Q40.6761 308.849 41.1275 307.964 Q41.5847 307.073 41.5847 305.296 Q41.5847 303.514 41.1275 302.628 Q40.6761 301.737 39.7676 301.737 M39.7676 300.811 Q41.2201 300.811 41.984 301.963 Q42.7537 303.109 42.7537 305.296 Q42.7537 307.478 41.984 308.63 Q41.2201 309.775 39.7676 309.775 Q38.315 309.775 37.5454 308.63 Q36.7815 307.478 36.7815 305.296 Q36.7815 303.109 37.5454 301.963 Q38.315 300.811 39.7676 300.811 Z\" fill=\"#000000\" fill-rule=\"evenodd\" fill-opacity=\"1\" /><path clip-path=\"url(#clip340)\" d=\"M 0 0 M13.3962 259.544 L20.8151 259.544 L20.8151 260.528 L13.3962 260.528 L13.3962 259.544 Z\" fill=\"#000000\" fill-rule=\"evenodd\" fill-opacity=\"1\" /><path clip-path=\"url(#clip340)\" d=\"M 0 0 M25.6241 259.093 Q26.4632 259.272 26.932 259.839 Q27.4065 260.406 27.4065 261.24 Q27.4065 262.519 26.5269 263.219 Q25.6473 263.919 24.0269 263.919 Q23.4829 263.919 22.9042 263.809 Q22.3313 263.705 21.7179 263.491 L21.7179 262.362 Q22.204 262.646 22.7827 262.791 Q23.3614 262.935 23.9922 262.935 Q25.0917 262.935 25.6646 262.501 Q26.2433 262.067 26.2433 261.24 Q26.2433 260.476 25.7051 260.048 Q25.1727 259.614 24.2179 259.614 L23.2109 259.614 L23.2109 258.653 L24.2642 258.653 Q25.1264 258.653 25.5836 258.311 Q26.0408 257.964 26.0408 257.316 Q26.0408 256.651 25.5662 256.298 Q25.0975 255.939 24.2179 255.939 Q23.7376 255.939 23.1878 256.043 Q22.638 256.147 21.9783 256.367 L21.9783 255.325 Q22.6438 255.14 23.2225 255.048 Q23.807 254.955 24.322 254.955 Q25.6531 254.955 26.4285 255.563 Q27.204 256.165 27.204 257.195 Q27.204 257.912 26.7931 258.41 Q26.3822 258.902 25.6241 259.093 Z\" fill=\"#000000\" fill-rule=\"evenodd\" fill-opacity=\"1\" /><path clip-path=\"url(#clip340)\" d=\"M 0 0 M29.6808 262.767 L33.7607 262.767 L33.7607 263.751 L28.2746 263.751 L28.2746 262.767 Q28.9401 262.079 30.0859 260.921 Q31.2375 259.758 31.5327 259.423 Q32.094 258.792 32.3139 258.358 Q32.5396 257.918 32.5396 257.496 Q32.5396 256.807 32.0535 256.373 Q31.5732 255.939 30.7977 255.939 Q30.2479 255.939 29.6345 256.13 Q29.0269 256.321 28.3324 256.708 L28.3324 255.528 Q29.0385 255.244 29.6519 255.1 Q30.2653 254.955 30.7746 254.955 Q32.1171 254.955 32.9157 255.626 Q33.7144 256.298 33.7144 257.42 Q33.7144 257.953 33.5118 258.433 Q33.3151 258.908 32.7884 259.556 Q32.6438 259.724 31.8683 260.528 Q31.0928 261.327 29.6808 262.767 Z\" fill=\"#000000\" fill-rule=\"evenodd\" fill-opacity=\"1\" /><path clip-path=\"url(#clip340)\" d=\"M 0 0 M35.028 262.281 L36.2491 262.281 L36.2491 263.751 L35.028 263.751 L35.028 262.281 Z\" fill=\"#000000\" fill-rule=\"evenodd\" fill-opacity=\"1\" /><path clip-path=\"url(#clip340)\" d=\"M 0 0 M37.528 255.111 L42.1171 255.111 L42.1171 256.095 L38.5986 256.095 L38.5986 258.213 Q38.8532 258.126 39.1078 258.086 Q39.3625 258.04 39.6171 258.04 Q41.0639 258.04 41.9088 258.832 Q42.7537 259.625 42.7537 260.979 Q42.7537 262.374 41.8856 263.149 Q41.0176 263.919 39.4377 263.919 Q38.8937 263.919 38.3266 263.827 Q37.7653 263.734 37.1634 263.549 L37.1634 262.374 Q37.6842 262.658 38.2398 262.796 Q38.7953 262.935 39.4146 262.935 Q40.4157 262.935 41.0002 262.409 Q41.5847 261.882 41.5847 260.979 Q41.5847 260.077 41.0002 259.55 Q40.4157 259.023 39.4146 259.023 Q38.9458 259.023 38.4771 259.127 Q38.0141 259.232 37.528 259.452 L37.528 255.111 Z\" fill=\"#000000\" fill-rule=\"evenodd\" fill-opacity=\"1\" /><path clip-path=\"url(#clip340)\" d=\"M 0 0 M12.748 213.688 L20.167 213.688 L20.167 214.672 L12.748 214.672 L12.748 213.688 Z\" fill=\"#000000\" fill-rule=\"evenodd\" fill-opacity=\"1\" /><path clip-path=\"url(#clip340)\" d=\"M 0 0 M24.976 213.236 Q25.8151 213.416 26.2838 213.983 Q26.7584 214.55 26.7584 215.383 Q26.7584 216.662 25.8787 217.363 Q24.9991 218.063 23.3788 218.063 Q22.8348 218.063 22.2561 217.953 Q21.6832 217.849 21.0697 217.635 L21.0697 216.506 Q21.5559 216.79 22.1346 216.934 Q22.7133 217.079 23.344 217.079 Q24.4436 217.079 25.0165 216.645 Q25.5952 216.211 25.5952 215.383 Q25.5952 214.62 25.057 214.191 Q24.5246 213.757 23.5697 213.757 L22.5628 213.757 L22.5628 212.797 L23.616 212.797 Q24.4783 212.797 24.9355 212.455 Q25.3926 212.108 25.3926 211.46 Q25.3926 210.794 24.9181 210.441 Q24.4494 210.083 23.5697 210.083 Q23.0894 210.083 22.5396 210.187 Q21.9899 210.291 21.3302 210.511 L21.3302 209.469 Q21.9957 209.284 22.5744 209.191 Q23.1589 209.099 23.6739 209.099 Q25.0049 209.099 25.7804 209.706 Q26.5558 210.308 26.5558 211.338 Q26.5558 212.056 26.145 212.554 Q25.7341 213.046 24.976 213.236 Z\" fill=\"#000000\" fill-rule=\"evenodd\" fill-opacity=\"1\" /><path clip-path=\"url(#clip340)\" d=\"M 0 0 M30.5257 210.025 Q29.6229 210.025 29.1658 210.916 Q28.7144 211.801 28.7144 213.584 Q28.7144 215.36 29.1658 216.252 Q29.6229 217.137 30.5257 217.137 Q31.4343 217.137 31.8857 216.252 Q32.3428 215.36 32.3428 213.584 Q32.3428 211.801 31.8857 210.916 Q31.4343 210.025 30.5257 210.025 M30.5257 209.099 Q31.9783 209.099 32.7421 210.25 Q33.5118 211.396 33.5118 213.584 Q33.5118 215.765 32.7421 216.917 Q31.9783 218.063 30.5257 218.063 Q29.0732 218.063 28.3035 216.917 Q27.5396 215.765 27.5396 213.584 Q27.5396 211.396 28.3035 210.25 Q29.0732 209.099 30.5257 209.099 Z\" fill=\"#000000\" fill-rule=\"evenodd\" fill-opacity=\"1\" /><path clip-path=\"url(#clip340)\" d=\"M 0 0 M34.7792 216.425 L36.0002 216.425 L36.0002 217.895 L34.7792 217.895 L34.7792 216.425 Z\" fill=\"#000000\" fill-rule=\"evenodd\" fill-opacity=\"1\" /><path clip-path=\"url(#clip340)\" d=\"M 0 0 M39.7676 210.025 Q38.8648 210.025 38.4076 210.916 Q37.9562 211.801 37.9562 213.584 Q37.9562 215.36 38.4076 216.252 Q38.8648 217.137 39.7676 217.137 Q40.6761 217.137 41.1275 216.252 Q41.5847 215.36 41.5847 213.584 Q41.5847 211.801 41.1275 210.916 Q40.6761 210.025 39.7676 210.025 M39.7676 209.099 Q41.2201 209.099 41.984 210.25 Q42.7537 211.396 42.7537 213.584 Q42.7537 215.765 41.984 216.917 Q41.2201 218.063 39.7676 218.063 Q38.315 218.063 37.5454 216.917 Q36.7815 215.765 36.7815 213.584 Q36.7815 211.396 37.5454 210.25 Q38.315 209.099 39.7676 209.099 Z\" fill=\"#000000\" fill-rule=\"evenodd\" fill-opacity=\"1\" /><path clip-path=\"url(#clip340)\" d=\"M 0 0 M13.4598 167.832 L20.8788 167.832 L20.8788 168.815 L13.4598 168.815 L13.4598 167.832 Z\" fill=\"#000000\" fill-rule=\"evenodd\" fill-opacity=\"1\" /><path clip-path=\"url(#clip340)\" d=\"M 0 0 M23.1531 171.055 L27.2329 171.055 L27.2329 172.039 L21.7468 172.039 L21.7468 171.055 Q22.4123 170.366 23.5582 169.209 Q24.7098 168.046 25.0049 167.71 Q25.5662 167.079 25.7862 166.645 Q26.0118 166.205 26.0118 165.783 Q26.0118 165.094 25.5257 164.66 Q25.0454 164.226 24.27 164.226 Q23.7202 164.226 23.1068 164.417 Q22.4991 164.608 21.8047 164.996 L21.8047 163.815 Q22.5107 163.532 23.1241 163.387 Q23.7376 163.243 24.2468 163.243 Q25.5894 163.243 26.388 163.914 Q27.1866 164.585 27.1866 165.708 Q27.1866 166.24 26.9841 166.721 Q26.7873 167.195 26.2607 167.843 Q26.116 168.011 25.3406 168.815 Q24.5651 169.614 23.1531 171.055 Z\" fill=\"#000000\" fill-rule=\"evenodd\" fill-opacity=\"1\" /><path clip-path=\"url(#clip340)\" d=\"M 0 0 M28.2051 163.399 L33.7607 163.399 L33.7607 163.896 L30.6241 172.039 L29.403 172.039 L32.3544 164.383 L28.2051 164.383 L28.2051 163.399 Z\" fill=\"#000000\" fill-rule=\"evenodd\" fill-opacity=\"1\" /><path clip-path=\"url(#clip340)\" d=\"M 0 0 M35.028 170.569 L36.2491 170.569 L36.2491 172.039 L35.028 172.039 L35.028 170.569 Z\" fill=\"#000000\" fill-rule=\"evenodd\" fill-opacity=\"1\" /><path clip-path=\"url(#clip340)\" d=\"M 0 0 M37.528 163.399 L42.1171 163.399 L42.1171 164.383 L38.5986 164.383 L38.5986 166.501 Q38.8532 166.414 39.1078 166.373 Q39.3625 166.327 39.6171 166.327 Q41.0639 166.327 41.9088 167.12 Q42.7537 167.913 42.7537 169.267 Q42.7537 170.661 41.8856 171.437 Q41.0176 172.207 39.4377 172.207 Q38.8937 172.207 38.3266 172.114 Q37.7653 172.021 37.1634 171.836 L37.1634 170.661 Q37.6842 170.945 38.2398 171.084 Q38.7953 171.223 39.4146 171.223 Q40.4157 171.223 41.0002 170.696 Q41.5847 170.17 41.5847 169.267 Q41.5847 168.364 41.0002 167.837 Q40.4157 167.311 39.4146 167.311 Q38.9458 167.311 38.4771 167.415 Q38.0141 167.519 37.528 167.739 L37.528 163.399 Z\" fill=\"#000000\" fill-rule=\"evenodd\" fill-opacity=\"1\" /><path clip-path=\"url(#clip340)\" d=\"M 0 0 M13.2341 121.975 L20.6531 121.975 L20.6531 122.959 L13.2341 122.959 L13.2341 121.975 Z\" fill=\"#000000\" fill-rule=\"evenodd\" fill-opacity=\"1\" /><path clip-path=\"url(#clip340)\" d=\"M 0 0 M22.9274 125.199 L27.0072 125.199 L27.0072 126.183 L21.5211 126.183 L21.5211 125.199 Q22.1866 124.51 23.3325 123.353 Q24.4841 122.189 24.7792 121.854 Q25.3406 121.223 25.5605 120.789 Q25.7862 120.349 25.7862 119.927 Q25.7862 119.238 25.3 118.804 Q24.8197 118.37 24.0443 118.37 Q23.4945 118.37 22.8811 118.561 Q22.2734 118.752 21.579 119.14 L21.579 117.959 Q22.285 117.676 22.8984 117.531 Q23.5119 117.386 24.0211 117.386 Q25.3637 117.386 26.1623 118.058 Q26.9609 118.729 26.9609 119.852 Q26.9609 120.384 26.7584 120.864 Q26.5616 121.339 26.035 121.987 Q25.8903 122.155 25.1149 122.959 Q24.3394 123.758 22.9274 125.199 Z\" fill=\"#000000\" fill-rule=\"evenodd\" fill-opacity=\"1\" /><path clip-path=\"url(#clip340)\" d=\"M 0 0 M28.2861 117.543 L32.8752 117.543 L32.8752 118.526 L29.3567 118.526 L29.3567 120.644 Q29.6114 120.558 29.866 120.517 Q30.1206 120.471 30.3753 120.471 Q31.822 120.471 32.6669 121.264 Q33.5118 122.056 33.5118 123.411 Q33.5118 124.805 32.6438 125.581 Q31.7757 126.35 30.1959 126.35 Q29.6519 126.35 29.0847 126.258 Q28.5234 126.165 27.9216 125.98 L27.9216 124.805 Q28.4424 125.089 28.9979 125.228 Q29.5535 125.367 30.1727 125.367 Q31.1739 125.367 31.7583 124.84 Q32.3428 124.313 32.3428 123.411 Q32.3428 122.508 31.7583 121.981 Q31.1739 121.455 30.1727 121.455 Q29.704 121.455 29.2352 121.559 Q28.7723 121.663 28.2861 121.883 L28.2861 117.543 Z\" fill=\"#000000\" fill-rule=\"evenodd\" fill-opacity=\"1\" /><path clip-path=\"url(#clip340)\" d=\"M 0 0 M34.7792 124.713 L36.0002 124.713 L36.0002 126.183 L34.7792 126.183 L34.7792 124.713 Z\" fill=\"#000000\" fill-rule=\"evenodd\" fill-opacity=\"1\" /><path clip-path=\"url(#clip340)\" d=\"M 0 0 M39.7676 118.312 Q38.8648 118.312 38.4076 119.203 Q37.9562 120.089 37.9562 121.871 Q37.9562 123.648 38.4076 124.539 Q38.8648 125.424 39.7676 125.424 Q40.6761 125.424 41.1275 124.539 Q41.5847 123.648 41.5847 121.871 Q41.5847 120.089 41.1275 119.203 Q40.6761 118.312 39.7676 118.312 M39.7676 117.386 Q41.2201 117.386 41.984 118.538 Q42.7537 119.684 42.7537 121.871 Q42.7537 124.053 41.984 125.205 Q41.2201 126.35 39.7676 126.35 Q38.315 126.35 37.5454 125.205 Q36.7815 124.053 36.7815 121.871 Q36.7815 119.684 37.5454 118.538 Q38.315 117.386 39.7676 117.386 Z\" fill=\"#000000\" fill-rule=\"evenodd\" fill-opacity=\"1\" /><path clip-path=\"url(#clip340)\" d=\"M 0 0 M13.6334 76.1191 L21.0524 76.1191 L21.0524 77.1029 L13.6334 77.1029 L13.6334 76.1191 Z\" fill=\"#000000\" fill-rule=\"evenodd\" fill-opacity=\"1\" /><path clip-path=\"url(#clip340)\" d=\"M 0 0 M23.3267 79.3425 L27.4065 79.3425 L27.4065 80.3263 L21.9204 80.3263 L21.9204 79.3425 Q22.5859 78.6538 23.7318 77.4964 Q24.8834 76.3332 25.1785 75.9976 Q25.7399 75.3668 25.9598 74.9328 Q26.1855 74.493 26.1855 74.0705 Q26.1855 73.3818 25.6994 72.9478 Q25.219 72.5138 24.4436 72.5138 Q23.8938 72.5138 23.2804 72.7048 Q22.6727 72.8957 21.9783 73.2835 L21.9783 72.1029 Q22.6843 71.8194 23.2977 71.6747 Q23.9112 71.53 24.4204 71.53 Q25.763 71.53 26.5616 72.2013 Q27.3602 72.8726 27.3602 73.9953 Q27.3602 74.5277 27.1577 75.008 Q26.9609 75.4825 26.4343 76.1307 Q26.2896 76.2985 25.5142 77.1029 Q24.7387 77.9015 23.3267 79.3425 Z\" fill=\"#000000\" fill-rule=\"evenodd\" fill-opacity=\"1\" /><path clip-path=\"url(#clip340)\" d=\"M 0 0 M29.6808 79.3425 L33.7607 79.3425 L33.7607 80.3263 L28.2746 80.3263 L28.2746 79.3425 Q28.9401 78.6538 30.0859 77.4964 Q31.2375 76.3332 31.5327 75.9976 Q32.094 75.3668 32.3139 74.9328 Q32.5396 74.493 32.5396 74.0705 Q32.5396 73.3818 32.0535 72.9478 Q31.5732 72.5138 30.7977 72.5138 Q30.2479 72.5138 29.6345 72.7048 Q29.0269 72.8957 28.3324 73.2835 L28.3324 72.1029 Q29.0385 71.8194 29.6519 71.6747 Q30.2653 71.53 30.7746 71.53 Q32.1171 71.53 32.9157 72.2013 Q33.7144 72.8726 33.7144 73.9953 Q33.7144 74.5277 33.5118 75.008 Q33.3151 75.4825 32.7884 76.1307 Q32.6438 76.2985 31.8683 77.1029 Q31.0928 77.9015 29.6808 79.3425 Z\" fill=\"#000000\" fill-rule=\"evenodd\" fill-opacity=\"1\" /><path clip-path=\"url(#clip340)\" d=\"M 0 0 M35.028 78.8564 L36.2491 78.8564 L36.2491 80.3263 L35.028 80.3263 L35.028 78.8564 Z\" fill=\"#000000\" fill-rule=\"evenodd\" fill-opacity=\"1\" /><path clip-path=\"url(#clip340)\" d=\"M 0 0 M37.528 71.6863 L42.1171 71.6863 L42.1171 72.67 L38.5986 72.67 L38.5986 74.7881 Q38.8532 74.7013 39.1078 74.6608 Q39.3625 74.6145 39.6171 74.6145 Q41.0639 74.6145 41.9088 75.4073 Q42.7537 76.2001 42.7537 77.5543 Q42.7537 78.9489 41.8856 79.7244 Q41.0176 80.4941 39.4377 80.4941 Q38.8937 80.4941 38.3266 80.4015 Q37.7653 80.3089 37.1634 80.1237 L37.1634 78.9489 Q37.6842 79.2325 38.2398 79.3714 Q38.7953 79.5103 39.4146 79.5103 Q40.4157 79.5103 41.0002 78.9837 Q41.5847 78.4571 41.5847 77.5543 Q41.5847 76.6515 41.0002 76.1249 Q40.4157 75.5983 39.4146 75.5983 Q38.9458 75.5983 38.4771 75.7024 Q38.0141 75.8066 37.528 76.0265 L37.528 71.6863 Z\" fill=\"#000000\" fill-rule=\"evenodd\" fill-opacity=\"1\" /><path clip-path=\"url(#clip340)\" d=\"M 0 0 M261.735 4.18863 L261.735 6.34574 Q260.702 5.38365 259.527 4.90767 Q258.362 4.43169 257.046 4.43169 Q254.453 4.43169 253.076 6.02167 Q251.698 7.60152 251.698 10.5992 Q251.698 13.5867 253.076 15.1767 Q254.453 16.7566 257.046 16.7566 Q258.362 16.7566 259.527 16.2806 Q260.702 15.8046 261.735 14.8425 L261.735 16.9794 Q260.661 17.7085 259.456 18.0731 Q258.261 18.4377 256.924 18.4377 Q253.491 18.4377 251.516 16.3413 Q249.541 14.2349 249.541 10.5992 Q249.541 6.95338 251.516 4.85703 Q253.491 2.75056 256.924 2.75056 Q258.281 2.75056 259.476 3.11515 Q260.681 3.4696 261.735 4.18863 Z\" fill=\"#000000\" fill-rule=\"evenodd\" fill-opacity=\"1\" /><path clip-path=\"url(#clip340)\" d=\"M 0 0 M268.084 8.10788 Q266.585 8.10788 265.715 9.28265 Q264.844 10.4473 264.844 12.4829 Q264.844 14.5184 265.704 15.6932 Q266.575 16.8578 268.084 16.8578 Q269.573 16.8578 270.444 15.6831 Q271.315 14.5083 271.315 12.4829 Q271.315 10.4675 270.444 9.29277 Q269.573 8.10788 268.084 8.10788 M268.084 6.52803 Q270.515 6.52803 271.902 8.10788 Q273.29 9.68774 273.29 12.4829 Q273.29 15.2679 271.902 16.8578 Q270.515 18.4377 268.084 18.4377 Q265.644 18.4377 264.256 16.8578 Q262.879 15.2679 262.879 12.4829 Q262.879 9.68774 264.256 8.10788 Q265.644 6.52803 268.084 6.52803 Z\" fill=\"#000000\" fill-rule=\"evenodd\" fill-opacity=\"1\" /><path clip-path=\"url(#clip340)\" d=\"M 0 0 M284.946 12.0069 L284.946 12.9183 L276.379 12.9183 Q276.5 14.8425 277.533 15.8552 Q278.576 16.8578 280.429 16.8578 Q281.503 16.8578 282.506 16.5945 Q283.518 16.3312 284.511 15.8046 L284.511 17.5667 Q283.508 17.9921 282.455 18.2149 Q281.402 18.4377 280.318 18.4377 Q277.604 18.4377 276.014 16.8578 Q274.434 15.278 274.434 12.5841 Q274.434 9.79914 275.933 8.16865 Q277.442 6.52803 279.994 6.52803 Q282.283 6.52803 283.609 8.00661 Q284.946 9.47506 284.946 12.0069 M283.083 11.46 Q283.063 9.93079 282.222 9.01934 Q281.392 8.10788 280.014 8.10788 Q278.455 8.10788 277.513 8.98896 Q276.581 9.87003 276.439 11.4701 L283.083 11.46 Z\" fill=\"#000000\" fill-rule=\"evenodd\" fill-opacity=\"1\" /><path clip-path=\"url(#clip340)\" d=\"M 0 0 M292.643 2.38598 L292.643 3.93545 L290.861 3.93545 Q289.858 3.93545 289.463 4.34054 Q289.078 4.74563 289.078 5.79887 L289.078 6.80147 L292.147 6.80147 L292.147 8.24967 L289.078 8.24967 L289.078 18.144 L287.205 18.144 L287.205 8.24967 L285.422 8.24967 L285.422 6.80147 L287.205 6.80147 L287.205 6.01154 Q287.205 4.11774 288.086 3.25693 Q288.967 2.38598 290.881 2.38598 L292.643 2.38598 Z\" fill=\"#000000\" fill-rule=\"evenodd\" fill-opacity=\"1\" /><path clip-path=\"url(#clip340)\" d=\"M 0 0 M300.34 2.38598 L300.34 3.93545 L298.557 3.93545 Q297.555 3.93545 297.16 4.34054 Q296.775 4.74563 296.775 5.79887 L296.775 6.80147 L299.843 6.80147 L299.843 8.24967 L296.775 8.24967 L296.775 18.144 L294.901 18.144 L294.901 8.24967 L293.119 8.24967 L293.119 6.80147 L294.901 6.80147 L294.901 6.01154 Q294.901 4.11774 295.782 3.25693 Q296.663 2.38598 298.577 2.38598 L300.34 2.38598 Z\" fill=\"#000000\" fill-rule=\"evenodd\" fill-opacity=\"1\" /><path clip-path=\"url(#clip340)\" d=\"M 0 0 M302.294 6.80147 L304.158 6.80147 L304.158 18.144 L302.294 18.144 L302.294 6.80147 M302.294 2.38598 L304.158 2.38598 L304.158 4.74563 L302.294 4.74563 L302.294 2.38598 Z\" fill=\"#000000\" fill-rule=\"evenodd\" fill-opacity=\"1\" /><path clip-path=\"url(#clip340)\" d=\"M 0 0 M314.275 7.23694 L314.275 8.97883 Q313.485 8.54336 312.685 8.33068 Q311.895 8.10788 311.085 8.10788 Q309.272 8.10788 308.269 9.26239 Q307.267 10.4068 307.267 12.4829 Q307.267 14.5589 308.269 15.7135 Q309.272 16.8578 311.085 16.8578 Q311.895 16.8578 312.685 16.6452 Q313.485 16.4224 314.275 15.9869 L314.275 17.7085 Q313.495 18.0731 312.654 18.2554 Q311.824 18.4377 310.882 18.4377 Q308.32 18.4377 306.811 16.8275 Q305.302 15.2172 305.302 12.4829 Q305.302 9.70799 306.821 8.11801 Q308.35 6.52803 311.004 6.52803 Q311.864 6.52803 312.685 6.71032 Q313.505 6.88249 314.275 7.23694 Z\" fill=\"#000000\" fill-rule=\"evenodd\" fill-opacity=\"1\" /><path clip-path=\"url(#clip340)\" d=\"M 0 0 M316.229 6.80147 L318.093 6.80147 L318.093 18.144 L316.229 18.144 L316.229 6.80147 M316.229 2.38598 L318.093 2.38598 L318.093 4.74563 L316.229 4.74563 L316.229 2.38598 Z\" fill=\"#000000\" fill-rule=\"evenodd\" fill-opacity=\"1\" /><path clip-path=\"url(#clip340)\" d=\"M 0 0 M329.749 12.0069 L329.749 12.9183 L321.182 12.9183 Q321.303 14.8425 322.336 15.8552 Q323.379 16.8578 325.232 16.8578 Q326.306 16.8578 327.309 16.5945 Q328.321 16.3312 329.314 15.8046 L329.314 17.5667 Q328.311 17.9921 327.258 18.2149 Q326.205 18.4377 325.121 18.4377 Q322.407 18.4377 320.817 16.8578 Q319.237 15.278 319.237 12.5841 Q319.237 9.79914 320.736 8.16865 Q322.245 6.52803 324.797 6.52803 Q327.086 6.52803 328.412 8.00661 Q329.749 9.47506 329.749 12.0069 M327.886 11.46 Q327.866 9.93079 327.025 9.01934 Q326.195 8.10788 324.817 8.10788 Q323.258 8.10788 322.316 8.98896 Q321.384 9.87003 321.242 11.4701 L327.886 11.46 Z\" fill=\"#000000\" fill-rule=\"evenodd\" fill-opacity=\"1\" /><path clip-path=\"url(#clip340)\" d=\"M 0 0 M341.132 11.298 L341.132 18.144 L339.269 18.144 L339.269 11.3587 Q339.269 9.7485 338.641 8.94845 Q338.013 8.14839 336.757 8.14839 Q335.248 8.14839 334.377 9.11048 Q333.506 10.0726 333.506 11.7334 L333.506 18.144 L331.633 18.144 L331.633 6.80147 L333.506 6.80147 L333.506 8.56361 Q334.175 7.54076 335.076 7.0344 Q335.988 6.52803 337.172 6.52803 Q339.127 6.52803 340.13 7.7433 Q341.132 8.94845 341.132 11.298 Z\" fill=\"#000000\" fill-rule=\"evenodd\" fill-opacity=\"1\" /><path clip-path=\"url(#clip340)\" d=\"M 0 0 M344.93 3.581 L344.93 6.80147 L348.768 6.80147 L348.768 8.24967 L344.93 8.24967 L344.93 14.407 Q344.93 15.7945 345.305 16.1894 Q345.689 16.5844 346.854 16.5844 L348.768 16.5844 L348.768 18.144 L346.854 18.144 Q344.697 18.144 343.877 17.3439 Q343.056 16.5338 343.056 14.407 L343.056 8.24967 L341.689 8.24967 L341.689 6.80147 L343.056 6.80147 L343.056 3.581 L344.93 3.581 Z\" fill=\"#000000\" fill-rule=\"evenodd\" fill-opacity=\"1\" /><path clip-path=\"url(#clip340)\" d=\"M 0 0 M359.118 16.4426 L359.118 22.4582 L357.245 22.4582 L357.245 6.80147 L359.118 6.80147 L359.118 8.5231 Q359.706 7.51038 360.597 7.02427 Q361.498 6.52803 362.744 6.52803 Q364.81 6.52803 366.096 8.16865 Q367.392 9.80926 367.392 12.4829 Q367.392 15.1565 366.096 16.7971 Q364.81 18.4377 362.744 18.4377 Q361.498 18.4377 360.597 17.9516 Q359.706 17.4553 359.118 16.4426 M365.458 12.4829 Q365.458 10.427 364.607 9.26239 Q363.767 8.08763 362.288 8.08763 Q360.809 8.08763 359.959 9.26239 Q359.118 10.427 359.118 12.4829 Q359.118 14.5387 359.959 15.7135 Q360.809 16.8781 362.288 16.8781 Q363.767 16.8781 364.607 15.7135 Q365.458 14.5387 365.458 12.4829 Z\" fill=\"#000000\" fill-rule=\"evenodd\" fill-opacity=\"1\" /><path clip-path=\"url(#clip340)\" d=\"M 0 0 M369.347 2.38598 L371.21 2.38598 L371.21 18.144 L369.347 18.144 L369.347 2.38598 Z\" fill=\"#000000\" fill-rule=\"evenodd\" fill-opacity=\"1\" /><path clip-path=\"url(#clip340)\" d=\"M 0 0 M377.56 8.10788 Q376.061 8.10788 375.19 9.28265 Q374.319 10.4473 374.319 12.4829 Q374.319 14.5184 375.18 15.6932 Q376.051 16.8578 377.56 16.8578 Q379.049 16.8578 379.92 15.6831 Q380.791 14.5083 380.791 12.4829 Q380.791 10.4675 379.92 9.29277 Q379.049 8.10788 377.56 8.10788 M377.56 6.52803 Q379.991 6.52803 381.378 8.10788 Q382.765 9.68774 382.765 12.4829 Q382.765 15.2679 381.378 16.8578 Q379.991 18.4377 377.56 18.4377 Q375.119 18.4377 373.732 16.8578 Q372.355 15.2679 372.355 12.4829 Q372.355 9.68774 373.732 8.10788 Q375.119 6.52803 377.56 6.52803 Z\" fill=\"#000000\" fill-rule=\"evenodd\" fill-opacity=\"1\" /><path clip-path=\"url(#clip340)\" d=\"M 0 0 M386.563 3.581 L386.563 6.80147 L390.401 6.80147 L390.401 8.24967 L386.563 8.24967 L386.563 14.407 Q386.563 15.7945 386.938 16.1894 Q387.323 16.5844 388.487 16.5844 L390.401 16.5844 L390.401 18.144 L388.487 18.144 Q386.33 18.144 385.51 17.3439 Q384.69 16.5338 384.69 14.407 L384.69 8.24967 L383.322 8.24967 L383.322 6.80147 L384.69 6.80147 L384.69 3.581 L386.563 3.581 Z\" fill=\"#000000\" fill-rule=\"evenodd\" fill-opacity=\"1\" /><polyline clip-path=\"url(#clip342)\" style=\"stroke:#000000; stroke-width:1; stroke-opacity:1; fill:none\" points=\"\n",
       "  66.9358,175.611 66.9358,40.5117 \n",
       "  \"/>\n",
       "<polyline clip-path=\"url(#clip342)\" style=\"stroke:#000000; stroke-width:1; stroke-opacity:1; fill:none\" points=\"\n",
       "  573.007,361.968 573.007,227.966 \n",
       "  \"/>\n",
       "<line clip-path=\"url(#clip342)\" x1=\"70.9358\" y1=\"175.611\" x2=\"62.9358\" y2=\"175.611\" style=\"stroke:#000000; stroke-width:0.8; stroke-opacity:1\"/>\n",
       "<line clip-path=\"url(#clip342)\" x1=\"70.9358\" y1=\"40.5117\" x2=\"62.9358\" y2=\"40.5117\" style=\"stroke:#000000; stroke-width:0.8; stroke-opacity:1\"/>\n",
       "<line clip-path=\"url(#clip342)\" x1=\"577.007\" y1=\"361.968\" x2=\"569.007\" y2=\"361.968\" style=\"stroke:#000000; stroke-width:0.8; stroke-opacity:1\"/>\n",
       "<line clip-path=\"url(#clip342)\" x1=\"577.007\" y1=\"227.966\" x2=\"569.007\" y2=\"227.966\" style=\"stroke:#000000; stroke-width:0.8; stroke-opacity:1\"/>\n",
       "<circle clip-path=\"url(#clip342)\" cx=\"66.9358\" cy=\"108.061\" r=\"3\" fill=\"#009af9\" fill-rule=\"evenodd\" fill-opacity=\"1\" stroke=\"#000000\" stroke-opacity=\"1\" stroke-width=\"0.8\"/>\n",
       "<circle clip-path=\"url(#clip342)\" cx=\"573.007\" cy=\"294.967\" r=\"3\" fill=\"#009af9\" fill-rule=\"evenodd\" fill-opacity=\"1\" stroke=\"#000000\" stroke-opacity=\"1\" stroke-width=\"0.8\"/>\n",
       "<path clip-path=\"url(#clip340)\" d=\"\n",
       "M497.949 72.4662 L570.308 72.4662 L570.308 42.2262 L497.949 42.2262  Z\n",
       "  \" fill=\"#ffffff\" fill-rule=\"evenodd\" fill-opacity=\"1\"/>\n",
       "<polyline clip-path=\"url(#clip340)\" style=\"stroke:#000000; stroke-width:1; stroke-opacity:1; fill:none\" points=\"\n",
       "  497.949,72.4662 570.308,72.4662 570.308,42.2262 497.949,42.2262 497.949,72.4662 \n",
       "  \"/>\n",
       "<circle clip-path=\"url(#clip340)\" cx=\"521.791\" cy=\"57.3462\" r=\"5\" fill=\"#009af9\" fill-rule=\"evenodd\" fill-opacity=\"1\" stroke=\"#000000\" stroke-opacity=\"1\" stroke-width=\"1.28\"/>\n",
       "<path clip-path=\"url(#clip340)\" d=\"M 0 0 M549.093 62.268 Q548.642 63.4254 548.213 63.7784 Q547.785 64.1314 547.068 64.1314 L546.217 64.1314 L546.217 63.2402 L546.842 63.2402 Q547.282 63.2402 547.525 63.0319 Q547.768 62.8236 548.063 62.0481 L548.254 61.562 L545.632 55.1847 L546.761 55.1847 L548.786 60.2541 L550.812 55.1847 L551.94 55.1847 L549.093 62.268 Z\" fill=\"#000000\" fill-rule=\"evenodd\" fill-opacity=\"1\" /><path clip-path=\"url(#clip340)\" d=\"M 0 0 M553.41 60.6824 L555.32 60.6824 L555.32 54.091 L553.242 54.5076 L553.242 53.4428 L555.308 53.0262 L556.477 53.0262 L556.477 60.6824 L558.387 60.6824 L558.387 61.6662 L553.41 61.6662 L553.41 60.6824 Z\" fill=\"#000000\" fill-rule=\"evenodd\" fill-opacity=\"1\" /></svg>\n"
      ]
     },
     "execution_count": 62,
     "metadata": {},
     "output_type": "execute_result"
    }
   ],
   "source": [
    "Pkg.add(\"Plots\")\n",
    "using Plots"
   ]
  },
  {
   "cell_type": "code",
   "execution_count": 68,
   "metadata": {},
   "outputs": [
    {
     "data": {
      "image/svg+xml": [
       "<?xml version=\"1.0\" encoding=\"utf-8\"?>\n",
       "<svg xmlns=\"http://www.w3.org/2000/svg\" xmlns:xlink=\"http://www.w3.org/1999/xlink\" width=\"150\" height=\"100\" viewBox=\"0 0 600 400\">\n",
       "<defs>\n",
       "  <clipPath id=\"clip380\">\n",
       "    <rect x=\"0\" y=\"0\" width=\"600\" height=\"400\"/>\n",
       "  </clipPath>\n",
       "</defs>\n",
       "<path clip-path=\"url(#clip380)\" d=\"\n",
       "M0 400 L600 400 L600 0 L0 0  Z\n",
       "  \" fill=\"#ffffff\" fill-rule=\"evenodd\" fill-opacity=\"1\"/>\n",
       "<defs>\n",
       "  <clipPath id=\"clip381\">\n",
       "    <rect x=\"120\" y=\"0\" width=\"421\" height=\"400\"/>\n",
       "  </clipPath>\n",
       "</defs>\n",
       "<path clip-path=\"url(#clip380)\" d=\"\n",
       "M51.7537 371.612 L588.189 371.612 L588.189 30.868 L51.7537 30.868  Z\n",
       "  \" fill=\"#ffffff\" fill-rule=\"evenodd\" fill-opacity=\"1\"/>\n",
       "<defs>\n",
       "  <clipPath id=\"clip382\">\n",
       "    <rect x=\"51\" y=\"30\" width=\"537\" height=\"342\"/>\n",
       "  </clipPath>\n",
       "</defs>\n",
       "<polyline clip-path=\"url(#clip382)\" style=\"stroke:#000000; stroke-width:0.5; stroke-opacity:0.1; fill:none\" points=\"\n",
       "  66.9358,371.612 66.9358,30.868 \n",
       "  \"/>\n",
       "<polyline clip-path=\"url(#clip382)\" style=\"stroke:#000000; stroke-width:0.5; stroke-opacity:0.1; fill:none\" points=\"\n",
       "  573.007,371.612 573.007,30.868 \n",
       "  \"/>\n",
       "<polyline clip-path=\"url(#clip380)\" style=\"stroke:#000000; stroke-width:1; stroke-opacity:1; fill:none\" points=\"\n",
       "  51.7537,371.612 588.189,371.612 \n",
       "  \"/>\n",
       "<polyline clip-path=\"url(#clip380)\" style=\"stroke:#000000; stroke-width:1; stroke-opacity:1; fill:none\" points=\"\n",
       "  66.9358,371.612 66.9358,367.523 \n",
       "  \"/>\n",
       "<polyline clip-path=\"url(#clip380)\" style=\"stroke:#000000; stroke-width:1; stroke-opacity:1; fill:none\" points=\"\n",
       "  573.007,371.612 573.007,367.523 \n",
       "  \"/>\n",
       "<path clip-path=\"url(#clip380)\" d=\"M 0 0 M28.6403 380.547 L28.6403 381.543 Q28.1889 381.294 27.7317 381.172 Q27.2803 381.045 26.8174 381.045 Q25.7815 381.045 25.2086 381.705 Q24.6357 382.359 24.6357 383.545 Q24.6357 384.731 25.2086 385.391 Q25.7815 386.045 26.8174 386.045 Q27.2803 386.045 27.7317 385.923 Q28.1889 385.796 28.6403 385.547 L28.6403 386.531 Q28.1947 386.739 27.7144 386.844 Q27.2398 386.948 26.7016 386.948 Q25.2375 386.948 24.3753 386.028 Q23.513 385.108 23.513 383.545 Q23.513 381.959 24.381 381.051 Q25.2549 380.142 26.7711 380.142 Q27.263 380.142 27.7317 380.246 Q28.2005 380.345 28.6403 380.547 Z\" fill=\"#000000\" fill-rule=\"evenodd\" fill-opacity=\"1\" /><path clip-path=\"url(#clip380)\" d=\"M 0 0 M32.2687 381.045 Q31.4123 381.045 30.9146 381.716 Q30.4169 382.382 30.4169 383.545 Q30.4169 384.708 30.9088 385.38 Q31.4065 386.045 32.2687 386.045 Q33.1194 386.045 33.6171 385.374 Q34.1148 384.702 34.1148 383.545 Q34.1148 382.393 33.6171 381.722 Q33.1194 381.045 32.2687 381.045 M32.2687 380.142 Q33.6576 380.142 34.4504 381.045 Q35.2433 381.948 35.2433 383.545 Q35.2433 385.136 34.4504 386.045 Q33.6576 386.948 32.2687 386.948 Q30.8741 386.948 30.0812 386.045 Q29.2942 385.136 29.2942 383.545 Q29.2942 381.948 30.0812 381.045 Q30.8741 380.142 32.2687 380.142 Z\" fill=\"#000000\" fill-rule=\"evenodd\" fill-opacity=\"1\" /><path clip-path=\"url(#clip380)\" d=\"M 0 0 M41.7478 382.868 L41.7478 386.78 L40.683 386.78 L40.683 382.903 Q40.683 381.983 40.3242 381.525 Q39.9654 381.068 39.2479 381.068 Q38.3856 381.068 37.8879 381.618 Q37.3902 382.168 37.3902 383.117 L37.3902 386.78 L36.3196 386.78 L36.3196 380.299 L37.3902 380.299 L37.3902 381.305 Q37.7722 380.721 38.2872 380.432 Q38.808 380.142 39.4851 380.142 Q40.602 380.142 41.1749 380.837 Q41.7478 381.525 41.7478 382.868 Z\" fill=\"#000000\" fill-rule=\"evenodd\" fill-opacity=\"1\" /><path clip-path=\"url(#clip380)\" d=\"M 0 0 M47.1298 381.282 L47.1298 377.775 L48.1946 377.775 L48.1946 386.78 L47.1298 386.78 L47.1298 385.808 Q46.7941 386.386 46.2791 386.67 Q45.7698 386.948 45.0522 386.948 Q43.8775 386.948 43.1367 386.01 Q42.4018 385.073 42.4018 383.545 Q42.4018 382.017 43.1367 381.08 Q43.8775 380.142 45.0522 380.142 Q45.7698 380.142 46.2791 380.426 Q46.7941 380.704 47.1298 381.282 M43.5013 383.545 Q43.5013 384.72 43.9816 385.391 Q44.4677 386.057 45.3126 386.057 Q46.1575 386.057 46.6437 385.391 Q47.1298 384.72 47.1298 383.545 Q47.1298 382.37 46.6437 381.705 Q46.1575 381.033 45.3126 381.033 Q44.4677 381.033 43.9816 381.705 Q43.5013 382.37 43.5013 383.545 Z\" fill=\"#000000\" fill-rule=\"evenodd\" fill-opacity=\"1\" /><path clip-path=\"url(#clip380)\" d=\"M 0 0 M49.3115 380.299 L50.3763 380.299 L50.3763 386.78 L49.3115 386.78 L49.3115 380.299 M49.3115 377.775 L50.3763 377.775 L50.3763 379.124 L49.3115 379.124 L49.3115 377.775 Z\" fill=\"#000000\" fill-rule=\"evenodd\" fill-opacity=\"1\" /><path clip-path=\"url(#clip380)\" d=\"M 0 0 M52.5464 378.458 L52.5464 380.299 L54.7397 380.299 L54.7397 381.126 L52.5464 381.126 L52.5464 384.645 Q52.5464 385.437 52.7605 385.663 Q52.9804 385.889 53.6459 385.889 L54.7397 385.889 L54.7397 386.78 L53.6459 386.78 Q52.4133 386.78 51.9446 386.323 Q51.4758 385.86 51.4758 384.645 L51.4758 381.126 L50.6946 381.126 L50.6946 380.299 L51.4758 380.299 L51.4758 378.458 L52.5464 378.458 Z\" fill=\"#000000\" fill-rule=\"evenodd\" fill-opacity=\"1\" /><path clip-path=\"url(#clip380)\" d=\"M 0 0 M55.8566 380.299 L56.9214 380.299 L56.9214 386.78 L55.8566 386.78 L55.8566 380.299 M55.8566 377.775 L56.9214 377.775 L56.9214 379.124 L55.8566 379.124 L55.8566 377.775 Z\" fill=\"#000000\" fill-rule=\"evenodd\" fill-opacity=\"1\" /><path clip-path=\"url(#clip380)\" d=\"M 0 0 M60.5498 381.045 Q59.6934 381.045 59.1957 381.716 Q58.698 382.382 58.698 383.545 Q58.698 384.708 59.1899 385.38 Q59.6876 386.045 60.5498 386.045 Q61.4005 386.045 61.8982 385.374 Q62.3959 384.702 62.3959 383.545 Q62.3959 382.393 61.8982 381.722 Q61.4005 381.045 60.5498 381.045 M60.5498 380.142 Q61.9387 380.142 62.7315 381.045 Q63.5243 381.948 63.5243 383.545 Q63.5243 385.136 62.7315 386.045 Q61.9387 386.948 60.5498 386.948 Q59.1552 386.948 58.3623 386.045 Q57.5753 385.136 57.5753 383.545 Q57.5753 381.948 58.3623 381.045 Q59.1552 380.142 60.5498 380.142 Z\" fill=\"#000000\" fill-rule=\"evenodd\" fill-opacity=\"1\" /><path clip-path=\"url(#clip380)\" d=\"M 0 0 M70.0289 382.868 L70.0289 386.78 L68.9641 386.78 L68.9641 382.903 Q68.9641 381.983 68.6053 381.525 Q68.2465 381.068 67.529 381.068 Q66.6667 381.068 66.169 381.618 Q65.6713 382.168 65.6713 383.117 L65.6713 386.78 L64.6007 386.78 L64.6007 380.299 L65.6713 380.299 L65.6713 381.305 Q66.0533 380.721 66.5683 380.432 Q67.0891 380.142 67.7662 380.142 Q68.8831 380.142 69.456 380.837 Q70.0289 381.525 70.0289 382.868 Z\" fill=\"#000000\" fill-rule=\"evenodd\" fill-opacity=\"1\" /><path clip-path=\"url(#clip380)\" d=\"M 0 0 M72.3032 385.796 L76.3831 385.796 L76.3831 386.78 L70.897 386.78 L70.897 385.796 Q71.5625 385.108 72.7083 383.95 Q73.8599 382.787 74.1551 382.451 Q74.7164 381.821 74.9363 381.386 Q75.162 380.947 75.162 380.524 Q75.162 379.836 74.6759 379.402 Q74.1956 378.968 73.4201 378.968 Q72.8704 378.968 72.2569 379.158 Q71.6493 379.349 70.9549 379.737 L70.9549 378.557 Q71.6609 378.273 72.2743 378.128 Q72.8877 377.984 73.397 377.984 Q74.7396 377.984 75.5382 378.655 Q76.3368 379.326 76.3368 380.449 Q76.3368 380.981 76.1342 381.462 Q75.9375 381.936 75.4109 382.584 Q75.2662 382.752 74.4907 383.557 Q73.7153 384.355 72.3032 385.796 Z\" fill=\"#000000\" fill-rule=\"evenodd\" fill-opacity=\"1\" /><path clip-path=\"url(#clip380)\" d=\"M 0 0 M77.772 385.31 L78.993 385.31 L78.993 386.78 L77.772 386.78 L77.772 385.31 M77.772 380.652 L78.993 380.652 L78.993 382.121 L77.772 382.121 L77.772 380.652 Z\" fill=\"#000000\" fill-rule=\"evenodd\" fill-opacity=\"1\" /><path clip-path=\"url(#clip380)\" d=\"M 0 0 M83.9235 378.14 L85.0925 378.14 L85.0925 386.178 Q85.0925 387.741 84.4965 388.447 Q83.9062 389.153 82.5925 389.153 L82.1469 389.153 L82.1469 388.169 L82.5115 388.169 Q83.287 388.169 83.6053 387.735 Q83.9235 387.301 83.9235 386.178 L83.9235 378.14 Z\" fill=\"#000000\" fill-rule=\"evenodd\" fill-opacity=\"1\" /><path clip-path=\"url(#clip380)\" d=\"M 0 0 M88.721 381.045 Q87.8645 381.045 87.3668 381.716 Q86.8691 382.382 86.8691 383.545 Q86.8691 384.708 87.361 385.38 Q87.8587 386.045 88.721 386.045 Q89.5717 386.045 90.0693 385.374 Q90.567 384.702 90.567 383.545 Q90.567 382.393 90.0693 381.722 Q89.5717 381.045 88.721 381.045 M88.721 380.142 Q90.1099 380.142 90.9027 381.045 Q91.6955 381.948 91.6955 383.545 Q91.6955 385.136 90.9027 386.045 Q90.1099 386.948 88.721 386.948 Q87.3263 386.948 86.5335 386.045 Q85.7465 385.136 85.7465 383.545 Q85.7465 381.948 86.5335 381.045 Q87.3263 380.142 88.721 380.142 Z\" fill=\"#000000\" fill-rule=\"evenodd\" fill-opacity=\"1\" /><path clip-path=\"url(#clip380)\" d=\"M 0 0 M92.7719 377.775 L93.8425 377.775 L93.8425 383.094 L97.0195 380.299 L98.3795 380.299 L94.942 383.331 L98.5242 386.78 L97.1353 386.78 L93.8425 383.614 L93.8425 386.78 L92.7719 386.78 L92.7719 377.775 Z\" fill=\"#000000\" fill-rule=\"evenodd\" fill-opacity=\"1\" /><path clip-path=\"url(#clip380)\" d=\"M 0 0 M104.763 383.273 L104.763 383.794 L99.8667 383.794 Q99.9362 384.893 100.526 385.472 Q101.123 386.045 102.182 386.045 Q102.795 386.045 103.368 385.895 Q103.947 385.744 104.514 385.443 L104.514 386.45 Q103.941 386.693 103.339 386.82 Q102.737 386.948 102.118 386.948 Q100.567 386.948 99.6584 386.045 Q98.7556 385.142 98.7556 383.603 Q98.7556 382.011 99.6121 381.08 Q100.474 380.142 101.933 380.142 Q103.241 380.142 103.999 380.987 Q104.763 381.826 104.763 383.273 M103.698 382.961 Q103.686 382.087 103.206 381.566 Q102.731 381.045 101.944 381.045 Q101.053 381.045 100.515 381.549 Q99.9825 382.052 99.9015 382.966 L103.698 382.961 Z\" fill=\"#000000\" fill-rule=\"evenodd\" fill-opacity=\"1\" /><path clip-path=\"url(#clip380)\" d=\"M 0 0 M110.011 380.489 L110.011 381.496 Q109.56 381.265 109.074 381.149 Q108.588 381.033 108.067 381.033 Q107.274 381.033 106.875 381.277 Q106.481 381.52 106.481 382.006 Q106.481 382.376 106.765 382.59 Q107.048 382.799 107.905 382.989 L108.269 383.07 Q109.404 383.314 109.878 383.759 Q110.359 384.199 110.359 384.992 Q110.359 385.895 109.641 386.421 Q108.929 386.948 107.679 386.948 Q107.158 386.948 106.591 386.844 Q106.03 386.745 105.405 386.543 L105.405 385.443 Q105.995 385.75 106.568 385.906 Q107.141 386.057 107.702 386.057 Q108.455 386.057 108.86 385.802 Q109.265 385.542 109.265 385.073 Q109.265 384.639 108.97 384.407 Q108.68 384.176 107.691 383.962 L107.32 383.875 Q106.331 383.667 105.891 383.238 Q105.451 382.804 105.451 382.052 Q105.451 381.138 106.099 380.64 Q106.747 380.142 107.94 380.142 Q108.53 380.142 109.051 380.229 Q109.572 380.316 110.011 380.489 Z\" fill=\"#000000\" fill-rule=\"evenodd\" fill-opacity=\"1\" /><path clip-path=\"url(#clip380)\" d=\"M 0 0 M529.327 380.547 L529.327 381.543 Q528.875 381.294 528.418 381.172 Q527.967 381.045 527.504 381.045 Q526.468 381.045 525.895 381.705 Q525.322 382.359 525.322 383.545 Q525.322 384.731 525.895 385.391 Q526.468 386.045 527.504 386.045 Q527.967 386.045 528.418 385.923 Q528.875 385.796 529.327 385.547 L529.327 386.531 Q528.881 386.739 528.401 386.844 Q527.926 386.948 527.388 386.948 Q525.924 386.948 525.061 386.028 Q524.199 385.108 524.199 383.545 Q524.199 381.959 525.067 381.051 Q525.941 380.142 527.457 380.142 Q527.949 380.142 528.418 380.246 Q528.887 380.345 529.327 380.547 Z\" fill=\"#000000\" fill-rule=\"evenodd\" fill-opacity=\"1\" /><path clip-path=\"url(#clip380)\" d=\"M 0 0 M532.955 381.045 Q532.098 381.045 531.601 381.716 Q531.103 382.382 531.103 383.545 Q531.103 384.708 531.595 385.38 Q532.093 386.045 532.955 386.045 Q533.806 386.045 534.303 385.374 Q534.801 384.702 534.801 383.545 Q534.801 382.393 534.303 381.722 Q533.806 381.045 532.955 381.045 M532.955 380.142 Q534.344 380.142 535.137 381.045 Q535.929 381.948 535.929 383.545 Q535.929 385.136 535.137 386.045 Q534.344 386.948 532.955 386.948 Q531.56 386.948 530.767 386.045 Q529.98 385.136 529.98 383.545 Q529.98 381.948 530.767 381.045 Q531.56 380.142 532.955 380.142 Z\" fill=\"#000000\" fill-rule=\"evenodd\" fill-opacity=\"1\" /><path clip-path=\"url(#clip380)\" d=\"M 0 0 M542.434 382.868 L542.434 386.78 L541.369 386.78 L541.369 382.903 Q541.369 381.983 541.01 381.525 Q540.652 381.068 539.934 381.068 Q539.072 381.068 538.574 381.618 Q538.076 382.168 538.076 383.117 L538.076 386.78 L537.006 386.78 L537.006 380.299 L538.076 380.299 L538.076 381.305 Q538.458 380.721 538.973 380.432 Q539.494 380.142 540.171 380.142 Q541.288 380.142 541.861 380.837 Q542.434 381.525 542.434 382.868 Z\" fill=\"#000000\" fill-rule=\"evenodd\" fill-opacity=\"1\" /><path clip-path=\"url(#clip380)\" d=\"M 0 0 M547.816 381.282 L547.816 377.775 L548.881 377.775 L548.881 386.78 L547.816 386.78 L547.816 385.808 Q547.48 386.386 546.965 386.67 Q546.456 386.948 545.738 386.948 Q544.564 386.948 543.823 386.01 Q543.088 385.073 543.088 383.545 Q543.088 382.017 543.823 381.08 Q544.564 380.142 545.738 380.142 Q546.456 380.142 546.965 380.426 Q547.48 380.704 547.816 381.282 M544.188 383.545 Q544.188 384.72 544.668 385.391 Q545.154 386.057 545.999 386.057 Q546.844 386.057 547.33 385.391 Q547.816 384.72 547.816 383.545 Q547.816 382.37 547.33 381.705 Q546.844 381.033 545.999 381.033 Q545.154 381.033 544.668 381.705 Q544.188 382.37 544.188 383.545 Z\" fill=\"#000000\" fill-rule=\"evenodd\" fill-opacity=\"1\" /><path clip-path=\"url(#clip380)\" d=\"M 0 0 M549.998 380.299 L551.063 380.299 L551.063 386.78 L549.998 386.78 L549.998 380.299 M549.998 377.775 L551.063 377.775 L551.063 379.124 L549.998 379.124 L549.998 377.775 Z\" fill=\"#000000\" fill-rule=\"evenodd\" fill-opacity=\"1\" /><path clip-path=\"url(#clip380)\" d=\"M 0 0 M553.233 378.458 L553.233 380.299 L555.426 380.299 L555.426 381.126 L553.233 381.126 L553.233 384.645 Q553.233 385.437 553.447 385.663 Q553.667 385.889 554.332 385.889 L555.426 385.889 L555.426 386.78 L554.332 386.78 Q553.1 386.78 552.631 386.323 Q552.162 385.86 552.162 384.645 L552.162 381.126 L551.381 381.126 L551.381 380.299 L552.162 380.299 L552.162 378.458 L553.233 378.458 Z\" fill=\"#000000\" fill-rule=\"evenodd\" fill-opacity=\"1\" /><path clip-path=\"url(#clip380)\" d=\"M 0 0 M556.543 380.299 L557.608 380.299 L557.608 386.78 L556.543 386.78 L556.543 380.299 M556.543 377.775 L557.608 377.775 L557.608 379.124 L556.543 379.124 L556.543 377.775 Z\" fill=\"#000000\" fill-rule=\"evenodd\" fill-opacity=\"1\" /><path clip-path=\"url(#clip380)\" d=\"M 0 0 M561.236 381.045 Q560.38 381.045 559.882 381.716 Q559.384 382.382 559.384 383.545 Q559.384 384.708 559.876 385.38 Q560.374 386.045 561.236 386.045 Q562.087 386.045 562.584 385.374 Q563.082 384.702 563.082 383.545 Q563.082 382.393 562.584 381.722 Q562.087 381.045 561.236 381.045 M561.236 380.142 Q562.625 380.142 563.418 381.045 Q564.211 381.948 564.211 383.545 Q564.211 385.136 563.418 386.045 Q562.625 386.948 561.236 386.948 Q559.841 386.948 559.049 386.045 Q558.262 385.136 558.262 383.545 Q558.262 381.948 559.049 381.045 Q559.841 380.142 561.236 380.142 Z\" fill=\"#000000\" fill-rule=\"evenodd\" fill-opacity=\"1\" /><path clip-path=\"url(#clip380)\" d=\"M 0 0 M570.715 382.868 L570.715 386.78 L569.65 386.78 L569.65 382.903 Q569.65 381.983 569.292 381.525 Q568.933 381.068 568.215 381.068 Q567.353 381.068 566.855 381.618 Q566.358 382.168 566.358 383.117 L566.358 386.78 L565.287 386.78 L565.287 380.299 L566.358 380.299 L566.358 381.305 Q566.74 380.721 567.255 380.432 Q567.775 380.142 568.452 380.142 Q569.569 380.142 570.142 380.837 Q570.715 381.525 570.715 382.868 Z\" fill=\"#000000\" fill-rule=\"evenodd\" fill-opacity=\"1\" /><path clip-path=\"url(#clip380)\" d=\"M 0 0 M572.989 385.796 L577.069 385.796 L577.069 386.78 L571.583 386.78 L571.583 385.796 Q572.249 385.108 573.395 383.95 Q574.546 382.787 574.841 382.451 Q575.403 381.821 575.623 381.386 Q575.848 380.947 575.848 380.524 Q575.848 379.836 575.362 379.402 Q574.882 378.968 574.106 378.968 Q573.557 378.968 572.943 379.158 Q572.336 379.349 571.641 379.737 L571.641 378.557 Q572.347 378.273 572.961 378.128 Q573.574 377.984 574.083 377.984 Q575.426 377.984 576.224 378.655 Q577.023 379.326 577.023 380.449 Q577.023 380.981 576.82 381.462 Q576.624 381.936 576.097 382.584 Q575.952 382.752 575.177 383.557 Q574.402 384.355 572.989 385.796 Z\" fill=\"#000000\" fill-rule=\"evenodd\" fill-opacity=\"1\" /><path clip-path=\"url(#clip380)\" d=\"M 0 0 M578.458 385.31 L579.679 385.31 L579.679 386.78 L578.458 386.78 L578.458 385.31 M578.458 380.652 L579.679 380.652 L579.679 382.121 L578.458 382.121 L578.458 380.652 Z\" fill=\"#000000\" fill-rule=\"evenodd\" fill-opacity=\"1\" /><path clip-path=\"url(#clip380)\" d=\"M 0 0 M587.498 379.292 L585.912 383.591 L589.089 383.591 L587.498 379.292 M586.838 378.14 L588.163 378.14 L591.456 386.78 L590.241 386.78 L589.454 384.564 L585.559 384.564 L584.772 386.78 L583.539 386.78 L586.838 378.14 Z\" fill=\"#000000\" fill-rule=\"evenodd\" fill-opacity=\"1\" /><path clip-path=\"url(#clip380)\" d=\"M 0 0 M596.705 380.489 L596.705 381.496 Q596.253 381.265 595.767 381.149 Q595.281 381.033 594.76 381.033 Q593.967 381.033 593.568 381.277 Q593.175 381.52 593.175 382.006 Q593.175 382.376 593.458 382.59 Q593.742 382.799 594.598 382.989 L594.963 383.07 Q596.097 383.314 596.572 383.759 Q597.052 384.199 597.052 384.992 Q597.052 385.895 596.334 386.421 Q595.622 386.948 594.372 386.948 Q593.852 386.948 593.285 386.844 Q592.723 386.745 592.098 386.543 L592.098 385.443 Q592.688 385.75 593.261 385.906 Q593.834 386.057 594.396 386.057 Q595.148 386.057 595.553 385.802 Q595.958 385.542 595.958 385.073 Q595.958 384.639 595.663 384.407 Q595.374 384.176 594.384 383.962 L594.014 383.875 Q593.024 383.667 592.584 383.238 Q592.144 382.804 592.144 382.052 Q592.144 381.138 592.793 380.64 Q593.441 380.142 594.633 380.142 Q595.223 380.142 595.744 380.229 Q596.265 380.316 596.705 380.489 Z\" fill=\"#000000\" fill-rule=\"evenodd\" fill-opacity=\"1\" /><path clip-path=\"url(#clip380)\" d=\"M 0 0 M602.301 380.489 L602.301 381.496 Q601.849 381.265 601.363 381.149 Q600.877 381.033 600.356 381.033 Q599.563 381.033 599.164 381.277 Q598.771 381.52 598.771 382.006 Q598.771 382.376 599.054 382.59 Q599.338 382.799 600.194 382.989 L600.559 383.07 Q601.693 383.314 602.168 383.759 Q602.648 384.199 602.648 384.992 Q602.648 385.895 601.93 386.421 Q601.218 386.948 599.969 386.948 Q599.448 386.948 598.881 386.844 Q598.319 386.745 597.694 386.543 L597.694 385.443 Q598.284 385.75 598.857 385.906 Q599.43 386.057 599.992 386.057 Q600.744 386.057 601.149 385.802 Q601.554 385.542 601.554 385.073 Q601.554 384.639 601.259 384.407 Q600.97 384.176 599.98 383.962 L599.61 383.875 Q598.62 383.667 598.18 383.238 Q597.741 382.804 597.741 382.052 Q597.741 381.138 598.389 380.64 Q599.037 380.142 600.229 380.142 Q600.819 380.142 601.34 380.229 Q601.861 380.316 602.301 380.489 Z\" fill=\"#000000\" fill-rule=\"evenodd\" fill-opacity=\"1\" /><path clip-path=\"url(#clip380)\" d=\"M 0 0 M606.71 383.522 Q605.42 383.522 604.922 383.817 Q604.425 384.112 604.425 384.824 Q604.425 385.391 604.795 385.727 Q605.171 386.057 605.813 386.057 Q606.699 386.057 607.231 385.432 Q607.769 384.801 607.769 383.759 L607.769 383.522 L606.71 383.522 M608.834 383.082 L608.834 386.78 L607.769 386.78 L607.769 385.796 Q607.405 386.386 606.861 386.67 Q606.317 386.948 605.53 386.948 Q604.534 386.948 603.944 386.392 Q603.36 385.831 603.36 384.893 Q603.36 383.8 604.089 383.244 Q604.824 382.689 606.276 382.689 L607.769 382.689 L607.769 382.584 Q607.769 381.849 607.283 381.45 Q606.803 381.045 605.929 381.045 Q605.374 381.045 604.847 381.178 Q604.32 381.311 603.834 381.577 L603.834 380.594 Q604.419 380.368 604.968 380.258 Q605.518 380.142 606.039 380.142 Q607.445 380.142 608.14 380.871 Q608.834 381.601 608.834 383.082 Z\" fill=\"#000000\" fill-rule=\"evenodd\" fill-opacity=\"1\" /><path clip-path=\"url(#clip380)\" d=\"M 0 0 M609.841 384.222 L609.841 380.299 L610.906 380.299 L610.906 384.182 Q610.906 385.102 611.265 385.565 Q611.624 386.022 612.341 386.022 Q613.203 386.022 613.701 385.472 Q614.205 384.922 614.205 383.973 L614.205 380.299 L615.269 380.299 L615.269 386.78 L614.205 386.78 L614.205 385.785 Q613.817 386.375 613.302 386.664 Q612.793 386.948 612.115 386.948 Q610.999 386.948 610.42 386.253 Q609.841 385.559 609.841 384.222 M612.521 380.142 L612.521 380.142 Z\" fill=\"#000000\" fill-rule=\"evenodd\" fill-opacity=\"1\" /><path clip-path=\"url(#clip380)\" d=\"M 0 0 M616.386 377.775 L617.451 377.775 L617.451 386.78 L616.386 386.78 L616.386 377.775 Z\" fill=\"#000000\" fill-rule=\"evenodd\" fill-opacity=\"1\" /><path clip-path=\"url(#clip380)\" d=\"M 0 0 M619.621 378.458 L619.621 380.299 L621.814 380.299 L621.814 381.126 L619.621 381.126 L619.621 384.645 Q619.621 385.437 619.835 385.663 Q620.055 385.889 620.721 385.889 L621.814 385.889 L621.814 386.78 L620.721 386.78 Q619.488 386.78 619.019 386.323 Q618.551 385.86 618.551 384.645 L618.551 381.126 L617.769 381.126 L617.769 380.299 L618.551 380.299 L618.551 378.458 L619.621 378.458 Z\" fill=\"#000000\" fill-rule=\"evenodd\" fill-opacity=\"1\" /><polyline clip-path=\"url(#clip382)\" style=\"stroke:#000000; stroke-width:0.5; stroke-opacity:0.1; fill:none\" points=\"\n",
       "  51.7537,351.144 588.189,351.144 \n",
       "  \"/>\n",
       "<polyline clip-path=\"url(#clip382)\" style=\"stroke:#000000; stroke-width:0.5; stroke-opacity:0.1; fill:none\" points=\"\n",
       "  51.7537,305.288 588.189,305.288 \n",
       "  \"/>\n",
       "<polyline clip-path=\"url(#clip382)\" style=\"stroke:#000000; stroke-width:0.5; stroke-opacity:0.1; fill:none\" points=\"\n",
       "  51.7537,259.431 588.189,259.431 \n",
       "  \"/>\n",
       "<polyline clip-path=\"url(#clip382)\" style=\"stroke:#000000; stroke-width:0.5; stroke-opacity:0.1; fill:none\" points=\"\n",
       "  51.7537,213.575 588.189,213.575 \n",
       "  \"/>\n",
       "<polyline clip-path=\"url(#clip382)\" style=\"stroke:#000000; stroke-width:0.5; stroke-opacity:0.1; fill:none\" points=\"\n",
       "  51.7537,167.719 588.189,167.719 \n",
       "  \"/>\n",
       "<polyline clip-path=\"url(#clip382)\" style=\"stroke:#000000; stroke-width:0.5; stroke-opacity:0.1; fill:none\" points=\"\n",
       "  51.7537,121.863 588.189,121.863 \n",
       "  \"/>\n",
       "<polyline clip-path=\"url(#clip382)\" style=\"stroke:#000000; stroke-width:0.5; stroke-opacity:0.1; fill:none\" points=\"\n",
       "  51.7537,76.0063 588.189,76.0063 \n",
       "  \"/>\n",
       "<polyline clip-path=\"url(#clip380)\" style=\"stroke:#000000; stroke-width:1; stroke-opacity:1; fill:none\" points=\"\n",
       "  51.7537,371.612 51.7537,30.868 \n",
       "  \"/>\n",
       "<polyline clip-path=\"url(#clip380)\" style=\"stroke:#000000; stroke-width:1; stroke-opacity:1; fill:none\" points=\"\n",
       "  51.7537,351.144 58.1909,351.144 \n",
       "  \"/>\n",
       "<polyline clip-path=\"url(#clip380)\" style=\"stroke:#000000; stroke-width:1; stroke-opacity:1; fill:none\" points=\"\n",
       "  51.7537,305.288 58.1909,305.288 \n",
       "  \"/>\n",
       "<polyline clip-path=\"url(#clip380)\" style=\"stroke:#000000; stroke-width:1; stroke-opacity:1; fill:none\" points=\"\n",
       "  51.7537,259.431 58.1909,259.431 \n",
       "  \"/>\n",
       "<polyline clip-path=\"url(#clip380)\" style=\"stroke:#000000; stroke-width:1; stroke-opacity:1; fill:none\" points=\"\n",
       "  51.7537,213.575 58.1909,213.575 \n",
       "  \"/>\n",
       "<polyline clip-path=\"url(#clip380)\" style=\"stroke:#000000; stroke-width:1; stroke-opacity:1; fill:none\" points=\"\n",
       "  51.7537,167.719 58.1909,167.719 \n",
       "  \"/>\n",
       "<polyline clip-path=\"url(#clip380)\" style=\"stroke:#000000; stroke-width:1; stroke-opacity:1; fill:none\" points=\"\n",
       "  51.7537,121.863 58.1909,121.863 \n",
       "  \"/>\n",
       "<polyline clip-path=\"url(#clip380)\" style=\"stroke:#000000; stroke-width:1; stroke-opacity:1; fill:none\" points=\"\n",
       "  51.7537,76.0063 58.1909,76.0063 \n",
       "  \"/>\n",
       "<path clip-path=\"url(#clip380)\" d=\"M 0 0 M13.2226 351.257 L20.6415 351.257 L20.6415 352.24 L13.2226 352.24 L13.2226 351.257 Z\" fill=\"#000000\" fill-rule=\"evenodd\" fill-opacity=\"1\" /><path clip-path=\"url(#clip380)\" d=\"M 0 0 M25.4505 350.805 Q26.2896 350.985 26.7584 351.552 Q27.2329 352.119 27.2329 352.952 Q27.2329 354.231 26.3533 354.931 Q25.4737 355.632 23.8533 355.632 Q23.3093 355.632 22.7306 355.522 Q22.1577 355.417 21.5443 355.203 L21.5443 354.075 Q22.0304 354.358 22.6091 354.503 Q23.1878 354.648 23.8186 354.648 Q24.9181 354.648 25.491 354.214 Q26.0697 353.78 26.0697 352.952 Q26.0697 352.188 25.5315 351.76 Q24.9991 351.326 24.0443 351.326 L23.0373 351.326 L23.0373 350.365 L24.0906 350.365 Q24.9528 350.365 25.41 350.024 Q25.8672 349.677 25.8672 349.029 Q25.8672 348.363 25.3926 348.01 Q24.9239 347.651 24.0443 347.651 Q23.5639 347.651 23.0142 347.755 Q22.4644 347.86 21.8047 348.08 L21.8047 347.038 Q22.4702 346.853 23.0489 346.76 Q23.6334 346.668 24.1484 346.668 Q25.4794 346.668 26.2549 347.275 Q27.0304 347.877 27.0304 348.907 Q27.0304 349.625 26.6195 350.122 Q26.2086 350.614 25.4505 350.805 Z\" fill=\"#000000\" fill-rule=\"evenodd\" fill-opacity=\"1\" /><path clip-path=\"url(#clip380)\" d=\"M 0 0 M28.2051 346.824 L33.7607 346.824 L33.7607 347.321 L30.6241 355.464 L29.403 355.464 L32.3544 347.808 L28.2051 347.808 L28.2051 346.824 Z\" fill=\"#000000\" fill-rule=\"evenodd\" fill-opacity=\"1\" /><path clip-path=\"url(#clip380)\" d=\"M 0 0 M35.028 353.994 L36.2491 353.994 L36.2491 355.464 L35.028 355.464 L35.028 353.994 Z\" fill=\"#000000\" fill-rule=\"evenodd\" fill-opacity=\"1\" /><path clip-path=\"url(#clip380)\" d=\"M 0 0 M37.528 346.824 L42.1171 346.824 L42.1171 347.808 L38.5986 347.808 L38.5986 349.926 Q38.8532 349.839 39.1078 349.798 Q39.3625 349.752 39.6171 349.752 Q41.0639 349.752 41.9088 350.545 Q42.7537 351.338 42.7537 352.692 Q42.7537 354.086 41.8856 354.862 Q41.0176 355.632 39.4377 355.632 Q38.8937 355.632 38.3266 355.539 Q37.7653 355.446 37.1634 355.261 L37.1634 354.086 Q37.6842 354.37 38.2398 354.509 Q38.7953 354.648 39.4146 354.648 Q40.4157 354.648 41.0002 354.121 Q41.5847 353.595 41.5847 352.692 Q41.5847 351.789 41.0002 351.262 Q40.4157 350.736 39.4146 350.736 Q38.9458 350.736 38.4771 350.84 Q38.0141 350.944 37.528 351.164 L37.528 346.824 Z\" fill=\"#000000\" fill-rule=\"evenodd\" fill-opacity=\"1\" /><path clip-path=\"url(#clip380)\" d=\"M 0 0 M12.9969 305.4 L20.4158 305.4 L20.4158 306.384 L12.9969 306.384 L12.9969 305.4 Z\" fill=\"#000000\" fill-rule=\"evenodd\" fill-opacity=\"1\" /><path clip-path=\"url(#clip380)\" d=\"M 0 0 M25.2248 304.949 Q26.0639 305.128 26.5327 305.696 Q27.0072 306.263 27.0072 307.096 Q27.0072 308.375 26.1276 309.075 Q25.248 309.775 23.6276 309.775 Q23.0836 309.775 22.5049 309.665 Q21.932 309.561 21.3186 309.347 L21.3186 308.219 Q21.8047 308.502 22.3834 308.647 Q22.9621 308.792 23.5929 308.792 Q24.6924 308.792 25.2653 308.358 Q25.844 307.924 25.844 307.096 Q25.844 306.332 25.3058 305.904 Q24.7734 305.47 23.8186 305.47 L22.8116 305.47 L22.8116 304.509 L23.8649 304.509 Q24.7271 304.509 25.1843 304.168 Q25.6415 303.821 25.6415 303.172 Q25.6415 302.507 25.1669 302.154 Q24.6982 301.795 23.8186 301.795 Q23.3383 301.795 22.7885 301.899 Q22.2387 302.003 21.579 302.223 L21.579 301.182 Q22.2445 300.996 22.8232 300.904 Q23.4077 300.811 23.9227 300.811 Q25.2538 300.811 26.0292 301.419 Q26.8047 302.021 26.8047 303.051 Q26.8047 303.768 26.3938 304.266 Q25.9829 304.758 25.2248 304.949 Z\" fill=\"#000000\" fill-rule=\"evenodd\" fill-opacity=\"1\" /><path clip-path=\"url(#clip380)\" d=\"M 0 0 M28.2861 300.968 L32.8752 300.968 L32.8752 301.951 L29.3567 301.951 L29.3567 304.069 Q29.6114 303.983 29.866 303.942 Q30.1206 303.896 30.3753 303.896 Q31.822 303.896 32.6669 304.689 Q33.5118 305.481 33.5118 306.836 Q33.5118 308.23 32.6438 309.006 Q31.7757 309.775 30.1959 309.775 Q29.6519 309.775 29.0847 309.683 Q28.5234 309.59 27.9216 309.405 L27.9216 308.23 Q28.4424 308.514 28.9979 308.653 Q29.5535 308.792 30.1727 308.792 Q31.1739 308.792 31.7583 308.265 Q32.3428 307.738 32.3428 306.836 Q32.3428 305.933 31.7583 305.406 Q31.1739 304.88 30.1727 304.88 Q29.704 304.88 29.2352 304.984 Q28.7723 305.088 28.2861 305.308 L28.2861 300.968 Z\" fill=\"#000000\" fill-rule=\"evenodd\" fill-opacity=\"1\" /><path clip-path=\"url(#clip380)\" d=\"M 0 0 M34.7792 308.138 L36.0002 308.138 L36.0002 309.608 L34.7792 309.608 L34.7792 308.138 Z\" fill=\"#000000\" fill-rule=\"evenodd\" fill-opacity=\"1\" /><path clip-path=\"url(#clip380)\" d=\"M 0 0 M39.7676 301.737 Q38.8648 301.737 38.4076 302.628 Q37.9562 303.514 37.9562 305.296 Q37.9562 307.073 38.4076 307.964 Q38.8648 308.849 39.7676 308.849 Q40.6761 308.849 41.1275 307.964 Q41.5847 307.073 41.5847 305.296 Q41.5847 303.514 41.1275 302.628 Q40.6761 301.737 39.7676 301.737 M39.7676 300.811 Q41.2201 300.811 41.984 301.963 Q42.7537 303.109 42.7537 305.296 Q42.7537 307.478 41.984 308.63 Q41.2201 309.775 39.7676 309.775 Q38.315 309.775 37.5454 308.63 Q36.7815 307.478 36.7815 305.296 Q36.7815 303.109 37.5454 301.963 Q38.315 300.811 39.7676 300.811 Z\" fill=\"#000000\" fill-rule=\"evenodd\" fill-opacity=\"1\" /><path clip-path=\"url(#clip380)\" d=\"M 0 0 M13.3962 259.544 L20.8151 259.544 L20.8151 260.528 L13.3962 260.528 L13.3962 259.544 Z\" fill=\"#000000\" fill-rule=\"evenodd\" fill-opacity=\"1\" /><path clip-path=\"url(#clip380)\" d=\"M 0 0 M25.6241 259.093 Q26.4632 259.272 26.932 259.839 Q27.4065 260.406 27.4065 261.24 Q27.4065 262.519 26.5269 263.219 Q25.6473 263.919 24.0269 263.919 Q23.4829 263.919 22.9042 263.809 Q22.3313 263.705 21.7179 263.491 L21.7179 262.362 Q22.204 262.646 22.7827 262.791 Q23.3614 262.935 23.9922 262.935 Q25.0917 262.935 25.6646 262.501 Q26.2433 262.067 26.2433 261.24 Q26.2433 260.476 25.7051 260.048 Q25.1727 259.614 24.2179 259.614 L23.2109 259.614 L23.2109 258.653 L24.2642 258.653 Q25.1264 258.653 25.5836 258.311 Q26.0408 257.964 26.0408 257.316 Q26.0408 256.651 25.5662 256.298 Q25.0975 255.939 24.2179 255.939 Q23.7376 255.939 23.1878 256.043 Q22.638 256.147 21.9783 256.367 L21.9783 255.325 Q22.6438 255.14 23.2225 255.048 Q23.807 254.955 24.322 254.955 Q25.6531 254.955 26.4285 255.563 Q27.204 256.165 27.204 257.195 Q27.204 257.912 26.7931 258.41 Q26.3822 258.902 25.6241 259.093 Z\" fill=\"#000000\" fill-rule=\"evenodd\" fill-opacity=\"1\" /><path clip-path=\"url(#clip380)\" d=\"M 0 0 M29.6808 262.767 L33.7607 262.767 L33.7607 263.751 L28.2746 263.751 L28.2746 262.767 Q28.9401 262.079 30.0859 260.921 Q31.2375 259.758 31.5327 259.423 Q32.094 258.792 32.3139 258.358 Q32.5396 257.918 32.5396 257.496 Q32.5396 256.807 32.0535 256.373 Q31.5732 255.939 30.7977 255.939 Q30.2479 255.939 29.6345 256.13 Q29.0269 256.321 28.3324 256.708 L28.3324 255.528 Q29.0385 255.244 29.6519 255.1 Q30.2653 254.955 30.7746 254.955 Q32.1171 254.955 32.9157 255.626 Q33.7144 256.298 33.7144 257.42 Q33.7144 257.953 33.5118 258.433 Q33.3151 258.908 32.7884 259.556 Q32.6438 259.724 31.8683 260.528 Q31.0928 261.327 29.6808 262.767 Z\" fill=\"#000000\" fill-rule=\"evenodd\" fill-opacity=\"1\" /><path clip-path=\"url(#clip380)\" d=\"M 0 0 M35.028 262.281 L36.2491 262.281 L36.2491 263.751 L35.028 263.751 L35.028 262.281 Z\" fill=\"#000000\" fill-rule=\"evenodd\" fill-opacity=\"1\" /><path clip-path=\"url(#clip380)\" d=\"M 0 0 M37.528 255.111 L42.1171 255.111 L42.1171 256.095 L38.5986 256.095 L38.5986 258.213 Q38.8532 258.126 39.1078 258.086 Q39.3625 258.04 39.6171 258.04 Q41.0639 258.04 41.9088 258.832 Q42.7537 259.625 42.7537 260.979 Q42.7537 262.374 41.8856 263.149 Q41.0176 263.919 39.4377 263.919 Q38.8937 263.919 38.3266 263.827 Q37.7653 263.734 37.1634 263.549 L37.1634 262.374 Q37.6842 262.658 38.2398 262.796 Q38.7953 262.935 39.4146 262.935 Q40.4157 262.935 41.0002 262.409 Q41.5847 261.882 41.5847 260.979 Q41.5847 260.077 41.0002 259.55 Q40.4157 259.023 39.4146 259.023 Q38.9458 259.023 38.4771 259.127 Q38.0141 259.232 37.528 259.452 L37.528 255.111 Z\" fill=\"#000000\" fill-rule=\"evenodd\" fill-opacity=\"1\" /><path clip-path=\"url(#clip380)\" d=\"M 0 0 M12.748 213.688 L20.167 213.688 L20.167 214.672 L12.748 214.672 L12.748 213.688 Z\" fill=\"#000000\" fill-rule=\"evenodd\" fill-opacity=\"1\" /><path clip-path=\"url(#clip380)\" d=\"M 0 0 M24.976 213.236 Q25.8151 213.416 26.2838 213.983 Q26.7584 214.55 26.7584 215.383 Q26.7584 216.662 25.8787 217.363 Q24.9991 218.063 23.3788 218.063 Q22.8348 218.063 22.2561 217.953 Q21.6832 217.849 21.0697 217.635 L21.0697 216.506 Q21.5559 216.79 22.1346 216.934 Q22.7133 217.079 23.344 217.079 Q24.4436 217.079 25.0165 216.645 Q25.5952 216.211 25.5952 215.383 Q25.5952 214.62 25.057 214.191 Q24.5246 213.757 23.5697 213.757 L22.5628 213.757 L22.5628 212.797 L23.616 212.797 Q24.4783 212.797 24.9355 212.455 Q25.3926 212.108 25.3926 211.46 Q25.3926 210.794 24.9181 210.441 Q24.4494 210.083 23.5697 210.083 Q23.0894 210.083 22.5396 210.187 Q21.9899 210.291 21.3302 210.511 L21.3302 209.469 Q21.9957 209.284 22.5744 209.191 Q23.1589 209.099 23.6739 209.099 Q25.0049 209.099 25.7804 209.706 Q26.5558 210.308 26.5558 211.338 Q26.5558 212.056 26.145 212.554 Q25.7341 213.046 24.976 213.236 Z\" fill=\"#000000\" fill-rule=\"evenodd\" fill-opacity=\"1\" /><path clip-path=\"url(#clip380)\" d=\"M 0 0 M30.5257 210.025 Q29.6229 210.025 29.1658 210.916 Q28.7144 211.801 28.7144 213.584 Q28.7144 215.36 29.1658 216.252 Q29.6229 217.137 30.5257 217.137 Q31.4343 217.137 31.8857 216.252 Q32.3428 215.36 32.3428 213.584 Q32.3428 211.801 31.8857 210.916 Q31.4343 210.025 30.5257 210.025 M30.5257 209.099 Q31.9783 209.099 32.7421 210.25 Q33.5118 211.396 33.5118 213.584 Q33.5118 215.765 32.7421 216.917 Q31.9783 218.063 30.5257 218.063 Q29.0732 218.063 28.3035 216.917 Q27.5396 215.765 27.5396 213.584 Q27.5396 211.396 28.3035 210.25 Q29.0732 209.099 30.5257 209.099 Z\" fill=\"#000000\" fill-rule=\"evenodd\" fill-opacity=\"1\" /><path clip-path=\"url(#clip380)\" d=\"M 0 0 M34.7792 216.425 L36.0002 216.425 L36.0002 217.895 L34.7792 217.895 L34.7792 216.425 Z\" fill=\"#000000\" fill-rule=\"evenodd\" fill-opacity=\"1\" /><path clip-path=\"url(#clip380)\" d=\"M 0 0 M39.7676 210.025 Q38.8648 210.025 38.4076 210.916 Q37.9562 211.801 37.9562 213.584 Q37.9562 215.36 38.4076 216.252 Q38.8648 217.137 39.7676 217.137 Q40.6761 217.137 41.1275 216.252 Q41.5847 215.36 41.5847 213.584 Q41.5847 211.801 41.1275 210.916 Q40.6761 210.025 39.7676 210.025 M39.7676 209.099 Q41.2201 209.099 41.984 210.25 Q42.7537 211.396 42.7537 213.584 Q42.7537 215.765 41.984 216.917 Q41.2201 218.063 39.7676 218.063 Q38.315 218.063 37.5454 216.917 Q36.7815 215.765 36.7815 213.584 Q36.7815 211.396 37.5454 210.25 Q38.315 209.099 39.7676 209.099 Z\" fill=\"#000000\" fill-rule=\"evenodd\" fill-opacity=\"1\" /><path clip-path=\"url(#clip380)\" d=\"M 0 0 M13.4598 167.832 L20.8788 167.832 L20.8788 168.815 L13.4598 168.815 L13.4598 167.832 Z\" fill=\"#000000\" fill-rule=\"evenodd\" fill-opacity=\"1\" /><path clip-path=\"url(#clip380)\" d=\"M 0 0 M23.1531 171.055 L27.2329 171.055 L27.2329 172.039 L21.7468 172.039 L21.7468 171.055 Q22.4123 170.366 23.5582 169.209 Q24.7098 168.046 25.0049 167.71 Q25.5662 167.079 25.7862 166.645 Q26.0118 166.205 26.0118 165.783 Q26.0118 165.094 25.5257 164.66 Q25.0454 164.226 24.27 164.226 Q23.7202 164.226 23.1068 164.417 Q22.4991 164.608 21.8047 164.996 L21.8047 163.815 Q22.5107 163.532 23.1241 163.387 Q23.7376 163.243 24.2468 163.243 Q25.5894 163.243 26.388 163.914 Q27.1866 164.585 27.1866 165.708 Q27.1866 166.24 26.9841 166.721 Q26.7873 167.195 26.2607 167.843 Q26.116 168.011 25.3406 168.815 Q24.5651 169.614 23.1531 171.055 Z\" fill=\"#000000\" fill-rule=\"evenodd\" fill-opacity=\"1\" /><path clip-path=\"url(#clip380)\" d=\"M 0 0 M28.2051 163.399 L33.7607 163.399 L33.7607 163.896 L30.6241 172.039 L29.403 172.039 L32.3544 164.383 L28.2051 164.383 L28.2051 163.399 Z\" fill=\"#000000\" fill-rule=\"evenodd\" fill-opacity=\"1\" /><path clip-path=\"url(#clip380)\" d=\"M 0 0 M35.028 170.569 L36.2491 170.569 L36.2491 172.039 L35.028 172.039 L35.028 170.569 Z\" fill=\"#000000\" fill-rule=\"evenodd\" fill-opacity=\"1\" /><path clip-path=\"url(#clip380)\" d=\"M 0 0 M37.528 163.399 L42.1171 163.399 L42.1171 164.383 L38.5986 164.383 L38.5986 166.501 Q38.8532 166.414 39.1078 166.373 Q39.3625 166.327 39.6171 166.327 Q41.0639 166.327 41.9088 167.12 Q42.7537 167.913 42.7537 169.267 Q42.7537 170.661 41.8856 171.437 Q41.0176 172.207 39.4377 172.207 Q38.8937 172.207 38.3266 172.114 Q37.7653 172.021 37.1634 171.836 L37.1634 170.661 Q37.6842 170.945 38.2398 171.084 Q38.7953 171.223 39.4146 171.223 Q40.4157 171.223 41.0002 170.696 Q41.5847 170.17 41.5847 169.267 Q41.5847 168.364 41.0002 167.837 Q40.4157 167.311 39.4146 167.311 Q38.9458 167.311 38.4771 167.415 Q38.0141 167.519 37.528 167.739 L37.528 163.399 Z\" fill=\"#000000\" fill-rule=\"evenodd\" fill-opacity=\"1\" /><path clip-path=\"url(#clip380)\" d=\"M 0 0 M13.2341 121.975 L20.6531 121.975 L20.6531 122.959 L13.2341 122.959 L13.2341 121.975 Z\" fill=\"#000000\" fill-rule=\"evenodd\" fill-opacity=\"1\" /><path clip-path=\"url(#clip380)\" d=\"M 0 0 M22.9274 125.199 L27.0072 125.199 L27.0072 126.183 L21.5211 126.183 L21.5211 125.199 Q22.1866 124.51 23.3325 123.353 Q24.4841 122.189 24.7792 121.854 Q25.3406 121.223 25.5605 120.789 Q25.7862 120.349 25.7862 119.927 Q25.7862 119.238 25.3 118.804 Q24.8197 118.37 24.0443 118.37 Q23.4945 118.37 22.8811 118.561 Q22.2734 118.752 21.579 119.14 L21.579 117.959 Q22.285 117.676 22.8984 117.531 Q23.5119 117.386 24.0211 117.386 Q25.3637 117.386 26.1623 118.058 Q26.9609 118.729 26.9609 119.852 Q26.9609 120.384 26.7584 120.864 Q26.5616 121.339 26.035 121.987 Q25.8903 122.155 25.1149 122.959 Q24.3394 123.758 22.9274 125.199 Z\" fill=\"#000000\" fill-rule=\"evenodd\" fill-opacity=\"1\" /><path clip-path=\"url(#clip380)\" d=\"M 0 0 M28.2861 117.543 L32.8752 117.543 L32.8752 118.526 L29.3567 118.526 L29.3567 120.644 Q29.6114 120.558 29.866 120.517 Q30.1206 120.471 30.3753 120.471 Q31.822 120.471 32.6669 121.264 Q33.5118 122.056 33.5118 123.411 Q33.5118 124.805 32.6438 125.581 Q31.7757 126.35 30.1959 126.35 Q29.6519 126.35 29.0847 126.258 Q28.5234 126.165 27.9216 125.98 L27.9216 124.805 Q28.4424 125.089 28.9979 125.228 Q29.5535 125.367 30.1727 125.367 Q31.1739 125.367 31.7583 124.84 Q32.3428 124.313 32.3428 123.411 Q32.3428 122.508 31.7583 121.981 Q31.1739 121.455 30.1727 121.455 Q29.704 121.455 29.2352 121.559 Q28.7723 121.663 28.2861 121.883 L28.2861 117.543 Z\" fill=\"#000000\" fill-rule=\"evenodd\" fill-opacity=\"1\" /><path clip-path=\"url(#clip380)\" d=\"M 0 0 M34.7792 124.713 L36.0002 124.713 L36.0002 126.183 L34.7792 126.183 L34.7792 124.713 Z\" fill=\"#000000\" fill-rule=\"evenodd\" fill-opacity=\"1\" /><path clip-path=\"url(#clip380)\" d=\"M 0 0 M39.7676 118.312 Q38.8648 118.312 38.4076 119.203 Q37.9562 120.089 37.9562 121.871 Q37.9562 123.648 38.4076 124.539 Q38.8648 125.424 39.7676 125.424 Q40.6761 125.424 41.1275 124.539 Q41.5847 123.648 41.5847 121.871 Q41.5847 120.089 41.1275 119.203 Q40.6761 118.312 39.7676 118.312 M39.7676 117.386 Q41.2201 117.386 41.984 118.538 Q42.7537 119.684 42.7537 121.871 Q42.7537 124.053 41.984 125.205 Q41.2201 126.35 39.7676 126.35 Q38.315 126.35 37.5454 125.205 Q36.7815 124.053 36.7815 121.871 Q36.7815 119.684 37.5454 118.538 Q38.315 117.386 39.7676 117.386 Z\" fill=\"#000000\" fill-rule=\"evenodd\" fill-opacity=\"1\" /><path clip-path=\"url(#clip380)\" d=\"M 0 0 M13.6334 76.1191 L21.0524 76.1191 L21.0524 77.1029 L13.6334 77.1029 L13.6334 76.1191 Z\" fill=\"#000000\" fill-rule=\"evenodd\" fill-opacity=\"1\" /><path clip-path=\"url(#clip380)\" d=\"M 0 0 M23.3267 79.3425 L27.4065 79.3425 L27.4065 80.3263 L21.9204 80.3263 L21.9204 79.3425 Q22.5859 78.6538 23.7318 77.4964 Q24.8834 76.3332 25.1785 75.9976 Q25.7399 75.3668 25.9598 74.9328 Q26.1855 74.493 26.1855 74.0705 Q26.1855 73.3818 25.6994 72.9478 Q25.219 72.5138 24.4436 72.5138 Q23.8938 72.5138 23.2804 72.7048 Q22.6727 72.8957 21.9783 73.2835 L21.9783 72.1029 Q22.6843 71.8194 23.2977 71.6747 Q23.9112 71.53 24.4204 71.53 Q25.763 71.53 26.5616 72.2013 Q27.3602 72.8726 27.3602 73.9953 Q27.3602 74.5277 27.1577 75.008 Q26.9609 75.4825 26.4343 76.1307 Q26.2896 76.2985 25.5142 77.1029 Q24.7387 77.9015 23.3267 79.3425 Z\" fill=\"#000000\" fill-rule=\"evenodd\" fill-opacity=\"1\" /><path clip-path=\"url(#clip380)\" d=\"M 0 0 M29.6808 79.3425 L33.7607 79.3425 L33.7607 80.3263 L28.2746 80.3263 L28.2746 79.3425 Q28.9401 78.6538 30.0859 77.4964 Q31.2375 76.3332 31.5327 75.9976 Q32.094 75.3668 32.3139 74.9328 Q32.5396 74.493 32.5396 74.0705 Q32.5396 73.3818 32.0535 72.9478 Q31.5732 72.5138 30.7977 72.5138 Q30.2479 72.5138 29.6345 72.7048 Q29.0269 72.8957 28.3324 73.2835 L28.3324 72.1029 Q29.0385 71.8194 29.6519 71.6747 Q30.2653 71.53 30.7746 71.53 Q32.1171 71.53 32.9157 72.2013 Q33.7144 72.8726 33.7144 73.9953 Q33.7144 74.5277 33.5118 75.008 Q33.3151 75.4825 32.7884 76.1307 Q32.6438 76.2985 31.8683 77.1029 Q31.0928 77.9015 29.6808 79.3425 Z\" fill=\"#000000\" fill-rule=\"evenodd\" fill-opacity=\"1\" /><path clip-path=\"url(#clip380)\" d=\"M 0 0 M35.028 78.8564 L36.2491 78.8564 L36.2491 80.3263 L35.028 80.3263 L35.028 78.8564 Z\" fill=\"#000000\" fill-rule=\"evenodd\" fill-opacity=\"1\" /><path clip-path=\"url(#clip380)\" d=\"M 0 0 M37.528 71.6863 L42.1171 71.6863 L42.1171 72.67 L38.5986 72.67 L38.5986 74.7881 Q38.8532 74.7013 39.1078 74.6608 Q39.3625 74.6145 39.6171 74.6145 Q41.0639 74.6145 41.9088 75.4073 Q42.7537 76.2001 42.7537 77.5543 Q42.7537 78.9489 41.8856 79.7244 Q41.0176 80.4941 39.4377 80.4941 Q38.8937 80.4941 38.3266 80.4015 Q37.7653 80.3089 37.1634 80.1237 L37.1634 78.9489 Q37.6842 79.2325 38.2398 79.3714 Q38.7953 79.5103 39.4146 79.5103 Q40.4157 79.5103 41.0002 78.9837 Q41.5847 78.4571 41.5847 77.5543 Q41.5847 76.6515 41.0002 76.1249 Q40.4157 75.5983 39.4146 75.5983 Q38.9458 75.5983 38.4771 75.7024 Q38.0141 75.8066 37.528 76.0265 L37.528 71.6863 Z\" fill=\"#000000\" fill-rule=\"evenodd\" fill-opacity=\"1\" /><path clip-path=\"url(#clip380)\" d=\"M 0 0 M261.735 4.18863 L261.735 6.34574 Q260.702 5.38365 259.527 4.90767 Q258.362 4.43169 257.046 4.43169 Q254.453 4.43169 253.076 6.02167 Q251.698 7.60152 251.698 10.5992 Q251.698 13.5867 253.076 15.1767 Q254.453 16.7566 257.046 16.7566 Q258.362 16.7566 259.527 16.2806 Q260.702 15.8046 261.735 14.8425 L261.735 16.9794 Q260.661 17.7085 259.456 18.0731 Q258.261 18.4377 256.924 18.4377 Q253.491 18.4377 251.516 16.3413 Q249.541 14.2349 249.541 10.5992 Q249.541 6.95338 251.516 4.85703 Q253.491 2.75056 256.924 2.75056 Q258.281 2.75056 259.476 3.11515 Q260.681 3.4696 261.735 4.18863 Z\" fill=\"#000000\" fill-rule=\"evenodd\" fill-opacity=\"1\" /><path clip-path=\"url(#clip380)\" d=\"M 0 0 M268.084 8.10788 Q266.585 8.10788 265.715 9.28265 Q264.844 10.4473 264.844 12.4829 Q264.844 14.5184 265.704 15.6932 Q266.575 16.8578 268.084 16.8578 Q269.573 16.8578 270.444 15.6831 Q271.315 14.5083 271.315 12.4829 Q271.315 10.4675 270.444 9.29277 Q269.573 8.10788 268.084 8.10788 M268.084 6.52803 Q270.515 6.52803 271.902 8.10788 Q273.29 9.68774 273.29 12.4829 Q273.29 15.2679 271.902 16.8578 Q270.515 18.4377 268.084 18.4377 Q265.644 18.4377 264.256 16.8578 Q262.879 15.2679 262.879 12.4829 Q262.879 9.68774 264.256 8.10788 Q265.644 6.52803 268.084 6.52803 Z\" fill=\"#000000\" fill-rule=\"evenodd\" fill-opacity=\"1\" /><path clip-path=\"url(#clip380)\" d=\"M 0 0 M284.946 12.0069 L284.946 12.9183 L276.379 12.9183 Q276.5 14.8425 277.533 15.8552 Q278.576 16.8578 280.429 16.8578 Q281.503 16.8578 282.506 16.5945 Q283.518 16.3312 284.511 15.8046 L284.511 17.5667 Q283.508 17.9921 282.455 18.2149 Q281.402 18.4377 280.318 18.4377 Q277.604 18.4377 276.014 16.8578 Q274.434 15.278 274.434 12.5841 Q274.434 9.79914 275.933 8.16865 Q277.442 6.52803 279.994 6.52803 Q282.283 6.52803 283.609 8.00661 Q284.946 9.47506 284.946 12.0069 M283.083 11.46 Q283.063 9.93079 282.222 9.01934 Q281.392 8.10788 280.014 8.10788 Q278.455 8.10788 277.513 8.98896 Q276.581 9.87003 276.439 11.4701 L283.083 11.46 Z\" fill=\"#000000\" fill-rule=\"evenodd\" fill-opacity=\"1\" /><path clip-path=\"url(#clip380)\" d=\"M 0 0 M292.643 2.38598 L292.643 3.93545 L290.861 3.93545 Q289.858 3.93545 289.463 4.34054 Q289.078 4.74563 289.078 5.79887 L289.078 6.80147 L292.147 6.80147 L292.147 8.24967 L289.078 8.24967 L289.078 18.144 L287.205 18.144 L287.205 8.24967 L285.422 8.24967 L285.422 6.80147 L287.205 6.80147 L287.205 6.01154 Q287.205 4.11774 288.086 3.25693 Q288.967 2.38598 290.881 2.38598 L292.643 2.38598 Z\" fill=\"#000000\" fill-rule=\"evenodd\" fill-opacity=\"1\" /><path clip-path=\"url(#clip380)\" d=\"M 0 0 M300.34 2.38598 L300.34 3.93545 L298.557 3.93545 Q297.555 3.93545 297.16 4.34054 Q296.775 4.74563 296.775 5.79887 L296.775 6.80147 L299.843 6.80147 L299.843 8.24967 L296.775 8.24967 L296.775 18.144 L294.901 18.144 L294.901 8.24967 L293.119 8.24967 L293.119 6.80147 L294.901 6.80147 L294.901 6.01154 Q294.901 4.11774 295.782 3.25693 Q296.663 2.38598 298.577 2.38598 L300.34 2.38598 Z\" fill=\"#000000\" fill-rule=\"evenodd\" fill-opacity=\"1\" /><path clip-path=\"url(#clip380)\" d=\"M 0 0 M302.294 6.80147 L304.158 6.80147 L304.158 18.144 L302.294 18.144 L302.294 6.80147 M302.294 2.38598 L304.158 2.38598 L304.158 4.74563 L302.294 4.74563 L302.294 2.38598 Z\" fill=\"#000000\" fill-rule=\"evenodd\" fill-opacity=\"1\" /><path clip-path=\"url(#clip380)\" d=\"M 0 0 M314.275 7.23694 L314.275 8.97883 Q313.485 8.54336 312.685 8.33068 Q311.895 8.10788 311.085 8.10788 Q309.272 8.10788 308.269 9.26239 Q307.267 10.4068 307.267 12.4829 Q307.267 14.5589 308.269 15.7135 Q309.272 16.8578 311.085 16.8578 Q311.895 16.8578 312.685 16.6452 Q313.485 16.4224 314.275 15.9869 L314.275 17.7085 Q313.495 18.0731 312.654 18.2554 Q311.824 18.4377 310.882 18.4377 Q308.32 18.4377 306.811 16.8275 Q305.302 15.2172 305.302 12.4829 Q305.302 9.70799 306.821 8.11801 Q308.35 6.52803 311.004 6.52803 Q311.864 6.52803 312.685 6.71032 Q313.505 6.88249 314.275 7.23694 Z\" fill=\"#000000\" fill-rule=\"evenodd\" fill-opacity=\"1\" /><path clip-path=\"url(#clip380)\" d=\"M 0 0 M316.229 6.80147 L318.093 6.80147 L318.093 18.144 L316.229 18.144 L316.229 6.80147 M316.229 2.38598 L318.093 2.38598 L318.093 4.74563 L316.229 4.74563 L316.229 2.38598 Z\" fill=\"#000000\" fill-rule=\"evenodd\" fill-opacity=\"1\" /><path clip-path=\"url(#clip380)\" d=\"M 0 0 M329.749 12.0069 L329.749 12.9183 L321.182 12.9183 Q321.303 14.8425 322.336 15.8552 Q323.379 16.8578 325.232 16.8578 Q326.306 16.8578 327.309 16.5945 Q328.321 16.3312 329.314 15.8046 L329.314 17.5667 Q328.311 17.9921 327.258 18.2149 Q326.205 18.4377 325.121 18.4377 Q322.407 18.4377 320.817 16.8578 Q319.237 15.278 319.237 12.5841 Q319.237 9.79914 320.736 8.16865 Q322.245 6.52803 324.797 6.52803 Q327.086 6.52803 328.412 8.00661 Q329.749 9.47506 329.749 12.0069 M327.886 11.46 Q327.866 9.93079 327.025 9.01934 Q326.195 8.10788 324.817 8.10788 Q323.258 8.10788 322.316 8.98896 Q321.384 9.87003 321.242 11.4701 L327.886 11.46 Z\" fill=\"#000000\" fill-rule=\"evenodd\" fill-opacity=\"1\" /><path clip-path=\"url(#clip380)\" d=\"M 0 0 M341.132 11.298 L341.132 18.144 L339.269 18.144 L339.269 11.3587 Q339.269 9.7485 338.641 8.94845 Q338.013 8.14839 336.757 8.14839 Q335.248 8.14839 334.377 9.11048 Q333.506 10.0726 333.506 11.7334 L333.506 18.144 L331.633 18.144 L331.633 6.80147 L333.506 6.80147 L333.506 8.56361 Q334.175 7.54076 335.076 7.0344 Q335.988 6.52803 337.172 6.52803 Q339.127 6.52803 340.13 7.7433 Q341.132 8.94845 341.132 11.298 Z\" fill=\"#000000\" fill-rule=\"evenodd\" fill-opacity=\"1\" /><path clip-path=\"url(#clip380)\" d=\"M 0 0 M344.93 3.581 L344.93 6.80147 L348.768 6.80147 L348.768 8.24967 L344.93 8.24967 L344.93 14.407 Q344.93 15.7945 345.305 16.1894 Q345.689 16.5844 346.854 16.5844 L348.768 16.5844 L348.768 18.144 L346.854 18.144 Q344.697 18.144 343.877 17.3439 Q343.056 16.5338 343.056 14.407 L343.056 8.24967 L341.689 8.24967 L341.689 6.80147 L343.056 6.80147 L343.056 3.581 L344.93 3.581 Z\" fill=\"#000000\" fill-rule=\"evenodd\" fill-opacity=\"1\" /><path clip-path=\"url(#clip380)\" d=\"M 0 0 M359.118 16.4426 L359.118 22.4582 L357.245 22.4582 L357.245 6.80147 L359.118 6.80147 L359.118 8.5231 Q359.706 7.51038 360.597 7.02427 Q361.498 6.52803 362.744 6.52803 Q364.81 6.52803 366.096 8.16865 Q367.392 9.80926 367.392 12.4829 Q367.392 15.1565 366.096 16.7971 Q364.81 18.4377 362.744 18.4377 Q361.498 18.4377 360.597 17.9516 Q359.706 17.4553 359.118 16.4426 M365.458 12.4829 Q365.458 10.427 364.607 9.26239 Q363.767 8.08763 362.288 8.08763 Q360.809 8.08763 359.959 9.26239 Q359.118 10.427 359.118 12.4829 Q359.118 14.5387 359.959 15.7135 Q360.809 16.8781 362.288 16.8781 Q363.767 16.8781 364.607 15.7135 Q365.458 14.5387 365.458 12.4829 Z\" fill=\"#000000\" fill-rule=\"evenodd\" fill-opacity=\"1\" /><path clip-path=\"url(#clip380)\" d=\"M 0 0 M369.347 2.38598 L371.21 2.38598 L371.21 18.144 L369.347 18.144 L369.347 2.38598 Z\" fill=\"#000000\" fill-rule=\"evenodd\" fill-opacity=\"1\" /><path clip-path=\"url(#clip380)\" d=\"M 0 0 M377.56 8.10788 Q376.061 8.10788 375.19 9.28265 Q374.319 10.4473 374.319 12.4829 Q374.319 14.5184 375.18 15.6932 Q376.051 16.8578 377.56 16.8578 Q379.049 16.8578 379.92 15.6831 Q380.791 14.5083 380.791 12.4829 Q380.791 10.4675 379.92 9.29277 Q379.049 8.10788 377.56 8.10788 M377.56 6.52803 Q379.991 6.52803 381.378 8.10788 Q382.765 9.68774 382.765 12.4829 Q382.765 15.2679 381.378 16.8578 Q379.991 18.4377 377.56 18.4377 Q375.119 18.4377 373.732 16.8578 Q372.355 15.2679 372.355 12.4829 Q372.355 9.68774 373.732 8.10788 Q375.119 6.52803 377.56 6.52803 Z\" fill=\"#000000\" fill-rule=\"evenodd\" fill-opacity=\"1\" /><path clip-path=\"url(#clip380)\" d=\"M 0 0 M386.563 3.581 L386.563 6.80147 L390.401 6.80147 L390.401 8.24967 L386.563 8.24967 L386.563 14.407 Q386.563 15.7945 386.938 16.1894 Q387.323 16.5844 388.487 16.5844 L390.401 16.5844 L390.401 18.144 L388.487 18.144 Q386.33 18.144 385.51 17.3439 Q384.69 16.5338 384.69 14.407 L384.69 8.24967 L383.322 8.24967 L383.322 6.80147 L384.69 6.80147 L384.69 3.581 L386.563 3.581 Z\" fill=\"#000000\" fill-rule=\"evenodd\" fill-opacity=\"1\" /><polyline clip-path=\"url(#clip382)\" style=\"stroke:#000000; stroke-width:1; stroke-opacity:1; fill:none\" points=\"\n",
       "  66.9358,175.611 66.9358,40.5117 \n",
       "  \"/>\n",
       "<polyline clip-path=\"url(#clip382)\" style=\"stroke:#000000; stroke-width:1; stroke-opacity:1; fill:none\" points=\"\n",
       "  573.007,361.968 573.007,227.966 \n",
       "  \"/>\n",
       "<line clip-path=\"url(#clip382)\" x1=\"70.9358\" y1=\"175.611\" x2=\"62.9358\" y2=\"175.611\" style=\"stroke:#000000; stroke-width:0.8; stroke-opacity:1\"/>\n",
       "<line clip-path=\"url(#clip382)\" x1=\"70.9358\" y1=\"40.5117\" x2=\"62.9358\" y2=\"40.5117\" style=\"stroke:#000000; stroke-width:0.8; stroke-opacity:1\"/>\n",
       "<line clip-path=\"url(#clip382)\" x1=\"577.007\" y1=\"361.968\" x2=\"569.007\" y2=\"361.968\" style=\"stroke:#000000; stroke-width:0.8; stroke-opacity:1\"/>\n",
       "<line clip-path=\"url(#clip382)\" x1=\"577.007\" y1=\"227.966\" x2=\"569.007\" y2=\"227.966\" style=\"stroke:#000000; stroke-width:0.8; stroke-opacity:1\"/>\n",
       "<circle clip-path=\"url(#clip382)\" cx=\"66.9358\" cy=\"108.061\" r=\"3\" fill=\"#009af9\" fill-rule=\"evenodd\" fill-opacity=\"1\" stroke=\"#000000\" stroke-opacity=\"1\" stroke-width=\"0.8\"/>\n",
       "<circle clip-path=\"url(#clip382)\" cx=\"573.007\" cy=\"294.967\" r=\"3\" fill=\"#009af9\" fill-rule=\"evenodd\" fill-opacity=\"1\" stroke=\"#000000\" stroke-opacity=\"1\" stroke-width=\"0.8\"/>\n",
       "<path clip-path=\"url(#clip380)\" d=\"\n",
       "M497.949 72.4662 L570.308 72.4662 L570.308 42.2262 L497.949 42.2262  Z\n",
       "  \" fill=\"#ffffff\" fill-rule=\"evenodd\" fill-opacity=\"1\"/>\n",
       "<polyline clip-path=\"url(#clip380)\" style=\"stroke:#000000; stroke-width:1; stroke-opacity:1; fill:none\" points=\"\n",
       "  497.949,72.4662 570.308,72.4662 570.308,42.2262 497.949,42.2262 497.949,72.4662 \n",
       "  \"/>\n",
       "<circle clip-path=\"url(#clip380)\" cx=\"521.791\" cy=\"57.3462\" r=\"5\" fill=\"#009af9\" fill-rule=\"evenodd\" fill-opacity=\"1\" stroke=\"#000000\" stroke-opacity=\"1\" stroke-width=\"1.28\"/>\n",
       "<path clip-path=\"url(#clip380)\" d=\"M 0 0 M549.093 62.268 Q548.642 63.4254 548.213 63.7784 Q547.785 64.1314 547.068 64.1314 L546.217 64.1314 L546.217 63.2402 L546.842 63.2402 Q547.282 63.2402 547.525 63.0319 Q547.768 62.8236 548.063 62.0481 L548.254 61.562 L545.632 55.1847 L546.761 55.1847 L548.786 60.2541 L550.812 55.1847 L551.94 55.1847 L549.093 62.268 Z\" fill=\"#000000\" fill-rule=\"evenodd\" fill-opacity=\"1\" /><path clip-path=\"url(#clip380)\" d=\"M 0 0 M553.41 60.6824 L555.32 60.6824 L555.32 54.091 L553.242 54.5076 L553.242 53.4428 L555.308 53.0262 L556.477 53.0262 L556.477 60.6824 L558.387 60.6824 L558.387 61.6662 L553.41 61.6662 L553.41 60.6824 Z\" fill=\"#000000\" fill-rule=\"evenodd\" fill-opacity=\"1\" /></svg>\n"
      ]
     },
     "execution_count": 68,
     "metadata": {},
     "output_type": "execute_result"
    }
   ],
   "source": [
    "coefplot(m1a)"
   ]
  },
  {
   "cell_type": "code",
   "execution_count": 78,
   "metadata": {},
   "outputs": [
    {
     "data": {
      "image/svg+xml": [
       "<?xml version=\"1.0\" encoding=\"utf-8\"?>\n",
       "<svg xmlns=\"http://www.w3.org/2000/svg\" xmlns:xlink=\"http://www.w3.org/1999/xlink\" width=\"400\" height=\"400\" viewBox=\"0 0 1600 1600\">\n",
       "<defs>\n",
       "  <clipPath id=\"clip660\">\n",
       "    <rect x=\"0\" y=\"0\" width=\"1600\" height=\"1600\"/>\n",
       "  </clipPath>\n",
       "</defs>\n",
       "<path clip-path=\"url(#clip660)\" d=\"\n",
       "M0 1600 L1600 1600 L1600 0 L0 0  Z\n",
       "  \" fill=\"#ffffff\" fill-rule=\"evenodd\" fill-opacity=\"1\"/>\n",
       "<defs>\n",
       "  <clipPath id=\"clip661\">\n",
       "    <rect x=\"320\" y=\"160\" width=\"1121\" height=\"1121\"/>\n",
       "  </clipPath>\n",
       "</defs>\n",
       "<path clip-path=\"url(#clip660)\" d=\"\n",
       "M61.7537 1555.29 L1588.19 1555.29 L1588.19 38.428 L61.7537 38.428  Z\n",
       "  \" fill=\"#ffffff\" fill-rule=\"evenodd\" fill-opacity=\"1\"/>\n",
       "<defs>\n",
       "  <clipPath id=\"clip662\">\n",
       "    <rect x=\"61\" y=\"38\" width=\"1527\" height=\"1518\"/>\n",
       "  </clipPath>\n",
       "</defs>\n",
       "<polyline clip-path=\"url(#clip662)\" style=\"stroke:#000000; stroke-width:0.5; stroke-opacity:0.1; fill:none\" points=\"\n",
       "  104.955,1555.29 104.955,38.428 \n",
       "  \"/>\n",
       "<polyline clip-path=\"url(#clip662)\" style=\"stroke:#000000; stroke-width:0.5; stroke-opacity:0.1; fill:none\" points=\"\n",
       "  1544.99,1555.29 1544.99,38.428 \n",
       "  \"/>\n",
       "<polyline clip-path=\"url(#clip660)\" style=\"stroke:#000000; stroke-width:1; stroke-opacity:1; fill:none\" points=\"\n",
       "  61.7537,1555.29 1588.19,1555.29 \n",
       "  \"/>\n",
       "<polyline clip-path=\"url(#clip660)\" style=\"stroke:#000000; stroke-width:1; stroke-opacity:1; fill:none\" points=\"\n",
       "  104.955,1555.29 104.955,1537.09 \n",
       "  \"/>\n",
       "<polyline clip-path=\"url(#clip660)\" style=\"stroke:#000000; stroke-width:1; stroke-opacity:1; fill:none\" points=\"\n",
       "  1544.99,1555.29 1544.99,1537.09 \n",
       "  \"/>\n",
       "<path clip-path=\"url(#clip660)\" d=\"M 0 0 M66.6591 1572.23 L66.6591 1573.22 Q66.2078 1572.97 65.7506 1572.85 Q65.2992 1572.73 64.8362 1572.73 Q63.8004 1572.73 63.2275 1573.38 Q62.6545 1574.04 62.6545 1575.23 Q62.6545 1576.41 63.2275 1577.07 Q63.8004 1577.73 64.8362 1577.73 Q65.2992 1577.73 65.7506 1577.6 Q66.2078 1577.48 66.6591 1577.23 L66.6591 1578.21 Q66.2135 1578.42 65.7332 1578.52 Q65.2587 1578.63 64.7205 1578.63 Q63.2564 1578.63 62.3941 1577.71 Q61.5319 1576.79 61.5319 1575.23 Q61.5319 1573.64 62.3999 1572.73 Q63.2737 1571.82 64.7899 1571.82 Q65.2818 1571.82 65.7506 1571.93 Q66.2193 1572.02 66.6591 1572.23 Z\" fill=\"#000000\" fill-rule=\"evenodd\" fill-opacity=\"1\" /><path clip-path=\"url(#clip660)\" d=\"M 0 0 M70.2876 1572.73 Q69.4311 1572.73 68.9334 1573.4 Q68.4358 1574.06 68.4358 1575.23 Q68.4358 1576.39 68.9277 1577.06 Q69.4253 1577.73 70.2876 1577.73 Q71.1383 1577.73 71.636 1577.05 Q72.1337 1576.38 72.1337 1575.23 Q72.1337 1574.07 71.636 1573.4 Q71.1383 1572.73 70.2876 1572.73 M70.2876 1571.82 Q71.6765 1571.82 72.4693 1572.73 Q73.2621 1573.63 73.2621 1575.23 Q73.2621 1576.82 72.4693 1577.73 Q71.6765 1578.63 70.2876 1578.63 Q68.8929 1578.63 68.1001 1577.73 Q67.3131 1576.82 67.3131 1575.23 Q67.3131 1573.63 68.1001 1572.73 Q68.8929 1571.82 70.2876 1571.82 Z\" fill=\"#000000\" fill-rule=\"evenodd\" fill-opacity=\"1\" /><path clip-path=\"url(#clip660)\" d=\"M 0 0 M79.7667 1574.55 L79.7667 1578.46 L78.7019 1578.46 L78.7019 1574.58 Q78.7019 1573.66 78.3431 1573.21 Q77.9843 1572.75 77.2667 1572.75 Q76.4045 1572.75 75.9068 1573.3 Q75.4091 1573.85 75.4091 1574.8 L75.4091 1578.46 L74.3385 1578.46 L74.3385 1571.98 L75.4091 1571.98 L75.4091 1572.99 Q75.791 1572.4 76.3061 1572.11 Q76.8269 1571.82 77.504 1571.82 Q78.6209 1571.82 79.1938 1572.52 Q79.7667 1573.21 79.7667 1574.55 Z\" fill=\"#000000\" fill-rule=\"evenodd\" fill-opacity=\"1\" /><path clip-path=\"url(#clip660)\" d=\"M 0 0 M85.1486 1572.96 L85.1486 1569.46 L86.2134 1569.46 L86.2134 1578.46 L85.1486 1578.46 L85.1486 1577.49 Q84.813 1578.07 84.2979 1578.35 Q83.7887 1578.63 83.0711 1578.63 Q81.8963 1578.63 81.1556 1577.69 Q80.4206 1576.75 80.4206 1575.23 Q80.4206 1573.7 81.1556 1572.76 Q81.8963 1571.82 83.0711 1571.82 Q83.7887 1571.82 84.2979 1572.11 Q84.813 1572.38 85.1486 1572.96 M81.5202 1575.23 Q81.5202 1576.4 82.0005 1577.07 Q82.4866 1577.74 83.3315 1577.74 Q84.1764 1577.74 84.6625 1577.07 Q85.1486 1576.4 85.1486 1575.23 Q85.1486 1574.05 84.6625 1573.38 Q84.1764 1572.71 83.3315 1572.71 Q82.4866 1572.71 82.0005 1573.38 Q81.5202 1574.05 81.5202 1575.23 Z\" fill=\"#000000\" fill-rule=\"evenodd\" fill-opacity=\"1\" /><path clip-path=\"url(#clip660)\" d=\"M 0 0 M87.3303 1571.98 L88.3951 1571.98 L88.3951 1578.46 L87.3303 1578.46 L87.3303 1571.98 M87.3303 1569.46 L88.3951 1569.46 L88.3951 1570.8 L87.3303 1570.8 L87.3303 1569.46 Z\" fill=\"#000000\" fill-rule=\"evenodd\" fill-opacity=\"1\" /><path clip-path=\"url(#clip660)\" d=\"M 0 0 M90.5653 1570.14 L90.5653 1571.98 L92.7585 1571.98 L92.7585 1572.81 L90.5653 1572.81 L90.5653 1576.32 Q90.5653 1577.12 90.7794 1577.34 Q90.9993 1577.57 91.6648 1577.57 L92.7585 1577.57 L92.7585 1578.46 L91.6648 1578.46 Q90.4322 1578.46 89.9634 1578 Q89.4947 1577.54 89.4947 1576.32 L89.4947 1572.81 L88.7134 1572.81 L88.7134 1571.98 L89.4947 1571.98 L89.4947 1570.14 L90.5653 1570.14 Z\" fill=\"#000000\" fill-rule=\"evenodd\" fill-opacity=\"1\" /><path clip-path=\"url(#clip660)\" d=\"M 0 0 M93.8754 1571.98 L94.9402 1571.98 L94.9402 1578.46 L93.8754 1578.46 L93.8754 1571.98 M93.8754 1569.46 L94.9402 1569.46 L94.9402 1570.8 L93.8754 1570.8 L93.8754 1569.46 Z\" fill=\"#000000\" fill-rule=\"evenodd\" fill-opacity=\"1\" /><path clip-path=\"url(#clip660)\" d=\"M 0 0 M98.5687 1572.73 Q97.7122 1572.73 97.2145 1573.4 Q96.7169 1574.06 96.7169 1575.23 Q96.7169 1576.39 97.2087 1577.06 Q97.7064 1577.73 98.5687 1577.73 Q99.4194 1577.73 99.9171 1577.05 Q100.415 1576.38 100.415 1575.23 Q100.415 1574.07 99.9171 1573.4 Q99.4194 1572.73 98.5687 1572.73 M98.5687 1571.82 Q99.9576 1571.82 100.75 1572.73 Q101.543 1573.63 101.543 1575.23 Q101.543 1576.82 100.75 1577.73 Q99.9576 1578.63 98.5687 1578.63 Q97.174 1578.63 96.3812 1577.73 Q95.5942 1576.82 95.5942 1575.23 Q95.5942 1573.63 96.3812 1572.73 Q97.174 1571.82 98.5687 1571.82 Z\" fill=\"#000000\" fill-rule=\"evenodd\" fill-opacity=\"1\" /><path clip-path=\"url(#clip660)\" d=\"M 0 0 M108.048 1574.55 L108.048 1578.46 L106.983 1578.46 L106.983 1574.58 Q106.983 1573.66 106.624 1573.21 Q106.265 1572.75 105.548 1572.75 Q104.686 1572.75 104.188 1573.3 Q103.69 1573.85 103.69 1574.8 L103.69 1578.46 L102.62 1578.46 L102.62 1571.98 L103.69 1571.98 L103.69 1572.99 Q104.072 1572.4 104.587 1572.11 Q105.108 1571.82 105.785 1571.82 Q106.902 1571.82 107.475 1572.52 Q108.048 1573.21 108.048 1574.55 Z\" fill=\"#000000\" fill-rule=\"evenodd\" fill-opacity=\"1\" /><path clip-path=\"url(#clip660)\" d=\"M 0 0 M110.322 1577.48 L114.402 1577.48 L114.402 1578.46 L108.916 1578.46 L108.916 1577.48 Q109.581 1576.79 110.727 1575.63 Q111.879 1574.47 112.174 1574.13 Q112.735 1573.5 112.955 1573.07 Q113.181 1572.63 113.181 1572.2 Q113.181 1571.52 112.695 1571.08 Q112.214 1570.65 111.439 1570.65 Q110.889 1570.65 110.276 1570.84 Q109.668 1571.03 108.974 1571.42 L108.974 1570.24 Q109.68 1569.95 110.293 1569.81 Q110.907 1569.66 111.416 1569.66 Q112.758 1569.66 113.557 1570.34 Q114.356 1571.01 114.356 1572.13 Q114.356 1572.66 114.153 1573.14 Q113.956 1573.62 113.43 1574.26 Q113.285 1574.43 112.51 1575.24 Q111.734 1576.04 110.322 1577.48 Z\" fill=\"#000000\" fill-rule=\"evenodd\" fill-opacity=\"1\" /><path clip-path=\"url(#clip660)\" d=\"M 0 0 M115.791 1576.99 L117.012 1576.99 L117.012 1578.46 L115.791 1578.46 L115.791 1576.99 M115.791 1572.33 L117.012 1572.33 L117.012 1573.8 L115.791 1573.8 L115.791 1572.33 Z\" fill=\"#000000\" fill-rule=\"evenodd\" fill-opacity=\"1\" /><path clip-path=\"url(#clip660)\" d=\"M 0 0 M121.942 1569.82 L123.111 1569.82 L123.111 1577.86 Q123.111 1579.42 122.515 1580.13 Q121.925 1580.83 120.611 1580.83 L120.166 1580.83 L120.166 1579.85 L120.53 1579.85 Q121.306 1579.85 121.624 1579.41 Q121.942 1578.98 121.942 1577.86 L121.942 1569.82 Z\" fill=\"#000000\" fill-rule=\"evenodd\" fill-opacity=\"1\" /><path clip-path=\"url(#clip660)\" d=\"M 0 0 M126.74 1572.73 Q125.883 1572.73 125.386 1573.4 Q124.888 1574.06 124.888 1575.23 Q124.888 1576.39 125.38 1577.06 Q125.878 1577.73 126.74 1577.73 Q127.591 1577.73 128.088 1577.05 Q128.586 1576.38 128.586 1575.23 Q128.586 1574.07 128.088 1573.4 Q127.591 1572.73 126.74 1572.73 M126.74 1571.82 Q128.129 1571.82 128.922 1572.73 Q129.714 1573.63 129.714 1575.23 Q129.714 1576.82 128.922 1577.73 Q128.129 1578.63 126.74 1578.63 Q125.345 1578.63 124.552 1577.73 Q123.765 1576.82 123.765 1575.23 Q123.765 1573.63 124.552 1572.73 Q125.345 1571.82 126.74 1571.82 Z\" fill=\"#000000\" fill-rule=\"evenodd\" fill-opacity=\"1\" /><path clip-path=\"url(#clip660)\" d=\"M 0 0 M130.791 1569.46 L131.861 1569.46 L131.861 1574.77 L135.038 1571.98 L136.398 1571.98 L132.961 1575.01 L136.543 1578.46 L135.154 1578.46 L131.861 1575.29 L131.861 1578.46 L130.791 1578.46 L130.791 1569.46 Z\" fill=\"#000000\" fill-rule=\"evenodd\" fill-opacity=\"1\" /><path clip-path=\"url(#clip660)\" d=\"M 0 0 M142.781 1574.95 L142.781 1575.47 L137.886 1575.47 Q137.955 1576.57 138.545 1577.15 Q139.141 1577.73 140.2 1577.73 Q140.814 1577.73 141.387 1577.57 Q141.965 1577.42 142.533 1577.12 L142.533 1578.13 Q141.96 1578.37 141.358 1578.5 Q140.756 1578.63 140.137 1578.63 Q138.586 1578.63 137.677 1577.73 Q136.775 1576.82 136.775 1575.28 Q136.775 1573.69 137.631 1572.76 Q138.493 1571.82 139.952 1571.82 Q141.259 1571.82 142.018 1572.67 Q142.781 1573.51 142.781 1574.95 M141.717 1574.64 Q141.705 1573.77 141.225 1573.25 Q140.75 1572.73 139.963 1572.73 Q139.072 1572.73 138.534 1573.23 Q138.001 1573.73 137.92 1574.65 L141.717 1574.64 Z\" fill=\"#000000\" fill-rule=\"evenodd\" fill-opacity=\"1\" /><path clip-path=\"url(#clip660)\" d=\"M 0 0 M148.03 1572.17 L148.03 1573.18 Q147.579 1572.94 147.093 1572.83 Q146.607 1572.71 146.086 1572.71 Q145.293 1572.71 144.894 1572.96 Q144.5 1573.2 144.5 1573.69 Q144.5 1574.06 144.784 1574.27 Q145.067 1574.48 145.924 1574.67 L146.288 1574.75 Q147.423 1574.99 147.897 1575.44 Q148.377 1575.88 148.377 1576.67 Q148.377 1577.57 147.66 1578.1 Q146.948 1578.63 145.698 1578.63 Q145.177 1578.63 144.61 1578.52 Q144.049 1578.43 143.424 1578.22 L143.424 1577.12 Q144.014 1577.43 144.587 1577.59 Q145.16 1577.74 145.721 1577.74 Q146.474 1577.74 146.879 1577.48 Q147.284 1577.22 147.284 1576.75 Q147.284 1576.32 146.989 1576.09 Q146.699 1575.86 145.71 1575.64 L145.339 1575.55 Q144.35 1575.35 143.91 1574.92 Q143.47 1574.48 143.47 1573.73 Q143.47 1572.82 144.118 1572.32 Q144.766 1571.82 145.958 1571.82 Q146.549 1571.82 147.07 1571.91 Q147.59 1572 148.03 1572.17 Z\" fill=\"#000000\" fill-rule=\"evenodd\" fill-opacity=\"1\" /><path clip-path=\"url(#clip660)\" d=\"M 0 0 M1501.31 1572.23 L1501.31 1573.22 Q1500.86 1572.97 1500.4 1572.85 Q1499.95 1572.73 1499.48 1572.73 Q1498.45 1572.73 1497.88 1573.38 Q1497.3 1574.04 1497.3 1575.23 Q1497.3 1576.41 1497.88 1577.07 Q1498.45 1577.73 1499.48 1577.73 Q1499.95 1577.73 1500.4 1577.6 Q1500.86 1577.48 1501.31 1577.23 L1501.31 1578.21 Q1500.86 1578.42 1500.38 1578.52 Q1499.91 1578.63 1499.37 1578.63 Q1497.9 1578.63 1497.04 1577.71 Q1496.18 1576.79 1496.18 1575.23 Q1496.18 1573.64 1497.05 1572.73 Q1497.92 1571.82 1499.44 1571.82 Q1499.93 1571.82 1500.4 1571.93 Q1500.87 1572.02 1501.31 1572.23 Z\" fill=\"#000000\" fill-rule=\"evenodd\" fill-opacity=\"1\" /><path clip-path=\"url(#clip660)\" d=\"M 0 0 M1504.94 1572.73 Q1504.08 1572.73 1503.58 1573.4 Q1503.08 1574.06 1503.08 1575.23 Q1503.08 1576.39 1503.58 1577.06 Q1504.07 1577.73 1504.94 1577.73 Q1505.79 1577.73 1506.28 1577.05 Q1506.78 1576.38 1506.78 1575.23 Q1506.78 1574.07 1506.28 1573.4 Q1505.79 1572.73 1504.94 1572.73 M1504.94 1571.82 Q1506.32 1571.82 1507.12 1572.73 Q1507.91 1573.63 1507.91 1575.23 Q1507.91 1576.82 1507.12 1577.73 Q1506.32 1578.63 1504.94 1578.63 Q1503.54 1578.63 1502.75 1577.73 Q1501.96 1576.82 1501.96 1575.23 Q1501.96 1573.63 1502.75 1572.73 Q1503.54 1571.82 1504.94 1571.82 Z\" fill=\"#000000\" fill-rule=\"evenodd\" fill-opacity=\"1\" /><path clip-path=\"url(#clip660)\" d=\"M 0 0 M1514.42 1574.55 L1514.42 1578.46 L1513.35 1578.46 L1513.35 1574.58 Q1513.35 1573.66 1512.99 1573.21 Q1512.63 1572.75 1511.92 1572.75 Q1511.05 1572.75 1510.56 1573.3 Q1510.06 1573.85 1510.06 1574.8 L1510.06 1578.46 L1508.99 1578.46 L1508.99 1571.98 L1510.06 1571.98 L1510.06 1572.99 Q1510.44 1572.4 1510.95 1572.11 Q1511.48 1571.82 1512.15 1571.82 Q1513.27 1571.82 1513.84 1572.52 Q1514.42 1573.21 1514.42 1574.55 Z\" fill=\"#000000\" fill-rule=\"evenodd\" fill-opacity=\"1\" /><path clip-path=\"url(#clip660)\" d=\"M 0 0 M1519.8 1572.96 L1519.8 1569.46 L1520.86 1569.46 L1520.86 1578.46 L1519.8 1578.46 L1519.8 1577.49 Q1519.46 1578.07 1518.95 1578.35 Q1518.44 1578.63 1517.72 1578.63 Q1516.54 1578.63 1515.8 1577.69 Q1515.07 1576.75 1515.07 1575.23 Q1515.07 1573.7 1515.8 1572.76 Q1516.54 1571.82 1517.72 1571.82 Q1518.44 1571.82 1518.95 1572.11 Q1519.46 1572.38 1519.8 1572.96 M1516.17 1575.23 Q1516.17 1576.4 1516.65 1577.07 Q1517.14 1577.74 1517.98 1577.74 Q1518.82 1577.74 1519.31 1577.07 Q1519.8 1576.4 1519.8 1575.23 Q1519.8 1574.05 1519.31 1573.38 Q1518.82 1572.71 1517.98 1572.71 Q1517.14 1572.71 1516.65 1573.38 Q1516.17 1574.05 1516.17 1575.23 Z\" fill=\"#000000\" fill-rule=\"evenodd\" fill-opacity=\"1\" /><path clip-path=\"url(#clip660)\" d=\"M 0 0 M1521.98 1571.98 L1523.04 1571.98 L1523.04 1578.46 L1521.98 1578.46 L1521.98 1571.98 M1521.98 1569.46 L1523.04 1569.46 L1523.04 1570.8 L1521.98 1570.8 L1521.98 1569.46 Z\" fill=\"#000000\" fill-rule=\"evenodd\" fill-opacity=\"1\" /><path clip-path=\"url(#clip660)\" d=\"M 0 0 M1525.21 1570.14 L1525.21 1571.98 L1527.41 1571.98 L1527.41 1572.81 L1525.21 1572.81 L1525.21 1576.32 Q1525.21 1577.12 1525.43 1577.34 Q1525.65 1577.57 1526.31 1577.57 L1527.41 1577.57 L1527.41 1578.46 L1526.31 1578.46 Q1525.08 1578.46 1524.61 1578 Q1524.14 1577.54 1524.14 1576.32 L1524.14 1572.81 L1523.36 1572.81 L1523.36 1571.98 L1524.14 1571.98 L1524.14 1570.14 L1525.21 1570.14 Z\" fill=\"#000000\" fill-rule=\"evenodd\" fill-opacity=\"1\" /><path clip-path=\"url(#clip660)\" d=\"M 0 0 M1528.52 1571.98 L1529.59 1571.98 L1529.59 1578.46 L1528.52 1578.46 L1528.52 1571.98 M1528.52 1569.46 L1529.59 1569.46 L1529.59 1570.8 L1528.52 1570.8 L1528.52 1569.46 Z\" fill=\"#000000\" fill-rule=\"evenodd\" fill-opacity=\"1\" /><path clip-path=\"url(#clip660)\" d=\"M 0 0 M1533.22 1572.73 Q1532.36 1572.73 1531.86 1573.4 Q1531.37 1574.06 1531.37 1575.23 Q1531.37 1576.39 1531.86 1577.06 Q1532.35 1577.73 1533.22 1577.73 Q1534.07 1577.73 1534.57 1577.05 Q1535.06 1576.38 1535.06 1575.23 Q1535.06 1574.07 1534.57 1573.4 Q1534.07 1572.73 1533.22 1572.73 M1533.22 1571.82 Q1534.61 1571.82 1535.4 1572.73 Q1536.19 1573.63 1536.19 1575.23 Q1536.19 1576.82 1535.4 1577.73 Q1534.61 1578.63 1533.22 1578.63 Q1531.82 1578.63 1531.03 1577.73 Q1530.24 1576.82 1530.24 1575.23 Q1530.24 1573.63 1531.03 1572.73 Q1531.82 1571.82 1533.22 1571.82 Z\" fill=\"#000000\" fill-rule=\"evenodd\" fill-opacity=\"1\" /><path clip-path=\"url(#clip660)\" d=\"M 0 0 M1542.7 1574.55 L1542.7 1578.46 L1541.63 1578.46 L1541.63 1574.58 Q1541.63 1573.66 1541.27 1573.21 Q1540.91 1572.75 1540.2 1572.75 Q1539.33 1572.75 1538.84 1573.3 Q1538.34 1573.85 1538.34 1574.8 L1538.34 1578.46 L1537.27 1578.46 L1537.27 1571.98 L1538.34 1571.98 L1538.34 1572.99 Q1538.72 1572.4 1539.24 1572.11 Q1539.76 1571.82 1540.43 1571.82 Q1541.55 1571.82 1542.12 1572.52 Q1542.7 1573.21 1542.7 1574.55 Z\" fill=\"#000000\" fill-rule=\"evenodd\" fill-opacity=\"1\" /><path clip-path=\"url(#clip660)\" d=\"M 0 0 M1544.97 1577.48 L1549.05 1577.48 L1549.05 1578.46 L1543.56 1578.46 L1543.56 1577.48 Q1544.23 1576.79 1545.38 1575.63 Q1546.53 1574.47 1546.82 1574.13 Q1547.38 1573.5 1547.6 1573.07 Q1547.83 1572.63 1547.83 1572.2 Q1547.83 1571.52 1547.34 1571.08 Q1546.86 1570.65 1546.09 1570.65 Q1545.54 1570.65 1544.92 1570.84 Q1544.32 1571.03 1543.62 1571.42 L1543.62 1570.24 Q1544.33 1569.95 1544.94 1569.81 Q1545.56 1569.66 1546.06 1569.66 Q1547.41 1569.66 1548.21 1570.34 Q1549 1571.01 1549 1572.13 Q1549 1572.66 1548.8 1573.14 Q1548.6 1573.62 1548.08 1574.26 Q1547.93 1574.43 1547.16 1575.24 Q1546.38 1576.04 1544.97 1577.48 Z\" fill=\"#000000\" fill-rule=\"evenodd\" fill-opacity=\"1\" /><path clip-path=\"url(#clip660)\" d=\"M 0 0 M1550.44 1576.99 L1551.66 1576.99 L1551.66 1578.46 L1550.44 1578.46 L1550.44 1576.99 M1550.44 1572.33 L1551.66 1572.33 L1551.66 1573.8 L1550.44 1573.8 L1550.44 1572.33 Z\" fill=\"#000000\" fill-rule=\"evenodd\" fill-opacity=\"1\" /><path clip-path=\"url(#clip660)\" d=\"M 0 0 M1559.48 1570.97 L1557.89 1575.27 L1561.07 1575.27 L1559.48 1570.97 M1558.82 1569.82 L1560.14 1569.82 L1563.44 1578.46 L1562.22 1578.46 L1561.43 1576.24 L1557.54 1576.24 L1556.75 1578.46 L1555.52 1578.46 L1558.82 1569.82 Z\" fill=\"#000000\" fill-rule=\"evenodd\" fill-opacity=\"1\" /><path clip-path=\"url(#clip660)\" d=\"M 0 0 M1568.69 1572.17 L1568.69 1573.18 Q1568.23 1572.94 1567.75 1572.83 Q1567.26 1572.71 1566.74 1572.71 Q1565.95 1572.71 1565.55 1572.96 Q1565.16 1573.2 1565.16 1573.69 Q1565.16 1574.06 1565.44 1574.27 Q1565.72 1574.48 1566.58 1574.67 L1566.94 1574.75 Q1568.08 1574.99 1568.55 1575.44 Q1569.03 1575.88 1569.03 1576.67 Q1569.03 1577.57 1568.32 1578.1 Q1567.6 1578.63 1566.35 1578.63 Q1565.83 1578.63 1565.27 1578.52 Q1564.7 1578.43 1564.08 1578.22 L1564.08 1577.12 Q1564.67 1577.43 1565.24 1577.59 Q1565.82 1577.74 1566.38 1577.74 Q1567.13 1577.74 1567.53 1577.48 Q1567.94 1577.22 1567.94 1576.75 Q1567.94 1576.32 1567.64 1576.09 Q1567.35 1575.86 1566.37 1575.64 L1565.99 1575.55 Q1565.01 1575.35 1564.57 1574.92 Q1564.13 1574.48 1564.13 1573.73 Q1564.13 1572.82 1564.77 1572.32 Q1565.42 1571.82 1566.61 1571.82 Q1567.2 1571.82 1567.73 1571.91 Q1568.25 1572 1568.69 1572.17 Z\" fill=\"#000000\" fill-rule=\"evenodd\" fill-opacity=\"1\" /><path clip-path=\"url(#clip660)\" d=\"M 0 0 M1574.28 1572.17 L1574.28 1573.18 Q1573.83 1572.94 1573.34 1572.83 Q1572.86 1572.71 1572.34 1572.71 Q1571.54 1572.71 1571.15 1572.96 Q1570.75 1573.2 1570.75 1573.69 Q1570.75 1574.06 1571.04 1574.27 Q1571.32 1574.48 1572.18 1574.67 L1572.54 1574.75 Q1573.67 1574.99 1574.15 1575.44 Q1574.63 1575.88 1574.63 1576.67 Q1574.63 1577.57 1573.91 1578.1 Q1573.2 1578.63 1571.95 1578.63 Q1571.43 1578.63 1570.86 1578.52 Q1570.3 1578.43 1569.68 1578.22 L1569.68 1577.12 Q1570.27 1577.43 1570.84 1577.59 Q1571.41 1577.74 1571.97 1577.74 Q1572.73 1577.74 1573.13 1577.48 Q1573.54 1577.22 1573.54 1576.75 Q1573.54 1576.32 1573.24 1576.09 Q1572.95 1575.86 1571.96 1575.64 L1571.59 1575.55 Q1570.6 1575.35 1570.16 1574.92 Q1569.72 1574.48 1569.72 1573.73 Q1569.72 1572.82 1570.37 1572.32 Q1571.02 1571.82 1572.21 1571.82 Q1572.8 1571.82 1573.32 1571.91 Q1573.84 1572 1574.28 1572.17 Z\" fill=\"#000000\" fill-rule=\"evenodd\" fill-opacity=\"1\" /><path clip-path=\"url(#clip660)\" d=\"M 0 0 M1578.69 1575.2 Q1577.4 1575.2 1576.9 1575.5 Q1576.41 1575.79 1576.41 1576.5 Q1576.41 1577.07 1576.78 1577.41 Q1577.15 1577.74 1577.79 1577.74 Q1578.68 1577.74 1579.21 1577.11 Q1579.75 1576.48 1579.75 1575.44 L1579.75 1575.2 L1578.69 1575.2 M1580.82 1574.76 L1580.82 1578.46 L1579.75 1578.46 L1579.75 1577.48 Q1579.39 1578.07 1578.84 1578.35 Q1578.3 1578.63 1577.51 1578.63 Q1576.52 1578.63 1575.93 1578.07 Q1575.34 1577.51 1575.34 1576.57 Q1575.34 1575.48 1576.07 1574.92 Q1576.8 1574.37 1578.26 1574.37 L1579.75 1574.37 L1579.75 1574.26 Q1579.75 1573.53 1579.26 1573.13 Q1578.78 1572.73 1577.91 1572.73 Q1577.35 1572.73 1576.83 1572.86 Q1576.3 1572.99 1575.82 1573.26 L1575.82 1572.27 Q1576.4 1572.05 1576.95 1571.94 Q1577.5 1571.82 1578.02 1571.82 Q1579.43 1571.82 1580.12 1572.55 Q1580.82 1573.28 1580.82 1574.76 Z\" fill=\"#000000\" fill-rule=\"evenodd\" fill-opacity=\"1\" /><path clip-path=\"url(#clip660)\" d=\"M 0 0 M1581.82 1575.9 L1581.82 1571.98 L1582.89 1571.98 L1582.89 1575.86 Q1582.89 1576.78 1583.25 1577.24 Q1583.6 1577.7 1584.32 1577.7 Q1585.18 1577.7 1585.68 1577.15 Q1586.19 1576.6 1586.19 1575.65 L1586.19 1571.98 L1587.25 1571.98 L1587.25 1578.46 L1586.19 1578.46 L1586.19 1577.46 Q1585.8 1578.05 1585.28 1578.34 Q1584.77 1578.63 1584.1 1578.63 Q1582.98 1578.63 1582.4 1577.93 Q1581.82 1577.24 1581.82 1575.9 M1584.5 1571.82 L1584.5 1571.82 Z\" fill=\"#000000\" fill-rule=\"evenodd\" fill-opacity=\"1\" /><path clip-path=\"url(#clip660)\" d=\"M 0 0 M1588.37 1569.46 L1589.43 1569.46 L1589.43 1578.46 L1588.37 1578.46 L1588.37 1569.46 Z\" fill=\"#000000\" fill-rule=\"evenodd\" fill-opacity=\"1\" /><path clip-path=\"url(#clip660)\" d=\"M 0 0 M1591.6 1570.14 L1591.6 1571.98 L1593.8 1571.98 L1593.8 1572.81 L1591.6 1572.81 L1591.6 1576.32 Q1591.6 1577.12 1591.82 1577.34 Q1592.04 1577.57 1592.7 1577.57 L1593.8 1577.57 L1593.8 1578.46 L1592.7 1578.46 Q1591.47 1578.46 1591 1578 Q1590.53 1577.54 1590.53 1576.32 L1590.53 1572.81 L1589.75 1572.81 L1589.75 1571.98 L1590.53 1571.98 L1590.53 1570.14 L1591.6 1570.14 Z\" fill=\"#000000\" fill-rule=\"evenodd\" fill-opacity=\"1\" /><polyline clip-path=\"url(#clip662)\" style=\"stroke:#000000; stroke-width:0.5; stroke-opacity:0.1; fill:none\" points=\"\n",
       "  61.7537,1464.18 1588.19,1464.18 \n",
       "  \"/>\n",
       "<polyline clip-path=\"url(#clip662)\" style=\"stroke:#000000; stroke-width:0.5; stroke-opacity:0.1; fill:none\" points=\"\n",
       "  61.7537,1260.04 1588.19,1260.04 \n",
       "  \"/>\n",
       "<polyline clip-path=\"url(#clip662)\" style=\"stroke:#000000; stroke-width:0.5; stroke-opacity:0.1; fill:none\" points=\"\n",
       "  61.7537,1055.91 1588.19,1055.91 \n",
       "  \"/>\n",
       "<polyline clip-path=\"url(#clip662)\" style=\"stroke:#000000; stroke-width:0.5; stroke-opacity:0.1; fill:none\" points=\"\n",
       "  61.7537,851.771 1588.19,851.771 \n",
       "  \"/>\n",
       "<polyline clip-path=\"url(#clip662)\" style=\"stroke:#000000; stroke-width:0.5; stroke-opacity:0.1; fill:none\" points=\"\n",
       "  61.7537,647.636 1588.19,647.636 \n",
       "  \"/>\n",
       "<polyline clip-path=\"url(#clip662)\" style=\"stroke:#000000; stroke-width:0.5; stroke-opacity:0.1; fill:none\" points=\"\n",
       "  61.7537,443.501 1588.19,443.501 \n",
       "  \"/>\n",
       "<polyline clip-path=\"url(#clip662)\" style=\"stroke:#000000; stroke-width:0.5; stroke-opacity:0.1; fill:none\" points=\"\n",
       "  61.7537,239.366 1588.19,239.366 \n",
       "  \"/>\n",
       "<polyline clip-path=\"url(#clip660)\" style=\"stroke:#000000; stroke-width:1; stroke-opacity:1; fill:none\" points=\"\n",
       "  61.7537,1555.29 61.7537,38.428 \n",
       "  \"/>\n",
       "<polyline clip-path=\"url(#clip660)\" style=\"stroke:#000000; stroke-width:1; stroke-opacity:1; fill:none\" points=\"\n",
       "  61.7537,1464.18 80.0709,1464.18 \n",
       "  \"/>\n",
       "<polyline clip-path=\"url(#clip660)\" style=\"stroke:#000000; stroke-width:1; stroke-opacity:1; fill:none\" points=\"\n",
       "  61.7537,1260.04 80.0709,1260.04 \n",
       "  \"/>\n",
       "<polyline clip-path=\"url(#clip660)\" style=\"stroke:#000000; stroke-width:1; stroke-opacity:1; fill:none\" points=\"\n",
       "  61.7537,1055.91 80.0709,1055.91 \n",
       "  \"/>\n",
       "<polyline clip-path=\"url(#clip660)\" style=\"stroke:#000000; stroke-width:1; stroke-opacity:1; fill:none\" points=\"\n",
       "  61.7537,851.771 80.0709,851.771 \n",
       "  \"/>\n",
       "<polyline clip-path=\"url(#clip660)\" style=\"stroke:#000000; stroke-width:1; stroke-opacity:1; fill:none\" points=\"\n",
       "  61.7537,647.636 80.0709,647.636 \n",
       "  \"/>\n",
       "<polyline clip-path=\"url(#clip660)\" style=\"stroke:#000000; stroke-width:1; stroke-opacity:1; fill:none\" points=\"\n",
       "  61.7537,443.501 80.0709,443.501 \n",
       "  \"/>\n",
       "<polyline clip-path=\"url(#clip660)\" style=\"stroke:#000000; stroke-width:1; stroke-opacity:1; fill:none\" points=\"\n",
       "  61.7537,239.366 80.0709,239.366 \n",
       "  \"/>\n",
       "<path clip-path=\"url(#clip660)\" d=\"M 0 0 M8.22257 1464.29 L15.6415 1464.29 L15.6415 1465.27 L8.22257 1465.27 L8.22257 1464.29 Z\" fill=\"#000000\" fill-rule=\"evenodd\" fill-opacity=\"1\" /><path clip-path=\"url(#clip660)\" d=\"M 0 0 M20.4505 1463.84 Q21.2896 1464.02 21.7584 1464.58 Q22.2329 1465.15 22.2329 1465.98 Q22.2329 1467.26 21.3533 1467.96 Q20.4737 1468.66 18.8533 1468.66 Q18.3093 1468.66 17.7306 1468.55 Q17.1577 1468.45 16.5443 1468.23 L16.5443 1467.11 Q17.0304 1467.39 17.6091 1467.53 Q18.1878 1467.68 18.8186 1467.68 Q19.9181 1467.68 20.491 1467.25 Q21.0697 1466.81 21.0697 1465.98 Q21.0697 1465.22 20.5315 1464.79 Q19.9991 1464.36 19.0443 1464.36 L18.0373 1464.36 L18.0373 1463.4 L19.0906 1463.4 Q19.9528 1463.4 20.41 1463.06 Q20.8672 1462.71 20.8672 1462.06 Q20.8672 1461.39 20.3926 1461.04 Q19.9239 1460.68 19.0443 1460.68 Q18.5639 1460.68 18.0142 1460.79 Q17.4644 1460.89 16.8047 1461.11 L16.8047 1460.07 Q17.4702 1459.88 18.0489 1459.79 Q18.6334 1459.7 19.1484 1459.7 Q20.4794 1459.7 21.2549 1460.31 Q22.0304 1460.91 22.0304 1461.94 Q22.0304 1462.66 21.6195 1463.15 Q21.2086 1463.65 20.4505 1463.84 Z\" fill=\"#000000\" fill-rule=\"evenodd\" fill-opacity=\"1\" /><path clip-path=\"url(#clip660)\" d=\"M 0 0 M23.2051 1459.86 L28.7607 1459.86 L28.7607 1460.35 L25.6241 1468.5 L24.403 1468.5 L27.3544 1460.84 L23.2051 1460.84 L23.2051 1459.86 Z\" fill=\"#000000\" fill-rule=\"evenodd\" fill-opacity=\"1\" /><path clip-path=\"url(#clip660)\" d=\"M 0 0 M30.028 1467.03 L31.2491 1467.03 L31.2491 1468.5 L30.028 1468.5 L30.028 1467.03 Z\" fill=\"#000000\" fill-rule=\"evenodd\" fill-opacity=\"1\" /><path clip-path=\"url(#clip660)\" d=\"M 0 0 M32.528 1459.86 L37.1171 1459.86 L37.1171 1460.84 L33.5986 1460.84 L33.5986 1462.96 Q33.8532 1462.87 34.1078 1462.83 Q34.3625 1462.78 34.6171 1462.78 Q36.0639 1462.78 36.9088 1463.58 Q37.7537 1464.37 37.7537 1465.72 Q37.7537 1467.12 36.8856 1467.89 Q36.0176 1468.66 34.4377 1468.66 Q33.8937 1468.66 33.3266 1468.57 Q32.7653 1468.48 32.1634 1468.29 L32.1634 1467.12 Q32.6842 1467.4 33.2398 1467.54 Q33.7953 1467.68 34.4146 1467.68 Q35.4157 1467.68 36.0002 1467.15 Q36.5847 1466.63 36.5847 1465.72 Q36.5847 1464.82 36.0002 1464.29 Q35.4157 1463.77 34.4146 1463.77 Q33.9458 1463.77 33.4771 1463.87 Q33.0141 1463.98 32.528 1464.2 L32.528 1459.86 Z\" fill=\"#000000\" fill-rule=\"evenodd\" fill-opacity=\"1\" /><path clip-path=\"url(#clip660)\" d=\"M 0 0 M7.99687 1260.15 L15.4158 1260.15 L15.4158 1261.14 L7.99687 1261.14 L7.99687 1260.15 Z\" fill=\"#000000\" fill-rule=\"evenodd\" fill-opacity=\"1\" /><path clip-path=\"url(#clip660)\" d=\"M 0 0 M20.2248 1259.7 Q21.0639 1259.88 21.5327 1260.45 Q22.0072 1261.02 22.0072 1261.85 Q22.0072 1263.13 21.1276 1263.83 Q20.248 1264.53 18.6276 1264.53 Q18.0836 1264.53 17.5049 1264.42 Q16.932 1264.31 16.3186 1264.1 L16.3186 1262.97 Q16.8047 1263.26 17.3834 1263.4 Q17.9621 1263.54 18.5929 1263.54 Q19.6924 1263.54 20.2653 1263.11 Q20.844 1262.68 20.844 1261.85 Q20.844 1261.09 20.3058 1260.66 Q19.7734 1260.22 18.8186 1260.22 L17.8116 1260.22 L17.8116 1259.26 L18.8649 1259.26 Q19.7271 1259.26 20.1843 1258.92 Q20.6415 1258.57 20.6415 1257.93 Q20.6415 1257.26 20.1669 1256.91 Q19.6982 1256.55 18.8186 1256.55 Q18.3383 1256.55 17.7885 1256.65 Q17.2387 1256.76 16.579 1256.98 L16.579 1255.93 Q17.2445 1255.75 17.8232 1255.66 Q18.4077 1255.56 18.9227 1255.56 Q20.2538 1255.56 21.0292 1256.17 Q21.8047 1256.77 21.8047 1257.8 Q21.8047 1258.52 21.3938 1259.02 Q20.9829 1259.51 20.2248 1259.7 Z\" fill=\"#000000\" fill-rule=\"evenodd\" fill-opacity=\"1\" /><path clip-path=\"url(#clip660)\" d=\"M 0 0 M23.2861 1255.72 L27.8752 1255.72 L27.8752 1256.7 L24.3567 1256.7 L24.3567 1258.82 Q24.6114 1258.74 24.866 1258.7 Q25.1206 1258.65 25.3753 1258.65 Q26.822 1258.65 27.6669 1259.44 Q28.5118 1260.23 28.5118 1261.59 Q28.5118 1262.98 27.6438 1263.76 Q26.7757 1264.53 25.1959 1264.53 Q24.6519 1264.53 24.0847 1264.44 Q23.5234 1264.34 22.9216 1264.16 L22.9216 1262.98 Q23.4424 1263.27 23.9979 1263.41 Q24.5535 1263.54 25.1727 1263.54 Q26.1739 1263.54 26.7583 1263.02 Q27.3428 1262.49 27.3428 1261.59 Q27.3428 1260.69 26.7583 1260.16 Q26.1739 1259.63 25.1727 1259.63 Q24.704 1259.63 24.2352 1259.74 Q23.7723 1259.84 23.2861 1260.06 L23.2861 1255.72 Z\" fill=\"#000000\" fill-rule=\"evenodd\" fill-opacity=\"1\" /><path clip-path=\"url(#clip660)\" d=\"M 0 0 M29.7792 1262.89 L31.0002 1262.89 L31.0002 1264.36 L29.7792 1264.36 L29.7792 1262.89 Z\" fill=\"#000000\" fill-rule=\"evenodd\" fill-opacity=\"1\" /><path clip-path=\"url(#clip660)\" d=\"M 0 0 M34.7676 1256.49 Q33.8648 1256.49 33.4076 1257.38 Q32.9562 1258.27 32.9562 1260.05 Q32.9562 1261.83 33.4076 1262.72 Q33.8648 1263.6 34.7676 1263.6 Q35.6761 1263.6 36.1275 1262.72 Q36.5847 1261.83 36.5847 1260.05 Q36.5847 1258.27 36.1275 1257.38 Q35.6761 1256.49 34.7676 1256.49 M34.7676 1255.56 Q36.2201 1255.56 36.984 1256.72 Q37.7537 1257.86 37.7537 1260.05 Q37.7537 1262.23 36.984 1263.38 Q36.2201 1264.53 34.7676 1264.53 Q33.315 1264.53 32.5454 1263.38 Q31.7815 1262.23 31.7815 1260.05 Q31.7815 1257.86 32.5454 1256.72 Q33.315 1255.56 34.7676 1255.56 Z\" fill=\"#000000\" fill-rule=\"evenodd\" fill-opacity=\"1\" /><path clip-path=\"url(#clip660)\" d=\"M 0 0 M8.39618 1056.02 L15.8151 1056.02 L15.8151 1057 L8.39618 1057 L8.39618 1056.02 Z\" fill=\"#000000\" fill-rule=\"evenodd\" fill-opacity=\"1\" /><path clip-path=\"url(#clip660)\" d=\"M 0 0 M20.6241 1055.57 Q21.4632 1055.75 21.932 1056.31 Q22.4065 1056.88 22.4065 1057.71 Q22.4065 1058.99 21.5269 1059.69 Q20.6473 1060.39 19.0269 1060.39 Q18.4829 1060.39 17.9042 1060.28 Q17.3313 1060.18 16.7179 1059.97 L16.7179 1058.84 Q17.204 1059.12 17.7827 1059.27 Q18.3614 1059.41 18.9922 1059.41 Q20.0917 1059.41 20.6646 1058.98 Q21.2433 1058.54 21.2433 1057.71 Q21.2433 1056.95 20.7051 1056.52 Q20.1727 1056.09 19.2179 1056.09 L18.2109 1056.09 L18.2109 1055.13 L19.2642 1055.13 Q20.1264 1055.13 20.5836 1054.79 Q21.0408 1054.44 21.0408 1053.79 Q21.0408 1053.13 20.5662 1052.77 Q20.0975 1052.41 19.2179 1052.41 Q18.7376 1052.41 18.1878 1052.52 Q17.638 1052.62 16.9783 1052.84 L16.9783 1051.8 Q17.6438 1051.61 18.2225 1051.52 Q18.807 1051.43 19.322 1051.43 Q20.6531 1051.43 21.4285 1052.04 Q22.204 1052.64 22.204 1053.67 Q22.204 1054.39 21.7931 1054.88 Q21.3822 1055.38 20.6241 1055.57 Z\" fill=\"#000000\" fill-rule=\"evenodd\" fill-opacity=\"1\" /><path clip-path=\"url(#clip660)\" d=\"M 0 0 M24.6808 1059.24 L28.7607 1059.24 L28.7607 1060.23 L23.2746 1060.23 L23.2746 1059.24 Q23.9401 1058.55 25.0859 1057.4 Q26.2375 1056.23 26.5327 1055.9 Q27.094 1055.27 27.3139 1054.83 Q27.5396 1054.39 27.5396 1053.97 Q27.5396 1053.28 27.0535 1052.85 Q26.5732 1052.41 25.7977 1052.41 Q25.2479 1052.41 24.6345 1052.6 Q24.0269 1052.8 23.3324 1053.18 L23.3324 1052 Q24.0385 1051.72 24.6519 1051.57 Q25.2653 1051.43 25.7746 1051.43 Q27.1171 1051.43 27.9157 1052.1 Q28.7144 1052.77 28.7144 1053.89 Q28.7144 1054.43 28.5118 1054.91 Q28.3151 1055.38 27.7884 1056.03 Q27.6438 1056.2 26.8683 1057 Q26.0928 1057.8 24.6808 1059.24 Z\" fill=\"#000000\" fill-rule=\"evenodd\" fill-opacity=\"1\" /><path clip-path=\"url(#clip660)\" d=\"M 0 0 M30.028 1058.76 L31.2491 1058.76 L31.2491 1060.23 L30.028 1060.23 L30.028 1058.76 Z\" fill=\"#000000\" fill-rule=\"evenodd\" fill-opacity=\"1\" /><path clip-path=\"url(#clip660)\" d=\"M 0 0 M32.528 1051.59 L37.1171 1051.59 L37.1171 1052.57 L33.5986 1052.57 L33.5986 1054.69 Q33.8532 1054.6 34.1078 1054.56 Q34.3625 1054.51 34.6171 1054.51 Q36.0639 1054.51 36.9088 1055.31 Q37.7537 1056.1 37.7537 1057.45 Q37.7537 1058.85 36.8856 1059.62 Q36.0176 1060.39 34.4377 1060.39 Q33.8937 1060.39 33.3266 1060.3 Q32.7653 1060.21 32.1634 1060.02 L32.1634 1058.85 Q32.6842 1059.13 33.2398 1059.27 Q33.7953 1059.41 34.4146 1059.41 Q35.4157 1059.41 36.0002 1058.88 Q36.5847 1058.36 36.5847 1057.45 Q36.5847 1056.55 36.0002 1056.02 Q35.4157 1055.5 34.4146 1055.5 Q33.9458 1055.5 33.4771 1055.6 Q33.0141 1055.71 32.528 1055.93 L32.528 1051.59 Z\" fill=\"#000000\" fill-rule=\"evenodd\" fill-opacity=\"1\" /><path clip-path=\"url(#clip660)\" d=\"M 0 0 M7.74803 851.884 L15.167 851.884 L15.167 852.868 L7.74803 852.868 L7.74803 851.884 Z\" fill=\"#000000\" fill-rule=\"evenodd\" fill-opacity=\"1\" /><path clip-path=\"url(#clip660)\" d=\"M 0 0 M19.976 851.432 Q20.8151 851.612 21.2838 852.179 Q21.7584 852.746 21.7584 853.579 Q21.7584 854.858 20.8787 855.558 Q19.9991 856.259 18.3788 856.259 Q17.8348 856.259 17.2561 856.149 Q16.6832 856.045 16.0697 855.83 L16.0697 854.702 Q16.5559 854.986 17.1346 855.13 Q17.7133 855.275 18.344 855.275 Q19.4436 855.275 20.0165 854.841 Q20.5952 854.407 20.5952 853.579 Q20.5952 852.815 20.057 852.387 Q19.5246 851.953 18.5697 851.953 L17.5628 851.953 L17.5628 850.993 L18.616 850.993 Q19.4783 850.993 19.9355 850.651 Q20.3926 850.304 20.3926 849.656 Q20.3926 848.99 19.9181 848.637 Q19.4494 848.278 18.5697 848.278 Q18.0894 848.278 17.5396 848.383 Q16.9899 848.487 16.3302 848.707 L16.3302 847.665 Q16.9957 847.48 17.5744 847.387 Q18.1589 847.295 18.6739 847.295 Q20.0049 847.295 20.7804 847.902 Q21.5558 848.504 21.5558 849.534 Q21.5558 850.252 21.145 850.749 Q20.7341 851.241 19.976 851.432 Z\" fill=\"#000000\" fill-rule=\"evenodd\" fill-opacity=\"1\" /><path clip-path=\"url(#clip660)\" d=\"M 0 0 M25.5257 848.221 Q24.6229 848.221 24.1658 849.112 Q23.7144 849.997 23.7144 851.78 Q23.7144 853.556 24.1658 854.447 Q24.6229 855.333 25.5257 855.333 Q26.4343 855.333 26.8857 854.447 Q27.3428 853.556 27.3428 851.78 Q27.3428 849.997 26.8857 849.112 Q26.4343 848.221 25.5257 848.221 M25.5257 847.295 Q26.9783 847.295 27.7421 848.446 Q28.5118 849.592 28.5118 851.78 Q28.5118 853.961 27.7421 855.113 Q26.9783 856.259 25.5257 856.259 Q24.0732 856.259 23.3035 855.113 Q22.5396 853.961 22.5396 851.78 Q22.5396 849.592 23.3035 848.446 Q24.0732 847.295 25.5257 847.295 Z\" fill=\"#000000\" fill-rule=\"evenodd\" fill-opacity=\"1\" /><path clip-path=\"url(#clip660)\" d=\"M 0 0 M29.7792 854.621 L31.0002 854.621 L31.0002 856.091 L29.7792 856.091 L29.7792 854.621 Z\" fill=\"#000000\" fill-rule=\"evenodd\" fill-opacity=\"1\" /><path clip-path=\"url(#clip660)\" d=\"M 0 0 M34.7676 848.221 Q33.8648 848.221 33.4076 849.112 Q32.9562 849.997 32.9562 851.78 Q32.9562 853.556 33.4076 854.447 Q33.8648 855.333 34.7676 855.333 Q35.6761 855.333 36.1275 854.447 Q36.5847 853.556 36.5847 851.78 Q36.5847 849.997 36.1275 849.112 Q35.6761 848.221 34.7676 848.221 M34.7676 847.295 Q36.2201 847.295 36.984 848.446 Q37.7537 849.592 37.7537 851.78 Q37.7537 853.961 36.984 855.113 Q36.2201 856.259 34.7676 856.259 Q33.315 856.259 32.5454 855.113 Q31.7815 853.961 31.7815 851.78 Q31.7815 849.592 32.5454 848.446 Q33.315 847.295 34.7676 847.295 Z\" fill=\"#000000\" fill-rule=\"evenodd\" fill-opacity=\"1\" /><path clip-path=\"url(#clip660)\" d=\"M 0 0 M8.45983 647.749 L15.8788 647.749 L15.8788 648.733 L8.45983 648.733 L8.45983 647.749 Z\" fill=\"#000000\" fill-rule=\"evenodd\" fill-opacity=\"1\" /><path clip-path=\"url(#clip660)\" d=\"M 0 0 M18.1531 650.972 L22.2329 650.972 L22.2329 651.956 L16.7468 651.956 L16.7468 650.972 Q17.4123 650.284 18.5582 649.126 Q19.7098 647.963 20.0049 647.627 Q20.5662 646.997 20.7862 646.563 Q21.0118 646.123 21.0118 645.7 Q21.0118 645.012 20.5257 644.578 Q20.0454 644.144 19.27 644.144 Q18.7202 644.144 18.1068 644.335 Q17.4991 644.526 16.8047 644.913 L16.8047 643.733 Q17.5107 643.449 18.1241 643.304 Q18.7376 643.16 19.2468 643.16 Q20.5894 643.16 21.388 643.831 Q22.1866 644.502 22.1866 645.625 Q22.1866 646.157 21.9841 646.638 Q21.7873 647.112 21.2607 647.76 Q21.116 647.928 20.3406 648.733 Q19.5651 649.531 18.1531 650.972 Z\" fill=\"#000000\" fill-rule=\"evenodd\" fill-opacity=\"1\" /><path clip-path=\"url(#clip660)\" d=\"M 0 0 M23.2051 643.316 L28.7607 643.316 L28.7607 643.814 L25.6241 651.956 L24.403 651.956 L27.3544 644.3 L23.2051 644.3 L23.2051 643.316 Z\" fill=\"#000000\" fill-rule=\"evenodd\" fill-opacity=\"1\" /><path clip-path=\"url(#clip660)\" d=\"M 0 0 M30.028 650.486 L31.2491 650.486 L31.2491 651.956 L30.028 651.956 L30.028 650.486 Z\" fill=\"#000000\" fill-rule=\"evenodd\" fill-opacity=\"1\" /><path clip-path=\"url(#clip660)\" d=\"M 0 0 M32.528 643.316 L37.1171 643.316 L37.1171 644.3 L33.5986 644.3 L33.5986 646.418 Q33.8532 646.331 34.1078 646.291 Q34.3625 646.244 34.6171 646.244 Q36.0639 646.244 36.9088 647.037 Q37.7537 647.83 37.7537 649.184 Q37.7537 650.579 36.8856 651.354 Q36.0176 652.124 34.4377 652.124 Q33.8937 652.124 33.3266 652.031 Q32.7653 651.939 32.1634 651.754 L32.1634 650.579 Q32.6842 650.862 33.2398 651.001 Q33.7953 651.14 34.4146 651.14 Q35.4157 651.14 36.0002 650.613 Q36.5847 650.087 36.5847 649.184 Q36.5847 648.281 36.0002 647.755 Q35.4157 647.228 34.4146 647.228 Q33.9458 647.228 33.4771 647.332 Q33.0141 647.436 32.528 647.656 L32.528 643.316 Z\" fill=\"#000000\" fill-rule=\"evenodd\" fill-opacity=\"1\" /><path clip-path=\"url(#clip660)\" d=\"M 0 0 M8.23414 443.614 L15.6531 443.614 L15.6531 444.598 L8.23414 444.598 L8.23414 443.614 Z\" fill=\"#000000\" fill-rule=\"evenodd\" fill-opacity=\"1\" /><path clip-path=\"url(#clip660)\" d=\"M 0 0 M17.9274 446.837 L22.0072 446.837 L22.0072 447.821 L16.5211 447.821 L16.5211 446.837 Q17.1866 446.149 18.3325 444.991 Q19.4841 443.828 19.7792 443.493 Q20.3406 442.862 20.5605 442.428 Q20.7862 441.988 20.7862 441.565 Q20.7862 440.877 20.3 440.443 Q19.8197 440.009 19.0443 440.009 Q18.4945 440.009 17.8811 440.2 Q17.2734 440.391 16.579 440.778 L16.579 439.598 Q17.285 439.314 17.8984 439.17 Q18.5119 439.025 19.0211 439.025 Q20.3637 439.025 21.1623 439.696 Q21.9609 440.368 21.9609 441.49 Q21.9609 442.023 21.7584 442.503 Q21.5616 442.978 21.035 443.626 Q20.8903 443.793 20.1149 444.598 Q19.3394 445.396 17.9274 446.837 Z\" fill=\"#000000\" fill-rule=\"evenodd\" fill-opacity=\"1\" /><path clip-path=\"url(#clip660)\" d=\"M 0 0 M23.2861 439.181 L27.8752 439.181 L27.8752 440.165 L24.3567 440.165 L24.3567 442.283 Q24.6114 442.196 24.866 442.156 Q25.1206 442.109 25.3753 442.109 Q26.822 442.109 27.6669 442.902 Q28.5118 443.695 28.5118 445.049 Q28.5118 446.444 27.6438 447.219 Q26.7757 447.989 25.1959 447.989 Q24.6519 447.989 24.0847 447.896 Q23.5234 447.804 22.9216 447.619 L22.9216 446.444 Q23.4424 446.728 23.9979 446.866 Q24.5535 447.005 25.1727 447.005 Q26.1739 447.005 26.7583 446.479 Q27.3428 445.952 27.3428 445.049 Q27.3428 444.147 26.7583 443.62 Q26.1739 443.093 25.1727 443.093 Q24.704 443.093 24.2352 443.197 Q23.7723 443.302 23.2861 443.522 L23.2861 439.181 Z\" fill=\"#000000\" fill-rule=\"evenodd\" fill-opacity=\"1\" /><path clip-path=\"url(#clip660)\" d=\"M 0 0 M29.7792 446.351 L31.0002 446.351 L31.0002 447.821 L29.7792 447.821 L29.7792 446.351 Z\" fill=\"#000000\" fill-rule=\"evenodd\" fill-opacity=\"1\" /><path clip-path=\"url(#clip660)\" d=\"M 0 0 M34.7676 439.951 Q33.8648 439.951 33.4076 440.842 Q32.9562 441.728 32.9562 443.51 Q32.9562 445.287 33.4076 446.178 Q33.8648 447.063 34.7676 447.063 Q35.6761 447.063 36.1275 446.178 Q36.5847 445.287 36.5847 443.51 Q36.5847 441.728 36.1275 440.842 Q35.6761 439.951 34.7676 439.951 M34.7676 439.025 Q36.2201 439.025 36.984 440.177 Q37.7537 441.322 37.7537 443.51 Q37.7537 445.692 36.984 446.843 Q36.2201 447.989 34.7676 447.989 Q33.315 447.989 32.5454 446.843 Q31.7815 445.692 31.7815 443.51 Q31.7815 441.322 32.5454 440.177 Q33.315 439.025 34.7676 439.025 Z\" fill=\"#000000\" fill-rule=\"evenodd\" fill-opacity=\"1\" /><path clip-path=\"url(#clip660)\" d=\"M 0 0 M8.63344 239.479 L16.0524 239.479 L16.0524 240.463 L8.63344 240.463 L8.63344 239.479 Z\" fill=\"#000000\" fill-rule=\"evenodd\" fill-opacity=\"1\" /><path clip-path=\"url(#clip660)\" d=\"M 0 0 M18.3267 242.703 L22.4065 242.703 L22.4065 243.686 L16.9204 243.686 L16.9204 242.703 Q17.5859 242.014 18.7318 240.857 Q19.8834 239.693 20.1785 239.358 Q20.7399 238.727 20.9598 238.293 Q21.1855 237.853 21.1855 237.431 Q21.1855 236.742 20.6994 236.308 Q20.219 235.874 19.4436 235.874 Q18.8938 235.874 18.2804 236.065 Q17.6727 236.256 16.9783 236.644 L16.9783 235.463 Q17.6843 235.18 18.2977 235.035 Q18.9112 234.89 19.4204 234.89 Q20.763 234.89 21.5616 235.561 Q22.3602 236.233 22.3602 237.355 Q22.3602 237.888 22.1577 238.368 Q21.9609 238.843 21.4343 239.491 Q21.2896 239.659 20.5142 240.463 Q19.7387 241.262 18.3267 242.703 Z\" fill=\"#000000\" fill-rule=\"evenodd\" fill-opacity=\"1\" /><path clip-path=\"url(#clip660)\" d=\"M 0 0 M24.6808 242.703 L28.7607 242.703 L28.7607 243.686 L23.2746 243.686 L23.2746 242.703 Q23.9401 242.014 25.0859 240.857 Q26.2375 239.693 26.5327 239.358 Q27.094 238.727 27.3139 238.293 Q27.5396 237.853 27.5396 237.431 Q27.5396 236.742 27.0535 236.308 Q26.5732 235.874 25.7977 235.874 Q25.2479 235.874 24.6345 236.065 Q24.0269 236.256 23.3324 236.644 L23.3324 235.463 Q24.0385 235.18 24.6519 235.035 Q25.2653 234.89 25.7746 234.89 Q27.1171 234.89 27.9157 235.561 Q28.7144 236.233 28.7144 237.355 Q28.7144 237.888 28.5118 238.368 Q28.3151 238.843 27.7884 239.491 Q27.6438 239.659 26.8683 240.463 Q26.0928 241.262 24.6808 242.703 Z\" fill=\"#000000\" fill-rule=\"evenodd\" fill-opacity=\"1\" /><path clip-path=\"url(#clip660)\" d=\"M 0 0 M30.028 242.217 L31.2491 242.217 L31.2491 243.686 L30.028 243.686 L30.028 242.217 Z\" fill=\"#000000\" fill-rule=\"evenodd\" fill-opacity=\"1\" /><path clip-path=\"url(#clip660)\" d=\"M 0 0 M32.528 235.046 L37.1171 235.046 L37.1171 236.03 L33.5986 236.03 L33.5986 238.148 Q33.8532 238.061 34.1078 238.021 Q34.3625 237.975 34.6171 237.975 Q36.0639 237.975 36.9088 238.767 Q37.7537 239.56 37.7537 240.914 Q37.7537 242.309 36.8856 243.085 Q36.0176 243.854 34.4377 243.854 Q33.8937 243.854 33.3266 243.762 Q32.7653 243.669 32.1634 243.484 L32.1634 242.309 Q32.6842 242.593 33.2398 242.732 Q33.7953 242.87 34.4146 242.87 Q35.4157 242.87 36.0002 242.344 Q36.5847 241.817 36.5847 240.914 Q36.5847 240.012 36.0002 239.485 Q35.4157 238.958 34.4146 238.958 Q33.9458 238.958 33.4771 239.063 Q33.0141 239.167 32.528 239.387 L32.528 235.046 Z\" fill=\"#000000\" fill-rule=\"evenodd\" fill-opacity=\"1\" /><path clip-path=\"url(#clip660)\" d=\"M 0 0 M766.735 4.18863 L766.735 6.34574 Q765.702 5.38365 764.527 4.90767 Q763.362 4.43169 762.046 4.43169 Q759.453 4.43169 758.076 6.02167 Q756.698 7.60152 756.698 10.5992 Q756.698 13.5867 758.076 15.1767 Q759.453 16.7566 762.046 16.7566 Q763.362 16.7566 764.527 16.2806 Q765.702 15.8046 766.735 14.8425 L766.735 16.9794 Q765.661 17.7085 764.456 18.0731 Q763.261 18.4377 761.924 18.4377 Q758.491 18.4377 756.516 16.3413 Q754.541 14.2349 754.541 10.5992 Q754.541 6.95338 756.516 4.85703 Q758.491 2.75056 761.924 2.75056 Q763.281 2.75056 764.476 3.11515 Q765.681 3.4696 766.735 4.18863 Z\" fill=\"#000000\" fill-rule=\"evenodd\" fill-opacity=\"1\" /><path clip-path=\"url(#clip660)\" d=\"M 0 0 M773.084 8.10788 Q771.585 8.10788 770.715 9.28265 Q769.844 10.4473 769.844 12.4829 Q769.844 14.5184 770.704 15.6932 Q771.575 16.8578 773.084 16.8578 Q774.573 16.8578 775.444 15.6831 Q776.315 14.5083 776.315 12.4829 Q776.315 10.4675 775.444 9.29277 Q774.573 8.10788 773.084 8.10788 M773.084 6.52803 Q775.515 6.52803 776.902 8.10788 Q778.29 9.68774 778.29 12.4829 Q778.29 15.2679 776.902 16.8578 Q775.515 18.4377 773.084 18.4377 Q770.644 18.4377 769.256 16.8578 Q767.879 15.2679 767.879 12.4829 Q767.879 9.68774 769.256 8.10788 Q770.644 6.52803 773.084 6.52803 Z\" fill=\"#000000\" fill-rule=\"evenodd\" fill-opacity=\"1\" /><path clip-path=\"url(#clip660)\" d=\"M 0 0 M789.946 12.0069 L789.946 12.9183 L781.379 12.9183 Q781.5 14.8425 782.533 15.8552 Q783.576 16.8578 785.429 16.8578 Q786.503 16.8578 787.506 16.5945 Q788.518 16.3312 789.511 15.8046 L789.511 17.5667 Q788.508 17.9921 787.455 18.2149 Q786.402 18.4377 785.318 18.4377 Q782.604 18.4377 781.014 16.8578 Q779.434 15.278 779.434 12.5841 Q779.434 9.79914 780.933 8.16865 Q782.442 6.52803 784.994 6.52803 Q787.283 6.52803 788.609 8.00661 Q789.946 9.47506 789.946 12.0069 M788.083 11.46 Q788.063 9.93079 787.222 9.01934 Q786.392 8.10788 785.014 8.10788 Q783.455 8.10788 782.513 8.98896 Q781.581 9.87003 781.439 11.4701 L788.083 11.46 Z\" fill=\"#000000\" fill-rule=\"evenodd\" fill-opacity=\"1\" /><path clip-path=\"url(#clip660)\" d=\"M 0 0 M797.643 2.38598 L797.643 3.93545 L795.861 3.93545 Q794.858 3.93545 794.463 4.34054 Q794.078 4.74563 794.078 5.79887 L794.078 6.80147 L797.147 6.80147 L797.147 8.24967 L794.078 8.24967 L794.078 18.144 L792.205 18.144 L792.205 8.24967 L790.422 8.24967 L790.422 6.80147 L792.205 6.80147 L792.205 6.01154 Q792.205 4.11774 793.086 3.25693 Q793.967 2.38598 795.881 2.38598 L797.643 2.38598 Z\" fill=\"#000000\" fill-rule=\"evenodd\" fill-opacity=\"1\" /><path clip-path=\"url(#clip660)\" d=\"M 0 0 M805.34 2.38598 L805.34 3.93545 L803.557 3.93545 Q802.555 3.93545 802.16 4.34054 Q801.775 4.74563 801.775 5.79887 L801.775 6.80147 L804.843 6.80147 L804.843 8.24967 L801.775 8.24967 L801.775 18.144 L799.901 18.144 L799.901 8.24967 L798.119 8.24967 L798.119 6.80147 L799.901 6.80147 L799.901 6.01154 Q799.901 4.11774 800.782 3.25693 Q801.663 2.38598 803.577 2.38598 L805.34 2.38598 Z\" fill=\"#000000\" fill-rule=\"evenodd\" fill-opacity=\"1\" /><path clip-path=\"url(#clip660)\" d=\"M 0 0 M807.294 6.80147 L809.158 6.80147 L809.158 18.144 L807.294 18.144 L807.294 6.80147 M807.294 2.38598 L809.158 2.38598 L809.158 4.74563 L807.294 4.74563 L807.294 2.38598 Z\" fill=\"#000000\" fill-rule=\"evenodd\" fill-opacity=\"1\" /><path clip-path=\"url(#clip660)\" d=\"M 0 0 M819.275 7.23694 L819.275 8.97883 Q818.485 8.54336 817.685 8.33068 Q816.895 8.10788 816.085 8.10788 Q814.272 8.10788 813.269 9.26239 Q812.267 10.4068 812.267 12.4829 Q812.267 14.5589 813.269 15.7135 Q814.272 16.8578 816.085 16.8578 Q816.895 16.8578 817.685 16.6452 Q818.485 16.4224 819.275 15.9869 L819.275 17.7085 Q818.495 18.0731 817.654 18.2554 Q816.824 18.4377 815.882 18.4377 Q813.32 18.4377 811.811 16.8275 Q810.302 15.2172 810.302 12.4829 Q810.302 9.70799 811.821 8.11801 Q813.35 6.52803 816.004 6.52803 Q816.864 6.52803 817.685 6.71032 Q818.505 6.88249 819.275 7.23694 Z\" fill=\"#000000\" fill-rule=\"evenodd\" fill-opacity=\"1\" /><path clip-path=\"url(#clip660)\" d=\"M 0 0 M821.229 6.80147 L823.093 6.80147 L823.093 18.144 L821.229 18.144 L821.229 6.80147 M821.229 2.38598 L823.093 2.38598 L823.093 4.74563 L821.229 4.74563 L821.229 2.38598 Z\" fill=\"#000000\" fill-rule=\"evenodd\" fill-opacity=\"1\" /><path clip-path=\"url(#clip660)\" d=\"M 0 0 M834.749 12.0069 L834.749 12.9183 L826.182 12.9183 Q826.303 14.8425 827.336 15.8552 Q828.379 16.8578 830.232 16.8578 Q831.306 16.8578 832.309 16.5945 Q833.321 16.3312 834.314 15.8046 L834.314 17.5667 Q833.311 17.9921 832.258 18.2149 Q831.205 18.4377 830.121 18.4377 Q827.407 18.4377 825.817 16.8578 Q824.237 15.278 824.237 12.5841 Q824.237 9.79914 825.736 8.16865 Q827.245 6.52803 829.797 6.52803 Q832.086 6.52803 833.412 8.00661 Q834.749 9.47506 834.749 12.0069 M832.886 11.46 Q832.866 9.93079 832.025 9.01934 Q831.195 8.10788 829.817 8.10788 Q828.258 8.10788 827.316 8.98896 Q826.384 9.87003 826.242 11.4701 L832.886 11.46 Z\" fill=\"#000000\" fill-rule=\"evenodd\" fill-opacity=\"1\" /><path clip-path=\"url(#clip660)\" d=\"M 0 0 M846.132 11.298 L846.132 18.144 L844.269 18.144 L844.269 11.3587 Q844.269 9.7485 843.641 8.94845 Q843.013 8.14839 841.757 8.14839 Q840.248 8.14839 839.377 9.11048 Q838.506 10.0726 838.506 11.7334 L838.506 18.144 L836.633 18.144 L836.633 6.80147 L838.506 6.80147 L838.506 8.56361 Q839.175 7.54076 840.076 7.0344 Q840.988 6.52803 842.172 6.52803 Q844.127 6.52803 845.13 7.7433 Q846.132 8.94845 846.132 11.298 Z\" fill=\"#000000\" fill-rule=\"evenodd\" fill-opacity=\"1\" /><path clip-path=\"url(#clip660)\" d=\"M 0 0 M849.93 3.581 L849.93 6.80147 L853.768 6.80147 L853.768 8.24967 L849.93 8.24967 L849.93 14.407 Q849.93 15.7945 850.305 16.1894 Q850.689 16.5844 851.854 16.5844 L853.768 16.5844 L853.768 18.144 L851.854 18.144 Q849.697 18.144 848.877 17.3439 Q848.056 16.5338 848.056 14.407 L848.056 8.24967 L846.689 8.24967 L846.689 6.80147 L848.056 6.80147 L848.056 3.581 L849.93 3.581 Z\" fill=\"#000000\" fill-rule=\"evenodd\" fill-opacity=\"1\" /><path clip-path=\"url(#clip660)\" d=\"M 0 0 M864.118 16.4426 L864.118 22.4582 L862.245 22.4582 L862.245 6.80147 L864.118 6.80147 L864.118 8.5231 Q864.706 7.51038 865.597 7.02427 Q866.498 6.52803 867.744 6.52803 Q869.81 6.52803 871.096 8.16865 Q872.392 9.80926 872.392 12.4829 Q872.392 15.1565 871.096 16.7971 Q869.81 18.4377 867.744 18.4377 Q866.498 18.4377 865.597 17.9516 Q864.706 17.4553 864.118 16.4426 M870.458 12.4829 Q870.458 10.427 869.607 9.26239 Q868.767 8.08763 867.288 8.08763 Q865.809 8.08763 864.959 9.26239 Q864.118 10.427 864.118 12.4829 Q864.118 14.5387 864.959 15.7135 Q865.809 16.8781 867.288 16.8781 Q868.767 16.8781 869.607 15.7135 Q870.458 14.5387 870.458 12.4829 Z\" fill=\"#000000\" fill-rule=\"evenodd\" fill-opacity=\"1\" /><path clip-path=\"url(#clip660)\" d=\"M 0 0 M874.347 2.38598 L876.21 2.38598 L876.21 18.144 L874.347 18.144 L874.347 2.38598 Z\" fill=\"#000000\" fill-rule=\"evenodd\" fill-opacity=\"1\" /><path clip-path=\"url(#clip660)\" d=\"M 0 0 M882.56 8.10788 Q881.061 8.10788 880.19 9.28265 Q879.319 10.4473 879.319 12.4829 Q879.319 14.5184 880.18 15.6932 Q881.051 16.8578 882.56 16.8578 Q884.049 16.8578 884.92 15.6831 Q885.791 14.5083 885.791 12.4829 Q885.791 10.4675 884.92 9.29277 Q884.049 8.10788 882.56 8.10788 M882.56 6.52803 Q884.991 6.52803 886.378 8.10788 Q887.765 9.68774 887.765 12.4829 Q887.765 15.2679 886.378 16.8578 Q884.991 18.4377 882.56 18.4377 Q880.119 18.4377 878.732 16.8578 Q877.355 15.2679 877.355 12.4829 Q877.355 9.68774 878.732 8.10788 Q880.119 6.52803 882.56 6.52803 Z\" fill=\"#000000\" fill-rule=\"evenodd\" fill-opacity=\"1\" /><path clip-path=\"url(#clip660)\" d=\"M 0 0 M891.563 3.581 L891.563 6.80147 L895.401 6.80147 L895.401 8.24967 L891.563 8.24967 L891.563 14.407 Q891.563 15.7945 891.938 16.1894 Q892.323 16.5844 893.487 16.5844 L895.401 16.5844 L895.401 18.144 L893.487 18.144 Q891.33 18.144 890.51 17.3439 Q889.69 16.5338 889.69 14.407 L889.69 8.24967 L888.322 8.24967 L888.322 6.80147 L889.69 6.80147 L889.69 3.581 L891.563 3.581 Z\" fill=\"#000000\" fill-rule=\"evenodd\" fill-opacity=\"1\" /><polyline clip-path=\"url(#clip662)\" style=\"stroke:#000000; stroke-width:1; stroke-opacity:1; fill:none\" points=\"\n",
       "  104.955,682.768 104.955,81.3581 \n",
       "  \"/>\n",
       "<polyline clip-path=\"url(#clip662)\" style=\"stroke:#000000; stroke-width:1; stroke-opacity:1; fill:none\" points=\"\n",
       "  1544.99,1512.36 1544.99,915.835 \n",
       "  \"/>\n",
       "<line clip-path=\"url(#clip662)\" x1=\"108.955\" y1=\"682.768\" x2=\"100.955\" y2=\"682.768\" style=\"stroke:#000000; stroke-width:3.2; stroke-opacity:1\"/>\n",
       "<line clip-path=\"url(#clip662)\" x1=\"108.955\" y1=\"81.3581\" x2=\"100.955\" y2=\"81.3581\" style=\"stroke:#000000; stroke-width:3.2; stroke-opacity:1\"/>\n",
       "<line clip-path=\"url(#clip662)\" x1=\"1548.99\" y1=\"1512.36\" x2=\"1540.99\" y2=\"1512.36\" style=\"stroke:#000000; stroke-width:3.2; stroke-opacity:1\"/>\n",
       "<line clip-path=\"url(#clip662)\" x1=\"1548.99\" y1=\"915.835\" x2=\"1540.99\" y2=\"915.835\" style=\"stroke:#000000; stroke-width:3.2; stroke-opacity:1\"/>\n",
       "<circle clip-path=\"url(#clip662)\" cx=\"104.955\" cy=\"382.063\" r=\"3\" fill=\"#009af9\" fill-rule=\"evenodd\" fill-opacity=\"1\" stroke=\"#000000\" stroke-opacity=\"1\" stroke-width=\"3.2\"/>\n",
       "<circle clip-path=\"url(#clip662)\" cx=\"1544.99\" cy=\"1214.1\" r=\"3\" fill=\"#009af9\" fill-rule=\"evenodd\" fill-opacity=\"1\" stroke=\"#000000\" stroke-opacity=\"1\" stroke-width=\"3.2\"/>\n",
       "<path clip-path=\"url(#clip660)\" d=\"\n",
       "M1354.95 119.23 L1537.31 119.23 L1537.31 88.9902 L1354.95 88.9902  Z\n",
       "  \" fill=\"#ffffff\" fill-rule=\"evenodd\" fill-opacity=\"1\"/>\n",
       "<polyline clip-path=\"url(#clip660)\" style=\"stroke:#000000; stroke-width:1; stroke-opacity:1; fill:none\" points=\"\n",
       "  1354.95,119.23 1537.31,119.23 1537.31,88.9902 1354.95,88.9902 1354.95,119.23 \n",
       "  \"/>\n",
       "<circle clip-path=\"url(#clip660)\" cx=\"1422.79\" cy=\"104.11\" r=\"5\" fill=\"#009af9\" fill-rule=\"evenodd\" fill-opacity=\"1\" stroke=\"#000000\" stroke-opacity=\"1\" stroke-width=\"5.12\"/>\n",
       "<path clip-path=\"url(#clip660)\" d=\"M 0 0 M1494.09 109.032 Q1493.64 110.189 1493.21 110.542 Q1492.79 110.895 1492.07 110.895 L1491.22 110.895 L1491.22 110.004 L1491.84 110.004 Q1492.28 110.004 1492.52 109.796 Q1492.77 109.588 1493.06 108.812 L1493.25 108.326 L1490.63 101.949 L1491.76 101.949 L1493.79 107.018 L1495.81 101.949 L1496.94 101.949 L1494.09 109.032 Z\" fill=\"#000000\" fill-rule=\"evenodd\" fill-opacity=\"1\" /><path clip-path=\"url(#clip660)\" d=\"M 0 0 M1498.41 107.446 L1500.32 107.446 L1500.32 100.855 L1498.24 101.272 L1498.24 100.207 L1500.31 99.7902 L1501.48 99.7902 L1501.48 107.446 L1503.39 107.446 L1503.39 108.43 L1498.41 108.43 L1498.41 107.446 Z\" fill=\"#000000\" fill-rule=\"evenodd\" fill-opacity=\"1\" /></svg>\n"
      ]
     },
     "execution_count": 78,
     "metadata": {},
     "output_type": "execute_result"
    }
   ],
   "source": [
    "plot(coefdf.names,\n",
    "           coefdf.coefs,\n",
    "           seriestype = :scatter,\n",
    "           #legend = false,\n",
    "           yerror = 1.96 .* coefdf.err,\n",
    "           title = \"Coefficient plot\"\n",
    "       )\n",
    "plot!(size=(1600,1600))"
   ]
  },
  {
   "cell_type": "code",
   "execution_count": 23,
   "metadata": {},
   "outputs": [],
   "source": [
    "# diagnostics"
   ]
  },
  {
   "cell_type": "code",
   "execution_count": 52,
   "metadata": {},
   "outputs": [
    {
     "name": "stdout",
     "output_type": "stream",
     "text": [
      "\u001b[32m\u001b[1m Resolving\u001b[22m\u001b[39m package versions...\n",
      "\u001b[32m\u001b[1m  Updating\u001b[22m\u001b[39m `~/.julia/environments/v1.0/Project.toml`\n",
      "\u001b[90m [no changes]\u001b[39m\n",
      "\u001b[32m\u001b[1m  Updating\u001b[22m\u001b[39m `~/.julia/environments/v1.0/Manifest.toml`\n",
      "\u001b[90m [no changes]\u001b[39m\n",
      "\u001b[32m\u001b[1m Resolving\u001b[22m\u001b[39m package versions...\n",
      "\u001b[32m\u001b[1m  Updating\u001b[22m\u001b[39m `~/.julia/environments/v1.0/Project.toml`\n",
      "\u001b[90m [no changes]\u001b[39m\n",
      "\u001b[32m\u001b[1m  Updating\u001b[22m\u001b[39m `~/.julia/environments/v1.0/Manifest.toml`\n",
      "\u001b[90m [no changes]\u001b[39m\n"
     ]
    }
   ],
   "source": [
    "Pkg.add(\"StatPlots\")\n",
    "Pkg.add(\"Plots\")"
   ]
  },
  {
   "cell_type": "code",
   "execution_count": 53,
   "metadata": {},
   "outputs": [],
   "source": [
    "using StatPlots, Plots"
   ]
  },
  {
   "cell_type": "code",
   "execution_count": 55,
   "metadata": {},
   "outputs": [
    {
     "data": {
      "image/svg+xml": [
       "<?xml version=\"1.0\" encoding=\"utf-8\"?>\n",
       "<svg xmlns=\"http://www.w3.org/2000/svg\" xmlns:xlink=\"http://www.w3.org/1999/xlink\" width=\"600\" height=\"400\" viewBox=\"0 0 2400 1600\">\n",
       "<defs>\n",
       "  <clipPath id=\"clip1400\">\n",
       "    <rect x=\"0\" y=\"0\" width=\"2000\" height=\"2000\"/>\n",
       "  </clipPath>\n",
       "</defs>\n",
       "<defs>\n",
       "  <clipPath id=\"clip1401\">\n",
       "    <rect x=\"0\" y=\"0\" width=\"2400\" height=\"1600\"/>\n",
       "  </clipPath>\n",
       "</defs>\n",
       "<polygon clip-path=\"url(#clip1401)\" points=\"\n",
       "0,1600 2400,1600 2400,0 0,0 \n",
       "  \" fill=\"#ffffff\" fill-rule=\"evenodd\" fill-opacity=\"1\"/>\n",
       "<defs>\n",
       "  <clipPath id=\"clip1402\">\n",
       "    <rect x=\"480\" y=\"0\" width=\"1681\" height=\"1600\"/>\n",
       "  </clipPath>\n",
       "</defs>\n",
       "<polygon clip-path=\"url(#clip1401)\" points=\"\n",
       "211.005,671.979 1179.52,671.979 1179.52,47.2441 211.005,47.2441 \n",
       "  \" fill=\"#ffffff\" fill-rule=\"evenodd\" fill-opacity=\"1\"/>\n",
       "<defs>\n",
       "  <clipPath id=\"clip1403\">\n",
       "    <rect x=\"211\" y=\"47\" width=\"970\" height=\"626\"/>\n",
       "  </clipPath>\n",
       "</defs>\n",
       "<polyline clip-path=\"url(#clip1401)\" style=\"stroke:#000000; stroke-width:4; stroke-opacity:0; fill:none\" points=\"\n",
       "  211.005,671.979 1179.52,671.979 \n",
       "  \"/>\n",
       "<polyline clip-path=\"url(#clip1401)\" style=\"stroke:#000000; stroke-width:4; stroke-opacity:0; fill:none\" points=\"\n",
       "  211.005,671.979 211.005,47.2441 \n",
       "  \"/>\n",
       "<polyline clip-path=\"url(#clip1401)\" style=\"stroke:#000000; stroke-width:4; stroke-opacity:1; fill:none\" points=\"\n",
       "  264.275,671.979 264.275,662.608 \n",
       "  \"/>\n",
       "<polyline clip-path=\"url(#clip1401)\" style=\"stroke:#000000; stroke-width:4; stroke-opacity:1; fill:none\" points=\"\n",
       "  455.825,671.979 455.825,662.608 \n",
       "  \"/>\n",
       "<polyline clip-path=\"url(#clip1401)\" style=\"stroke:#000000; stroke-width:4; stroke-opacity:1; fill:none\" points=\"\n",
       "  647.374,671.979 647.374,662.608 \n",
       "  \"/>\n",
       "<polyline clip-path=\"url(#clip1401)\" style=\"stroke:#000000; stroke-width:4; stroke-opacity:1; fill:none\" points=\"\n",
       "  838.924,671.979 838.924,662.608 \n",
       "  \"/>\n",
       "<polyline clip-path=\"url(#clip1401)\" style=\"stroke:#000000; stroke-width:4; stroke-opacity:1; fill:none\" points=\"\n",
       "  1030.47,671.979 1030.47,662.608 \n",
       "  \"/>\n",
       "<polyline clip-path=\"url(#clip1401)\" style=\"stroke:#000000; stroke-width:4; stroke-opacity:1; fill:none\" points=\"\n",
       "  211.005,654.297 225.533,654.297 \n",
       "  \"/>\n",
       "<polyline clip-path=\"url(#clip1401)\" style=\"stroke:#000000; stroke-width:4; stroke-opacity:1; fill:none\" points=\"\n",
       "  211.005,545.154 225.533,545.154 \n",
       "  \"/>\n",
       "<polyline clip-path=\"url(#clip1401)\" style=\"stroke:#000000; stroke-width:4; stroke-opacity:1; fill:none\" points=\"\n",
       "  211.005,436.011 225.533,436.011 \n",
       "  \"/>\n",
       "<polyline clip-path=\"url(#clip1401)\" style=\"stroke:#000000; stroke-width:4; stroke-opacity:1; fill:none\" points=\"\n",
       "  211.005,326.868 225.533,326.868 \n",
       "  \"/>\n",
       "<polyline clip-path=\"url(#clip1401)\" style=\"stroke:#000000; stroke-width:4; stroke-opacity:1; fill:none\" points=\"\n",
       "  211.005,217.725 225.533,217.725 \n",
       "  \"/>\n",
       "<polyline clip-path=\"url(#clip1401)\" style=\"stroke:#000000; stroke-width:4; stroke-opacity:1; fill:none\" points=\"\n",
       "  211.005,108.582 225.533,108.582 \n",
       "  \"/>\n",
       "<g clip-path=\"url(#clip1401)\">\n",
       "<text style=\"fill:#000000; fill-opacity:1; font-family:Arial,Helvetica Neue,Helvetica,sans-serif; font-size:48px; text-anchor:middle;\" transform=\"rotate(0, 264.275, 725.979)\" x=\"264.275\" y=\"725.979\"></text>\n",
       "</g>\n",
       "<g clip-path=\"url(#clip1401)\">\n",
       "<text style=\"fill:#000000; fill-opacity:1; font-family:Arial,Helvetica Neue,Helvetica,sans-serif; font-size:48px; text-anchor:middle;\" transform=\"rotate(0, 455.825, 725.979)\" x=\"455.825\" y=\"725.979\"></text>\n",
       "</g>\n",
       "<g clip-path=\"url(#clip1401)\">\n",
       "<text style=\"fill:#000000; fill-opacity:1; font-family:Arial,Helvetica Neue,Helvetica,sans-serif; font-size:48px; text-anchor:middle;\" transform=\"rotate(0, 647.374, 725.979)\" x=\"647.374\" y=\"725.979\"></text>\n",
       "</g>\n",
       "<g clip-path=\"url(#clip1401)\">\n",
       "<text style=\"fill:#000000; fill-opacity:1; font-family:Arial,Helvetica Neue,Helvetica,sans-serif; font-size:48px; text-anchor:middle;\" transform=\"rotate(0, 838.924, 725.979)\" x=\"838.924\" y=\"725.979\"></text>\n",
       "</g>\n",
       "<g clip-path=\"url(#clip1401)\">\n",
       "<text style=\"fill:#000000; fill-opacity:1; font-family:Arial,Helvetica Neue,Helvetica,sans-serif; font-size:48px; text-anchor:middle;\" transform=\"rotate(0, 1030.47, 725.979)\" x=\"1030.47\" y=\"725.979\"></text>\n",
       "</g>\n",
       "<g clip-path=\"url(#clip1401)\">\n",
       "<text style=\"fill:#000000; fill-opacity:1; font-family:Arial,Helvetica Neue,Helvetica,sans-serif; font-size:48px; text-anchor:end;\" transform=\"rotate(0, 187.005, 671.797)\" x=\"187.005\" y=\"671.797\">0</text>\n",
       "</g>\n",
       "<g clip-path=\"url(#clip1401)\">\n",
       "<text style=\"fill:#000000; fill-opacity:1; font-family:Arial,Helvetica Neue,Helvetica,sans-serif; font-size:48px; text-anchor:end;\" transform=\"rotate(0, 187.005, 562.654)\" x=\"187.005\" y=\"562.654\">5</text>\n",
       "</g>\n",
       "<g clip-path=\"url(#clip1401)\">\n",
       "<text style=\"fill:#000000; fill-opacity:1; font-family:Arial,Helvetica Neue,Helvetica,sans-serif; font-size:48px; text-anchor:end;\" transform=\"rotate(0, 187.005, 453.511)\" x=\"187.005\" y=\"453.511\">10</text>\n",
       "</g>\n",
       "<g clip-path=\"url(#clip1401)\">\n",
       "<text style=\"fill:#000000; fill-opacity:1; font-family:Arial,Helvetica Neue,Helvetica,sans-serif; font-size:48px; text-anchor:end;\" transform=\"rotate(0, 187.005, 344.368)\" x=\"187.005\" y=\"344.368\">15</text>\n",
       "</g>\n",
       "<g clip-path=\"url(#clip1401)\">\n",
       "<text style=\"fill:#000000; fill-opacity:1; font-family:Arial,Helvetica Neue,Helvetica,sans-serif; font-size:48px; text-anchor:end;\" transform=\"rotate(0, 187.005, 235.225)\" x=\"187.005\" y=\"235.225\">20</text>\n",
       "</g>\n",
       "<g clip-path=\"url(#clip1401)\">\n",
       "<text style=\"fill:#000000; fill-opacity:1; font-family:Arial,Helvetica Neue,Helvetica,sans-serif; font-size:48px; text-anchor:end;\" transform=\"rotate(0, 187.005, 126.082)\" x=\"187.005\" y=\"126.082\">25</text>\n",
       "</g>\n",
       "<g clip-path=\"url(#clip1401)\">\n",
       "<text style=\"fill:#000000; fill-opacity:1; font-family:Arial,Helvetica Neue,Helvetica,sans-serif; font-size:66px; text-anchor:middle;\" transform=\"rotate(-90, 57.6, 359.611)\" x=\"57.6\" y=\"359.611\">lnbdb</text>\n",
       "</g>\n",
       "<polygon clip-path=\"url(#clip1403)\" points=\"\n",
       "264.275,436.011 264.275,654.297 360.05,654.297 360.05,436.011 264.275,436.011 264.275,436.011 \n",
       "  \" fill=\"#000000\" fill-rule=\"evenodd\" fill-opacity=\"1\"/>\n",
       "<polyline clip-path=\"url(#clip1403)\" style=\"stroke:#000000; stroke-width:4; stroke-opacity:1; fill:none\" points=\"\n",
       "  264.275,436.011 264.275,654.297 360.05,654.297 360.05,436.011 264.275,436.011 \n",
       "  \"/>\n",
       "<polygon clip-path=\"url(#clip1403)\" points=\"\n",
       "360.05,326.868 360.05,654.297 455.825,654.297 455.825,326.868 360.05,326.868 360.05,326.868 \n",
       "  \" fill=\"#000000\" fill-rule=\"evenodd\" fill-opacity=\"1\"/>\n",
       "<polyline clip-path=\"url(#clip1403)\" style=\"stroke:#000000; stroke-width:4; stroke-opacity:1; fill:none\" points=\"\n",
       "  360.05,326.868 360.05,654.297 455.825,654.297 455.825,326.868 360.05,326.868 \n",
       "  \"/>\n",
       "<polygon clip-path=\"url(#clip1403)\" points=\"\n",
       "455.825,64.9253 455.825,654.297 551.599,654.297 551.599,64.9253 455.825,64.9253 455.825,64.9253 \n",
       "  \" fill=\"#000000\" fill-rule=\"evenodd\" fill-opacity=\"1\"/>\n",
       "<polyline clip-path=\"url(#clip1403)\" style=\"stroke:#000000; stroke-width:4; stroke-opacity:1; fill:none\" points=\"\n",
       "  455.825,64.9253 455.825,654.297 551.599,654.297 551.599,64.9253 455.825,64.9253 \n",
       "  \"/>\n",
       "<polygon clip-path=\"url(#clip1403)\" points=\"\n",
       "551.599,261.383 551.599,654.297 647.374,654.297 647.374,261.383 551.599,261.383 551.599,261.383 \n",
       "  \" fill=\"#000000\" fill-rule=\"evenodd\" fill-opacity=\"1\"/>\n",
       "<polyline clip-path=\"url(#clip1403)\" style=\"stroke:#000000; stroke-width:4; stroke-opacity:1; fill:none\" points=\"\n",
       "  551.599,261.383 551.599,654.297 647.374,654.297 647.374,261.383 551.599,261.383 \n",
       "  \"/>\n",
       "<polygon clip-path=\"url(#clip1403)\" points=\"\n",
       "647.374,130.411 647.374,654.297 743.149,654.297 743.149,130.411 647.374,130.411 647.374,130.411 \n",
       "  \" fill=\"#000000\" fill-rule=\"evenodd\" fill-opacity=\"1\"/>\n",
       "<polyline clip-path=\"url(#clip1403)\" style=\"stroke:#000000; stroke-width:4; stroke-opacity:1; fill:none\" points=\"\n",
       "  647.374,130.411 647.374,654.297 743.149,654.297 743.149,130.411 647.374,130.411 \n",
       "  \"/>\n",
       "<polygon clip-path=\"url(#clip1403)\" points=\"\n",
       "743.149,348.697 743.149,654.297 838.924,654.297 838.924,348.697 743.149,348.697 743.149,348.697 \n",
       "  \" fill=\"#000000\" fill-rule=\"evenodd\" fill-opacity=\"1\"/>\n",
       "<polyline clip-path=\"url(#clip1403)\" style=\"stroke:#000000; stroke-width:4; stroke-opacity:1; fill:none\" points=\"\n",
       "  743.149,348.697 743.149,654.297 838.924,654.297 838.924,348.697 743.149,348.697 \n",
       "  \"/>\n",
       "<polygon clip-path=\"url(#clip1403)\" points=\"\n",
       "838.924,588.812 838.924,654.297 934.699,654.297 934.699,588.812 838.924,588.812 838.924,588.812 \n",
       "  \" fill=\"#000000\" fill-rule=\"evenodd\" fill-opacity=\"1\"/>\n",
       "<polyline clip-path=\"url(#clip1403)\" style=\"stroke:#000000; stroke-width:4; stroke-opacity:1; fill:none\" points=\"\n",
       "  838.924,588.812 838.924,654.297 934.699,654.297 934.699,588.812 838.924,588.812 \n",
       "  \"/>\n",
       "<polygon clip-path=\"url(#clip1403)\" points=\"\n",
       "934.699,610.64 934.699,654.297 1030.47,654.297 1030.47,610.64 934.699,610.64 934.699,610.64 \n",
       "  \" fill=\"#000000\" fill-rule=\"evenodd\" fill-opacity=\"1\"/>\n",
       "<polyline clip-path=\"url(#clip1403)\" style=\"stroke:#000000; stroke-width:4; stroke-opacity:1; fill:none\" points=\"\n",
       "  934.699,610.64 934.699,654.297 1030.47,654.297 1030.47,610.64 934.699,610.64 \n",
       "  \"/>\n",
       "<polygon clip-path=\"url(#clip1403)\" points=\"\n",
       "1030.47,632.469 1030.47,654.297 1126.25,654.297 1126.25,632.469 1030.47,632.469 1030.47,632.469 \n",
       "  \" fill=\"#000000\" fill-rule=\"evenodd\" fill-opacity=\"1\"/>\n",
       "<polyline clip-path=\"url(#clip1403)\" style=\"stroke:#000000; stroke-width:4; stroke-opacity:1; fill:none\" points=\"\n",
       "  1030.47,632.469 1030.47,654.297 1126.25,654.297 1126.25,632.469 1030.47,632.469 \n",
       "  \"/>\n",
       "<polygon clip-path=\"url(#clip1401)\" points=\"\n",
       "1352.75,671.979 2321.26,671.979 2321.26,47.2441 1352.75,47.2441 \n",
       "  \" fill=\"#ffffff\" fill-rule=\"evenodd\" fill-opacity=\"1\"/>\n",
       "<defs>\n",
       "  <clipPath id=\"clip1404\">\n",
       "    <rect x=\"1352\" y=\"47\" width=\"970\" height=\"626\"/>\n",
       "  </clipPath>\n",
       "</defs>\n",
       "<polyline clip-path=\"url(#clip1401)\" style=\"stroke:#000000; stroke-width:4; stroke-opacity:0; fill:none\" points=\"\n",
       "  1352.75,671.979 2321.26,671.979 \n",
       "  \"/>\n",
       "<polyline clip-path=\"url(#clip1401)\" style=\"stroke:#000000; stroke-width:4; stroke-opacity:0; fill:none\" points=\"\n",
       "  1352.75,671.979 1352.75,47.2441 \n",
       "  \"/>\n",
       "<polyline clip-path=\"url(#clip1401)\" style=\"stroke:#000000; stroke-width:4; stroke-opacity:1; fill:none\" points=\"\n",
       "  1406.02,671.979 1406.02,662.608 \n",
       "  \"/>\n",
       "<polyline clip-path=\"url(#clip1401)\" style=\"stroke:#000000; stroke-width:4; stroke-opacity:1; fill:none\" points=\"\n",
       "  1578.41,671.979 1578.41,662.608 \n",
       "  \"/>\n",
       "<polyline clip-path=\"url(#clip1401)\" style=\"stroke:#000000; stroke-width:4; stroke-opacity:1; fill:none\" points=\"\n",
       "  1750.81,671.979 1750.81,662.608 \n",
       "  \"/>\n",
       "<polyline clip-path=\"url(#clip1401)\" style=\"stroke:#000000; stroke-width:4; stroke-opacity:1; fill:none\" points=\"\n",
       "  1923.2,671.979 1923.2,662.608 \n",
       "  \"/>\n",
       "<polyline clip-path=\"url(#clip1401)\" style=\"stroke:#000000; stroke-width:4; stroke-opacity:1; fill:none\" points=\"\n",
       "  2095.6,671.979 2095.6,662.608 \n",
       "  \"/>\n",
       "<polyline clip-path=\"url(#clip1401)\" style=\"stroke:#000000; stroke-width:4; stroke-opacity:1; fill:none\" points=\"\n",
       "  2267.99,671.979 2267.99,662.608 \n",
       "  \"/>\n",
       "<polyline clip-path=\"url(#clip1401)\" style=\"stroke:#000000; stroke-width:4; stroke-opacity:1; fill:none\" points=\"\n",
       "  1352.75,671.979 1367.27,671.979 \n",
       "  \"/>\n",
       "<polyline clip-path=\"url(#clip1401)\" style=\"stroke:#000000; stroke-width:4; stroke-opacity:1; fill:none\" points=\"\n",
       "  1352.75,547.032 1367.27,547.032 \n",
       "  \"/>\n",
       "<polyline clip-path=\"url(#clip1401)\" style=\"stroke:#000000; stroke-width:4; stroke-opacity:1; fill:none\" points=\"\n",
       "  1352.75,422.085 1367.27,422.085 \n",
       "  \"/>\n",
       "<polyline clip-path=\"url(#clip1401)\" style=\"stroke:#000000; stroke-width:4; stroke-opacity:1; fill:none\" points=\"\n",
       "  1352.75,297.138 1367.27,297.138 \n",
       "  \"/>\n",
       "<polyline clip-path=\"url(#clip1401)\" style=\"stroke:#000000; stroke-width:4; stroke-opacity:1; fill:none\" points=\"\n",
       "  1352.75,172.191 1367.27,172.191 \n",
       "  \"/>\n",
       "<polyline clip-path=\"url(#clip1401)\" style=\"stroke:#000000; stroke-width:4; stroke-opacity:1; fill:none\" points=\"\n",
       "  1352.75,47.2441 1367.27,47.2441 \n",
       "  \"/>\n",
       "<g clip-path=\"url(#clip1401)\">\n",
       "<text style=\"fill:#000000; fill-opacity:1; font-family:Arial,Helvetica Neue,Helvetica,sans-serif; font-size:48px; text-anchor:middle;\" transform=\"rotate(0, 1406.02, 725.979)\" x=\"1406.02\" y=\"725.979\"></text>\n",
       "</g>\n",
       "<g clip-path=\"url(#clip1401)\">\n",
       "<text style=\"fill:#000000; fill-opacity:1; font-family:Arial,Helvetica Neue,Helvetica,sans-serif; font-size:48px; text-anchor:middle;\" transform=\"rotate(0, 1578.41, 725.979)\" x=\"1578.41\" y=\"725.979\"></text>\n",
       "</g>\n",
       "<g clip-path=\"url(#clip1401)\">\n",
       "<text style=\"fill:#000000; fill-opacity:1; font-family:Arial,Helvetica Neue,Helvetica,sans-serif; font-size:48px; text-anchor:middle;\" transform=\"rotate(0, 1750.81, 725.979)\" x=\"1750.81\" y=\"725.979\"></text>\n",
       "</g>\n",
       "<g clip-path=\"url(#clip1401)\">\n",
       "<text style=\"fill:#000000; fill-opacity:1; font-family:Arial,Helvetica Neue,Helvetica,sans-serif; font-size:48px; text-anchor:middle;\" transform=\"rotate(0, 1923.2, 725.979)\" x=\"1923.2\" y=\"725.979\"></text>\n",
       "</g>\n",
       "<g clip-path=\"url(#clip1401)\">\n",
       "<text style=\"fill:#000000; fill-opacity:1; font-family:Arial,Helvetica Neue,Helvetica,sans-serif; font-size:48px; text-anchor:middle;\" transform=\"rotate(0, 2095.6, 725.979)\" x=\"2095.6\" y=\"725.979\"></text>\n",
       "</g>\n",
       "<g clip-path=\"url(#clip1401)\">\n",
       "<text style=\"fill:#000000; fill-opacity:1; font-family:Arial,Helvetica Neue,Helvetica,sans-serif; font-size:48px; text-anchor:middle;\" transform=\"rotate(0, 2267.99, 725.979)\" x=\"2267.99\" y=\"725.979\"></text>\n",
       "</g>\n",
       "<g clip-path=\"url(#clip1401)\">\n",
       "<text style=\"fill:#000000; fill-opacity:1; font-family:Arial,Helvetica Neue,Helvetica,sans-serif; font-size:48px; text-anchor:end;\" transform=\"rotate(0, 1328.75, 689.479)\" x=\"1328.75\" y=\"689.479\"></text>\n",
       "</g>\n",
       "<g clip-path=\"url(#clip1401)\">\n",
       "<text style=\"fill:#000000; fill-opacity:1; font-family:Arial,Helvetica Neue,Helvetica,sans-serif; font-size:48px; text-anchor:end;\" transform=\"rotate(0, 1328.75, 564.532)\" x=\"1328.75\" y=\"564.532\"></text>\n",
       "</g>\n",
       "<g clip-path=\"url(#clip1401)\">\n",
       "<text style=\"fill:#000000; fill-opacity:1; font-family:Arial,Helvetica Neue,Helvetica,sans-serif; font-size:48px; text-anchor:end;\" transform=\"rotate(0, 1328.75, 439.585)\" x=\"1328.75\" y=\"439.585\"></text>\n",
       "</g>\n",
       "<g clip-path=\"url(#clip1401)\">\n",
       "<text style=\"fill:#000000; fill-opacity:1; font-family:Arial,Helvetica Neue,Helvetica,sans-serif; font-size:48px; text-anchor:end;\" transform=\"rotate(0, 1328.75, 314.638)\" x=\"1328.75\" y=\"314.638\"></text>\n",
       "</g>\n",
       "<g clip-path=\"url(#clip1401)\">\n",
       "<text style=\"fill:#000000; fill-opacity:1; font-family:Arial,Helvetica Neue,Helvetica,sans-serif; font-size:48px; text-anchor:end;\" transform=\"rotate(0, 1328.75, 189.691)\" x=\"1328.75\" y=\"189.691\"></text>\n",
       "</g>\n",
       "<g clip-path=\"url(#clip1401)\">\n",
       "<text style=\"fill:#000000; fill-opacity:1; font-family:Arial,Helvetica Neue,Helvetica,sans-serif; font-size:48px; text-anchor:end;\" transform=\"rotate(0, 1328.75, 64.7441)\" x=\"1328.75\" y=\"64.7441\"></text>\n",
       "</g>\n",
       "<g clip-path=\"url(#clip1404)\">\n",
       "<image width=\"862\" height=\"625\" xlink:href=\"data:image/png;base64,\n",
       "iVBORw0KGgoAAAANSUhEUgAAA14AAAJxCAYAAABSVWOlAAAOKElEQVR4nO3ZMWoVARSGUUceIuIO\n",
       "JJAtCC7AyiVIIHuwtU9nWiv7VFmCiI1bSJPKInuwiA8mnfVM8XHxcc4K/vJ+3OUZAMA/h3V6AWx3\n",
       "XKYXwFbPpwcAAACcOuEFAAAQE14AAAAx4QUAABATXgAAADHhBQAAEBNeAAAAMeEFAAAQE14AAAAx\n",
       "4QUAABATXgAAADHhBQAAEBNeAAAAMeEFAAAQE14AAAAx4QUAABATXgAAADHhBQAAEBNeAAAAMeEF\n",
       "AAAQE14AAAAx4QUAABATXgAAADHhBQAAEBNeAAAAMeEFAAAQE14AAAAx4QUAABATXgAAADHhBQAA\n",
       "EBNeAAAAMeEFAAAQE14AAAAx4QUAABATXgAAADHhBQAAEBNeAAAAMeEFAAAQE14AAAAx4QUAABAT\n",
       "XgAAADHhBQAAEBNeAAAAMeEFAAAQE14AAAAx4QUAABATXgAAADHhBQAAEBNeAAAAMeEFAAAQE14A\n",
       "AAAx4QUAABATXgAAADHhBQAAEBNeAAAAMeEFAAAQE14AAAAx4QUAABATXgAAADHhBQAAEBNeAAAA\n",
       "MeEFAAAQE14AAAAx4QUAABATXgAAADHhBQAAEBNeAAAAMeEFAAAQE14AAAAx4QUAABATXgAAADHh\n",
       "BQAAEBNeAAAAMeEFAAAQE14AAAAx4QUAABATXgAAADHhBQAAEBNeAAAAMeEFAAAQE14AAAAx4QUA\n",
       "ABATXgAAADHhBQAAEBNeAAAAMeEFAAAQE14AAAAx4QUAABATXgAAADHhBQAAEBNeAAAAMeEFAAAQ\n",
       "E14AAAAx4QUAABATXgAAADHhBQAAEBNeAAAAMeEFAAAQE14AAAAx4QUAABATXgAAADHhBQAAEBNe\n",
       "AAAAMeEFAAAQE14AAAAx4QUAABATXgAAADHhBQAAEBNeAAAAMeEFAAAQE14AAAAx4QUAABATXgAA\n",
       "ADHhBQAAEBNeAAAAMeEFAAAQE14AAAAx4QUAABATXgAAADHhBQAAEBNeAAAAMeEFAAAQE14AAAAx\n",
       "4QUAABA7TA+A/Q7r9ALY6tWLs+kJACfrz+Pv6QmwmY8XAABATHgBAADEhBcAAEBMeAEAAMSEFwAA\n",
       "QEx4AQAAxIQXAABATHgBAADEhBcAAEBMeAEAAMSEFwAAQEx4AQAAxIQXAABATHgBAADEhBcAAEBM\n",
       "eAEAAMSEFwAAQEx4AQAAxIQXAABATHgBAADEhBcAAEBMeAEAAMSEFwAAQEx4AQAAxIQXAABATHgB\n",
       "AADEhBcAAEBMeAEAAMSEFwAAQEx4AQAAxIQXAABATHgBAADEhBcAAEBMeAEAAMSEFwAAQEx4AQAA\n",
       "xIQXAABATHgBAADEhBcAAEBMeAEAAMSEFwAAQEx4AQAAxIQXAABATHgBAADEhBcAAEBMeAEAAMSE\n",
       "FwAAQEx4AQAAxIQXAABATHgBAADEhBcAAEBMeAEAAMSEFwAAQEx4AQAAxIQXAABATHgBAADEhBcA\n",
       "AEBMeAEAAMSEFwAAQEx4AQAAxIQXAABATHgBAADEhBcAAEBMeAEAAMSEFwAAQEx4AQAAxIQXAABA\n",
       "THgBAADEhBcAAEBMeAEAAMSEFwAAQEx4AQAAxIQXAABATHgBAADEhBcAAEBMeAEAAMSEFwAAQEx4\n",
       "AQAAxIQXAABATHgBAADEhBcAAEBMeAEAAMSEFwAAQEx4AQAAxIQXAABATHgBAADEhBcAAEBMeAEA\n",
       "AMSEFwAAQEx4AQAAxIQXAABATHgBAADEhBcAAEBMeAEAAMSEFwAAQEx4AQAAxIQXAABATHgBAADE\n",
       "hBcAAEBMeAEAAMSEFwAAQEx4AQAAxIQXAABATHgBAADEhBcAAEBMeAEAAMSEFwAAQEx4AQAAxIQX\n",
       "AABATHgBAADEhBcAAEBMeAEAAMSEFwAAQEx4AQAAxIQXAABATHgBAADEhBcAAEBMeAEAAMSEFwAA\n",
       "QEx4AQAAxIQXAABATHgBAADEhBcAAEBMeAEAAMQOb16/X6dHwB7X5+fTE2Czj1++T0+AXW4/f5ie\n",
       "AJtd3j24Y/lv+HgBAADEhBcAAEBMeAEAAMSEFwAAQEx4AQAAxIQXAABATHgBAADEhBcAAEBMeAEA\n",
       "AMSEFwAAQEx4AQAAxIQXAABATHgBAADEhBcAAEBMeAEAAMSEFwAAQEx4AQAAxIQXAABATHgBAADE\n",
       "hBcAAEBMeAEAAMSEFwAAQEx4AQAAxIQXAABATHgBAADEhBcAAEBMeAEAAMSEFwAAQEx4AQAAxIQX\n",
       "AABATHgBAADEhBcAAEBMeAEAAMSEFwAAQEx4AQAAxIQXAABATHgBAADEhBcAAEBMeAEAAMSEFwAA\n",
       "QEx4AQAAxIQXAABATHgBAADEhBcAAEBMeAEAAMSEFwAAQEx4AQAAxIQXAABATHgBAADEhBcAAEBM\n",
       "eAEAAMSEFwAAQEx4AQAAxIQXAABATHgBAADEhBcAAEBMeAEAAMSEFwAAQEx4AQAAxIQXAABATHgB\n",
       "AADEhBcAAEBMeAEAAMSEFwAAQEx4AQAAxIQXAABATHgBAADEhBcAAEBMeAEAAMSEFwAAQEx4AQAA\n",
       "xIQXAABATHgBAADEhBcAAEBMeAEAAMSEFwAAQEx4AQAAxIQXAABATHgBAADEhBcAAEBMeAEAAMSE\n",
       "FwAAQEx4AQAAxIQXAABATHgBAADEhBcAAEBMeAEAAMSEFwAAQEx4AQAAxIQXAABATHgBAADEhBcA\n",
       "AEBMeAEAAMSEFwAAQEx4AQAAxIQXAABATHgBAADEhBcAAEBMeAEAAMSEFwAAQEx4AQAAxIQXAABA\n",
       "THgBAADEhBcAAEBMeAEAAMSEFwAAQEx4AQAAxIQXAABATHgBAADEhBcAAEBMeAEAAMSEFwAAQEx4\n",
       "AQAAxIQXAABATHgBAADEhBcAAEBMeAEAAMSEFwAAQEx4AQAAxIQXAABATHgBAADEhBcAAEBMeAEA\n",
       "AMSEFwAAQGw5rjfr9AjY4/Hq0/QE2Oz+17vpCbDL2x8/pyfADsdlegFs5eMFAAAQE14AAAAx4QUA\n",
       "ABATXgAAADHhBQAAEBNeAAAAMeEFAAAQE14AAAAx4QUAABATXgAAADHhBQAAEBNeAAAAMeEFAAAQ\n",
       "E14AAAAx4QUAABATXgAAADHhBQAAEBNeAAAAMeEFAAAQE14AAAAx4QUAABATXgAAADHhBQAAEBNe\n",
       "AAAAMeEFAAAQE14AAAAx4QUAABATXgAAADHhBQAAEBNeAAAAMeEFAAAQE14AAAAx4QUAABATXgAA\n",
       "ADHhBQAAEBNeAAAAMeEFAAAQE14AAAAx4QUAABATXgAAADHhBQAAEBNeAAAAMeEFAAAQE14AAAAx\n",
       "4QUAABATXgAAADHhBQAAEBNeAAAAMeEFAAAQE14AAAAx4QUAABATXgAAADHhBQAAEBNeAAAAMeEF\n",
       "AAAQE14AAAAx4QUAABATXgAAADHhBQAAEBNeAAAAMeEFAAAQE14AAAAx4QUAABATXgAAADHhBQAA\n",
       "EBNeAAAAMeEFAAAQE14AAAAx4QUAABATXgAAADHhBQAAEBNeAAAAMeEFAAAQE14AAAAx4QUAABAT\n",
       "XgAAADHhBQAAEBNeAAAAMeEFAAAQE14AAAAx4QUAABATXgAAADHhBQAAEBNeAAAAMeEFAAAQE14A\n",
       "AAAx4QUAABATXgAAADHhBQAAEBNeAAAAMeEFAAAQE14AAAAx4QUAABATXgAAADHhBQAAEBNeAAAA\n",
       "MeEFAAAQE14AAAAx4QUAABATXgAAADHhBQAAEBNeAAAAMeEFAAAQE14AAAAx4QUAABATXgAAADHh\n",
       "BQAAEBNeAAAAMeEFAAAQE14AAAAx4QUAABATXgAAADHhBQAAEBNeAAAAMeEFAAAQE14AAAAx4QUA\n",
       "ABATXgAAADHhBQAAEBNeAAAAMeEFAAAQE14AAAAx4QUAABATXgAAALHl77eX6/QI2OP268X0BNjs\n",
       "8u5megLsdFymFwCcIh8vAACAmPACAACICS8AAICY8AIAAIgJLwAAgJjwAgAAiAkvAACAmPACAACI\n",
       "CS8AAICY8AIAAIgJLwAAgJjwAgAAiAkvAACAmPACAACICS8AAICY8AIAAIgJLwAAgJjwAgAAiAkv\n",
       "AACAmPACAACICS8AAICY8AIAAIgJLwAAgJjwAgAAiAkvAACAmPACAACICS8AAICY8AIAAIgJLwAA\n",
       "gJjwAgAAiAkvAACAmPACAACICS8AAICY8AIAAIgJLwAAgJjwAgAAiAkvAACAmPACAACICS8AAICY\n",
       "8AIAAIgJLwAAgJjwAgAAiAkvAACAmPACAACICS8AAICY8AIAAIgJLwAAgJjwAgAAiAkvAACAmPAC\n",
       "AACICS8AAICY8AIAAIgJLwAAgJjwAgAAiAkvAACAmPACAACICS8AAICY8AIAAIgJLwAAgJjwAgAA\n",
       "iAkvAACAmPACAACICS8AAICY8AIAAIgJLwAAgJjwAgAAiAkvAACAmPACAACICS8AAICY8AIAAIgJ\n",
       "LwAAgJjwAgAAiAkvAACAmPACAACICS8AAICY8AIAAIgJLwAAgJjwAgAAiAkvAACAmPACAACICS8A\n",
       "AICY8AIAAIgJLwAAgJjwAgAAiAkvAACAmPACAACICS8AAICY8AIAAIgJLwAAgJjwAgAAiAkvAACA\n",
       "mPACAACICS8AAICY8AIAAIgJLwAAgJjwAgAAiAkvAACAmPACAACICS8AAICY8AIAAIgJLwAAgJjw\n",
       "AgAAiAkvAACAmPACAACICS8AAICY8AIAAIgJLwAAgJjwAgAAiAkvAACAmPACAACICS8AAICY8AIA\n",
       "AIgJLwAAgJjwAgAAiAkvAACAmPACAACICS8AAICY8AIAAIgJLwAAgJjwAgAAiAkvAACAmPACAACI\n",
       "CS8AAICY8AIAAIg9AeWhJCSL1656AAAAAElFTkSuQmCC\n",
       "\" transform=\"translate(1406, 47)\"/>\n",
       "</g>\n",
       "<polygon clip-path=\"url(#clip1401)\" points=\"\n",
       "211.005,1440.48 1179.52,1440.48 1179.52,815.748 211.005,815.748 \n",
       "  \" fill=\"#ffffff\" fill-rule=\"evenodd\" fill-opacity=\"1\"/>\n",
       "<defs>\n",
       "  <clipPath id=\"clip1405\">\n",
       "    <rect x=\"211\" y=\"815\" width=\"970\" height=\"626\"/>\n",
       "  </clipPath>\n",
       "</defs>\n",
       "<polyline clip-path=\"url(#clip1401)\" style=\"stroke:#000000; stroke-width:4; stroke-opacity:0; fill:none\" points=\"\n",
       "  211.005,1440.48 1179.52,1440.48 \n",
       "  \"/>\n",
       "<polyline clip-path=\"url(#clip1401)\" style=\"stroke:#000000; stroke-width:4; stroke-opacity:0; fill:none\" points=\"\n",
       "  211.005,1440.48 211.005,815.748 \n",
       "  \"/>\n",
       "<polyline clip-path=\"url(#clip1401)\" style=\"stroke:#000000; stroke-width:4; stroke-opacity:1; fill:none\" points=\"\n",
       "  264.275,1440.48 264.275,1431.11 \n",
       "  \"/>\n",
       "<polyline clip-path=\"url(#clip1401)\" style=\"stroke:#000000; stroke-width:4; stroke-opacity:1; fill:none\" points=\"\n",
       "  455.825,1440.48 455.825,1431.11 \n",
       "  \"/>\n",
       "<polyline clip-path=\"url(#clip1401)\" style=\"stroke:#000000; stroke-width:4; stroke-opacity:1; fill:none\" points=\"\n",
       "  647.374,1440.48 647.374,1431.11 \n",
       "  \"/>\n",
       "<polyline clip-path=\"url(#clip1401)\" style=\"stroke:#000000; stroke-width:4; stroke-opacity:1; fill:none\" points=\"\n",
       "  838.924,1440.48 838.924,1431.11 \n",
       "  \"/>\n",
       "<polyline clip-path=\"url(#clip1401)\" style=\"stroke:#000000; stroke-width:4; stroke-opacity:1; fill:none\" points=\"\n",
       "  1030.47,1440.48 1030.47,1431.11 \n",
       "  \"/>\n",
       "<polyline clip-path=\"url(#clip1401)\" style=\"stroke:#000000; stroke-width:4; stroke-opacity:1; fill:none\" points=\"\n",
       "  211.005,1422.8 225.533,1422.8 \n",
       "  \"/>\n",
       "<polyline clip-path=\"url(#clip1401)\" style=\"stroke:#000000; stroke-width:4; stroke-opacity:1; fill:none\" points=\"\n",
       "  211.005,1275.73 225.533,1275.73 \n",
       "  \"/>\n",
       "<polyline clip-path=\"url(#clip1401)\" style=\"stroke:#000000; stroke-width:4; stroke-opacity:1; fill:none\" points=\"\n",
       "  211.005,1128.65 225.533,1128.65 \n",
       "  \"/>\n",
       "<polyline clip-path=\"url(#clip1401)\" style=\"stroke:#000000; stroke-width:4; stroke-opacity:1; fill:none\" points=\"\n",
       "  211.005,981.581 225.533,981.581 \n",
       "  \"/>\n",
       "<polyline clip-path=\"url(#clip1401)\" style=\"stroke:#000000; stroke-width:4; stroke-opacity:1; fill:none\" points=\"\n",
       "  211.005,834.508 225.533,834.508 \n",
       "  \"/>\n",
       "<g clip-path=\"url(#clip1401)\">\n",
       "<text style=\"fill:#000000; fill-opacity:1; font-family:Arial,Helvetica Neue,Helvetica,sans-serif; font-size:48px; text-anchor:middle;\" transform=\"rotate(0, 264.275, 1494.48)\" x=\"264.275\" y=\"1494.48\">6</text>\n",
       "</g>\n",
       "<g clip-path=\"url(#clip1401)\">\n",
       "<text style=\"fill:#000000; fill-opacity:1; font-family:Arial,Helvetica Neue,Helvetica,sans-serif; font-size:48px; text-anchor:middle;\" transform=\"rotate(0, 455.825, 1494.48)\" x=\"455.825\" y=\"1494.48\">8</text>\n",
       "</g>\n",
       "<g clip-path=\"url(#clip1401)\">\n",
       "<text style=\"fill:#000000; fill-opacity:1; font-family:Arial,Helvetica Neue,Helvetica,sans-serif; font-size:48px; text-anchor:middle;\" transform=\"rotate(0, 647.374, 1494.48)\" x=\"647.374\" y=\"1494.48\">10</text>\n",
       "</g>\n",
       "<g clip-path=\"url(#clip1401)\">\n",
       "<text style=\"fill:#000000; fill-opacity:1; font-family:Arial,Helvetica Neue,Helvetica,sans-serif; font-size:48px; text-anchor:middle;\" transform=\"rotate(0, 838.924, 1494.48)\" x=\"838.924\" y=\"1494.48\">12</text>\n",
       "</g>\n",
       "<g clip-path=\"url(#clip1401)\">\n",
       "<text style=\"fill:#000000; fill-opacity:1; font-family:Arial,Helvetica Neue,Helvetica,sans-serif; font-size:48px; text-anchor:middle;\" transform=\"rotate(0, 1030.47, 1494.48)\" x=\"1030.47\" y=\"1494.48\">14</text>\n",
       "</g>\n",
       "<g clip-path=\"url(#clip1401)\">\n",
       "<text style=\"fill:#000000; fill-opacity:1; font-family:Arial,Helvetica Neue,Helvetica,sans-serif; font-size:48px; text-anchor:end;\" transform=\"rotate(0, 187.005, 1440.3)\" x=\"187.005\" y=\"1440.3\">0</text>\n",
       "</g>\n",
       "<g clip-path=\"url(#clip1401)\">\n",
       "<text style=\"fill:#000000; fill-opacity:1; font-family:Arial,Helvetica Neue,Helvetica,sans-serif; font-size:48px; text-anchor:end;\" transform=\"rotate(0, 187.005, 1293.23)\" x=\"187.005\" y=\"1293.23\">1</text>\n",
       "</g>\n",
       "<g clip-path=\"url(#clip1401)\">\n",
       "<text style=\"fill:#000000; fill-opacity:1; font-family:Arial,Helvetica Neue,Helvetica,sans-serif; font-size:48px; text-anchor:end;\" transform=\"rotate(0, 187.005, 1146.15)\" x=\"187.005\" y=\"1146.15\">2</text>\n",
       "</g>\n",
       "<g clip-path=\"url(#clip1401)\">\n",
       "<text style=\"fill:#000000; fill-opacity:1; font-family:Arial,Helvetica Neue,Helvetica,sans-serif; font-size:48px; text-anchor:end;\" transform=\"rotate(0, 187.005, 999.081)\" x=\"187.005\" y=\"999.081\">3</text>\n",
       "</g>\n",
       "<g clip-path=\"url(#clip1401)\">\n",
       "<text style=\"fill:#000000; fill-opacity:1; font-family:Arial,Helvetica Neue,Helvetica,sans-serif; font-size:48px; text-anchor:end;\" transform=\"rotate(0, 187.005, 852.008)\" x=\"187.005\" y=\"852.008\">4</text>\n",
       "</g>\n",
       "<g clip-path=\"url(#clip1401)\">\n",
       "<text style=\"fill:#000000; fill-opacity:1; font-family:Arial,Helvetica Neue,Helvetica,sans-serif; font-size:66px; text-anchor:middle;\" transform=\"rotate(0, 695.262, 1590.4)\" x=\"695.262\" y=\"1590.4\">lnbdb</text>\n",
       "</g>\n",
       "<g clip-path=\"url(#clip1401)\">\n",
       "<text style=\"fill:#000000; fill-opacity:1; font-family:Arial,Helvetica Neue,Helvetica,sans-serif; font-size:66px; text-anchor:middle;\" transform=\"rotate(-90, 57.6, 1128.12)\" x=\"57.6\" y=\"1128.12\">lnduration</text>\n",
       "</g>\n",
       "<circle clip-path=\"url(#clip1405)\" style=\"fill:#fa9707; stroke:none; fill-opacity:0.4\" cx=\"341.124\" cy=\"1261.22\" r=\"14\"/>\n",
       "<circle clip-path=\"url(#clip1405)\" style=\"fill:#fa9707; stroke:none; fill-opacity:0.4\" cx=\"341.124\" cy=\"1422.8\" r=\"14\"/>\n",
       "<circle clip-path=\"url(#clip1405)\" style=\"fill:#fa9707; stroke:none; fill-opacity:0.4\" cx=\"342.077\" cy=\"1422.8\" r=\"14\"/>\n",
       "<circle clip-path=\"url(#clip1405)\" style=\"fill:#fa9707; stroke:none; fill-opacity:0.4\" cx=\"346.302\" cy=\"1218.91\" r=\"14\"/>\n",
       "<circle clip-path=\"url(#clip1405)\" style=\"fill:#fa9707; stroke:none; fill-opacity:0.4\" cx=\"346.302\" cy=\"1422.8\" r=\"14\"/>\n",
       "<circle clip-path=\"url(#clip1405)\" style=\"fill:#fa9707; stroke:none; fill-opacity:0.4\" cx=\"346.705\" cy=\"1159.28\" r=\"14\"/>\n",
       "<circle clip-path=\"url(#clip1405)\" style=\"fill:#fa9707; stroke:none; fill-opacity:0.4\" cx=\"349.28\" cy=\"1218.91\" r=\"14\"/>\n",
       "<circle clip-path=\"url(#clip1405)\" style=\"fill:#fa9707; stroke:none; fill-opacity:0.4\" cx=\"351.215\" cy=\"1422.8\" r=\"14\"/>\n",
       "<circle clip-path=\"url(#clip1405)\" style=\"fill:#fa9707; stroke:none; fill-opacity:0.4\" cx=\"351.215\" cy=\"1422.8\" r=\"14\"/>\n",
       "<circle clip-path=\"url(#clip1405)\" style=\"fill:#fa9707; stroke:none; fill-opacity:0.4\" cx=\"351.215\" cy=\"1422.8\" r=\"14\"/>\n",
       "<circle clip-path=\"url(#clip1405)\" style=\"fill:#fa9707; stroke:none; fill-opacity:0.4\" cx=\"360.343\" cy=\"1320.86\" r=\"14\"/>\n",
       "<circle clip-path=\"url(#clip1405)\" style=\"fill:#fa9707; stroke:none; fill-opacity:0.4\" cx=\"370.808\" cy=\"989.753\" r=\"14\"/>\n",
       "<circle clip-path=\"url(#clip1405)\" style=\"fill:#fa9707; stroke:none; fill-opacity:0.4\" cx=\"379.744\" cy=\"1136.61\" r=\"14\"/>\n",
       "<circle clip-path=\"url(#clip1405)\" style=\"fill:#fa9707; stroke:none; fill-opacity:0.4\" cx=\"383.441\" cy=\"1422.8\" r=\"14\"/>\n",
       "<circle clip-path=\"url(#clip1405)\" style=\"fill:#fa9707; stroke:none; fill-opacity:0.4\" cx=\"389.215\" cy=\"1218.91\" r=\"14\"/>\n",
       "<circle clip-path=\"url(#clip1405)\" style=\"fill:#fa9707; stroke:none; fill-opacity:0.4\" cx=\"389.664\" cy=\"1136.61\" r=\"14\"/>\n",
       "<circle clip-path=\"url(#clip1405)\" style=\"fill:#fa9707; stroke:none; fill-opacity:0.4\" cx=\"398.009\" cy=\"1422.8\" r=\"14\"/>\n",
       "<circle clip-path=\"url(#clip1405)\" style=\"fill:#fa9707; stroke:none; fill-opacity:0.4\" cx=\"404.812\" cy=\"1261.22\" r=\"14\"/>\n",
       "<circle clip-path=\"url(#clip1405)\" style=\"fill:#fa9707; stroke:none; fill-opacity:0.4\" cx=\"417.601\" cy=\"1422.8\" r=\"14\"/>\n",
       "<circle clip-path=\"url(#clip1405)\" style=\"fill:#fa9707; stroke:none; fill-opacity:0.4\" cx=\"417.601\" cy=\"1422.8\" r=\"14\"/>\n",
       "<circle clip-path=\"url(#clip1405)\" style=\"fill:#fa9707; stroke:none; fill-opacity:0.4\" cx=\"417.601\" cy=\"1218.91\" r=\"14\"/>\n",
       "<circle clip-path=\"url(#clip1405)\" style=\"fill:#fa9707; stroke:none; fill-opacity:0.4\" cx=\"422.046\" cy=\"1422.8\" r=\"14\"/>\n",
       "<circle clip-path=\"url(#clip1405)\" style=\"fill:#fa9707; stroke:none; fill-opacity:0.4\" cx=\"433.047\" cy=\"1320.86\" r=\"14\"/>\n",
       "<circle clip-path=\"url(#clip1405)\" style=\"fill:#fa9707; stroke:none; fill-opacity:0.4\" cx=\"438.973\" cy=\"1320.86\" r=\"14\"/>\n",
       "<circle clip-path=\"url(#clip1405)\" style=\"fill:#fa9707; stroke:none; fill-opacity:0.4\" cx=\"449.827\" cy=\"1320.86\" r=\"14\"/>\n",
       "<circle clip-path=\"url(#clip1405)\" style=\"fill:#fa9707; stroke:none; fill-opacity:0.4\" cx=\"455.922\" cy=\"1186.1\" r=\"14\"/>\n",
       "<circle clip-path=\"url(#clip1405)\" style=\"fill:#fa9707; stroke:none; fill-opacity:0.4\" cx=\"456.402\" cy=\"1186.1\" r=\"14\"/>\n",
       "<circle clip-path=\"url(#clip1405)\" style=\"fill:#fa9707; stroke:none; fill-opacity:0.4\" cx=\"456.434\" cy=\"1320.86\" r=\"14\"/>\n",
       "<circle clip-path=\"url(#clip1405)\" style=\"fill:#fa9707; stroke:none; fill-opacity:0.4\" cx=\"461.774\" cy=\"1034.67\" r=\"14\"/>\n",
       "<circle clip-path=\"url(#clip1405)\" style=\"fill:#fa9707; stroke:none; fill-opacity:0.4\" cx=\"464.717\" cy=\"961.654\" r=\"14\"/>\n",
       "<circle clip-path=\"url(#clip1405)\" style=\"fill:#fa9707; stroke:none; fill-opacity:0.4\" cx=\"464.981\" cy=\"1422.8\" r=\"14\"/>\n",
       "<circle clip-path=\"url(#clip1405)\" style=\"fill:#fa9707; stroke:none; fill-opacity:0.4\" cx=\"471.198\" cy=\"1261.22\" r=\"14\"/>\n",
       "<circle clip-path=\"url(#clip1405)\" style=\"fill:#fa9707; stroke:none; fill-opacity:0.4\" cx=\"480.252\" cy=\"1320.86\" r=\"14\"/>\n",
       "<circle clip-path=\"url(#clip1405)\" style=\"fill:#fa9707; stroke:none; fill-opacity:0.4\" cx=\"480.327\" cy=\"1116.97\" r=\"14\"/>\n",
       "<circle clip-path=\"url(#clip1405)\" style=\"fill:#fa9707; stroke:none; fill-opacity:0.4\" cx=\"482.976\" cy=\"1186.1\" r=\"14\"/>\n",
       "<circle clip-path=\"url(#clip1405)\" style=\"fill:#fa9707; stroke:none; fill-opacity:0.4\" cx=\"483.987\" cy=\"1320.86\" r=\"14\"/>\n",
       "<circle clip-path=\"url(#clip1405)\" style=\"fill:#fa9707; stroke:none; fill-opacity:0.4\" cx=\"483.987\" cy=\"1422.8\" r=\"14\"/>\n",
       "<circle clip-path=\"url(#clip1405)\" style=\"fill:#fa9707; stroke:none; fill-opacity:0.4\" cx=\"483.987\" cy=\"1422.8\" r=\"14\"/>\n",
       "<circle clip-path=\"url(#clip1405)\" style=\"fill:#fa9707; stroke:none; fill-opacity:0.4\" cx=\"483.987\" cy=\"1320.86\" r=\"14\"/>\n",
       "<circle clip-path=\"url(#clip1405)\" style=\"fill:#fa9707; stroke:none; fill-opacity:0.4\" cx=\"483.987\" cy=\"1422.8\" r=\"14\"/>\n",
       "<circle clip-path=\"url(#clip1405)\" style=\"fill:#fa9707; stroke:none; fill-opacity:0.4\" cx=\"486.352\" cy=\"1159.28\" r=\"14\"/>\n",
       "<circle clip-path=\"url(#clip1405)\" style=\"fill:#fa9707; stroke:none; fill-opacity:0.4\" cx=\"495.268\" cy=\"1099.65\" r=\"14\"/>\n",
       "<circle clip-path=\"url(#clip1405)\" style=\"fill:#fa9707; stroke:none; fill-opacity:0.4\" cx=\"495.268\" cy=\"1320.86\" r=\"14\"/>\n",
       "<circle clip-path=\"url(#clip1405)\" style=\"fill:#fa9707; stroke:none; fill-opacity:0.4\" cx=\"505.359\" cy=\"1422.8\" r=\"14\"/>\n",
       "<circle clip-path=\"url(#clip1405)\" style=\"fill:#fa9707; stroke:none; fill-opacity:0.4\" cx=\"505.359\" cy=\"1422.8\" r=\"14\"/>\n",
       "<circle clip-path=\"url(#clip1405)\" style=\"fill:#fa9707; stroke:none; fill-opacity:0.4\" cx=\"505.359\" cy=\"1320.86\" r=\"14\"/>\n",
       "<circle clip-path=\"url(#clip1405)\" style=\"fill:#fa9707; stroke:none; fill-opacity:0.4\" cx=\"514.487\" cy=\"1186.1\" r=\"14\"/>\n",
       "<circle clip-path=\"url(#clip1405)\" style=\"fill:#fa9707; stroke:none; fill-opacity:0.4\" cx=\"514.487\" cy=\"1422.8\" r=\"14\"/>\n",
       "<circle clip-path=\"url(#clip1405)\" style=\"fill:#fa9707; stroke:none; fill-opacity:0.4\" cx=\"519.574\" cy=\"1422.8\" r=\"14\"/>\n",
       "<circle clip-path=\"url(#clip1405)\" style=\"fill:#fa9707; stroke:none; fill-opacity:0.4\" cx=\"522.82\" cy=\"1116.97\" r=\"14\"/>\n",
       "<circle clip-path=\"url(#clip1405)\" style=\"fill:#fa9707; stroke:none; fill-opacity:0.4\" cx=\"532.007\" cy=\"1045.57\" r=\"14\"/>\n",
       "<circle clip-path=\"url(#clip1405)\" style=\"fill:#fa9707; stroke:none; fill-opacity:0.4\" cx=\"537.584\" cy=\"1422.8\" r=\"14\"/>\n",
       "<circle clip-path=\"url(#clip1405)\" style=\"fill:#fa9707; stroke:none; fill-opacity:0.4\" cx=\"556.179\" cy=\"1261.22\" r=\"14\"/>\n",
       "<circle clip-path=\"url(#clip1405)\" style=\"fill:#fa9707; stroke:none; fill-opacity:0.4\" cx=\"557.522\" cy=\"1261.22\" r=\"14\"/>\n",
       "<circle clip-path=\"url(#clip1405)\" style=\"fill:#fa9707; stroke:none; fill-opacity:0.4\" cx=\"559.501\" cy=\"1218.91\" r=\"14\"/>\n",
       "<circle clip-path=\"url(#clip1405)\" style=\"fill:#fa9707; stroke:none; fill-opacity:0.4\" cx=\"561.654\" cy=\"1099.65\" r=\"14\"/>\n",
       "<circle clip-path=\"url(#clip1405)\" style=\"fill:#fa9707; stroke:none; fill-opacity:0.4\" cx=\"562.184\" cy=\"1422.8\" r=\"14\"/>\n",
       "<circle clip-path=\"url(#clip1405)\" style=\"fill:#fa9707; stroke:none; fill-opacity:0.4\" cx=\"571.745\" cy=\"1320.86\" r=\"14\"/>\n",
       "<circle clip-path=\"url(#clip1405)\" style=\"fill:#fa9707; stroke:none; fill-opacity:0.4\" cx=\"573.923\" cy=\"1136.61\" r=\"14\"/>\n",
       "<circle clip-path=\"url(#clip1405)\" style=\"fill:#fa9707; stroke:none; fill-opacity:0.4\" cx=\"596.851\" cy=\"1084.15\" r=\"14\"/>\n",
       "<circle clip-path=\"url(#clip1405)\" style=\"fill:#fa9707; stroke:none; fill-opacity:0.4\" cx=\"596.873\" cy=\"1024.52\" r=\"14\"/>\n",
       "<circle clip-path=\"url(#clip1405)\" style=\"fill:#fa9707; stroke:none; fill-opacity:0.4\" cx=\"596.873\" cy=\"1422.8\" r=\"14\"/>\n",
       "<circle clip-path=\"url(#clip1405)\" style=\"fill:#fa9707; stroke:none; fill-opacity:0.4\" cx=\"613.409\" cy=\"1218.91\" r=\"14\"/>\n",
       "<circle clip-path=\"url(#clip1405)\" style=\"fill:#fa9707; stroke:none; fill-opacity:0.4\" cx=\"616.759\" cy=\"1015.03\" r=\"14\"/>\n",
       "<circle clip-path=\"url(#clip1405)\" style=\"fill:#fa9707; stroke:none; fill-opacity:0.4\" cx=\"621.004\" cy=\"1186.1\" r=\"14\"/>\n",
       "<circle clip-path=\"url(#clip1405)\" style=\"fill:#fa9707; stroke:none; fill-opacity:0.4\" cx=\"626.803\" cy=\"1186.1\" r=\"14\"/>\n",
       "<circle clip-path=\"url(#clip1405)\" style=\"fill:#fa9707; stroke:none; fill-opacity:0.4\" cx=\"632.586\" cy=\"1070.13\" r=\"14\"/>\n",
       "<circle clip-path=\"url(#clip1405)\" style=\"fill:#fa9707; stroke:none; fill-opacity:0.4\" cx=\"638.131\" cy=\"1084.15\" r=\"14\"/>\n",
       "<circle clip-path=\"url(#clip1405)\" style=\"fill:#fa9707; stroke:none; fill-opacity:0.4\" cx=\"638.131\" cy=\"1218.91\" r=\"14\"/>\n",
       "<circle clip-path=\"url(#clip1405)\" style=\"fill:#fa9707; stroke:none; fill-opacity:0.4\" cx=\"638.131\" cy=\"1422.8\" r=\"14\"/>\n",
       "<circle clip-path=\"url(#clip1405)\" style=\"fill:#fa9707; stroke:none; fill-opacity:0.4\" cx=\"652.959\" cy=\"1116.97\" r=\"14\"/>\n",
       "<circle clip-path=\"url(#clip1405)\" style=\"fill:#fa9707; stroke:none; fill-opacity:0.4\" cx=\"656.821\" cy=\"1034.67\" r=\"14\"/>\n",
       "<circle clip-path=\"url(#clip1405)\" style=\"fill:#fa9707; stroke:none; fill-opacity:0.4\" cx=\"657.176\" cy=\"955.394\" r=\"14\"/>\n",
       "<circle clip-path=\"url(#clip1405)\" style=\"fill:#fa9707; stroke:none; fill-opacity:0.4\" cx=\"658.652\" cy=\"887.809\" r=\"14\"/>\n",
       "<circle clip-path=\"url(#clip1405)\" style=\"fill:#fa9707; stroke:none; fill-opacity:0.4\" cx=\"663.258\" cy=\"1070.13\" r=\"14\"/>\n",
       "<circle clip-path=\"url(#clip1405)\" style=\"fill:#fa9707; stroke:none; fill-opacity:0.4\" cx=\"666.873\" cy=\"1116.97\" r=\"14\"/>\n",
       "<circle clip-path=\"url(#clip1405)\" style=\"fill:#fa9707; stroke:none; fill-opacity:0.4\" cx=\"676.853\" cy=\"1320.86\" r=\"14\"/>\n",
       "<circle clip-path=\"url(#clip1405)\" style=\"fill:#fa9707; stroke:none; fill-opacity:0.4\" cx=\"679.91\" cy=\"982.209\" r=\"14\"/>\n",
       "<circle clip-path=\"url(#clip1405)\" style=\"fill:#fa9707; stroke:none; fill-opacity:0.4\" cx=\"681.713\" cy=\"1261.22\" r=\"14\"/>\n",
       "<circle clip-path=\"url(#clip1405)\" style=\"fill:#fa9707; stroke:none; fill-opacity:0.4\" cx=\"683.486\" cy=\"1099.65\" r=\"14\"/>\n",
       "<circle clip-path=\"url(#clip1405)\" style=\"fill:#fa9707; stroke:none; fill-opacity:0.4\" cx=\"687.373\" cy=\"1218.91\" r=\"14\"/>\n",
       "<circle clip-path=\"url(#clip1405)\" style=\"fill:#fa9707; stroke:none; fill-opacity:0.4\" cx=\"687.604\" cy=\"955.394\" r=\"14\"/>\n",
       "<circle clip-path=\"url(#clip1405)\" style=\"fill:#fa9707; stroke:none; fill-opacity:0.4\" cx=\"691.176\" cy=\"922.576\" r=\"14\"/>\n",
       "<circle clip-path=\"url(#clip1405)\" style=\"fill:#fa9707; stroke:none; fill-opacity:0.4\" cx=\"693.14\" cy=\"989.753\" r=\"14\"/>\n",
       "<circle clip-path=\"url(#clip1405)\" style=\"fill:#fa9707; stroke:none; fill-opacity:0.4\" cx=\"699.604\" cy=\"1099.65\" r=\"14\"/>\n",
       "<circle clip-path=\"url(#clip1405)\" style=\"fill:#fa9707; stroke:none; fill-opacity:0.4\" cx=\"707.58\" cy=\"1186.1\" r=\"14\"/>\n",
       "<circle clip-path=\"url(#clip1405)\" style=\"fill:#fa9707; stroke:none; fill-opacity:0.4\" cx=\"716.856\" cy=\"1261.22\" r=\"14\"/>\n",
       "<circle clip-path=\"url(#clip1405)\" style=\"fill:#fa9707; stroke:none; fill-opacity:0.4\" cx=\"718.525\" cy=\"917.753\" r=\"14\"/>\n",
       "<circle clip-path=\"url(#clip1405)\" style=\"fill:#fa9707; stroke:none; fill-opacity:0.4\" cx=\"719.144\" cy=\"1218.91\" r=\"14\"/>\n",
       "<circle clip-path=\"url(#clip1405)\" style=\"fill:#fa9707; stroke:none; fill-opacity:0.4\" cx=\"725.888\" cy=\"1099.65\" r=\"14\"/>\n",
       "<circle clip-path=\"url(#clip1405)\" style=\"fill:#fa9707; stroke:none; fill-opacity:0.4\" cx=\"735.017\" cy=\"1045.57\" r=\"14\"/>\n",
       "<circle clip-path=\"url(#clip1405)\" style=\"fill:#fa9707; stroke:none; fill-opacity:0.4\" cx=\"735.017\" cy=\"1218.91\" r=\"14\"/>\n",
       "<circle clip-path=\"url(#clip1405)\" style=\"fill:#fa9707; stroke:none; fill-opacity:0.4\" cx=\"735.884\" cy=\"982.209\" r=\"14\"/>\n",
       "<circle clip-path=\"url(#clip1405)\" style=\"fill:#fa9707; stroke:none; fill-opacity:0.4\" cx=\"739.191\" cy=\"989.753\" r=\"14\"/>\n",
       "<circle clip-path=\"url(#clip1405)\" style=\"fill:#fa9707; stroke:none; fill-opacity:0.4\" cx=\"745.283\" cy=\"1422.8\" r=\"14\"/>\n",
       "<circle clip-path=\"url(#clip1405)\" style=\"fill:#fa9707; stroke:none; fill-opacity:0.4\" cx=\"753.561\" cy=\"1015.03\" r=\"14\"/>\n",
       "<circle clip-path=\"url(#clip1405)\" style=\"fill:#fa9707; stroke:none; fill-opacity:0.4\" cx=\"753.919\" cy=\"1422.8\" r=\"14\"/>\n",
       "<circle clip-path=\"url(#clip1405)\" style=\"fill:#fa9707; stroke:none; fill-opacity:0.4\" cx=\"760.349\" cy=\"908.558\" r=\"14\"/>\n",
       "<circle clip-path=\"url(#clip1405)\" style=\"fill:#fa9707; stroke:none; fill-opacity:0.4\" cx=\"764.721\" cy=\"1218.91\" r=\"14\"/>\n",
       "<circle clip-path=\"url(#clip1405)\" style=\"fill:#fa9707; stroke:none; fill-opacity:0.4\" cx=\"765.126\" cy=\"833.429\" r=\"14\"/>\n",
       "<circle clip-path=\"url(#clip1405)\" style=\"fill:#fa9707; stroke:none; fill-opacity:0.4\" cx=\"771.559\" cy=\"922.576\" r=\"14\"/>\n",
       "<circle clip-path=\"url(#clip1405)\" style=\"fill:#fa9707; stroke:none; fill-opacity:0.4\" cx=\"782.396\" cy=\"1057.34\" r=\"14\"/>\n",
       "<circle clip-path=\"url(#clip1405)\" style=\"fill:#fa9707; stroke:none; fill-opacity:0.4\" cx=\"784.418\" cy=\"975.033\" r=\"14\"/>\n",
       "<circle clip-path=\"url(#clip1405)\" style=\"fill:#fa9707; stroke:none; fill-opacity:0.4\" cx=\"799.601\" cy=\"1070.13\" r=\"14\"/>\n",
       "<circle clip-path=\"url(#clip1405)\" style=\"fill:#fa9707; stroke:none; fill-opacity:0.4\" cx=\"817.917\" cy=\"1015.03\" r=\"14\"/>\n",
       "<circle clip-path=\"url(#clip1405)\" style=\"fill:#fa9707; stroke:none; fill-opacity:0.4\" cx=\"827.198\" cy=\"975.033\" r=\"14\"/>\n",
       "<circle clip-path=\"url(#clip1405)\" style=\"fill:#fa9707; stroke:none; fill-opacity:0.4\" cx=\"827.861\" cy=\"1218.91\" r=\"14\"/>\n",
       "<circle clip-path=\"url(#clip1405)\" style=\"fill:#fa9707; stroke:none; fill-opacity:0.4\" cx=\"833.628\" cy=\"1218.91\" r=\"14\"/>\n",
       "<circle clip-path=\"url(#clip1405)\" style=\"fill:#fa9707; stroke:none; fill-opacity:0.4\" cx=\"845.652\" cy=\"1006.11\" r=\"14\"/>\n",
       "<circle clip-path=\"url(#clip1405)\" style=\"fill:#fa9707; stroke:none; fill-opacity:0.4\" cx=\"858.66\" cy=\"922.576\" r=\"14\"/>\n",
       "<circle clip-path=\"url(#clip1405)\" style=\"fill:#fa9707; stroke:none; fill-opacity:0.4\" cx=\"880.032\" cy=\"1099.65\" r=\"14\"/>\n",
       "<circle clip-path=\"url(#clip1405)\" style=\"fill:#fa9707; stroke:none; fill-opacity:0.4\" cx=\"956.585\" cy=\"961.654\" r=\"14\"/>\n",
       "<circle clip-path=\"url(#clip1405)\" style=\"fill:#fa9707; stroke:none; fill-opacity:0.4\" cx=\"1030.27\" cy=\"1218.91\" r=\"14\"/>\n",
       "<circle clip-path=\"url(#clip1405)\" style=\"fill:#fa9707; stroke:none; fill-opacity:0.4\" cx=\"1083.76\" cy=\"975.033\" r=\"14\"/>\n",
       "<polyline clip-path=\"url(#clip1405)\" style=\"stroke:#000000; stroke-width:4; stroke-opacity:1; fill:none\" points=\"\n",
       "  341.124,1330.74 1083.76,915.886 \n",
       "  \"/>\n",
       "<polygon clip-path=\"url(#clip1401)\" points=\"\n",
       "1352.75,1440.48 2321.26,1440.48 2321.26,815.748 1352.75,815.748 \n",
       "  \" fill=\"#ffffff\" fill-rule=\"evenodd\" fill-opacity=\"1\"/>\n",
       "<defs>\n",
       "  <clipPath id=\"clip1406\">\n",
       "    <rect x=\"1352\" y=\"815\" width=\"970\" height=\"626\"/>\n",
       "  </clipPath>\n",
       "</defs>\n",
       "<polyline clip-path=\"url(#clip1401)\" style=\"stroke:#000000; stroke-width:4; stroke-opacity:0; fill:none\" points=\"\n",
       "  1352.75,1440.48 2321.26,1440.48 \n",
       "  \"/>\n",
       "<polyline clip-path=\"url(#clip1401)\" style=\"stroke:#000000; stroke-width:4; stroke-opacity:0; fill:none\" points=\"\n",
       "  1352.75,1440.48 1352.75,815.748 \n",
       "  \"/>\n",
       "<polyline clip-path=\"url(#clip1401)\" style=\"stroke:#000000; stroke-width:4; stroke-opacity:1; fill:none\" points=\"\n",
       "  1406.02,1440.48 1406.02,1431.11 \n",
       "  \"/>\n",
       "<polyline clip-path=\"url(#clip1401)\" style=\"stroke:#000000; stroke-width:4; stroke-opacity:1; fill:none\" points=\"\n",
       "  1578.41,1440.48 1578.41,1431.11 \n",
       "  \"/>\n",
       "<polyline clip-path=\"url(#clip1401)\" style=\"stroke:#000000; stroke-width:4; stroke-opacity:1; fill:none\" points=\"\n",
       "  1750.81,1440.48 1750.81,1431.11 \n",
       "  \"/>\n",
       "<polyline clip-path=\"url(#clip1401)\" style=\"stroke:#000000; stroke-width:4; stroke-opacity:1; fill:none\" points=\"\n",
       "  1923.2,1440.48 1923.2,1431.11 \n",
       "  \"/>\n",
       "<polyline clip-path=\"url(#clip1401)\" style=\"stroke:#000000; stroke-width:4; stroke-opacity:1; fill:none\" points=\"\n",
       "  2095.6,1440.48 2095.6,1431.11 \n",
       "  \"/>\n",
       "<polyline clip-path=\"url(#clip1401)\" style=\"stroke:#000000; stroke-width:4; stroke-opacity:1; fill:none\" points=\"\n",
       "  2267.99,1440.48 2267.99,1431.11 \n",
       "  \"/>\n",
       "<polyline clip-path=\"url(#clip1401)\" style=\"stroke:#000000; stroke-width:4; stroke-opacity:1; fill:none\" points=\"\n",
       "  1352.75,1422.8 1367.27,1422.8 \n",
       "  \"/>\n",
       "<polyline clip-path=\"url(#clip1401)\" style=\"stroke:#000000; stroke-width:4; stroke-opacity:1; fill:none\" points=\"\n",
       "  1352.75,1263.51 1367.27,1263.51 \n",
       "  \"/>\n",
       "<polyline clip-path=\"url(#clip1401)\" style=\"stroke:#000000; stroke-width:4; stroke-opacity:1; fill:none\" points=\"\n",
       "  1352.75,1104.22 1367.27,1104.22 \n",
       "  \"/>\n",
       "<polyline clip-path=\"url(#clip1401)\" style=\"stroke:#000000; stroke-width:4; stroke-opacity:1; fill:none\" points=\"\n",
       "  1352.75,944.932 1367.27,944.932 \n",
       "  \"/>\n",
       "<g clip-path=\"url(#clip1401)\">\n",
       "<text style=\"fill:#000000; fill-opacity:1; font-family:Arial,Helvetica Neue,Helvetica,sans-serif; font-size:48px; text-anchor:middle;\" transform=\"rotate(0, 1406.02, 1494.48)\" x=\"1406.02\" y=\"1494.48\">0</text>\n",
       "</g>\n",
       "<g clip-path=\"url(#clip1401)\">\n",
       "<text style=\"fill:#000000; fill-opacity:1; font-family:Arial,Helvetica Neue,Helvetica,sans-serif; font-size:48px; text-anchor:middle;\" transform=\"rotate(0, 1578.41, 1494.48)\" x=\"1578.41\" y=\"1494.48\">1</text>\n",
       "</g>\n",
       "<g clip-path=\"url(#clip1401)\">\n",
       "<text style=\"fill:#000000; fill-opacity:1; font-family:Arial,Helvetica Neue,Helvetica,sans-serif; font-size:48px; text-anchor:middle;\" transform=\"rotate(0, 1750.81, 1494.48)\" x=\"1750.81\" y=\"1494.48\">2</text>\n",
       "</g>\n",
       "<g clip-path=\"url(#clip1401)\">\n",
       "<text style=\"fill:#000000; fill-opacity:1; font-family:Arial,Helvetica Neue,Helvetica,sans-serif; font-size:48px; text-anchor:middle;\" transform=\"rotate(0, 1923.2, 1494.48)\" x=\"1923.2\" y=\"1494.48\">3</text>\n",
       "</g>\n",
       "<g clip-path=\"url(#clip1401)\">\n",
       "<text style=\"fill:#000000; fill-opacity:1; font-family:Arial,Helvetica Neue,Helvetica,sans-serif; font-size:48px; text-anchor:middle;\" transform=\"rotate(0, 2095.6, 1494.48)\" x=\"2095.6\" y=\"1494.48\">4</text>\n",
       "</g>\n",
       "<g clip-path=\"url(#clip1401)\">\n",
       "<text style=\"fill:#000000; fill-opacity:1; font-family:Arial,Helvetica Neue,Helvetica,sans-serif; font-size:48px; text-anchor:middle;\" transform=\"rotate(0, 2267.99, 1494.48)\" x=\"2267.99\" y=\"1494.48\">5</text>\n",
       "</g>\n",
       "<g clip-path=\"url(#clip1401)\">\n",
       "<text style=\"fill:#000000; fill-opacity:1; font-family:Arial,Helvetica Neue,Helvetica,sans-serif; font-size:48px; text-anchor:end;\" transform=\"rotate(0, 1328.75, 1440.3)\" x=\"1328.75\" y=\"1440.3\"></text>\n",
       "</g>\n",
       "<g clip-path=\"url(#clip1401)\">\n",
       "<text style=\"fill:#000000; fill-opacity:1; font-family:Arial,Helvetica Neue,Helvetica,sans-serif; font-size:48px; text-anchor:end;\" transform=\"rotate(0, 1328.75, 1281.01)\" x=\"1328.75\" y=\"1281.01\"></text>\n",
       "</g>\n",
       "<g clip-path=\"url(#clip1401)\">\n",
       "<text style=\"fill:#000000; fill-opacity:1; font-family:Arial,Helvetica Neue,Helvetica,sans-serif; font-size:48px; text-anchor:end;\" transform=\"rotate(0, 1328.75, 1121.72)\" x=\"1328.75\" y=\"1121.72\"></text>\n",
       "</g>\n",
       "<g clip-path=\"url(#clip1401)\">\n",
       "<text style=\"fill:#000000; fill-opacity:1; font-family:Arial,Helvetica Neue,Helvetica,sans-serif; font-size:48px; text-anchor:end;\" transform=\"rotate(0, 1328.75, 962.432)\" x=\"1328.75\" y=\"962.432\"></text>\n",
       "</g>\n",
       "<g clip-path=\"url(#clip1401)\">\n",
       "<text style=\"fill:#000000; fill-opacity:1; font-family:Arial,Helvetica Neue,Helvetica,sans-serif; font-size:66px; text-anchor:middle;\" transform=\"rotate(0, 1837, 1590.4)\" x=\"1837\" y=\"1590.4\">lnduration</text>\n",
       "</g>\n",
       "<polygon clip-path=\"url(#clip1406)\" points=\"\n",
       "1406.02,833.429 1406.02,1422.8 1578.41,1422.8 1578.41,833.429 1406.02,833.429 1406.02,833.429 \n",
       "  \" fill=\"#000000\" fill-rule=\"evenodd\" fill-opacity=\"1\"/>\n",
       "<polyline clip-path=\"url(#clip1406)\" style=\"stroke:#000000; stroke-width:4; stroke-opacity:1; fill:none\" points=\"\n",
       "  1406.02,833.429 1406.02,1422.8 1578.41,1422.8 1578.41,833.429 1406.02,833.429 \n",
       "  \"/>\n",
       "<polygon clip-path=\"url(#clip1406)\" points=\"\n",
       "1578.41,897.145 1578.41,1422.8 1750.81,1422.8 1750.81,897.145 1578.41,897.145 1578.41,897.145 \n",
       "  \" fill=\"#000000\" fill-rule=\"evenodd\" fill-opacity=\"1\"/>\n",
       "<polyline clip-path=\"url(#clip1406)\" style=\"stroke:#000000; stroke-width:4; stroke-opacity:1; fill:none\" points=\"\n",
       "  1578.41,897.145 1578.41,1422.8 1750.81,1422.8 1750.81,897.145 1578.41,897.145 \n",
       "  \"/>\n",
       "<polygon clip-path=\"url(#clip1406)\" points=\"\n",
       "1750.81,944.932 1750.81,1422.8 1923.2,1422.8 1923.2,944.932 1750.81,944.932 1750.81,944.932 \n",
       "  \" fill=\"#000000\" fill-rule=\"evenodd\" fill-opacity=\"1\"/>\n",
       "<polyline clip-path=\"url(#clip1406)\" style=\"stroke:#000000; stroke-width:4; stroke-opacity:1; fill:none\" points=\"\n",
       "  1750.81,944.932 1750.81,1422.8 1923.2,1422.8 1923.2,944.932 1750.81,944.932 \n",
       "  \"/>\n",
       "<polygon clip-path=\"url(#clip1406)\" points=\"\n",
       "1923.2,1215.72 1923.2,1422.8 2095.6,1422.8 2095.6,1215.72 1923.2,1215.72 1923.2,1215.72 \n",
       "  \" fill=\"#000000\" fill-rule=\"evenodd\" fill-opacity=\"1\"/>\n",
       "<polyline clip-path=\"url(#clip1406)\" style=\"stroke:#000000; stroke-width:4; stroke-opacity:1; fill:none\" points=\"\n",
       "  1923.2,1215.72 1923.2,1422.8 2095.6,1422.8 2095.6,1215.72 1923.2,1215.72 \n",
       "  \"/>\n",
       "<polygon clip-path=\"url(#clip1406)\" points=\"\n",
       "2095.6,1406.87 2095.6,1422.8 2267.99,1422.8 2267.99,1406.87 2095.6,1406.87 2095.6,1406.87 \n",
       "  \" fill=\"#000000\" fill-rule=\"evenodd\" fill-opacity=\"1\"/>\n",
       "<polyline clip-path=\"url(#clip1406)\" style=\"stroke:#000000; stroke-width:4; stroke-opacity:1; fill:none\" points=\"\n",
       "  2095.6,1406.87 2095.6,1422.8 2267.99,1422.8 2267.99,1406.87 2095.6,1406.87 \n",
       "  \"/>\n",
       "</svg>\n"
      ]
     },
     "execution_count": 55,
     "metadata": {},
     "output_type": "execute_result"
    }
   ],
   "source": [
    "@df df2 corrplot([:lnbdb :lnduration], grid = false)"
   ]
  },
  {
   "cell_type": "code",
   "execution_count": null,
   "metadata": {},
   "outputs": [],
   "source": []
  }
 ],
 "metadata": {
  "kernelspec": {
   "display_name": "Julia 1.5.3",
   "language": "julia",
   "name": "julia-1.5"
  },
  "language_info": {
   "file_extension": ".jl",
   "mimetype": "application/julia",
   "name": "julia",
   "version": "1.5.3"
  }
 },
 "nbformat": 4,
 "nbformat_minor": 2
}
